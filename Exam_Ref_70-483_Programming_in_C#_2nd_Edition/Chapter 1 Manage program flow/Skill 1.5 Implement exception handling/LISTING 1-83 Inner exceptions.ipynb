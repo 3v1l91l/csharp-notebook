{
 "cells": [
  {
   "cell_type": "markdown",
   "metadata": {},
   "source": [
    "# Info"
   ]
  },
  {
   "cell_type": "markdown",
   "metadata": {},
   "source": [
    "This example is from\n",
    "* [github.com/ExamRef70-483/Sample-Code](https://github.com/ExamRef70-483/Sample-Code)\n",
    "* [LISTING 1-83 Inner exceptions](https://github.com/ExamRef70-483/Sample-Code/blob/master/LISTING%201-83%E2%80%82Inner%20exceptions/LISTING%201-83%E2%80%82Inner%20exceptions/Program.cs)\n",
    "\n",
    "\n",
    "## Remember\n",
    "* Main() is not called automatically. Has to be called manual. Remember '**public**'\n",
    "* Console.ReadKey() should not be used.\n"
   ]
  },
  {
   "cell_type": "code",
   "execution_count": 1,
   "metadata": {},
   "outputs": [
    {
     "data": {
      "text/html": [
       "(14,34): error CS0584: Internal compiler error: The method or operation is not implemented."
      ],
      "text/plain": [
       "(14,34): error CS0584: Internal compiler error: The method or operation is not implemented."
      ]
     },
     "metadata": {},
     "output_type": "display_data"
    }
   ],
   "source": [
    "using System;\n",
    "\n",
    "namespace LISTING_1_83_Inner_exceptions\n",
    "{\n",
    "    class Program\n",
    "    {\n",
    "        static public void Main(string[] args)\n",
    "        {\n",
    "            try\n",
    "            {\n",
    "                try\n",
    "                {\n",
    "                    Console.Write(\"Enter an integer: \");\n",
    "                    string numberText = Console.ReadLine();\n",
    "                    int result;\n",
    "                    result = int.Parse(numberText);\n",
    "                }\n",
    "                catch (Exception ex)\n",
    "                {\n",
    "                    throw new Exception(\"Calculator failure\", ex);\n",
    "                }\n",
    "            }\n",
    "            catch (Exception ex)\n",
    "            {\n",
    "                Console.WriteLine(ex.Message);\n",
    "                Console.WriteLine(ex.InnerException.Message);\n",
    "                Console.WriteLine(ex.InnerException.StackTrace);\n",
    "            }\n",
    "\n",
    "            //Console.ReadKey();\n",
    "        }\n",
    "    }\n",
    "}\n"
   ]
  },
  {
   "cell_type": "code",
   "execution_count": 2,
   "metadata": {},
   "outputs": [],
   "source": [
    "LISTING_1_83_Inner_exceptions.Program.Main(new string[0]);"
   ]
  }
 ],
 "metadata": {
  "kernelspec": {
   "display_name": "C#",
   "language": "csharp",
   "name": "kernel-spec"
  },
  "language_info": {
   "file_extension": ".cs",
   "mimetype": "text/x-csharp",
   "name": "C#",
   "pygments_lexer": "c#",
   "version": "4.0.30319"
  }
 },
 "nbformat": 4,
 "nbformat_minor": 2
}

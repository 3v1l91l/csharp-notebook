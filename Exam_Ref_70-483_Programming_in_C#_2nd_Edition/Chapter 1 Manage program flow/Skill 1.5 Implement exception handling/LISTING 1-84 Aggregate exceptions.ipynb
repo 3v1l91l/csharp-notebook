{
 "cells": [
  {
   "cell_type": "markdown",
   "metadata": {},
   "source": [
    "# Info"
   ]
  },
  {
   "cell_type": "markdown",
   "metadata": {},
   "source": [
    "This example is from\n",
    "* [github.com/ExamRef70-483/Sample-Code](https://github.com/ExamRef70-483/Sample-Code)\n",
    "* [LISTING 1-84 Aggregate exceptions](https://github.com/ExamRef70-483/Sample-Code/blob/master/LISTING%201-84%E2%80%82Aggregate%20exceptions/LISTING%201-84%E2%80%82Aggregate%20exceptions/Program.cs)\n",
    "\n",
    "\n",
    "## Remember\n",
    "* Main() is not called automatically. Has to be called manual. Remember '**public**'\n",
    "* Console.ReadKey() should not be used.\n"
   ]
  },
  {
   "cell_type": "code",
   "execution_count": 1,
   "metadata": {},
   "outputs": [],
   "source": [
    "using System;\n",
    "using System.Net.Http;\n",
    "using System.Threading.Tasks;\n",
    "\n",
    "namespace LISTING_1_84_Aggregate_exceptions\n",
    "{\n",
    "    class Program\n",
    "    {\n",
    "        async static Task<string> FetchWebPage(string uri)\n",
    "        {\n",
    "            var httpClient = new HttpClient();\n",
    "            var response = await httpClient.GetAsync(uri);\n",
    "            return await response.Content.ReadAsStringAsync();\n",
    "        }\n",
    "\n",
    "        static public void Main(string[] args)\n",
    "        {\n",
    "            try\n",
    "            {\n",
    "                Task<string> getpage = FetchWebPage(\"invalid uri\");\n",
    "\n",
    "                getpage.Wait();\n",
    "\n",
    "                Console.WriteLine(getpage.Result);\n",
    "            }\n",
    "            catch ( AggregateException ag)\n",
    "            {\n",
    "                foreach(Exception e in ag.InnerExceptions)\n",
    "                {\n",
    "                    Console.WriteLine(e.Message);\n",
    "                }\n",
    "            }\n",
    "            //Console.ReadKey();\n",
    "        }\n",
    "    }\n",
    "}\n"
   ]
  },
  {
   "cell_type": "code",
   "execution_count": 2,
   "metadata": {},
   "outputs": [
    {
     "data": {
      "text/html": [
       "The request URI must either be an absolute URI or BaseAddress must be set"
      ],
      "text/plain": [
       "The request URI must either be an absolute URI or BaseAddress must be set"
      ]
     },
     "metadata": {},
     "output_type": "display_data"
    }
   ],
   "source": [
    "LISTING_1_84_Aggregate_exceptions.Program.Main(new string[0]);"
   ]
  }
 ],
 "metadata": {
  "kernelspec": {
   "display_name": "C#",
   "language": "csharp",
   "name": "kernel-spec"
  },
  "language_info": {
   "file_extension": ".cs",
   "mimetype": "text/x-csharp",
   "name": "C#",
   "pygments_lexer": "c#",
   "version": "4.0.30319"
  }
 },
 "nbformat": 4,
 "nbformat_minor": 2
}

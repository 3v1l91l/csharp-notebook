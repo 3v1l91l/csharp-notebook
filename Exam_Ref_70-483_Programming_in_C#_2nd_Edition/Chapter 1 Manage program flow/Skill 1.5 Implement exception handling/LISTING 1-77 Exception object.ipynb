{
 "cells": [
  {
   "cell_type": "markdown",
   "metadata": {},
   "source": [
    "# Info"
   ]
  },
  {
   "cell_type": "markdown",
   "metadata": {},
   "source": [
    "This example is from\n",
    "* [github.com/ExamRef70-483/Sample-Code](https://github.com/ExamRef70-483/Sample-Code)\n",
    "* [LISTING 1-77 Exception object](https://github.com/ExamRef70-483/Sample-Code/blob/master/LISTING%201-77%E2%80%82Exception%20object/LISTING%201-77%E2%80%82Exception%20object/Program.cs)\n",
    "\n",
    "\n",
    "## Remember\n",
    "* Main() is not called automatically. Has to be called manual. Remember '**public**'\n",
    "* Console.ReadKey() should not be used.\n"
   ]
  },
  {
   "cell_type": "code",
   "execution_count": 1,
   "metadata": {},
   "outputs": [
    {
     "data": {
      "text/html": [
       "(12,30): error CS0584: Internal compiler error: The method or operation is not implemented."
      ],
      "text/plain": [
       "(12,30): error CS0584: Internal compiler error: The method or operation is not implemented."
      ]
     },
     "metadata": {},
     "output_type": "display_data"
    }
   ],
   "source": [
    "using System;\n",
    "\n",
    "namespace LISTING_1_77_Exception_object\n",
    "{\n",
    "    class Program\n",
    "    {\n",
    "        static public void Main(string[] args)\n",
    "        {\n",
    "            try\n",
    "            {\n",
    "                Console.Write(\"Enter an integer: \");\n",
    "                string numberText = Console.ReadLine();\n",
    "                int result;\n",
    "                result = int.Parse(numberText);\n",
    "                Console.WriteLine(\"You entered {0}\", result);\n",
    "            }\n",
    "            catch(Exception ex)\n",
    "            {\n",
    "                Console.WriteLine(\"Message: \" + ex.Message);\n",
    "                Console.WriteLine(\"Stacktrace: \" + ex.StackTrace);\n",
    "                Console.WriteLine(\"HelpLink: \" + ex.HelpLink);\n",
    "                Console.WriteLine(\"TargetSite: \" + ex.TargetSite);\n",
    "                Console.WriteLine(\"Source:\" + ex.Source);\n",
    "            }\n",
    "\n",
    "            //Console.ReadKey();\n",
    "        }\n",
    "    }\n",
    "}\n"
   ]
  },
  {
   "cell_type": "code",
   "execution_count": 2,
   "metadata": {},
   "outputs": [],
   "source": [
    "LISTING_1_77_Exception_object.Program.Main(new string[0]);"
   ]
  }
 ],
 "metadata": {
  "kernelspec": {
   "display_name": "C#",
   "language": "csharp",
   "name": "kernel-spec"
  },
  "language_info": {
   "file_extension": ".cs",
   "mimetype": "text/x-csharp",
   "name": "C#",
   "pygments_lexer": "c#",
   "version": "4.0.30319"
  }
 },
 "nbformat": 4,
 "nbformat_minor": 2
}

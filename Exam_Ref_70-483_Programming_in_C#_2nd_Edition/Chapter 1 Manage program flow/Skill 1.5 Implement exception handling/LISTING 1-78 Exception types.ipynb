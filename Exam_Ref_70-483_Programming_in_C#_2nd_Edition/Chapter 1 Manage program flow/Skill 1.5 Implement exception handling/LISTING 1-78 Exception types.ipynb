{
 "cells": [
  {
   "cell_type": "markdown",
   "metadata": {},
   "source": [
    "# Info"
   ]
  },
  {
   "cell_type": "markdown",
   "metadata": {},
   "source": [
    "This example is from\n",
    "* [github.com/ExamRef70-483/Sample-Code](https://github.com/ExamRef70-483/Sample-Code)\n",
    "* [LISTING 1-78 Exception types](https://github.com/ExamRef70-483/Sample-Code/blob/master/LISTING%201-78%E2%80%82Exception%20types/LISTING%201-78%E2%80%82Exception%20types/Program.cs)\n",
    "\n",
    "\n",
    "## Remember\n",
    "* Main() is not called automatically. Has to be called manual. Remember '**public**'\n",
    "* Console.ReadKey() should not be used.\n"
   ]
  },
  {
   "cell_type": "code",
   "execution_count": null,
   "metadata": {},
   "outputs": [],
   "source": [
    "using System;\n",
    "\n",
    "namespace LISTING_1_78_Exception_types\n",
    "{\n",
    "    class Program\n",
    "    {\n",
    "        static public void Main(string[] args)\n",
    "        {\n",
    "            try\n",
    "            {\n",
    "                Console.Write(\"Enter an integer: \");\n",
    "                string numberText = Console.ReadLine();\n",
    "                int result;\n",
    "                result = int.Parse(numberText);\n",
    "                Console.WriteLine(\"You entered {0}\", result);\n",
    "                int sum = 1 / result;\n",
    "                Console.WriteLine(\"Sum is {0}\", sum);\n",
    "            }\n",
    "            catch (NotFiniteNumberException nx)\n",
    "            {\n",
    "                Console.WriteLine(\"Invalid number\");\n",
    "            }\n",
    "            catch (DivideByZeroException zx)\n",
    "            {\n",
    "                Console.WriteLine(\"Divide by zero\");\n",
    "            }\n",
    "            catch (Exception ex)\n",
    "            {\n",
    "                Console.WriteLine(\"Unexpected exception\");\n",
    "            }\n",
    "\n",
    "            //Console.ReadKey();\n",
    "        }\n",
    "    }\n",
    "}\n"
   ]
  },
  {
   "cell_type": "code",
   "execution_count": null,
   "metadata": {},
   "outputs": [],
   "source": [
    "LISTING_1_78_Exception_types.Program.Main(new string[0]);"
   ]
  }
 ],
 "metadata": {
  "kernelspec": {
   "display_name": "C#",
   "language": "csharp",
   "name": "kernel-spec"
  },
  "language_info": {
   "file_extension": ".cs",
   "mimetype": "text/x-csharp",
   "name": "C#",
   "pygments_lexer": "c#",
   "version": "4.0.30319"
  }
 },
 "nbformat": 4,
 "nbformat_minor": 2
}

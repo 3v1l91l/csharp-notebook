{
 "cells": [
  {
   "cell_type": "markdown",
   "metadata": {},
   "source": [
    "# Info"
   ]
  },
  {
   "cell_type": "markdown",
   "metadata": {},
   "source": [
    "This example is from\n",
    "* [github.com/ExamRef70-483/Sample-Code](https://github.com/ExamRef70-483/Sample-Code)\n",
    "* [LISTING 1-3 ParallelFor in use](https://github.com/ExamRef70-483/Sample-Code/blob/master/LISTING%201-3%E2%80%82ParallelFor%20in%20use/LISTING%201-3%E2%80%82ParallelFor%20in%20use/Program.cs)\n",
    "\n",
    "\n",
    "## Remember\n",
    "* Main() is not called automatically. Has to be called manual. Remember '**public**'\n",
    "* Console.ReadKey() should not be used.\n"
   ]
  },
  {
   "cell_type": "code",
   "execution_count": 1,
   "metadata": {},
   "outputs": [],
   "source": [
    "using System;\n",
    "using System.Linq;\n",
    "using System.Threading;\n",
    "using System.Threading.Tasks;\n",
    "\n",
    "namespace LISTING_1_3_ParallelFor_in_use\n",
    "{\n",
    "    class Program\n",
    "    {\n",
    "        static void WorkOnItem(object item)\n",
    "        {\n",
    "            Console.WriteLine(\"Started working on: \" + item);\n",
    "            Thread.Sleep(100);\n",
    "            Console.WriteLine(\"Finished working on: \" + item);\n",
    "        }\n",
    "\n",
    "        static public void Main(string[] args)\n",
    "        {\n",
    "            var items = Enumerable.Range(0, 500).ToArray();\n",
    "\n",
    "            Parallel.For(0, items.Length, i =>\n",
    "            {\n",
    "                WorkOnItem(items[i]);\n",
    "            });\n",
    "\n",
    "            Console.WriteLine(\"Finished processing. Press a key to end.\");\n",
    "            //Console.ReadKey();\n",
    "        }\n",
    "    }\n",
    "}\n"
   ]
  },
  {
   "cell_type": "code",
   "execution_count": 2,
   "metadata": {},
   "outputs": [
    {
     "data": {
      "text/html": [
       "Started working on: 375"
      ],
      "text/plain": [
       "Started working on: 375"
      ]
     },
     "metadata": {},
     "output_type": "display_data"
    },
    {
     "data": {
      "text/html": [
       "Started working on: 251"
      ],
      "text/plain": [
       "Started working on: 251"
      ]
     },
     "metadata": {},
     "output_type": "display_data"
    },
    {
     "data": {
      "text/html": [
       "Started working on: 1"
      ],
      "text/plain": [
       "Started working on: 1"
      ]
     },
     "metadata": {},
     "output_type": "display_data"
    },
    {
     "data": {
      "text/html": [
       "Started working on: 376"
      ],
      "text/plain": [
       "Started working on: 376"
      ]
     },
     "metadata": {},
     "output_type": "display_data"
    },
    {
     "data": {
      "text/html": [
       "Started working on: 250"
      ],
      "text/plain": [
       "Started working on: 250"
      ]
     },
     "metadata": {},
     "output_type": "display_data"
    },
    {
     "data": {
      "text/html": [
       "Started working on: 125"
      ],
      "text/plain": [
       "Started working on: 125"
      ]
     },
     "metadata": {},
     "output_type": "display_data"
    },
    {
     "data": {
      "text/html": [
       "Started working on: 2"
      ],
      "text/plain": [
       "Started working on: 2"
      ]
     },
     "metadata": {},
     "output_type": "display_data"
    },
    {
     "data": {
      "text/html": [
       "Started working on: 126"
      ],
      "text/plain": [
       "Started working on: 126"
      ]
     },
     "metadata": {},
     "output_type": "display_data"
    },
    {
     "data": {
      "text/html": [
       "Started working on: 0"
      ],
      "text/plain": [
       "Started working on: 0"
      ]
     },
     "metadata": {},
     "output_type": "display_data"
    },
    {
     "data": {
      "text/html": [
       "Finished working on: 125"
      ],
      "text/plain": [
       "Finished working on: 125"
      ]
     },
     "metadata": {},
     "output_type": "display_data"
    },
    {
     "data": {
      "text/html": [
       "Finished working on: 251"
      ],
      "text/plain": [
       "Finished working on: 251"
      ]
     },
     "metadata": {},
     "output_type": "display_data"
    },
    {
     "data": {
      "text/html": [
       "Finished working on: 375"
      ],
      "text/plain": [
       "Finished working on: 375"
      ]
     },
     "metadata": {},
     "output_type": "display_data"
    },
    {
     "data": {
      "text/html": [
       "Started working on: 127"
      ],
      "text/plain": [
       "Started working on: 127"
      ]
     },
     "metadata": {},
     "output_type": "display_data"
    },
    {
     "data": {
      "text/html": [
       "Finished working on: 376"
      ],
      "text/plain": [
       "Finished working on: 376"
      ]
     },
     "metadata": {},
     "output_type": "display_data"
    },
    {
     "data": {
      "text/html": [
       "Started working on: 379"
      ],
      "text/plain": [
       "Started working on: 379"
      ]
     },
     "metadata": {},
     "output_type": "display_data"
    },
    {
     "data": {
      "text/html": [
       "Started working on: 252"
      ],
      "text/plain": [
       "Started working on: 252"
      ]
     },
     "metadata": {},
     "output_type": "display_data"
    },
    {
     "data": {
      "text/html": [
       "Finished working on: 2"
      ],
      "text/plain": [
       "Finished working on: 2"
      ]
     },
     "metadata": {},
     "output_type": "display_data"
    },
    {
     "data": {
      "text/html": [
       "Started working on: 3"
      ],
      "text/plain": [
       "Started working on: 3"
      ]
     },
     "metadata": {},
     "output_type": "display_data"
    },
    {
     "data": {
      "text/html": [
       "Finished working on: 0"
      ],
      "text/plain": [
       "Finished working on: 0"
      ]
     },
     "metadata": {},
     "output_type": "display_data"
    },
    {
     "data": {
      "text/html": [
       "Started working on: 5"
      ],
      "text/plain": [
       "Started working on: 5"
      ]
     },
     "metadata": {},
     "output_type": "display_data"
    },
    {
     "data": {
      "text/html": [
       "Finished working on: 1"
      ],
      "text/plain": [
       "Finished working on: 1"
      ]
     },
     "metadata": {},
     "output_type": "display_data"
    },
    {
     "data": {
      "text/html": [
       "Started working on: 7"
      ],
      "text/plain": [
       "Started working on: 7"
      ]
     },
     "metadata": {},
     "output_type": "display_data"
    },
    {
     "data": {
      "text/html": [
       "Started working on: 377"
      ],
      "text/plain": [
       "Started working on: 377"
      ]
     },
     "metadata": {},
     "output_type": "display_data"
    },
    {
     "data": {
      "text/html": [
       "Finished working on: 250"
      ],
      "text/plain": [
       "Finished working on: 250"
      ]
     },
     "metadata": {},
     "output_type": "display_data"
    },
    {
     "data": {
      "text/html": [
       "Started working on: 254"
      ],
      "text/plain": [
       "Started working on: 254"
      ]
     },
     "metadata": {},
     "output_type": "display_data"
    },
    {
     "data": {
      "text/html": [
       "Finished working on: 126"
      ],
      "text/plain": [
       "Finished working on: 126"
      ]
     },
     "metadata": {},
     "output_type": "display_data"
    },
    {
     "data": {
      "text/html": [
       "Started working on: 129"
      ],
      "text/plain": [
       "Started working on: 129"
      ]
     },
     "metadata": {},
     "output_type": "display_data"
    },
    {
     "data": {
      "text/html": [
       "Finished working on: 127"
      ],
      "text/plain": [
       "Finished working on: 127"
      ]
     },
     "metadata": {},
     "output_type": "display_data"
    },
    {
     "data": {
      "text/html": [
       "Started working on: 128"
      ],
      "text/plain": [
       "Started working on: 128"
      ]
     },
     "metadata": {},
     "output_type": "display_data"
    },
    {
     "data": {
      "text/html": [
       "Finished working on: 252"
      ],
      "text/plain": [
       "Finished working on: 252"
      ]
     },
     "metadata": {},
     "output_type": "display_data"
    },
    {
     "data": {
      "text/html": [
       "Finished working on: 3"
      ],
      "text/plain": [
       "Finished working on: 3"
      ]
     },
     "metadata": {},
     "output_type": "display_data"
    },
    {
     "data": {
      "text/html": [
       "Started working on: 4"
      ],
      "text/plain": [
       "Started working on: 4"
      ]
     },
     "metadata": {},
     "output_type": "display_data"
    },
    {
     "data": {
      "text/html": [
       "Finished working on: 379"
      ],
      "text/plain": [
       "Finished working on: 379"
      ]
     },
     "metadata": {},
     "output_type": "display_data"
    },
    {
     "data": {
      "text/html": [
       "Started working on: 380"
      ],
      "text/plain": [
       "Started working on: 380"
      ]
     },
     "metadata": {},
     "output_type": "display_data"
    },
    {
     "data": {
      "text/html": [
       "Finished working on: 7"
      ],
      "text/plain": [
       "Finished working on: 7"
      ]
     },
     "metadata": {},
     "output_type": "display_data"
    },
    {
     "data": {
      "text/html": [
       "Started working on: 8"
      ],
      "text/plain": [
       "Started working on: 8"
      ]
     },
     "metadata": {},
     "output_type": "display_data"
    },
    {
     "data": {
      "text/html": [
       "Started working on: 253"
      ],
      "text/plain": [
       "Started working on: 253"
      ]
     },
     "metadata": {},
     "output_type": "display_data"
    },
    {
     "data": {
      "text/html": [
       "Finished working on: 254"
      ],
      "text/plain": [
       "Finished working on: 254"
      ]
     },
     "metadata": {},
     "output_type": "display_data"
    },
    {
     "data": {
      "text/html": [
       "Started working on: 255"
      ],
      "text/plain": [
       "Started working on: 255"
      ]
     },
     "metadata": {},
     "output_type": "display_data"
    },
    {
     "data": {
      "text/html": [
       "Finished working on: 377"
      ],
      "text/plain": [
       "Finished working on: 377"
      ]
     },
     "metadata": {},
     "output_type": "display_data"
    },
    {
     "data": {
      "text/html": [
       "Started working on: 378"
      ],
      "text/plain": [
       "Started working on: 378"
      ]
     },
     "metadata": {},
     "output_type": "display_data"
    },
    {
     "data": {
      "text/html": [
       "Finished working on: 129"
      ],
      "text/plain": [
       "Finished working on: 129"
      ]
     },
     "metadata": {},
     "output_type": "display_data"
    },
    {
     "data": {
      "text/html": [
       "Started working on: 130"
      ],
      "text/plain": [
       "Started working on: 130"
      ]
     },
     "metadata": {},
     "output_type": "display_data"
    },
    {
     "data": {
      "text/html": [
       "Finished working on: 5"
      ],
      "text/plain": [
       "Finished working on: 5"
      ]
     },
     "metadata": {},
     "output_type": "display_data"
    },
    {
     "data": {
      "text/html": [
       "Started working on: 6"
      ],
      "text/plain": [
       "Started working on: 6"
      ]
     },
     "metadata": {},
     "output_type": "display_data"
    },
    {
     "data": {
      "text/html": [
       "Finished working on: 128"
      ],
      "text/plain": [
       "Finished working on: 128"
      ]
     },
     "metadata": {},
     "output_type": "display_data"
    },
    {
     "data": {
      "text/html": [
       "Started working on: 131"
      ],
      "text/plain": [
       "Started working on: 131"
      ]
     },
     "metadata": {},
     "output_type": "display_data"
    },
    {
     "data": {
      "text/html": [
       "Finished working on: 4"
      ],
      "text/plain": [
       "Finished working on: 4"
      ]
     },
     "metadata": {},
     "output_type": "display_data"
    },
    {
     "data": {
      "text/html": [
       "Finished working on: 380"
      ],
      "text/plain": [
       "Finished working on: 380"
      ]
     },
     "metadata": {},
     "output_type": "display_data"
    },
    {
     "data": {
      "text/html": [
       "Started working on: 381"
      ],
      "text/plain": [
       "Started working on: 381"
      ]
     },
     "metadata": {},
     "output_type": "display_data"
    },
    {
     "data": {
      "text/html": [
       "Started working on: 9"
      ],
      "text/plain": [
       "Started working on: 9"
      ]
     },
     "metadata": {},
     "output_type": "display_data"
    },
    {
     "data": {
      "text/html": [
       "Finished working on: 8"
      ],
      "text/plain": [
       "Finished working on: 8"
      ]
     },
     "metadata": {},
     "output_type": "display_data"
    },
    {
     "data": {
      "text/html": [
       "Started working on: 13"
      ],
      "text/plain": [
       "Started working on: 13"
      ]
     },
     "metadata": {},
     "output_type": "display_data"
    },
    {
     "data": {
      "text/html": [
       "Finished working on: 255"
      ],
      "text/plain": [
       "Finished working on: 255"
      ]
     },
     "metadata": {},
     "output_type": "display_data"
    },
    {
     "data": {
      "text/html": [
       "Started working on: 256"
      ],
      "text/plain": [
       "Started working on: 256"
      ]
     },
     "metadata": {},
     "output_type": "display_data"
    },
    {
     "data": {
      "text/html": [
       "Finished working on: 378"
      ],
      "text/plain": [
       "Finished working on: 378"
      ]
     },
     "metadata": {},
     "output_type": "display_data"
    },
    {
     "data": {
      "text/html": [
       "Started working on: 385"
      ],
      "text/plain": [
       "Started working on: 385"
      ]
     },
     "metadata": {},
     "output_type": "display_data"
    },
    {
     "data": {
      "text/html": [
       "Finished working on: 253"
      ],
      "text/plain": [
       "Finished working on: 253"
      ]
     },
     "metadata": {},
     "output_type": "display_data"
    },
    {
     "data": {
      "text/html": [
       "Started working on: 260"
      ],
      "text/plain": [
       "Started working on: 260"
      ]
     },
     "metadata": {},
     "output_type": "display_data"
    },
    {
     "data": {
      "text/html": [
       "Finished working on: 130"
      ],
      "text/plain": [
       "Finished working on: 130"
      ]
     },
     "metadata": {},
     "output_type": "display_data"
    },
    {
     "data": {
      "text/html": [
       "Started working on: 135"
      ],
      "text/plain": [
       "Started working on: 135"
      ]
     },
     "metadata": {},
     "output_type": "display_data"
    },
    {
     "data": {
      "text/html": [
       "Finished working on: 6"
      ],
      "text/plain": [
       "Finished working on: 6"
      ]
     },
     "metadata": {},
     "output_type": "display_data"
    },
    {
     "data": {
      "text/html": [
       "Started working on: 17"
      ],
      "text/plain": [
       "Started working on: 17"
      ]
     },
     "metadata": {},
     "output_type": "display_data"
    },
    {
     "data": {
      "text/html": [
       "Finished working on: 131"
      ],
      "text/plain": [
       "Finished working on: 131"
      ]
     },
     "metadata": {},
     "output_type": "display_data"
    },
    {
     "data": {
      "text/html": [
       "Started working on: 132"
      ],
      "text/plain": [
       "Started working on: 132"
      ]
     },
     "metadata": {},
     "output_type": "display_data"
    },
    {
     "data": {
      "text/html": [
       "Finished working on: 381"
      ],
      "text/plain": [
       "Finished working on: 381"
      ]
     },
     "metadata": {},
     "output_type": "display_data"
    },
    {
     "data": {
      "text/html": [
       "Started working on: 382"
      ],
      "text/plain": [
       "Started working on: 382"
      ]
     },
     "metadata": {},
     "output_type": "display_data"
    },
    {
     "data": {
      "text/html": [
       "Finished working on: 9"
      ],
      "text/plain": [
       "Finished working on: 9"
      ]
     },
     "metadata": {},
     "output_type": "display_data"
    },
    {
     "data": {
      "text/html": [
       "Finished working on: 385"
      ],
      "text/plain": [
       "Finished working on: 385"
      ]
     },
     "metadata": {},
     "output_type": "display_data"
    },
    {
     "data": {
      "text/html": [
       "Finished working on: 260"
      ],
      "text/plain": [
       "Finished working on: 260"
      ]
     },
     "metadata": {},
     "output_type": "display_data"
    },
    {
     "data": {
      "text/html": [
       "Started working on: 261"
      ],
      "text/plain": [
       "Started working on: 261"
      ]
     },
     "metadata": {},
     "output_type": "display_data"
    },
    {
     "data": {
      "text/html": [
       "Finished working on: 135"
      ],
      "text/plain": [
       "Finished working on: 135"
      ]
     },
     "metadata": {},
     "output_type": "display_data"
    },
    {
     "data": {
      "text/html": [
       "Started working on: 136"
      ],
      "text/plain": [
       "Started working on: 136"
      ]
     },
     "metadata": {},
     "output_type": "display_data"
    },
    {
     "data": {
      "text/html": [
       "Finished working on: 256"
      ],
      "text/plain": [
       "Finished working on: 256"
      ]
     },
     "metadata": {},
     "output_type": "display_data"
    },
    {
     "data": {
      "text/html": [
       "Started working on: 257"
      ],
      "text/plain": [
       "Started working on: 257"
      ]
     },
     "metadata": {},
     "output_type": "display_data"
    },
    {
     "data": {
      "text/html": [
       "Finished working on: 17"
      ],
      "text/plain": [
       "Finished working on: 17"
      ]
     },
     "metadata": {},
     "output_type": "display_data"
    },
    {
     "data": {
      "text/html": [
       "Started working on: 18"
      ],
      "text/plain": [
       "Started working on: 18"
      ]
     },
     "metadata": {},
     "output_type": "display_data"
    },
    {
     "data": {
      "text/html": [
       "Started working on: 386"
      ],
      "text/plain": [
       "Started working on: 386"
      ]
     },
     "metadata": {},
     "output_type": "display_data"
    },
    {
     "data": {
      "text/html": [
       "Started working on: 10"
      ],
      "text/plain": [
       "Started working on: 10"
      ]
     },
     "metadata": {},
     "output_type": "display_data"
    },
    {
     "data": {
      "text/html": [
       "Finished working on: 13"
      ],
      "text/plain": [
       "Finished working on: 13"
      ]
     },
     "metadata": {},
     "output_type": "display_data"
    },
    {
     "data": {
      "text/html": [
       "Started working on: 14"
      ],
      "text/plain": [
       "Started working on: 14"
      ]
     },
     "metadata": {},
     "output_type": "display_data"
    },
    {
     "data": {
      "text/html": [
       "Finished working on: 132"
      ],
      "text/plain": [
       "Finished working on: 132"
      ]
     },
     "metadata": {},
     "output_type": "display_data"
    },
    {
     "data": {
      "text/html": [
       "Started working on: 133"
      ],
      "text/plain": [
       "Started working on: 133"
      ]
     },
     "metadata": {},
     "output_type": "display_data"
    },
    {
     "data": {
      "text/html": [
       "Finished working on: 382"
      ],
      "text/plain": [
       "Finished working on: 382"
      ]
     },
     "metadata": {},
     "output_type": "display_data"
    },
    {
     "data": {
      "text/html": [
       "Started working on: 383"
      ],
      "text/plain": [
       "Started working on: 383"
      ]
     },
     "metadata": {},
     "output_type": "display_data"
    },
    {
     "data": {
      "text/html": [
       "Finished working on: 261"
      ],
      "text/plain": [
       "Finished working on: 261"
      ]
     },
     "metadata": {},
     "output_type": "display_data"
    },
    {
     "data": {
      "text/html": [
       "Started working on: 262"
      ],
      "text/plain": [
       "Started working on: 262"
      ]
     },
     "metadata": {},
     "output_type": "display_data"
    },
    {
     "data": {
      "text/html": [
       "Finished working on: 136"
      ],
      "text/plain": [
       "Finished working on: 136"
      ]
     },
     "metadata": {},
     "output_type": "display_data"
    },
    {
     "data": {
      "text/html": [
       "Started working on: 137"
      ],
      "text/plain": [
       "Started working on: 137"
      ]
     },
     "metadata": {},
     "output_type": "display_data"
    },
    {
     "data": {
      "text/html": [
       "Finished working on: 257"
      ],
      "text/plain": [
       "Finished working on: 257"
      ]
     },
     "metadata": {},
     "output_type": "display_data"
    },
    {
     "data": {
      "text/html": [
       "Started working on: 258"
      ],
      "text/plain": [
       "Started working on: 258"
      ]
     },
     "metadata": {},
     "output_type": "display_data"
    },
    {
     "data": {
      "text/html": [
       "Finished working on: 18"
      ],
      "text/plain": [
       "Finished working on: 18"
      ]
     },
     "metadata": {},
     "output_type": "display_data"
    },
    {
     "data": {
      "text/html": [
       "Started working on: 19"
      ],
      "text/plain": [
       "Started working on: 19"
      ]
     },
     "metadata": {},
     "output_type": "display_data"
    },
    {
     "data": {
      "text/html": [
       "Finished working on: 386"
      ],
      "text/plain": [
       "Finished working on: 386"
      ]
     },
     "metadata": {},
     "output_type": "display_data"
    },
    {
     "data": {
      "text/html": [
       "Started working on: 387"
      ],
      "text/plain": [
       "Started working on: 387"
      ]
     },
     "metadata": {},
     "output_type": "display_data"
    },
    {
     "data": {
      "text/html": [
       "Finished working on: 10"
      ],
      "text/plain": [
       "Finished working on: 10"
      ]
     },
     "metadata": {},
     "output_type": "display_data"
    },
    {
     "data": {
      "text/html": [
       "Started working on: 11"
      ],
      "text/plain": [
       "Started working on: 11"
      ]
     },
     "metadata": {},
     "output_type": "display_data"
    },
    {
     "data": {
      "text/html": [
       "Finished working on: 14"
      ],
      "text/plain": [
       "Finished working on: 14"
      ]
     },
     "metadata": {},
     "output_type": "display_data"
    },
    {
     "data": {
      "text/html": [
       "Started working on: 15"
      ],
      "text/plain": [
       "Started working on: 15"
      ]
     },
     "metadata": {},
     "output_type": "display_data"
    },
    {
     "data": {
      "text/html": [
       "Finished working on: 133"
      ],
      "text/plain": [
       "Finished working on: 133"
      ]
     },
     "metadata": {},
     "output_type": "display_data"
    },
    {
     "data": {
      "text/html": [
       "Started working on: 134"
      ],
      "text/plain": [
       "Started working on: 134"
      ]
     },
     "metadata": {},
     "output_type": "display_data"
    },
    {
     "data": {
      "text/html": [
       "Finished working on: 383"
      ],
      "text/plain": [
       "Finished working on: 383"
      ]
     },
     "metadata": {},
     "output_type": "display_data"
    },
    {
     "data": {
      "text/html": [
       "Started working on: 384"
      ],
      "text/plain": [
       "Started working on: 384"
      ]
     },
     "metadata": {},
     "output_type": "display_data"
    },
    {
     "data": {
      "text/html": [
       "Finished working on: 262"
      ],
      "text/plain": [
       "Finished working on: 262"
      ]
     },
     "metadata": {},
     "output_type": "display_data"
    },
    {
     "data": {
      "text/html": [
       "Started working on: 263"
      ],
      "text/plain": [
       "Started working on: 263"
      ]
     },
     "metadata": {},
     "output_type": "display_data"
    },
    {
     "data": {
      "text/html": [
       "Finished working on: 137"
      ],
      "text/plain": [
       "Finished working on: 137"
      ]
     },
     "metadata": {},
     "output_type": "display_data"
    },
    {
     "data": {
      "text/html": [
       "Started working on: 138"
      ],
      "text/plain": [
       "Started working on: 138"
      ]
     },
     "metadata": {},
     "output_type": "display_data"
    },
    {
     "data": {
      "text/html": [
       "Finished working on: 258"
      ],
      "text/plain": [
       "Finished working on: 258"
      ]
     },
     "metadata": {},
     "output_type": "display_data"
    },
    {
     "data": {
      "text/html": [
       "Started working on: 259"
      ],
      "text/plain": [
       "Started working on: 259"
      ]
     },
     "metadata": {},
     "output_type": "display_data"
    },
    {
     "data": {
      "text/html": [
       "Finished working on: 19"
      ],
      "text/plain": [
       "Finished working on: 19"
      ]
     },
     "metadata": {},
     "output_type": "display_data"
    },
    {
     "data": {
      "text/html": [
       "Started working on: 20"
      ],
      "text/plain": [
       "Started working on: 20"
      ]
     },
     "metadata": {},
     "output_type": "display_data"
    },
    {
     "data": {
      "text/html": [
       "Finished working on: 387"
      ],
      "text/plain": [
       "Finished working on: 387"
      ]
     },
     "metadata": {},
     "output_type": "display_data"
    },
    {
     "data": {
      "text/html": [
       "Started working on: 388"
      ],
      "text/plain": [
       "Started working on: 388"
      ]
     },
     "metadata": {},
     "output_type": "display_data"
    },
    {
     "data": {
      "text/html": [
       "Finished working on: 11"
      ],
      "text/plain": [
       "Finished working on: 11"
      ]
     },
     "metadata": {},
     "output_type": "display_data"
    },
    {
     "data": {
      "text/html": [
       "Started working on: 12"
      ],
      "text/plain": [
       "Started working on: 12"
      ]
     },
     "metadata": {},
     "output_type": "display_data"
    },
    {
     "data": {
      "text/html": [
       "Finished working on: 15"
      ],
      "text/plain": [
       "Finished working on: 15"
      ]
     },
     "metadata": {},
     "output_type": "display_data"
    },
    {
     "data": {
      "text/html": [
       "Started working on: 16"
      ],
      "text/plain": [
       "Started working on: 16"
      ]
     },
     "metadata": {},
     "output_type": "display_data"
    },
    {
     "data": {
      "text/html": [
       "Finished working on: 134"
      ],
      "text/plain": [
       "Finished working on: 134"
      ]
     },
     "metadata": {},
     "output_type": "display_data"
    },
    {
     "data": {
      "text/html": [
       "Started working on: 139"
      ],
      "text/plain": [
       "Started working on: 139"
      ]
     },
     "metadata": {},
     "output_type": "display_data"
    },
    {
     "data": {
      "text/html": [
       "Finished working on: 384"
      ],
      "text/plain": [
       "Finished working on: 384"
      ]
     },
     "metadata": {},
     "output_type": "display_data"
    },
    {
     "data": {
      "text/html": [
       "Started working on: 389"
      ],
      "text/plain": [
       "Started working on: 389"
      ]
     },
     "metadata": {},
     "output_type": "display_data"
    },
    {
     "data": {
      "text/html": [
       "Finished working on: 263"
      ],
      "text/plain": [
       "Finished working on: 263"
      ]
     },
     "metadata": {},
     "output_type": "display_data"
    },
    {
     "data": {
      "text/html": [
       "Started working on: 264"
      ],
      "text/plain": [
       "Started working on: 264"
      ]
     },
     "metadata": {},
     "output_type": "display_data"
    },
    {
     "data": {
      "text/html": [
       "Finished working on: 138"
      ],
      "text/plain": [
       "Finished working on: 138"
      ]
     },
     "metadata": {},
     "output_type": "display_data"
    },
    {
     "data": {
      "text/html": [
       "Started working on: 147"
      ],
      "text/plain": [
       "Started working on: 147"
      ]
     },
     "metadata": {},
     "output_type": "display_data"
    },
    {
     "data": {
      "text/html": [
       "Finished working on: 259"
      ],
      "text/plain": [
       "Finished working on: 259"
      ]
     },
     "metadata": {},
     "output_type": "display_data"
    },
    {
     "data": {
      "text/html": [
       "Started working on: 272"
      ],
      "text/plain": [
       "Started working on: 272"
      ]
     },
     "metadata": {},
     "output_type": "display_data"
    },
    {
     "data": {
      "text/html": [
       "Finished working on: 20"
      ],
      "text/plain": [
       "Finished working on: 20"
      ]
     },
     "metadata": {},
     "output_type": "display_data"
    },
    {
     "data": {
      "text/html": [
       "Started working on: 21"
      ],
      "text/plain": [
       "Started working on: 21"
      ]
     },
     "metadata": {},
     "output_type": "display_data"
    },
    {
     "data": {
      "text/html": [
       "Finished working on: 388"
      ],
      "text/plain": [
       "Finished working on: 388"
      ]
     },
     "metadata": {},
     "output_type": "display_data"
    },
    {
     "data": {
      "text/html": [
       "Started working on: 397"
      ],
      "text/plain": [
       "Started working on: 397"
      ]
     },
     "metadata": {},
     "output_type": "display_data"
    },
    {
     "data": {
      "text/html": [
       "Finished working on: 12"
      ],
      "text/plain": [
       "Finished working on: 12"
      ]
     },
     "metadata": {},
     "output_type": "display_data"
    },
    {
     "data": {
      "text/html": [
       "Started working on: 29"
      ],
      "text/plain": [
       "Started working on: 29"
      ]
     },
     "metadata": {},
     "output_type": "display_data"
    },
    {
     "data": {
      "text/html": [
       "Finished working on: 16"
      ],
      "text/plain": [
       "Finished working on: 16"
      ]
     },
     "metadata": {},
     "output_type": "display_data"
    },
    {
     "data": {
      "text/html": [
       "Started working on: 37"
      ],
      "text/plain": [
       "Started working on: 37"
      ]
     },
     "metadata": {},
     "output_type": "display_data"
    },
    {
     "data": {
      "text/html": [
       "Finished working on: 139"
      ],
      "text/plain": [
       "Finished working on: 139"
      ]
     },
     "metadata": {},
     "output_type": "display_data"
    },
    {
     "data": {
      "text/html": [
       "Started working on: 140"
      ],
      "text/plain": [
       "Started working on: 140"
      ]
     },
     "metadata": {},
     "output_type": "display_data"
    },
    {
     "data": {
      "text/html": [
       "Finished working on: 389"
      ],
      "text/plain": [
       "Finished working on: 389"
      ]
     },
     "metadata": {},
     "output_type": "display_data"
    },
    {
     "data": {
      "text/html": [
       "Started working on: 390"
      ],
      "text/plain": [
       "Started working on: 390"
      ]
     },
     "metadata": {},
     "output_type": "display_data"
    },
    {
     "data": {
      "text/html": [
       "Finished working on: 264"
      ],
      "text/plain": [
       "Finished working on: 264"
      ]
     },
     "metadata": {},
     "output_type": "display_data"
    },
    {
     "data": {
      "text/html": [
       "Started working on: 265"
      ],
      "text/plain": [
       "Started working on: 265"
      ]
     },
     "metadata": {},
     "output_type": "display_data"
    },
    {
     "data": {
      "text/html": [
       "Finished working on: 147"
      ],
      "text/plain": [
       "Finished working on: 147"
      ]
     },
     "metadata": {},
     "output_type": "display_data"
    },
    {
     "data": {
      "text/html": [
       "Started working on: 148"
      ],
      "text/plain": [
       "Started working on: 148"
      ]
     },
     "metadata": {},
     "output_type": "display_data"
    },
    {
     "data": {
      "text/html": [
       "Finished working on: 272"
      ],
      "text/plain": [
       "Finished working on: 272"
      ]
     },
     "metadata": {},
     "output_type": "display_data"
    },
    {
     "data": {
      "text/html": [
       "Started working on: 273"
      ],
      "text/plain": [
       "Started working on: 273"
      ]
     },
     "metadata": {},
     "output_type": "display_data"
    },
    {
     "data": {
      "text/html": [
       "Finished working on: 21"
      ],
      "text/plain": [
       "Finished working on: 21"
      ]
     },
     "metadata": {},
     "output_type": "display_data"
    },
    {
     "data": {
      "text/html": [
       "Started working on: 22"
      ],
      "text/plain": [
       "Started working on: 22"
      ]
     },
     "metadata": {},
     "output_type": "display_data"
    },
    {
     "data": {
      "text/html": [
       "Finished working on: 397"
      ],
      "text/plain": [
       "Finished working on: 397"
      ]
     },
     "metadata": {},
     "output_type": "display_data"
    },
    {
     "data": {
      "text/html": [
       "Started working on: 398"
      ],
      "text/plain": [
       "Started working on: 398"
      ]
     },
     "metadata": {},
     "output_type": "display_data"
    },
    {
     "data": {
      "text/html": [
       "Finished working on: 29"
      ],
      "text/plain": [
       "Finished working on: 29"
      ]
     },
     "metadata": {},
     "output_type": "display_data"
    },
    {
     "data": {
      "text/html": [
       "Started working on: 30"
      ],
      "text/plain": [
       "Started working on: 30"
      ]
     },
     "metadata": {},
     "output_type": "display_data"
    },
    {
     "data": {
      "text/html": [
       "Finished working on: 37"
      ],
      "text/plain": [
       "Finished working on: 37"
      ]
     },
     "metadata": {},
     "output_type": "display_data"
    },
    {
     "data": {
      "text/html": [
       "Started working on: 38"
      ],
      "text/plain": [
       "Started working on: 38"
      ]
     },
     "metadata": {},
     "output_type": "display_data"
    },
    {
     "data": {
      "text/html": [
       "Finished working on: 140"
      ],
      "text/plain": [
       "Finished working on: 140"
      ]
     },
     "metadata": {},
     "output_type": "display_data"
    },
    {
     "data": {
      "text/html": [
       "Started working on: 141"
      ],
      "text/plain": [
       "Started working on: 141"
      ]
     },
     "metadata": {},
     "output_type": "display_data"
    },
    {
     "data": {
      "text/html": [
       "Finished working on: 390"
      ],
      "text/plain": [
       "Finished working on: 390"
      ]
     },
     "metadata": {},
     "output_type": "display_data"
    },
    {
     "data": {
      "text/html": [
       "Started working on: 391"
      ],
      "text/plain": [
       "Started working on: 391"
      ]
     },
     "metadata": {},
     "output_type": "display_data"
    },
    {
     "data": {
      "text/html": [
       "Finished working on: 265"
      ],
      "text/plain": [
       "Finished working on: 265"
      ]
     },
     "metadata": {},
     "output_type": "display_data"
    },
    {
     "data": {
      "text/html": [
       "Started working on: 266"
      ],
      "text/plain": [
       "Started working on: 266"
      ]
     },
     "metadata": {},
     "output_type": "display_data"
    },
    {
     "data": {
      "text/html": [
       "Finished working on: 148"
      ],
      "text/plain": [
       "Finished working on: 148"
      ]
     },
     "metadata": {},
     "output_type": "display_data"
    },
    {
     "data": {
      "text/html": [
       "Started working on: 149"
      ],
      "text/plain": [
       "Started working on: 149"
      ]
     },
     "metadata": {},
     "output_type": "display_data"
    },
    {
     "data": {
      "text/html": [
       "Finished working on: 273"
      ],
      "text/plain": [
       "Finished working on: 273"
      ]
     },
     "metadata": {},
     "output_type": "display_data"
    },
    {
     "data": {
      "text/html": [
       "Started working on: 274"
      ],
      "text/plain": [
       "Started working on: 274"
      ]
     },
     "metadata": {},
     "output_type": "display_data"
    },
    {
     "data": {
      "text/html": [
       "Finished working on: 22"
      ],
      "text/plain": [
       "Finished working on: 22"
      ]
     },
     "metadata": {},
     "output_type": "display_data"
    },
    {
     "data": {
      "text/html": [
       "Started working on: 23"
      ],
      "text/plain": [
       "Started working on: 23"
      ]
     },
     "metadata": {},
     "output_type": "display_data"
    },
    {
     "data": {
      "text/html": [
       "Finished working on: 398"
      ],
      "text/plain": [
       "Finished working on: 398"
      ]
     },
     "metadata": {},
     "output_type": "display_data"
    },
    {
     "data": {
      "text/html": [
       "Started working on: 399"
      ],
      "text/plain": [
       "Started working on: 399"
      ]
     },
     "metadata": {},
     "output_type": "display_data"
    },
    {
     "data": {
      "text/html": [
       "Finished working on: 30"
      ],
      "text/plain": [
       "Finished working on: 30"
      ]
     },
     "metadata": {},
     "output_type": "display_data"
    },
    {
     "data": {
      "text/html": [
       "Started working on: 31"
      ],
      "text/plain": [
       "Started working on: 31"
      ]
     },
     "metadata": {},
     "output_type": "display_data"
    },
    {
     "data": {
      "text/html": [
       "Finished working on: 38"
      ],
      "text/plain": [
       "Finished working on: 38"
      ]
     },
     "metadata": {},
     "output_type": "display_data"
    },
    {
     "data": {
      "text/html": [
       "Started working on: 39"
      ],
      "text/plain": [
       "Started working on: 39"
      ]
     },
     "metadata": {},
     "output_type": "display_data"
    },
    {
     "data": {
      "text/html": [
       "Finished working on: 141"
      ],
      "text/plain": [
       "Finished working on: 141"
      ]
     },
     "metadata": {},
     "output_type": "display_data"
    },
    {
     "data": {
      "text/html": [
       "Started working on: 142"
      ],
      "text/plain": [
       "Started working on: 142"
      ]
     },
     "metadata": {},
     "output_type": "display_data"
    },
    {
     "data": {
      "text/html": [
       "Finished working on: 391"
      ],
      "text/plain": [
       "Finished working on: 391"
      ]
     },
     "metadata": {},
     "output_type": "display_data"
    },
    {
     "data": {
      "text/html": [
       "Started working on: 392"
      ],
      "text/plain": [
       "Started working on: 392"
      ]
     },
     "metadata": {},
     "output_type": "display_data"
    },
    {
     "data": {
      "text/html": [
       "Finished working on: 266"
      ],
      "text/plain": [
       "Finished working on: 266"
      ]
     },
     "metadata": {},
     "output_type": "display_data"
    },
    {
     "data": {
      "text/html": [
       "Started working on: 267"
      ],
      "text/plain": [
       "Started working on: 267"
      ]
     },
     "metadata": {},
     "output_type": "display_data"
    },
    {
     "data": {
      "text/html": [
       "Finished working on: 149"
      ],
      "text/plain": [
       "Finished working on: 149"
      ]
     },
     "metadata": {},
     "output_type": "display_data"
    },
    {
     "data": {
      "text/html": [
       "Started working on: 150"
      ],
      "text/plain": [
       "Started working on: 150"
      ]
     },
     "metadata": {},
     "output_type": "display_data"
    },
    {
     "data": {
      "text/html": [
       "Finished working on: 274"
      ],
      "text/plain": [
       "Finished working on: 274"
      ]
     },
     "metadata": {},
     "output_type": "display_data"
    },
    {
     "data": {
      "text/html": [
       "Started working on: 275"
      ],
      "text/plain": [
       "Started working on: 275"
      ]
     },
     "metadata": {},
     "output_type": "display_data"
    },
    {
     "data": {
      "text/html": [
       "Finished working on: 23"
      ],
      "text/plain": [
       "Finished working on: 23"
      ]
     },
     "metadata": {},
     "output_type": "display_data"
    },
    {
     "data": {
      "text/html": [
       "Started working on: 24"
      ],
      "text/plain": [
       "Started working on: 24"
      ]
     },
     "metadata": {},
     "output_type": "display_data"
    },
    {
     "data": {
      "text/html": [
       "Finished working on: 399"
      ],
      "text/plain": [
       "Finished working on: 399"
      ]
     },
     "metadata": {},
     "output_type": "display_data"
    },
    {
     "data": {
      "text/html": [
       "Started working on: 400"
      ],
      "text/plain": [
       "Started working on: 400"
      ]
     },
     "metadata": {},
     "output_type": "display_data"
    },
    {
     "data": {
      "text/html": [
       "Finished working on: 31"
      ],
      "text/plain": [
       "Finished working on: 31"
      ]
     },
     "metadata": {},
     "output_type": "display_data"
    },
    {
     "data": {
      "text/html": [
       "Started working on: 32"
      ],
      "text/plain": [
       "Started working on: 32"
      ]
     },
     "metadata": {},
     "output_type": "display_data"
    },
    {
     "data": {
      "text/html": [
       "Finished working on: 39"
      ],
      "text/plain": [
       "Finished working on: 39"
      ]
     },
     "metadata": {},
     "output_type": "display_data"
    },
    {
     "data": {
      "text/html": [
       "Started working on: 40"
      ],
      "text/plain": [
       "Started working on: 40"
      ]
     },
     "metadata": {},
     "output_type": "display_data"
    },
    {
     "data": {
      "text/html": [
       "Finished working on: 392"
      ],
      "text/plain": [
       "Finished working on: 392"
      ]
     },
     "metadata": {},
     "output_type": "display_data"
    },
    {
     "data": {
      "text/html": [
       "Started working on: 393"
      ],
      "text/plain": [
       "Started working on: 393"
      ]
     },
     "metadata": {},
     "output_type": "display_data"
    },
    {
     "data": {
      "text/html": [
       "Finished working on: 142"
      ],
      "text/plain": [
       "Finished working on: 142"
      ]
     },
     "metadata": {},
     "output_type": "display_data"
    },
    {
     "data": {
      "text/html": [
       "Started working on: 143"
      ],
      "text/plain": [
       "Started working on: 143"
      ]
     },
     "metadata": {},
     "output_type": "display_data"
    },
    {
     "data": {
      "text/html": [
       "Finished working on: 267"
      ],
      "text/plain": [
       "Finished working on: 267"
      ]
     },
     "metadata": {},
     "output_type": "display_data"
    },
    {
     "data": {
      "text/html": [
       "Started working on: 268"
      ],
      "text/plain": [
       "Started working on: 268"
      ]
     },
     "metadata": {},
     "output_type": "display_data"
    },
    {
     "data": {
      "text/html": [
       "Finished working on: 150"
      ],
      "text/plain": [
       "Finished working on: 150"
      ]
     },
     "metadata": {},
     "output_type": "display_data"
    },
    {
     "data": {
      "text/html": [
       "Started working on: 151"
      ],
      "text/plain": [
       "Started working on: 151"
      ]
     },
     "metadata": {},
     "output_type": "display_data"
    },
    {
     "data": {
      "text/html": [
       "Finished working on: 275"
      ],
      "text/plain": [
       "Finished working on: 275"
      ]
     },
     "metadata": {},
     "output_type": "display_data"
    },
    {
     "data": {
      "text/html": [
       "Started working on: 276"
      ],
      "text/plain": [
       "Started working on: 276"
      ]
     },
     "metadata": {},
     "output_type": "display_data"
    },
    {
     "data": {
      "text/html": [
       "Finished working on: 24"
      ],
      "text/plain": [
       "Finished working on: 24"
      ]
     },
     "metadata": {},
     "output_type": "display_data"
    },
    {
     "data": {
      "text/html": [
       "Started working on: 25"
      ],
      "text/plain": [
       "Started working on: 25"
      ]
     },
     "metadata": {},
     "output_type": "display_data"
    },
    {
     "data": {
      "text/html": [
       "Finished working on: 400"
      ],
      "text/plain": [
       "Finished working on: 400"
      ]
     },
     "metadata": {},
     "output_type": "display_data"
    },
    {
     "data": {
      "text/html": [
       "Started working on: 401"
      ],
      "text/plain": [
       "Started working on: 401"
      ]
     },
     "metadata": {},
     "output_type": "display_data"
    },
    {
     "data": {
      "text/html": [
       "Finished working on: 32"
      ],
      "text/plain": [
       "Finished working on: 32"
      ]
     },
     "metadata": {},
     "output_type": "display_data"
    },
    {
     "data": {
      "text/html": [
       "Started working on: 33"
      ],
      "text/plain": [
       "Started working on: 33"
      ]
     },
     "metadata": {},
     "output_type": "display_data"
    },
    {
     "data": {
      "text/html": [
       "Finished working on: 40"
      ],
      "text/plain": [
       "Finished working on: 40"
      ]
     },
     "metadata": {},
     "output_type": "display_data"
    },
    {
     "data": {
      "text/html": [
       "Started working on: 41"
      ],
      "text/plain": [
       "Started working on: 41"
      ]
     },
     "metadata": {},
     "output_type": "display_data"
    },
    {
     "data": {
      "text/html": [
       "Finished working on: 393"
      ],
      "text/plain": [
       "Finished working on: 393"
      ]
     },
     "metadata": {},
     "output_type": "display_data"
    },
    {
     "data": {
      "text/html": [
       "Started working on: 394"
      ],
      "text/plain": [
       "Started working on: 394"
      ]
     },
     "metadata": {},
     "output_type": "display_data"
    },
    {
     "data": {
      "text/html": [
       "Finished working on: 143"
      ],
      "text/plain": [
       "Finished working on: 143"
      ]
     },
     "metadata": {},
     "output_type": "display_data"
    },
    {
     "data": {
      "text/html": [
       "Started working on: 144"
      ],
      "text/plain": [
       "Started working on: 144"
      ]
     },
     "metadata": {},
     "output_type": "display_data"
    },
    {
     "data": {
      "text/html": [
       "Finished working on: 268"
      ],
      "text/plain": [
       "Finished working on: 268"
      ]
     },
     "metadata": {},
     "output_type": "display_data"
    },
    {
     "data": {
      "text/html": [
       "Started working on: 269"
      ],
      "text/plain": [
       "Started working on: 269"
      ]
     },
     "metadata": {},
     "output_type": "display_data"
    },
    {
     "data": {
      "text/html": [
       "Finished working on: 151"
      ],
      "text/plain": [
       "Finished working on: 151"
      ]
     },
     "metadata": {},
     "output_type": "display_data"
    },
    {
     "data": {
      "text/html": [
       "Started working on: 152"
      ],
      "text/plain": [
       "Started working on: 152"
      ]
     },
     "metadata": {},
     "output_type": "display_data"
    },
    {
     "data": {
      "text/html": [
       "Finished working on: 276"
      ],
      "text/plain": [
       "Finished working on: 276"
      ]
     },
     "metadata": {},
     "output_type": "display_data"
    },
    {
     "data": {
      "text/html": [
       "Started working on: 277"
      ],
      "text/plain": [
       "Started working on: 277"
      ]
     },
     "metadata": {},
     "output_type": "display_data"
    },
    {
     "data": {
      "text/html": [
       "Finished working on: 25"
      ],
      "text/plain": [
       "Finished working on: 25"
      ]
     },
     "metadata": {},
     "output_type": "display_data"
    },
    {
     "data": {
      "text/html": [
       "Started working on: 26"
      ],
      "text/plain": [
       "Started working on: 26"
      ]
     },
     "metadata": {},
     "output_type": "display_data"
    },
    {
     "data": {
      "text/html": [
       "Finished working on: 401"
      ],
      "text/plain": [
       "Finished working on: 401"
      ]
     },
     "metadata": {},
     "output_type": "display_data"
    },
    {
     "data": {
      "text/html": [
       "Started working on: 402"
      ],
      "text/plain": [
       "Started working on: 402"
      ]
     },
     "metadata": {},
     "output_type": "display_data"
    },
    {
     "data": {
      "text/html": [
       "Finished working on: 33"
      ],
      "text/plain": [
       "Finished working on: 33"
      ]
     },
     "metadata": {},
     "output_type": "display_data"
    },
    {
     "data": {
      "text/html": [
       "Started working on: 34"
      ],
      "text/plain": [
       "Started working on: 34"
      ]
     },
     "metadata": {},
     "output_type": "display_data"
    },
    {
     "data": {
      "text/html": [
       "Finished working on: 41"
      ],
      "text/plain": [
       "Finished working on: 41"
      ]
     },
     "metadata": {},
     "output_type": "display_data"
    },
    {
     "data": {
      "text/html": [
       "Started working on: 42"
      ],
      "text/plain": [
       "Started working on: 42"
      ]
     },
     "metadata": {},
     "output_type": "display_data"
    },
    {
     "data": {
      "text/html": [
       "Finished working on: 394"
      ],
      "text/plain": [
       "Finished working on: 394"
      ]
     },
     "metadata": {},
     "output_type": "display_data"
    },
    {
     "data": {
      "text/html": [
       "Started working on: 395"
      ],
      "text/plain": [
       "Started working on: 395"
      ]
     },
     "metadata": {},
     "output_type": "display_data"
    },
    {
     "data": {
      "text/html": [
       "Finished working on: 144"
      ],
      "text/plain": [
       "Finished working on: 144"
      ]
     },
     "metadata": {},
     "output_type": "display_data"
    },
    {
     "data": {
      "text/html": [
       "Started working on: 145"
      ],
      "text/plain": [
       "Started working on: 145"
      ]
     },
     "metadata": {},
     "output_type": "display_data"
    },
    {
     "data": {
      "text/html": [
       "Finished working on: 269"
      ],
      "text/plain": [
       "Finished working on: 269"
      ]
     },
     "metadata": {},
     "output_type": "display_data"
    },
    {
     "data": {
      "text/html": [
       "Started working on: 270"
      ],
      "text/plain": [
       "Started working on: 270"
      ]
     },
     "metadata": {},
     "output_type": "display_data"
    },
    {
     "data": {
      "text/html": [
       "Finished working on: 152"
      ],
      "text/plain": [
       "Finished working on: 152"
      ]
     },
     "metadata": {},
     "output_type": "display_data"
    },
    {
     "data": {
      "text/html": [
       "Started working on: 153"
      ],
      "text/plain": [
       "Started working on: 153"
      ]
     },
     "metadata": {},
     "output_type": "display_data"
    },
    {
     "data": {
      "text/html": [
       "Finished working on: 277"
      ],
      "text/plain": [
       "Finished working on: 277"
      ]
     },
     "metadata": {},
     "output_type": "display_data"
    },
    {
     "data": {
      "text/html": [
       "Started working on: 278"
      ],
      "text/plain": [
       "Started working on: 278"
      ]
     },
     "metadata": {},
     "output_type": "display_data"
    },
    {
     "data": {
      "text/html": [
       "Finished working on: 26"
      ],
      "text/plain": [
       "Finished working on: 26"
      ]
     },
     "metadata": {},
     "output_type": "display_data"
    },
    {
     "data": {
      "text/html": [
       "Started working on: 27"
      ],
      "text/plain": [
       "Started working on: 27"
      ]
     },
     "metadata": {},
     "output_type": "display_data"
    },
    {
     "data": {
      "text/html": [
       "Finished working on: 402"
      ],
      "text/plain": [
       "Finished working on: 402"
      ]
     },
     "metadata": {},
     "output_type": "display_data"
    },
    {
     "data": {
      "text/html": [
       "Started working on: 403"
      ],
      "text/plain": [
       "Started working on: 403"
      ]
     },
     "metadata": {},
     "output_type": "display_data"
    },
    {
     "data": {
      "text/html": [
       "Finished working on: 34"
      ],
      "text/plain": [
       "Finished working on: 34"
      ]
     },
     "metadata": {},
     "output_type": "display_data"
    },
    {
     "data": {
      "text/html": [
       "Started working on: 35"
      ],
      "text/plain": [
       "Started working on: 35"
      ]
     },
     "metadata": {},
     "output_type": "display_data"
    },
    {
     "data": {
      "text/html": [
       "Finished working on: 42"
      ],
      "text/plain": [
       "Finished working on: 42"
      ]
     },
     "metadata": {},
     "output_type": "display_data"
    },
    {
     "data": {
      "text/html": [
       "Started working on: 43"
      ],
      "text/plain": [
       "Started working on: 43"
      ]
     },
     "metadata": {},
     "output_type": "display_data"
    },
    {
     "data": {
      "text/html": [
       "Finished working on: 395"
      ],
      "text/plain": [
       "Finished working on: 395"
      ]
     },
     "metadata": {},
     "output_type": "display_data"
    },
    {
     "data": {
      "text/html": [
       "Started working on: 396"
      ],
      "text/plain": [
       "Started working on: 396"
      ]
     },
     "metadata": {},
     "output_type": "display_data"
    },
    {
     "data": {
      "text/html": [
       "Finished working on: 145"
      ],
      "text/plain": [
       "Finished working on: 145"
      ]
     },
     "metadata": {},
     "output_type": "display_data"
    },
    {
     "data": {
      "text/html": [
       "Started working on: 146"
      ],
      "text/plain": [
       "Started working on: 146"
      ]
     },
     "metadata": {},
     "output_type": "display_data"
    },
    {
     "data": {
      "text/html": [
       "Finished working on: 270"
      ],
      "text/plain": [
       "Finished working on: 270"
      ]
     },
     "metadata": {},
     "output_type": "display_data"
    },
    {
     "data": {
      "text/html": [
       "Started working on: 271"
      ],
      "text/plain": [
       "Started working on: 271"
      ]
     },
     "metadata": {},
     "output_type": "display_data"
    },
    {
     "data": {
      "text/html": [
       "Finished working on: 153"
      ],
      "text/plain": [
       "Finished working on: 153"
      ]
     },
     "metadata": {},
     "output_type": "display_data"
    },
    {
     "data": {
      "text/html": [
       "Started working on: 154"
      ],
      "text/plain": [
       "Started working on: 154"
      ]
     },
     "metadata": {},
     "output_type": "display_data"
    },
    {
     "data": {
      "text/html": [
       "Finished working on: 278"
      ],
      "text/plain": [
       "Finished working on: 278"
      ]
     },
     "metadata": {},
     "output_type": "display_data"
    },
    {
     "data": {
      "text/html": [
       "Started working on: 279"
      ],
      "text/plain": [
       "Started working on: 279"
      ]
     },
     "metadata": {},
     "output_type": "display_data"
    },
    {
     "data": {
      "text/html": [
       "Finished working on: 27"
      ],
      "text/plain": [
       "Finished working on: 27"
      ]
     },
     "metadata": {},
     "output_type": "display_data"
    },
    {
     "data": {
      "text/html": [
       "Started working on: 28"
      ],
      "text/plain": [
       "Started working on: 28"
      ]
     },
     "metadata": {},
     "output_type": "display_data"
    },
    {
     "data": {
      "text/html": [
       "Finished working on: 403"
      ],
      "text/plain": [
       "Finished working on: 403"
      ]
     },
     "metadata": {},
     "output_type": "display_data"
    },
    {
     "data": {
      "text/html": [
       "Started working on: 404"
      ],
      "text/plain": [
       "Started working on: 404"
      ]
     },
     "metadata": {},
     "output_type": "display_data"
    },
    {
     "data": {
      "text/html": [
       "Finished working on: 35"
      ],
      "text/plain": [
       "Finished working on: 35"
      ]
     },
     "metadata": {},
     "output_type": "display_data"
    },
    {
     "data": {
      "text/html": [
       "Started working on: 36"
      ],
      "text/plain": [
       "Started working on: 36"
      ]
     },
     "metadata": {},
     "output_type": "display_data"
    },
    {
     "data": {
      "text/html": [
       "Finished working on: 43"
      ],
      "text/plain": [
       "Finished working on: 43"
      ]
     },
     "metadata": {},
     "output_type": "display_data"
    },
    {
     "data": {
      "text/html": [
       "Started working on: 44"
      ],
      "text/plain": [
       "Started working on: 44"
      ]
     },
     "metadata": {},
     "output_type": "display_data"
    },
    {
     "data": {
      "text/html": [
       "Finished working on: 396"
      ],
      "text/plain": [
       "Finished working on: 396"
      ]
     },
     "metadata": {},
     "output_type": "display_data"
    },
    {
     "data": {
      "text/html": [
       "Started working on: 405"
      ],
      "text/plain": [
       "Started working on: 405"
      ]
     },
     "metadata": {},
     "output_type": "display_data"
    },
    {
     "data": {
      "text/html": [
       "Finished working on: 146"
      ],
      "text/plain": [
       "Finished working on: 146"
      ]
     },
     "metadata": {},
     "output_type": "display_data"
    },
    {
     "data": {
      "text/html": [
       "Started working on: 155"
      ],
      "text/plain": [
       "Started working on: 155"
      ]
     },
     "metadata": {},
     "output_type": "display_data"
    },
    {
     "data": {
      "text/html": [
       "Finished working on: 271"
      ],
      "text/plain": [
       "Finished working on: 271"
      ]
     },
     "metadata": {},
     "output_type": "display_data"
    },
    {
     "data": {
      "text/html": [
       "Started working on: 280"
      ],
      "text/plain": [
       "Started working on: 280"
      ]
     },
     "metadata": {},
     "output_type": "display_data"
    },
    {
     "data": {
      "text/html": [
       "Finished working on: 154"
      ],
      "text/plain": [
       "Finished working on: 154"
      ]
     },
     "metadata": {},
     "output_type": "display_data"
    },
    {
     "data": {
      "text/html": [
       "Started working on: 171"
      ],
      "text/plain": [
       "Started working on: 171"
      ]
     },
     "metadata": {},
     "output_type": "display_data"
    },
    {
     "data": {
      "text/html": [
       "Finished working on: 279"
      ],
      "text/plain": [
       "Finished working on: 279"
      ]
     },
     "metadata": {},
     "output_type": "display_data"
    },
    {
     "data": {
      "text/html": [
       "Started working on: 296"
      ],
      "text/plain": [
       "Started working on: 296"
      ]
     },
     "metadata": {},
     "output_type": "display_data"
    },
    {
     "data": {
      "text/html": [
       "Finished working on: 28"
      ],
      "text/plain": [
       "Finished working on: 28"
      ]
     },
     "metadata": {},
     "output_type": "display_data"
    },
    {
     "data": {
      "text/html": [
       "Started working on: 45"
      ],
      "text/plain": [
       "Started working on: 45"
      ]
     },
     "metadata": {},
     "output_type": "display_data"
    },
    {
     "data": {
      "text/html": [
       "Finished working on: 404"
      ],
      "text/plain": [
       "Finished working on: 404"
      ]
     },
     "metadata": {},
     "output_type": "display_data"
    },
    {
     "data": {
      "text/html": [
       "Started working on: 421"
      ],
      "text/plain": [
       "Started working on: 421"
      ]
     },
     "metadata": {},
     "output_type": "display_data"
    },
    {
     "data": {
      "text/html": [
       "Finished working on: 36"
      ],
      "text/plain": [
       "Finished working on: 36"
      ]
     },
     "metadata": {},
     "output_type": "display_data"
    },
    {
     "data": {
      "text/html": [
       "Started working on: 61"
      ],
      "text/plain": [
       "Started working on: 61"
      ]
     },
     "metadata": {},
     "output_type": "display_data"
    },
    {
     "data": {
      "text/html": [
       "Finished working on: 44"
      ],
      "text/plain": [
       "Finished working on: 44"
      ]
     },
     "metadata": {},
     "output_type": "display_data"
    },
    {
     "data": {
      "text/html": [
       "Started working on: 77"
      ],
      "text/plain": [
       "Started working on: 77"
      ]
     },
     "metadata": {},
     "output_type": "display_data"
    },
    {
     "data": {
      "text/html": [
       "Finished working on: 405"
      ],
      "text/plain": [
       "Finished working on: 405"
      ]
     },
     "metadata": {},
     "output_type": "display_data"
    },
    {
     "data": {
      "text/html": [
       "Started working on: 406"
      ],
      "text/plain": [
       "Started working on: 406"
      ]
     },
     "metadata": {},
     "output_type": "display_data"
    },
    {
     "data": {
      "text/html": [
       "Finished working on: 155"
      ],
      "text/plain": [
       "Finished working on: 155"
      ]
     },
     "metadata": {},
     "output_type": "display_data"
    },
    {
     "data": {
      "text/html": [
       "Started working on: 156"
      ],
      "text/plain": [
       "Started working on: 156"
      ]
     },
     "metadata": {},
     "output_type": "display_data"
    },
    {
     "data": {
      "text/html": [
       "Finished working on: 280"
      ],
      "text/plain": [
       "Finished working on: 280"
      ]
     },
     "metadata": {},
     "output_type": "display_data"
    },
    {
     "data": {
      "text/html": [
       "Started working on: 281"
      ],
      "text/plain": [
       "Started working on: 281"
      ]
     },
     "metadata": {},
     "output_type": "display_data"
    },
    {
     "data": {
      "text/html": [
       "Finished working on: 171"
      ],
      "text/plain": [
       "Finished working on: 171"
      ]
     },
     "metadata": {},
     "output_type": "display_data"
    },
    {
     "data": {
      "text/html": [
       "Started working on: 172"
      ],
      "text/plain": [
       "Started working on: 172"
      ]
     },
     "metadata": {},
     "output_type": "display_data"
    },
    {
     "data": {
      "text/html": [
       "Finished working on: 296"
      ],
      "text/plain": [
       "Finished working on: 296"
      ]
     },
     "metadata": {},
     "output_type": "display_data"
    },
    {
     "data": {
      "text/html": [
       "Started working on: 297"
      ],
      "text/plain": [
       "Started working on: 297"
      ]
     },
     "metadata": {},
     "output_type": "display_data"
    },
    {
     "data": {
      "text/html": [
       "Finished working on: 45"
      ],
      "text/plain": [
       "Finished working on: 45"
      ]
     },
     "metadata": {},
     "output_type": "display_data"
    },
    {
     "data": {
      "text/html": [
       "Started working on: 46"
      ],
      "text/plain": [
       "Started working on: 46"
      ]
     },
     "metadata": {},
     "output_type": "display_data"
    },
    {
     "data": {
      "text/html": [
       "Finished working on: 421"
      ],
      "text/plain": [
       "Finished working on: 421"
      ]
     },
     "metadata": {},
     "output_type": "display_data"
    },
    {
     "data": {
      "text/html": [
       "Started working on: 422"
      ],
      "text/plain": [
       "Started working on: 422"
      ]
     },
     "metadata": {},
     "output_type": "display_data"
    },
    {
     "data": {
      "text/html": [
       "Finished working on: 61"
      ],
      "text/plain": [
       "Finished working on: 61"
      ]
     },
     "metadata": {},
     "output_type": "display_data"
    },
    {
     "data": {
      "text/html": [
       "Started working on: 62"
      ],
      "text/plain": [
       "Started working on: 62"
      ]
     },
     "metadata": {},
     "output_type": "display_data"
    },
    {
     "data": {
      "text/html": [
       "Finished working on: 77"
      ],
      "text/plain": [
       "Finished working on: 77"
      ]
     },
     "metadata": {},
     "output_type": "display_data"
    },
    {
     "data": {
      "text/html": [
       "Started working on: 78"
      ],
      "text/plain": [
       "Started working on: 78"
      ]
     },
     "metadata": {},
     "output_type": "display_data"
    },
    {
     "data": {
      "text/html": [
       "Finished working on: 406"
      ],
      "text/plain": [
       "Finished working on: 406"
      ]
     },
     "metadata": {},
     "output_type": "display_data"
    },
    {
     "data": {
      "text/html": [
       "Started working on: 407"
      ],
      "text/plain": [
       "Started working on: 407"
      ]
     },
     "metadata": {},
     "output_type": "display_data"
    },
    {
     "data": {
      "text/html": [
       "Finished working on: 156"
      ],
      "text/plain": [
       "Finished working on: 156"
      ]
     },
     "metadata": {},
     "output_type": "display_data"
    },
    {
     "data": {
      "text/html": [
       "Started working on: 157"
      ],
      "text/plain": [
       "Started working on: 157"
      ]
     },
     "metadata": {},
     "output_type": "display_data"
    },
    {
     "data": {
      "text/html": [
       "Finished working on: 281"
      ],
      "text/plain": [
       "Finished working on: 281"
      ]
     },
     "metadata": {},
     "output_type": "display_data"
    },
    {
     "data": {
      "text/html": [
       "Started working on: 282"
      ],
      "text/plain": [
       "Started working on: 282"
      ]
     },
     "metadata": {},
     "output_type": "display_data"
    },
    {
     "data": {
      "text/html": [
       "Finished working on: 172"
      ],
      "text/plain": [
       "Finished working on: 172"
      ]
     },
     "metadata": {},
     "output_type": "display_data"
    },
    {
     "data": {
      "text/html": [
       "Started working on: 173"
      ],
      "text/plain": [
       "Started working on: 173"
      ]
     },
     "metadata": {},
     "output_type": "display_data"
    },
    {
     "data": {
      "text/html": [
       "Finished working on: 297"
      ],
      "text/plain": [
       "Finished working on: 297"
      ]
     },
     "metadata": {},
     "output_type": "display_data"
    },
    {
     "data": {
      "text/html": [
       "Started working on: 298"
      ],
      "text/plain": [
       "Started working on: 298"
      ]
     },
     "metadata": {},
     "output_type": "display_data"
    },
    {
     "data": {
      "text/html": [
       "Finished working on: 46"
      ],
      "text/plain": [
       "Finished working on: 46"
      ]
     },
     "metadata": {},
     "output_type": "display_data"
    },
    {
     "data": {
      "text/html": [
       "Started working on: 47"
      ],
      "text/plain": [
       "Started working on: 47"
      ]
     },
     "metadata": {},
     "output_type": "display_data"
    },
    {
     "data": {
      "text/html": [
       "Finished working on: 422"
      ],
      "text/plain": [
       "Finished working on: 422"
      ]
     },
     "metadata": {},
     "output_type": "display_data"
    },
    {
     "data": {
      "text/html": [
       "Started working on: 423"
      ],
      "text/plain": [
       "Started working on: 423"
      ]
     },
     "metadata": {},
     "output_type": "display_data"
    },
    {
     "data": {
      "text/html": [
       "Finished working on: 62"
      ],
      "text/plain": [
       "Finished working on: 62"
      ]
     },
     "metadata": {},
     "output_type": "display_data"
    },
    {
     "data": {
      "text/html": [
       "Started working on: 63"
      ],
      "text/plain": [
       "Started working on: 63"
      ]
     },
     "metadata": {},
     "output_type": "display_data"
    },
    {
     "data": {
      "text/html": [
       "Finished working on: 78"
      ],
      "text/plain": [
       "Finished working on: 78"
      ]
     },
     "metadata": {},
     "output_type": "display_data"
    },
    {
     "data": {
      "text/html": [
       "Started working on: 79"
      ],
      "text/plain": [
       "Started working on: 79"
      ]
     },
     "metadata": {},
     "output_type": "display_data"
    },
    {
     "data": {
      "text/html": [
       "Finished working on: 407"
      ],
      "text/plain": [
       "Finished working on: 407"
      ]
     },
     "metadata": {},
     "output_type": "display_data"
    },
    {
     "data": {
      "text/html": [
       "Started working on: 408"
      ],
      "text/plain": [
       "Started working on: 408"
      ]
     },
     "metadata": {},
     "output_type": "display_data"
    },
    {
     "data": {
      "text/html": [
       "Finished working on: 157"
      ],
      "text/plain": [
       "Finished working on: 157"
      ]
     },
     "metadata": {},
     "output_type": "display_data"
    },
    {
     "data": {
      "text/html": [
       "Started working on: 158"
      ],
      "text/plain": [
       "Started working on: 158"
      ]
     },
     "metadata": {},
     "output_type": "display_data"
    },
    {
     "data": {
      "text/html": [
       "Finished working on: 282"
      ],
      "text/plain": [
       "Finished working on: 282"
      ]
     },
     "metadata": {},
     "output_type": "display_data"
    },
    {
     "data": {
      "text/html": [
       "Started working on: 283"
      ],
      "text/plain": [
       "Started working on: 283"
      ]
     },
     "metadata": {},
     "output_type": "display_data"
    },
    {
     "data": {
      "text/html": [
       "Finished working on: 173"
      ],
      "text/plain": [
       "Finished working on: 173"
      ]
     },
     "metadata": {},
     "output_type": "display_data"
    },
    {
     "data": {
      "text/html": [
       "Started working on: 174"
      ],
      "text/plain": [
       "Started working on: 174"
      ]
     },
     "metadata": {},
     "output_type": "display_data"
    },
    {
     "data": {
      "text/html": [
       "Finished working on: 298"
      ],
      "text/plain": [
       "Finished working on: 298"
      ]
     },
     "metadata": {},
     "output_type": "display_data"
    },
    {
     "data": {
      "text/html": [
       "Started working on: 299"
      ],
      "text/plain": [
       "Started working on: 299"
      ]
     },
     "metadata": {},
     "output_type": "display_data"
    },
    {
     "data": {
      "text/html": [
       "Finished working on: 47"
      ],
      "text/plain": [
       "Finished working on: 47"
      ]
     },
     "metadata": {},
     "output_type": "display_data"
    },
    {
     "data": {
      "text/html": [
       "Started working on: 48"
      ],
      "text/plain": [
       "Started working on: 48"
      ]
     },
     "metadata": {},
     "output_type": "display_data"
    },
    {
     "data": {
      "text/html": [
       "Finished working on: 423"
      ],
      "text/plain": [
       "Finished working on: 423"
      ]
     },
     "metadata": {},
     "output_type": "display_data"
    },
    {
     "data": {
      "text/html": [
       "Started working on: 424"
      ],
      "text/plain": [
       "Started working on: 424"
      ]
     },
     "metadata": {},
     "output_type": "display_data"
    },
    {
     "data": {
      "text/html": [
       "Finished working on: 63"
      ],
      "text/plain": [
       "Finished working on: 63"
      ]
     },
     "metadata": {},
     "output_type": "display_data"
    },
    {
     "data": {
      "text/html": [
       "Started working on: 64"
      ],
      "text/plain": [
       "Started working on: 64"
      ]
     },
     "metadata": {},
     "output_type": "display_data"
    },
    {
     "data": {
      "text/html": [
       "Finished working on: 79"
      ],
      "text/plain": [
       "Finished working on: 79"
      ]
     },
     "metadata": {},
     "output_type": "display_data"
    },
    {
     "data": {
      "text/html": [
       "Started working on: 80"
      ],
      "text/plain": [
       "Started working on: 80"
      ]
     },
     "metadata": {},
     "output_type": "display_data"
    },
    {
     "data": {
      "text/html": [
       "Finished working on: 408"
      ],
      "text/plain": [
       "Finished working on: 408"
      ]
     },
     "metadata": {},
     "output_type": "display_data"
    },
    {
     "data": {
      "text/html": [
       "Finished working on: 158"
      ],
      "text/plain": [
       "Finished working on: 158"
      ]
     },
     "metadata": {},
     "output_type": "display_data"
    },
    {
     "data": {
      "text/html": [
       "Started working on: 159"
      ],
      "text/plain": [
       "Started working on: 159"
      ]
     },
     "metadata": {},
     "output_type": "display_data"
    },
    {
     "data": {
      "text/html": [
       "Started working on: 409"
      ],
      "text/plain": [
       "Started working on: 409"
      ]
     },
     "metadata": {},
     "output_type": "display_data"
    },
    {
     "data": {
      "text/html": [
       "Finished working on: 283"
      ],
      "text/plain": [
       "Finished working on: 283"
      ]
     },
     "metadata": {},
     "output_type": "display_data"
    },
    {
     "data": {
      "text/html": [
       "Started working on: 284"
      ],
      "text/plain": [
       "Started working on: 284"
      ]
     },
     "metadata": {},
     "output_type": "display_data"
    },
    {
     "data": {
      "text/html": [
       "Finished working on: 174"
      ],
      "text/plain": [
       "Finished working on: 174"
      ]
     },
     "metadata": {},
     "output_type": "display_data"
    },
    {
     "data": {
      "text/html": [
       "Started working on: 175"
      ],
      "text/plain": [
       "Started working on: 175"
      ]
     },
     "metadata": {},
     "output_type": "display_data"
    },
    {
     "data": {
      "text/html": [
       "Finished working on: 299"
      ],
      "text/plain": [
       "Finished working on: 299"
      ]
     },
     "metadata": {},
     "output_type": "display_data"
    },
    {
     "data": {
      "text/html": [
       "Started working on: 300"
      ],
      "text/plain": [
       "Started working on: 300"
      ]
     },
     "metadata": {},
     "output_type": "display_data"
    },
    {
     "data": {
      "text/html": [
       "Finished working on: 48"
      ],
      "text/plain": [
       "Finished working on: 48"
      ]
     },
     "metadata": {},
     "output_type": "display_data"
    },
    {
     "data": {
      "text/html": [
       "Started working on: 49"
      ],
      "text/plain": [
       "Started working on: 49"
      ]
     },
     "metadata": {},
     "output_type": "display_data"
    },
    {
     "data": {
      "text/html": [
       "Finished working on: 424"
      ],
      "text/plain": [
       "Finished working on: 424"
      ]
     },
     "metadata": {},
     "output_type": "display_data"
    },
    {
     "data": {
      "text/html": [
       "Started working on: 425"
      ],
      "text/plain": [
       "Started working on: 425"
      ]
     },
     "metadata": {},
     "output_type": "display_data"
    },
    {
     "data": {
      "text/html": [
       "Finished working on: 64"
      ],
      "text/plain": [
       "Finished working on: 64"
      ]
     },
     "metadata": {},
     "output_type": "display_data"
    },
    {
     "data": {
      "text/html": [
       "Started working on: 65"
      ],
      "text/plain": [
       "Started working on: 65"
      ]
     },
     "metadata": {},
     "output_type": "display_data"
    },
    {
     "data": {
      "text/html": [
       "Finished working on: 80"
      ],
      "text/plain": [
       "Finished working on: 80"
      ]
     },
     "metadata": {},
     "output_type": "display_data"
    },
    {
     "data": {
      "text/html": [
       "Started working on: 81"
      ],
      "text/plain": [
       "Started working on: 81"
      ]
     },
     "metadata": {},
     "output_type": "display_data"
    },
    {
     "data": {
      "text/html": [
       "Finished working on: 159"
      ],
      "text/plain": [
       "Finished working on: 159"
      ]
     },
     "metadata": {},
     "output_type": "display_data"
    },
    {
     "data": {
      "text/html": [
       "Started working on: 160"
      ],
      "text/plain": [
       "Started working on: 160"
      ]
     },
     "metadata": {},
     "output_type": "display_data"
    },
    {
     "data": {
      "text/html": [
       "Finished working on: 409"
      ],
      "text/plain": [
       "Finished working on: 409"
      ]
     },
     "metadata": {},
     "output_type": "display_data"
    },
    {
     "data": {
      "text/html": [
       "Started working on: 410"
      ],
      "text/plain": [
       "Started working on: 410"
      ]
     },
     "metadata": {},
     "output_type": "display_data"
    },
    {
     "data": {
      "text/html": [
       "Finished working on: 284"
      ],
      "text/plain": [
       "Finished working on: 284"
      ]
     },
     "metadata": {},
     "output_type": "display_data"
    },
    {
     "data": {
      "text/html": [
       "Started working on: 285"
      ],
      "text/plain": [
       "Started working on: 285"
      ]
     },
     "metadata": {},
     "output_type": "display_data"
    },
    {
     "data": {
      "text/html": [
       "Finished working on: 300"
      ],
      "text/plain": [
       "Finished working on: 300"
      ]
     },
     "metadata": {},
     "output_type": "display_data"
    },
    {
     "data": {
      "text/html": [
       "Started working on: 301"
      ],
      "text/plain": [
       "Started working on: 301"
      ]
     },
     "metadata": {},
     "output_type": "display_data"
    },
    {
     "data": {
      "text/html": [
       "Finished working on: 175"
      ],
      "text/plain": [
       "Finished working on: 175"
      ]
     },
     "metadata": {},
     "output_type": "display_data"
    },
    {
     "data": {
      "text/html": [
       "Started working on: 176"
      ],
      "text/plain": [
       "Started working on: 176"
      ]
     },
     "metadata": {},
     "output_type": "display_data"
    },
    {
     "data": {
      "text/html": [
       "Finished working on: 49"
      ],
      "text/plain": [
       "Finished working on: 49"
      ]
     },
     "metadata": {},
     "output_type": "display_data"
    },
    {
     "data": {
      "text/html": [
       "Started working on: 50"
      ],
      "text/plain": [
       "Started working on: 50"
      ]
     },
     "metadata": {},
     "output_type": "display_data"
    },
    {
     "data": {
      "text/html": [
       "Finished working on: 425"
      ],
      "text/plain": [
       "Finished working on: 425"
      ]
     },
     "metadata": {},
     "output_type": "display_data"
    },
    {
     "data": {
      "text/html": [
       "Started working on: 426"
      ],
      "text/plain": [
       "Started working on: 426"
      ]
     },
     "metadata": {},
     "output_type": "display_data"
    },
    {
     "data": {
      "text/html": [
       "Finished working on: 65"
      ],
      "text/plain": [
       "Finished working on: 65"
      ]
     },
     "metadata": {},
     "output_type": "display_data"
    },
    {
     "data": {
      "text/html": [
       "Started working on: 66"
      ],
      "text/plain": [
       "Started working on: 66"
      ]
     },
     "metadata": {},
     "output_type": "display_data"
    },
    {
     "data": {
      "text/html": [
       "Finished working on: 81"
      ],
      "text/plain": [
       "Finished working on: 81"
      ]
     },
     "metadata": {},
     "output_type": "display_data"
    },
    {
     "data": {
      "text/html": [
       "Started working on: 82"
      ],
      "text/plain": [
       "Started working on: 82"
      ]
     },
     "metadata": {},
     "output_type": "display_data"
    },
    {
     "data": {
      "text/html": [
       "Finished working on: 160"
      ],
      "text/plain": [
       "Finished working on: 160"
      ]
     },
     "metadata": {},
     "output_type": "display_data"
    },
    {
     "data": {
      "text/html": [
       "Started working on: 161"
      ],
      "text/plain": [
       "Started working on: 161"
      ]
     },
     "metadata": {},
     "output_type": "display_data"
    },
    {
     "data": {
      "text/html": [
       "Finished working on: 410"
      ],
      "text/plain": [
       "Finished working on: 410"
      ]
     },
     "metadata": {},
     "output_type": "display_data"
    },
    {
     "data": {
      "text/html": [
       "Started working on: 411"
      ],
      "text/plain": [
       "Started working on: 411"
      ]
     },
     "metadata": {},
     "output_type": "display_data"
    },
    {
     "data": {
      "text/html": [
       "Finished working on: 285"
      ],
      "text/plain": [
       "Finished working on: 285"
      ]
     },
     "metadata": {},
     "output_type": "display_data"
    },
    {
     "data": {
      "text/html": [
       "Started working on: 286"
      ],
      "text/plain": [
       "Started working on: 286"
      ]
     },
     "metadata": {},
     "output_type": "display_data"
    },
    {
     "data": {
      "text/html": [
       "Finished working on: 301"
      ],
      "text/plain": [
       "Finished working on: 301"
      ]
     },
     "metadata": {},
     "output_type": "display_data"
    },
    {
     "data": {
      "text/html": [
       "Started working on: 302"
      ],
      "text/plain": [
       "Started working on: 302"
      ]
     },
     "metadata": {},
     "output_type": "display_data"
    },
    {
     "data": {
      "text/html": [
       "Finished working on: 176"
      ],
      "text/plain": [
       "Finished working on: 176"
      ]
     },
     "metadata": {},
     "output_type": "display_data"
    },
    {
     "data": {
      "text/html": [
       "Started working on: 177"
      ],
      "text/plain": [
       "Started working on: 177"
      ]
     },
     "metadata": {},
     "output_type": "display_data"
    },
    {
     "data": {
      "text/html": [
       "Finished working on: 50"
      ],
      "text/plain": [
       "Finished working on: 50"
      ]
     },
     "metadata": {},
     "output_type": "display_data"
    },
    {
     "data": {
      "text/html": [
       "Started working on: 51"
      ],
      "text/plain": [
       "Started working on: 51"
      ]
     },
     "metadata": {},
     "output_type": "display_data"
    },
    {
     "data": {
      "text/html": [
       "Finished working on: 426"
      ],
      "text/plain": [
       "Finished working on: 426"
      ]
     },
     "metadata": {},
     "output_type": "display_data"
    },
    {
     "data": {
      "text/html": [
       "Started working on: 427"
      ],
      "text/plain": [
       "Started working on: 427"
      ]
     },
     "metadata": {},
     "output_type": "display_data"
    },
    {
     "data": {
      "text/html": [
       "Finished working on: 66"
      ],
      "text/plain": [
       "Finished working on: 66"
      ]
     },
     "metadata": {},
     "output_type": "display_data"
    },
    {
     "data": {
      "text/html": [
       "Started working on: 67"
      ],
      "text/plain": [
       "Started working on: 67"
      ]
     },
     "metadata": {},
     "output_type": "display_data"
    },
    {
     "data": {
      "text/html": [
       "Finished working on: 82"
      ],
      "text/plain": [
       "Finished working on: 82"
      ]
     },
     "metadata": {},
     "output_type": "display_data"
    },
    {
     "data": {
      "text/html": [
       "Started working on: 83"
      ],
      "text/plain": [
       "Started working on: 83"
      ]
     },
     "metadata": {},
     "output_type": "display_data"
    },
    {
     "data": {
      "text/html": [
       "Finished working on: 161"
      ],
      "text/plain": [
       "Finished working on: 161"
      ]
     },
     "metadata": {},
     "output_type": "display_data"
    },
    {
     "data": {
      "text/html": [
       "Started working on: 162"
      ],
      "text/plain": [
       "Started working on: 162"
      ]
     },
     "metadata": {},
     "output_type": "display_data"
    },
    {
     "data": {
      "text/html": [
       "Finished working on: 411"
      ],
      "text/plain": [
       "Finished working on: 411"
      ]
     },
     "metadata": {},
     "output_type": "display_data"
    },
    {
     "data": {
      "text/html": [
       "Started working on: 412"
      ],
      "text/plain": [
       "Started working on: 412"
      ]
     },
     "metadata": {},
     "output_type": "display_data"
    },
    {
     "data": {
      "text/html": [
       "Finished working on: 286"
      ],
      "text/plain": [
       "Finished working on: 286"
      ]
     },
     "metadata": {},
     "output_type": "display_data"
    },
    {
     "data": {
      "text/html": [
       "Started working on: 287"
      ],
      "text/plain": [
       "Started working on: 287"
      ]
     },
     "metadata": {},
     "output_type": "display_data"
    },
    {
     "data": {
      "text/html": [
       "Finished working on: 302"
      ],
      "text/plain": [
       "Finished working on: 302"
      ]
     },
     "metadata": {},
     "output_type": "display_data"
    },
    {
     "data": {
      "text/html": [
       "Started working on: 303"
      ],
      "text/plain": [
       "Started working on: 303"
      ]
     },
     "metadata": {},
     "output_type": "display_data"
    },
    {
     "data": {
      "text/html": [
       "Finished working on: 177"
      ],
      "text/plain": [
       "Finished working on: 177"
      ]
     },
     "metadata": {},
     "output_type": "display_data"
    },
    {
     "data": {
      "text/html": [
       "Started working on: 178"
      ],
      "text/plain": [
       "Started working on: 178"
      ]
     },
     "metadata": {},
     "output_type": "display_data"
    },
    {
     "data": {
      "text/html": [
       "Finished working on: 51"
      ],
      "text/plain": [
       "Finished working on: 51"
      ]
     },
     "metadata": {},
     "output_type": "display_data"
    },
    {
     "data": {
      "text/html": [
       "Started working on: 52"
      ],
      "text/plain": [
       "Started working on: 52"
      ]
     },
     "metadata": {},
     "output_type": "display_data"
    },
    {
     "data": {
      "text/html": [
       "Finished working on: 427"
      ],
      "text/plain": [
       "Finished working on: 427"
      ]
     },
     "metadata": {},
     "output_type": "display_data"
    },
    {
     "data": {
      "text/html": [
       "Started working on: 428"
      ],
      "text/plain": [
       "Started working on: 428"
      ]
     },
     "metadata": {},
     "output_type": "display_data"
    },
    {
     "data": {
      "text/html": [
       "Finished working on: 67"
      ],
      "text/plain": [
       "Finished working on: 67"
      ]
     },
     "metadata": {},
     "output_type": "display_data"
    },
    {
     "data": {
      "text/html": [
       "Started working on: 68"
      ],
      "text/plain": [
       "Started working on: 68"
      ]
     },
     "metadata": {},
     "output_type": "display_data"
    },
    {
     "data": {
      "text/html": [
       "Finished working on: 83"
      ],
      "text/plain": [
       "Finished working on: 83"
      ]
     },
     "metadata": {},
     "output_type": "display_data"
    },
    {
     "data": {
      "text/html": [
       "Started working on: 84"
      ],
      "text/plain": [
       "Started working on: 84"
      ]
     },
     "metadata": {},
     "output_type": "display_data"
    },
    {
     "data": {
      "text/html": [
       "Finished working on: 162"
      ],
      "text/plain": [
       "Finished working on: 162"
      ]
     },
     "metadata": {},
     "output_type": "display_data"
    },
    {
     "data": {
      "text/html": [
       "Started working on: 163"
      ],
      "text/plain": [
       "Started working on: 163"
      ]
     },
     "metadata": {},
     "output_type": "display_data"
    },
    {
     "data": {
      "text/html": [
       "Finished working on: 412"
      ],
      "text/plain": [
       "Finished working on: 412"
      ]
     },
     "metadata": {},
     "output_type": "display_data"
    },
    {
     "data": {
      "text/html": [
       "Started working on: 413"
      ],
      "text/plain": [
       "Started working on: 413"
      ]
     },
     "metadata": {},
     "output_type": "display_data"
    },
    {
     "data": {
      "text/html": [
       "Finished working on: 287"
      ],
      "text/plain": [
       "Finished working on: 287"
      ]
     },
     "metadata": {},
     "output_type": "display_data"
    },
    {
     "data": {
      "text/html": [
       "Started working on: 288"
      ],
      "text/plain": [
       "Started working on: 288"
      ]
     },
     "metadata": {},
     "output_type": "display_data"
    },
    {
     "data": {
      "text/html": [
       "Finished working on: 303"
      ],
      "text/plain": [
       "Finished working on: 303"
      ]
     },
     "metadata": {},
     "output_type": "display_data"
    },
    {
     "data": {
      "text/html": [
       "Started working on: 304"
      ],
      "text/plain": [
       "Started working on: 304"
      ]
     },
     "metadata": {},
     "output_type": "display_data"
    },
    {
     "data": {
      "text/html": [
       "Finished working on: 178"
      ],
      "text/plain": [
       "Finished working on: 178"
      ]
     },
     "metadata": {},
     "output_type": "display_data"
    },
    {
     "data": {
      "text/html": [
       "Started working on: 179"
      ],
      "text/plain": [
       "Started working on: 179"
      ]
     },
     "metadata": {},
     "output_type": "display_data"
    },
    {
     "data": {
      "text/html": [
       "Finished working on: 52"
      ],
      "text/plain": [
       "Finished working on: 52"
      ]
     },
     "metadata": {},
     "output_type": "display_data"
    },
    {
     "data": {
      "text/html": [
       "Started working on: 53"
      ],
      "text/plain": [
       "Started working on: 53"
      ]
     },
     "metadata": {},
     "output_type": "display_data"
    },
    {
     "data": {
      "text/html": [
       "Finished working on: 428"
      ],
      "text/plain": [
       "Finished working on: 428"
      ]
     },
     "metadata": {},
     "output_type": "display_data"
    },
    {
     "data": {
      "text/html": [
       "Started working on: 429"
      ],
      "text/plain": [
       "Started working on: 429"
      ]
     },
     "metadata": {},
     "output_type": "display_data"
    },
    {
     "data": {
      "text/html": [
       "Finished working on: 68"
      ],
      "text/plain": [
       "Finished working on: 68"
      ]
     },
     "metadata": {},
     "output_type": "display_data"
    },
    {
     "data": {
      "text/html": [
       "Started working on: 69"
      ],
      "text/plain": [
       "Started working on: 69"
      ]
     },
     "metadata": {},
     "output_type": "display_data"
    },
    {
     "data": {
      "text/html": [
       "Finished working on: 84"
      ],
      "text/plain": [
       "Finished working on: 84"
      ]
     },
     "metadata": {},
     "output_type": "display_data"
    },
    {
     "data": {
      "text/html": [
       "Started working on: 85"
      ],
      "text/plain": [
       "Started working on: 85"
      ]
     },
     "metadata": {},
     "output_type": "display_data"
    },
    {
     "data": {
      "text/html": [
       "Finished working on: 163"
      ],
      "text/plain": [
       "Finished working on: 163"
      ]
     },
     "metadata": {},
     "output_type": "display_data"
    },
    {
     "data": {
      "text/html": [
       "Started working on: 164"
      ],
      "text/plain": [
       "Started working on: 164"
      ]
     },
     "metadata": {},
     "output_type": "display_data"
    },
    {
     "data": {
      "text/html": [
       "Finished working on: 413"
      ],
      "text/plain": [
       "Finished working on: 413"
      ]
     },
     "metadata": {},
     "output_type": "display_data"
    },
    {
     "data": {
      "text/html": [
       "Started working on: 414"
      ],
      "text/plain": [
       "Started working on: 414"
      ]
     },
     "metadata": {},
     "output_type": "display_data"
    },
    {
     "data": {
      "text/html": [
       "Finished working on: 288"
      ],
      "text/plain": [
       "Finished working on: 288"
      ]
     },
     "metadata": {},
     "output_type": "display_data"
    },
    {
     "data": {
      "text/html": [
       "Started working on: 289"
      ],
      "text/plain": [
       "Started working on: 289"
      ]
     },
     "metadata": {},
     "output_type": "display_data"
    },
    {
     "data": {
      "text/html": [
       "Finished working on: 304"
      ],
      "text/plain": [
       "Finished working on: 304"
      ]
     },
     "metadata": {},
     "output_type": "display_data"
    },
    {
     "data": {
      "text/html": [
       "Started working on: 305"
      ],
      "text/plain": [
       "Started working on: 305"
      ]
     },
     "metadata": {},
     "output_type": "display_data"
    },
    {
     "data": {
      "text/html": [
       "Finished working on: 179"
      ],
      "text/plain": [
       "Finished working on: 179"
      ]
     },
     "metadata": {},
     "output_type": "display_data"
    },
    {
     "data": {
      "text/html": [
       "Started working on: 180"
      ],
      "text/plain": [
       "Started working on: 180"
      ]
     },
     "metadata": {},
     "output_type": "display_data"
    },
    {
     "data": {
      "text/html": [
       "Finished working on: 53"
      ],
      "text/plain": [
       "Finished working on: 53"
      ]
     },
     "metadata": {},
     "output_type": "display_data"
    },
    {
     "data": {
      "text/html": [
       "Started working on: 54"
      ],
      "text/plain": [
       "Started working on: 54"
      ]
     },
     "metadata": {},
     "output_type": "display_data"
    },
    {
     "data": {
      "text/html": [
       "Finished working on: 429"
      ],
      "text/plain": [
       "Finished working on: 429"
      ]
     },
     "metadata": {},
     "output_type": "display_data"
    },
    {
     "data": {
      "text/html": [
       "Started working on: 430"
      ],
      "text/plain": [
       "Started working on: 430"
      ]
     },
     "metadata": {},
     "output_type": "display_data"
    },
    {
     "data": {
      "text/html": [
       "Finished working on: 69"
      ],
      "text/plain": [
       "Finished working on: 69"
      ]
     },
     "metadata": {},
     "output_type": "display_data"
    },
    {
     "data": {
      "text/html": [
       "Started working on: 70"
      ],
      "text/plain": [
       "Started working on: 70"
      ]
     },
     "metadata": {},
     "output_type": "display_data"
    },
    {
     "data": {
      "text/html": [
       "Finished working on: 85"
      ],
      "text/plain": [
       "Finished working on: 85"
      ]
     },
     "metadata": {},
     "output_type": "display_data"
    },
    {
     "data": {
      "text/html": [
       "Started working on: 86"
      ],
      "text/plain": [
       "Started working on: 86"
      ]
     },
     "metadata": {},
     "output_type": "display_data"
    },
    {
     "data": {
      "text/html": [
       "Finished working on: 164"
      ],
      "text/plain": [
       "Finished working on: 164"
      ]
     },
     "metadata": {},
     "output_type": "display_data"
    },
    {
     "data": {
      "text/html": [
       "Started working on: 165"
      ],
      "text/plain": [
       "Started working on: 165"
      ]
     },
     "metadata": {},
     "output_type": "display_data"
    },
    {
     "data": {
      "text/html": [
       "Finished working on: 414"
      ],
      "text/plain": [
       "Finished working on: 414"
      ]
     },
     "metadata": {},
     "output_type": "display_data"
    },
    {
     "data": {
      "text/html": [
       "Started working on: 415"
      ],
      "text/plain": [
       "Started working on: 415"
      ]
     },
     "metadata": {},
     "output_type": "display_data"
    },
    {
     "data": {
      "text/html": [
       "Finished working on: 289"
      ],
      "text/plain": [
       "Finished working on: 289"
      ]
     },
     "metadata": {},
     "output_type": "display_data"
    },
    {
     "data": {
      "text/html": [
       "Started working on: 290"
      ],
      "text/plain": [
       "Started working on: 290"
      ]
     },
     "metadata": {},
     "output_type": "display_data"
    },
    {
     "data": {
      "text/html": [
       "Finished working on: 305"
      ],
      "text/plain": [
       "Finished working on: 305"
      ]
     },
     "metadata": {},
     "output_type": "display_data"
    },
    {
     "data": {
      "text/html": [
       "Started working on: 306"
      ],
      "text/plain": [
       "Started working on: 306"
      ]
     },
     "metadata": {},
     "output_type": "display_data"
    },
    {
     "data": {
      "text/html": [
       "Finished working on: 180"
      ],
      "text/plain": [
       "Finished working on: 180"
      ]
     },
     "metadata": {},
     "output_type": "display_data"
    },
    {
     "data": {
      "text/html": [
       "Started working on: 181"
      ],
      "text/plain": [
       "Started working on: 181"
      ]
     },
     "metadata": {},
     "output_type": "display_data"
    },
    {
     "data": {
      "text/html": [
       "Finished working on: 54"
      ],
      "text/plain": [
       "Finished working on: 54"
      ]
     },
     "metadata": {},
     "output_type": "display_data"
    },
    {
     "data": {
      "text/html": [
       "Started working on: 55"
      ],
      "text/plain": [
       "Started working on: 55"
      ]
     },
     "metadata": {},
     "output_type": "display_data"
    },
    {
     "data": {
      "text/html": [
       "Finished working on: 430"
      ],
      "text/plain": [
       "Finished working on: 430"
      ]
     },
     "metadata": {},
     "output_type": "display_data"
    },
    {
     "data": {
      "text/html": [
       "Started working on: 431"
      ],
      "text/plain": [
       "Started working on: 431"
      ]
     },
     "metadata": {},
     "output_type": "display_data"
    },
    {
     "data": {
      "text/html": [
       "Finished working on: 70"
      ],
      "text/plain": [
       "Finished working on: 70"
      ]
     },
     "metadata": {},
     "output_type": "display_data"
    },
    {
     "data": {
      "text/html": [
       "Started working on: 71"
      ],
      "text/plain": [
       "Started working on: 71"
      ]
     },
     "metadata": {},
     "output_type": "display_data"
    },
    {
     "data": {
      "text/html": [
       "Finished working on: 86"
      ],
      "text/plain": [
       "Finished working on: 86"
      ]
     },
     "metadata": {},
     "output_type": "display_data"
    },
    {
     "data": {
      "text/html": [
       "Started working on: 87"
      ],
      "text/plain": [
       "Started working on: 87"
      ]
     },
     "metadata": {},
     "output_type": "display_data"
    },
    {
     "data": {
      "text/html": [
       "Finished working on: 165"
      ],
      "text/plain": [
       "Finished working on: 165"
      ]
     },
     "metadata": {},
     "output_type": "display_data"
    },
    {
     "data": {
      "text/html": [
       "Started working on: 166"
      ],
      "text/plain": [
       "Started working on: 166"
      ]
     },
     "metadata": {},
     "output_type": "display_data"
    },
    {
     "data": {
      "text/html": [
       "Finished working on: 415"
      ],
      "text/plain": [
       "Finished working on: 415"
      ]
     },
     "metadata": {},
     "output_type": "display_data"
    },
    {
     "data": {
      "text/html": [
       "Started working on: 416"
      ],
      "text/plain": [
       "Started working on: 416"
      ]
     },
     "metadata": {},
     "output_type": "display_data"
    },
    {
     "data": {
      "text/html": [
       "Finished working on: 290"
      ],
      "text/plain": [
       "Finished working on: 290"
      ]
     },
     "metadata": {},
     "output_type": "display_data"
    },
    {
     "data": {
      "text/html": [
       "Started working on: 291"
      ],
      "text/plain": [
       "Started working on: 291"
      ]
     },
     "metadata": {},
     "output_type": "display_data"
    },
    {
     "data": {
      "text/html": [
       "Finished working on: 306"
      ],
      "text/plain": [
       "Finished working on: 306"
      ]
     },
     "metadata": {},
     "output_type": "display_data"
    },
    {
     "data": {
      "text/html": [
       "Started working on: 307"
      ],
      "text/plain": [
       "Started working on: 307"
      ]
     },
     "metadata": {},
     "output_type": "display_data"
    },
    {
     "data": {
      "text/html": [
       "Finished working on: 181"
      ],
      "text/plain": [
       "Finished working on: 181"
      ]
     },
     "metadata": {},
     "output_type": "display_data"
    },
    {
     "data": {
      "text/html": [
       "Started working on: 182"
      ],
      "text/plain": [
       "Started working on: 182"
      ]
     },
     "metadata": {},
     "output_type": "display_data"
    },
    {
     "data": {
      "text/html": [
       "Finished working on: 55"
      ],
      "text/plain": [
       "Finished working on: 55"
      ]
     },
     "metadata": {},
     "output_type": "display_data"
    },
    {
     "data": {
      "text/html": [
       "Started working on: 56"
      ],
      "text/plain": [
       "Started working on: 56"
      ]
     },
     "metadata": {},
     "output_type": "display_data"
    },
    {
     "data": {
      "text/html": [
       "Finished working on: 431"
      ],
      "text/plain": [
       "Finished working on: 431"
      ]
     },
     "metadata": {},
     "output_type": "display_data"
    },
    {
     "data": {
      "text/html": [
       "Started working on: 432"
      ],
      "text/plain": [
       "Started working on: 432"
      ]
     },
     "metadata": {},
     "output_type": "display_data"
    },
    {
     "data": {
      "text/html": [
       "Finished working on: 71"
      ],
      "text/plain": [
       "Finished working on: 71"
      ]
     },
     "metadata": {},
     "output_type": "display_data"
    },
    {
     "data": {
      "text/html": [
       "Started working on: 72"
      ],
      "text/plain": [
       "Started working on: 72"
      ]
     },
     "metadata": {},
     "output_type": "display_data"
    },
    {
     "data": {
      "text/html": [
       "Finished working on: 87"
      ],
      "text/plain": [
       "Finished working on: 87"
      ]
     },
     "metadata": {},
     "output_type": "display_data"
    },
    {
     "data": {
      "text/html": [
       "Started working on: 88"
      ],
      "text/plain": [
       "Started working on: 88"
      ]
     },
     "metadata": {},
     "output_type": "display_data"
    },
    {
     "data": {
      "text/html": [
       "Finished working on: 166"
      ],
      "text/plain": [
       "Finished working on: 166"
      ]
     },
     "metadata": {},
     "output_type": "display_data"
    },
    {
     "data": {
      "text/html": [
       "Started working on: 167"
      ],
      "text/plain": [
       "Started working on: 167"
      ]
     },
     "metadata": {},
     "output_type": "display_data"
    },
    {
     "data": {
      "text/html": [
       "Finished working on: 416"
      ],
      "text/plain": [
       "Finished working on: 416"
      ]
     },
     "metadata": {},
     "output_type": "display_data"
    },
    {
     "data": {
      "text/html": [
       "Started working on: 417"
      ],
      "text/plain": [
       "Started working on: 417"
      ]
     },
     "metadata": {},
     "output_type": "display_data"
    },
    {
     "data": {
      "text/html": [
       "Finished working on: 291"
      ],
      "text/plain": [
       "Finished working on: 291"
      ]
     },
     "metadata": {},
     "output_type": "display_data"
    },
    {
     "data": {
      "text/html": [
       "Started working on: 292"
      ],
      "text/plain": [
       "Started working on: 292"
      ]
     },
     "metadata": {},
     "output_type": "display_data"
    },
    {
     "data": {
      "text/html": [
       "Finished working on: 182"
      ],
      "text/plain": [
       "Finished working on: 182"
      ]
     },
     "metadata": {},
     "output_type": "display_data"
    },
    {
     "data": {
      "text/html": [
       "Started working on: 183"
      ],
      "text/plain": [
       "Started working on: 183"
      ]
     },
     "metadata": {},
     "output_type": "display_data"
    },
    {
     "data": {
      "text/html": [
       "Finished working on: 307"
      ],
      "text/plain": [
       "Finished working on: 307"
      ]
     },
     "metadata": {},
     "output_type": "display_data"
    },
    {
     "data": {
      "text/html": [
       "Started working on: 308"
      ],
      "text/plain": [
       "Started working on: 308"
      ]
     },
     "metadata": {},
     "output_type": "display_data"
    },
    {
     "data": {
      "text/html": [
       "Finished working on: 56"
      ],
      "text/plain": [
       "Finished working on: 56"
      ]
     },
     "metadata": {},
     "output_type": "display_data"
    },
    {
     "data": {
      "text/html": [
       "Started working on: 57"
      ],
      "text/plain": [
       "Started working on: 57"
      ]
     },
     "metadata": {},
     "output_type": "display_data"
    },
    {
     "data": {
      "text/html": [
       "Finished working on: 432"
      ],
      "text/plain": [
       "Finished working on: 432"
      ]
     },
     "metadata": {},
     "output_type": "display_data"
    },
    {
     "data": {
      "text/html": [
       "Started working on: 433"
      ],
      "text/plain": [
       "Started working on: 433"
      ]
     },
     "metadata": {},
     "output_type": "display_data"
    },
    {
     "data": {
      "text/html": [
       "Finished working on: 72"
      ],
      "text/plain": [
       "Finished working on: 72"
      ]
     },
     "metadata": {},
     "output_type": "display_data"
    },
    {
     "data": {
      "text/html": [
       "Started working on: 73"
      ],
      "text/plain": [
       "Started working on: 73"
      ]
     },
     "metadata": {},
     "output_type": "display_data"
    },
    {
     "data": {
      "text/html": [
       "Finished working on: 88"
      ],
      "text/plain": [
       "Finished working on: 88"
      ]
     },
     "metadata": {},
     "output_type": "display_data"
    },
    {
     "data": {
      "text/html": [
       "Started working on: 89"
      ],
      "text/plain": [
       "Started working on: 89"
      ]
     },
     "metadata": {},
     "output_type": "display_data"
    },
    {
     "data": {
      "text/html": [
       "Finished working on: 167"
      ],
      "text/plain": [
       "Finished working on: 167"
      ]
     },
     "metadata": {},
     "output_type": "display_data"
    },
    {
     "data": {
      "text/html": [
       "Started working on: 168"
      ],
      "text/plain": [
       "Started working on: 168"
      ]
     },
     "metadata": {},
     "output_type": "display_data"
    },
    {
     "data": {
      "text/html": [
       "Finished working on: 417"
      ],
      "text/plain": [
       "Finished working on: 417"
      ]
     },
     "metadata": {},
     "output_type": "display_data"
    },
    {
     "data": {
      "text/html": [
       "Started working on: 418"
      ],
      "text/plain": [
       "Started working on: 418"
      ]
     },
     "metadata": {},
     "output_type": "display_data"
    },
    {
     "data": {
      "text/html": [
       "Finished working on: 292"
      ],
      "text/plain": [
       "Finished working on: 292"
      ]
     },
     "metadata": {},
     "output_type": "display_data"
    },
    {
     "data": {
      "text/html": [
       "Started working on: 293"
      ],
      "text/plain": [
       "Started working on: 293"
      ]
     },
     "metadata": {},
     "output_type": "display_data"
    },
    {
     "data": {
      "text/html": [
       "Finished working on: 183"
      ],
      "text/plain": [
       "Finished working on: 183"
      ]
     },
     "metadata": {},
     "output_type": "display_data"
    },
    {
     "data": {
      "text/html": [
       "Started working on: 184"
      ],
      "text/plain": [
       "Started working on: 184"
      ]
     },
     "metadata": {},
     "output_type": "display_data"
    },
    {
     "data": {
      "text/html": [
       "Finished working on: 308"
      ],
      "text/plain": [
       "Finished working on: 308"
      ]
     },
     "metadata": {},
     "output_type": "display_data"
    },
    {
     "data": {
      "text/html": [
       "Started working on: 309"
      ],
      "text/plain": [
       "Started working on: 309"
      ]
     },
     "metadata": {},
     "output_type": "display_data"
    },
    {
     "data": {
      "text/html": [
       "Finished working on: 57"
      ],
      "text/plain": [
       "Finished working on: 57"
      ]
     },
     "metadata": {},
     "output_type": "display_data"
    },
    {
     "data": {
      "text/html": [
       "Started working on: 58"
      ],
      "text/plain": [
       "Started working on: 58"
      ]
     },
     "metadata": {},
     "output_type": "display_data"
    },
    {
     "data": {
      "text/html": [
       "Finished working on: 433"
      ],
      "text/plain": [
       "Finished working on: 433"
      ]
     },
     "metadata": {},
     "output_type": "display_data"
    },
    {
     "data": {
      "text/html": [
       "Started working on: 434"
      ],
      "text/plain": [
       "Started working on: 434"
      ]
     },
     "metadata": {},
     "output_type": "display_data"
    },
    {
     "data": {
      "text/html": [
       "Finished working on: 73"
      ],
      "text/plain": [
       "Finished working on: 73"
      ]
     },
     "metadata": {},
     "output_type": "display_data"
    },
    {
     "data": {
      "text/html": [
       "Started working on: 74"
      ],
      "text/plain": [
       "Started working on: 74"
      ]
     },
     "metadata": {},
     "output_type": "display_data"
    },
    {
     "data": {
      "text/html": [
       "Finished working on: 89"
      ],
      "text/plain": [
       "Finished working on: 89"
      ]
     },
     "metadata": {},
     "output_type": "display_data"
    },
    {
     "data": {
      "text/html": [
       "Started working on: 90"
      ],
      "text/plain": [
       "Started working on: 90"
      ]
     },
     "metadata": {},
     "output_type": "display_data"
    },
    {
     "data": {
      "text/html": [
       "Finished working on: 168"
      ],
      "text/plain": [
       "Finished working on: 168"
      ]
     },
     "metadata": {},
     "output_type": "display_data"
    },
    {
     "data": {
      "text/html": [
       "Started working on: 169"
      ],
      "text/plain": [
       "Started working on: 169"
      ]
     },
     "metadata": {},
     "output_type": "display_data"
    },
    {
     "data": {
      "text/html": [
       "Finished working on: 418"
      ],
      "text/plain": [
       "Finished working on: 418"
      ]
     },
     "metadata": {},
     "output_type": "display_data"
    },
    {
     "data": {
      "text/html": [
       "Started working on: 419"
      ],
      "text/plain": [
       "Started working on: 419"
      ]
     },
     "metadata": {},
     "output_type": "display_data"
    },
    {
     "data": {
      "text/html": [
       "Finished working on: 293"
      ],
      "text/plain": [
       "Finished working on: 293"
      ]
     },
     "metadata": {},
     "output_type": "display_data"
    },
    {
     "data": {
      "text/html": [
       "Started working on: 294"
      ],
      "text/plain": [
       "Started working on: 294"
      ]
     },
     "metadata": {},
     "output_type": "display_data"
    },
    {
     "data": {
      "text/html": [
       "Finished working on: 184"
      ],
      "text/plain": [
       "Finished working on: 184"
      ]
     },
     "metadata": {},
     "output_type": "display_data"
    },
    {
     "data": {
      "text/html": [
       "Started working on: 185"
      ],
      "text/plain": [
       "Started working on: 185"
      ]
     },
     "metadata": {},
     "output_type": "display_data"
    },
    {
     "data": {
      "text/html": [
       "Finished working on: 309"
      ],
      "text/plain": [
       "Finished working on: 309"
      ]
     },
     "metadata": {},
     "output_type": "display_data"
    },
    {
     "data": {
      "text/html": [
       "Started working on: 310"
      ],
      "text/plain": [
       "Started working on: 310"
      ]
     },
     "metadata": {},
     "output_type": "display_data"
    },
    {
     "data": {
      "text/html": [
       "Finished working on: 58"
      ],
      "text/plain": [
       "Finished working on: 58"
      ]
     },
     "metadata": {},
     "output_type": "display_data"
    },
    {
     "data": {
      "text/html": [
       "Started working on: 59"
      ],
      "text/plain": [
       "Started working on: 59"
      ]
     },
     "metadata": {},
     "output_type": "display_data"
    },
    {
     "data": {
      "text/html": [
       "Finished working on: 434"
      ],
      "text/plain": [
       "Finished working on: 434"
      ]
     },
     "metadata": {},
     "output_type": "display_data"
    },
    {
     "data": {
      "text/html": [
       "Started working on: 435"
      ],
      "text/plain": [
       "Started working on: 435"
      ]
     },
     "metadata": {},
     "output_type": "display_data"
    },
    {
     "data": {
      "text/html": [
       "Finished working on: 74"
      ],
      "text/plain": [
       "Finished working on: 74"
      ]
     },
     "metadata": {},
     "output_type": "display_data"
    },
    {
     "data": {
      "text/html": [
       "Started working on: 75"
      ],
      "text/plain": [
       "Started working on: 75"
      ]
     },
     "metadata": {},
     "output_type": "display_data"
    },
    {
     "data": {
      "text/html": [
       "Finished working on: 90"
      ],
      "text/plain": [
       "Finished working on: 90"
      ]
     },
     "metadata": {},
     "output_type": "display_data"
    },
    {
     "data": {
      "text/html": [
       "Started working on: 91"
      ],
      "text/plain": [
       "Started working on: 91"
      ]
     },
     "metadata": {},
     "output_type": "display_data"
    },
    {
     "data": {
      "text/html": [
       "Finished working on: 169"
      ],
      "text/plain": [
       "Finished working on: 169"
      ]
     },
     "metadata": {},
     "output_type": "display_data"
    },
    {
     "data": {
      "text/html": [
       "Started working on: 170"
      ],
      "text/plain": [
       "Started working on: 170"
      ]
     },
     "metadata": {},
     "output_type": "display_data"
    },
    {
     "data": {
      "text/html": [
       "Finished working on: 419"
      ],
      "text/plain": [
       "Finished working on: 419"
      ]
     },
     "metadata": {},
     "output_type": "display_data"
    },
    {
     "data": {
      "text/html": [
       "Started working on: 420"
      ],
      "text/plain": [
       "Started working on: 420"
      ]
     },
     "metadata": {},
     "output_type": "display_data"
    },
    {
     "data": {
      "text/html": [
       "Finished working on: 294"
      ],
      "text/plain": [
       "Finished working on: 294"
      ]
     },
     "metadata": {},
     "output_type": "display_data"
    },
    {
     "data": {
      "text/html": [
       "Started working on: 295"
      ],
      "text/plain": [
       "Started working on: 295"
      ]
     },
     "metadata": {},
     "output_type": "display_data"
    },
    {
     "data": {
      "text/html": [
       "Finished working on: 185"
      ],
      "text/plain": [
       "Finished working on: 185"
      ]
     },
     "metadata": {},
     "output_type": "display_data"
    },
    {
     "data": {
      "text/html": [
       "Started working on: 186"
      ],
      "text/plain": [
       "Started working on: 186"
      ]
     },
     "metadata": {},
     "output_type": "display_data"
    },
    {
     "data": {
      "text/html": [
       "Finished working on: 310"
      ],
      "text/plain": [
       "Finished working on: 310"
      ]
     },
     "metadata": {},
     "output_type": "display_data"
    },
    {
     "data": {
      "text/html": [
       "Started working on: 311"
      ],
      "text/plain": [
       "Started working on: 311"
      ]
     },
     "metadata": {},
     "output_type": "display_data"
    },
    {
     "data": {
      "text/html": [
       "Finished working on: 59"
      ],
      "text/plain": [
       "Finished working on: 59"
      ]
     },
     "metadata": {},
     "output_type": "display_data"
    },
    {
     "data": {
      "text/html": [
       "Started working on: 60"
      ],
      "text/plain": [
       "Started working on: 60"
      ]
     },
     "metadata": {},
     "output_type": "display_data"
    },
    {
     "data": {
      "text/html": [
       "Finished working on: 435"
      ],
      "text/plain": [
       "Finished working on: 435"
      ]
     },
     "metadata": {},
     "output_type": "display_data"
    },
    {
     "data": {
      "text/html": [
       "Started working on: 436"
      ],
      "text/plain": [
       "Started working on: 436"
      ]
     },
     "metadata": {},
     "output_type": "display_data"
    },
    {
     "data": {
      "text/html": [
       "Finished working on: 75"
      ],
      "text/plain": [
       "Finished working on: 75"
      ]
     },
     "metadata": {},
     "output_type": "display_data"
    },
    {
     "data": {
      "text/html": [
       "Started working on: 76"
      ],
      "text/plain": [
       "Started working on: 76"
      ]
     },
     "metadata": {},
     "output_type": "display_data"
    },
    {
     "data": {
      "text/html": [
       "Finished working on: 91"
      ],
      "text/plain": [
       "Finished working on: 91"
      ]
     },
     "metadata": {},
     "output_type": "display_data"
    },
    {
     "data": {
      "text/html": [
       "Started working on: 92"
      ],
      "text/plain": [
       "Started working on: 92"
      ]
     },
     "metadata": {},
     "output_type": "display_data"
    },
    {
     "data": {
      "text/html": [
       "Finished working on: 170"
      ],
      "text/plain": [
       "Finished working on: 170"
      ]
     },
     "metadata": {},
     "output_type": "display_data"
    },
    {
     "data": {
      "text/html": [
       "Started working on: 187"
      ],
      "text/plain": [
       "Started working on: 187"
      ]
     },
     "metadata": {},
     "output_type": "display_data"
    },
    {
     "data": {
      "text/html": [
       "Finished working on: 420"
      ],
      "text/plain": [
       "Finished working on: 420"
      ]
     },
     "metadata": {},
     "output_type": "display_data"
    },
    {
     "data": {
      "text/html": [
       "Started working on: 437"
      ],
      "text/plain": [
       "Started working on: 437"
      ]
     },
     "metadata": {},
     "output_type": "display_data"
    },
    {
     "data": {
      "text/html": [
       "Finished working on: 295"
      ],
      "text/plain": [
       "Finished working on: 295"
      ]
     },
     "metadata": {},
     "output_type": "display_data"
    },
    {
     "data": {
      "text/html": [
       "Started working on: 312"
      ],
      "text/plain": [
       "Started working on: 312"
      ]
     },
     "metadata": {},
     "output_type": "display_data"
    },
    {
     "data": {
      "text/html": [
       "Finished working on: 186"
      ],
      "text/plain": [
       "Finished working on: 186"
      ]
     },
     "metadata": {},
     "output_type": "display_data"
    },
    {
     "data": {
      "text/html": [
       "Started working on: 203"
      ],
      "text/plain": [
       "Started working on: 203"
      ]
     },
     "metadata": {},
     "output_type": "display_data"
    },
    {
     "data": {
      "text/html": [
       "Finished working on: 311"
      ],
      "text/plain": [
       "Finished working on: 311"
      ]
     },
     "metadata": {},
     "output_type": "display_data"
    },
    {
     "data": {
      "text/html": [
       "Started working on: 328"
      ],
      "text/plain": [
       "Started working on: 328"
      ]
     },
     "metadata": {},
     "output_type": "display_data"
    },
    {
     "data": {
      "text/html": [
       "Finished working on: 60"
      ],
      "text/plain": [
       "Finished working on: 60"
      ]
     },
     "metadata": {},
     "output_type": "display_data"
    },
    {
     "data": {
      "text/html": [
       "Started working on: 93"
      ],
      "text/plain": [
       "Started working on: 93"
      ]
     },
     "metadata": {},
     "output_type": "display_data"
    },
    {
     "data": {
      "text/html": [
       "Finished working on: 436"
      ],
      "text/plain": [
       "Finished working on: 436"
      ]
     },
     "metadata": {},
     "output_type": "display_data"
    },
    {
     "data": {
      "text/html": [
       "Started working on: 453"
      ],
      "text/plain": [
       "Started working on: 453"
      ]
     },
     "metadata": {},
     "output_type": "display_data"
    },
    {
     "data": {
      "text/html": [
       "Finished working on: 76"
      ],
      "text/plain": [
       "Finished working on: 76"
      ]
     },
     "metadata": {},
     "output_type": "display_data"
    },
    {
     "data": {
      "text/html": [
       "Started working on: 109"
      ],
      "text/plain": [
       "Started working on: 109"
      ]
     },
     "metadata": {},
     "output_type": "display_data"
    },
    {
     "data": {
      "text/html": [
       "Finished working on: 92"
      ],
      "text/plain": [
       "Finished working on: 92"
      ]
     },
     "metadata": {},
     "output_type": "display_data"
    },
    {
     "data": {
      "text/html": [
       "Started working on: 219"
      ],
      "text/plain": [
       "Started working on: 219"
      ]
     },
     "metadata": {},
     "output_type": "display_data"
    },
    {
     "data": {
      "text/html": [
       "Finished working on: 187"
      ],
      "text/plain": [
       "Finished working on: 187"
      ]
     },
     "metadata": {},
     "output_type": "display_data"
    },
    {
     "data": {
      "text/html": [
       "Started working on: 188"
      ],
      "text/plain": [
       "Started working on: 188"
      ]
     },
     "metadata": {},
     "output_type": "display_data"
    },
    {
     "data": {
      "text/html": [
       "Finished working on: 437"
      ],
      "text/plain": [
       "Finished working on: 437"
      ]
     },
     "metadata": {},
     "output_type": "display_data"
    },
    {
     "data": {
      "text/html": [
       "Started working on: 438"
      ],
      "text/plain": [
       "Started working on: 438"
      ]
     },
     "metadata": {},
     "output_type": "display_data"
    },
    {
     "data": {
      "text/html": [
       "Finished working on: 203"
      ],
      "text/plain": [
       "Finished working on: 203"
      ]
     },
     "metadata": {},
     "output_type": "display_data"
    },
    {
     "data": {
      "text/html": [
       "Started working on: 204"
      ],
      "text/plain": [
       "Started working on: 204"
      ]
     },
     "metadata": {},
     "output_type": "display_data"
    },
    {
     "data": {
      "text/html": [
       "Finished working on: 312"
      ],
      "text/plain": [
       "Finished working on: 312"
      ]
     },
     "metadata": {},
     "output_type": "display_data"
    },
    {
     "data": {
      "text/html": [
       "Started working on: 313"
      ],
      "text/plain": [
       "Started working on: 313"
      ]
     },
     "metadata": {},
     "output_type": "display_data"
    },
    {
     "data": {
      "text/html": [
       "Finished working on: 328"
      ],
      "text/plain": [
       "Finished working on: 328"
      ]
     },
     "metadata": {},
     "output_type": "display_data"
    },
    {
     "data": {
      "text/html": [
       "Started working on: 329"
      ],
      "text/plain": [
       "Started working on: 329"
      ]
     },
     "metadata": {},
     "output_type": "display_data"
    },
    {
     "data": {
      "text/html": [
       "Finished working on: 93"
      ],
      "text/plain": [
       "Finished working on: 93"
      ]
     },
     "metadata": {},
     "output_type": "display_data"
    },
    {
     "data": {
      "text/html": [
       "Started working on: 94"
      ],
      "text/plain": [
       "Started working on: 94"
      ]
     },
     "metadata": {},
     "output_type": "display_data"
    },
    {
     "data": {
      "text/html": [
       "Finished working on: 453"
      ],
      "text/plain": [
       "Finished working on: 453"
      ]
     },
     "metadata": {},
     "output_type": "display_data"
    },
    {
     "data": {
      "text/html": [
       "Started working on: 454"
      ],
      "text/plain": [
       "Started working on: 454"
      ]
     },
     "metadata": {},
     "output_type": "display_data"
    },
    {
     "data": {
      "text/html": [
       "Finished working on: 109"
      ],
      "text/plain": [
       "Finished working on: 109"
      ]
     },
     "metadata": {},
     "output_type": "display_data"
    },
    {
     "data": {
      "text/html": [
       "Started working on: 110"
      ],
      "text/plain": [
       "Started working on: 110"
      ]
     },
     "metadata": {},
     "output_type": "display_data"
    },
    {
     "data": {
      "text/html": [
       "Finished working on: 219"
      ],
      "text/plain": [
       "Finished working on: 219"
      ]
     },
     "metadata": {},
     "output_type": "display_data"
    },
    {
     "data": {
      "text/html": [
       "Started working on: 220"
      ],
      "text/plain": [
       "Started working on: 220"
      ]
     },
     "metadata": {},
     "output_type": "display_data"
    },
    {
     "data": {
      "text/html": [
       "Finished working on: 188"
      ],
      "text/plain": [
       "Finished working on: 188"
      ]
     },
     "metadata": {},
     "output_type": "display_data"
    },
    {
     "data": {
      "text/html": [
       "Started working on: 189"
      ],
      "text/plain": [
       "Started working on: 189"
      ]
     },
     "metadata": {},
     "output_type": "display_data"
    },
    {
     "data": {
      "text/html": [
       "Finished working on: 438"
      ],
      "text/plain": [
       "Finished working on: 438"
      ]
     },
     "metadata": {},
     "output_type": "display_data"
    },
    {
     "data": {
      "text/html": [
       "Started working on: 439"
      ],
      "text/plain": [
       "Started working on: 439"
      ]
     },
     "metadata": {},
     "output_type": "display_data"
    },
    {
     "data": {
      "text/html": [
       "Finished working on: 204"
      ],
      "text/plain": [
       "Finished working on: 204"
      ]
     },
     "metadata": {},
     "output_type": "display_data"
    },
    {
     "data": {
      "text/html": [
       "Started working on: 205"
      ],
      "text/plain": [
       "Started working on: 205"
      ]
     },
     "metadata": {},
     "output_type": "display_data"
    },
    {
     "data": {
      "text/html": [
       "Finished working on: 313"
      ],
      "text/plain": [
       "Finished working on: 313"
      ]
     },
     "metadata": {},
     "output_type": "display_data"
    },
    {
     "data": {
      "text/html": [
       "Started working on: 314"
      ],
      "text/plain": [
       "Started working on: 314"
      ]
     },
     "metadata": {},
     "output_type": "display_data"
    },
    {
     "data": {
      "text/html": [
       "Finished working on: 329"
      ],
      "text/plain": [
       "Finished working on: 329"
      ]
     },
     "metadata": {},
     "output_type": "display_data"
    },
    {
     "data": {
      "text/html": [
       "Started working on: 330"
      ],
      "text/plain": [
       "Started working on: 330"
      ]
     },
     "metadata": {},
     "output_type": "display_data"
    },
    {
     "data": {
      "text/html": [
       "Finished working on: 94"
      ],
      "text/plain": [
       "Finished working on: 94"
      ]
     },
     "metadata": {},
     "output_type": "display_data"
    },
    {
     "data": {
      "text/html": [
       "Started working on: 95"
      ],
      "text/plain": [
       "Started working on: 95"
      ]
     },
     "metadata": {},
     "output_type": "display_data"
    },
    {
     "data": {
      "text/html": [
       "Finished working on: 454"
      ],
      "text/plain": [
       "Finished working on: 454"
      ]
     },
     "metadata": {},
     "output_type": "display_data"
    },
    {
     "data": {
      "text/html": [
       "Started working on: 455"
      ],
      "text/plain": [
       "Started working on: 455"
      ]
     },
     "metadata": {},
     "output_type": "display_data"
    },
    {
     "data": {
      "text/html": [
       "Finished working on: 110"
      ],
      "text/plain": [
       "Finished working on: 110"
      ]
     },
     "metadata": {},
     "output_type": "display_data"
    },
    {
     "data": {
      "text/html": [
       "Started working on: 111"
      ],
      "text/plain": [
       "Started working on: 111"
      ]
     },
     "metadata": {},
     "output_type": "display_data"
    },
    {
     "data": {
      "text/html": [
       "Finished working on: 220"
      ],
      "text/plain": [
       "Finished working on: 220"
      ]
     },
     "metadata": {},
     "output_type": "display_data"
    },
    {
     "data": {
      "text/html": [
       "Started working on: 221"
      ],
      "text/plain": [
       "Started working on: 221"
      ]
     },
     "metadata": {},
     "output_type": "display_data"
    },
    {
     "data": {
      "text/html": [
       "Finished working on: 189"
      ],
      "text/plain": [
       "Finished working on: 189"
      ]
     },
     "metadata": {},
     "output_type": "display_data"
    },
    {
     "data": {
      "text/html": [
       "Started working on: 190"
      ],
      "text/plain": [
       "Started working on: 190"
      ]
     },
     "metadata": {},
     "output_type": "display_data"
    },
    {
     "data": {
      "text/html": [
       "Finished working on: 205"
      ],
      "text/plain": [
       "Finished working on: 205"
      ]
     },
     "metadata": {},
     "output_type": "display_data"
    },
    {
     "data": {
      "text/html": [
       "Started working on: 206"
      ],
      "text/plain": [
       "Started working on: 206"
      ]
     },
     "metadata": {},
     "output_type": "display_data"
    },
    {
     "data": {
      "text/html": [
       "Finished working on: 314"
      ],
      "text/plain": [
       "Finished working on: 314"
      ]
     },
     "metadata": {},
     "output_type": "display_data"
    },
    {
     "data": {
      "text/html": [
       "Started working on: 315"
      ],
      "text/plain": [
       "Started working on: 315"
      ]
     },
     "metadata": {},
     "output_type": "display_data"
    },
    {
     "data": {
      "text/html": [
       "Finished working on: 439"
      ],
      "text/plain": [
       "Finished working on: 439"
      ]
     },
     "metadata": {},
     "output_type": "display_data"
    },
    {
     "data": {
      "text/html": [
       "Started working on: 440"
      ],
      "text/plain": [
       "Started working on: 440"
      ]
     },
     "metadata": {},
     "output_type": "display_data"
    },
    {
     "data": {
      "text/html": [
       "Finished working on: 95"
      ],
      "text/plain": [
       "Finished working on: 95"
      ]
     },
     "metadata": {},
     "output_type": "display_data"
    },
    {
     "data": {
      "text/html": [
       "Started working on: 96"
      ],
      "text/plain": [
       "Started working on: 96"
      ]
     },
     "metadata": {},
     "output_type": "display_data"
    },
    {
     "data": {
      "text/html": [
       "Finished working on: 330"
      ],
      "text/plain": [
       "Finished working on: 330"
      ]
     },
     "metadata": {},
     "output_type": "display_data"
    },
    {
     "data": {
      "text/html": [
       "Started working on: 331"
      ],
      "text/plain": [
       "Started working on: 331"
      ]
     },
     "metadata": {},
     "output_type": "display_data"
    },
    {
     "data": {
      "text/html": [
       "Finished working on: 455"
      ],
      "text/plain": [
       "Finished working on: 455"
      ]
     },
     "metadata": {},
     "output_type": "display_data"
    },
    {
     "data": {
      "text/html": [
       "Started working on: 456"
      ],
      "text/plain": [
       "Started working on: 456"
      ]
     },
     "metadata": {},
     "output_type": "display_data"
    },
    {
     "data": {
      "text/html": [
       "Finished working on: 111"
      ],
      "text/plain": [
       "Finished working on: 111"
      ]
     },
     "metadata": {},
     "output_type": "display_data"
    },
    {
     "data": {
      "text/html": [
       "Started working on: 112"
      ],
      "text/plain": [
       "Started working on: 112"
      ]
     },
     "metadata": {},
     "output_type": "display_data"
    },
    {
     "data": {
      "text/html": [
       "Finished working on: 221"
      ],
      "text/plain": [
       "Finished working on: 221"
      ]
     },
     "metadata": {},
     "output_type": "display_data"
    },
    {
     "data": {
      "text/html": [
       "Started working on: 222"
      ],
      "text/plain": [
       "Started working on: 222"
      ]
     },
     "metadata": {},
     "output_type": "display_data"
    },
    {
     "data": {
      "text/html": [
       "Finished working on: 190"
      ],
      "text/plain": [
       "Finished working on: 190"
      ]
     },
     "metadata": {},
     "output_type": "display_data"
    },
    {
     "data": {
      "text/html": [
       "Started working on: 191"
      ],
      "text/plain": [
       "Started working on: 191"
      ]
     },
     "metadata": {},
     "output_type": "display_data"
    },
    {
     "data": {
      "text/html": [
       "Finished working on: 206"
      ],
      "text/plain": [
       "Finished working on: 206"
      ]
     },
     "metadata": {},
     "output_type": "display_data"
    },
    {
     "data": {
      "text/html": [
       "Started working on: 207"
      ],
      "text/plain": [
       "Started working on: 207"
      ]
     },
     "metadata": {},
     "output_type": "display_data"
    },
    {
     "data": {
      "text/html": [
       "Finished working on: 315"
      ],
      "text/plain": [
       "Finished working on: 315"
      ]
     },
     "metadata": {},
     "output_type": "display_data"
    },
    {
     "data": {
      "text/html": [
       "Started working on: 316"
      ],
      "text/plain": [
       "Started working on: 316"
      ]
     },
     "metadata": {},
     "output_type": "display_data"
    },
    {
     "data": {
      "text/html": [
       "Finished working on: 440"
      ],
      "text/plain": [
       "Finished working on: 440"
      ]
     },
     "metadata": {},
     "output_type": "display_data"
    },
    {
     "data": {
      "text/html": [
       "Started working on: 441"
      ],
      "text/plain": [
       "Started working on: 441"
      ]
     },
     "metadata": {},
     "output_type": "display_data"
    },
    {
     "data": {
      "text/html": [
       "Finished working on: 96"
      ],
      "text/plain": [
       "Finished working on: 96"
      ]
     },
     "metadata": {},
     "output_type": "display_data"
    },
    {
     "data": {
      "text/html": [
       "Started working on: 97"
      ],
      "text/plain": [
       "Started working on: 97"
      ]
     },
     "metadata": {},
     "output_type": "display_data"
    },
    {
     "data": {
      "text/html": [
       "Finished working on: 331"
      ],
      "text/plain": [
       "Finished working on: 331"
      ]
     },
     "metadata": {},
     "output_type": "display_data"
    },
    {
     "data": {
      "text/html": [
       "Started working on: 332"
      ],
      "text/plain": [
       "Started working on: 332"
      ]
     },
     "metadata": {},
     "output_type": "display_data"
    },
    {
     "data": {
      "text/html": [
       "Finished working on: 456"
      ],
      "text/plain": [
       "Finished working on: 456"
      ]
     },
     "metadata": {},
     "output_type": "display_data"
    },
    {
     "data": {
      "text/html": [
       "Started working on: 457"
      ],
      "text/plain": [
       "Started working on: 457"
      ]
     },
     "metadata": {},
     "output_type": "display_data"
    },
    {
     "data": {
      "text/html": [
       "Finished working on: 112"
      ],
      "text/plain": [
       "Finished working on: 112"
      ]
     },
     "metadata": {},
     "output_type": "display_data"
    },
    {
     "data": {
      "text/html": [
       "Started working on: 113"
      ],
      "text/plain": [
       "Started working on: 113"
      ]
     },
     "metadata": {},
     "output_type": "display_data"
    },
    {
     "data": {
      "text/html": [
       "Finished working on: 222"
      ],
      "text/plain": [
       "Finished working on: 222"
      ]
     },
     "metadata": {},
     "output_type": "display_data"
    },
    {
     "data": {
      "text/html": [
       "Started working on: 223"
      ],
      "text/plain": [
       "Started working on: 223"
      ]
     },
     "metadata": {},
     "output_type": "display_data"
    },
    {
     "data": {
      "text/html": [
       "Finished working on: 191"
      ],
      "text/plain": [
       "Finished working on: 191"
      ]
     },
     "metadata": {},
     "output_type": "display_data"
    },
    {
     "data": {
      "text/html": [
       "Started working on: 192"
      ],
      "text/plain": [
       "Started working on: 192"
      ]
     },
     "metadata": {},
     "output_type": "display_data"
    },
    {
     "data": {
      "text/html": [
       "Finished working on: 207"
      ],
      "text/plain": [
       "Finished working on: 207"
      ]
     },
     "metadata": {},
     "output_type": "display_data"
    },
    {
     "data": {
      "text/html": [
       "Started working on: 208"
      ],
      "text/plain": [
       "Started working on: 208"
      ]
     },
     "metadata": {},
     "output_type": "display_data"
    },
    {
     "data": {
      "text/html": [
       "Finished working on: 316"
      ],
      "text/plain": [
       "Finished working on: 316"
      ]
     },
     "metadata": {},
     "output_type": "display_data"
    },
    {
     "data": {
      "text/html": [
       "Started working on: 317"
      ],
      "text/plain": [
       "Started working on: 317"
      ]
     },
     "metadata": {},
     "output_type": "display_data"
    },
    {
     "data": {
      "text/html": [
       "Finished working on: 441"
      ],
      "text/plain": [
       "Finished working on: 441"
      ]
     },
     "metadata": {},
     "output_type": "display_data"
    },
    {
     "data": {
      "text/html": [
       "Started working on: 442"
      ],
      "text/plain": [
       "Started working on: 442"
      ]
     },
     "metadata": {},
     "output_type": "display_data"
    },
    {
     "data": {
      "text/html": [
       "Finished working on: 97"
      ],
      "text/plain": [
       "Finished working on: 97"
      ]
     },
     "metadata": {},
     "output_type": "display_data"
    },
    {
     "data": {
      "text/html": [
       "Started working on: 98"
      ],
      "text/plain": [
       "Started working on: 98"
      ]
     },
     "metadata": {},
     "output_type": "display_data"
    },
    {
     "data": {
      "text/html": [
       "Finished working on: 332"
      ],
      "text/plain": [
       "Finished working on: 332"
      ]
     },
     "metadata": {},
     "output_type": "display_data"
    },
    {
     "data": {
      "text/html": [
       "Started working on: 333"
      ],
      "text/plain": [
       "Started working on: 333"
      ]
     },
     "metadata": {},
     "output_type": "display_data"
    },
    {
     "data": {
      "text/html": [
       "Finished working on: 457"
      ],
      "text/plain": [
       "Finished working on: 457"
      ]
     },
     "metadata": {},
     "output_type": "display_data"
    },
    {
     "data": {
      "text/html": [
       "Started working on: 458"
      ],
      "text/plain": [
       "Started working on: 458"
      ]
     },
     "metadata": {},
     "output_type": "display_data"
    },
    {
     "data": {
      "text/html": [
       "Finished working on: 113"
      ],
      "text/plain": [
       "Finished working on: 113"
      ]
     },
     "metadata": {},
     "output_type": "display_data"
    },
    {
     "data": {
      "text/html": [
       "Started working on: 114"
      ],
      "text/plain": [
       "Started working on: 114"
      ]
     },
     "metadata": {},
     "output_type": "display_data"
    },
    {
     "data": {
      "text/html": [
       "Finished working on: 223"
      ],
      "text/plain": [
       "Finished working on: 223"
      ]
     },
     "metadata": {},
     "output_type": "display_data"
    },
    {
     "data": {
      "text/html": [
       "Started working on: 224"
      ],
      "text/plain": [
       "Started working on: 224"
      ]
     },
     "metadata": {},
     "output_type": "display_data"
    },
    {
     "data": {
      "text/html": [
       "Finished working on: 192"
      ],
      "text/plain": [
       "Finished working on: 192"
      ]
     },
     "metadata": {},
     "output_type": "display_data"
    },
    {
     "data": {
      "text/html": [
       "Started working on: 193"
      ],
      "text/plain": [
       "Started working on: 193"
      ]
     },
     "metadata": {},
     "output_type": "display_data"
    },
    {
     "data": {
      "text/html": [
       "Finished working on: 208"
      ],
      "text/plain": [
       "Finished working on: 208"
      ]
     },
     "metadata": {},
     "output_type": "display_data"
    },
    {
     "data": {
      "text/html": [
       "Started working on: 209"
      ],
      "text/plain": [
       "Started working on: 209"
      ]
     },
     "metadata": {},
     "output_type": "display_data"
    },
    {
     "data": {
      "text/html": [
       "Finished working on: 317"
      ],
      "text/plain": [
       "Finished working on: 317"
      ]
     },
     "metadata": {},
     "output_type": "display_data"
    },
    {
     "data": {
      "text/html": [
       "Started working on: 318"
      ],
      "text/plain": [
       "Started working on: 318"
      ]
     },
     "metadata": {},
     "output_type": "display_data"
    },
    {
     "data": {
      "text/html": [
       "Finished working on: 442"
      ],
      "text/plain": [
       "Finished working on: 442"
      ]
     },
     "metadata": {},
     "output_type": "display_data"
    },
    {
     "data": {
      "text/html": [
       "Started working on: 443"
      ],
      "text/plain": [
       "Started working on: 443"
      ]
     },
     "metadata": {},
     "output_type": "display_data"
    },
    {
     "data": {
      "text/html": [
       "Finished working on: 98"
      ],
      "text/plain": [
       "Finished working on: 98"
      ]
     },
     "metadata": {},
     "output_type": "display_data"
    },
    {
     "data": {
      "text/html": [
       "Started working on: 99"
      ],
      "text/plain": [
       "Started working on: 99"
      ]
     },
     "metadata": {},
     "output_type": "display_data"
    },
    {
     "data": {
      "text/html": [
       "Finished working on: 333"
      ],
      "text/plain": [
       "Finished working on: 333"
      ]
     },
     "metadata": {},
     "output_type": "display_data"
    },
    {
     "data": {
      "text/html": [
       "Started working on: 334"
      ],
      "text/plain": [
       "Started working on: 334"
      ]
     },
     "metadata": {},
     "output_type": "display_data"
    },
    {
     "data": {
      "text/html": [
       "Finished working on: 458"
      ],
      "text/plain": [
       "Finished working on: 458"
      ]
     },
     "metadata": {},
     "output_type": "display_data"
    },
    {
     "data": {
      "text/html": [
       "Started working on: 459"
      ],
      "text/plain": [
       "Started working on: 459"
      ]
     },
     "metadata": {},
     "output_type": "display_data"
    },
    {
     "data": {
      "text/html": [
       "Finished working on: 114"
      ],
      "text/plain": [
       "Finished working on: 114"
      ]
     },
     "metadata": {},
     "output_type": "display_data"
    },
    {
     "data": {
      "text/html": [
       "Started working on: 115"
      ],
      "text/plain": [
       "Started working on: 115"
      ]
     },
     "metadata": {},
     "output_type": "display_data"
    },
    {
     "data": {
      "text/html": [
       "Finished working on: 224"
      ],
      "text/plain": [
       "Finished working on: 224"
      ]
     },
     "metadata": {},
     "output_type": "display_data"
    },
    {
     "data": {
      "text/html": [
       "Started working on: 225"
      ],
      "text/plain": [
       "Started working on: 225"
      ]
     },
     "metadata": {},
     "output_type": "display_data"
    },
    {
     "data": {
      "text/html": [
       "Finished working on: 193"
      ],
      "text/plain": [
       "Finished working on: 193"
      ]
     },
     "metadata": {},
     "output_type": "display_data"
    },
    {
     "data": {
      "text/html": [
       "Started working on: 194"
      ],
      "text/plain": [
       "Started working on: 194"
      ]
     },
     "metadata": {},
     "output_type": "display_data"
    },
    {
     "data": {
      "text/html": [
       "Finished working on: 209"
      ],
      "text/plain": [
       "Finished working on: 209"
      ]
     },
     "metadata": {},
     "output_type": "display_data"
    },
    {
     "data": {
      "text/html": [
       "Started working on: 210"
      ],
      "text/plain": [
       "Started working on: 210"
      ]
     },
     "metadata": {},
     "output_type": "display_data"
    },
    {
     "data": {
      "text/html": [
       "Finished working on: 318"
      ],
      "text/plain": [
       "Finished working on: 318"
      ]
     },
     "metadata": {},
     "output_type": "display_data"
    },
    {
     "data": {
      "text/html": [
       "Started working on: 319"
      ],
      "text/plain": [
       "Started working on: 319"
      ]
     },
     "metadata": {},
     "output_type": "display_data"
    },
    {
     "data": {
      "text/html": [
       "Finished working on: 443"
      ],
      "text/plain": [
       "Finished working on: 443"
      ]
     },
     "metadata": {},
     "output_type": "display_data"
    },
    {
     "data": {
      "text/html": [
       "Started working on: 444"
      ],
      "text/plain": [
       "Started working on: 444"
      ]
     },
     "metadata": {},
     "output_type": "display_data"
    },
    {
     "data": {
      "text/html": [
       "Finished working on: 99"
      ],
      "text/plain": [
       "Finished working on: 99"
      ]
     },
     "metadata": {},
     "output_type": "display_data"
    },
    {
     "data": {
      "text/html": [
       "Started working on: 100"
      ],
      "text/plain": [
       "Started working on: 100"
      ]
     },
     "metadata": {},
     "output_type": "display_data"
    },
    {
     "data": {
      "text/html": [
       "Finished working on: 334"
      ],
      "text/plain": [
       "Finished working on: 334"
      ]
     },
     "metadata": {},
     "output_type": "display_data"
    },
    {
     "data": {
      "text/html": [
       "Started working on: 335"
      ],
      "text/plain": [
       "Started working on: 335"
      ]
     },
     "metadata": {},
     "output_type": "display_data"
    },
    {
     "data": {
      "text/html": [
       "Finished working on: 459"
      ],
      "text/plain": [
       "Finished working on: 459"
      ]
     },
     "metadata": {},
     "output_type": "display_data"
    },
    {
     "data": {
      "text/html": [
       "Started working on: 460"
      ],
      "text/plain": [
       "Started working on: 460"
      ]
     },
     "metadata": {},
     "output_type": "display_data"
    },
    {
     "data": {
      "text/html": [
       "Finished working on: 115"
      ],
      "text/plain": [
       "Finished working on: 115"
      ]
     },
     "metadata": {},
     "output_type": "display_data"
    },
    {
     "data": {
      "text/html": [
       "Started working on: 116"
      ],
      "text/plain": [
       "Started working on: 116"
      ]
     },
     "metadata": {},
     "output_type": "display_data"
    },
    {
     "data": {
      "text/html": [
       "Finished working on: 225"
      ],
      "text/plain": [
       "Finished working on: 225"
      ]
     },
     "metadata": {},
     "output_type": "display_data"
    },
    {
     "data": {
      "text/html": [
       "Started working on: 226"
      ],
      "text/plain": [
       "Started working on: 226"
      ]
     },
     "metadata": {},
     "output_type": "display_data"
    },
    {
     "data": {
      "text/html": [
       "Finished working on: 194"
      ],
      "text/plain": [
       "Finished working on: 194"
      ]
     },
     "metadata": {},
     "output_type": "display_data"
    },
    {
     "data": {
      "text/html": [
       "Started working on: 195"
      ],
      "text/plain": [
       "Started working on: 195"
      ]
     },
     "metadata": {},
     "output_type": "display_data"
    },
    {
     "data": {
      "text/html": [
       "Finished working on: 210"
      ],
      "text/plain": [
       "Finished working on: 210"
      ]
     },
     "metadata": {},
     "output_type": "display_data"
    },
    {
     "data": {
      "text/html": [
       "Started working on: 211"
      ],
      "text/plain": [
       "Started working on: 211"
      ]
     },
     "metadata": {},
     "output_type": "display_data"
    },
    {
     "data": {
      "text/html": [
       "Finished working on: 319"
      ],
      "text/plain": [
       "Finished working on: 319"
      ]
     },
     "metadata": {},
     "output_type": "display_data"
    },
    {
     "data": {
      "text/html": [
       "Started working on: 320"
      ],
      "text/plain": [
       "Started working on: 320"
      ]
     },
     "metadata": {},
     "output_type": "display_data"
    },
    {
     "data": {
      "text/html": [
       "Finished working on: 444"
      ],
      "text/plain": [
       "Finished working on: 444"
      ]
     },
     "metadata": {},
     "output_type": "display_data"
    },
    {
     "data": {
      "text/html": [
       "Started working on: 445"
      ],
      "text/plain": [
       "Started working on: 445"
      ]
     },
     "metadata": {},
     "output_type": "display_data"
    },
    {
     "data": {
      "text/html": [
       "Finished working on: 100"
      ],
      "text/plain": [
       "Finished working on: 100"
      ]
     },
     "metadata": {},
     "output_type": "display_data"
    },
    {
     "data": {
      "text/html": [
       "Started working on: 101"
      ],
      "text/plain": [
       "Started working on: 101"
      ]
     },
     "metadata": {},
     "output_type": "display_data"
    },
    {
     "data": {
      "text/html": [
       "Finished working on: 335"
      ],
      "text/plain": [
       "Finished working on: 335"
      ]
     },
     "metadata": {},
     "output_type": "display_data"
    },
    {
     "data": {
      "text/html": [
       "Started working on: 336"
      ],
      "text/plain": [
       "Started working on: 336"
      ]
     },
     "metadata": {},
     "output_type": "display_data"
    },
    {
     "data": {
      "text/html": [
       "Finished working on: 460"
      ],
      "text/plain": [
       "Finished working on: 460"
      ]
     },
     "metadata": {},
     "output_type": "display_data"
    },
    {
     "data": {
      "text/html": [
       "Started working on: 461"
      ],
      "text/plain": [
       "Started working on: 461"
      ]
     },
     "metadata": {},
     "output_type": "display_data"
    },
    {
     "data": {
      "text/html": [
       "Finished working on: 116"
      ],
      "text/plain": [
       "Finished working on: 116"
      ]
     },
     "metadata": {},
     "output_type": "display_data"
    },
    {
     "data": {
      "text/html": [
       "Started working on: 117"
      ],
      "text/plain": [
       "Started working on: 117"
      ]
     },
     "metadata": {},
     "output_type": "display_data"
    },
    {
     "data": {
      "text/html": [
       "Finished working on: 226"
      ],
      "text/plain": [
       "Finished working on: 226"
      ]
     },
     "metadata": {},
     "output_type": "display_data"
    },
    {
     "data": {
      "text/html": [
       "Started working on: 227"
      ],
      "text/plain": [
       "Started working on: 227"
      ]
     },
     "metadata": {},
     "output_type": "display_data"
    },
    {
     "data": {
      "text/html": [
       "Finished working on: 195"
      ],
      "text/plain": [
       "Finished working on: 195"
      ]
     },
     "metadata": {},
     "output_type": "display_data"
    },
    {
     "data": {
      "text/html": [
       "Started working on: 196"
      ],
      "text/plain": [
       "Started working on: 196"
      ]
     },
     "metadata": {},
     "output_type": "display_data"
    },
    {
     "data": {
      "text/html": [
       "Finished working on: 211"
      ],
      "text/plain": [
       "Finished working on: 211"
      ]
     },
     "metadata": {},
     "output_type": "display_data"
    },
    {
     "data": {
      "text/html": [
       "Started working on: 212"
      ],
      "text/plain": [
       "Started working on: 212"
      ]
     },
     "metadata": {},
     "output_type": "display_data"
    },
    {
     "data": {
      "text/html": [
       "Finished working on: 320"
      ],
      "text/plain": [
       "Finished working on: 320"
      ]
     },
     "metadata": {},
     "output_type": "display_data"
    },
    {
     "data": {
      "text/html": [
       "Started working on: 321"
      ],
      "text/plain": [
       "Started working on: 321"
      ]
     },
     "metadata": {},
     "output_type": "display_data"
    },
    {
     "data": {
      "text/html": [
       "Finished working on: 445"
      ],
      "text/plain": [
       "Finished working on: 445"
      ]
     },
     "metadata": {},
     "output_type": "display_data"
    },
    {
     "data": {
      "text/html": [
       "Started working on: 446"
      ],
      "text/plain": [
       "Started working on: 446"
      ]
     },
     "metadata": {},
     "output_type": "display_data"
    },
    {
     "data": {
      "text/html": [
       "Finished working on: 101"
      ],
      "text/plain": [
       "Finished working on: 101"
      ]
     },
     "metadata": {},
     "output_type": "display_data"
    },
    {
     "data": {
      "text/html": [
       "Started working on: 102"
      ],
      "text/plain": [
       "Started working on: 102"
      ]
     },
     "metadata": {},
     "output_type": "display_data"
    },
    {
     "data": {
      "text/html": [
       "Finished working on: 336"
      ],
      "text/plain": [
       "Finished working on: 336"
      ]
     },
     "metadata": {},
     "output_type": "display_data"
    },
    {
     "data": {
      "text/html": [
       "Started working on: 337"
      ],
      "text/plain": [
       "Started working on: 337"
      ]
     },
     "metadata": {},
     "output_type": "display_data"
    },
    {
     "data": {
      "text/html": [
       "Finished working on: 461"
      ],
      "text/plain": [
       "Finished working on: 461"
      ]
     },
     "metadata": {},
     "output_type": "display_data"
    },
    {
     "data": {
      "text/html": [
       "Started working on: 462"
      ],
      "text/plain": [
       "Started working on: 462"
      ]
     },
     "metadata": {},
     "output_type": "display_data"
    },
    {
     "data": {
      "text/html": [
       "Finished working on: 117"
      ],
      "text/plain": [
       "Finished working on: 117"
      ]
     },
     "metadata": {},
     "output_type": "display_data"
    },
    {
     "data": {
      "text/html": [
       "Started working on: 118"
      ],
      "text/plain": [
       "Started working on: 118"
      ]
     },
     "metadata": {},
     "output_type": "display_data"
    },
    {
     "data": {
      "text/html": [
       "Finished working on: 227"
      ],
      "text/plain": [
       "Finished working on: 227"
      ]
     },
     "metadata": {},
     "output_type": "display_data"
    },
    {
     "data": {
      "text/html": [
       "Started working on: 228"
      ],
      "text/plain": [
       "Started working on: 228"
      ]
     },
     "metadata": {},
     "output_type": "display_data"
    },
    {
     "data": {
      "text/html": [
       "Finished working on: 196"
      ],
      "text/plain": [
       "Finished working on: 196"
      ]
     },
     "metadata": {},
     "output_type": "display_data"
    },
    {
     "data": {
      "text/html": [
       "Started working on: 197"
      ],
      "text/plain": [
       "Started working on: 197"
      ]
     },
     "metadata": {},
     "output_type": "display_data"
    },
    {
     "data": {
      "text/html": [
       "Finished working on: 212"
      ],
      "text/plain": [
       "Finished working on: 212"
      ]
     },
     "metadata": {},
     "output_type": "display_data"
    },
    {
     "data": {
      "text/html": [
       "Started working on: 213"
      ],
      "text/plain": [
       "Started working on: 213"
      ]
     },
     "metadata": {},
     "output_type": "display_data"
    },
    {
     "data": {
      "text/html": [
       "Finished working on: 321"
      ],
      "text/plain": [
       "Finished working on: 321"
      ]
     },
     "metadata": {},
     "output_type": "display_data"
    },
    {
     "data": {
      "text/html": [
       "Started working on: 322"
      ],
      "text/plain": [
       "Started working on: 322"
      ]
     },
     "metadata": {},
     "output_type": "display_data"
    },
    {
     "data": {
      "text/html": [
       "Finished working on: 446"
      ],
      "text/plain": [
       "Finished working on: 446"
      ]
     },
     "metadata": {},
     "output_type": "display_data"
    },
    {
     "data": {
      "text/html": [
       "Started working on: 447"
      ],
      "text/plain": [
       "Started working on: 447"
      ]
     },
     "metadata": {},
     "output_type": "display_data"
    },
    {
     "data": {
      "text/html": [
       "Finished working on: 102"
      ],
      "text/plain": [
       "Finished working on: 102"
      ]
     },
     "metadata": {},
     "output_type": "display_data"
    },
    {
     "data": {
      "text/html": [
       "Started working on: 103"
      ],
      "text/plain": [
       "Started working on: 103"
      ]
     },
     "metadata": {},
     "output_type": "display_data"
    },
    {
     "data": {
      "text/html": [
       "Finished working on: 337"
      ],
      "text/plain": [
       "Finished working on: 337"
      ]
     },
     "metadata": {},
     "output_type": "display_data"
    },
    {
     "data": {
      "text/html": [
       "Started working on: 338"
      ],
      "text/plain": [
       "Started working on: 338"
      ]
     },
     "metadata": {},
     "output_type": "display_data"
    },
    {
     "data": {
      "text/html": [
       "Finished working on: 462"
      ],
      "text/plain": [
       "Finished working on: 462"
      ]
     },
     "metadata": {},
     "output_type": "display_data"
    },
    {
     "data": {
      "text/html": [
       "Started working on: 463"
      ],
      "text/plain": [
       "Started working on: 463"
      ]
     },
     "metadata": {},
     "output_type": "display_data"
    },
    {
     "data": {
      "text/html": [
       "Finished working on: 118"
      ],
      "text/plain": [
       "Finished working on: 118"
      ]
     },
     "metadata": {},
     "output_type": "display_data"
    },
    {
     "data": {
      "text/html": [
       "Started working on: 119"
      ],
      "text/plain": [
       "Started working on: 119"
      ]
     },
     "metadata": {},
     "output_type": "display_data"
    },
    {
     "data": {
      "text/html": [
       "Finished working on: 228"
      ],
      "text/plain": [
       "Finished working on: 228"
      ]
     },
     "metadata": {},
     "output_type": "display_data"
    },
    {
     "data": {
      "text/html": [
       "Started working on: 229"
      ],
      "text/plain": [
       "Started working on: 229"
      ]
     },
     "metadata": {},
     "output_type": "display_data"
    },
    {
     "data": {
      "text/html": [
       "Finished working on: 197"
      ],
      "text/plain": [
       "Finished working on: 197"
      ]
     },
     "metadata": {},
     "output_type": "display_data"
    },
    {
     "data": {
      "text/html": [
       "Started working on: 198"
      ],
      "text/plain": [
       "Started working on: 198"
      ]
     },
     "metadata": {},
     "output_type": "display_data"
    },
    {
     "data": {
      "text/html": [
       "Finished working on: 213"
      ],
      "text/plain": [
       "Finished working on: 213"
      ]
     },
     "metadata": {},
     "output_type": "display_data"
    },
    {
     "data": {
      "text/html": [
       "Started working on: 214"
      ],
      "text/plain": [
       "Started working on: 214"
      ]
     },
     "metadata": {},
     "output_type": "display_data"
    },
    {
     "data": {
      "text/html": [
       "Finished working on: 322"
      ],
      "text/plain": [
       "Finished working on: 322"
      ]
     },
     "metadata": {},
     "output_type": "display_data"
    },
    {
     "data": {
      "text/html": [
       "Started working on: 323"
      ],
      "text/plain": [
       "Started working on: 323"
      ]
     },
     "metadata": {},
     "output_type": "display_data"
    },
    {
     "data": {
      "text/html": [
       "Finished working on: 447"
      ],
      "text/plain": [
       "Finished working on: 447"
      ]
     },
     "metadata": {},
     "output_type": "display_data"
    },
    {
     "data": {
      "text/html": [
       "Started working on: 448"
      ],
      "text/plain": [
       "Started working on: 448"
      ]
     },
     "metadata": {},
     "output_type": "display_data"
    },
    {
     "data": {
      "text/html": [
       "Finished working on: 103"
      ],
      "text/plain": [
       "Finished working on: 103"
      ]
     },
     "metadata": {},
     "output_type": "display_data"
    },
    {
     "data": {
      "text/html": [
       "Started working on: 104"
      ],
      "text/plain": [
       "Started working on: 104"
      ]
     },
     "metadata": {},
     "output_type": "display_data"
    },
    {
     "data": {
      "text/html": [
       "Finished working on: 338"
      ],
      "text/plain": [
       "Finished working on: 338"
      ]
     },
     "metadata": {},
     "output_type": "display_data"
    },
    {
     "data": {
      "text/html": [
       "Started working on: 339"
      ],
      "text/plain": [
       "Started working on: 339"
      ]
     },
     "metadata": {},
     "output_type": "display_data"
    },
    {
     "data": {
      "text/html": [
       "Finished working on: 463"
      ],
      "text/plain": [
       "Finished working on: 463"
      ]
     },
     "metadata": {},
     "output_type": "display_data"
    },
    {
     "data": {
      "text/html": [
       "Started working on: 464"
      ],
      "text/plain": [
       "Started working on: 464"
      ]
     },
     "metadata": {},
     "output_type": "display_data"
    },
    {
     "data": {
      "text/html": [
       "Finished working on: 119"
      ],
      "text/plain": [
       "Finished working on: 119"
      ]
     },
     "metadata": {},
     "output_type": "display_data"
    },
    {
     "data": {
      "text/html": [
       "Started working on: 120"
      ],
      "text/plain": [
       "Started working on: 120"
      ]
     },
     "metadata": {},
     "output_type": "display_data"
    },
    {
     "data": {
      "text/html": [
       "Finished working on: 229"
      ],
      "text/plain": [
       "Finished working on: 229"
      ]
     },
     "metadata": {},
     "output_type": "display_data"
    },
    {
     "data": {
      "text/html": [
       "Started working on: 230"
      ],
      "text/plain": [
       "Started working on: 230"
      ]
     },
     "metadata": {},
     "output_type": "display_data"
    },
    {
     "data": {
      "text/html": [
       "Finished working on: 198"
      ],
      "text/plain": [
       "Finished working on: 198"
      ]
     },
     "metadata": {},
     "output_type": "display_data"
    },
    {
     "data": {
      "text/html": [
       "Started working on: 199"
      ],
      "text/plain": [
       "Started working on: 199"
      ]
     },
     "metadata": {},
     "output_type": "display_data"
    },
    {
     "data": {
      "text/html": [
       "Finished working on: 214"
      ],
      "text/plain": [
       "Finished working on: 214"
      ]
     },
     "metadata": {},
     "output_type": "display_data"
    },
    {
     "data": {
      "text/html": [
       "Started working on: 215"
      ],
      "text/plain": [
       "Started working on: 215"
      ]
     },
     "metadata": {},
     "output_type": "display_data"
    },
    {
     "data": {
      "text/html": [
       "Finished working on: 323"
      ],
      "text/plain": [
       "Finished working on: 323"
      ]
     },
     "metadata": {},
     "output_type": "display_data"
    },
    {
     "data": {
      "text/html": [
       "Started working on: 324"
      ],
      "text/plain": [
       "Started working on: 324"
      ]
     },
     "metadata": {},
     "output_type": "display_data"
    },
    {
     "data": {
      "text/html": [
       "Finished working on: 448"
      ],
      "text/plain": [
       "Finished working on: 448"
      ]
     },
     "metadata": {},
     "output_type": "display_data"
    },
    {
     "data": {
      "text/html": [
       "Started working on: 449"
      ],
      "text/plain": [
       "Started working on: 449"
      ]
     },
     "metadata": {},
     "output_type": "display_data"
    },
    {
     "data": {
      "text/html": [
       "Finished working on: 104"
      ],
      "text/plain": [
       "Finished working on: 104"
      ]
     },
     "metadata": {},
     "output_type": "display_data"
    },
    {
     "data": {
      "text/html": [
       "Started working on: 105"
      ],
      "text/plain": [
       "Started working on: 105"
      ]
     },
     "metadata": {},
     "output_type": "display_data"
    },
    {
     "data": {
      "text/html": [
       "Finished working on: 339"
      ],
      "text/plain": [
       "Finished working on: 339"
      ]
     },
     "metadata": {},
     "output_type": "display_data"
    },
    {
     "data": {
      "text/html": [
       "Started working on: 340"
      ],
      "text/plain": [
       "Started working on: 340"
      ]
     },
     "metadata": {},
     "output_type": "display_data"
    },
    {
     "data": {
      "text/html": [
       "Finished working on: 464"
      ],
      "text/plain": [
       "Finished working on: 464"
      ]
     },
     "metadata": {},
     "output_type": "display_data"
    },
    {
     "data": {
      "text/html": [
       "Started working on: 465"
      ],
      "text/plain": [
       "Started working on: 465"
      ]
     },
     "metadata": {},
     "output_type": "display_data"
    },
    {
     "data": {
      "text/html": [
       "Finished working on: 120"
      ],
      "text/plain": [
       "Finished working on: 120"
      ]
     },
     "metadata": {},
     "output_type": "display_data"
    },
    {
     "data": {
      "text/html": [
       "Started working on: 121"
      ],
      "text/plain": [
       "Started working on: 121"
      ]
     },
     "metadata": {},
     "output_type": "display_data"
    },
    {
     "data": {
      "text/html": [
       "Finished working on: 230"
      ],
      "text/plain": [
       "Finished working on: 230"
      ]
     },
     "metadata": {},
     "output_type": "display_data"
    },
    {
     "data": {
      "text/html": [
       "Started working on: 231"
      ],
      "text/plain": [
       "Started working on: 231"
      ]
     },
     "metadata": {},
     "output_type": "display_data"
    },
    {
     "data": {
      "text/html": [
       "Started working on: 235"
      ],
      "text/plain": [
       "Started working on: 235"
      ]
     },
     "metadata": {},
     "output_type": "display_data"
    },
    {
     "data": {
      "text/html": [
       "Finished working on: 199"
      ],
      "text/plain": [
       "Finished working on: 199"
      ]
     },
     "metadata": {},
     "output_type": "display_data"
    },
    {
     "data": {
      "text/html": [
       "Started working on: 200"
      ],
      "text/plain": [
       "Started working on: 200"
      ]
     },
     "metadata": {},
     "output_type": "display_data"
    },
    {
     "data": {
      "text/html": [
       "Finished working on: 215"
      ],
      "text/plain": [
       "Finished working on: 215"
      ]
     },
     "metadata": {},
     "output_type": "display_data"
    },
    {
     "data": {
      "text/html": [
       "Started working on: 216"
      ],
      "text/plain": [
       "Started working on: 216"
      ]
     },
     "metadata": {},
     "output_type": "display_data"
    },
    {
     "data": {
      "text/html": [
       "Finished working on: 324"
      ],
      "text/plain": [
       "Finished working on: 324"
      ]
     },
     "metadata": {},
     "output_type": "display_data"
    },
    {
     "data": {
      "text/html": [
       "Started working on: 325"
      ],
      "text/plain": [
       "Started working on: 325"
      ]
     },
     "metadata": {},
     "output_type": "display_data"
    },
    {
     "data": {
      "text/html": [
       "Finished working on: 449"
      ],
      "text/plain": [
       "Finished working on: 449"
      ]
     },
     "metadata": {},
     "output_type": "display_data"
    },
    {
     "data": {
      "text/html": [
       "Started working on: 450"
      ],
      "text/plain": [
       "Started working on: 450"
      ]
     },
     "metadata": {},
     "output_type": "display_data"
    },
    {
     "data": {
      "text/html": [
       "Finished working on: 105"
      ],
      "text/plain": [
       "Finished working on: 105"
      ]
     },
     "metadata": {},
     "output_type": "display_data"
    },
    {
     "data": {
      "text/html": [
       "Started working on: 106"
      ],
      "text/plain": [
       "Started working on: 106"
      ]
     },
     "metadata": {},
     "output_type": "display_data"
    },
    {
     "data": {
      "text/html": [
       "Finished working on: 340"
      ],
      "text/plain": [
       "Finished working on: 340"
      ]
     },
     "metadata": {},
     "output_type": "display_data"
    },
    {
     "data": {
      "text/html": [
       "Started working on: 341"
      ],
      "text/plain": [
       "Started working on: 341"
      ]
     },
     "metadata": {},
     "output_type": "display_data"
    },
    {
     "data": {
      "text/html": [
       "Finished working on: 465"
      ],
      "text/plain": [
       "Finished working on: 465"
      ]
     },
     "metadata": {},
     "output_type": "display_data"
    },
    {
     "data": {
      "text/html": [
       "Started working on: 466"
      ],
      "text/plain": [
       "Started working on: 466"
      ]
     },
     "metadata": {},
     "output_type": "display_data"
    },
    {
     "data": {
      "text/html": [
       "Finished working on: 121"
      ],
      "text/plain": [
       "Finished working on: 121"
      ]
     },
     "metadata": {},
     "output_type": "display_data"
    },
    {
     "data": {
      "text/html": [
       "Started working on: 122"
      ],
      "text/plain": [
       "Started working on: 122"
      ]
     },
     "metadata": {},
     "output_type": "display_data"
    },
    {
     "data": {
      "text/html": [
       "Finished working on: 231"
      ],
      "text/plain": [
       "Finished working on: 231"
      ]
     },
     "metadata": {},
     "output_type": "display_data"
    },
    {
     "data": {
      "text/html": [
       "Started working on: 232"
      ],
      "text/plain": [
       "Started working on: 232"
      ]
     },
     "metadata": {},
     "output_type": "display_data"
    },
    {
     "data": {
      "text/html": [
       "Finished working on: 235"
      ],
      "text/plain": [
       "Finished working on: 235"
      ]
     },
     "metadata": {},
     "output_type": "display_data"
    },
    {
     "data": {
      "text/html": [
       "Started working on: 236"
      ],
      "text/plain": [
       "Started working on: 236"
      ]
     },
     "metadata": {},
     "output_type": "display_data"
    },
    {
     "data": {
      "text/html": [
       "Finished working on: 200"
      ],
      "text/plain": [
       "Finished working on: 200"
      ]
     },
     "metadata": {},
     "output_type": "display_data"
    },
    {
     "data": {
      "text/html": [
       "Started working on: 201"
      ],
      "text/plain": [
       "Started working on: 201"
      ]
     },
     "metadata": {},
     "output_type": "display_data"
    },
    {
     "data": {
      "text/html": [
       "Finished working on: 216"
      ],
      "text/plain": [
       "Finished working on: 216"
      ]
     },
     "metadata": {},
     "output_type": "display_data"
    },
    {
     "data": {
      "text/html": [
       "Started working on: 217"
      ],
      "text/plain": [
       "Started working on: 217"
      ]
     },
     "metadata": {},
     "output_type": "display_data"
    },
    {
     "data": {
      "text/html": [
       "Finished working on: 325"
      ],
      "text/plain": [
       "Finished working on: 325"
      ]
     },
     "metadata": {},
     "output_type": "display_data"
    },
    {
     "data": {
      "text/html": [
       "Started working on: 326"
      ],
      "text/plain": [
       "Started working on: 326"
      ]
     },
     "metadata": {},
     "output_type": "display_data"
    },
    {
     "data": {
      "text/html": [
       "Finished working on: 450"
      ],
      "text/plain": [
       "Finished working on: 450"
      ]
     },
     "metadata": {},
     "output_type": "display_data"
    },
    {
     "data": {
      "text/html": [
       "Started working on: 451"
      ],
      "text/plain": [
       "Started working on: 451"
      ]
     },
     "metadata": {},
     "output_type": "display_data"
    },
    {
     "data": {
      "text/html": [
       "Finished working on: 106"
      ],
      "text/plain": [
       "Finished working on: 106"
      ]
     },
     "metadata": {},
     "output_type": "display_data"
    },
    {
     "data": {
      "text/html": [
       "Started working on: 107"
      ],
      "text/plain": [
       "Started working on: 107"
      ]
     },
     "metadata": {},
     "output_type": "display_data"
    },
    {
     "data": {
      "text/html": [
       "Finished working on: 341"
      ],
      "text/plain": [
       "Finished working on: 341"
      ]
     },
     "metadata": {},
     "output_type": "display_data"
    },
    {
     "data": {
      "text/html": [
       "Started working on: 342"
      ],
      "text/plain": [
       "Started working on: 342"
      ]
     },
     "metadata": {},
     "output_type": "display_data"
    },
    {
     "data": {
      "text/html": [
       "Finished working on: 466"
      ],
      "text/plain": [
       "Finished working on: 466"
      ]
     },
     "metadata": {},
     "output_type": "display_data"
    },
    {
     "data": {
      "text/html": [
       "Started working on: 467"
      ],
      "text/plain": [
       "Started working on: 467"
      ]
     },
     "metadata": {},
     "output_type": "display_data"
    },
    {
     "data": {
      "text/html": [
       "Finished working on: 122"
      ],
      "text/plain": [
       "Finished working on: 122"
      ]
     },
     "metadata": {},
     "output_type": "display_data"
    },
    {
     "data": {
      "text/html": [
       "Started working on: 123"
      ],
      "text/plain": [
       "Started working on: 123"
      ]
     },
     "metadata": {},
     "output_type": "display_data"
    },
    {
     "data": {
      "text/html": [
       "Finished working on: 232"
      ],
      "text/plain": [
       "Finished working on: 232"
      ]
     },
     "metadata": {},
     "output_type": "display_data"
    },
    {
     "data": {
      "text/html": [
       "Started working on: 233"
      ],
      "text/plain": [
       "Started working on: 233"
      ]
     },
     "metadata": {},
     "output_type": "display_data"
    },
    {
     "data": {
      "text/html": [
       "Finished working on: 236"
      ],
      "text/plain": [
       "Finished working on: 236"
      ]
     },
     "metadata": {},
     "output_type": "display_data"
    },
    {
     "data": {
      "text/html": [
       "Started working on: 237"
      ],
      "text/plain": [
       "Started working on: 237"
      ]
     },
     "metadata": {},
     "output_type": "display_data"
    },
    {
     "data": {
      "text/html": [
       "Finished working on: 201"
      ],
      "text/plain": [
       "Finished working on: 201"
      ]
     },
     "metadata": {},
     "output_type": "display_data"
    },
    {
     "data": {
      "text/html": [
       "Started working on: 202"
      ],
      "text/plain": [
       "Started working on: 202"
      ]
     },
     "metadata": {},
     "output_type": "display_data"
    },
    {
     "data": {
      "text/html": [
       "Finished working on: 217"
      ],
      "text/plain": [
       "Finished working on: 217"
      ]
     },
     "metadata": {},
     "output_type": "display_data"
    },
    {
     "data": {
      "text/html": [
       "Started working on: 218"
      ],
      "text/plain": [
       "Started working on: 218"
      ]
     },
     "metadata": {},
     "output_type": "display_data"
    },
    {
     "data": {
      "text/html": [
       "Finished working on: 326"
      ],
      "text/plain": [
       "Finished working on: 326"
      ]
     },
     "metadata": {},
     "output_type": "display_data"
    },
    {
     "data": {
      "text/html": [
       "Started working on: 327"
      ],
      "text/plain": [
       "Started working on: 327"
      ]
     },
     "metadata": {},
     "output_type": "display_data"
    },
    {
     "data": {
      "text/html": [
       "Finished working on: 451"
      ],
      "text/plain": [
       "Finished working on: 451"
      ]
     },
     "metadata": {},
     "output_type": "display_data"
    },
    {
     "data": {
      "text/html": [
       "Started working on: 452"
      ],
      "text/plain": [
       "Started working on: 452"
      ]
     },
     "metadata": {},
     "output_type": "display_data"
    },
    {
     "data": {
      "text/html": [
       "Finished working on: 107"
      ],
      "text/plain": [
       "Finished working on: 107"
      ]
     },
     "metadata": {},
     "output_type": "display_data"
    },
    {
     "data": {
      "text/html": [
       "Started working on: 108"
      ],
      "text/plain": [
       "Started working on: 108"
      ]
     },
     "metadata": {},
     "output_type": "display_data"
    },
    {
     "data": {
      "text/html": [
       "Finished working on: 342"
      ],
      "text/plain": [
       "Finished working on: 342"
      ]
     },
     "metadata": {},
     "output_type": "display_data"
    },
    {
     "data": {
      "text/html": [
       "Started working on: 343"
      ],
      "text/plain": [
       "Started working on: 343"
      ]
     },
     "metadata": {},
     "output_type": "display_data"
    },
    {
     "data": {
      "text/html": [
       "Finished working on: 467"
      ],
      "text/plain": [
       "Finished working on: 467"
      ]
     },
     "metadata": {},
     "output_type": "display_data"
    },
    {
     "data": {
      "text/html": [
       "Started working on: 468"
      ],
      "text/plain": [
       "Started working on: 468"
      ]
     },
     "metadata": {},
     "output_type": "display_data"
    },
    {
     "data": {
      "text/html": [
       "Finished working on: 123"
      ],
      "text/plain": [
       "Finished working on: 123"
      ]
     },
     "metadata": {},
     "output_type": "display_data"
    },
    {
     "data": {
      "text/html": [
       "Started working on: 124"
      ],
      "text/plain": [
       "Started working on: 124"
      ]
     },
     "metadata": {},
     "output_type": "display_data"
    },
    {
     "data": {
      "text/html": [
       "Finished working on: 233"
      ],
      "text/plain": [
       "Finished working on: 233"
      ]
     },
     "metadata": {},
     "output_type": "display_data"
    },
    {
     "data": {
      "text/html": [
       "Started working on: 234"
      ],
      "text/plain": [
       "Started working on: 234"
      ]
     },
     "metadata": {},
     "output_type": "display_data"
    },
    {
     "data": {
      "text/html": [
       "Finished working on: 237"
      ],
      "text/plain": [
       "Finished working on: 237"
      ]
     },
     "metadata": {},
     "output_type": "display_data"
    },
    {
     "data": {
      "text/html": [
       "Started working on: 238"
      ],
      "text/plain": [
       "Started working on: 238"
      ]
     },
     "metadata": {},
     "output_type": "display_data"
    },
    {
     "data": {
      "text/html": [
       "Finished working on: 202"
      ],
      "text/plain": [
       "Finished working on: 202"
      ]
     },
     "metadata": {},
     "output_type": "display_data"
    },
    {
     "data": {
      "text/html": [
       "Started working on: 242"
      ],
      "text/plain": [
       "Started working on: 242"
      ]
     },
     "metadata": {},
     "output_type": "display_data"
    },
    {
     "data": {
      "text/html": [
       "Finished working on: 218"
      ],
      "text/plain": [
       "Finished working on: 218"
      ]
     },
     "metadata": {},
     "output_type": "display_data"
    },
    {
     "data": {
      "text/html": [
       "Started working on: 344"
      ],
      "text/plain": [
       "Started working on: 344"
      ]
     },
     "metadata": {},
     "output_type": "display_data"
    },
    {
     "data": {
      "text/html": [
       "Finished working on: 327"
      ],
      "text/plain": [
       "Finished working on: 327"
      ]
     },
     "metadata": {},
     "output_type": "display_data"
    },
    {
     "data": {
      "text/html": [
       "Started working on: 360"
      ],
      "text/plain": [
       "Started working on: 360"
      ]
     },
     "metadata": {},
     "output_type": "display_data"
    },
    {
     "data": {
      "text/html": [
       "Finished working on: 452"
      ],
      "text/plain": [
       "Finished working on: 452"
      ]
     },
     "metadata": {},
     "output_type": "display_data"
    },
    {
     "data": {
      "text/html": [
       "Started working on: 469"
      ],
      "text/plain": [
       "Started working on: 469"
      ]
     },
     "metadata": {},
     "output_type": "display_data"
    },
    {
     "data": {
      "text/html": [
       "Finished working on: 108"
      ],
      "text/plain": [
       "Finished working on: 108"
      ]
     },
     "metadata": {},
     "output_type": "display_data"
    },
    {
     "data": {
      "text/html": [
       "Started working on: 485"
      ],
      "text/plain": [
       "Started working on: 485"
      ]
     },
     "metadata": {},
     "output_type": "display_data"
    },
    {
     "data": {
      "text/html": [
       "Finished working on: 343"
      ],
      "text/plain": [
       "Finished working on: 343"
      ]
     },
     "metadata": {},
     "output_type": "display_data"
    },
    {
     "data": {
      "text/html": [
       "Finished working on: 468"
      ],
      "text/plain": [
       "Finished working on: 468"
      ]
     },
     "metadata": {},
     "output_type": "display_data"
    },
    {
     "data": {
      "text/html": [
       "Finished working on: 124"
      ],
      "text/plain": [
       "Finished working on: 124"
      ]
     },
     "metadata": {},
     "output_type": "display_data"
    },
    {
     "data": {
      "text/html": [
       "Finished working on: 234"
      ],
      "text/plain": [
       "Finished working on: 234"
      ]
     },
     "metadata": {},
     "output_type": "display_data"
    },
    {
     "data": {
      "text/html": [
       "Finished working on: 238"
      ],
      "text/plain": [
       "Finished working on: 238"
      ]
     },
     "metadata": {},
     "output_type": "display_data"
    },
    {
     "data": {
      "text/html": [
       "Started working on: 239"
      ],
      "text/plain": [
       "Started working on: 239"
      ]
     },
     "metadata": {},
     "output_type": "display_data"
    },
    {
     "data": {
      "text/html": [
       "Finished working on: 242"
      ],
      "text/plain": [
       "Finished working on: 242"
      ]
     },
     "metadata": {},
     "output_type": "display_data"
    },
    {
     "data": {
      "text/html": [
       "Started working on: 243"
      ],
      "text/plain": [
       "Started working on: 243"
      ]
     },
     "metadata": {},
     "output_type": "display_data"
    },
    {
     "data": {
      "text/html": [
       "Finished working on: 344"
      ],
      "text/plain": [
       "Finished working on: 344"
      ]
     },
     "metadata": {},
     "output_type": "display_data"
    },
    {
     "data": {
      "text/html": [
       "Started working on: 345"
      ],
      "text/plain": [
       "Started working on: 345"
      ]
     },
     "metadata": {},
     "output_type": "display_data"
    },
    {
     "data": {
      "text/html": [
       "Finished working on: 360"
      ],
      "text/plain": [
       "Finished working on: 360"
      ]
     },
     "metadata": {},
     "output_type": "display_data"
    },
    {
     "data": {
      "text/html": [
       "Started working on: 361"
      ],
      "text/plain": [
       "Started working on: 361"
      ]
     },
     "metadata": {},
     "output_type": "display_data"
    },
    {
     "data": {
      "text/html": [
       "Finished working on: 469"
      ],
      "text/plain": [
       "Finished working on: 469"
      ]
     },
     "metadata": {},
     "output_type": "display_data"
    },
    {
     "data": {
      "text/html": [
       "Started working on: 470"
      ],
      "text/plain": [
       "Started working on: 470"
      ]
     },
     "metadata": {},
     "output_type": "display_data"
    },
    {
     "data": {
      "text/html": [
       "Finished working on: 485"
      ],
      "text/plain": [
       "Finished working on: 485"
      ]
     },
     "metadata": {},
     "output_type": "display_data"
    },
    {
     "data": {
      "text/html": [
       "Started working on: 486"
      ],
      "text/plain": [
       "Started working on: 486"
      ]
     },
     "metadata": {},
     "output_type": "display_data"
    },
    {
     "data": {
      "text/html": [
       "Finished working on: 239"
      ],
      "text/plain": [
       "Finished working on: 239"
      ]
     },
     "metadata": {},
     "output_type": "display_data"
    },
    {
     "data": {
      "text/html": [
       "Started working on: 240"
      ],
      "text/plain": [
       "Started working on: 240"
      ]
     },
     "metadata": {},
     "output_type": "display_data"
    },
    {
     "data": {
      "text/html": [
       "Finished working on: 243"
      ],
      "text/plain": [
       "Finished working on: 243"
      ]
     },
     "metadata": {},
     "output_type": "display_data"
    },
    {
     "data": {
      "text/html": [
       "Started working on: 244"
      ],
      "text/plain": [
       "Started working on: 244"
      ]
     },
     "metadata": {},
     "output_type": "display_data"
    },
    {
     "data": {
      "text/html": [
       "Finished working on: 345"
      ],
      "text/plain": [
       "Finished working on: 345"
      ]
     },
     "metadata": {},
     "output_type": "display_data"
    },
    {
     "data": {
      "text/html": [
       "Started working on: 346"
      ],
      "text/plain": [
       "Started working on: 346"
      ]
     },
     "metadata": {},
     "output_type": "display_data"
    },
    {
     "data": {
      "text/html": [
       "Finished working on: 361"
      ],
      "text/plain": [
       "Finished working on: 361"
      ]
     },
     "metadata": {},
     "output_type": "display_data"
    },
    {
     "data": {
      "text/html": [
       "Started working on: 362"
      ],
      "text/plain": [
       "Started working on: 362"
      ]
     },
     "metadata": {},
     "output_type": "display_data"
    },
    {
     "data": {
      "text/html": [
       "Finished working on: 486"
      ],
      "text/plain": [
       "Finished working on: 486"
      ]
     },
     "metadata": {},
     "output_type": "display_data"
    },
    {
     "data": {
      "text/html": [
       "Started working on: 487"
      ],
      "text/plain": [
       "Started working on: 487"
      ]
     },
     "metadata": {},
     "output_type": "display_data"
    },
    {
     "data": {
      "text/html": [
       "Finished working on: 470"
      ],
      "text/plain": [
       "Finished working on: 470"
      ]
     },
     "metadata": {},
     "output_type": "display_data"
    },
    {
     "data": {
      "text/html": [
       "Started working on: 471"
      ],
      "text/plain": [
       "Started working on: 471"
      ]
     },
     "metadata": {},
     "output_type": "display_data"
    },
    {
     "data": {
      "text/html": [
       "Finished working on: 240"
      ],
      "text/plain": [
       "Finished working on: 240"
      ]
     },
     "metadata": {},
     "output_type": "display_data"
    },
    {
     "data": {
      "text/html": [
       "Started working on: 241"
      ],
      "text/plain": [
       "Started working on: 241"
      ]
     },
     "metadata": {},
     "output_type": "display_data"
    },
    {
     "data": {
      "text/html": [
       "Finished working on: 244"
      ],
      "text/plain": [
       "Finished working on: 244"
      ]
     },
     "metadata": {},
     "output_type": "display_data"
    },
    {
     "data": {
      "text/html": [
       "Started working on: 245"
      ],
      "text/plain": [
       "Started working on: 245"
      ]
     },
     "metadata": {},
     "output_type": "display_data"
    },
    {
     "data": {
      "text/html": [
       "Finished working on: 346"
      ],
      "text/plain": [
       "Finished working on: 346"
      ]
     },
     "metadata": {},
     "output_type": "display_data"
    },
    {
     "data": {
      "text/html": [
       "Started working on: 347"
      ],
      "text/plain": [
       "Started working on: 347"
      ]
     },
     "metadata": {},
     "output_type": "display_data"
    },
    {
     "data": {
      "text/html": [
       "Finished working on: 362"
      ],
      "text/plain": [
       "Finished working on: 362"
      ]
     },
     "metadata": {},
     "output_type": "display_data"
    },
    {
     "data": {
      "text/html": [
       "Started working on: 363"
      ],
      "text/plain": [
       "Started working on: 363"
      ]
     },
     "metadata": {},
     "output_type": "display_data"
    },
    {
     "data": {
      "text/html": [
       "Finished working on: 487"
      ],
      "text/plain": [
       "Finished working on: 487"
      ]
     },
     "metadata": {},
     "output_type": "display_data"
    },
    {
     "data": {
      "text/html": [
       "Started working on: 488"
      ],
      "text/plain": [
       "Started working on: 488"
      ]
     },
     "metadata": {},
     "output_type": "display_data"
    },
    {
     "data": {
      "text/html": [
       "Finished working on: 471"
      ],
      "text/plain": [
       "Finished working on: 471"
      ]
     },
     "metadata": {},
     "output_type": "display_data"
    },
    {
     "data": {
      "text/html": [
       "Started working on: 472"
      ],
      "text/plain": [
       "Started working on: 472"
      ]
     },
     "metadata": {},
     "output_type": "display_data"
    },
    {
     "data": {
      "text/html": [
       "Finished working on: 241"
      ],
      "text/plain": [
       "Finished working on: 241"
      ]
     },
     "metadata": {},
     "output_type": "display_data"
    },
    {
     "data": {
      "text/html": [
       "Finished working on: 245"
      ],
      "text/plain": [
       "Finished working on: 245"
      ]
     },
     "metadata": {},
     "output_type": "display_data"
    },
    {
     "data": {
      "text/html": [
       "Started working on: 246"
      ],
      "text/plain": [
       "Started working on: 246"
      ]
     },
     "metadata": {},
     "output_type": "display_data"
    },
    {
     "data": {
      "text/html": [
       "Finished working on: 347"
      ],
      "text/plain": [
       "Finished working on: 347"
      ]
     },
     "metadata": {},
     "output_type": "display_data"
    },
    {
     "data": {
      "text/html": [
       "Started working on: 348"
      ],
      "text/plain": [
       "Started working on: 348"
      ]
     },
     "metadata": {},
     "output_type": "display_data"
    },
    {
     "data": {
      "text/html": [
       "Finished working on: 363"
      ],
      "text/plain": [
       "Finished working on: 363"
      ]
     },
     "metadata": {},
     "output_type": "display_data"
    },
    {
     "data": {
      "text/html": [
       "Started working on: 364"
      ],
      "text/plain": [
       "Started working on: 364"
      ]
     },
     "metadata": {},
     "output_type": "display_data"
    },
    {
     "data": {
      "text/html": [
       "Finished working on: 488"
      ],
      "text/plain": [
       "Finished working on: 488"
      ]
     },
     "metadata": {},
     "output_type": "display_data"
    },
    {
     "data": {
      "text/html": [
       "Started working on: 489"
      ],
      "text/plain": [
       "Started working on: 489"
      ]
     },
     "metadata": {},
     "output_type": "display_data"
    },
    {
     "data": {
      "text/html": [
       "Finished working on: 472"
      ],
      "text/plain": [
       "Finished working on: 472"
      ]
     },
     "metadata": {},
     "output_type": "display_data"
    },
    {
     "data": {
      "text/html": [
       "Started working on: 473"
      ],
      "text/plain": [
       "Started working on: 473"
      ]
     },
     "metadata": {},
     "output_type": "display_data"
    },
    {
     "data": {
      "text/html": [
       "Finished working on: 246"
      ],
      "text/plain": [
       "Finished working on: 246"
      ]
     },
     "metadata": {},
     "output_type": "display_data"
    },
    {
     "data": {
      "text/html": [
       "Started working on: 247"
      ],
      "text/plain": [
       "Started working on: 247"
      ]
     },
     "metadata": {},
     "output_type": "display_data"
    },
    {
     "data": {
      "text/html": [
       "Finished working on: 348"
      ],
      "text/plain": [
       "Finished working on: 348"
      ]
     },
     "metadata": {},
     "output_type": "display_data"
    },
    {
     "data": {
      "text/html": [
       "Started working on: 349"
      ],
      "text/plain": [
       "Started working on: 349"
      ]
     },
     "metadata": {},
     "output_type": "display_data"
    },
    {
     "data": {
      "text/html": [
       "Finished working on: 489"
      ],
      "text/plain": [
       "Finished working on: 489"
      ]
     },
     "metadata": {},
     "output_type": "display_data"
    },
    {
     "data": {
      "text/html": [
       "Started working on: 490"
      ],
      "text/plain": [
       "Started working on: 490"
      ]
     },
     "metadata": {},
     "output_type": "display_data"
    },
    {
     "data": {
      "text/html": [
       "Finished working on: 473"
      ],
      "text/plain": [
       "Finished working on: 473"
      ]
     },
     "metadata": {},
     "output_type": "display_data"
    },
    {
     "data": {
      "text/html": [
       "Started working on: 474"
      ],
      "text/plain": [
       "Started working on: 474"
      ]
     },
     "metadata": {},
     "output_type": "display_data"
    },
    {
     "data": {
      "text/html": [
       "Finished working on: 364"
      ],
      "text/plain": [
       "Finished working on: 364"
      ]
     },
     "metadata": {},
     "output_type": "display_data"
    },
    {
     "data": {
      "text/html": [
       "Started working on: 365"
      ],
      "text/plain": [
       "Started working on: 365"
      ]
     },
     "metadata": {},
     "output_type": "display_data"
    },
    {
     "data": {
      "text/html": [
       "Finished working on: 247"
      ],
      "text/plain": [
       "Finished working on: 247"
      ]
     },
     "metadata": {},
     "output_type": "display_data"
    },
    {
     "data": {
      "text/html": [
       "Started working on: 248"
      ],
      "text/plain": [
       "Started working on: 248"
      ]
     },
     "metadata": {},
     "output_type": "display_data"
    },
    {
     "data": {
      "text/html": [
       "Finished working on: 349"
      ],
      "text/plain": [
       "Finished working on: 349"
      ]
     },
     "metadata": {},
     "output_type": "display_data"
    },
    {
     "data": {
      "text/html": [
       "Started working on: 350"
      ],
      "text/plain": [
       "Started working on: 350"
      ]
     },
     "metadata": {},
     "output_type": "display_data"
    },
    {
     "data": {
      "text/html": [
       "Finished working on: 490"
      ],
      "text/plain": [
       "Finished working on: 490"
      ]
     },
     "metadata": {},
     "output_type": "display_data"
    },
    {
     "data": {
      "text/html": [
       "Started working on: 491"
      ],
      "text/plain": [
       "Started working on: 491"
      ]
     },
     "metadata": {},
     "output_type": "display_data"
    },
    {
     "data": {
      "text/html": [
       "Finished working on: 474"
      ],
      "text/plain": [
       "Finished working on: 474"
      ]
     },
     "metadata": {},
     "output_type": "display_data"
    },
    {
     "data": {
      "text/html": [
       "Started working on: 475"
      ],
      "text/plain": [
       "Started working on: 475"
      ]
     },
     "metadata": {},
     "output_type": "display_data"
    },
    {
     "data": {
      "text/html": [
       "Finished working on: 365"
      ],
      "text/plain": [
       "Finished working on: 365"
      ]
     },
     "metadata": {},
     "output_type": "display_data"
    },
    {
     "data": {
      "text/html": [
       "Started working on: 366"
      ],
      "text/plain": [
       "Started working on: 366"
      ]
     },
     "metadata": {},
     "output_type": "display_data"
    },
    {
     "data": {
      "text/html": [
       "Finished working on: 248"
      ],
      "text/plain": [
       "Finished working on: 248"
      ]
     },
     "metadata": {},
     "output_type": "display_data"
    },
    {
     "data": {
      "text/html": [
       "Started working on: 249"
      ],
      "text/plain": [
       "Started working on: 249"
      ]
     },
     "metadata": {},
     "output_type": "display_data"
    },
    {
     "data": {
      "text/html": [
       "Finished working on: 350"
      ],
      "text/plain": [
       "Finished working on: 350"
      ]
     },
     "metadata": {},
     "output_type": "display_data"
    },
    {
     "data": {
      "text/html": [
       "Started working on: 351"
      ],
      "text/plain": [
       "Started working on: 351"
      ]
     },
     "metadata": {},
     "output_type": "display_data"
    },
    {
     "data": {
      "text/html": [
       "Finished working on: 491"
      ],
      "text/plain": [
       "Finished working on: 491"
      ]
     },
     "metadata": {},
     "output_type": "display_data"
    },
    {
     "data": {
      "text/html": [
       "Started working on: 492"
      ],
      "text/plain": [
       "Started working on: 492"
      ]
     },
     "metadata": {},
     "output_type": "display_data"
    },
    {
     "data": {
      "text/html": [
       "Finished working on: 475"
      ],
      "text/plain": [
       "Finished working on: 475"
      ]
     },
     "metadata": {},
     "output_type": "display_data"
    },
    {
     "data": {
      "text/html": [
       "Started working on: 476"
      ],
      "text/plain": [
       "Started working on: 476"
      ]
     },
     "metadata": {},
     "output_type": "display_data"
    },
    {
     "data": {
      "text/html": [
       "Finished working on: 366"
      ],
      "text/plain": [
       "Finished working on: 366"
      ]
     },
     "metadata": {},
     "output_type": "display_data"
    },
    {
     "data": {
      "text/html": [
       "Started working on: 367"
      ],
      "text/plain": [
       "Started working on: 367"
      ]
     },
     "metadata": {},
     "output_type": "display_data"
    },
    {
     "data": {
      "text/html": [
       "Finished working on: 249"
      ],
      "text/plain": [
       "Finished working on: 249"
      ]
     },
     "metadata": {},
     "output_type": "display_data"
    },
    {
     "data": {
      "text/html": [
       "Finished working on: 351"
      ],
      "text/plain": [
       "Finished working on: 351"
      ]
     },
     "metadata": {},
     "output_type": "display_data"
    },
    {
     "data": {
      "text/html": [
       "Started working on: 352"
      ],
      "text/plain": [
       "Started working on: 352"
      ]
     },
     "metadata": {},
     "output_type": "display_data"
    },
    {
     "data": {
      "text/html": [
       "Finished working on: 492"
      ],
      "text/plain": [
       "Finished working on: 492"
      ]
     },
     "metadata": {},
     "output_type": "display_data"
    },
    {
     "data": {
      "text/html": [
       "Started working on: 493"
      ],
      "text/plain": [
       "Started working on: 493"
      ]
     },
     "metadata": {},
     "output_type": "display_data"
    },
    {
     "data": {
      "text/html": [
       "Finished working on: 476"
      ],
      "text/plain": [
       "Finished working on: 476"
      ]
     },
     "metadata": {},
     "output_type": "display_data"
    },
    {
     "data": {
      "text/html": [
       "Started working on: 477"
      ],
      "text/plain": [
       "Started working on: 477"
      ]
     },
     "metadata": {},
     "output_type": "display_data"
    },
    {
     "data": {
      "text/html": [
       "Finished working on: 367"
      ],
      "text/plain": [
       "Finished working on: 367"
      ]
     },
     "metadata": {},
     "output_type": "display_data"
    },
    {
     "data": {
      "text/html": [
       "Started working on: 368"
      ],
      "text/plain": [
       "Started working on: 368"
      ]
     },
     "metadata": {},
     "output_type": "display_data"
    },
    {
     "data": {
      "text/html": [
       "Finished working on: 352"
      ],
      "text/plain": [
       "Finished working on: 352"
      ]
     },
     "metadata": {},
     "output_type": "display_data"
    },
    {
     "data": {
      "text/html": [
       "Started working on: 353"
      ],
      "text/plain": [
       "Started working on: 353"
      ]
     },
     "metadata": {},
     "output_type": "display_data"
    },
    {
     "data": {
      "text/html": [
       "Finished working on: 477"
      ],
      "text/plain": [
       "Finished working on: 477"
      ]
     },
     "metadata": {},
     "output_type": "display_data"
    },
    {
     "data": {
      "text/html": [
       "Started working on: 478"
      ],
      "text/plain": [
       "Started working on: 478"
      ]
     },
     "metadata": {},
     "output_type": "display_data"
    },
    {
     "data": {
      "text/html": [
       "Finished working on: 368"
      ],
      "text/plain": [
       "Finished working on: 368"
      ]
     },
     "metadata": {},
     "output_type": "display_data"
    },
    {
     "data": {
      "text/html": [
       "Started working on: 369"
      ],
      "text/plain": [
       "Started working on: 369"
      ]
     },
     "metadata": {},
     "output_type": "display_data"
    },
    {
     "data": {
      "text/html": [
       "Finished working on: 493"
      ],
      "text/plain": [
       "Finished working on: 493"
      ]
     },
     "metadata": {},
     "output_type": "display_data"
    },
    {
     "data": {
      "text/html": [
       "Started working on: 494"
      ],
      "text/plain": [
       "Started working on: 494"
      ]
     },
     "metadata": {},
     "output_type": "display_data"
    },
    {
     "data": {
      "text/html": [
       "Finished working on: 353"
      ],
      "text/plain": [
       "Finished working on: 353"
      ]
     },
     "metadata": {},
     "output_type": "display_data"
    },
    {
     "data": {
      "text/html": [
       "Started working on: 354"
      ],
      "text/plain": [
       "Started working on: 354"
      ]
     },
     "metadata": {},
     "output_type": "display_data"
    },
    {
     "data": {
      "text/html": [
       "Finished working on: 478"
      ],
      "text/plain": [
       "Finished working on: 478"
      ]
     },
     "metadata": {},
     "output_type": "display_data"
    },
    {
     "data": {
      "text/html": [
       "Started working on: 479"
      ],
      "text/plain": [
       "Started working on: 479"
      ]
     },
     "metadata": {},
     "output_type": "display_data"
    },
    {
     "data": {
      "text/html": [
       "Finished working on: 369"
      ],
      "text/plain": [
       "Finished working on: 369"
      ]
     },
     "metadata": {},
     "output_type": "display_data"
    },
    {
     "data": {
      "text/html": [
       "Started working on: 370"
      ],
      "text/plain": [
       "Started working on: 370"
      ]
     },
     "metadata": {},
     "output_type": "display_data"
    },
    {
     "data": {
      "text/html": [
       "Finished working on: 494"
      ],
      "text/plain": [
       "Finished working on: 494"
      ]
     },
     "metadata": {},
     "output_type": "display_data"
    },
    {
     "data": {
      "text/html": [
       "Started working on: 495"
      ],
      "text/plain": [
       "Started working on: 495"
      ]
     },
     "metadata": {},
     "output_type": "display_data"
    },
    {
     "data": {
      "text/html": [
       "Finished working on: 354"
      ],
      "text/plain": [
       "Finished working on: 354"
      ]
     },
     "metadata": {},
     "output_type": "display_data"
    },
    {
     "data": {
      "text/html": [
       "Started working on: 355"
      ],
      "text/plain": [
       "Started working on: 355"
      ]
     },
     "metadata": {},
     "output_type": "display_data"
    },
    {
     "data": {
      "text/html": [
       "Finished working on: 370"
      ],
      "text/plain": [
       "Finished working on: 370"
      ]
     },
     "metadata": {},
     "output_type": "display_data"
    },
    {
     "data": {
      "text/html": [
       "Started working on: 371"
      ],
      "text/plain": [
       "Started working on: 371"
      ]
     },
     "metadata": {},
     "output_type": "display_data"
    },
    {
     "data": {
      "text/html": [
       "Finished working on: 495"
      ],
      "text/plain": [
       "Finished working on: 495"
      ]
     },
     "metadata": {},
     "output_type": "display_data"
    },
    {
     "data": {
      "text/html": [
       "Started working on: 496"
      ],
      "text/plain": [
       "Started working on: 496"
      ]
     },
     "metadata": {},
     "output_type": "display_data"
    },
    {
     "data": {
      "text/html": [
       "Finished working on: 479"
      ],
      "text/plain": [
       "Finished working on: 479"
      ]
     },
     "metadata": {},
     "output_type": "display_data"
    },
    {
     "data": {
      "text/html": [
       "Started working on: 480"
      ],
      "text/plain": [
       "Started working on: 480"
      ]
     },
     "metadata": {},
     "output_type": "display_data"
    },
    {
     "data": {
      "text/html": [
       "Finished working on: 355"
      ],
      "text/plain": [
       "Finished working on: 355"
      ]
     },
     "metadata": {},
     "output_type": "display_data"
    },
    {
     "data": {
      "text/html": [
       "Started working on: 356"
      ],
      "text/plain": [
       "Started working on: 356"
      ]
     },
     "metadata": {},
     "output_type": "display_data"
    },
    {
     "data": {
      "text/html": [
       "Finished working on: 371"
      ],
      "text/plain": [
       "Finished working on: 371"
      ]
     },
     "metadata": {},
     "output_type": "display_data"
    },
    {
     "data": {
      "text/html": [
       "Started working on: 372"
      ],
      "text/plain": [
       "Started working on: 372"
      ]
     },
     "metadata": {},
     "output_type": "display_data"
    },
    {
     "data": {
      "text/html": [
       "Finished working on: 496"
      ],
      "text/plain": [
       "Finished working on: 496"
      ]
     },
     "metadata": {},
     "output_type": "display_data"
    },
    {
     "data": {
      "text/html": [
       "Started working on: 497"
      ],
      "text/plain": [
       "Started working on: 497"
      ]
     },
     "metadata": {},
     "output_type": "display_data"
    },
    {
     "data": {
      "text/html": [
       "Finished working on: 480"
      ],
      "text/plain": [
       "Finished working on: 480"
      ]
     },
     "metadata": {},
     "output_type": "display_data"
    },
    {
     "data": {
      "text/html": [
       "Started working on: 481"
      ],
      "text/plain": [
       "Started working on: 481"
      ]
     },
     "metadata": {},
     "output_type": "display_data"
    },
    {
     "data": {
      "text/html": [
       "Finished working on: 356"
      ],
      "text/plain": [
       "Finished working on: 356"
      ]
     },
     "metadata": {},
     "output_type": "display_data"
    },
    {
     "data": {
      "text/html": [
       "Started working on: 357"
      ],
      "text/plain": [
       "Started working on: 357"
      ]
     },
     "metadata": {},
     "output_type": "display_data"
    },
    {
     "data": {
      "text/html": [
       "Finished working on: 372"
      ],
      "text/plain": [
       "Finished working on: 372"
      ]
     },
     "metadata": {},
     "output_type": "display_data"
    },
    {
     "data": {
      "text/html": [
       "Started working on: 373"
      ],
      "text/plain": [
       "Started working on: 373"
      ]
     },
     "metadata": {},
     "output_type": "display_data"
    },
    {
     "data": {
      "text/html": [
       "Finished working on: 497"
      ],
      "text/plain": [
       "Finished working on: 497"
      ]
     },
     "metadata": {},
     "output_type": "display_data"
    },
    {
     "data": {
      "text/html": [
       "Started working on: 498"
      ],
      "text/plain": [
       "Started working on: 498"
      ]
     },
     "metadata": {},
     "output_type": "display_data"
    },
    {
     "data": {
      "text/html": [
       "Finished working on: 481"
      ],
      "text/plain": [
       "Finished working on: 481"
      ]
     },
     "metadata": {},
     "output_type": "display_data"
    },
    {
     "data": {
      "text/html": [
       "Started working on: 482"
      ],
      "text/plain": [
       "Started working on: 482"
      ]
     },
     "metadata": {},
     "output_type": "display_data"
    },
    {
     "data": {
      "text/html": [
       "Finished working on: 357"
      ],
      "text/plain": [
       "Finished working on: 357"
      ]
     },
     "metadata": {},
     "output_type": "display_data"
    },
    {
     "data": {
      "text/html": [
       "Started working on: 358"
      ],
      "text/plain": [
       "Started working on: 358"
      ]
     },
     "metadata": {},
     "output_type": "display_data"
    },
    {
     "data": {
      "text/html": [
       "Finished working on: 373"
      ],
      "text/plain": [
       "Finished working on: 373"
      ]
     },
     "metadata": {},
     "output_type": "display_data"
    },
    {
     "data": {
      "text/html": [
       "Started working on: 374"
      ],
      "text/plain": [
       "Started working on: 374"
      ]
     },
     "metadata": {},
     "output_type": "display_data"
    },
    {
     "data": {
      "text/html": [
       "Finished working on: 498"
      ],
      "text/plain": [
       "Finished working on: 498"
      ]
     },
     "metadata": {},
     "output_type": "display_data"
    },
    {
     "data": {
      "text/html": [
       "Started working on: 499"
      ],
      "text/plain": [
       "Started working on: 499"
      ]
     },
     "metadata": {},
     "output_type": "display_data"
    },
    {
     "data": {
      "text/html": [
       "Finished working on: 482"
      ],
      "text/plain": [
       "Finished working on: 482"
      ]
     },
     "metadata": {},
     "output_type": "display_data"
    },
    {
     "data": {
      "text/html": [
       "Started working on: 483"
      ],
      "text/plain": [
       "Started working on: 483"
      ]
     },
     "metadata": {},
     "output_type": "display_data"
    },
    {
     "data": {
      "text/html": [
       "Finished working on: 358"
      ],
      "text/plain": [
       "Finished working on: 358"
      ]
     },
     "metadata": {},
     "output_type": "display_data"
    },
    {
     "data": {
      "text/html": [
       "Started working on: 359"
      ],
      "text/plain": [
       "Started working on: 359"
      ]
     },
     "metadata": {},
     "output_type": "display_data"
    },
    {
     "data": {
      "text/html": [
       "Finished working on: 374"
      ],
      "text/plain": [
       "Finished working on: 374"
      ]
     },
     "metadata": {},
     "output_type": "display_data"
    },
    {
     "data": {
      "text/html": [
       "Finished working on: 499"
      ],
      "text/plain": [
       "Finished working on: 499"
      ]
     },
     "metadata": {},
     "output_type": "display_data"
    },
    {
     "data": {
      "text/html": [
       "Finished working on: 483"
      ],
      "text/plain": [
       "Finished working on: 483"
      ]
     },
     "metadata": {},
     "output_type": "display_data"
    },
    {
     "data": {
      "text/html": [
       "Started working on: 484"
      ],
      "text/plain": [
       "Started working on: 484"
      ]
     },
     "metadata": {},
     "output_type": "display_data"
    },
    {
     "data": {
      "text/html": [
       "Finished working on: 359"
      ],
      "text/plain": [
       "Finished working on: 359"
      ]
     },
     "metadata": {},
     "output_type": "display_data"
    },
    {
     "data": {
      "text/html": [
       "Finished working on: 484"
      ],
      "text/plain": [
       "Finished working on: 484"
      ]
     },
     "metadata": {},
     "output_type": "display_data"
    },
    {
     "data": {
      "text/html": [
       "Finished processing. Press a key to end."
      ],
      "text/plain": [
       "Finished processing. Press a key to end."
      ]
     },
     "metadata": {},
     "output_type": "display_data"
    }
   ],
   "source": [
    "LISTING_1_3_ParallelFor_in_use.Program.Main(new string[0]);"
   ]
  }
 ],
 "metadata": {
  "kernelspec": {
   "display_name": "C#",
   "language": "csharp",
   "name": "kernel-spec"
  },
  "language_info": {
   "file_extension": ".cs",
   "mimetype": "text/x-csharp",
   "name": "C#",
   "pygments_lexer": "c#",
   "version": "4.0.30319"
  }
 },
 "nbformat": 4,
 "nbformat_minor": 2
}

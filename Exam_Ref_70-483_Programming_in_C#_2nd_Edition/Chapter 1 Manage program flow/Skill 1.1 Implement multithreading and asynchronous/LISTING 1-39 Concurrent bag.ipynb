{
 "cells": [
  {
   "cell_type": "markdown",
   "metadata": {},
   "source": [
    "# Info"
   ]
  },
  {
   "cell_type": "markdown",
   "metadata": {},
   "source": [
    "This example is from\n",
    "* [github.com/ExamRef70-483/Sample-Code](https://github.com/ExamRef70-483/Sample-Code)\n",
    "* [LISTING 1-39 Concurrent bag](https://github.com/ExamRef70-483/Sample-Code/blob/master/LISTING%201-39%E2%80%82Concurrent%20bag/LISTING%201-39%E2%80%82Concurrent%20bag/Program.cs)\n",
    "\n",
    "\n",
    "## Remember\n",
    "* Main() is not called automatically. Has to be called manual. Remember '**public**'\n",
    "* Console.ReadKey() should not be used.\n"
   ]
  },
  {
   "cell_type": "code",
   "execution_count": 1,
   "metadata": {},
   "outputs": [],
   "source": [
    "using System;\n",
    "using System.Collections.Generic;\n",
    "using System.Linq;\n",
    "using System.Text;\n",
    "using System.Threading.Tasks;\n",
    "using System.Collections.Concurrent;\n",
    "\n",
    "namespace LISTING_1_39_Concurrent_bag\n",
    "{\n",
    "    class Program\n",
    "    {\n",
    "        static public void Main(string[] args)\n",
    "        {\n",
    "            ConcurrentBag<string> bag = new ConcurrentBag<string>();\n",
    "            bag.Add(\"Rob\");\n",
    "            bag.Add(\"Miles\");\n",
    "            bag.Add(\"Hull\");\n",
    "            string str;\n",
    "            if (bag.TryPeek(out str))\n",
    "                Console.WriteLine(\"Peek: {0}\", str);\n",
    "            if (bag.TryTake(out str))\n",
    "                Console.WriteLine(\"Take: {0}\", str);\n",
    "            //Console.ReadKey();\n",
    "        }\n",
    "    }\n",
    "}\n"
   ]
  },
  {
   "cell_type": "code",
   "execution_count": 2,
   "metadata": {},
   "outputs": [
    {
     "data": {
      "text/html": [
       "Peek: Hull"
      ],
      "text/plain": [
       "Peek: Hull"
      ]
     },
     "metadata": {},
     "output_type": "display_data"
    },
    {
     "data": {
      "text/html": [
       "Take: Hull"
      ],
      "text/plain": [
       "Take: Hull"
      ]
     },
     "metadata": {},
     "output_type": "display_data"
    }
   ],
   "source": [
    "LISTING_1_39_Concurrent_bag.Program.Main(new string[0]);"
   ]
  }
 ],
 "metadata": {
  "kernelspec": {
   "display_name": "C#",
   "language": "csharp",
   "name": "kernel-spec"
  },
  "language_info": {
   "file_extension": ".cs",
   "mimetype": "text/x-csharp",
   "name": "C#",
   "pygments_lexer": "c#",
   "version": "4.0.30319"
  }
 },
 "nbformat": 4,
 "nbformat_minor": 2
}

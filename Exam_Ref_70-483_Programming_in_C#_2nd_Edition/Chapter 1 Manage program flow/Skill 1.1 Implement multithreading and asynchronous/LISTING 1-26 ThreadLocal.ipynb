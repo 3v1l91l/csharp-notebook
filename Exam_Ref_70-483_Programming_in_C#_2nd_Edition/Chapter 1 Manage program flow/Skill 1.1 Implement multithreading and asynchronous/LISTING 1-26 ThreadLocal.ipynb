{
 "cells": [
  {
   "cell_type": "markdown",
   "metadata": {},
   "source": [
    "# Info"
   ]
  },
  {
   "cell_type": "markdown",
   "metadata": {},
   "source": [
    "This example is from\n",
    "* [github.com/ExamRef70-483/Sample-Code](https://github.com/ExamRef70-483/Sample-Code)\n",
    "* [LISTING 1-26 ThreadLocal](https://github.com/ExamRef70-483/Sample-Code/blob/master/LISTING%201-26%E2%80%82ThreadLocal/LISTING%201-26%E2%80%82ThreadLocal/Program.cs)\n",
    "\n",
    "\n",
    "## Remember\n",
    "* Main() is not called automatically. Has to be called manual. Remember '**public**'\n",
    "* Console.ReadKey() should not be used.\n"
   ]
  },
  {
   "cell_type": "code",
   "execution_count": null,
   "metadata": {},
   "outputs": [],
   "source": [
    "using System;\n",
    "using System.Threading;\n",
    "\n",
    "namespace LISTING_1_27_ThreadLocal\n",
    "{\n",
    "    class Program\n",
    "    {\n",
    "        public static ThreadLocal<Random> RandomGenerator =\n",
    "            new ThreadLocal<Random>(() =>\n",
    "            {\n",
    "                return new Random(2);\n",
    "            });\n",
    "\n",
    "        static public void Main(string[] args)\n",
    "        {\n",
    "            Thread t1 = new Thread(() =>\n",
    "            {\n",
    "                for (int i = 0; i < 5; i++)\n",
    "                {\n",
    "                    Console.WriteLine(\"t1: {0}\", RandomGenerator.Value.Next(10));\n",
    "                    Thread.Sleep(500);\n",
    "                }\n",
    "            });\n",
    "\n",
    "            Thread t2 = new Thread(() =>\n",
    "            {\n",
    "                for (int i = 0; i < 5; i++)\n",
    "                {\n",
    "                    Console.WriteLine(\"t2: {0}\", RandomGenerator.Value.Next(10));\n",
    "                    Thread.Sleep(500);\n",
    "                }\n",
    "            });\n",
    "\n",
    "            t1.Start();\n",
    "            t2.Start();\n",
    "\n",
    "            //Console.ReadKey();\n",
    "        }\n",
    "    }\n",
    "}\n"
   ]
  },
  {
   "cell_type": "code",
   "execution_count": null,
   "metadata": {},
   "outputs": [],
   "source": [
    "LISTING_1_27_ThreadLocal.Program.Main(new string[0]);"
   ]
  }
 ],
 "metadata": {
  "kernelspec": {
   "display_name": "C#",
   "language": "csharp",
   "name": "kernel-spec"
  },
  "language_info": {
   "file_extension": ".cs",
   "mimetype": "text/x-csharp",
   "name": "C#",
   "pygments_lexer": "c#",
   "version": "4.0.30319"
  }
 },
 "nbformat": 4,
 "nbformat_minor": 2
}

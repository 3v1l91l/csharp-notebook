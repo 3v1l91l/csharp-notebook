{
 "cells": [
  {
   "cell_type": "markdown",
   "metadata": {},
   "source": [
    "# Info"
   ]
  },
  {
   "cell_type": "markdown",
   "metadata": {},
   "source": [
    "This example is from\n",
    "* [github.com/ExamRef70-483/Sample-Code](https://github.com/ExamRef70-483/Sample-Code)\n",
    "* [LISTING 1-36 Block ConcurrentStack](https://github.com/ExamRef70-483/Sample-Code/blob/master/LISTING%201-36%E2%80%82Block%20ConcurrentStack/LISTING%201-36%E2%80%82Block%20ConcurrentStack/Program.cs)\n",
    "\n",
    "\n",
    "## Remember\n",
    "* Main() is not called automatically. Has to be called manual. Remember '**public**'\n",
    "* Console.ReadKey() should not be used.\n"
   ]
  },
  {
   "cell_type": "code",
   "execution_count": null,
   "metadata": {},
   "outputs": [],
   "source": [
    "using System;\n",
    "using System.Collections.Concurrent;\n",
    "using System.Threading.Tasks;\n",
    "\n",
    "namespace LISTING_1_36_Block_ConcurrentStack\n",
    "{\n",
    "    class Program\n",
    "    {\n",
    "        static public void Main(string[] args)\n",
    "        {\n",
    "            // Blocking collection that can hold 5 items\n",
    "            BlockingCollection<int> data = new BlockingCollection<int>(new ConcurrentStack<int>(), 5);\n",
    "\n",
    "            Task.Run(() =>\n",
    "            {\n",
    "                // attempt to add 10 items to the collection - blocks after 5th\n",
    "                for (int i = 0; i < 10; i++)\n",
    "                {\n",
    "                    data.Add(i);\n",
    "                    Console.WriteLine(\"Data {0} added successfully.\", i);\n",
    "                }\n",
    "                // indicate we have no more to add\n",
    "                data.CompleteAdding();\n",
    "            });\n",
    "\n",
    "            //Console.ReadKey();\n",
    "            Console.WriteLine(\"Reading collection\");\n",
    "\n",
    "            Task.Run(() =>\n",
    "            {\n",
    "                while (!data.IsCompleted)\n",
    "                {\n",
    "                    try\n",
    "                    {\n",
    "                        int v = data.Take();\n",
    "                        Console.WriteLine(\"Data {0} taken successfully.\", v);\n",
    "                    }\n",
    "                    catch (InvalidOperationException) { }\n",
    "                }\n",
    "            });\n",
    "\n",
    "            //Console.ReadKey();\n",
    "        }\n",
    "    }\n",
    "}\n"
   ]
  },
  {
   "cell_type": "code",
   "execution_count": null,
   "metadata": {},
   "outputs": [],
   "source": [
    "LISTING_1_36_Block_ConcurrentStack.Program.Main(new string[0]);"
   ]
  }
 ],
 "metadata": {
  "kernelspec": {
   "display_name": "C#",
   "language": "csharp",
   "name": "kernel-spec"
  },
  "language_info": {
   "file_extension": ".cs",
   "mimetype": "text/x-csharp",
   "name": "C#",
   "pygments_lexer": "c#",
   "version": "4.0.30319"
  }
 },
 "nbformat": 4,
 "nbformat_minor": 2
}

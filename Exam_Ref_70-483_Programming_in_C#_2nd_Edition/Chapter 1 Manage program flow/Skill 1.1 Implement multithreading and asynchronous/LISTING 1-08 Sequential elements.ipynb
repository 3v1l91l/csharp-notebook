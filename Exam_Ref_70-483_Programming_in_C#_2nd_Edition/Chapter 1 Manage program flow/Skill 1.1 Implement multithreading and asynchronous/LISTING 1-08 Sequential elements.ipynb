{
 "cells": [
  {
   "cell_type": "markdown",
   "metadata": {},
   "source": [
    "# Info"
   ]
  },
  {
   "cell_type": "markdown",
   "metadata": {},
   "source": [
    "This example is from\n",
    "* [github.com/ExamRef70-483/Sample-Code](https://github.com/ExamRef70-483/Sample-Code)\n",
    "* [LISTING 1-8 Sequential elements](https://github.com/ExamRef70-483/Sample-Code/blob/master/LISTING%201-8%E2%80%82Sequential%20elements/LISTING%201-8%E2%80%82Sequential%20elements/Program.cs)\n",
    "\n",
    "\n",
    "## Remember\n",
    "* Main() is not called automatically. Has to be called manual. Remember '**public**'\n",
    "* Console.ReadKey() should not be used.\n"
   ]
  },
  {
   "cell_type": "code",
   "execution_count": null,
   "metadata": {},
   "outputs": [],
   "source": [
    "using System;\n",
    "using System.Linq;\n",
    "\n",
    "namespace LISTING_1_8_Sequential_elements\n",
    "{\n",
    "    class Program\n",
    "    {\n",
    "        class Person\n",
    "        {\n",
    "            public string Name { get; set; }\n",
    "            public string City { get; set; }\n",
    "        }\n",
    "\n",
    "        static public void Main(string[] args)\n",
    "        {\n",
    "            Person[] people = new Person[] {\n",
    "                new Person { Name = \"Alan\", City = \"Hull\" },\n",
    "                new Person { Name = \"Beryl\", City = \"Seattle\" },\n",
    "                new Person { Name = \"Charles\", City = \"London\" },\n",
    "                new Person { Name = \"David\", City = \"Seattle\" },\n",
    "                new Person { Name = \"Eddy\", City = \"Paris\" },\n",
    "                new Person { Name = \"Fred\", City = \"Berlin\" },\n",
    "                new Person { Name = \"Gordon\", City = \"Hull\" },\n",
    "                new Person { Name = \"Henry\", City = \"Seattle\" },\n",
    "                new Person { Name = \"Isaac\", City = \"Seattle\" },\n",
    "                new Person { Name = \"James\", City = \"London\" }};\n",
    "\n",
    "\n",
    "            var result = (from person in people.AsParallel()\n",
    "                          where person.City == \"Seattle\"\n",
    "                          orderby (person.Name)\n",
    "                          select new\n",
    "                          {\n",
    "                              Name = person.Name\n",
    "                          }).AsSequential().Take(4);\n",
    "\n",
    "            foreach (var person in result)\n",
    "                Console.WriteLine(person.Name);\n",
    "\n",
    "            Console.WriteLine(\"Finished processing. Press a key to end.\");\n",
    "            //Console.ReadKey();\n",
    "        }\n",
    "    }\n",
    "}\n"
   ]
  },
  {
   "cell_type": "code",
   "execution_count": null,
   "metadata": {},
   "outputs": [],
   "source": [
    "LISTING_1_8_Sequential_elements.Program.Main(new string[0]);"
   ]
  }
 ],
 "metadata": {
  "kernelspec": {
   "display_name": "C#",
   "language": "csharp",
   "name": "kernel-spec"
  },
  "language_info": {
   "file_extension": ".cs",
   "mimetype": "text/x-csharp",
   "name": "C#",
   "pygments_lexer": "c#",
   "version": "4.0.30319"
  }
 },
 "nbformat": 4,
 "nbformat_minor": 2
}

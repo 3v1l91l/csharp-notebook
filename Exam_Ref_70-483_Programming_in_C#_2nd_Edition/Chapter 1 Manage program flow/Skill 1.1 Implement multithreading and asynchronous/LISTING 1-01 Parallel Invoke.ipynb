{
 "cells": [
  {
   "cell_type": "markdown",
   "metadata": {},
   "source": [
    "# Info"
   ]
  },
  {
   "cell_type": "markdown",
   "metadata": {},
   "source": [
    "This example is from\n",
    "* [github.com/ExamRef70-483/Sample-Code](https://github.com/ExamRef70-483/Sample-Code)\n",
    "* [LISTING 1.1Parallel Invoke](https://github.com/ExamRef70-483/Sample-Code/blob/master/LISTING%201.1Parallel%20Invoke/Listing%201.1Parallel%20Invoke/Program.cs)\n",
    "\n",
    "\n",
    "## Remember\n",
    "* Main() is not called automatically. Has to be called manual. Remember '**public**'\n",
    "* Console.ReadKey() should not be used.\n"
   ]
  },
  {
   "cell_type": "code",
   "execution_count": null,
   "metadata": {},
   "outputs": [],
   "source": [
    "using System;\n",
    "using System.Threading;\n",
    "using System.Threading.Tasks;\n",
    "\n",
    "namespace Listing_1._1Parallel_Invoke\n",
    "{\n",
    "    class Program\n",
    "    {\n",
    "        static void Task1()\n",
    "        {\n",
    "            Console.WriteLine(\"Task 1 starting\");\n",
    "            Thread.Sleep(2000);\n",
    "            Console.WriteLine(\"Task 1 ending\");\n",
    "        }\n",
    "\n",
    "        static void Task2()\n",
    "        {\n",
    "            Console.WriteLine(\"Task 2 starting\");\n",
    "            Thread.Sleep(1000);\n",
    "            Console.WriteLine(\"Task 2 ending\");\n",
    "        }\n",
    "\n",
    "        static public void Main(string[] args)\n",
    "        {\n",
    "            Parallel.Invoke(() => Task1(), () => Task2());\n",
    "            Console.WriteLine(\"Finished processing. Press a key to end.\");\n",
    "            //Console.ReadKey();\n",
    "        }\n",
    "    }\n",
    "}\n"
   ]
  },
  {
   "cell_type": "code",
   "execution_count": null,
   "metadata": {},
   "outputs": [],
   "source": [
    "Listing_1._1Parallel_Invoke.Program.Main(new string[0]);"
   ]
  }
 ],
 "metadata": {
  "kernelspec": {
   "display_name": "C#",
   "language": "csharp",
   "name": "kernel-spec"
  },
  "language_info": {
   "file_extension": ".cs",
   "mimetype": "text/x-csharp",
   "name": "C#",
   "pygments_lexer": "c#",
   "version": "4.0.30319"
  }
 },
 "nbformat": 4,
 "nbformat_minor": 2
}

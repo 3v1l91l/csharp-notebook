{
 "cells": [
  {
   "cell_type": "markdown",
   "metadata": {},
   "source": [
    "# Info"
   ]
  },
  {
   "cell_type": "markdown",
   "metadata": {},
   "source": [
    "This example is from\n",
    "* [github.com/ExamRef70-483/Sample-Code](https://github.com/ExamRef70-483/Sample-Code)\n",
    "* [LISTING 1-13 Task Factory](https://github.com/ExamRef70-483/Sample-Code/blob/master/LISTING%201-13%E2%80%82Task%20Factory/LISTING%201-13%E2%80%82Task%20Factory/Program.cs)\n",
    "\n",
    "\n",
    "## Remember\n",
    "* Main() is not called automatically. Has to be called manual. Remember '**public**'\n",
    "* Console.ReadKey() should not be used.\n"
   ]
  },
  {
   "cell_type": "code",
   "execution_count": 1,
   "metadata": {},
   "outputs": [
    {
     "data": {
      "text/html": [
       "(11,21): error CS1525: Unexpected symbol `,&#39;, expecting `;&#39; or `}&#39;"
      ],
      "text/plain": [
       "(11,21): error CS1525: Unexpected symbol `,', expecting `;' or `}'"
      ]
     },
     "metadata": {},
     "output_type": "display_data"
    },
    {
     "data": {
      "text/html": [
       "(12,56): error CS1525: Unexpected symbol `,&#39;, expecting `;&#39; or `}&#39;"
      ],
      "text/plain": [
       "(12,56): error CS1525: Unexpected symbol `,', expecting `;' or `}'"
      ]
     },
     "metadata": {},
     "output_type": "display_data"
    },
    {
     "data": {
      "text/html": [
       "(13,51): error CS1525: Unexpected symbol `,&#39;, expecting `;&#39; or `}&#39;"
      ],
      "text/plain": [
       "(13,51): error CS1525: Unexpected symbol `,', expecting `;' or `}'"
      ]
     },
     "metadata": {},
     "output_type": "display_data"
    },
    {
     "data": {
      "text/html": [
       "(13,57): error CS1525: Unexpected symbol `)&#39;, expecting `;&#39; or `}&#39;"
      ],
      "text/plain": [
       "(13,57): error CS1525: Unexpected symbol `)', expecting `;' or `}'"
      ]
     },
     "metadata": {},
     "output_type": "display_data"
    },
    {
     "data": {
      "text/html": [
       "(16,12): error CS1525: Unexpected symbol `t&#39;"
      ],
      "text/plain": [
       "(16,12): error CS1525: Unexpected symbol `t'"
      ]
     },
     "metadata": {},
     "output_type": "display_data"
    },
    {
     "data": {
      "text/html": [
       "(17,9): error CS1002: ; expected"
      ],
      "text/plain": [
       "(17,9): error CS1002: ; expected"
      ]
     },
     "metadata": {},
     "output_type": "display_data"
    }
   ],
   "source": [
    "using System;\n",
    "using System.Collections.Generic;\n",
    "using System.Linq;\n",
    "using System.Text;\n",
    "using System.Threading;\n",
    "using System.Threading.Tasks;\n",
    "\n",
    "namespace LISTING_1_13_Task_Factory\n",
    "{\n",
    "    class Program\n",
    "    {\n",
    "        static public void Main(string[] args)\n",
    "        {\n",
    "            CancellationToken cancl = new CancellationToken();\n",
    "\n",
    "            TaskFactory factory = new TaskFactory(TaskCreationOptions.AttachedToParent,\n",
    "                TaskContinuationOptions.None);\n",
    "                cancl,\n",
    "                TaskContinuationOptions.AttachedToParent,\n",
    "                TaskContinuationOptions.LongRunning, null);\n",
    "\n",
    "            t.StartNew()\n",
    "            t<int>.StartNew()\n",
    "        }\n",
    "    }\n",
    "}\n"
   ]
  },
  {
   "cell_type": "code",
   "execution_count": 2,
   "metadata": {},
   "outputs": [],
   "source": [
    "LISTING_1_13_Task_Factory.Program.Main(new string[0]);"
   ]
  }
 ],
 "metadata": {
  "kernelspec": {
   "display_name": "C#",
   "language": "csharp",
   "name": "kernel-spec"
  },
  "language_info": {
   "file_extension": ".cs",
   "mimetype": "text/x-csharp",
   "name": "C#",
   "pygments_lexer": "c#",
   "version": "4.0.30319"
  }
 },
 "nbformat": 4,
 "nbformat_minor": 2
}

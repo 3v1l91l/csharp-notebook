{
 "cells": [
  {
   "cell_type": "markdown",
   "metadata": {},
   "source": [
    "# Info"
   ]
  },
  {
   "cell_type": "markdown",
   "metadata": {},
   "source": [
    "This example is from\n",
    "* [github.com/ExamRef70-483/Sample-Code](https://github.com/ExamRef70-483/Sample-Code)\n",
    "* [LISTING 1-24 shared flag variable](https://github.com/ExamRef70-483/Sample-Code/blob/master/LISTING%201-24%E2%80%82shared%20flag%20variable/LISTING%201-24%E2%80%82shared%20flag%20variable/Program.cs)\n",
    "\n",
    "\n",
    "## Remember\n",
    "* Main() is not called automatically. Has to be called manual. Remember '**public**'\n",
    "* Console.ReadKey() should not be used.\n"
   ]
  },
  {
   "cell_type": "code",
   "execution_count": 1,
   "metadata": {},
   "outputs": [],
   "source": [
    "using System;\n",
    "using System.Threading;\n",
    "\n",
    "namespace LISTING_1_24_shared_flag_variable\n",
    "{\n",
    "    class Program\n",
    "    {\n",
    "        static bool tickRunning = true;  // flag variable\n",
    "\n",
    "        static public void Main(string[] args)\n",
    "        {\n",
    "            tickRunning = true;\n",
    "\n",
    "            Thread tickThread = new Thread(() =>\n",
    "            {\n",
    "                while (tickRunning)\n",
    "                {\n",
    "                    Console.WriteLine(\"Tick\");\n",
    "                    Thread.Sleep(1000);\n",
    "                }\n",
    "            });\n",
    "\n",
    "            tickThread.Start();\n",
    "\n",
    "            Console.WriteLine(\"Press a key to stop the clock\");\n",
    "            //Console.ReadKey();\n",
    "            tickRunning = false;\n",
    "            Console.WriteLine(\"Press a key to exit\");\n",
    "            //Console.ReadKey();\n",
    "        }\n",
    "    }\n",
    "}\n"
   ]
  },
  {
   "cell_type": "code",
   "execution_count": 2,
   "metadata": {},
   "outputs": [
    {
     "data": {
      "text/html": [
       "Press a key to stop the clock"
      ],
      "text/plain": [
       "Press a key to stop the clock"
      ]
     },
     "metadata": {},
     "output_type": "display_data"
    },
    {
     "data": {
      "text/html": [
       "Press a key to exit"
      ],
      "text/plain": [
       "Press a key to exit"
      ]
     },
     "metadata": {},
     "output_type": "display_data"
    }
   ],
   "source": [
    "LISTING_1_24_shared_flag_variable.Program.Main(new string[0]);"
   ]
  }
 ],
 "metadata": {
  "kernelspec": {
   "display_name": "C#",
   "language": "csharp",
   "name": "kernel-spec"
  },
  "language_info": {
   "file_extension": ".cs",
   "mimetype": "text/x-csharp",
   "name": "C#",
   "pygments_lexer": "c#",
   "version": "4.0.30319"
  }
 },
 "nbformat": 4,
 "nbformat_minor": 2
}

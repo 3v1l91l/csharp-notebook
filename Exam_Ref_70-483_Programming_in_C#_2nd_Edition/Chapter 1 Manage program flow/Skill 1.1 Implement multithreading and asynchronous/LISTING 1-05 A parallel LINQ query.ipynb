{
 "cells": [
  {
   "cell_type": "markdown",
   "metadata": {},
   "source": [
    "# Info"
   ]
  },
  {
   "cell_type": "markdown",
   "metadata": {},
   "source": [
    "This example is from\n",
    "* [github.com/ExamRef70-483/Sample-Code](https://github.com/ExamRef70-483/Sample-Code)\n",
    "* [LISTING 1-5 A parallel LINQ query](https://github.com/ExamRef70-483/Sample-Code/blob/master/LISTING%201-5%E2%80%82A%20parallel%20LINQ%20query/LISTING%201-5%E2%80%82A%20parallel%20LINQ%20query/Program.cs)\n",
    "\n",
    "\n",
    "## Remember\n",
    "* Main() is not called automatically. Has to be called manual. Remember '**public**'\n",
    "* Console.ReadKey() should not be used.\n"
   ]
  },
  {
   "cell_type": "code",
   "execution_count": 1,
   "metadata": {},
   "outputs": [],
   "source": [
    "using System;\n",
    "using System.Linq;\n",
    "\n",
    "namespace LISTING_1_5_A_parallel_LINQ_query\n",
    "{\n",
    "    class Program\n",
    "    {\n",
    "        class Person\n",
    "        {\n",
    "            public string Name { get; set; }\n",
    "            public string City { get; set; }\n",
    "        }\n",
    "\n",
    "        static public void Main(string[] args)\n",
    "        {\n",
    "            Person[] people = new Person[] {\n",
    "                new Person { Name = \"Alan\", City = \"Hull\" },\n",
    "                new Person { Name = \"Beryl\", City = \"Seattle\" },\n",
    "                new Person { Name = \"Charles\", City = \"London\" },\n",
    "                new Person { Name = \"David\", City = \"Seattle\" },\n",
    "                new Person { Name = \"Eddy\", City = \"Paris\" },\n",
    "                new Person { Name = \"Fred\", City = \"Berlin\" },\n",
    "                new Person { Name = \"Gordon\", City = \"Hull\" },\n",
    "                new Person { Name = \"Henry\", City = \"Seattle\" },\n",
    "                new Person { Name = \"Isaac\", City = \"Seattle\" },\n",
    "                new Person { Name = \"James\", City = \"London\" }};\n",
    "\n",
    "            var result = from person in people.AsParallel()\n",
    "                         where person.City == \"Seattle\"\n",
    "                         select person;\n",
    "\n",
    "            foreach (var person in result)\n",
    "                Console.WriteLine(person.Name);\n",
    "\n",
    "            Console.WriteLine(\"Finished processing. Press a key to end.\");\n",
    "            //Console.ReadKey();\n",
    "        }\n",
    "    }\n",
    "}\n"
   ]
  },
  {
   "cell_type": "code",
   "execution_count": 2,
   "metadata": {},
   "outputs": [
    {
     "data": {
      "text/html": [
       "Henry"
      ],
      "text/plain": [
       "Henry"
      ]
     },
     "metadata": {},
     "output_type": "display_data"
    },
    {
     "data": {
      "text/html": [
       "Isaac"
      ],
      "text/plain": [
       "Isaac"
      ]
     },
     "metadata": {},
     "output_type": "display_data"
    },
    {
     "data": {
      "text/html": [
       "Beryl"
      ],
      "text/plain": [
       "Beryl"
      ]
     },
     "metadata": {},
     "output_type": "display_data"
    },
    {
     "data": {
      "text/html": [
       "David"
      ],
      "text/plain": [
       "David"
      ]
     },
     "metadata": {},
     "output_type": "display_data"
    },
    {
     "data": {
      "text/html": [
       "Finished processing. Press a key to end."
      ],
      "text/plain": [
       "Finished processing. Press a key to end."
      ]
     },
     "metadata": {},
     "output_type": "display_data"
    }
   ],
   "source": [
    "LISTING_1_5_A_parallel_LINQ_query.Program.Main(new string[0]);"
   ]
  }
 ],
 "metadata": {
  "kernelspec": {
   "display_name": "C#",
   "language": "csharp",
   "name": "kernel-spec"
  },
  "language_info": {
   "file_extension": ".cs",
   "mimetype": "text/x-csharp",
   "name": "C#",
   "pygments_lexer": "c#",
   "version": "4.0.30319"
  }
 },
 "nbformat": 4,
 "nbformat_minor": 2
}

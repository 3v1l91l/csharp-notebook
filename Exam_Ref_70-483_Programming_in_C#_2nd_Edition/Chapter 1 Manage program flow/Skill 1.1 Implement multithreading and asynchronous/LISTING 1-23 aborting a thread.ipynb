{
 "cells": [
  {
   "cell_type": "markdown",
   "metadata": {},
   "source": [
    "# Info"
   ]
  },
  {
   "cell_type": "markdown",
   "metadata": {},
   "source": [
    "This example is from\n",
    "* [github.com/ExamRef70-483/Sample-Code](https://github.com/ExamRef70-483/Sample-Code)\n",
    "* [LISTING 1-23 aborting a thread](https://github.com/ExamRef70-483/Sample-Code/blob/master/LISTING%201-23%E2%80%82aborting%20a%20thread/LISTING%201-23%E2%80%82aborting%20a%20thread/Program.cs)\n",
    "\n",
    "\n",
    "## Remember\n",
    "* Main() is not called automatically. Has to be called manual. Remember '**public**'\n",
    "* Console.ReadKey() should not be used.\n"
   ]
  },
  {
   "cell_type": "code",
   "execution_count": null,
   "metadata": {},
   "outputs": [],
   "source": [
    "using System;\n",
    "using System.Threading;\n",
    "\n",
    "namespace LISTING_1_23_aborting_a_thread\n",
    "{\n",
    "    class Program\n",
    "    {\n",
    "        static public void Main(string[] args)\n",
    "        {\n",
    "            Thread tickThread = new Thread(() =>\n",
    "            {\n",
    "                while (true)\n",
    "                {\n",
    "                    Console.WriteLine(\"Tick\");\n",
    "                    Thread.Sleep(1000);\n",
    "                }\n",
    "            });\n",
    "\n",
    "            tickThread.Start();\n",
    "\n",
    "            Console.WriteLine(\"Press a key to stop the clock\");\n",
    "            //Console.ReadKey();\n",
    "            tickThread.Abort();\n",
    "            Console.WriteLine(\"Press a key to exit\");\n",
    "            //Console.ReadKey();\n",
    "        }\n",
    "    }\n",
    "}\n"
   ]
  },
  {
   "cell_type": "code",
   "execution_count": null,
   "metadata": {},
   "outputs": [],
   "source": [
    "LISTING_1_23_aborting_a_thread.Program.Main(new string[0]);"
   ]
  }
 ],
 "metadata": {
  "kernelspec": {
   "display_name": "C#",
   "language": "csharp",
   "name": "kernel-spec"
  },
  "language_info": {
   "file_extension": ".cs",
   "mimetype": "text/x-csharp",
   "name": "C#",
   "pygments_lexer": "c#",
   "version": "4.0.30319"
  }
 },
 "nbformat": 4,
 "nbformat_minor": 2
}

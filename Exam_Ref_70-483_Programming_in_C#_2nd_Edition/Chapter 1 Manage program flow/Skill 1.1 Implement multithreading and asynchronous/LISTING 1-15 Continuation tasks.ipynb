{
 "cells": [
  {
   "cell_type": "markdown",
   "metadata": {},
   "source": [
    "# Info"
   ]
  },
  {
   "cell_type": "markdown",
   "metadata": {},
   "source": [
    "This example is from\n",
    "* [github.com/ExamRef70-483/Sample-Code](https://github.com/ExamRef70-483/Sample-Code)\n",
    "* [LISTING 1-15 Continuation tasks](https://github.com/ExamRef70-483/Sample-Code/blob/master/LISTING%201-15%E2%80%82Continuation%20tasks/LISTING%201-15%E2%80%82Continuation%20tasks/Program.cs)\n",
    "\n",
    "\n",
    "## Remember\n",
    "* Main() is not called automatically. Has to be called manual. Remember '**public**'\n",
    "* Console.ReadKey() should not be used.\n"
   ]
  },
  {
   "cell_type": "code",
   "execution_count": 1,
   "metadata": {},
   "outputs": [],
   "source": [
    "using System;\n",
    "using System.Threading;\n",
    "using System.Threading.Tasks;\n",
    "\n",
    "namespace LISTING_1_15_Continuation_tasks\n",
    "{\n",
    "    class Program\n",
    "    {\n",
    "        public static void HelloTask()\n",
    "        {\n",
    "            Thread.Sleep(1000);\n",
    "            Console.WriteLine(\"Hello\");\n",
    "        }\n",
    "\n",
    "        public static void WorldTask()\n",
    "        {\n",
    "            Thread.Sleep(1000);\n",
    "            Console.WriteLine(\"World\");\n",
    "        }\n",
    "\n",
    "        static public void Main(string[] args)\n",
    "        {\n",
    "            Task task = Task.Run(() => HelloTask());\n",
    "            task.ContinueWith( (prevTask) => WorldTask());\n",
    "\n",
    "            Console.WriteLine(\"Finished processing. Press a key to end.\");\n",
    "            //Console.ReadKey();\n",
    "        }\n",
    "    }\n",
    "}\n"
   ]
  },
  {
   "cell_type": "code",
   "execution_count": 2,
   "metadata": {},
   "outputs": [
    {
     "data": {
      "text/html": [
       "Finished processing. Press a key to end."
      ],
      "text/plain": [
       "Finished processing. Press a key to end."
      ]
     },
     "metadata": {},
     "output_type": "display_data"
    }
   ],
   "source": [
    "LISTING_1_15_Continuation_tasks.Program.Main(new string[0]);"
   ]
  }
 ],
 "metadata": {
  "kernelspec": {
   "display_name": "C#",
   "language": "csharp",
   "name": "kernel-spec"
  },
  "language_info": {
   "file_extension": ".cs",
   "mimetype": "text/x-csharp",
   "name": "C#",
   "pygments_lexer": "c#",
   "version": "4.0.30319"
  }
 },
 "nbformat": 4,
 "nbformat_minor": 2
}

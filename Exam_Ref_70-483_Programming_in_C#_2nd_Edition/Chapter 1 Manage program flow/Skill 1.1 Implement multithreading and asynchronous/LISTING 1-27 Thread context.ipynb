{
 "cells": [
  {
   "cell_type": "markdown",
   "metadata": {},
   "source": [
    "# Info"
   ]
  },
  {
   "cell_type": "markdown",
   "metadata": {},
   "source": [
    "This example is from\n",
    "* [github.com/ExamRef70-483/Sample-Code](https://github.com/ExamRef70-483/Sample-Code)\n",
    "* [LISTING 1-27 Thread context](https://github.com/ExamRef70-483/Sample-Code/blob/master/LISTING%201-27%E2%80%82Thread%20context/LISTING%201-27%E2%80%82Thread%20context/Program.cs)\n",
    "\n",
    "\n",
    "## Remember\n",
    "* Main() is not called automatically. Has to be called manual. Remember '**public**'\n",
    "* Console.ReadKey() should not be used.\n"
   ]
  },
  {
   "cell_type": "code",
   "execution_count": null,
   "metadata": {},
   "outputs": [],
   "source": [
    "using System;\n",
    "using System.Threading;\n",
    "\n",
    "namespace LISTING_1_27_Thread_context\n",
    "{\n",
    "    class Program\n",
    "    {\n",
    "        static void DisplayThread(Thread t)\n",
    "        {\n",
    "            Console.WriteLine(\"Name: {0}\", t.Name);\n",
    "            Console.WriteLine(\"Culture: {0}\", t.CurrentCulture);\n",
    "            Console.WriteLine(\"Priority: {0}\", t.Priority);\n",
    "            Console.WriteLine(\"Context: {0}\", t.ExecutionContext);\n",
    "            Console.WriteLine(\"IsBackground?: {0}\", t.IsBackground);\n",
    "            Console.WriteLine(\"IsPool?: {0}\", t.IsThreadPoolThread);\n",
    "\n",
    "        }\n",
    "        static public void Main(string[] args)\n",
    "        {\n",
    "            Thread.CurrentThread.Name = \"Main method\";\n",
    "            DisplayThread(Thread.CurrentThread);\n",
    "            //Console.ReadKey();\n",
    "        }\n",
    "    }\n",
    "}\n"
   ]
  },
  {
   "cell_type": "code",
   "execution_count": null,
   "metadata": {},
   "outputs": [],
   "source": [
    "LISTING_1_27_Thread_context.Program.Main(new string[0]);"
   ]
  }
 ],
 "metadata": {
  "kernelspec": {
   "display_name": "C#",
   "language": "csharp",
   "name": "kernel-spec"
  },
  "language_info": {
   "file_extension": ".cs",
   "mimetype": "text/x-csharp",
   "name": "C#",
   "pygments_lexer": "c#",
   "version": "4.0.30319"
  }
 },
 "nbformat": 4,
 "nbformat_minor": 2
}

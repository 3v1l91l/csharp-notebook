{
 "cells": [
  {
   "cell_type": "markdown",
   "metadata": {},
   "source": [
    "# Info"
   ]
  },
  {
   "cell_type": "markdown",
   "metadata": {},
   "source": [
    "This example is from\n",
    "* [github.com/ExamRef70-483/Sample-Code](https://github.com/ExamRef70-483/Sample-Code)\n",
    "* [LISTING 1-40 Concurrent dictionary](https://github.com/ExamRef70-483/Sample-Code/blob/master/LISTING%201-40%E2%80%82Concurrent%20dictionary/LISTING%201-40%E2%80%82Concurrent%20dictionary/Program.cs)\n",
    "\n",
    "\n",
    "## Remember\n",
    "* Main() is not called automatically. Has to be called manual. Remember '**public**'\n",
    "* Console.ReadKey() should not be used.\n"
   ]
  },
  {
   "cell_type": "code",
   "execution_count": 1,
   "metadata": {},
   "outputs": [],
   "source": [
    "using System;\n",
    "using System.Collections.Concurrent;\n",
    "using System.Collections.Generic;\n",
    "using System.Linq;\n",
    "using System.Text;\n",
    "using System.Threading.Tasks;\n",
    "\n",
    "namespace LISTING_1_40_Concurrent_dictionary\n",
    "{\n",
    "    class Program\n",
    "    {\n",
    "        static public void Main(string[] args)\n",
    "        {\n",
    "            ConcurrentDictionary<string, int> ages = new ConcurrentDictionary<string, int>();\n",
    "            if (ages.TryAdd(\"Rob\", 21))\n",
    "                Console.WriteLine(\"Rob added successfully.\");\n",
    "            Console.WriteLine(\"Rob's age: {0}\", ages[\"Rob\"]);\n",
    "            // Set Rob's age to 22 if it is 21\n",
    "            if (ages.TryUpdate(\"Rob\", 22, 21))\n",
    "                Console.WriteLine(\"Age updated successfully\");\n",
    "            Console.WriteLine(\"Rob's new age: {0}\", ages[\"Rob\"]);\n",
    "            // Increment Rob's age atomically using factory method\n",
    "            Console.WriteLine(\"Rob's age updated to: {0}\",\n",
    "                ages.AddOrUpdate(\"Rob\", 1, (name, age) => age = age + 1));\n",
    "            Console.WriteLine(\"Rob's new age: {0}\", ages[\"Rob\"]);\n",
    "            //Console.ReadKey();\n",
    "        }\n",
    "    }\n",
    "}\n"
   ]
  },
  {
   "cell_type": "code",
   "execution_count": 2,
   "metadata": {},
   "outputs": [
    {
     "data": {
      "text/html": [
       "Rob added successfully."
      ],
      "text/plain": [
       "Rob added successfully."
      ]
     },
     "metadata": {},
     "output_type": "display_data"
    },
    {
     "data": {
      "text/html": [
       "Rob&#39;s age: 21"
      ],
      "text/plain": [
       "Rob's age: 21"
      ]
     },
     "metadata": {},
     "output_type": "display_data"
    },
    {
     "data": {
      "text/html": [
       "Age updated successfully"
      ],
      "text/plain": [
       "Age updated successfully"
      ]
     },
     "metadata": {},
     "output_type": "display_data"
    },
    {
     "data": {
      "text/html": [
       "Rob&#39;s new age: 22"
      ],
      "text/plain": [
       "Rob's new age: 22"
      ]
     },
     "metadata": {},
     "output_type": "display_data"
    },
    {
     "data": {
      "text/html": [
       "Rob&#39;s age updated to: 23"
      ],
      "text/plain": [
       "Rob's age updated to: 23"
      ]
     },
     "metadata": {},
     "output_type": "display_data"
    },
    {
     "data": {
      "text/html": [
       "Rob&#39;s new age: 23"
      ],
      "text/plain": [
       "Rob's new age: 23"
      ]
     },
     "metadata": {},
     "output_type": "display_data"
    }
   ],
   "source": [
    "LISTING_1_40_Concurrent_dictionary.Program.Main(new string[0]);"
   ]
  }
 ],
 "metadata": {
  "kernelspec": {
   "display_name": "C#",
   "language": "csharp",
   "name": "kernel-spec"
  },
  "language_info": {
   "file_extension": ".cs",
   "mimetype": "text/x-csharp",
   "name": "C#",
   "pygments_lexer": "c#",
   "version": "4.0.30319"
  }
 },
 "nbformat": 4,
 "nbformat_minor": 2
}

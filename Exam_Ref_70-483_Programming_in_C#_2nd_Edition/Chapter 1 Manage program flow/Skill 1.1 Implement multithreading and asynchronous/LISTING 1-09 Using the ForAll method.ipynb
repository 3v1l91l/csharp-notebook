{
 "cells": [
  {
   "cell_type": "markdown",
   "metadata": {},
   "source": [
    "# Info"
   ]
  },
  {
   "cell_type": "markdown",
   "metadata": {},
   "source": [
    "This example is from\n",
    "* [github.com/ExamRef70-483/Sample-Code](https://github.com/ExamRef70-483/Sample-Code)\n",
    "* [LISTING 1-9 Using the ForAll method](https://github.com/ExamRef70-483/Sample-Code/blob/master/LISTING%201-9%E2%80%82Using%20the%20ForAll%20method/LISTING%201-9%E2%80%82Using%20the%20ForAll%20method/Program.cs)\n",
    "\n",
    "\n",
    "## Remember\n",
    "* Main() is not called automatically. Has to be called manual. Remember '**public**'\n",
    "* Console.ReadKey() should not be used.\n"
   ]
  },
  {
   "cell_type": "code",
   "execution_count": null,
   "metadata": {},
   "outputs": [],
   "source": [
    "using System;\n",
    "using System.Linq;\n",
    "\n",
    "namespace LISTING_1_9_Using_the_ForAll_method\n",
    "{\n",
    "    class Program\n",
    "    {\n",
    "        class Person\n",
    "        {\n",
    "            public string Name { get; set; }\n",
    "            public string City { get; set; }\n",
    "        }\n",
    "\n",
    "        static public void Main(string[] args)\n",
    "        {\n",
    "            Person[] people = new Person[] {\n",
    "                new Person { Name = \"Alan\", City = \"Hull\" },\n",
    "                new Person { Name = \"Beryl\", City = \"Seattle\" },\n",
    "                new Person { Name = \"Charles\", City = \"London\" },\n",
    "                new Person { Name = \"David\", City = \"Seattle\" },\n",
    "                new Person { Name = \"Eddy\", City = \"Paris\" },\n",
    "                new Person { Name = \"Fred\", City = \"Berlin\" },\n",
    "                new Person { Name = \"Gordon\", City = \"Hull\" },\n",
    "                new Person { Name = \"Henry\", City = \"Seattle\" },\n",
    "                new Person { Name = \"Isaac\", City = \"Seattle\" },\n",
    "                new Person { Name = \"James\", City = \"London\" }};\n",
    "\n",
    "            var result = from person in\n",
    "                people.AsParallel()\n",
    "                         where person.City == \"Seattle\"\n",
    "                         select person;\n",
    "\n",
    "            result.ForAll(person => Console.WriteLine(person.Name));\n",
    "\n",
    "            Console.WriteLine(\"Finished processing. Press a key to end.\");\n",
    "            //Console.ReadKey();\n",
    "        }\n",
    "    }\n",
    "}\n"
   ]
  },
  {
   "cell_type": "code",
   "execution_count": null,
   "metadata": {},
   "outputs": [],
   "source": [
    "LISTING_1_9_Using_the_ForAll_method.Program.Main(new string[0]);"
   ]
  }
 ],
 "metadata": {
  "kernelspec": {
   "display_name": "C#",
   "language": "csharp",
   "name": "kernel-spec"
  },
  "language_info": {
   "file_extension": ".cs",
   "mimetype": "text/x-csharp",
   "name": "C#",
   "pygments_lexer": "c#",
   "version": "4.0.30319"
  }
 },
 "nbformat": 4,
 "nbformat_minor": 2
}

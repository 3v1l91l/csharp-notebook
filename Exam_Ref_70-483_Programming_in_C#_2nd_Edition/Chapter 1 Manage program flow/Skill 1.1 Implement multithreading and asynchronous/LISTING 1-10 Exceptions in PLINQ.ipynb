{
 "cells": [
  {
   "cell_type": "markdown",
   "metadata": {},
   "source": [
    "# Info"
   ]
  },
  {
   "cell_type": "markdown",
   "metadata": {},
   "source": [
    "This example is from\n",
    "* [github.com/ExamRef70-483/Sample-Code](https://github.com/ExamRef70-483/Sample-Code)\n",
    "* [LISTING 1-10 Exceptions in PLINQ](https://github.com/ExamRef70-483/Sample-Code/blob/master/LISTING%201-10%E2%80%82Exceptions%20in%20PLINQ/LISTING%201-10%E2%80%82Exceptions%20in%20PLINQ/Program.cs)\n",
    "\n",
    "\n",
    "## Remember\n",
    "* Main() is not called automatically. Has to be called manual. Remember '**public**'\n",
    "* Console.ReadKey() should not be used.\n"
   ]
  },
  {
   "cell_type": "code",
   "execution_count": 1,
   "metadata": {},
   "outputs": [],
   "source": [
    "using System;\n",
    "using System.Linq;\n",
    "\n",
    "namespace LISTING_1_10_Exceptions_in_PLINQ\n",
    "{\n",
    "    class Program\n",
    "    {\n",
    "        public static bool CheckCity(string name)\n",
    "        {\n",
    "            if (name == \"\")\n",
    "                throw new ArgumentException(name);\n",
    "            return name == \"Seattle\";\n",
    "        }\n",
    "\n",
    "        class Person\n",
    "        {\n",
    "            public string Name { get; set; }\n",
    "            public string City { get; set; }\n",
    "        }\n",
    "\n",
    "        static public void Main(string[] args)\n",
    "        {\n",
    "            Person[] people = new Person[] {\n",
    "                new Person { Name = \"Alan\", City = \"Hull\" },\n",
    "                new Person { Name = \"Beryl\", City = \"Seattle\" },\n",
    "                new Person { Name = \"Charles\", City = \"London\" },\n",
    "                new Person { Name = \"David\", City = \"Seattle\" },\n",
    "                new Person { Name = \"Eddy\", City = \"\" },\n",
    "                new Person { Name = \"Fred\", City = \"\" },\n",
    "                new Person { Name = \"Gordon\", City = \"Hull\" },\n",
    "                new Person { Name = \"Henry\", City = \"Seattle\" },\n",
    "                new Person { Name = \"Isaac\", City = \"Seattle\" },\n",
    "                new Person { Name = \"James\", City = \"London\" }};\n",
    "\n",
    "            try\n",
    "            {\n",
    "                var result = from person in\n",
    "                    people.AsParallel()\n",
    "                             where CheckCity(person.City)\n",
    "                             select person;\n",
    "                result.ForAll(person => Console.WriteLine(person.Name));\n",
    "            }\n",
    "            catch (AggregateException e)\n",
    "            {\n",
    "                Console.WriteLine(e.InnerExceptions.Count + \" exceptions.\");\n",
    "            }\n",
    "\n",
    "            Console.WriteLine(\"Finished processing. Press a key to end.\");\n",
    "            //Console.ReadKey();\n",
    "        }\n",
    "    }\n",
    "}\n"
   ]
  },
  {
   "cell_type": "code",
   "execution_count": 2,
   "metadata": {},
   "outputs": [
    {
     "data": {
      "text/html": [
       "Isaac"
      ],
      "text/plain": [
       "Isaac"
      ]
     },
     "metadata": {},
     "output_type": "display_data"
    },
    {
     "data": {
      "text/html": [
       "Beryl"
      ],
      "text/plain": [
       "Beryl"
      ]
     },
     "metadata": {},
     "output_type": "display_data"
    },
    {
     "data": {
      "text/html": [
       "Henry"
      ],
      "text/plain": [
       "Henry"
      ]
     },
     "metadata": {},
     "output_type": "display_data"
    },
    {
     "data": {
      "text/html": [
       "David"
      ],
      "text/plain": [
       "David"
      ]
     },
     "metadata": {},
     "output_type": "display_data"
    },
    {
     "data": {
      "text/html": [
       "1 exceptions."
      ],
      "text/plain": [
       "1 exceptions."
      ]
     },
     "metadata": {},
     "output_type": "display_data"
    },
    {
     "data": {
      "text/html": [
       "Finished processing. Press a key to end."
      ],
      "text/plain": [
       "Finished processing. Press a key to end."
      ]
     },
     "metadata": {},
     "output_type": "display_data"
    }
   ],
   "source": [
    "LISTING_1_10_Exceptions_in_PLINQ.Program.Main(new string[0]);"
   ]
  }
 ],
 "metadata": {
  "kernelspec": {
   "display_name": "C#",
   "language": "csharp",
   "name": "kernel-spec"
  },
  "language_info": {
   "file_extension": ".cs",
   "mimetype": "text/x-csharp",
   "name": "C#",
   "pygments_lexer": "c#",
   "version": "4.0.30319"
  }
 },
 "nbformat": 4,
 "nbformat_minor": 2
}

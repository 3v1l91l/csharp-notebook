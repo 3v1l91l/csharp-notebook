{
 "cells": [
  {
   "cell_type": "markdown",
   "metadata": {},
   "source": [
    "# Info"
   ]
  },
  {
   "cell_type": "markdown",
   "metadata": {},
   "source": [
    "This example is from\n",
    "* [github.com/ExamRef70-483/Sample-Code](https://github.com/ExamRef70-483/Sample-Code)\n",
    "* [LISTING 1-28 Thread pool](https://github.com/ExamRef70-483/Sample-Code/blob/master/LISTING%201-28%E2%80%82Thread%20pool/LISTING%201-28%E2%80%82Thread%20pool/Program.cs)\n",
    "\n",
    "\n",
    "## Remember\n",
    "* Main() is not called automatically. Has to be called manual. Remember '**public**'\n",
    "* Console.ReadKey() should not be used.\n"
   ]
  },
  {
   "cell_type": "code",
   "execution_count": null,
   "metadata": {},
   "outputs": [],
   "source": [
    "using System;\n",
    "using System.Threading;\n",
    "\n",
    "namespace LISTING_1_28_Thread_pool\n",
    "{\n",
    "    class Program\n",
    "    {\n",
    "\n",
    "        [ThreadStatic]\n",
    "        static int LocalState;\n",
    "\n",
    "        static void DoWork(object state)\n",
    "        {\n",
    "            Console.WriteLine(\"Doing work: {0}\", state);\n",
    "            LocalState = LocalState + 1;\n",
    "            Console.WriteLine(\"Local state: {0}\", LocalState);\n",
    "            Thread.Sleep(500);\n",
    "            Console.WriteLine(\"Work finished: {0}\", state);\n",
    "        }\n",
    "\n",
    "        static public void Main(string[] args)\n",
    "        {\n",
    "            for (int i = 0; i < 50; i++)\n",
    "            {\n",
    "                int stateNumber = i;\n",
    "                ThreadPool.QueueUserWorkItem(state => DoWork(stateNumber));\n",
    "            }\n",
    "            //Console.ReadKey();\n",
    "        }\n",
    "    }\n",
    "}\n"
   ]
  },
  {
   "cell_type": "code",
   "execution_count": null,
   "metadata": {},
   "outputs": [],
   "source": [
    "LISTING_1_28_Thread_pool.Program.Main(new string[0]);"
   ]
  }
 ],
 "metadata": {
  "kernelspec": {
   "display_name": "C#",
   "language": "csharp",
   "name": "kernel-spec"
  },
  "language_info": {
   "file_extension": ".cs",
   "mimetype": "text/x-csharp",
   "name": "C#",
   "pygments_lexer": "c#",
   "version": "4.0.30319"
  }
 },
 "nbformat": 4,
 "nbformat_minor": 2
}

{
 "cells": [
  {
   "cell_type": "markdown",
   "metadata": {},
   "source": [
    "# Info"
   ]
  },
  {
   "cell_type": "markdown",
   "metadata": {},
   "source": [
    "This example is from\n",
    "* [github.com/ExamRef70-483/Sample-Code](https://github.com/ExamRef70-483/Sample-Code)\n",
    "* [LISTING 1-21 ParameterizedThreadStart](https://github.com/ExamRef70-483/Sample-Code/blob/master/LISTING%201-21%E2%80%82ParameterizedThreadStart/LISTING%201-21%E2%80%82ParameterizedThreadStart/Program.cs)\n",
    "\n",
    "\n",
    "## Remember\n",
    "* Main() is not called automatically. Has to be called manual. Remember '**public**'\n",
    "* Console.ReadKey() should not be used.\n"
   ]
  },
  {
   "cell_type": "code",
   "execution_count": null,
   "metadata": {},
   "outputs": [],
   "source": [
    "using System;\n",
    "using System.Threading;\n",
    "\n",
    "namespace LISTING_1_21_ParameterizedThreadStart\n",
    "{\n",
    "    class Program\n",
    "    {\n",
    "        static void WorkOnData(object data)\n",
    "        {\n",
    "            Console.WriteLine(\"Working on: {0}\", data);\n",
    "            Thread.Sleep(1000);\n",
    "        }\n",
    "        static public void Main(string[] args)\n",
    "        {\n",
    "            ParameterizedThreadStart ps = new ParameterizedThreadStart(WorkOnData);\n",
    "\n",
    "            Thread thread = new Thread(ps);\n",
    "\n",
    "            thread.Start(99);\n",
    "        }\n",
    "    }\n",
    "}\n"
   ]
  },
  {
   "cell_type": "code",
   "execution_count": null,
   "metadata": {},
   "outputs": [],
   "source": [
    "LISTING_1_21_ParameterizedThreadStart.Program.Main(new string[0]);"
   ]
  }
 ],
 "metadata": {
  "kernelspec": {
   "display_name": "C#",
   "language": "csharp",
   "name": "kernel-spec"
  },
  "language_info": {
   "file_extension": ".cs",
   "mimetype": "text/x-csharp",
   "name": "C#",
   "pygments_lexer": "c#",
   "version": "4.0.30319"
  }
 },
 "nbformat": 4,
 "nbformat_minor": 2
}

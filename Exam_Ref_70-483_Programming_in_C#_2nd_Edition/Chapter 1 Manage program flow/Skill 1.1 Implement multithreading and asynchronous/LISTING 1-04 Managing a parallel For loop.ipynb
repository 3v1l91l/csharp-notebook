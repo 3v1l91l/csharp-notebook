{
 "cells": [
  {
   "cell_type": "markdown",
   "metadata": {},
   "source": [
    "# Info"
   ]
  },
  {
   "cell_type": "markdown",
   "metadata": {},
   "source": [
    "This example is from\n",
    "* [github.com/ExamRef70-483/Sample-Code](https://github.com/ExamRef70-483/Sample-Code)\n",
    "* [LISTING 1-4 Managing a parallel For loop](https://github.com/ExamRef70-483/Sample-Code/blob/master/LISTING%201-4%E2%80%82Managing%20a%20parallel%20For%20loop/LISTING%201-4%E2%80%82Managing%20a%20parallel%20For%20loop/Program.cs)\n",
    "\n",
    "\n",
    "## Remember\n",
    "* Main() is not called automatically. Has to be called manual. Remember '**public**'\n",
    "* Console.ReadKey() should not be used.\n"
   ]
  },
  {
   "cell_type": "code",
   "execution_count": null,
   "metadata": {},
   "outputs": [],
   "source": [
    "using System;\n",
    "using System.Linq;\n",
    "using System.Threading;\n",
    "using System.Threading.Tasks;\n",
    "\n",
    "namespace LISTING_1_4_Managing_a_parallel_For_loop\n",
    "{\n",
    "    class Program\n",
    "    {\n",
    "        static void WorkOnItem(object item)\n",
    "        {\n",
    "            Console.WriteLine(\"Started working on: \" + item);\n",
    "            Thread.Sleep(100);\n",
    "            Console.WriteLine(\"Finished working on: \" + item);\n",
    "        }\n",
    "\n",
    "        static public void Main(string[] args)\n",
    "        {\n",
    "            var items = Enumerable.Range(0, 500).ToArray();\n",
    "\n",
    "            ParallelLoopResult result = Parallel.For(0, items.Count(), (int i, ParallelLoopState loopState) =>\n",
    "            {\n",
    "                if (i == 200)\n",
    "                    loopState.Break();\n",
    "\n",
    "                WorkOnItem(items[i]);\n",
    "            });\n",
    "\n",
    "            Console.WriteLine(\"Completed: \" + result.IsCompleted);\n",
    "            Console.WriteLine(\"Items: \" + result.LowestBreakIteration);\n",
    "\n",
    "            Console.WriteLine(\"Finished processing. Press a key to end.\");\n",
    "            //Console.ReadKey();\n",
    "        }\n",
    "    }\n",
    "}\n"
   ]
  },
  {
   "cell_type": "code",
   "execution_count": null,
   "metadata": {},
   "outputs": [],
   "source": [
    "LISTING_1_4_Managing_a_parallel_For_loop.Program.Main(new string[0]);"
   ]
  }
 ],
 "metadata": {
  "kernelspec": {
   "display_name": "C#",
   "language": "csharp",
   "name": "kernel-spec"
  },
  "language_info": {
   "file_extension": ".cs",
   "mimetype": "text/x-csharp",
   "name": "C#",
   "pygments_lexer": "c#",
   "version": "4.0.30319"
  }
 },
 "nbformat": 4,
 "nbformat_minor": 2
}

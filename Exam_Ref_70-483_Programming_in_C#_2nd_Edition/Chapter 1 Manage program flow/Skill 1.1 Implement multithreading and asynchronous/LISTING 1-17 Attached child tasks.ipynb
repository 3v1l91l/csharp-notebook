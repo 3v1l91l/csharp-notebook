{
 "cells": [
  {
   "cell_type": "markdown",
   "metadata": {},
   "source": [
    "# Info"
   ]
  },
  {
   "cell_type": "markdown",
   "metadata": {},
   "source": [
    "This example is from\n",
    "* [github.com/ExamRef70-483/Sample-Code](https://github.com/ExamRef70-483/Sample-Code)\n",
    "* [LISTING 1-17 Attached child tasks](https://github.com/ExamRef70-483/Sample-Code/blob/master/LISTING%201-17%E2%80%82Attached%20child%20tasks/LISTING%201-17%E2%80%82Attached%20child%20tasks/Program.cs)\n",
    "\n",
    "\n",
    "## Remember\n",
    "* Main() is not called automatically. Has to be called manual. Remember '**public**'\n",
    "* Console.ReadKey() should not be used.\n"
   ]
  },
  {
   "cell_type": "code",
   "execution_count": 1,
   "metadata": {},
   "outputs": [],
   "source": [
    "using System;\n",
    "using System.Threading;\n",
    "using System.Threading.Tasks;\n",
    "\n",
    "namespace LISTING_1_17_Attached_child_tasks\n",
    "{\n",
    "    class Program\n",
    "    {\n",
    "        public static void DoChild(object state)\n",
    "        {\n",
    "            Console.WriteLine(\"Child {0} starting\", state);\n",
    "            Thread.Sleep(2000);\n",
    "            Console.WriteLine(\"Child {0} finished\", state);\n",
    "        }\n",
    "\n",
    "        static public void Main(string[] args)\n",
    "        {\n",
    "            var parent = Task.Factory.StartNew(() => {\n",
    "                Console.WriteLine(\"Parent starts\");\n",
    "                for (int i = 0; i < 10; i++)\n",
    "                {\n",
    "                    int taskNo = i;\n",
    "                    Task.Factory.StartNew(\n",
    "                        (x) => DoChild(x),  // lambda function\n",
    "                        taskNo, // state object\n",
    "                        TaskCreationOptions.AttachedToParent);\n",
    "                }\n",
    "            });\n",
    "\n",
    "            parent.Wait(); // will wait for all the attached children to complete\n",
    "\n",
    "            Console.WriteLine(\"Parent finished. Press a key to end.\");\n",
    "            //Console.ReadKey();\n",
    "        }\n",
    "    }\n",
    "}\n"
   ]
  },
  {
   "cell_type": "code",
   "execution_count": 2,
   "metadata": {},
   "outputs": [
    {
     "data": {
      "text/html": [
       "Parent starts"
      ],
      "text/plain": [
       "Parent starts"
      ]
     },
     "metadata": {},
     "output_type": "display_data"
    },
    {
     "data": {
      "text/html": [
       "Child 1 starting"
      ],
      "text/plain": [
       "Child 1 starting"
      ]
     },
     "metadata": {},
     "output_type": "display_data"
    },
    {
     "data": {
      "text/html": [
       "Child 2 starting"
      ],
      "text/plain": [
       "Child 2 starting"
      ]
     },
     "metadata": {},
     "output_type": "display_data"
    },
    {
     "data": {
      "text/html": [
       "Child 4 starting"
      ],
      "text/plain": [
       "Child 4 starting"
      ]
     },
     "metadata": {},
     "output_type": "display_data"
    },
    {
     "data": {
      "text/html": [
       "Child 5 starting"
      ],
      "text/plain": [
       "Child 5 starting"
      ]
     },
     "metadata": {},
     "output_type": "display_data"
    },
    {
     "data": {
      "text/html": [
       "Child 3 starting"
      ],
      "text/plain": [
       "Child 3 starting"
      ]
     },
     "metadata": {},
     "output_type": "display_data"
    },
    {
     "data": {
      "text/html": [
       "Child 9 starting"
      ],
      "text/plain": [
       "Child 9 starting"
      ]
     },
     "metadata": {},
     "output_type": "display_data"
    },
    {
     "data": {
      "text/html": [
       "Child 0 starting"
      ],
      "text/plain": [
       "Child 0 starting"
      ]
     },
     "metadata": {},
     "output_type": "display_data"
    },
    {
     "data": {
      "text/html": [
       "Child 6 starting"
      ],
      "text/plain": [
       "Child 6 starting"
      ]
     },
     "metadata": {},
     "output_type": "display_data"
    },
    {
     "data": {
      "text/html": [
       "Child 2 finished"
      ],
      "text/plain": [
       "Child 2 finished"
      ]
     },
     "metadata": {},
     "output_type": "display_data"
    },
    {
     "data": {
      "text/html": [
       "Child 3 finished"
      ],
      "text/plain": [
       "Child 3 finished"
      ]
     },
     "metadata": {},
     "output_type": "display_data"
    },
    {
     "data": {
      "text/html": [
       "Child 9 finished"
      ],
      "text/plain": [
       "Child 9 finished"
      ]
     },
     "metadata": {},
     "output_type": "display_data"
    },
    {
     "data": {
      "text/html": [
       "Child 0 finished"
      ],
      "text/plain": [
       "Child 0 finished"
      ]
     },
     "metadata": {},
     "output_type": "display_data"
    },
    {
     "data": {
      "text/html": [
       "Child 7 starting"
      ],
      "text/plain": [
       "Child 7 starting"
      ]
     },
     "metadata": {},
     "output_type": "display_data"
    },
    {
     "data": {
      "text/html": [
       "Child 4 finished"
      ],
      "text/plain": [
       "Child 4 finished"
      ]
     },
     "metadata": {},
     "output_type": "display_data"
    },
    {
     "data": {
      "text/html": [
       "Child 5 finished"
      ],
      "text/plain": [
       "Child 5 finished"
      ]
     },
     "metadata": {},
     "output_type": "display_data"
    },
    {
     "data": {
      "text/html": [
       "Child 8 starting"
      ],
      "text/plain": [
       "Child 8 starting"
      ]
     },
     "metadata": {},
     "output_type": "display_data"
    },
    {
     "data": {
      "text/html": [
       "Child 1 finished"
      ],
      "text/plain": [
       "Child 1 finished"
      ]
     },
     "metadata": {},
     "output_type": "display_data"
    },
    {
     "data": {
      "text/html": [
       "Child 6 finished"
      ],
      "text/plain": [
       "Child 6 finished"
      ]
     },
     "metadata": {},
     "output_type": "display_data"
    },
    {
     "data": {
      "text/html": [
       "Child 7 finished"
      ],
      "text/plain": [
       "Child 7 finished"
      ]
     },
     "metadata": {},
     "output_type": "display_data"
    },
    {
     "data": {
      "text/html": [
       "Child 8 finished"
      ],
      "text/plain": [
       "Child 8 finished"
      ]
     },
     "metadata": {},
     "output_type": "display_data"
    },
    {
     "data": {
      "text/html": [
       "Parent finished. Press a key to end."
      ],
      "text/plain": [
       "Parent finished. Press a key to end."
      ]
     },
     "metadata": {},
     "output_type": "display_data"
    }
   ],
   "source": [
    "LISTING_1_17_Attached_child_tasks.Program.Main(new string[0]);"
   ]
  }
 ],
 "metadata": {
  "kernelspec": {
   "display_name": "C#",
   "language": "csharp",
   "name": "kernel-spec"
  },
  "language_info": {
   "file_extension": ".cs",
   "mimetype": "text/x-csharp",
   "name": "C#",
   "pygments_lexer": "c#",
   "version": "4.0.30319"
  }
 },
 "nbformat": 4,
 "nbformat_minor": 2
}

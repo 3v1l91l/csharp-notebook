{
 "cells": [
  {
   "cell_type": "markdown",
   "metadata": {},
   "source": [
    "# Info"
   ]
  },
  {
   "cell_type": "markdown",
   "metadata": {},
   "source": [
    "This example is from\n",
    "* [github.com/ExamRef70-483/Sample-Code](https://github.com/ExamRef70-483/Sample-Code)\n",
    "* [LISTING 1-17 Attached child tasks](https://github.com/ExamRef70-483/Sample-Code/blob/master/LISTING%201-17%E2%80%82Attached%20child%20tasks/LISTING%201-17%E2%80%82Attached%20child%20tasks/Program.cs)\n",
    "\n",
    "\n",
    "## Remember\n",
    "* Main() is not called automatically. Has to be called manual. Remember '**public**'\n",
    "* Console.ReadKey() should not be used.\n"
   ]
  },
  {
   "cell_type": "code",
   "execution_count": null,
   "metadata": {},
   "outputs": [],
   "source": [
    "using System;\n",
    "using System.Threading;\n",
    "using System.Threading.Tasks;\n",
    "\n",
    "namespace LISTING_1_17_Attached_child_tasks\n",
    "{\n",
    "    class Program\n",
    "    {\n",
    "        public static void DoChild(object state)\n",
    "        {\n",
    "            Console.WriteLine(\"Child {0} starting\", state);\n",
    "            Thread.Sleep(2000);\n",
    "            Console.WriteLine(\"Child {0} finished\", state);\n",
    "        }\n",
    "\n",
    "        static public void Main(string[] args)\n",
    "        {\n",
    "            var parent = Task.Factory.StartNew(() => {\n",
    "                Console.WriteLine(\"Parent starts\");\n",
    "                for (int i = 0; i < 10; i++)\n",
    "                {\n",
    "                    int taskNo = i;\n",
    "                    Task.Factory.StartNew(\n",
    "                        (x) => DoChild(x),  // lambda function\n",
    "                        taskNo, // state object\n",
    "                        TaskCreationOptions.AttachedToParent);\n",
    "                }\n",
    "            });\n",
    "\n",
    "            parent.Wait(); // will wait for all the attached children to complete\n",
    "\n",
    "            Console.WriteLine(\"Parent finished. Press a key to end.\");\n",
    "            //Console.ReadKey();\n",
    "        }\n",
    "    }\n",
    "}\n"
   ]
  },
  {
   "cell_type": "code",
   "execution_count": null,
   "metadata": {},
   "outputs": [],
   "source": [
    "LISTING_1_17_Attached_child_tasks.Program.Main(new string[0]);"
   ]
  }
 ],
 "metadata": {
  "kernelspec": {
   "display_name": "C#",
   "language": "csharp",
   "name": "kernel-spec"
  },
  "language_info": {
   "file_extension": ".cs",
   "mimetype": "text/x-csharp",
   "name": "C#",
   "pygments_lexer": "c#",
   "version": "4.0.30319"
  }
 },
 "nbformat": 4,
 "nbformat_minor": 2
}

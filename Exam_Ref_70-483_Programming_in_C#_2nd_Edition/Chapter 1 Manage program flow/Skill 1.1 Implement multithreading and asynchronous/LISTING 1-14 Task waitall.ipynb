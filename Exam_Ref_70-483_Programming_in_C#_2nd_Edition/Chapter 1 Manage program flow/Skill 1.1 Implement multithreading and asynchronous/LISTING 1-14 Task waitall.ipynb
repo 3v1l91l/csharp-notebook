{
 "cells": [
  {
   "cell_type": "markdown",
   "metadata": {},
   "source": [
    "# Info"
   ]
  },
  {
   "cell_type": "markdown",
   "metadata": {},
   "source": [
    "This example is from\n",
    "* [github.com/ExamRef70-483/Sample-Code](https://github.com/ExamRef70-483/Sample-Code)\n",
    "* [LISTING 1-14 Task waitall](https://github.com/ExamRef70-483/Sample-Code/blob/master/LISTING%201-14%E2%80%82Task%20waitall/LISTING%201-14%E2%80%82Task%20waitall/Program.cs)\n",
    "\n",
    "\n",
    "## Remember\n",
    "* Main() is not called automatically. Has to be called manual. Remember '**public**'\n",
    "* Console.ReadKey() should not be used.\n"
   ]
  },
  {
   "cell_type": "code",
   "execution_count": null,
   "metadata": {},
   "outputs": [],
   "source": [
    "using System;\n",
    "using System.Threading;\n",
    "using System.Threading.Tasks;\n",
    "\n",
    "namespace LISTING_1_14_Task_waitall\n",
    "{\n",
    "    class Program\n",
    "    {\n",
    "        public static void DoWork(int i)\n",
    "        {\n",
    "            Console.WriteLine(\"Task {0} starting\", i);\n",
    "            Thread.Sleep(2000);\n",
    "            Console.WriteLine(\"Task {0} finished\", i);\n",
    "        }\n",
    "\n",
    "        static public void Main(string[] args)\n",
    "        {\n",
    "            Task[] Tasks = new Task[10];\n",
    "\n",
    "            for (int i = 0; i < 10; i++)\n",
    "            {\n",
    "                int taskNum = i;  // make a local copy of the loop counter so that the\n",
    "                                  // correct task number is passed into the lambda function\n",
    "                Tasks[i] = Task.Run(() => DoWork(taskNum));\n",
    "            }\n",
    "\n",
    "            Task.WaitAll(Tasks);\n",
    "\n",
    "            Console.WriteLine(\"Finished processing. Press a key to end.\");\n",
    "            //Console.ReadKey();\n",
    "        }\n",
    "    }\n",
    "}\n"
   ]
  },
  {
   "cell_type": "code",
   "execution_count": null,
   "metadata": {},
   "outputs": [],
   "source": [
    "LISTING_1_14_Task_waitall.Program.Main(new string[0]);"
   ]
  }
 ],
 "metadata": {
  "kernelspec": {
   "display_name": "C#",
   "language": "csharp",
   "name": "kernel-spec"
  },
  "language_info": {
   "file_extension": ".cs",
   "mimetype": "text/x-csharp",
   "name": "C#",
   "pygments_lexer": "c#",
   "version": "4.0.30319"
  }
 },
 "nbformat": 4,
 "nbformat_minor": 2
}

{
 "cells": [
  {
   "cell_type": "markdown",
   "metadata": {},
   "source": [
    "# Info"
   ]
  },
  {
   "cell_type": "markdown",
   "metadata": {},
   "source": [
    "This example is from\n",
    "* [github.com/ExamRef70-483/Sample-Code](https://github.com/ExamRef70-483/Sample-Code)\n",
    "* [LISTING 1-14 Task waitall](https://github.com/ExamRef70-483/Sample-Code/blob/master/LISTING%201-14%E2%80%82Task%20waitall/LISTING%201-14%E2%80%82Task%20waitall/Program.cs)\n",
    "\n",
    "\n",
    "## Remember\n",
    "* Main() is not called automatically. Has to be called manual. Remember '**public**'\n",
    "* Console.ReadKey() should not be used.\n"
   ]
  },
  {
   "cell_type": "code",
   "execution_count": 1,
   "metadata": {},
   "outputs": [],
   "source": [
    "using System;\n",
    "using System.Threading;\n",
    "using System.Threading.Tasks;\n",
    "\n",
    "namespace LISTING_1_14_Task_waitall\n",
    "{\n",
    "    class Program\n",
    "    {\n",
    "        public static void DoWork(int i)\n",
    "        {\n",
    "            Console.WriteLine(\"Task {0} starting\", i);\n",
    "            Thread.Sleep(2000);\n",
    "            Console.WriteLine(\"Task {0} finished\", i);\n",
    "        }\n",
    "\n",
    "        static public void Main(string[] args)\n",
    "        {\n",
    "            Task[] Tasks = new Task[10];\n",
    "\n",
    "            for (int i = 0; i < 10; i++)\n",
    "            {\n",
    "                int taskNum = i;  // make a local copy of the loop counter so that the\n",
    "                                  // correct task number is passed into the lambda function\n",
    "                Tasks[i] = Task.Run(() => DoWork(taskNum));\n",
    "            }\n",
    "\n",
    "            Task.WaitAll(Tasks);\n",
    "\n",
    "            Console.WriteLine(\"Finished processing. Press a key to end.\");\n",
    "            //Console.ReadKey();\n",
    "        }\n",
    "    }\n",
    "}\n"
   ]
  },
  {
   "cell_type": "code",
   "execution_count": 2,
   "metadata": {},
   "outputs": [
    {
     "data": {
      "text/html": [
       "Task 2 starting"
      ],
      "text/plain": [
       "Task 2 starting"
      ]
     },
     "metadata": {},
     "output_type": "display_data"
    },
    {
     "data": {
      "text/html": [
       "Task 6 starting"
      ],
      "text/plain": [
       "Task 6 starting"
      ]
     },
     "metadata": {},
     "output_type": "display_data"
    },
    {
     "data": {
      "text/html": [
       "Task 3 starting"
      ],
      "text/plain": [
       "Task 3 starting"
      ]
     },
     "metadata": {},
     "output_type": "display_data"
    },
    {
     "data": {
      "text/html": [
       "Task 7 starting"
      ],
      "text/plain": [
       "Task 7 starting"
      ]
     },
     "metadata": {},
     "output_type": "display_data"
    },
    {
     "data": {
      "text/html": [
       "Task 1 starting"
      ],
      "text/plain": [
       "Task 1 starting"
      ]
     },
     "metadata": {},
     "output_type": "display_data"
    },
    {
     "data": {
      "text/html": [
       "Task 4 starting"
      ],
      "text/plain": [
       "Task 4 starting"
      ]
     },
     "metadata": {},
     "output_type": "display_data"
    },
    {
     "data": {
      "text/html": [
       "Task 5 starting"
      ],
      "text/plain": [
       "Task 5 starting"
      ]
     },
     "metadata": {},
     "output_type": "display_data"
    },
    {
     "data": {
      "text/html": [
       "Task 0 starting"
      ],
      "text/plain": [
       "Task 0 starting"
      ]
     },
     "metadata": {},
     "output_type": "display_data"
    },
    {
     "data": {
      "text/html": [
       "Task 2 finished"
      ],
      "text/plain": [
       "Task 2 finished"
      ]
     },
     "metadata": {},
     "output_type": "display_data"
    },
    {
     "data": {
      "text/html": [
       "Task 6 finished"
      ],
      "text/plain": [
       "Task 6 finished"
      ]
     },
     "metadata": {},
     "output_type": "display_data"
    },
    {
     "data": {
      "text/html": [
       "Task 3 finished"
      ],
      "text/plain": [
       "Task 3 finished"
      ]
     },
     "metadata": {},
     "output_type": "display_data"
    },
    {
     "data": {
      "text/html": [
       "Task 7 finished"
      ],
      "text/plain": [
       "Task 7 finished"
      ]
     },
     "metadata": {},
     "output_type": "display_data"
    },
    {
     "data": {
      "text/html": [
       "Task 1 finished"
      ],
      "text/plain": [
       "Task 1 finished"
      ]
     },
     "metadata": {},
     "output_type": "display_data"
    },
    {
     "data": {
      "text/html": [
       "Task 9 starting"
      ],
      "text/plain": [
       "Task 9 starting"
      ]
     },
     "metadata": {},
     "output_type": "display_data"
    },
    {
     "data": {
      "text/html": [
       "Task 8 starting"
      ],
      "text/plain": [
       "Task 8 starting"
      ]
     },
     "metadata": {},
     "output_type": "display_data"
    },
    {
     "data": {
      "text/html": [
       "Task 5 finished"
      ],
      "text/plain": [
       "Task 5 finished"
      ]
     },
     "metadata": {},
     "output_type": "display_data"
    },
    {
     "data": {
      "text/html": [
       "Task 0 finished"
      ],
      "text/plain": [
       "Task 0 finished"
      ]
     },
     "metadata": {},
     "output_type": "display_data"
    },
    {
     "data": {
      "text/html": [
       "Task 4 finished"
      ],
      "text/plain": [
       "Task 4 finished"
      ]
     },
     "metadata": {},
     "output_type": "display_data"
    },
    {
     "data": {
      "text/html": [
       "Task 9 finished"
      ],
      "text/plain": [
       "Task 9 finished"
      ]
     },
     "metadata": {},
     "output_type": "display_data"
    },
    {
     "data": {
      "text/html": [
       "Task 8 finished"
      ],
      "text/plain": [
       "Task 8 finished"
      ]
     },
     "metadata": {},
     "output_type": "display_data"
    },
    {
     "data": {
      "text/html": [
       "Finished processing. Press a key to end."
      ],
      "text/plain": [
       "Finished processing. Press a key to end."
      ]
     },
     "metadata": {},
     "output_type": "display_data"
    }
   ],
   "source": [
    "LISTING_1_14_Task_waitall.Program.Main(new string[0]);"
   ]
  }
 ],
 "metadata": {
  "kernelspec": {
   "display_name": "C#",
   "language": "csharp",
   "name": "kernel-spec"
  },
  "language_info": {
   "file_extension": ".cs",
   "mimetype": "text/x-csharp",
   "name": "C#",
   "pygments_lexer": "c#",
   "version": "4.0.30319"
  }
 },
 "nbformat": 4,
 "nbformat_minor": 2
}

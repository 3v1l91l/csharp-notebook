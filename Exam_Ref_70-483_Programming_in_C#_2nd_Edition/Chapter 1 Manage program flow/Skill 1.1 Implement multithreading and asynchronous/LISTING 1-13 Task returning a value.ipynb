{
 "cells": [
  {
   "cell_type": "markdown",
   "metadata": {},
   "source": [
    "# Info"
   ]
  },
  {
   "cell_type": "markdown",
   "metadata": {},
   "source": [
    "This example is from\n",
    "* [github.com/ExamRef70-483/Sample-Code](https://github.com/ExamRef70-483/Sample-Code)\n",
    "* [LISTING 1-13 Task returning a value](https://github.com/ExamRef70-483/Sample-Code/blob/master/LISTING%201-13%E2%80%82Task%20returning%20a%20value/LISTING%201-13%E2%80%82Task%20returning%20a%20value/Program.cs)\n",
    "\n",
    "\n",
    "## Remember\n",
    "* Main() is not called automatically. Has to be called manual. Remember '**public**'\n",
    "* Console.ReadKey() should not be used.\n"
   ]
  },
  {
   "cell_type": "code",
   "execution_count": null,
   "metadata": {},
   "outputs": [],
   "source": [
    "using System;\n",
    "using System.Threading;\n",
    "using System.Threading.Tasks;\n",
    "\n",
    "namespace LISTING_1_13_Task_returning_a_value\n",
    "{\n",
    "    class Program\n",
    "    {\n",
    "        public static int CalculateResult()\n",
    "        {\n",
    "            Console.WriteLine(\"Work starting\");\n",
    "            Thread.Sleep(2000);\n",
    "            Console.WriteLine(\"Work finished\");\n",
    "            return 99;\n",
    "        }\n",
    "        static public void Main(string[] args)\n",
    "        {\n",
    "            Task<int> task = Task.Run(() =>\n",
    "            {\n",
    "                return CalculateResult();\n",
    "            });\n",
    "\n",
    "            Console.WriteLine(task.Result);\n",
    "\n",
    "            Console.WriteLine(\"Finished processing. Press a key to end.\");\n",
    "            //Console.ReadKey();\n",
    "        }\n",
    "    }\n",
    "}\n"
   ]
  },
  {
   "cell_type": "code",
   "execution_count": null,
   "metadata": {},
   "outputs": [],
   "source": [
    "LISTING_1_13_Task_returning_a_value.Program.Main(new string[0]);"
   ]
  }
 ],
 "metadata": {
  "kernelspec": {
   "display_name": "C#",
   "language": "csharp",
   "name": "kernel-spec"
  },
  "language_info": {
   "file_extension": ".cs",
   "mimetype": "text/x-csharp",
   "name": "C#",
   "pygments_lexer": "c#",
   "version": "4.0.30319"
  }
 },
 "nbformat": 4,
 "nbformat_minor": 2
}

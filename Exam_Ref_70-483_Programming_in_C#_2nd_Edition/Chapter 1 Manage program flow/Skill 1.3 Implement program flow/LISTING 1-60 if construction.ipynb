{
 "cells": [
  {
   "cell_type": "markdown",
   "metadata": {},
   "source": [
    "# Info"
   ]
  },
  {
   "cell_type": "markdown",
   "metadata": {},
   "source": [
    "This example is from\n",
    "* [github.com/ExamRef70-483/Sample-Code](https://github.com/ExamRef70-483/Sample-Code)\n",
    "* [LISTING 1-60 if construction](https://github.com/ExamRef70-483/Sample-Code/blob/master/LISTING%201-60%E2%80%82if%20construction/LISTING%201-60%E2%80%82if%20construction/Program.cs)\n",
    "\n",
    "\n",
    "## Remember\n",
    "* Main() is not called automatically. Has to be called manual. Remember '**public**'\n",
    "* Console.ReadKey() should not be used.\n"
   ]
  },
  {
   "cell_type": "code",
   "execution_count": 1,
   "metadata": {},
   "outputs": [
    {
     "data": {
      "text/html": [
       "(13,17): warning CS0162: Unreachable code detected"
      ],
      "text/plain": [
       "(13,17): warning CS0162: Unreachable code detected"
      ]
     },
     "metadata": {},
     "output_type": "display_data"
    },
    {
     "data": {
      "text/html": [
       "(25,21): warning CS0162: Unreachable code detected"
      ],
      "text/plain": [
       "(25,21): warning CS0162: Unreachable code detected"
      ]
     },
     "metadata": {},
     "output_type": "display_data"
    },
    {
     "data": {
      "text/html": [
       "(39,17): warning CS0162: Unreachable code detected"
      ],
      "text/plain": [
       "(39,17): warning CS0162: Unreachable code detected"
      ]
     },
     "metadata": {},
     "output_type": "display_data"
    }
   ],
   "source": [
    "using System;\n",
    "using System.Collections.Generic;\n",
    "using System.Linq;\n",
    "using System.Text;\n",
    "using System.Threading.Tasks;\n",
    "\n",
    "namespace LISTING_1_60_if_construction\n",
    "{\n",
    "    class Program\n",
    "    {\n",
    "        static public void Main(string[] args)\n",
    "        {\n",
    "            if (true)\n",
    "            {\n",
    "                Console.WriteLine(\"This statement is always performed\");\n",
    "            }\n",
    "            else\n",
    "            {\n",
    "                Console.WriteLine(\"This statement is never performed\");\n",
    "            }\n",
    "\n",
    "            if (true)\n",
    "            {\n",
    "                Console.WriteLine(\"This statement is always performed\");\n",
    "                if (true)\n",
    "                {\n",
    "                    Console.WriteLine(\"This statement is always performed\");\n",
    "                }\n",
    "                else\n",
    "                {\n",
    "                    Console.WriteLine(\"This statement is never performed\");\n",
    "                }\n",
    "            }\n",
    "\n",
    "            if (true)\n",
    "            {\n",
    "                Console.WriteLine(\"This statement is always performed\");\n",
    "                if (true)\n",
    "                {\n",
    "                    Console.WriteLine(\"This statement is always performed\");\n",
    "                }\n",
    "            }\n",
    "            else\n",
    "            {\n",
    "                Console.WriteLine(\"This statement is never performed\");\n",
    "            }\n",
    "        }\n",
    "    }\n",
    "}\n"
   ]
  },
  {
   "cell_type": "code",
   "execution_count": 2,
   "metadata": {},
   "outputs": [
    {
     "data": {
      "text/html": [
       "This statement is always performed"
      ],
      "text/plain": [
       "This statement is always performed"
      ]
     },
     "metadata": {},
     "output_type": "display_data"
    },
    {
     "data": {
      "text/html": [
       "This statement is always performed"
      ],
      "text/plain": [
       "This statement is always performed"
      ]
     },
     "metadata": {},
     "output_type": "display_data"
    },
    {
     "data": {
      "text/html": [
       "This statement is always performed"
      ],
      "text/plain": [
       "This statement is always performed"
      ]
     },
     "metadata": {},
     "output_type": "display_data"
    },
    {
     "data": {
      "text/html": [
       "This statement is always performed"
      ],
      "text/plain": [
       "This statement is always performed"
      ]
     },
     "metadata": {},
     "output_type": "display_data"
    },
    {
     "data": {
      "text/html": [
       "This statement is always performed"
      ],
      "text/plain": [
       "This statement is always performed"
      ]
     },
     "metadata": {},
     "output_type": "display_data"
    }
   ],
   "source": [
    "LISTING_1_60_if_construction.Program.Main(new string[0]);"
   ]
  }
 ],
 "metadata": {
  "kernelspec": {
   "display_name": "C#",
   "language": "csharp",
   "name": "kernel-spec"
  },
  "language_info": {
   "file_extension": ".cs",
   "mimetype": "text/x-csharp",
   "name": "C#",
   "pygments_lexer": "c#",
   "version": "4.0.30319"
  }
 },
 "nbformat": 4,
 "nbformat_minor": 2
}

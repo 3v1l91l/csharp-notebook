{
 "cells": [
  {
   "cell_type": "markdown",
   "metadata": {},
   "source": [
    "# Info"
   ]
  },
  {
   "cell_type": "markdown",
   "metadata": {},
   "source": [
    "This example is from\n",
    "* [github.com/ExamRef70-483/Sample-Code](https://github.com/ExamRef70-483/Sample-Code)\n",
    "* [LISTING 1-60 if construction](https://github.com/ExamRef70-483/Sample-Code/blob/master/LISTING%201-60%E2%80%82if%20construction/LISTING%201-60%E2%80%82if%20construction/Program.cs)\n",
    "\n",
    "\n",
    "## Remember\n",
    "* Main() is not called automatically. Has to be called manual. Remember '**public**'\n",
    "* Console.ReadKey() should not be used.\n"
   ]
  },
  {
   "cell_type": "code",
   "execution_count": null,
   "metadata": {},
   "outputs": [],
   "source": [
    "using System;\n",
    "using System.Collections.Generic;\n",
    "using System.Linq;\n",
    "using System.Text;\n",
    "using System.Threading.Tasks;\n",
    "\n",
    "namespace LISTING_1_60_if_construction\n",
    "{\n",
    "    class Program\n",
    "    {\n",
    "        static public void Main(string[] args)\n",
    "        {\n",
    "            if (true)\n",
    "            {\n",
    "                Console.WriteLine(\"This statement is always performed\");\n",
    "            }\n",
    "            else\n",
    "            {\n",
    "                Console.WriteLine(\"This statement is never performed\");\n",
    "            }\n",
    "\n",
    "            if (true)\n",
    "            {\n",
    "                Console.WriteLine(\"This statement is always performed\");\n",
    "                if (true)\n",
    "                {\n",
    "                    Console.WriteLine(\"This statement is always performed\");\n",
    "                }\n",
    "                else\n",
    "                {\n",
    "                    Console.WriteLine(\"This statement is never performed\");\n",
    "                }\n",
    "            }\n",
    "\n",
    "            if (true)\n",
    "            {\n",
    "                Console.WriteLine(\"This statement is always performed\");\n",
    "                if (true)\n",
    "                {\n",
    "                    Console.WriteLine(\"This statement is always performed\");\n",
    "                }\n",
    "            }\n",
    "            else\n",
    "            {\n",
    "                Console.WriteLine(\"This statement is never performed\");\n",
    "            }\n",
    "        }\n",
    "    }\n",
    "}\n"
   ]
  },
  {
   "cell_type": "code",
   "execution_count": null,
   "metadata": {},
   "outputs": [],
   "source": [
    "LISTING_1_60_if_construction.Program.Main(new string[0]);"
   ]
  }
 ],
 "metadata": {
  "kernelspec": {
   "display_name": "C#",
   "language": "csharp",
   "name": "kernel-spec"
  },
  "language_info": {
   "file_extension": ".cs",
   "mimetype": "text/x-csharp",
   "name": "C#",
   "pygments_lexer": "c#",
   "version": "4.0.30319"
  }
 },
 "nbformat": 4,
 "nbformat_minor": 2
}

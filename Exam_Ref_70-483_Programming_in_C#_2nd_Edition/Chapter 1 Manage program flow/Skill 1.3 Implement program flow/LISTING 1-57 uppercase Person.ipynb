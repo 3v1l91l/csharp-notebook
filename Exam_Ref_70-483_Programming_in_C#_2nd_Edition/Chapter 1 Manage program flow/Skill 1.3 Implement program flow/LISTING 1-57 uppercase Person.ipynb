{
 "cells": [
  {
   "cell_type": "markdown",
   "metadata": {},
   "source": [
    "# Info"
   ]
  },
  {
   "cell_type": "markdown",
   "metadata": {},
   "source": [
    "This example is from\n",
    "* [github.com/ExamRef70-483/Sample-Code](https://github.com/ExamRef70-483/Sample-Code)\n",
    "* [LISTING 1-57 uppercase Person](https://github.com/ExamRef70-483/Sample-Code/blob/master/LISTING%201-57%E2%80%82uppercase%20Person/LISTING%201-57%E2%80%82uppercase%20Person/Program.cs)\n",
    "\n",
    "\n",
    "## Remember\n",
    "* Main() is not called automatically. Has to be called manual. Remember '**public**'\n",
    "* Console.ReadKey() should not be used.\n"
   ]
  },
  {
   "cell_type": "code",
   "execution_count": 1,
   "metadata": {},
   "outputs": [],
   "source": [
    "using System;\n",
    "using System.Collections.Generic;\n",
    "using System.Linq;\n",
    "using System.Text;\n",
    "using System.Threading.Tasks;\n",
    "\n",
    "namespace LISTING_1_57_uppercase_Person\n",
    "{\n",
    "    class Program\n",
    "    {\n",
    "        class Person\n",
    "        {\n",
    "            public string Name { get; set; }\n",
    "\n",
    "            public Person(string name)\n",
    "            {\n",
    "                Name = name;\n",
    "            }\n",
    "        }\n",
    "\n",
    "        static public void Main(string[] args)\n",
    "        {\n",
    "            Person[] people = new Person[] {\n",
    "                new Person(\"Rob\"), new Person(\"Mary\"),\n",
    "                new Person(\"David\"), new Person(\"Jenny\"),\n",
    "                new Person(\"Chris\"), new Person(\"Imogen\") };\n",
    "\n",
    "            foreach (Person person in people)\n",
    "                person.Name = person.Name.ToUpper();\n",
    "\n",
    "            foreach (Person person in people)\n",
    "                Console.WriteLine(person.Name);\n",
    "\n",
    "            //Console.ReadKey();\n",
    "        }\n",
    "    }\n",
    "}\n"
   ]
  },
  {
   "cell_type": "code",
   "execution_count": 2,
   "metadata": {},
   "outputs": [
    {
     "data": {
      "text/html": [
       "ROB"
      ],
      "text/plain": [
       "ROB"
      ]
     },
     "metadata": {},
     "output_type": "display_data"
    },
    {
     "data": {
      "text/html": [
       "MARY"
      ],
      "text/plain": [
       "MARY"
      ]
     },
     "metadata": {},
     "output_type": "display_data"
    },
    {
     "data": {
      "text/html": [
       "DAVID"
      ],
      "text/plain": [
       "DAVID"
      ]
     },
     "metadata": {},
     "output_type": "display_data"
    },
    {
     "data": {
      "text/html": [
       "JENNY"
      ],
      "text/plain": [
       "JENNY"
      ]
     },
     "metadata": {},
     "output_type": "display_data"
    },
    {
     "data": {
      "text/html": [
       "CHRIS"
      ],
      "text/plain": [
       "CHRIS"
      ]
     },
     "metadata": {},
     "output_type": "display_data"
    },
    {
     "data": {
      "text/html": [
       "IMOGEN"
      ],
      "text/plain": [
       "IMOGEN"
      ]
     },
     "metadata": {},
     "output_type": "display_data"
    }
   ],
   "source": [
    "LISTING_1_57_uppercase_Person.Program.Main(new string[0]);"
   ]
  }
 ],
 "metadata": {
  "kernelspec": {
   "display_name": "C#",
   "language": "csharp",
   "name": "kernel-spec"
  },
  "language_info": {
   "file_extension": ".cs",
   "mimetype": "text/x-csharp",
   "name": "C#",
   "pygments_lexer": "c#",
   "version": "4.0.30319"
  }
 },
 "nbformat": 4,
 "nbformat_minor": 2
}

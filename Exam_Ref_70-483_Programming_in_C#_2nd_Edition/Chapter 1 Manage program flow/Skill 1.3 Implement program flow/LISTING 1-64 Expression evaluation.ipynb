{
 "cells": [
  {
   "cell_type": "markdown",
   "metadata": {},
   "source": [
    "# Info"
   ]
  },
  {
   "cell_type": "markdown",
   "metadata": {},
   "source": [
    "This example is from\n",
    "* [github.com/ExamRef70-483/Sample-Code](https://github.com/ExamRef70-483/Sample-Code)\n",
    "* [LISTING 1-64 Expression evaluation](https://github.com/ExamRef70-483/Sample-Code/blob/master/LISTING%201-64%E2%80%82Expression%20evaluation/LISTING%201-64%E2%80%82Expression%20evaluation/Program.cs)\n",
    "\n",
    "\n",
    "## Remember\n",
    "* Main() is not called automatically. Has to be called manual. Remember '**public**'\n",
    "* Console.ReadKey() should not be used.\n"
   ]
  },
  {
   "cell_type": "code",
   "execution_count": 1,
   "metadata": {},
   "outputs": [],
   "source": [
    "using System;\n",
    "using System.Collections.Generic;\n",
    "using System.Linq;\n",
    "using System.Text;\n",
    "using System.Threading.Tasks;\n",
    "\n",
    "namespace LISTING_1_64_Expression_evaluation\n",
    "{\n",
    "    class Program\n",
    "    {\n",
    "        static public void Main(string[] args)\n",
    "        {\n",
    "            int i = 0; // create i and set to 0\n",
    "\n",
    "            // Monadic operators - one operand\n",
    "            i++; // monadic ++ operator increment - i now 1\n",
    "            i--; // monadic -- operator decrement - i now 0\n",
    "\n",
    "            // Postfix monadic operator - peform after value given\n",
    "            Console.WriteLine(i++); // writes 0 and sets i to 1\n",
    "            // Prefix monadic operator - perform before value given\n",
    "            Console.WriteLine(++i); // writes 2 and sets i to 2\n",
    "\n",
    "            // Binary operators - two operands\n",
    "            i = 1 + 1; // sets i to 2\n",
    "            i = 1 + 2 * 3; // sets i to 7 because * performed first\n",
    "            i = (1 + 2) * 3; // sets i to 9 because + peformed first\n",
    "\n",
    "            string str = \"\";\n",
    "\n",
    "            str = str + \"Hello\"; // + performs string addition\n",
    "\n",
    "            // ternary operators - three operands\n",
    "            i = true ? 0 : 1; // sets i to 0 because condition is true\n",
    "\n",
    "            //Console.ReadKey();\n",
    "        }\n",
    "    }\n",
    "}\n"
   ]
  },
  {
   "cell_type": "code",
   "execution_count": 2,
   "metadata": {},
   "outputs": [
    {
     "data": {
      "text/html": [
       "0"
      ],
      "text/plain": [
       "0"
      ]
     },
     "metadata": {},
     "output_type": "display_data"
    },
    {
     "data": {
      "text/html": [
       "2"
      ],
      "text/plain": [
       "2"
      ]
     },
     "metadata": {},
     "output_type": "display_data"
    }
   ],
   "source": [
    "LISTING_1_64_Expression_evaluation.Program.Main(new string[0]);"
   ]
  }
 ],
 "metadata": {
  "kernelspec": {
   "display_name": "C#",
   "language": "csharp",
   "name": "kernel-spec"
  },
  "language_info": {
   "file_extension": ".cs",
   "mimetype": "text/x-csharp",
   "name": "C#",
   "pygments_lexer": "c#",
   "version": "4.0.30319"
  }
 },
 "nbformat": 4,
 "nbformat_minor": 2
}

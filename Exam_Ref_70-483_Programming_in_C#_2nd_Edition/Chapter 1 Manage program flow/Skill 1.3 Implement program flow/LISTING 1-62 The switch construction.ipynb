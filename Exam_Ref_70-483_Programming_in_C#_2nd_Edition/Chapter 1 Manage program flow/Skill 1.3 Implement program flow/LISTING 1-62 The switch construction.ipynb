{
 "cells": [
  {
   "cell_type": "markdown",
   "metadata": {},
   "source": [
    "# Info"
   ]
  },
  {
   "cell_type": "markdown",
   "metadata": {},
   "source": [
    "This example is from\n",
    "* [github.com/ExamRef70-483/Sample-Code](https://github.com/ExamRef70-483/Sample-Code)\n",
    "* [LISTING 1-62 The switch construction](https://github.com/ExamRef70-483/Sample-Code/blob/master/LISTING%201-62%E2%80%82The%20switch%20construction/LISTING%201-62%E2%80%82The%20switch%20construction/Program.cs)\n",
    "\n",
    "\n",
    "## Remember\n",
    "* Main() is not called automatically. Has to be called manual. Remember '**public**'\n",
    "* Console.ReadKey() should not be used.\n"
   ]
  },
  {
   "cell_type": "code",
   "execution_count": null,
   "metadata": {},
   "outputs": [],
   "source": [
    "using System;\n",
    "\n",
    "namespace LISTING_1_62_The_switch_construction\n",
    "{\n",
    "    class Program\n",
    "    {\n",
    "        static public void Main(string[] args)\n",
    "        {\n",
    "            Console.Write(\"Enter command: \");\n",
    "            int command = int.Parse(Console.ReadLine());\n",
    "\n",
    "            switch(command)\n",
    "            {\n",
    "                case 1:\n",
    "                    Console.WriteLine(\"Command 1 chosen\");\n",
    "                    break;\n",
    "                case 2:\n",
    "                    Console.WriteLine(\"Command 2 chosen\");\n",
    "                    break;\n",
    "                case 3:\n",
    "                    Console.WriteLine(\"Command 3 chosen\");\n",
    "                    break;\n",
    "                default:\n",
    "                    Console.WriteLine(\"Please enter a commannd in the range 1-3\");\n",
    "                    break;\n",
    "            }\n",
    "            //Console.ReadKey();\n",
    "        }\n",
    "    }\n",
    "}\n"
   ]
  },
  {
   "cell_type": "code",
   "execution_count": null,
   "metadata": {},
   "outputs": [],
   "source": [
    "LISTING_1_62_The_switch_construction.Program.Main(new string[0]);"
   ]
  }
 ],
 "metadata": {
  "kernelspec": {
   "display_name": "C#",
   "language": "csharp",
   "name": "kernel-spec"
  },
  "language_info": {
   "file_extension": ".cs",
   "mimetype": "text/x-csharp",
   "name": "C#",
   "pygments_lexer": "c#",
   "version": "4.0.30319"
  }
 },
 "nbformat": 4,
 "nbformat_minor": 2
}

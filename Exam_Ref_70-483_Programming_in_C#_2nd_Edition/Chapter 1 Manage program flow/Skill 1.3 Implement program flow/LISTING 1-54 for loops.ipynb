{
 "cells": [
  {
   "cell_type": "markdown",
   "metadata": {},
   "source": [
    "# Info"
   ]
  },
  {
   "cell_type": "markdown",
   "metadata": {},
   "source": [
    "This example is from\n",
    "* [github.com/ExamRef70-483/Sample-Code](https://github.com/ExamRef70-483/Sample-Code)\n",
    "* [LISTING 1-54 for loops](https://github.com/ExamRef70-483/Sample-Code/blob/master/LISTING%201-54%E2%80%82for%20loops/LISTING%201-54%E2%80%82for%20loops/Program.cs)\n",
    "\n",
    "\n",
    "## Remember\n",
    "* Main() is not called automatically. Has to be called manual. Remember '**public**'\n",
    "* Console.ReadKey() should not be used.\n"
   ]
  },
  {
   "cell_type": "code",
   "execution_count": 1,
   "metadata": {},
   "outputs": [],
   "source": [
    "using System;\n",
    "\n",
    "namespace LISTING_1_54_for_loops\n",
    "{\n",
    "    class Program\n",
    "    {\n",
    "        static int counter;\n",
    "\n",
    "        static void initalize()\n",
    "        {\n",
    "            Console.WriteLine(\"Initialize called\");\n",
    "            counter = 0;\n",
    "        }\n",
    "\n",
    "        static void update()\n",
    "        {\n",
    "            Console.WriteLine(\"Update called\");\n",
    "            counter = counter + 1;\n",
    "        }\n",
    "\n",
    "        static bool test()\n",
    "        {\n",
    "            Console.WriteLine(\"Test called\");\n",
    "            return counter < 5;\n",
    "        }\n",
    "        static public void Main(string[] args)\n",
    "        {\n",
    "            for(initalize(); test();  update())\n",
    "            {\n",
    "                Console.WriteLine(\"Hello {0}\", counter);\n",
    "            }\n",
    "            //Console.ReadKey();\n",
    "        }\n",
    "    }\n",
    "}\n"
   ]
  },
  {
   "cell_type": "code",
   "execution_count": 2,
   "metadata": {},
   "outputs": [
    {
     "data": {
      "text/html": [
       "Initialize called"
      ],
      "text/plain": [
       "Initialize called"
      ]
     },
     "metadata": {},
     "output_type": "display_data"
    },
    {
     "data": {
      "text/html": [
       "Test called"
      ],
      "text/plain": [
       "Test called"
      ]
     },
     "metadata": {},
     "output_type": "display_data"
    },
    {
     "data": {
      "text/html": [
       "Hello 0"
      ],
      "text/plain": [
       "Hello 0"
      ]
     },
     "metadata": {},
     "output_type": "display_data"
    },
    {
     "data": {
      "text/html": [
       "Update called"
      ],
      "text/plain": [
       "Update called"
      ]
     },
     "metadata": {},
     "output_type": "display_data"
    },
    {
     "data": {
      "text/html": [
       "Test called"
      ],
      "text/plain": [
       "Test called"
      ]
     },
     "metadata": {},
     "output_type": "display_data"
    },
    {
     "data": {
      "text/html": [
       "Hello 1"
      ],
      "text/plain": [
       "Hello 1"
      ]
     },
     "metadata": {},
     "output_type": "display_data"
    },
    {
     "data": {
      "text/html": [
       "Update called"
      ],
      "text/plain": [
       "Update called"
      ]
     },
     "metadata": {},
     "output_type": "display_data"
    },
    {
     "data": {
      "text/html": [
       "Test called"
      ],
      "text/plain": [
       "Test called"
      ]
     },
     "metadata": {},
     "output_type": "display_data"
    },
    {
     "data": {
      "text/html": [
       "Hello 2"
      ],
      "text/plain": [
       "Hello 2"
      ]
     },
     "metadata": {},
     "output_type": "display_data"
    },
    {
     "data": {
      "text/html": [
       "Update called"
      ],
      "text/plain": [
       "Update called"
      ]
     },
     "metadata": {},
     "output_type": "display_data"
    },
    {
     "data": {
      "text/html": [
       "Test called"
      ],
      "text/plain": [
       "Test called"
      ]
     },
     "metadata": {},
     "output_type": "display_data"
    },
    {
     "data": {
      "text/html": [
       "Hello 3"
      ],
      "text/plain": [
       "Hello 3"
      ]
     },
     "metadata": {},
     "output_type": "display_data"
    },
    {
     "data": {
      "text/html": [
       "Update called"
      ],
      "text/plain": [
       "Update called"
      ]
     },
     "metadata": {},
     "output_type": "display_data"
    },
    {
     "data": {
      "text/html": [
       "Test called"
      ],
      "text/plain": [
       "Test called"
      ]
     },
     "metadata": {},
     "output_type": "display_data"
    },
    {
     "data": {
      "text/html": [
       "Hello 4"
      ],
      "text/plain": [
       "Hello 4"
      ]
     },
     "metadata": {},
     "output_type": "display_data"
    },
    {
     "data": {
      "text/html": [
       "Update called"
      ],
      "text/plain": [
       "Update called"
      ]
     },
     "metadata": {},
     "output_type": "display_data"
    },
    {
     "data": {
      "text/html": [
       "Test called"
      ],
      "text/plain": [
       "Test called"
      ]
     },
     "metadata": {},
     "output_type": "display_data"
    }
   ],
   "source": [
    "LISTING_1_54_for_loops.Program.Main(new string[0]);"
   ]
  }
 ],
 "metadata": {
  "kernelspec": {
   "display_name": "C#",
   "language": "csharp",
   "name": "kernel-spec"
  },
  "language_info": {
   "file_extension": ".cs",
   "mimetype": "text/x-csharp",
   "name": "C#",
   "pygments_lexer": "c#",
   "version": "4.0.30319"
  }
 },
 "nbformat": 4,
 "nbformat_minor": 2
}

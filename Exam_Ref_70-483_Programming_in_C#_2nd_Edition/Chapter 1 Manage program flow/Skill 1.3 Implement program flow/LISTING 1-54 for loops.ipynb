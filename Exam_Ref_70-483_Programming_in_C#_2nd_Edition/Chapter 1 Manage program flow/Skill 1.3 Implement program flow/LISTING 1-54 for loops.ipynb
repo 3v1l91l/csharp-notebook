{
 "cells": [
  {
   "cell_type": "markdown",
   "metadata": {},
   "source": [
    "# Info"
   ]
  },
  {
   "cell_type": "markdown",
   "metadata": {},
   "source": [
    "This example is from\n",
    "* [github.com/ExamRef70-483/Sample-Code](https://github.com/ExamRef70-483/Sample-Code)\n",
    "* [LISTING 1-54 for loops](https://github.com/ExamRef70-483/Sample-Code/blob/master/LISTING%201-54%E2%80%82for%20loops/LISTING%201-54%E2%80%82for%20loops/Program.cs)\n",
    "\n",
    "\n",
    "## Remember\n",
    "* Main() is not called automatically. Has to be called manual. Remember '**public**'\n",
    "* Console.ReadKey() should not be used.\n"
   ]
  },
  {
   "cell_type": "code",
   "execution_count": null,
   "metadata": {},
   "outputs": [],
   "source": [
    "using System;\n",
    "\n",
    "namespace LISTING_1_54_for_loops\n",
    "{\n",
    "    class Program\n",
    "    {\n",
    "        static int counter;\n",
    "\n",
    "        static void initalize()\n",
    "        {\n",
    "            Console.WriteLine(\"Initialize called\");\n",
    "            counter = 0;\n",
    "        }\n",
    "\n",
    "        static void update()\n",
    "        {\n",
    "            Console.WriteLine(\"Update called\");\n",
    "            counter = counter + 1;\n",
    "        }\n",
    "\n",
    "        static bool test()\n",
    "        {\n",
    "            Console.WriteLine(\"Test called\");\n",
    "            return counter < 5;\n",
    "        }\n",
    "        static public void Main(string[] args)\n",
    "        {\n",
    "            for(initalize(); test();  update())\n",
    "            {\n",
    "                Console.WriteLine(\"Hello {0}\", counter);\n",
    "            }\n",
    "            //Console.ReadKey();\n",
    "        }\n",
    "    }\n",
    "}\n"
   ]
  },
  {
   "cell_type": "code",
   "execution_count": null,
   "metadata": {},
   "outputs": [],
   "source": [
    "LISTING_1_54_for_loops.Program.Main(new string[0]);"
   ]
  }
 ],
 "metadata": {
  "kernelspec": {
   "display_name": "C#",
   "language": "csharp",
   "name": "kernel-spec"
  },
  "language_info": {
   "file_extension": ".cs",
   "mimetype": "text/x-csharp",
   "name": "C#",
   "pygments_lexer": "c#",
   "version": "4.0.30319"
  }
 },
 "nbformat": 4,
 "nbformat_minor": 2
}

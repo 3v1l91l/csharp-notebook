{
 "cells": [
  {
   "cell_type": "markdown",
   "metadata": {},
   "source": [
    "# Info"
   ]
  },
  {
   "cell_type": "markdown",
   "metadata": {},
   "source": [
    "This example is from\n",
    "* [github.com/ExamRef70-483/Sample-Code](https://github.com/ExamRef70-483/Sample-Code)\n",
    "* [LISTING 1-63 Switching on strings](https://github.com/ExamRef70-483/Sample-Code/blob/master/LISTING%201-63%E2%80%82Switching%20on%20strings/LISTING%201-63%E2%80%82Switching%20on%20strings/Program.cs)\n",
    "\n",
    "\n",
    "## Remember\n",
    "* Main() is not called automatically. Has to be called manual. Remember '**public**'\n",
    "* Console.ReadKey() should not be used.\n"
   ]
  },
  {
   "cell_type": "code",
   "execution_count": null,
   "metadata": {},
   "outputs": [],
   "source": [
    "using System;\n",
    "\n",
    "namespace LISTING_1_63_Switching_on_strings\n",
    "{\n",
    "    class Program\n",
    "    {\n",
    "        static public void Main(string[] args)\n",
    "        {\n",
    "            Console.Write(\"Enter command: \");\n",
    "            string commandName = Console.ReadLine().ToLower() ;\n",
    "\n",
    "            switch (commandName)\n",
    "            {\n",
    "                case \"save\":\n",
    "                case \"s\":\n",
    "                    Console.WriteLine(\"Save command\");\n",
    "                    break;\n",
    "                case \"load\":\n",
    "                case \"l\":\n",
    "                    Console.WriteLine(\"Load command\");\n",
    "                    break;\n",
    "                case \"exit\":\n",
    "                case \"e\":\n",
    "                    Console.WriteLine(\"Exit command\");\n",
    "                    break;\n",
    "                default:\n",
    "                    Console.WriteLine(\"Please enter save, load or exit\");\n",
    "                    break;\n",
    "            }\n",
    "            //Console.ReadKey();\n",
    "        }\n",
    "    }\n",
    "}\n"
   ]
  },
  {
   "cell_type": "code",
   "execution_count": null,
   "metadata": {},
   "outputs": [],
   "source": [
    "LISTING_1_63_Switching_on_strings.Program.Main(new string[0]);"
   ]
  }
 ],
 "metadata": {
  "kernelspec": {
   "display_name": "C#",
   "language": "csharp",
   "name": "kernel-spec"
  },
  "language_info": {
   "file_extension": ".cs",
   "mimetype": "text/x-csharp",
   "name": "C#",
   "pygments_lexer": "c#",
   "version": "4.0.30319"
  }
 },
 "nbformat": 4,
 "nbformat_minor": 2
}

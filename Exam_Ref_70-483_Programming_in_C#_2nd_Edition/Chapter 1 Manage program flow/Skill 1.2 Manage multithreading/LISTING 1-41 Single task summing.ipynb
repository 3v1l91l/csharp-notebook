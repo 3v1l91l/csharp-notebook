{
 "cells": [
  {
   "cell_type": "markdown",
   "metadata": {},
   "source": [
    "# Info"
   ]
  },
  {
   "cell_type": "markdown",
   "metadata": {},
   "source": [
    "This example is from\n",
    "* [github.com/ExamRef70-483/Sample-Code](https://github.com/ExamRef70-483/Sample-Code)\n",
    "* [LISTING 1-41 Single task summing](https://github.com/ExamRef70-483/Sample-Code/blob/master/LISTING%201-41%E2%80%82Single%20task%20summing/LISTING%201-41%E2%80%82Single%20task%20summing/Program.cs)\n",
    "\n",
    "\n",
    "## Remember\n",
    "* Main() is not called automatically. Has to be called manual. Remember '**public**'\n",
    "* Console.ReadKey() should not be used.\n"
   ]
  },
  {
   "cell_type": "code",
   "execution_count": 1,
   "metadata": {},
   "outputs": [],
   "source": [
    "using System;\n",
    "using System.Linq;\n",
    "\n",
    "namespace LISTING_1_41_Single_task_summing\n",
    "{\n",
    "    class Program\n",
    "    {\n",
    "        // make an array that holds the values 0 to 5000000\n",
    "        static int[] items = Enumerable.Range(0, 500001).ToArray();\n",
    "\n",
    "        static public void Main(string[] args)\n",
    "        {\n",
    "            long total = 0;\n",
    "\n",
    "            for (int i = 0; i < items.Length; i++)\n",
    "                total = total + items[i];\n",
    "\n",
    "            Console.WriteLine(\"The total is: {0}\", total);\n",
    "            //Console.ReadKey();\n",
    "        }\n",
    "    }\n",
    "}\n"
   ]
  },
  {
   "cell_type": "code",
   "execution_count": 2,
   "metadata": {},
   "outputs": [
    {
     "data": {
      "text/html": [
       "The total is: 125000250000"
      ],
      "text/plain": [
       "The total is: 125000250000"
      ]
     },
     "metadata": {},
     "output_type": "display_data"
    }
   ],
   "source": [
    "LISTING_1_41_Single_task_summing.Program.Main(new string[0]);"
   ]
  }
 ],
 "metadata": {
  "kernelspec": {
   "display_name": "C#",
   "language": "csharp",
   "name": "kernel-spec"
  },
  "language_info": {
   "file_extension": ".cs",
   "mimetype": "text/x-csharp",
   "name": "C#",
   "pygments_lexer": "c#",
   "version": "4.0.30319"
  }
 },
 "nbformat": 4,
 "nbformat_minor": 2
}

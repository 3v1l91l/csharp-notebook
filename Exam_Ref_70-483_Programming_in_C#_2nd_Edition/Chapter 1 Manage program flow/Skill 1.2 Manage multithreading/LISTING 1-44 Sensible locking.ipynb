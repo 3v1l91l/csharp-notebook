{
 "cells": [
  {
   "cell_type": "markdown",
   "metadata": {},
   "source": [
    "# Info"
   ]
  },
  {
   "cell_type": "markdown",
   "metadata": {},
   "source": [
    "This example is from\n",
    "* [github.com/ExamRef70-483/Sample-Code](https://github.com/ExamRef70-483/Sample-Code)\n",
    "* [LISTING 1-44 Sensible locking](https://github.com/ExamRef70-483/Sample-Code/blob/master/LISTING%201-44%E2%80%82Sensible%20locking/LISTING%201-44%E2%80%82Sensible%20locking/Program.cs)\n",
    "\n",
    "\n",
    "## Remember\n",
    "* Main() is not called automatically. Has to be called manual. Remember '**public**'\n",
    "* Console.ReadKey() should not be used.\n"
   ]
  },
  {
   "cell_type": "code",
   "execution_count": null,
   "metadata": {},
   "outputs": [],
   "source": [
    "using System;\n",
    "using System.Collections.Generic;\n",
    "using System.Linq;\n",
    "using System.Text;\n",
    "using System.Threading.Tasks;\n",
    "\n",
    "namespace LISTING_1_44_Sensible_locking\n",
    "{\n",
    "    class Program\n",
    "    {\n",
    "        static long sharedTotal;\n",
    "\n",
    "        // make an array that holds the values 0 to 5000000\n",
    "        static int[] items = Enumerable.Range(0, 500001).ToArray();\n",
    "\n",
    "        static object sharedTotalLock = new object();\n",
    "\n",
    "        static void addRangeOfValues(int start, int end)\n",
    "        {\n",
    "            long subTotal = 0;\n",
    "\n",
    "            while (start < end)\n",
    "            {\n",
    "                subTotal = subTotal + items[start];\n",
    "                start++;\n",
    "            }\n",
    "            lock (sharedTotalLock)\n",
    "            {\n",
    "                sharedTotal = sharedTotal + subTotal;\n",
    "            }\n",
    "        }\n",
    "\n",
    "    static public void Main(string[] args)\n",
    "        {\n",
    "            List<Task> tasks = new List<Task>();\n",
    "\n",
    "            int rangeSize = 1000;\n",
    "            int rangeStart = 0;\n",
    "\n",
    "            while (rangeStart < items.Length)\n",
    "            {\n",
    "                int rangeEnd = rangeStart + rangeSize;\n",
    "\n",
    "                if (rangeEnd > items.Length)\n",
    "                    rangeEnd = items.Length;\n",
    "\n",
    "                // create local copies of the parameters\n",
    "                int rs = rangeStart;\n",
    "                int re = rangeEnd;\n",
    "\n",
    "                tasks.Add(Task.Run(() => addRangeOfValues(rs, re)));\n",
    "                rangeStart = rangeEnd;\n",
    "            }\n",
    "\n",
    "            Task.WaitAll(tasks.ToArray());\n",
    "\n",
    "            Console.WriteLine(\"The total is: {0}\", sharedTotal);\n",
    "            //Console.ReadKey();\n",
    "        }\n",
    "    }\n",
    "}\n"
   ]
  },
  {
   "cell_type": "code",
   "execution_count": null,
   "metadata": {},
   "outputs": [],
   "source": [
    "LISTING_1_44_Sensible_locking.Program.Main(new string[0]);"
   ]
  }
 ],
 "metadata": {
  "kernelspec": {
   "display_name": "C#",
   "language": "csharp",
   "name": "kernel-spec"
  },
  "language_info": {
   "file_extension": ".cs",
   "mimetype": "text/x-csharp",
   "name": "C#",
   "pygments_lexer": "c#",
   "version": "4.0.30319"
  }
 },
 "nbformat": 4,
 "nbformat_minor": 2
}

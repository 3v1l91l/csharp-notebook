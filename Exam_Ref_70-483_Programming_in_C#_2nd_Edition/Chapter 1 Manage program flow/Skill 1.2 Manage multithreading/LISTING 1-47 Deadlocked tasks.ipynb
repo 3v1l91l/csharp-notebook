{
 "cells": [
  {
   "cell_type": "markdown",
   "metadata": {},
   "source": [
    "# Info"
   ]
  },
  {
   "cell_type": "markdown",
   "metadata": {},
   "source": [
    "This example is from\n",
    "* [github.com/ExamRef70-483/Sample-Code](https://github.com/ExamRef70-483/Sample-Code)\n",
    "* [LISTING 1-47 Deadlocked tasks](https://github.com/ExamRef70-483/Sample-Code/blob/master/LISTING%201-47%E2%80%82Deadlocked%20tasks/LISTING%201-47%E2%80%82Deadlocked%20tasks/Program.cs)\n",
    "\n",
    "\n",
    "## Remember\n",
    "* Main() is not called automatically. Has to be called manual. Remember '**public**'\n",
    "* Console.ReadKey() should not be used.\n"
   ]
  },
  {
   "cell_type": "code",
   "execution_count": 1,
   "metadata": {},
   "outputs": [
    {
     "data": {
      "text/html": [
       "(40,10): warning CS0219: The variable `t1&#39; is assigned but its value is never used"
      ],
      "text/plain": [
       "(40,10): warning CS0219: The variable `t1' is assigned but its value is never used"
      ]
     },
     "metadata": {},
     "output_type": "display_data"
    }
   ],
   "source": [
    "using System;\n",
    "using System.Collections.Generic;\n",
    "using System.Linq;\n",
    "using System.Text;\n",
    "using System.Threading.Tasks;\n",
    "\n",
    "namespace LISTING_1_47_Deadlocked_tasks\n",
    "{\n",
    "    class Program\n",
    "    {\n",
    "        static object lock1 = new object();\n",
    "        static object lock2 = new object();\n",
    "\n",
    "        static void Method1()\n",
    "        {\n",
    "            lock (lock1)\n",
    "            {\n",
    "                Console.WriteLine(\"Method 1 got lock 1\");\n",
    "                Console.WriteLine(\"Method 1 waiting for lock 2\");\n",
    "                lock (lock2)\n",
    "                {\n",
    "                    Console.WriteLine(\"Method 1 got lock 2\");\n",
    "                }\n",
    "                Console.WriteLine(\"Method 1 released lock 2\");\n",
    "            }\n",
    "            Console.WriteLine(\"Method 1 released lock 1\");\n",
    "        }\n",
    "\n",
    "        static void Method2()\n",
    "        {\n",
    "            lock (lock2)\n",
    "            {\n",
    "                Console.WriteLine(\"Method 2 got lock 2\");\n",
    "                Console.WriteLine(\"Method 2 waiting for lock 1\");\n",
    "                lock (lock1)\n",
    "                {\n",
    "                    Console.WriteLine(\"Method 2 got lock 1\");\n",
    "                }\n",
    "                Console.WriteLine(\"Method 2 released lock 1\");\n",
    "            }\n",
    "            Console.WriteLine(\"Method 2 released lock 2\");\n",
    "        }\n",
    "\n",
    "static public void Main(string[] args)\n",
    "{\n",
    "    Task t1 = Task.Run(() => Method1());\n",
    "    Task t2 = Task.Run(() => Method2());\n",
    "    Console.WriteLine(\"waiting for Task 2\");\n",
    "    t2.Wait();\n",
    "    Console.WriteLine(\"Tasks complete. Press any key to exit.\");\n",
    "    //Console.ReadKey();\n",
    "}\n",
    "    }\n",
    "}\n"
   ]
  },
  {
   "cell_type": "code",
   "execution_count": 2,
   "metadata": {},
   "outputs": [
    {
     "data": {
      "text/html": [
       "waiting for Task 2"
      ],
      "text/plain": [
       "waiting for Task 2"
      ]
     },
     "metadata": {},
     "output_type": "display_data"
    },
    {
     "data": {
      "text/html": [
       "Method 1 got lock 1"
      ],
      "text/plain": [
       "Method 1 got lock 1"
      ]
     },
     "metadata": {},
     "output_type": "display_data"
    },
    {
     "data": {
      "text/html": [
       "Method 1 waiting for lock 2"
      ],
      "text/plain": [
       "Method 1 waiting for lock 2"
      ]
     },
     "metadata": {},
     "output_type": "display_data"
    },
    {
     "data": {
      "text/html": [
       "Method 1 got lock 2"
      ],
      "text/plain": [
       "Method 1 got lock 2"
      ]
     },
     "metadata": {},
     "output_type": "display_data"
    },
    {
     "data": {
      "text/html": [
       "Method 1 released lock 2"
      ],
      "text/plain": [
       "Method 1 released lock 2"
      ]
     },
     "metadata": {},
     "output_type": "display_data"
    },
    {
     "data": {
      "text/html": [
       "Method 1 released lock 1"
      ],
      "text/plain": [
       "Method 1 released lock 1"
      ]
     },
     "metadata": {},
     "output_type": "display_data"
    },
    {
     "data": {
      "text/html": [
       "Method 2 got lock 2"
      ],
      "text/plain": [
       "Method 2 got lock 2"
      ]
     },
     "metadata": {},
     "output_type": "display_data"
    },
    {
     "data": {
      "text/html": [
       "Method 2 waiting for lock 1"
      ],
      "text/plain": [
       "Method 2 waiting for lock 1"
      ]
     },
     "metadata": {},
     "output_type": "display_data"
    },
    {
     "data": {
      "text/html": [
       "Method 2 got lock 1"
      ],
      "text/plain": [
       "Method 2 got lock 1"
      ]
     },
     "metadata": {},
     "output_type": "display_data"
    },
    {
     "data": {
      "text/html": [
       "Method 2 released lock 1"
      ],
      "text/plain": [
       "Method 2 released lock 1"
      ]
     },
     "metadata": {},
     "output_type": "display_data"
    },
    {
     "data": {
      "text/html": [
       "Method 2 released lock 2"
      ],
      "text/plain": [
       "Method 2 released lock 2"
      ]
     },
     "metadata": {},
     "output_type": "display_data"
    },
    {
     "data": {
      "text/html": [
       "Tasks complete. Press any key to exit."
      ],
      "text/plain": [
       "Tasks complete. Press any key to exit."
      ]
     },
     "metadata": {},
     "output_type": "display_data"
    }
   ],
   "source": [
    "LISTING_1_47_Deadlocked_tasks.Program.Main(new string[0]);"
   ]
  }
 ],
 "metadata": {
  "kernelspec": {
   "display_name": "C#",
   "language": "csharp",
   "name": "kernel-spec"
  },
  "language_info": {
   "file_extension": ".cs",
   "mimetype": "text/x-csharp",
   "name": "C#",
   "pygments_lexer": "c#",
   "version": "4.0.30319"
  }
 },
 "nbformat": 4,
 "nbformat_minor": 2
}

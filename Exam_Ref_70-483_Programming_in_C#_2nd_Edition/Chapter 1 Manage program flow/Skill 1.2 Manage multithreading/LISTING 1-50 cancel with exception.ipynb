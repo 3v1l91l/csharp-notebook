{
 "cells": [
  {
   "cell_type": "markdown",
   "metadata": {},
   "source": [
    "# Info"
   ]
  },
  {
   "cell_type": "markdown",
   "metadata": {},
   "source": [
    "This example is from\n",
    "* [github.com/ExamRef70-483/Sample-Code](https://github.com/ExamRef70-483/Sample-Code)\n",
    "* [LISTING 1-50 cancel with exception](https://github.com/ExamRef70-483/Sample-Code/blob/master/LISTING%201-50%E2%80%82cancel%20with%20exception/LISTING%201-50%E2%80%82cancel%20with%20exception/Program.cs)\n",
    "\n",
    "\n",
    "## Remember\n",
    "* Main() is not called automatically. Has to be called manual. Remember '**public**'\n",
    "* Console.ReadKey() should not be used.\n"
   ]
  },
  {
   "cell_type": "code",
   "execution_count": 1,
   "metadata": {},
   "outputs": [],
   "source": [
    "using System;\n",
    "using System.Threading;\n",
    "using System.Threading.Tasks;\n",
    "\n",
    "namespace LISTING_1_50_cancel_with_exception\n",
    "{\n",
    "    class Program\n",
    "    {\n",
    "        static void Clock(CancellationToken cancellationToken)\n",
    "        {\n",
    "            int tickCount = 0;\n",
    "\n",
    "            while (!cancellationToken.IsCancellationRequested &&\n",
    "                   tickCount < 20)\n",
    "            {\n",
    "                tickCount++;\n",
    "                Console.WriteLine(\"Tick\");\n",
    "                Thread.Sleep(500);\n",
    "            }\n",
    "\n",
    "            cancellationToken.ThrowIfCancellationRequested();\n",
    "        }\n",
    "\n",
    "        static public void Main(string[] args)\n",
    "        {\n",
    "            CancellationTokenSource cancellationTokenSource = new CancellationTokenSource();\n",
    "\n",
    "            Task clock = Task.Run(() => Clock(cancellationTokenSource.Token));\n",
    "\n",
    "            Console.WriteLine(\"Press any key to stop the clock\");\n",
    "\n",
    "            //Console.ReadKey();\n",
    "\n",
    "            if (clock.IsCompleted)\n",
    "            {\n",
    "                Console.WriteLine(\"Clock task completed\");\n",
    "            }\n",
    "            else\n",
    "            {\n",
    "                try\n",
    "                {\n",
    "                    cancellationTokenSource.Cancel();\n",
    "                    clock.Wait();\n",
    "                }\n",
    "                catch (AggregateException ex)\n",
    "                {\n",
    "                    Console.WriteLine(\"Clock stopped: {0}\", ex.InnerExceptions[0].ToString());\n",
    "                }\n",
    "            }\n",
    "            //Console.ReadKey();\n",
    "        }\n",
    "    }\n",
    "}\n"
   ]
  },
  {
   "cell_type": "code",
   "execution_count": 2,
   "metadata": {},
   "outputs": [
    {
     "data": {
      "text/html": [
       "Press any key to stop the clock"
      ],
      "text/plain": [
       "Press any key to stop the clock"
      ]
     },
     "metadata": {},
     "output_type": "display_data"
    },
    {
     "data": {
      "text/html": [
       "Tick"
      ],
      "text/plain": [
       "Tick"
      ]
     },
     "metadata": {},
     "output_type": "display_data"
    },
    {
     "data": {
      "text/html": [
       "Clock stopped: System.OperationCanceledException: The operation was canceled.\n",
       "  at System.Threading.CancellationToken.ThrowOperationCanceledException () [0x00015] in &lt;7b0d87324cab49bf96eac679025e77d1&gt;:0 \n",
       "  at System.Threading.CancellationToken.ThrowIfCancellationRequested () [0x00008] in &lt;7b0d87324cab49bf96eac679025e77d1&gt;:0 \n",
       "  at LISTING_1_50_cancel_with_exception.Program.Clock (System.Threading.CancellationToken cancellationToken) [0x00033] in &lt;211daadd8b724e2ca28641d88625e29c&gt;:0 \n",
       "  at LISTING_1_50_cancel_with_exception.Program+&lt;Main&gt;c__AnonStorey0.&lt;&gt;m__0 () [0x0000b] in &lt;211daadd8b724e2ca28641d88625e29c&gt;:0 \n",
       "  at System.Threading.Tasks.Task.InnerInvoke () [0x0000f] in &lt;7b0d87324cab49bf96eac679025e77d1&gt;:0 \n",
       "  at System.Threading.Tasks.Task.Execute () [0x00000] in &lt;7b0d87324cab49bf96eac679025e77d1&gt;:0 "
      ],
      "text/plain": [
       "Clock stopped: System.OperationCanceledException: The operation was canceled.\n",
       "  at System.Threading.CancellationToken.ThrowOperationCanceledException () [0x00015] in <7b0d87324cab49bf96eac679025e77d1>:0 \n",
       "  at System.Threading.CancellationToken.ThrowIfCancellationRequested () [0x00008] in <7b0d87324cab49bf96eac679025e77d1>:0 \n",
       "  at LISTING_1_50_cancel_with_exception.Program.Clock (System.Threading.CancellationToken cancellationToken) [0x00033] in <211daadd8b724e2ca28641d88625e29c>:0 \n",
       "  at LISTING_1_50_cancel_with_exception.Program+<Main>c__AnonStorey0.<>m__0 () [0x0000b] in <211daadd8b724e2ca28641d88625e29c>:0 \n",
       "  at System.Threading.Tasks.Task.InnerInvoke () [0x0000f] in <7b0d87324cab49bf96eac679025e77d1>:0 \n",
       "  at System.Threading.Tasks.Task.Execute () [0x00000] in <7b0d87324cab49bf96eac679025e77d1>:0 "
      ]
     },
     "metadata": {},
     "output_type": "display_data"
    }
   ],
   "source": [
    "LISTING_1_50_cancel_with_exception.Program.Main(new string[0]);"
   ]
  }
 ],
 "metadata": {
  "kernelspec": {
   "display_name": "C#",
   "language": "csharp",
   "name": "kernel-spec"
  },
  "language_info": {
   "file_extension": ".cs",
   "mimetype": "text/x-csharp",
   "name": "C#",
   "pygments_lexer": "c#",
   "version": "4.0.30319"
  }
 },
 "nbformat": 4,
 "nbformat_minor": 2
}

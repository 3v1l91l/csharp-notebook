{
 "cells": [
  {
   "cell_type": "markdown",
   "metadata": {},
   "source": [
    "# Info"
   ]
  },
  {
   "cell_type": "markdown",
   "metadata": {},
   "source": [
    "This example is from\n",
    "* [github.com/ExamRef70-483/Sample-Code](https://github.com/ExamRef70-483/Sample-Code)\n",
    "* [LISTING 1-50 cancel with exception](https://github.com/ExamRef70-483/Sample-Code/blob/master/LISTING%201-50%E2%80%82cancel%20with%20exception/LISTING%201-50%E2%80%82cancel%20with%20exception/Program.cs)\n",
    "\n",
    "\n",
    "## Remember\n",
    "* Main() is not called automatically. Has to be called manual. Remember '**public**'\n",
    "* Console.ReadKey() should not be used.\n"
   ]
  },
  {
   "cell_type": "code",
   "execution_count": null,
   "metadata": {},
   "outputs": [],
   "source": [
    "using System;\n",
    "using System.Threading;\n",
    "using System.Threading.Tasks;\n",
    "\n",
    "namespace LISTING_1_50_cancel_with_exception\n",
    "{\n",
    "    class Program\n",
    "    {\n",
    "        static void Clock(CancellationToken cancellationToken)\n",
    "        {\n",
    "            int tickCount = 0;\n",
    "\n",
    "            while (!cancellationToken.IsCancellationRequested &&\n",
    "                   tickCount < 20)\n",
    "            {\n",
    "                tickCount++;\n",
    "                Console.WriteLine(\"Tick\");\n",
    "                Thread.Sleep(500);\n",
    "            }\n",
    "\n",
    "            cancellationToken.ThrowIfCancellationRequested();\n",
    "        }\n",
    "\n",
    "        static public void Main(string[] args)\n",
    "        {\n",
    "            CancellationTokenSource cancellationTokenSource = new CancellationTokenSource();\n",
    "\n",
    "            Task clock = Task.Run(() => Clock(cancellationTokenSource.Token));\n",
    "\n",
    "            Console.WriteLine(\"Press any key to stop the clock\");\n",
    "\n",
    "            //Console.ReadKey();\n",
    "\n",
    "            if (clock.IsCompleted)\n",
    "            {\n",
    "                Console.WriteLine(\"Clock task completed\");\n",
    "            }\n",
    "            else\n",
    "            {\n",
    "                try\n",
    "                {\n",
    "                    cancellationTokenSource.Cancel();\n",
    "                    clock.Wait();\n",
    "                }\n",
    "                catch (AggregateException ex)\n",
    "                {\n",
    "                    Console.WriteLine(\"Clock stopped: {0}\", ex.InnerExceptions[0].ToString());\n",
    "                }\n",
    "            }\n",
    "            //Console.ReadKey();\n",
    "        }\n",
    "    }\n",
    "}\n"
   ]
  },
  {
   "cell_type": "code",
   "execution_count": null,
   "metadata": {},
   "outputs": [],
   "source": [
    "LISTING_1_50_cancel_with_exception.Program.Main(new string[0]);"
   ]
  }
 ],
 "metadata": {
  "kernelspec": {
   "display_name": "C#",
   "language": "csharp",
   "name": "kernel-spec"
  },
  "language_info": {
   "file_extension": ".cs",
   "mimetype": "text/x-csharp",
   "name": "C#",
   "pygments_lexer": "c#",
   "version": "4.0.30319"
  }
 },
 "nbformat": 4,
 "nbformat_minor": 2
}

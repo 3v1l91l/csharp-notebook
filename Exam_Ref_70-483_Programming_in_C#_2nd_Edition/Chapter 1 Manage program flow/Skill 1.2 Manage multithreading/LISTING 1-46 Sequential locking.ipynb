{
 "cells": [
  {
   "cell_type": "markdown",
   "metadata": {},
   "source": [
    "# Info"
   ]
  },
  {
   "cell_type": "markdown",
   "metadata": {},
   "source": [
    "This example is from\n",
    "* [github.com/ExamRef70-483/Sample-Code](https://github.com/ExamRef70-483/Sample-Code)\n",
    "* [LISTING 1-46 Sequential locking](https://github.com/ExamRef70-483/Sample-Code/blob/master/LISTING%201-46%E2%80%82Sequential%20locking/LISTING%201-46%E2%80%82Sequential%20locking/Program.cs)\n",
    "\n",
    "\n",
    "## Remember\n",
    "* Main() is not called automatically. Has to be called manual. Remember '**public**'\n",
    "* Console.ReadKey() should not be used.\n"
   ]
  },
  {
   "cell_type": "code",
   "execution_count": null,
   "metadata": {},
   "outputs": [],
   "source": [
    "using System;\n",
    "\n",
    "namespace LISTING_1_46_Sequential_locking\n",
    "{\n",
    "\n",
    "    class Program\n",
    "    {\n",
    "        static object lock1 = new object();\n",
    "        static object lock2 = new object();\n",
    "\n",
    "        static void Method1()\n",
    "        {\n",
    "            lock (lock1)\n",
    "            {\n",
    "                Console.WriteLine(\"Method 1 got lock 1\");\n",
    "                Console.WriteLine(\"Method 1 waiting for lock 2\");\n",
    "                lock (lock2)\n",
    "                {\n",
    "                    Console.WriteLine(\"Method 1 got lock 2\");\n",
    "                }\n",
    "                Console.WriteLine(\"Method 1 released lock 2\");\n",
    "            }\n",
    "            Console.WriteLine(\"Method 1 released lock 1\");\n",
    "        }\n",
    "\n",
    "        static void Method2()\n",
    "        {\n",
    "            lock (lock2)\n",
    "            {\n",
    "                Console.WriteLine(\"Method 2 got lock 2\");\n",
    "                Console.WriteLine(\"Method 2 waiting for lock 1\");\n",
    "                lock (lock1)\n",
    "                {\n",
    "                    Console.WriteLine(\"Method 2 got lock 1\");\n",
    "                }\n",
    "                Console.WriteLine(\"Method 2 released lock 1\");\n",
    "            }\n",
    "            Console.WriteLine(\"Method 2 released lock 2\");\n",
    "        }\n",
    "\n",
    "        static public void Main(string[] args)\n",
    "        {\n",
    "            Method1();\n",
    "            Method2();\n",
    "            Console.WriteLine(\"Methods complete. Press any key to exit.\");\n",
    "            //Console.ReadKey();\n",
    "        }\n",
    "    }\n",
    "}\n"
   ]
  },
  {
   "cell_type": "code",
   "execution_count": null,
   "metadata": {},
   "outputs": [],
   "source": [
    "LISTING_1_46_Sequential_locking.Program.Main(new string[0]);"
   ]
  }
 ],
 "metadata": {
  "kernelspec": {
   "display_name": "C#",
   "language": "csharp",
   "name": "kernel-spec"
  },
  "language_info": {
   "file_extension": ".cs",
   "mimetype": "text/x-csharp",
   "name": "C#",
   "pygments_lexer": "c#",
   "version": "4.0.30319"
  }
 },
 "nbformat": 4,
 "nbformat_minor": 2
}

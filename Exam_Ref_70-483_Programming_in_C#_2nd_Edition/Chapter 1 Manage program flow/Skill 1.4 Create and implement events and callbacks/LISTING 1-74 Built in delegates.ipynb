{
 "cells": [
  {
   "cell_type": "markdown",
   "metadata": {},
   "source": [
    "# Info"
   ]
  },
  {
   "cell_type": "markdown",
   "metadata": {},
   "source": [
    "This example is from\n",
    "* [github.com/ExamRef70-483/Sample-Code](https://github.com/ExamRef70-483/Sample-Code)\n",
    "* [LISTING 1-74 Built in delegates](https://github.com/ExamRef70-483/Sample-Code/blob/master/LISTING%201-74%E2%80%82Built%20in%20delegates/LISTING%201-74%E2%80%82Built%20in%20delegates/Program.cs)\n",
    "\n",
    "\n",
    "## Remember\n",
    "* Main() is not called automatically. Has to be called manual. Remember '**public**'\n",
    "* Console.ReadKey() should not be used.\n"
   ]
  },
  {
   "cell_type": "code",
   "execution_count": null,
   "metadata": {},
   "outputs": [],
   "source": [
    "using System;\n",
    "\n",
    "namespace LISTING_1_74_Built_in_delegates\n",
    "{\n",
    "    class Program\n",
    "    {\n",
    "        static Func<int, int, int> add = (a, b) => a + b;\n",
    "\n",
    "        static Action<string> logMessage = (message) => Console.WriteLine(message);\n",
    "\n",
    "        static Predicate<int> dividesByThree = (i) => i % 3 == 0;\n",
    "\n",
    "        static public void Main(string[] args)\n",
    "        {\n",
    "            Console.WriteLine(\"Add called for 2 + 2: {0}\", add(2, 2));\n",
    "            logMessage(\"Log message called\");\n",
    "            Console.WriteLine(\"Divide by three called for 9: {0}\", dividesByThree(9));\n",
    "            Console.WriteLine(\"Divide by three called for 10: {0}\", dividesByThree(10));\n",
    "            //Console.ReadKey();\n",
    "        }\n",
    "    }\n",
    "}\n"
   ]
  },
  {
   "cell_type": "code",
   "execution_count": null,
   "metadata": {},
   "outputs": [],
   "source": [
    "LISTING_1_74_Built_in_delegates.Program.Main(new string[0]);"
   ]
  }
 ],
 "metadata": {
  "kernelspec": {
   "display_name": "C#",
   "language": "csharp",
   "name": "kernel-spec"
  },
  "language_info": {
   "file_extension": ".cs",
   "mimetype": "text/x-csharp",
   "name": "C#",
   "pygments_lexer": "c#",
   "version": "4.0.30319"
  }
 },
 "nbformat": 4,
 "nbformat_minor": 2
}

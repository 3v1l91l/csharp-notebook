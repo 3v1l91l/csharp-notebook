{
 "cells": [
  {
   "cell_type": "markdown",
   "metadata": {},
   "source": [
    "# Info"
   ]
  },
  {
   "cell_type": "markdown",
   "metadata": {},
   "source": [
    "This example is from\n",
    "* [github.com/ExamRef70-483/Sample-Code](https://github.com/ExamRef70-483/Sample-Code)\n",
    "* [LISTING 1-71 Create delegates](https://github.com/ExamRef70-483/Sample-Code/blob/master/LISTING%201-71%E2%80%82Create%20delegates/LISTING%201-71%E2%80%82Create%20delegates/Program.cs)\n",
    "\n",
    "\n",
    "## Remember\n",
    "* Main() is not called automatically. Has to be called manual. Remember '**public**'\n",
    "* Console.ReadKey() should not be used.\n"
   ]
  },
  {
   "cell_type": "code",
   "execution_count": 1,
   "metadata": {},
   "outputs": [],
   "source": [
    "using System;\n",
    "\n",
    "namespace LISTING_1_71_Create_delegates\n",
    "{\n",
    "    class Program\n",
    "    {\n",
    "        delegate int IntOperation(int a, int b);\n",
    "\n",
    "        static int Add(int a, int b)\n",
    "        {\n",
    "            Console.WriteLine(\"Add called\");\n",
    "            return a + b;\n",
    "        }\n",
    "\n",
    "        static int Subtract(int a, int b)\n",
    "        {\n",
    "            Console.WriteLine(\"Subtract called\");\n",
    "            return a - b;\n",
    "        }\n",
    "\n",
    "        static public void Main(string[] args)\n",
    "        {\n",
    "            IntOperation op;\n",
    "\n",
    "            // Explicitly create the delegate\n",
    "            op = new IntOperation(Add);\n",
    "\n",
    "            Console.WriteLine(op(2, 2));\n",
    "\n",
    "            // Delegate is created automatically\n",
    "            // from method\n",
    "\n",
    "            op = Subtract;\n",
    "            Console.WriteLine(op(2, 2));\n",
    "\n",
    "            //Console.ReadKey();\n",
    "        }\n",
    "    }\n",
    "}\n"
   ]
  },
  {
   "cell_type": "code",
   "execution_count": 2,
   "metadata": {},
   "outputs": [
    {
     "data": {
      "text/html": [
       "Add called"
      ],
      "text/plain": [
       "Add called"
      ]
     },
     "metadata": {},
     "output_type": "display_data"
    },
    {
     "data": {
      "text/html": [
       "4"
      ],
      "text/plain": [
       "4"
      ]
     },
     "metadata": {},
     "output_type": "display_data"
    },
    {
     "data": {
      "text/html": [
       "Subtract called"
      ],
      "text/plain": [
       "Subtract called"
      ]
     },
     "metadata": {},
     "output_type": "display_data"
    },
    {
     "data": {
      "text/html": [
       "0"
      ],
      "text/plain": [
       "0"
      ]
     },
     "metadata": {},
     "output_type": "display_data"
    }
   ],
   "source": [
    "LISTING_1_71_Create_delegates.Program.Main(new string[0]);"
   ]
  }
 ],
 "metadata": {
  "kernelspec": {
   "display_name": "C#",
   "language": "csharp",
   "name": "kernel-spec"
  },
  "language_info": {
   "file_extension": ".cs",
   "mimetype": "text/x-csharp",
   "name": "C#",
   "pygments_lexer": "c#",
   "version": "4.0.30319"
  }
 },
 "nbformat": 4,
 "nbformat_minor": 2
}

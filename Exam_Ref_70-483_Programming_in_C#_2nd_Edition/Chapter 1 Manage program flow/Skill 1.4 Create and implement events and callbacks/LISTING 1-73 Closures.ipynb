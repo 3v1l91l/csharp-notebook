{
 "cells": [
  {
   "cell_type": "markdown",
   "metadata": {},
   "source": [
    "# Info"
   ]
  },
  {
   "cell_type": "markdown",
   "metadata": {},
   "source": [
    "This example is from\n",
    "* [github.com/ExamRef70-483/Sample-Code](https://github.com/ExamRef70-483/Sample-Code)\n",
    "* [LISTING 1-73 Closures](https://github.com/ExamRef70-483/Sample-Code/blob/master/LISTING%201-73%E2%80%82Closures/LISTING%201-73%E2%80%82Closures/Program.cs)\n",
    "\n",
    "\n",
    "## Remember\n",
    "* Main() is not called automatically. Has to be called manual. Remember '**public**'\n",
    "* Console.ReadKey() should not be used.\n"
   ]
  },
  {
   "cell_type": "code",
   "execution_count": null,
   "metadata": {},
   "outputs": [],
   "source": [
    "using System;\n",
    "\n",
    "namespace LISTING_1_73_Closures\n",
    "{\n",
    "    class Program\n",
    "    {\n",
    "        delegate int GetValue();\n",
    "\n",
    "        static GetValue getLocalInt;\n",
    "\n",
    "        static void SetLocalInt()\n",
    "        {\n",
    "            // Local variable set to 99\n",
    "            int localInt = 99;\n",
    "\n",
    "            // Set delegate getLocalInt to a lambda function that\n",
    "            // returns the value of localInt\n",
    "            getLocalInt = () => localInt;\n",
    "        }\n",
    "\n",
    "        static public void Main(string[] args)\n",
    "        {\n",
    "            SetLocalInt();\n",
    "            Console.WriteLine(\"Value of localInt {0}\", getLocalInt());\n",
    "            //Console.ReadKey();\n",
    "        }\n",
    "    }\n",
    "}\n"
   ]
  },
  {
   "cell_type": "code",
   "execution_count": null,
   "metadata": {},
   "outputs": [],
   "source": [
    "LISTING_1_73_Closures.Program.Main(new string[0]);"
   ]
  }
 ],
 "metadata": {
  "kernelspec": {
   "display_name": "C#",
   "language": "csharp",
   "name": "kernel-spec"
  },
  "language_info": {
   "file_extension": ".cs",
   "mimetype": "text/x-csharp",
   "name": "C#",
   "pygments_lexer": "c#",
   "version": "4.0.30319"
  }
 },
 "nbformat": 4,
 "nbformat_minor": 2
}

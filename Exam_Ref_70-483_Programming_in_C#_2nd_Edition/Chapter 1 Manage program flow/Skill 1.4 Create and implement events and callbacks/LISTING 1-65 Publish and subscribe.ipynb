{
 "cells": [
  {
   "cell_type": "markdown",
   "metadata": {},
   "source": [
    "# Info"
   ]
  },
  {
   "cell_type": "markdown",
   "metadata": {},
   "source": [
    "This example is from\n",
    "* [github.com/ExamRef70-483/Sample-Code](https://github.com/ExamRef70-483/Sample-Code)\n",
    "* [LISTING 1-65 Publish and subscribe](https://github.com/ExamRef70-483/Sample-Code/blob/master/LISTING%201-65%E2%80%82Publish%20and%20subscribe/LISTING%201-65%E2%80%82Publish%20and%20subscribe/Program.cs)\n",
    "\n",
    "\n",
    "## Remember\n",
    "* Main() is not called automatically. Has to be called manual. Remember '**public**'\n",
    "* Console.ReadKey() should not be used.\n"
   ]
  },
  {
   "cell_type": "code",
   "execution_count": null,
   "metadata": {},
   "outputs": [],
   "source": [
    "using System;\n",
    "\n",
    "namespace LISTING_1_65_Publish_and_subscribe\n",
    "{\n",
    "    class Alarm\n",
    "    {\n",
    "        // Delegate for the alarm event\n",
    "        public Action OnAlarmRaised { get; set; }\n",
    "\n",
    "        // Called to raise an alarm\n",
    "        public void RaiseAlarm()\n",
    "        {\n",
    "            // Only raise the alarm if someone has\n",
    "            // subscribed.\n",
    "            if (OnAlarmRaised != null)\n",
    "            {\n",
    "                OnAlarmRaised();\n",
    "            }\n",
    "        }\n",
    "    }\n",
    "\n",
    "    class Program\n",
    "    {\n",
    "        // Method that must run when the alarm is raised\n",
    "        static void AlarmListener1()\n",
    "        {\n",
    "            Console.WriteLine(\"Alarm listener 1 \");\n",
    "        }\n",
    "\n",
    "        // Method that must run when the alarm is raised\n",
    "        static void AlarmListener2()\n",
    "        {\n",
    "            Console.WriteLine(\"Alarm listener 2 \");\n",
    "        }\n",
    "\n",
    "        static public void Main(string[] args)\n",
    "        {\n",
    "            // Create a new alarm\n",
    "            Alarm alarm = new Alarm();\n",
    "\n",
    "            // Connect the two listener methods\n",
    "            alarm.OnAlarmRaised += AlarmListener1;\n",
    "            alarm.OnAlarmRaised += AlarmListener2;\n",
    "\n",
    "            alarm.RaiseAlarm();\n",
    "\n",
    "            Console.WriteLine(\"Alarm raised\");\n",
    "            //Console.ReadKey();\n",
    "        }\n",
    "    }\n",
    "}\n"
   ]
  },
  {
   "cell_type": "code",
   "execution_count": null,
   "metadata": {},
   "outputs": [],
   "source": [
    "LISTING_1_65_Publish_and_subscribe.Program.Main(new string[0]);"
   ]
  }
 ],
 "metadata": {
  "kernelspec": {
   "display_name": "C#",
   "language": "csharp",
   "name": "kernel-spec"
  },
  "language_info": {
   "file_extension": ".cs",
   "mimetype": "text/x-csharp",
   "name": "C#",
   "pygments_lexer": "c#",
   "version": "4.0.30319"
  }
 },
 "nbformat": 4,
 "nbformat_minor": 2
}

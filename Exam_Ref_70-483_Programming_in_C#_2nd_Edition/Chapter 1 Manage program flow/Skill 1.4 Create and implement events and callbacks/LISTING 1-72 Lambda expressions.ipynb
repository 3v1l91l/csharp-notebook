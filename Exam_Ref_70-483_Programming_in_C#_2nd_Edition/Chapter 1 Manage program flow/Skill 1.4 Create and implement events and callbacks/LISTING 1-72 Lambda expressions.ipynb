{
 "cells": [
  {
   "cell_type": "markdown",
   "metadata": {},
   "source": [
    "# Info"
   ]
  },
  {
   "cell_type": "markdown",
   "metadata": {},
   "source": [
    "This example is from\n",
    "* [github.com/ExamRef70-483/Sample-Code](https://github.com/ExamRef70-483/Sample-Code)\n",
    "* [LISTING 1-72 Lambda expressions](https://github.com/ExamRef70-483/Sample-Code/blob/master/LISTING%201-72%E2%80%82Lambda%20expressions/LISTING%201-72%E2%80%82Lambda%20expressions/Program.cs)\n",
    "\n",
    "\n",
    "## Remember\n",
    "* Main() is not called automatically. Has to be called manual. Remember '**public**'\n",
    "* Console.ReadKey() should not be used.\n"
   ]
  },
  {
   "cell_type": "code",
   "execution_count": null,
   "metadata": {},
   "outputs": [],
   "source": [
    "using System;\n",
    "\n",
    "namespace LISTING_1_72_Lambda_expressions\n",
    "{\n",
    "    class Program\n",
    "    {\n",
    "        delegate int IntOperation(int a, int b);\n",
    "\n",
    "        static IntOperation add = (a, b) => a + b;\n",
    "\n",
    "        delegate int op(int i);\n",
    "\n",
    "        static op square = i => i * i;\n",
    "\n",
    "        static public void Main(string[] args)\n",
    "        {\n",
    "            Console.WriteLine(\"Calling add {0}\", add(2, 2));\n",
    "            Console.WriteLine(\"Calling square {0}\", square(2));\n",
    "\n",
    "            add = (a, b) =>\n",
    "            {\n",
    "                Console.WriteLine(\"Add called\");\n",
    "                return a + b;\n",
    "            };\n",
    "\n",
    "            //Console.ReadKey();\n",
    "        }\n",
    "    }\n",
    "}\n"
   ]
  },
  {
   "cell_type": "code",
   "execution_count": null,
   "metadata": {},
   "outputs": [],
   "source": [
    "LISTING_1_72_Lambda_expressions.Program.Main(new string[0]);"
   ]
  }
 ],
 "metadata": {
  "kernelspec": {
   "display_name": "C#",
   "language": "csharp",
   "name": "kernel-spec"
  },
  "language_info": {
   "file_extension": ".cs",
   "mimetype": "text/x-csharp",
   "name": "C#",
   "pygments_lexer": "c#",
   "version": "4.0.30319"
  }
 },
 "nbformat": 4,
 "nbformat_minor": 2
}

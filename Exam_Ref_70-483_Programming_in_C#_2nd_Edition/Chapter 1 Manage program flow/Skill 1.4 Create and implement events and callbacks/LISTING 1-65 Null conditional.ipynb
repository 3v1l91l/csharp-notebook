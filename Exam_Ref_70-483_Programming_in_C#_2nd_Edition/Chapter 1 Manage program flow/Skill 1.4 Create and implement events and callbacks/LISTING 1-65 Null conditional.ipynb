{
 "cells": [
  {
   "cell_type": "markdown",
   "metadata": {},
   "source": [
    "# Info"
   ]
  },
  {
   "cell_type": "markdown",
   "metadata": {},
   "source": [
    "This example is from\n",
    "* [github.com/ExamRef70-483/Sample-Code](https://github.com/ExamRef70-483/Sample-Code)\n",
    "* [LISTING 1-65 Null conditional](https://github.com/ExamRef70-483/Sample-Code/blob/master/LISTING%201-65%E2%80%82Null%20conditional/LISTING%201-65%E2%80%82Null%20conditional/Program.cs)\n",
    "\n",
    "\n",
    "## Remember\n",
    "* Main() is not called automatically. Has to be called manual. Remember '**public**'\n",
    "* Console.ReadKey() should not be used.\n"
   ]
  },
  {
   "cell_type": "code",
   "execution_count": null,
   "metadata": {},
   "outputs": [],
   "source": [
    "using System;\n",
    "using System.Collections.Generic;\n",
    "using System.Linq;\n",
    "using System.Text;\n",
    "using System.Threading.Tasks;\n",
    "\n",
    "namespace LISTING_1_65_Null_conditional\n",
    "{\n",
    "    class Alarm\n",
    "    {\n",
    "        // Delegate for the alarm event\n",
    "        public Action OnAlarmRaised { get; set; }\n",
    "\n",
    "        // Called to raise an alarm\n",
    "        public void RaiseAlarm()\n",
    "        {\n",
    "            // Only raise the alarm if someone has\n",
    "            // subscribed.\n",
    "            OnAlarmRaised?.Invoke();\n",
    "        }\n",
    "    }\n",
    "\n",
    "    class Program\n",
    "    {\n",
    "        // Method that must run when the alarm is raised\n",
    "        static void AlarmListener1()\n",
    "        {\n",
    "            Console.WriteLine(\"Alarm listener 1 called\");\n",
    "        }\n",
    "\n",
    "        // Method that must run when the alarm is raised\n",
    "        static void AlarmListener2()\n",
    "        {\n",
    "            Console.WriteLine(\"Alarm listener 2 called\");\n",
    "        }\n",
    "\n",
    "        static public void Main(string[] args)\n",
    "        {\n",
    "            // Create a new alarm\n",
    "            Alarm alarm = new Alarm();\n",
    "\n",
    "            // Connect the two listener methods\n",
    "            alarm.OnAlarmRaised += AlarmListener1;\n",
    "            alarm.OnAlarmRaised += AlarmListener2;\n",
    "\n",
    "            alarm.RaiseAlarm();\n",
    "            Console.WriteLine(\"Alarm raised\");\n",
    "            //Console.ReadKey();\n",
    "        }\n",
    "    }\n",
    "}\n"
   ]
  },
  {
   "cell_type": "code",
   "execution_count": null,
   "metadata": {},
   "outputs": [],
   "source": [
    "LISTING_1_65_Null_conditional.Program.Main(new string[0]);"
   ]
  }
 ],
 "metadata": {
  "kernelspec": {
   "display_name": "C#",
   "language": "csharp",
   "name": "kernel-spec"
  },
  "language_info": {
   "file_extension": ".cs",
   "mimetype": "text/x-csharp",
   "name": "C#",
   "pygments_lexer": "c#",
   "version": "4.0.30319"
  }
 },
 "nbformat": 4,
 "nbformat_minor": 2
}

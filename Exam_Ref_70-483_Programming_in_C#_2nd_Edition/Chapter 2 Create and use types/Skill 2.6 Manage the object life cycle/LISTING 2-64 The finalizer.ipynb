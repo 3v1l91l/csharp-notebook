{
 "cells": [
  {
   "cell_type": "markdown",
   "metadata": {},
   "source": [
    "# Info"
   ]
  },
  {
   "cell_type": "markdown",
   "metadata": {},
   "source": [
    "This example is from\n",
    "* [github.com/ExamRef70-483/Sample-Code](https://github.com/ExamRef70-483/Sample-Code)\n",
    "* [LISTING 2-64 The finalizer](https://github.com/ExamRef70-483/Sample-Code/blob/master/LISTING%202-64%E2%80%82The%20finalizer/LISTING%202-64%E2%80%82The%20finalizer/Program.cs)\n",
    "\n",
    "\n",
    "## Remember\n",
    "* Main() is not called automatically. Has to be called manual. Remember '**public**'\n",
    "* Console.ReadKey() should not be used.\n"
   ]
  },
  {
   "cell_type": "code",
   "execution_count": null,
   "metadata": {},
   "outputs": [],
   "source": [
    "using System;\n",
    "\n",
    "namespace LISTING_2_64_The_finalizer\n",
    "{\n",
    "    public class Person\n",
    "    {\n",
    "        long[] personArray = new long[1000000];\n",
    "\n",
    "        ~Person()\n",
    "        {\n",
    "            // This is where the person would be finalized\n",
    "            Console.WriteLine(\"Finalizer called\");\n",
    "\n",
    "            // This will \"bring the object back from the dead\"\n",
    "            // by creating a new refernce to the object from the\n",
    "            // program\n",
    "            //Program.zombie = this;\n",
    "\n",
    "            // This will break the garbage collection process\n",
    "            // as it slows it down so that it can't complete\n",
    "            // faster than objects are being created\n",
    "            //System.Threading.Thread.Sleep(100);\n",
    "        }\n",
    "    }\n",
    "\n",
    "    public class Program\n",
    "    {\n",
    "        public static Person zombie;\n",
    "\n",
    "        static public void Main(string[] args)\n",
    "        {\n",
    "            for (long i = 0; i < 100000000000; i++)\n",
    "            {\n",
    "                Person p = new Person();\n",
    "                System.Threading.Thread.Sleep(3);\n",
    "            }\n",
    "\n",
    "            //Console.ReadKey();\n",
    "        }\n",
    "    }\n",
    "}\n"
   ]
  },
  {
   "cell_type": "code",
   "execution_count": null,
   "metadata": {},
   "outputs": [],
   "source": [
    "LISTING_2_64_The_finalizer.Program.Main(new string[0]);"
   ]
  }
 ],
 "metadata": {
  "kernelspec": {
   "display_name": "C#",
   "language": "csharp",
   "name": "kernel-spec"
  },
  "language_info": {
   "file_extension": ".cs",
   "mimetype": "text/x-csharp",
   "name": "C#",
   "pygments_lexer": "c#",
   "version": "4.0.30319"
  }
 },
 "nbformat": 4,
 "nbformat_minor": 2
}

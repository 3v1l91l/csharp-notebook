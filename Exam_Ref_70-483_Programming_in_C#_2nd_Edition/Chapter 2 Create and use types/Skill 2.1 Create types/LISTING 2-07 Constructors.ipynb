{
 "cells": [
  {
   "cell_type": "markdown",
   "metadata": {},
   "source": [
    "# Info"
   ]
  },
  {
   "cell_type": "markdown",
   "metadata": {},
   "source": [
    "This example is from\n",
    "* [github.com/ExamRef70-483/Sample-Code](https://github.com/ExamRef70-483/Sample-Code)\n",
    "* [LISTING 2-7 Constructors](https://github.com/ExamRef70-483/Sample-Code/blob/master/LISTING%202-7%E2%80%82Constructors/LISTING%202-7%E2%80%82Constructors/Program.cs)\n",
    "\n",
    "\n",
    "## Remember\n",
    "* Main() is not called automatically. Has to be called manual. Remember '**public**'\n",
    "* Console.ReadKey() should not be used.\n"
   ]
  },
  {
   "cell_type": "code",
   "execution_count": 1,
   "metadata": {},
   "outputs": [],
   "source": [
    "using System;\n",
    "\n",
    "namespace LISTING_2_7_Constructors\n",
    "{\n",
    "    class Alien\n",
    "    {\n",
    "        public int X;\n",
    "        public int Y;\n",
    "        public int Lives;\n",
    "\n",
    "        public Alien(int x, int y)\n",
    "        {\n",
    "            if (x < 0 || y < 0)\n",
    "                throw new ArgumentOutOfRangeException(\"Invalid position\");\n",
    "\n",
    "            X = x;\n",
    "            Y = y;\n",
    "            Lives = 3;\n",
    "        }\n",
    "\n",
    "        public override string ToString()\n",
    "        {\n",
    "            return string.Format(\"X: {0} Y: {1} Lives: {2}\", X, Y, Lives);\n",
    "        }\n",
    "    }\n",
    "\n",
    "    class Program\n",
    "    {\n",
    "        static public void Main(string[] args)\n",
    "        {\n",
    "            Alien x = new Alien(100, 100);\n",
    "            Console.WriteLine(\"x {0}\", x);\n",
    "\n",
    "            //Console.ReadKey();\n",
    "        }\n",
    "    }\n",
    "}\n"
   ]
  },
  {
   "cell_type": "code",
   "execution_count": 2,
   "metadata": {},
   "outputs": [
    {
     "data": {
      "text/html": [
       "x X: 100 Y: 100 Lives: 3"
      ],
      "text/plain": [
       "x X: 100 Y: 100 Lives: 3"
      ]
     },
     "metadata": {},
     "output_type": "display_data"
    }
   ],
   "source": [
    "LISTING_2_7_Constructors.Program.Main(new string[0]);"
   ]
  }
 ],
 "metadata": {
  "kernelspec": {
   "display_name": "C#",
   "language": "csharp",
   "name": "kernel-spec"
  },
  "language_info": {
   "file_extension": ".cs",
   "mimetype": "text/x-csharp",
   "name": "C#",
   "pygments_lexer": "c#",
   "version": "4.0.30319"
  }
 },
 "nbformat": 4,
 "nbformat_minor": 2
}

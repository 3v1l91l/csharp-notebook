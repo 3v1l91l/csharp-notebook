{
 "cells": [
  {
   "cell_type": "markdown",
   "metadata": {},
   "source": [
    "# Info"
   ]
  },
  {
   "cell_type": "markdown",
   "metadata": {},
   "source": [
    "This example is from\n",
    "* [github.com/ExamRef70-483/Sample-Code](https://github.com/ExamRef70-483/Sample-Code)\n",
    "* [LISTING 2-3 Creating a structure](https://github.com/ExamRef70-483/Sample-Code/blob/master/LISTING%202-3%E2%80%82Creating%20a%20structure/LISTING%202-3%E2%80%82Creating%20a%20structure/Program.cs)\n",
    "\n",
    "\n",
    "## Remember\n",
    "* Main() is not called automatically. Has to be called manual. Remember '**public**'\n",
    "* Console.ReadKey() should not be used.\n"
   ]
  },
  {
   "cell_type": "code",
   "execution_count": 1,
   "metadata": {},
   "outputs": [],
   "source": [
    "using System;\n",
    "\n",
    "namespace LISTING_2_3_Creating_a_structure\n",
    "{\n",
    "    struct Alien\n",
    "    {\n",
    "        public int X;\n",
    "        public int Y;\n",
    "        public int Lives;\n",
    "\n",
    "        public Alien(int x, int y)\n",
    "        {\n",
    "            X = x;\n",
    "            Y = y;\n",
    "            Lives = 3;\n",
    "        }\n",
    "\n",
    "        public override string ToString()\n",
    "        {\n",
    "            return string.Format(\"X: {0} Y: {1} Lives: {2}\", X, Y, Lives);\n",
    "        }\n",
    "    }\n",
    "\n",
    "    class Program\n",
    "    {\n",
    "        static public void Main(string[] args)\n",
    "        {\n",
    "            Alien a;\n",
    "            a.X = 50;\n",
    "            a.Y = 50;\n",
    "            a.Lives = 3;\n",
    "            Console.WriteLine(\"a {0}\", a.ToString());\n",
    "\n",
    "            Alien x = new Alien(100, 100);\n",
    "            Console.WriteLine(\"x {0}\", x.ToString());\n",
    "\n",
    "            Alien[] swarm = new Alien[100];\n",
    "            Console.WriteLine(\"swarm [0] {0}\", swarm[0].ToString());\n",
    "\n",
    "            //Console.ReadKey();\n",
    "        }\n",
    "    }\n",
    "}\n"
   ]
  },
  {
   "cell_type": "code",
   "execution_count": 2,
   "metadata": {},
   "outputs": [
    {
     "data": {
      "text/html": [
       "a X: 50 Y: 50 Lives: 3"
      ],
      "text/plain": [
       "a X: 50 Y: 50 Lives: 3"
      ]
     },
     "metadata": {},
     "output_type": "display_data"
    },
    {
     "data": {
      "text/html": [
       "x X: 100 Y: 100 Lives: 3"
      ],
      "text/plain": [
       "x X: 100 Y: 100 Lives: 3"
      ]
     },
     "metadata": {},
     "output_type": "display_data"
    },
    {
     "data": {
      "text/html": [
       "swarm [0] X: 0 Y: 0 Lives: 0"
      ],
      "text/plain": [
       "swarm [0] X: 0 Y: 0 Lives: 0"
      ]
     },
     "metadata": {},
     "output_type": "display_data"
    }
   ],
   "source": [
    "LISTING_2_3_Creating_a_structure.Program.Main(new string[0]);"
   ]
  }
 ],
 "metadata": {
  "kernelspec": {
   "display_name": "C#",
   "language": "csharp",
   "name": "kernel-spec"
  },
  "language_info": {
   "file_extension": ".cs",
   "mimetype": "text/x-csharp",
   "name": "C#",
   "pygments_lexer": "c#",
   "version": "4.0.30319"
  }
 },
 "nbformat": 4,
 "nbformat_minor": 2
}

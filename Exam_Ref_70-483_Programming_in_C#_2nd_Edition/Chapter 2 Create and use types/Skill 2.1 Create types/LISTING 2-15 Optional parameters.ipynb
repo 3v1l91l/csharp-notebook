{
 "cells": [
  {
   "cell_type": "markdown",
   "metadata": {},
   "source": [
    "# Info"
   ]
  },
  {
   "cell_type": "markdown",
   "metadata": {},
   "source": [
    "This example is from\n",
    "* [github.com/ExamRef70-483/Sample-Code](https://github.com/ExamRef70-483/Sample-Code)\n",
    "* [LISTING 2-15 Optional parameters](https://github.com/ExamRef70-483/Sample-Code/blob/master/LISTING%202-15%E2%80%82Optional%20parameters/LISTING%202-15%E2%80%82Optional%20parameters/Program.cs)\n",
    "\n",
    "\n",
    "## Remember\n",
    "* Main() is not called automatically. Has to be called manual. Remember '**public**'\n",
    "* Console.ReadKey() should not be used.\n"
   ]
  },
  {
   "cell_type": "code",
   "execution_count": null,
   "metadata": {},
   "outputs": [],
   "source": [
    "using System;\n",
    "using System.Collections.Generic;\n",
    "using System.Linq;\n",
    "using System.Text;\n",
    "using System.Threading.Tasks;\n",
    "\n",
    "namespace LISTING_2_15_Optional_parameters\n",
    "{\n",
    "    class Program\n",
    "    {\n",
    "        static int ReadValue(\n",
    "            int low,    // lowest allowed value\n",
    "            int high,    // highest allowed value\n",
    "            string prompt=\"\" // prompt for the user - optionally empty\n",
    "            )\n",
    "        {\n",
    "            while (true)\n",
    "            {\n",
    "                Console.Write(prompt);\n",
    "\n",
    "                int number;\n",
    "\n",
    "                if (!int.TryParse(Console.ReadLine(), out number))\n",
    "                {\n",
    "                    Console.WriteLine(\"Invalid number text\");\n",
    "                    continue;\n",
    "                }\n",
    "\n",
    "                if (number < low || number > high)\n",
    "                {\n",
    "                    Console.WriteLine(\"Number should be less than {0} and greater than {1}\", high, low);\n",
    "                    continue;\n",
    "                }\n",
    "                return number;\n",
    "            }\n",
    "        }\n",
    "\n",
    "        static public void Main(string[] args)\n",
    "        {\n",
    "            int age = ReadValue(low: 1, high: 100);\n",
    "            Console.WriteLine(\"You entered: {0}\", age);\n",
    "            //Console.ReadKey();\n",
    "        }\n",
    "    }\n",
    "}\n"
   ]
  },
  {
   "cell_type": "code",
   "execution_count": null,
   "metadata": {},
   "outputs": [],
   "source": [
    "LISTING_2_15_Optional_parameters.Program.Main(new string[0]);"
   ]
  }
 ],
 "metadata": {
  "kernelspec": {
   "display_name": "C#",
   "language": "csharp",
   "name": "kernel-spec"
  },
  "language_info": {
   "file_extension": ".cs",
   "mimetype": "text/x-csharp",
   "name": "C#",
   "pygments_lexer": "c#",
   "version": "4.0.30319"
  }
 },
 "nbformat": 4,
 "nbformat_minor": 2
}

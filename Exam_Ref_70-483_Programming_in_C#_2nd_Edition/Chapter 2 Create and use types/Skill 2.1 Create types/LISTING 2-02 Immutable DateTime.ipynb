{
 "cells": [
  {
   "cell_type": "markdown",
   "metadata": {},
   "source": [
    "# Info"
   ]
  },
  {
   "cell_type": "markdown",
   "metadata": {},
   "source": [
    "This example is from\n",
    "* [github.com/ExamRef70-483/Sample-Code](https://github.com/ExamRef70-483/Sample-Code)\n",
    "* [LISTING 2-2 Immutable DateTime](https://github.com/ExamRef70-483/Sample-Code/blob/master/LISTING%202-2%E2%80%82Immutable%20DateTime/LISTING%202-2%E2%80%82Immutable%20DateTime/Program.cs)\n",
    "\n",
    "\n",
    "## Remember\n",
    "* Main() is not called automatically. Has to be called manual. Remember '**public**'\n",
    "* Console.ReadKey() should not be used.\n"
   ]
  },
  {
   "cell_type": "code",
   "execution_count": null,
   "metadata": {},
   "outputs": [],
   "source": [
    "using System;\n",
    "using System.Collections.Generic;\n",
    "using System.Linq;\n",
    "using System.Text;\n",
    "using System.Threading.Tasks;\n",
    "\n",
    "namespace LISTING_2_2_Immutable_DateTime\n",
    "{\n",
    "    class Program\n",
    "    {\n",
    "        static public void Main(string[] args)\n",
    "        {\n",
    "            // Create a DateTime for today\n",
    "            DateTime date = DateTime.Now;\n",
    "\n",
    "            // Move the date on to tomorrow\n",
    "            date = date.AddDays(1);\n",
    "\n",
    "            Console.WriteLine(date);\n",
    "\n",
    "            //Console.ReadKey();\n",
    "        }\n",
    "    }\n",
    "}\n"
   ]
  },
  {
   "cell_type": "code",
   "execution_count": null,
   "metadata": {},
   "outputs": [],
   "source": [
    "LISTING_2_2_Immutable_DateTime.Program.Main(new string[0]);"
   ]
  }
 ],
 "metadata": {
  "kernelspec": {
   "display_name": "C#",
   "language": "csharp",
   "name": "kernel-spec"
  },
  "language_info": {
   "file_extension": ".cs",
   "mimetype": "text/x-csharp",
   "name": "C#",
   "pygments_lexer": "c#",
   "version": "4.0.30319"
  }
 },
 "nbformat": 4,
 "nbformat_minor": 2
}

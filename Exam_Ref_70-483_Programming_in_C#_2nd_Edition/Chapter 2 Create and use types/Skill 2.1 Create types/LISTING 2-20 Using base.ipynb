{
 "cells": [
  {
   "cell_type": "markdown",
   "metadata": {},
   "source": [
    "# Info"
   ]
  },
  {
   "cell_type": "markdown",
   "metadata": {},
   "source": [
    "This example is from\n",
    "* [github.com/ExamRef70-483/Sample-Code](https://github.com/ExamRef70-483/Sample-Code)\n",
    "* [LISTING 2-20 Using base](https://github.com/ExamRef70-483/Sample-Code/blob/master/LISTING%202-20%E2%80%82Using%20base/LISTING%202-20%E2%80%82Using%20base/Program.cs)\n",
    "\n",
    "\n",
    "## Remember\n",
    "* Main() is not called automatically. Has to be called manual. Remember '**public**'\n",
    "* Console.ReadKey() should not be used.\n"
   ]
  },
  {
   "cell_type": "code",
   "execution_count": null,
   "metadata": {},
   "outputs": [],
   "source": [
    "using System;\n",
    "using System.Collections.Generic;\n",
    "using System.Linq;\n",
    "using System.Text;\n",
    "using System.Threading.Tasks;\n",
    "\n",
    "namespace LISTING_2_20_Using_base\n",
    "{\n",
    "    class Document\n",
    "    {\n",
    "        public void GetDate()\n",
    "        {\n",
    "            Console.WriteLine(\"Hello from GetDate in Document\");\n",
    "        }\n",
    "\n",
    "        public virtual void DoPrint()\n",
    "        {\n",
    "            Console.WriteLine(\"Hello from DoPrint in Document\");\n",
    "        }\n",
    "    }\n",
    "\n",
    "    class Invoice : Document\n",
    "    {\n",
    "        public override void DoPrint()\n",
    "        {\n",
    "            Console.WriteLine(\"Hello from DoPrint in Invoice\");\n",
    "        }\n",
    "    }\n",
    "\n",
    "class PrePaidInvoice: Invoice\n",
    "{\n",
    "    public override void DoPrint()\n",
    "    {\n",
    "        base.DoPrint();\n",
    "        Console.WriteLine(\"Hello from DoPrint in PrePaidInvoice\");\n",
    "    }\n",
    "}\n",
    "\n",
    "    class Program\n",
    "    {\n",
    "        static public void Main(string[] args)\n",
    "        {\n",
    "PrePaidInvoice p = new PrePaidInvoice();\n",
    "p.GetDate();\n",
    "p.DoPrint();\n",
    "\n",
    "            //Console.ReadKey();\n",
    "        }\n",
    "    }\n",
    "}\n"
   ]
  },
  {
   "cell_type": "code",
   "execution_count": null,
   "metadata": {},
   "outputs": [],
   "source": [
    "LISTING_2_20_Using_base.Program.Main(new string[0]);"
   ]
  }
 ],
 "metadata": {
  "kernelspec": {
   "display_name": "C#",
   "language": "csharp",
   "name": "kernel-spec"
  },
  "language_info": {
   "file_extension": ".cs",
   "mimetype": "text/x-csharp",
   "name": "C#",
   "pygments_lexer": "c#",
   "version": "4.0.30319"
  }
 },
 "nbformat": 4,
 "nbformat_minor": 2
}

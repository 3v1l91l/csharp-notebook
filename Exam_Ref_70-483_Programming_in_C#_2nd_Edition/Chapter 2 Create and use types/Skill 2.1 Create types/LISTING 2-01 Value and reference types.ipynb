{
 "cells": [
  {
   "cell_type": "markdown",
   "metadata": {},
   "source": [
    "# Info"
   ]
  },
  {
   "cell_type": "markdown",
   "metadata": {},
   "source": [
    "This example is from\n",
    "* [github.com/ExamRef70-483/Sample-Code](https://github.com/ExamRef70-483/Sample-Code)\n",
    "* [LISTING 2-1 Value and reference types](https://github.com/ExamRef70-483/Sample-Code/blob/master/LISTING%202-1%E2%80%82Value%20and%20reference%20types/LISTING%202-1%E2%80%82Value%20and%20reference%20types/Program.cs)\n",
    "\n",
    "\n",
    "## Remember\n",
    "* Main() is not called automatically. Has to be called manual. Remember '**public**'\n",
    "* Console.ReadKey() should not be used.\n"
   ]
  },
  {
   "cell_type": "code",
   "execution_count": 1,
   "metadata": {},
   "outputs": [],
   "source": [
    "using System;\n",
    "\n",
    "namespace LISTING_2_1_Value_and_reference_types\n",
    "{\n",
    "    class Program\n",
    "    {\n",
    "        struct StructStore\n",
    "        {\n",
    "            public int Data { get; set; }\n",
    "        }\n",
    "\n",
    "        class ClassStore\n",
    "        {\n",
    "            public int Data { get; set; }\n",
    "        }\n",
    "\n",
    "        static public void Main(string[] args)\n",
    "        {\n",
    "            StructStore xs, ys;\n",
    "            ys = new StructStore();\n",
    "            ys.Data = 99;\n",
    "            xs = ys;\n",
    "            xs.Data = 100;\n",
    "            Console.WriteLine(\"xStruct: {0}\", xs.Data);\n",
    "            Console.WriteLine(\"yStruct: {0}\", ys.Data);\n",
    "\n",
    "            ClassStore xc, yc;\n",
    "            yc = new ClassStore();\n",
    "            yc.Data = 99;\n",
    "            xc = yc;\n",
    "            xc.Data = 100;\n",
    "            Console.WriteLine(\"xClass: {0}\", xc.Data);\n",
    "            Console.WriteLine(\"yClass: {0}\", yc.Data);\n",
    "\n",
    "            //Console.ReadKey();\n",
    "        }\n",
    "    }\n",
    "}\n"
   ]
  },
  {
   "cell_type": "code",
   "execution_count": 2,
   "metadata": {},
   "outputs": [
    {
     "data": {
      "text/html": [
       "xStruct: 100"
      ],
      "text/plain": [
       "xStruct: 100"
      ]
     },
     "metadata": {},
     "output_type": "display_data"
    },
    {
     "data": {
      "text/html": [
       "yStruct: 99"
      ],
      "text/plain": [
       "yStruct: 99"
      ]
     },
     "metadata": {},
     "output_type": "display_data"
    },
    {
     "data": {
      "text/html": [
       "xClass: 100"
      ],
      "text/plain": [
       "xClass: 100"
      ]
     },
     "metadata": {},
     "output_type": "display_data"
    },
    {
     "data": {
      "text/html": [
       "yClass: 100"
      ],
      "text/plain": [
       "yClass: 100"
      ]
     },
     "metadata": {},
     "output_type": "display_data"
    }
   ],
   "source": [
    "LISTING_2_1_Value_and_reference_types.Program.Main(new string[0]);"
   ]
  }
 ],
 "metadata": {
  "kernelspec": {
   "display_name": "C#",
   "language": "csharp",
   "name": "kernel-spec"
  },
  "language_info": {
   "file_extension": ".cs",
   "mimetype": "text/x-csharp",
   "name": "C#",
   "pygments_lexer": "c#",
   "version": "4.0.30319"
  }
 },
 "nbformat": 4,
 "nbformat_minor": 2
}

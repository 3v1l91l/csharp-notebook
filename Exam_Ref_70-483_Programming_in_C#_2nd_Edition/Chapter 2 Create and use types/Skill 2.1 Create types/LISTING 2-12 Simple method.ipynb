{
 "cells": [
  {
   "cell_type": "markdown",
   "metadata": {},
   "source": [
    "# Info"
   ]
  },
  {
   "cell_type": "markdown",
   "metadata": {},
   "source": [
    "This example is from\n",
    "* [github.com/ExamRef70-483/Sample-Code](https://github.com/ExamRef70-483/Sample-Code)\n",
    "* [LISTING 2-12 Simple method](https://github.com/ExamRef70-483/Sample-Code/blob/master/LISTING%202-12%E2%80%82Simple%20method/LISTING%202-12%E2%80%82Simple%20method/Program.cs)\n",
    "\n",
    "\n",
    "## Remember\n",
    "* Main() is not called automatically. Has to be called manual. Remember '**public**'\n",
    "* Console.ReadKey() should not be used.\n"
   ]
  },
  {
   "cell_type": "code",
   "execution_count": 1,
   "metadata": {},
   "outputs": [],
   "source": [
    "using System;\n",
    "using System.Collections.Generic;\n",
    "using System.Linq;\n",
    "using System.Text;\n",
    "using System.Threading.Tasks;\n",
    "\n",
    "namespace LISTING_2_12_Simple_method\n",
    "{\n",
    "\n",
    "class Alien\n",
    "{\n",
    "    public int X;\n",
    "    public int Y;\n",
    "    public int Lives;\n",
    "\n",
    "    public bool RemoveLives(int livesToRemove)\n",
    "    {\n",
    "        Lives = Lives - livesToRemove;\n",
    "\n",
    "        if (Lives <= 0)\n",
    "        {\n",
    "            Lives = 0;\n",
    "            X = -1000;\n",
    "            Y = -1000;\n",
    "            return false;\n",
    "        }\n",
    "        else\n",
    "        {\n",
    "            return true;\n",
    "        }\n",
    "    }\n",
    "\n",
    "    public Alien(int x, int y, int lives)\n",
    "    {\n",
    "        if (x < 0 || y < 0)\n",
    "            throw new Exception(\"Invalid position\");\n",
    "\n",
    "        X = x;\n",
    "        Y = y;\n",
    "        Lives = lives;\n",
    "    }\n",
    "\n",
    "    public Alien(int x, int y) : this(x, y, 3)\n",
    "    {\n",
    "    }\n",
    "\n",
    "    public override string ToString()\n",
    "    {\n",
    "        return string.Format(\"X: {0} Y: {1} Lives: {2}\", X, Y, Lives);\n",
    "    }\n",
    "}\n",
    "\n",
    "    class Program\n",
    "    {\n",
    "        static public void Main(string[] args)\n",
    "        {\n",
    "            Alien x = new Alien(100, 100);\n",
    "            Console.WriteLine(\"x {0}\", x);\n",
    "            if (x.RemoveLives(2))\n",
    "            {\n",
    "                Console.WriteLine(\"Still alive\");\n",
    "            }\n",
    "            else\n",
    "            {\n",
    "                Console.WriteLine(\"Alien destroyed\");\n",
    "            }\n",
    "\n",
    "            Console.WriteLine(\"x {0}\", x);\n",
    "\n",
    "            //Console.ReadKey();\n",
    "        }\n",
    "    }\n",
    "}\n"
   ]
  },
  {
   "cell_type": "code",
   "execution_count": 2,
   "metadata": {},
   "outputs": [
    {
     "data": {
      "text/html": [
       "x X: 100 Y: 100 Lives: 3"
      ],
      "text/plain": [
       "x X: 100 Y: 100 Lives: 3"
      ]
     },
     "metadata": {},
     "output_type": "display_data"
    },
    {
     "data": {
      "text/html": [
       "Still alive"
      ],
      "text/plain": [
       "Still alive"
      ]
     },
     "metadata": {},
     "output_type": "display_data"
    },
    {
     "data": {
      "text/html": [
       "x X: 100 Y: 100 Lives: 1"
      ],
      "text/plain": [
       "x X: 100 Y: 100 Lives: 1"
      ]
     },
     "metadata": {},
     "output_type": "display_data"
    }
   ],
   "source": [
    "LISTING_2_12_Simple_method.Program.Main(new string[0]);"
   ]
  }
 ],
 "metadata": {
  "kernelspec": {
   "display_name": "C#",
   "language": "csharp",
   "name": "kernel-spec"
  },
  "language_info": {
   "file_extension": ".cs",
   "mimetype": "text/x-csharp",
   "name": "C#",
   "pygments_lexer": "c#",
   "version": "4.0.30319"
  }
 },
 "nbformat": 4,
 "nbformat_minor": 2
}

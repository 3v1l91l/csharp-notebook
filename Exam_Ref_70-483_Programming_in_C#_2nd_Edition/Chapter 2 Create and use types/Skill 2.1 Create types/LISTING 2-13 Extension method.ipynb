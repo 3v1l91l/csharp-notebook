{
 "cells": [
  {
   "cell_type": "markdown",
   "metadata": {},
   "source": [
    "# Info"
   ]
  },
  {
   "cell_type": "markdown",
   "metadata": {},
   "source": [
    "This example is from\n",
    "* [github.com/ExamRef70-483/Sample-Code](https://github.com/ExamRef70-483/Sample-Code)\n",
    "* [LISTING 2-13 Extension method](https://github.com/ExamRef70-483/Sample-Code/blob/master/LISTING%202-13%E2%80%82Extension%20method/LISTING%202-13%E2%80%82Extension%20method/Program.cs)\n",
    "\n",
    "\n",
    "## Remember\n",
    "* Main() is not called automatically. Has to be called manual. Remember '**public**'\n",
    "* Console.ReadKey() should not be used.\n"
   ]
  },
  {
   "cell_type": "code",
   "execution_count": 1,
   "metadata": {},
   "outputs": [
    {
     "data": {
      "text/html": [
       "(9,7): error CS0246: The type or namespace name `ExtensionMethods&#39; could not be found. Are you missing an assembly reference?"
      ],
      "text/plain": [
       "(9,7): error CS0246: The type or namespace name `ExtensionMethods' could not be found. Are you missing an assembly reference?"
      ]
     },
     "metadata": {},
     "output_type": "display_data"
    },
    {
     "data": {
      "text/html": [
       "(13,36): error CS1061: Type `string&#39; does not contain a definition for `LineCount&#39; and no extension method `LineCount&#39; of type `string&#39; could be found. Are you missing `ExtensionMethods&#39; using directive?"
      ],
      "text/plain": [
       "(13,36): error CS1061: Type `string' does not contain a definition for `LineCount' and no extension method `LineCount' of type `string' could be found. Are you missing `ExtensionMethods' using directive?"
      ]
     },
     "metadata": {},
     "output_type": "display_data"
    },
    {
     "data": {
      "text/html": [
       "/usr/lib/mono/4.5/mscorlib.dll (Location of the symbol related to previous error)"
      ],
      "text/plain": [
       "/usr/lib/mono/4.5/mscorlib.dll (Location of the symbol related to previous error)"
      ]
     },
     "metadata": {},
     "output_type": "display_data"
    }
   ],
   "source": [
    "using System;\n",
    "\n",
    "namespace ExtensionMethods\n",
    "{\n",
    "    public static class MyExtensions\n",
    "    {\n",
    "        public static int LineCount(this String str)\n",
    "        {\n",
    "            return str.Split(new char[] { '\\n' },\n",
    "                             StringSplitOptions.RemoveEmptyEntries).Length;\n",
    "        }\n",
    "    }\n",
    "}\n",
    "\n",
    "namespace LISTING_2_13_Extension_method\n",
    "{\n",
    "    using ExtensionMethods;\n",
    "\n",
    "    class Program\n",
    "    {\n",
    "        static public void Main(string[] args)\n",
    "        {\n",
    "            string text = @\"A rocket explorer called Wright,\n",
    "Once travelled much faster than light,\n",
    "He set out one day,\n",
    "In a relative way,\n",
    "And returned on the previous night\";\n",
    "            Console.WriteLine(text.LineCount());\n",
    "            //Console.ReadKey();\n",
    "        }\n",
    "    }\n",
    "}\n"
   ]
  },
  {
   "cell_type": "code",
   "execution_count": 2,
   "metadata": {},
   "outputs": [],
   "source": [
    "LISTING_2_13_Extension_method.Program.Main(new string[0]);"
   ]
  }
 ],
 "metadata": {
  "kernelspec": {
   "display_name": "C#",
   "language": "csharp",
   "name": "kernel-spec"
  },
  "language_info": {
   "file_extension": ".cs",
   "mimetype": "text/x-csharp",
   "name": "C#",
   "pygments_lexer": "c#",
   "version": "4.0.30319"
  }
 },
 "nbformat": 4,
 "nbformat_minor": 2
}

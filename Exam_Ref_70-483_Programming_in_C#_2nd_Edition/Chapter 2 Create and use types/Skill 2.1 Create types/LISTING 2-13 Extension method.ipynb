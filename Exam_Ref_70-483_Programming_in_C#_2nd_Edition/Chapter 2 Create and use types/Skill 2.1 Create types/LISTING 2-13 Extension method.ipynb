{
 "cells": [
  {
   "cell_type": "markdown",
   "metadata": {},
   "source": [
    "# Info"
   ]
  },
  {
   "cell_type": "markdown",
   "metadata": {},
   "source": [
    "This example is from\n",
    "* [github.com/ExamRef70-483/Sample-Code](https://github.com/ExamRef70-483/Sample-Code)\n",
    "* [LISTING 2-13 Extension method](https://github.com/ExamRef70-483/Sample-Code/blob/master/LISTING%202-13%E2%80%82Extension%20method/LISTING%202-13%E2%80%82Extension%20method/Program.cs)\n",
    "\n",
    "\n",
    "## Remember\n",
    "* Main() is not called automatically. Has to be called manual. Remember '**public**'\n",
    "* Console.ReadKey() should not be used.\n"
   ]
  },
  {
   "cell_type": "code",
   "execution_count": null,
   "metadata": {},
   "outputs": [],
   "source": [
    "using System;\n",
    "\n",
    "namespace ExtensionMethods\n",
    "{\n",
    "    public static class MyExtensions\n",
    "    {\n",
    "        public static int LineCount(this String str)\n",
    "        {\n",
    "            return str.Split(new char[] { '\\n' },\n",
    "                             StringSplitOptions.RemoveEmptyEntries).Length;\n",
    "        }\n",
    "    }\n",
    "}\n",
    "\n",
    "namespace LISTING_2_13_Extension_method\n",
    "{\n",
    "    using ExtensionMethods;\n",
    "\n",
    "    class Program\n",
    "    {\n",
    "        static public void Main(string[] args)\n",
    "        {\n",
    "            string text = @\"A rocket explorer called Wright,\n",
    "Once travelled much faster than light,\n",
    "He set out one day,\n",
    "In a relative way,\n",
    "And returned on the previous night\";\n",
    "            Console.WriteLine(text.LineCount());\n",
    "            //Console.ReadKey();\n",
    "        }\n",
    "    }\n",
    "}\n"
   ]
  },
  {
   "cell_type": "code",
   "execution_count": null,
   "metadata": {},
   "outputs": [],
   "source": [
    "LISTING_2_13_Extension_method.Program.Main(new string[0]);"
   ]
  }
 ],
 "metadata": {
  "kernelspec": {
   "display_name": "C#",
   "language": "csharp",
   "name": "kernel-spec"
  },
  "language_info": {
   "file_extension": ".cs",
   "mimetype": "text/x-csharp",
   "name": "C#",
   "pygments_lexer": "c#",
   "version": "4.0.30319"
  }
 },
 "nbformat": 4,
 "nbformat_minor": 2
}

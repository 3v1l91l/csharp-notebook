{
 "cells": [
  {
   "cell_type": "markdown",
   "metadata": {},
   "source": [
    "# Info"
   ]
  },
  {
   "cell_type": "markdown",
   "metadata": {},
   "source": [
    "This example is from\n",
    "* [github.com/ExamRef70-483/Sample-Code](https://github.com/ExamRef70-483/Sample-Code)\n",
    "* [LISTING 2-6 Using generic types](https://github.com/ExamRef70-483/Sample-Code/blob/master/LISTING%202-6%E2%80%82Using%20generic%20types/LISTING%202-6%E2%80%82Using%20generic%20types/Program.cs)\n",
    "\n",
    "\n",
    "## Remember\n",
    "* Main() is not called automatically. Has to be called manual. Remember '**public**'\n",
    "* Console.ReadKey() should not be used.\n"
   ]
  },
  {
   "cell_type": "code",
   "execution_count": null,
   "metadata": {},
   "outputs": [],
   "source": [
    "using System;\n",
    "\n",
    "namespace LISTING_2_6_Using_generic_types\n",
    "{\n",
    "    class Program\n",
    "    {\n",
    "        class MyStack<T> where T:class\n",
    "        {\n",
    "            int stackTop = 0;\n",
    "            T[] items = new T[100];\n",
    "\n",
    "            public void Push(T item)\n",
    "            {\n",
    "                if (stackTop == items.Length)\n",
    "                    throw new Exception(\"Stack full\");\n",
    "                items[stackTop] = item;\n",
    "                stackTop++;\n",
    "            }\n",
    "\n",
    "            public T Pop()\n",
    "            {\n",
    "                if (stackTop == 0)\n",
    "                    throw new Exception(\"Stack empty\");\n",
    "                stackTop--;\n",
    "                return items[stackTop];\n",
    "            }\n",
    "        }\n",
    "\n",
    "        static public void Main(string[] args)\n",
    "        {\n",
    "            MyStack<string> nameStack = new MyStack<string>();\n",
    "            nameStack.Push(\"Rob\");\n",
    "            nameStack.Push(\"Mary\");\n",
    "            Console.WriteLine(nameStack.Pop());\n",
    "            Console.WriteLine(nameStack.Pop());\n",
    "            //Console.ReadKey();\n",
    "        }\n",
    "    }\n",
    "}\n"
   ]
  },
  {
   "cell_type": "code",
   "execution_count": null,
   "metadata": {},
   "outputs": [],
   "source": [
    "LISTING_2_6_Using_generic_types.Program.Main(new string[0]);"
   ]
  }
 ],
 "metadata": {
  "kernelspec": {
   "display_name": "C#",
   "language": "csharp",
   "name": "kernel-spec"
  },
  "language_info": {
   "file_extension": ".cs",
   "mimetype": "text/x-csharp",
   "name": "C#",
   "pygments_lexer": "c#",
   "version": "4.0.30319"
  }
 },
 "nbformat": 4,
 "nbformat_minor": 2
}

{
 "cells": [
  {
   "cell_type": "markdown",
   "metadata": {},
   "source": [
    "# Info"
   ]
  },
  {
   "cell_type": "markdown",
   "metadata": {},
   "source": [
    "This example is from\n",
    "* [github.com/ExamRef70-483/Sample-Code](https://github.com/ExamRef70-483/Sample-Code)\n",
    "* [LISTING 2-19 Method overriding](https://github.com/ExamRef70-483/Sample-Code/blob/master/LISTING%202-19%E2%80%82Method%20overriding/LISTING%202-19%E2%80%82Method%20overriding/Program.cs)\n",
    "\n",
    "\n",
    "## Remember\n",
    "* Main() is not called automatically. Has to be called manual. Remember '**public**'\n",
    "* Console.ReadKey() should not be used.\n"
   ]
  },
  {
   "cell_type": "code",
   "execution_count": null,
   "metadata": {},
   "outputs": [],
   "source": [
    "using System;\n",
    "\n",
    "namespace LISTING_2_19_Method_overriding\n",
    "{\n",
    "    class Document\n",
    "    {\n",
    "        // All documents have the same GetDate behavior so\n",
    "        // this method will not be overridden\n",
    "        public void GetDate()\n",
    "        {\n",
    "            Console.WriteLine(\"Hello from GetDate in Document\");\n",
    "        }\n",
    "\n",
    "        // A document may have its own DoPrint behavior so\n",
    "        // this method is virtual so it can be overriden\n",
    "        public virtual void DoPrint()\n",
    "        {\n",
    "            Console.WriteLine(\"Hello from DoPrint in Document\");\n",
    "        }\n",
    "    }\n",
    "\n",
    "    // The Invoice class derives from the Document class\n",
    "    class Invoice:Document\n",
    "    {\n",
    "        // Override the DoPrint method in the base class\n",
    "        // to provide custom printing behaviour for an Invoice\n",
    "        public override void DoPrint()\n",
    "        {\n",
    "            Console.WriteLine(\"Hello from DoPrint in Invoice\");\n",
    "        }\n",
    "    }\n",
    "\n",
    "    class Program\n",
    "    {\n",
    "        static public void Main(string[] args)\n",
    "        {\n",
    "            // Create an Invoice\n",
    "            Invoice c = new Invoice();\n",
    "            // This will run the SetDate method from Document\n",
    "            c.GetDate();\n",
    "            // This will run the DoPrint method from Invoice\n",
    "            c.DoPrint();\n",
    "\n",
    "            //Console.ReadKey();\n",
    "        }\n",
    "    }\n",
    "}\n"
   ]
  },
  {
   "cell_type": "code",
   "execution_count": null,
   "metadata": {},
   "outputs": [],
   "source": [
    "LISTING_2_19_Method_overriding.Program.Main(new string[0]);"
   ]
  }
 ],
 "metadata": {
  "kernelspec": {
   "display_name": "C#",
   "language": "csharp",
   "name": "kernel-spec"
  },
  "language_info": {
   "file_extension": ".cs",
   "mimetype": "text/x-csharp",
   "name": "C#",
   "pygments_lexer": "c#",
   "version": "4.0.30319"
  }
 },
 "nbformat": 4,
 "nbformat_minor": 2
}

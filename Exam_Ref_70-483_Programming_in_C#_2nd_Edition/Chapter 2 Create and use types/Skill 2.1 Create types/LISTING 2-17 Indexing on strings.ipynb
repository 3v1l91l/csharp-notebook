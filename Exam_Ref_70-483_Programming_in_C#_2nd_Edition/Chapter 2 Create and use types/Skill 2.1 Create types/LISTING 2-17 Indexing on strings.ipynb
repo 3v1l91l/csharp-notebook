{
 "cells": [
  {
   "cell_type": "markdown",
   "metadata": {},
   "source": [
    "# Info"
   ]
  },
  {
   "cell_type": "markdown",
   "metadata": {},
   "source": [
    "This example is from\n",
    "* [github.com/ExamRef70-483/Sample-Code](https://github.com/ExamRef70-483/Sample-Code)\n",
    "* [LISTING 2-17 Indexing on strings](https://github.com/ExamRef70-483/Sample-Code/blob/master/LISTING%202-17%E2%80%82Indexing%20on%20strings/LISTING%202-17%E2%80%82Indexing%20on%20strings/Program.cs)\n",
    "\n",
    "\n",
    "## Remember\n",
    "* Main() is not called automatically. Has to be called manual. Remember '**public**'\n",
    "* Console.ReadKey() should not be used.\n"
   ]
  },
  {
   "cell_type": "code",
   "execution_count": 1,
   "metadata": {},
   "outputs": [],
   "source": [
    "using System;\n",
    "using System.Collections.Generic;\n",
    "using System.Linq;\n",
    "using System.Text;\n",
    "using System.Threading.Tasks;\n",
    "\n",
    "namespace LISTING_2_17_Indexing_on_strings\n",
    "{\n",
    "    class NamedIntArray\n",
    "    {\n",
    "        // Create an array to store the values\n",
    "        private int[] array = new int[100];\n",
    "\n",
    "        // Decleare an indexer property\n",
    "        public int this[string name]\n",
    "        {\n",
    "            get\n",
    "            {\n",
    "                switch (name)\n",
    "                {\n",
    "                    case \"zero\":\n",
    "                        return array[0];\n",
    "                    case \"one\":\n",
    "                        return array[1];\n",
    "                    default:\n",
    "                        return -1;\n",
    "                }\n",
    "            }\n",
    "            set\n",
    "            {\n",
    "                switch (name)\n",
    "                {\n",
    "                    case \"zero\":\n",
    "                        array[0] = value;\n",
    "                        break;\n",
    "                    case \"one\":\n",
    "                        array[1] = value;\n",
    "                        break;\n",
    "                }\n",
    "            }\n",
    "        }\n",
    "    }\n",
    "\n",
    "    class Program\n",
    "    {\n",
    "        static public void Main(string[] args)\n",
    "        {\n",
    "            NamedIntArray x = new NamedIntArray();\n",
    "\n",
    "            x[\"zero\"] = 99;\n",
    "\n",
    "            Console.WriteLine(x[\"zero\"]);\n",
    "\n",
    "            //Console.ReadKey();\n",
    "        }\n",
    "    }\n",
    "}\n"
   ]
  },
  {
   "cell_type": "code",
   "execution_count": 2,
   "metadata": {},
   "outputs": [
    {
     "data": {
      "text/html": [
       "99"
      ],
      "text/plain": [
       "99"
      ]
     },
     "metadata": {},
     "output_type": "display_data"
    }
   ],
   "source": [
    "LISTING_2_17_Indexing_on_strings.Program.Main(new string[0]);"
   ]
  }
 ],
 "metadata": {
  "kernelspec": {
   "display_name": "C#",
   "language": "csharp",
   "name": "kernel-spec"
  },
  "language_info": {
   "file_extension": ".cs",
   "mimetype": "text/x-csharp",
   "name": "C#",
   "pygments_lexer": "c#",
   "version": "4.0.30319"
  }
 },
 "nbformat": 4,
 "nbformat_minor": 2
}

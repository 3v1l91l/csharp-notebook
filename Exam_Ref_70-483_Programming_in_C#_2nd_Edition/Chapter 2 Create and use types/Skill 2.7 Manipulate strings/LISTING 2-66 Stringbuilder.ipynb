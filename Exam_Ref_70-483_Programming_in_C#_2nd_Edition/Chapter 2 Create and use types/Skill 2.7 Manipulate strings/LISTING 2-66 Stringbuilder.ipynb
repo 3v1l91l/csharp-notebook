{
 "cells": [
  {
   "cell_type": "markdown",
   "metadata": {},
   "source": [
    "# Info"
   ]
  },
  {
   "cell_type": "markdown",
   "metadata": {},
   "source": [
    "This example is from\n",
    "* [github.com/ExamRef70-483/Sample-Code](https://github.com/ExamRef70-483/Sample-Code)\n",
    "* [LISTING 2-66 Stringbuilder](https://github.com/ExamRef70-483/Sample-Code/blob/master/LISTING%202-66%E2%80%82Stringbuilder/LISTING%202-66%E2%80%82Stringbuilder/Program.cs)\n",
    "\n",
    "\n",
    "## Remember\n",
    "* Main() is not called automatically. Has to be called manual. Remember '**public**'\n",
    "* Console.ReadKey() should not be used.\n"
   ]
  },
  {
   "cell_type": "code",
   "execution_count": 1,
   "metadata": {},
   "outputs": [
    {
     "data": {
      "text/html": [
       "(17,31): warning CS0252: Possible unintended reference comparison. Consider casting the left side expression to type `string&#39; to get value comparison"
      ],
      "text/plain": [
       "(17,31): warning CS0252: Possible unintended reference comparison. Consider casting the left side expression to type `string' to get value comparison"
      ]
     },
     "metadata": {},
     "output_type": "display_data"
    },
    {
     "data": {
      "text/html": [
       "(19,31): warning CS0252: Possible unintended reference comparison. Consider casting the left side expression to type `string&#39; to get value comparison"
      ],
      "text/plain": [
       "(19,31): warning CS0252: Possible unintended reference comparison. Consider casting the left side expression to type `string' to get value comparison"
      ]
     },
     "metadata": {},
     "output_type": "display_data"
    },
    {
     "data": {
      "text/html": [
       "(10,20): warning CS0219: The variable `fullName&#39; is assigned but its value is never used"
      ],
      "text/plain": [
       "(10,20): warning CS0219: The variable `fullName' is assigned but its value is never used"
      ]
     },
     "metadata": {},
     "output_type": "display_data"
    },
    {
     "data": {
      "text/html": [
       "(12,17): warning CS0219: The variable `v&#39; is assigned but its value is never used"
      ],
      "text/plain": [
       "(12,17): warning CS0219: The variable `v' is assigned but its value is never used"
      ]
     },
     "metadata": {},
     "output_type": "display_data"
    },
    {
     "data": {
      "text/html": [
       "(21,27): warning CS0219: The variable `s&#39; is assigned but its value is never used"
      ],
      "text/plain": [
       "(21,27): warning CS0219: The variable `s' is assigned but its value is never used"
      ]
     },
     "metadata": {},
     "output_type": "display_data"
    }
   ],
   "source": [
    "using System;\n",
    "using System.Collections.Generic;\n",
    "using System.Linq;\n",
    "using System.Text;\n",
    "using System.Threading.Tasks;\n",
    "\n",
    "namespace LISTING_2_66_Stringbuilder\n",
    "{\n",
    "    class Program\n",
    "    {\n",
    "        static public void Main(string[] args)\n",
    "        {\n",
    "            string firstName = \"Rob\";\n",
    "            string secondName = \"Miles\";\n",
    "\n",
    "            string fullName = firstName + \" \" + secondName;\n",
    "\n",
    "            var v = string.Intern(\"jim\");\n",
    "\n",
    "            object obj = \"Int32\";\n",
    "            string str1 = \"Int32\";\n",
    "            string str2 = typeof(int).Name;\n",
    "            Console.WriteLine(obj == str1); // true\n",
    "            Console.WriteLine(str1 == str2); // true\n",
    "            Console.WriteLine(obj == str2); // false !?\n",
    "\n",
    "            StringBuilder s = new StringBuilder();\n",
    "\n",
    "            string x = \"hel\";\n",
    "            string y = \"lo\";\n",
    "            string a = x + y;\n",
    "            string b = \"hello\";\n",
    "\n",
    "            a = String.Intern(a);\n",
    "\n",
    "            if ((object)a == (object)b)\n",
    "                Console.WriteLine(\"Clever compiler\");\n",
    "\n",
    "\n",
    "        }\n",
    "    }\n",
    "}\n"
   ]
  },
  {
   "cell_type": "code",
   "execution_count": 2,
   "metadata": {},
   "outputs": [
    {
     "data": {
      "text/html": [
       "True"
      ],
      "text/plain": [
       "True"
      ]
     },
     "metadata": {},
     "output_type": "display_data"
    },
    {
     "data": {
      "text/html": [
       "True"
      ],
      "text/plain": [
       "True"
      ]
     },
     "metadata": {},
     "output_type": "display_data"
    },
    {
     "data": {
      "text/html": [
       "False"
      ],
      "text/plain": [
       "False"
      ]
     },
     "metadata": {},
     "output_type": "display_data"
    },
    {
     "data": {
      "text/html": [
       "Clever compiler"
      ],
      "text/plain": [
       "Clever compiler"
      ]
     },
     "metadata": {},
     "output_type": "display_data"
    }
   ],
   "source": [
    "LISTING_2_66_Stringbuilder.Program.Main(new string[0]);"
   ]
  }
 ],
 "metadata": {
  "kernelspec": {
   "display_name": "C#",
   "language": "csharp",
   "name": "kernel-spec"
  },
  "language_info": {
   "file_extension": ".cs",
   "mimetype": "text/x-csharp",
   "name": "C#",
   "pygments_lexer": "c#",
   "version": "4.0.30319"
  }
 },
 "nbformat": 4,
 "nbformat_minor": 2
}

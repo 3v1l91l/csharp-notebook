{
 "cells": [
  {
   "cell_type": "markdown",
   "metadata": {},
   "source": [
    "# Info"
   ]
  },
  {
   "cell_type": "markdown",
   "metadata": {},
   "source": [
    "This example is from\n",
    "* [github.com/ExamRef70-483/Sample-Code](https://github.com/ExamRef70-483/Sample-Code)\n",
    "* [LISTING 2-66 Stringbuilder](https://github.com/ExamRef70-483/Sample-Code/blob/master/LISTING%202-66%E2%80%82Stringbuilder/LISTING%202-66%E2%80%82Stringbuilder/Program.cs)\n",
    "\n",
    "\n",
    "## Remember\n",
    "* Main() is not called automatically. Has to be called manual. Remember '**public**'\n",
    "* Console.ReadKey() should not be used.\n"
   ]
  },
  {
   "cell_type": "code",
   "execution_count": null,
   "metadata": {},
   "outputs": [],
   "source": [
    "using System;\n",
    "using System.Collections.Generic;\n",
    "using System.Linq;\n",
    "using System.Text;\n",
    "using System.Threading.Tasks;\n",
    "\n",
    "namespace LISTING_2_66_Stringbuilder\n",
    "{\n",
    "    class Program\n",
    "    {\n",
    "        static public void Main(string[] args)\n",
    "        {\n",
    "            string firstName = \"Rob\";\n",
    "            string secondName = \"Miles\";\n",
    "\n",
    "            string fullName = firstName + \" \" + secondName;\n",
    "\n",
    "            var v = string.Intern(\"jim\");\n",
    "\n",
    "            object obj = \"Int32\";\n",
    "            string str1 = \"Int32\";\n",
    "            string str2 = typeof(int).Name;\n",
    "            Console.WriteLine(obj == str1); // true\n",
    "            Console.WriteLine(str1 == str2); // true\n",
    "            Console.WriteLine(obj == str2); // false !?\n",
    "\n",
    "            StringBuilder s = new StringBuilder();\n",
    "\n",
    "            string x = \"hel\";\n",
    "            string y = \"lo\";\n",
    "            string a = x + y;\n",
    "            string b = \"hello\";\n",
    "\n",
    "            a = String.Intern(a);\n",
    "\n",
    "            if ((object)a == (object)b)\n",
    "                Console.WriteLine(\"Clever compiler\");\n",
    "\n",
    "\n",
    "        }\n",
    "    }\n",
    "}\n"
   ]
  },
  {
   "cell_type": "code",
   "execution_count": null,
   "metadata": {},
   "outputs": [],
   "source": [
    "LISTING_2_66_Stringbuilder.Program.Main(new string[0]);"
   ]
  }
 ],
 "metadata": {
  "kernelspec": {
   "display_name": "C#",
   "language": "csharp",
   "name": "kernel-spec"
  },
  "language_info": {
   "file_extension": ".cs",
   "mimetype": "text/x-csharp",
   "name": "C#",
   "pygments_lexer": "c#",
   "version": "4.0.30319"
  }
 },
 "nbformat": 4,
 "nbformat_minor": 2
}

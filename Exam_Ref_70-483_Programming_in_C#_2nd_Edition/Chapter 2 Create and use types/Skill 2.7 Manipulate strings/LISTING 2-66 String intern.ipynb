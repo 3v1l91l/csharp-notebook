{
 "cells": [
  {
   "cell_type": "markdown",
   "metadata": {},
   "source": [
    "# Info"
   ]
  },
  {
   "cell_type": "markdown",
   "metadata": {},
   "source": [
    "This example is from\n",
    "* [github.com/ExamRef70-483/Sample-Code](https://github.com/ExamRef70-483/Sample-Code)\n",
    "* [LISTING 2-66 String intern](https://github.com/ExamRef70-483/Sample-Code/blob/master/LISTING%202-66%E2%80%82String%20intern/LISTING%202-66%E2%80%82String%20intern/Program.cs)\n",
    "\n",
    "\n",
    "## Remember\n",
    "* Main() is not called automatically. Has to be called manual. Remember '**public**'\n",
    "* Console.ReadKey() should not be used.\n"
   ]
  },
  {
   "cell_type": "code",
   "execution_count": 1,
   "metadata": {},
   "outputs": [],
   "source": [
    "using System;\n",
    "\n",
    "namespace LISTING_2_66_String_intern\n",
    "{\n",
    "    class Program\n",
    "    {\n",
    "        static public void Main(string[] args)\n",
    "        {\n",
    "            // Create hello at compile time\n",
    "            string s1 = \"hello\";\n",
    "            string s2 = \"hello\";\n",
    "\n",
    "            if ((object)s1 == (object)s2)\n",
    "                Console.WriteLine(\"s1 and s2 are the same object\");\n",
    "\n",
    "            // Create \"hello\" at runtime\n",
    "            string h1 = \"he\";\n",
    "            string h2 = \"llo\";\n",
    "            string s3 = h1 + h2;\n",
    "\n",
    "            if ((object)s1 != (object)s3)\n",
    "                Console.WriteLine(\"s1 and s3 are differnent objects\");\n",
    "\n",
    "            // Intern s3\n",
    "\n",
    "            if ((object)s1 == (object)s3)\n",
    "                Console.WriteLine(\"s1 and s3 are the same object\");\n",
    "\n",
    "            //Console.ReadKey();\n",
    "        }\n",
    "    }\n",
    "}\n"
   ]
  },
  {
   "cell_type": "code",
   "execution_count": 2,
   "metadata": {},
   "outputs": [
    {
     "data": {
      "text/html": [
       "s1 and s2 are the same object"
      ],
      "text/plain": [
       "s1 and s2 are the same object"
      ]
     },
     "metadata": {},
     "output_type": "display_data"
    },
    {
     "data": {
      "text/html": [
       "s1 and s3 are differnent objects"
      ],
      "text/plain": [
       "s1 and s3 are differnent objects"
      ]
     },
     "metadata": {},
     "output_type": "display_data"
    }
   ],
   "source": [
    "LISTING_2_66_String_intern.Program.Main(new string[0]);"
   ]
  }
 ],
 "metadata": {
  "kernelspec": {
   "display_name": "C#",
   "language": "csharp",
   "name": "kernel-spec"
  },
  "language_info": {
   "file_extension": ".cs",
   "mimetype": "text/x-csharp",
   "name": "C#",
   "pygments_lexer": "c#",
   "version": "4.0.30319"
  }
 },
 "nbformat": 4,
 "nbformat_minor": 2
}

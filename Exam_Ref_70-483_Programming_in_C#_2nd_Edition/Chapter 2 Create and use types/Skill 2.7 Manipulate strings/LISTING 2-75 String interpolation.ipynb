{
 "cells": [
  {
   "cell_type": "markdown",
   "metadata": {},
   "source": [
    "# Info"
   ]
  },
  {
   "cell_type": "markdown",
   "metadata": {},
   "source": [
    "This example is from\n",
    "* [github.com/ExamRef70-483/Sample-Code](https://github.com/ExamRef70-483/Sample-Code)\n",
    "* [LISTING 2-75 String interpolation](https://github.com/ExamRef70-483/Sample-Code/blob/master/LISTING%202-75%E2%80%82String%20interpolation/LISTING%202-75%E2%80%82String%20interpolation/Program.cs)\n",
    "\n",
    "\n",
    "## Remember\n",
    "* Main() is not called automatically. Has to be called manual. Remember '**public**'\n",
    "* Console.ReadKey() should not be used.\n"
   ]
  },
  {
   "cell_type": "code",
   "execution_count": 1,
   "metadata": {},
   "outputs": [],
   "source": [
    "using System;\n",
    "using System.Collections.Generic;\n",
    "using System.Globalization;\n",
    "using System.Linq;\n",
    "using System.Text;\n",
    "using System.Threading.Tasks;\n",
    "\n",
    "namespace LISTING_2_75_String_interpolation\n",
    "{\n",
    "    class Program\n",
    "    {\n",
    "        static public void Main(string[] args)\n",
    "        {\n",
    "            string name = \"Rob\";\n",
    "            int age = 21;\n",
    "\n",
    "            Console.WriteLine(\"String interpolation\");\n",
    "\n",
    "            Console.WriteLine(\"Your name is {0} and your age is {1,-5:D}\", name, age);\n",
    "\n",
    "            Console.WriteLine($\"Your name is {name} and your age is {age,-5:D}\");\n",
    "\n",
    "            Console.WriteLine(String.Format($\"Your name is {name} and your age is {age,-5:D}\"));\n",
    "\n",
    "            Console.WriteLine(\"FormattedString\");\n",
    "            double bankBalance = 123.45;\n",
    "            FormattableString balanceMessage = $\"US balance : {bankBalance:C}\";\n",
    "            CultureInfo usProvider = new CultureInfo(\"en-US\");\n",
    "            Console.WriteLine(balanceMessage.ToString(usProvider));\n",
    "\n",
    "            //Console.ReadKey();\n",
    "        }\n",
    "    }\n",
    "}\n"
   ]
  },
  {
   "cell_type": "code",
   "execution_count": 2,
   "metadata": {},
   "outputs": [
    {
     "data": {
      "text/html": [
       "String interpolation"
      ],
      "text/plain": [
       "String interpolation"
      ]
     },
     "metadata": {},
     "output_type": "display_data"
    },
    {
     "data": {
      "text/html": [
       "Your name is Rob and your age is 21   "
      ],
      "text/plain": [
       "Your name is Rob and your age is 21   "
      ]
     },
     "metadata": {},
     "output_type": "display_data"
    },
    {
     "data": {
      "text/html": [
       "Your name is Rob and your age is 21   "
      ],
      "text/plain": [
       "Your name is Rob and your age is 21   "
      ]
     },
     "metadata": {},
     "output_type": "display_data"
    },
    {
     "data": {
      "text/html": [
       "Your name is Rob and your age is 21   "
      ],
      "text/plain": [
       "Your name is Rob and your age is 21   "
      ]
     },
     "metadata": {},
     "output_type": "display_data"
    },
    {
     "data": {
      "text/html": [
       "FormattedString"
      ],
      "text/plain": [
       "FormattedString"
      ]
     },
     "metadata": {},
     "output_type": "display_data"
    },
    {
     "data": {
      "text/html": [
       "US balance : $123.45"
      ],
      "text/plain": [
       "US balance : $123.45"
      ]
     },
     "metadata": {},
     "output_type": "display_data"
    }
   ],
   "source": [
    "LISTING_2_75_String_interpolation.Program.Main(new string[0]);"
   ]
  }
 ],
 "metadata": {
  "kernelspec": {
   "display_name": "C#",
   "language": "csharp",
   "name": "kernel-spec"
  },
  "language_info": {
   "file_extension": ".cs",
   "mimetype": "text/x-csharp",
   "name": "C#",
   "pygments_lexer": "c#",
   "version": "4.0.30319"
  }
 },
 "nbformat": 4,
 "nbformat_minor": 2
}

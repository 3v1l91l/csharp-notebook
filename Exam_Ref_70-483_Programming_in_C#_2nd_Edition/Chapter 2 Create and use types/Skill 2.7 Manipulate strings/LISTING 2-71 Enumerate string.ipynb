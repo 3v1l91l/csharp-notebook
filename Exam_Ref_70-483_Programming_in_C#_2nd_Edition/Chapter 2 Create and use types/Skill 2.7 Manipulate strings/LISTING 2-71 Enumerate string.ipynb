{
 "cells": [
  {
   "cell_type": "markdown",
   "metadata": {},
   "source": [
    "# Info"
   ]
  },
  {
   "cell_type": "markdown",
   "metadata": {},
   "source": [
    "This example is from\n",
    "* [github.com/ExamRef70-483/Sample-Code](https://github.com/ExamRef70-483/Sample-Code)\n",
    "* [LISTING 2-71 Enumerate string](https://github.com/ExamRef70-483/Sample-Code/blob/master/LISTING%202-71%E2%80%82Enumerate%20string/LISTING%202-71%E2%80%82Enumerate%20string/Program.cs)\n",
    "\n",
    "\n",
    "## Remember\n",
    "* Main() is not called automatically. Has to be called manual. Remember '**public**'\n",
    "* Console.ReadKey() should not be used.\n"
   ]
  },
  {
   "cell_type": "code",
   "execution_count": 1,
   "metadata": {},
   "outputs": [],
   "source": [
    "using System;\n",
    "\n",
    "namespace LISTING_2_71_Enumerate_string\n",
    "{\n",
    "    class Program\n",
    "    {\n",
    "        static public void Main(string[] args)\n",
    "        {\n",
    "            foreach(char ch in \"Hello world\")\n",
    "            {\n",
    "                Console.WriteLine(ch);\n",
    "            }\n",
    "            //Console.ReadKey();\n",
    "        }\n",
    "    }\n",
    "}\n"
   ]
  },
  {
   "cell_type": "code",
   "execution_count": 2,
   "metadata": {},
   "outputs": [],
   "source": [
    "LISTING_2_71_Enumerate_string.Program.Main(new string[0]);"
   ]
  }
 ],
 "metadata": {
  "kernelspec": {
   "display_name": "C#",
   "language": "csharp",
   "name": "kernel-spec"
  },
  "language_info": {
   "file_extension": ".cs",
   "mimetype": "text/x-csharp",
   "name": "C#",
   "pygments_lexer": "c#",
   "version": "4.0.30319"
  }
 },
 "nbformat": 4,
 "nbformat_minor": 2
}

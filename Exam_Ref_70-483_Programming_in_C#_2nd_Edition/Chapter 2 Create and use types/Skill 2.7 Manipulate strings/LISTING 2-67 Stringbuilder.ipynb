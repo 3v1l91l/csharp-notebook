{
 "cells": [
  {
   "cell_type": "markdown",
   "metadata": {},
   "source": [
    "# Info"
   ]
  },
  {
   "cell_type": "markdown",
   "metadata": {},
   "source": [
    "This example is from\n",
    "* [github.com/ExamRef70-483/Sample-Code](https://github.com/ExamRef70-483/Sample-Code)\n",
    "* [LISTING 2-67 Stringbuilder](https://github.com/ExamRef70-483/Sample-Code/blob/master/LISTING%202-67%E2%80%82Stringbuilder/LISTING%202-67%E2%80%82Stringbuilder/Program.cs)\n",
    "\n",
    "\n",
    "## Remember\n",
    "* Main() is not called automatically. Has to be called manual. Remember '**public**'\n",
    "* Console.ReadKey() should not be used.\n"
   ]
  },
  {
   "cell_type": "code",
   "execution_count": 1,
   "metadata": {},
   "outputs": [
    {
     "data": {
      "text/html": [
       "(13,29): error CS0584: Internal compiler error: The method or operation is not implemented."
      ],
      "text/plain": [
       "(13,29): error CS0584: Internal compiler error: The method or operation is not implemented."
      ]
     },
     "metadata": {},
     "output_type": "display_data"
    },
    {
     "data": {
      "text/html": [
       "(13,29): error CS0201: Only assignment, call, increment, decrement, await, and new object expressions can be used as a statement"
      ],
      "text/plain": [
       "(13,29): error CS0201: Only assignment, call, increment, decrement, await, and new object expressions can be used as a statement"
      ]
     },
     "metadata": {},
     "output_type": "display_data"
    }
   ],
   "source": [
    "using System;\n",
    "using System.Text;\n",
    "\n",
    "namespace LISTING_2_67_Stringbuilder\n",
    "{\n",
    "    class Program\n",
    "    {\n",
    "        static public void Main(string[] args)\n",
    "        {\n",
    "            string firstName = \"Rob\";\n",
    "            string secondName = \"Miles\";\n",
    "\n",
    "            string fullNameString = firstName + \" \" + secondName;\n",
    "\n",
    "            StringBuilder fullNameBuilder = new StringBuilder();\n",
    "            fullNameBuilder.Append(firstName);\n",
    "            fullNameBuilder.Append(\" \");\n",
    "            fullNameBuilder.Append(secondName);\n",
    "\n",
    "            Console.WriteLine(fullNameBuilder.ToString());\n",
    "\n",
    "            //Console.ReadKey();\n",
    "        }\n",
    "    }\n",
    "}\n"
   ]
  },
  {
   "cell_type": "code",
   "execution_count": 2,
   "metadata": {},
   "outputs": [],
   "source": [
    "LISTING_2_67_Stringbuilder.Program.Main(new string[0]);"
   ]
  }
 ],
 "metadata": {
  "kernelspec": {
   "display_name": "C#",
   "language": "csharp",
   "name": "kernel-spec"
  },
  "language_info": {
   "file_extension": ".cs",
   "mimetype": "text/x-csharp",
   "name": "C#",
   "pygments_lexer": "c#",
   "version": "4.0.30319"
  }
 },
 "nbformat": 4,
 "nbformat_minor": 2
}

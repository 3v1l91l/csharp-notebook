{
 "cells": [
  {
   "cell_type": "markdown",
   "metadata": {},
   "source": [
    "# Info"
   ]
  },
  {
   "cell_type": "markdown",
   "metadata": {},
   "source": [
    "This example is from\n",
    "* [github.com/ExamRef70-483/Sample-Code](https://github.com/ExamRef70-483/Sample-Code)\n",
    "* [LISTING 2-73 Music track formatter](https://github.com/ExamRef70-483/Sample-Code/blob/master/LISTING%202-73%E2%80%82Music%20track%20formatter/LISTING%202-73%E2%80%82Music%20track%20formatter/Program.cs)\n",
    "\n",
    "\n",
    "## Remember\n",
    "* Main() is not called automatically. Has to be called manual. Remember '**public**'\n",
    "* Console.ReadKey() should not be used.\n"
   ]
  },
  {
   "cell_type": "code",
   "execution_count": null,
   "metadata": {},
   "outputs": [],
   "source": [
    "using System;\n",
    "using System.Collections.Generic;\n",
    "using System.Linq;\n",
    "using System.Text;\n",
    "using System.Threading.Tasks;\n",
    "\n",
    "namespace LISTING_2_73_Music_track_formatter\n",
    "{\n",
    "    class MusicTrack : IFormattable\n",
    "    {\n",
    "        string Artist { get; set; }\n",
    "        string Title { get; set; }\n",
    "\n",
    "        // ToString that implements the formatting behavior\n",
    "        public string ToString(string format, IFormatProvider formatProvider)\n",
    "        {\n",
    "            // Select the default behavior if no format specified\n",
    "            if (string.IsNullOrWhiteSpace(format))\n",
    "                format = \"G\";\n",
    "\n",
    "            switch (format)\n",
    "            {\n",
    "                case \"A\": return Artist;\n",
    "                case \"T\": return Title;\n",
    "\n",
    "                case \"G\": // default format\n",
    "                case \"F\": return Artist + \" \" + Title;\n",
    "                default:\n",
    "                    throw new FormatException(\"Format specifier was invalid.\");\n",
    "            }\n",
    "        }\n",
    "\n",
    "        // ToString that overrides the behavior in the base class\n",
    "        public override string ToString()\n",
    "        {\n",
    "            return Artist + \" \" + Title;\n",
    "        }\n",
    "\n",
    "        public MusicTrack(string artist, string title)\n",
    "        {\n",
    "            Artist = artist;\n",
    "            Title = title;\n",
    "        }\n",
    "    }\n",
    "\n",
    "    class Program\n",
    "    {\n",
    "        static public void Main(string[] args)\n",
    "        {\n",
    "            MusicTrack song = new MusicTrack(artist: \"Rob Miles\", title: \"My Way\");\n",
    "\n",
    "            Console.WriteLine(\"Track: {0:F}\", song);\n",
    "            Console.WriteLine(\"Artist: {0:A}\", song);\n",
    "            Console.WriteLine(\"Title: {0:T}\", song);\n",
    "\n",
    "            //Console.ReadKey();\n",
    "        }\n",
    "    }\n",
    "}\n"
   ]
  },
  {
   "cell_type": "code",
   "execution_count": null,
   "metadata": {},
   "outputs": [],
   "source": [
    "LISTING_2_73_Music_track_formatter.Program.Main(new string[0]);"
   ]
  }
 ],
 "metadata": {
  "kernelspec": {
   "display_name": "C#",
   "language": "csharp",
   "name": "kernel-spec"
  },
  "language_info": {
   "file_extension": ".cs",
   "mimetype": "text/x-csharp",
   "name": "C#",
   "pygments_lexer": "c#",
   "version": "4.0.30319"
  }
 },
 "nbformat": 4,
 "nbformat_minor": 2
}

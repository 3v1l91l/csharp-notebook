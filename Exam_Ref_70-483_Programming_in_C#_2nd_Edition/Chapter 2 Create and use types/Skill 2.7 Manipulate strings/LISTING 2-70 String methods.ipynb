{
 "cells": [
  {
   "cell_type": "markdown",
   "metadata": {},
   "source": [
    "# Info"
   ]
  },
  {
   "cell_type": "markdown",
   "metadata": {},
   "source": [
    "This example is from\n",
    "* [github.com/ExamRef70-483/Sample-Code](https://github.com/ExamRef70-483/Sample-Code)\n",
    "* [LISTING 2-70 String methods](https://github.com/ExamRef70-483/Sample-Code/blob/master/LISTING%202-70%20String%20methods/LISTING%202-70%20String%20methods/Program.cs)\n",
    "\n",
    "\n",
    "## Remember\n",
    "* Main() is not called automatically. Has to be called manual. Remember '**public**'\n",
    "* Console.ReadKey() should not be used.\n"
   ]
  },
  {
   "cell_type": "code",
   "execution_count": 1,
   "metadata": {},
   "outputs": [],
   "source": [
    "using System;\n",
    "using System.Globalization;\n",
    "using System.Threading;\n",
    "\n",
    "namespace LISTING_2_70_String_methods\n",
    "{\n",
    "    class Program\n",
    "    {\n",
    "        static public void Main(string[] args)\n",
    "        {\n",
    "            Console.WriteLine(\"Contains\");\n",
    "            string input = \"      Rob Miles\";\n",
    "\n",
    "            if (input.Contains(\"Rob\"))\n",
    "            {\n",
    "                Console.WriteLine(\"Input contains Rob\");\n",
    "            }\n",
    "\n",
    "\n",
    "            Console.WriteLine(\"StartsWith and EndsWith\");\n",
    "            string trimmedString = input.TrimStart();\n",
    "\n",
    "            if (trimmedString.StartsWith(\"Rob\"))\n",
    "            {\n",
    "                Console.WriteLine(\"Starts with Rob\");\n",
    "            }\n",
    "\n",
    "            Console.WriteLine(\"IndexOf and SubString\");\n",
    "            int RobStart = input.IndexOf(\"Rob\");\n",
    "            string Rob = input.Substring(RobStart, 3);\n",
    "            Console.Write(Rob);\n",
    "\n",
    "\n",
    "            Console.WriteLine(\"Replace\");\n",
    "            string informalString = \"Rob Miles\";\n",
    "            string formalString = informalString.Replace(\"Rob\", \"Robert\");\n",
    "            Console.WriteLine(formalString);\n",
    "\n",
    "            Console.WriteLine(\"Split\");\n",
    "            string sentence = \"The cat sat on the mat.\";\n",
    "            string[] words = sentence.Split(' ');\n",
    "            foreach (string word in words)\n",
    "            {\n",
    "                Console.WriteLine(word);\n",
    "            }\n",
    "\n",
    "            Console.WriteLine(\"Culture\");\n",
    "\n",
    "            // Default comparison fails becase the strings are different\n",
    "            if (!\"encyclopædia\".Equals(\"encyclopaedia\"))\n",
    "                Console.WriteLine(\"Unicode encyclopaedias are not equal\");\n",
    "            // Set the curent culture for this thread to EN-US\n",
    "            Thread.CurrentThread.CurrentCulture = CultureInfo.CreateSpecificCulture(\"en-US\");\n",
    "            // Using the current culture the strings are equal\n",
    "            if (\"encyclopædia\".Equals(\"encyclopaedia\", StringComparison.CurrentCulture))\n",
    "                Console.WriteLine(\"Culture comparison encyclopaedias are equal\");\n",
    "            // We can use the IgnoreCase option to perform comparisions that ignore case\n",
    "            if (\"encyclopædia\".Equals(\"ENCYCLOPAEDIA\", StringComparison.CurrentCultureIgnoreCase))\n",
    "                Console.WriteLine(\"Case culture comparison encyclopaedias are equal\");\n",
    "            if (!\"encyclopædia\".Equals(\"ENCYCLOPAEDIA\", StringComparison.OrdinalIgnoreCase))\n",
    "                Console.WriteLine(\"Ordinal comparison encyclopaedias are not equal\");\n",
    "\n",
    "            //Console.ReadKey();\n",
    "        }\n",
    "    }\n",
    "}\n"
   ]
  },
  {
   "cell_type": "code",
   "execution_count": 2,
   "metadata": {},
   "outputs": [
    {
     "data": {
      "text/html": [
       "Contains"
      ],
      "text/plain": [
       "Contains"
      ]
     },
     "metadata": {},
     "output_type": "display_data"
    },
    {
     "data": {
      "text/html": [
       "Input contains Rob"
      ],
      "text/plain": [
       "Input contains Rob"
      ]
     },
     "metadata": {},
     "output_type": "display_data"
    },
    {
     "data": {
      "text/html": [
       "StartsWith and EndsWith"
      ],
      "text/plain": [
       "StartsWith and EndsWith"
      ]
     },
     "metadata": {},
     "output_type": "display_data"
    },
    {
     "data": {
      "text/html": [
       "Starts with Rob"
      ],
      "text/plain": [
       "Starts with Rob"
      ]
     },
     "metadata": {},
     "output_type": "display_data"
    },
    {
     "data": {
      "text/html": [
       "IndexOf and SubString"
      ],
      "text/plain": [
       "IndexOf and SubString"
      ]
     },
     "metadata": {},
     "output_type": "display_data"
    },
    {
     "data": {
      "text/html": [
       "Rob"
      ],
      "text/plain": [
       "Rob"
      ]
     },
     "metadata": {},
     "output_type": "display_data"
    },
    {
     "data": {
      "text/html": [
       "Replace"
      ],
      "text/plain": [
       "Replace"
      ]
     },
     "metadata": {},
     "output_type": "display_data"
    },
    {
     "data": {
      "text/html": [
       "Robert Miles"
      ],
      "text/plain": [
       "Robert Miles"
      ]
     },
     "metadata": {},
     "output_type": "display_data"
    },
    {
     "data": {
      "text/html": [
       "Split"
      ],
      "text/plain": [
       "Split"
      ]
     },
     "metadata": {},
     "output_type": "display_data"
    },
    {
     "data": {
      "text/html": [
       "The"
      ],
      "text/plain": [
       "The"
      ]
     },
     "metadata": {},
     "output_type": "display_data"
    },
    {
     "data": {
      "text/html": [
       "cat"
      ],
      "text/plain": [
       "cat"
      ]
     },
     "metadata": {},
     "output_type": "display_data"
    },
    {
     "data": {
      "text/html": [
       "sat"
      ],
      "text/plain": [
       "sat"
      ]
     },
     "metadata": {},
     "output_type": "display_data"
    },
    {
     "data": {
      "text/html": [
       "on"
      ],
      "text/plain": [
       "on"
      ]
     },
     "metadata": {},
     "output_type": "display_data"
    },
    {
     "data": {
      "text/html": [
       "the"
      ],
      "text/plain": [
       "the"
      ]
     },
     "metadata": {},
     "output_type": "display_data"
    },
    {
     "data": {
      "text/html": [
       "mat."
      ],
      "text/plain": [
       "mat."
      ]
     },
     "metadata": {},
     "output_type": "display_data"
    },
    {
     "data": {
      "text/html": [
       "Culture"
      ],
      "text/plain": [
       "Culture"
      ]
     },
     "metadata": {},
     "output_type": "display_data"
    },
    {
     "data": {
      "text/html": [
       "Unicode encyclopaedias are not equal"
      ],
      "text/plain": [
       "Unicode encyclopaedias are not equal"
      ]
     },
     "metadata": {},
     "output_type": "display_data"
    },
    {
     "data": {
      "text/html": [
       "Culture comparison encyclopaedias are equal"
      ],
      "text/plain": [
       "Culture comparison encyclopaedias are equal"
      ]
     },
     "metadata": {},
     "output_type": "display_data"
    },
    {
     "data": {
      "text/html": [
       "Ordinal comparison encyclopaedias are not equal"
      ],
      "text/plain": [
       "Ordinal comparison encyclopaedias are not equal"
      ]
     },
     "metadata": {},
     "output_type": "display_data"
    }
   ],
   "source": [
    "LISTING_2_70_String_methods.Program.Main(new string[0]);"
   ]
  }
 ],
 "metadata": {
  "kernelspec": {
   "display_name": "C#",
   "language": "csharp",
   "name": "kernel-spec"
  },
  "language_info": {
   "file_extension": ".cs",
   "mimetype": "text/x-csharp",
   "name": "C#",
   "pygments_lexer": "c#",
   "version": "4.0.30319"
  }
 },
 "nbformat": 4,
 "nbformat_minor": 2
}

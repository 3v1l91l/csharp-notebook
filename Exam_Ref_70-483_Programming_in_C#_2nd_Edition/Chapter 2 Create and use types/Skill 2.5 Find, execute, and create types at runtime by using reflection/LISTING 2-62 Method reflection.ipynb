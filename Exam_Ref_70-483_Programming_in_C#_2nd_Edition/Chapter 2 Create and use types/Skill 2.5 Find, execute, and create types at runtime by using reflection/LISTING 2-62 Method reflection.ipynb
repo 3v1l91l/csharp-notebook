{
 "cells": [
  {
   "cell_type": "markdown",
   "metadata": {},
   "source": [
    "# Info"
   ]
  },
  {
   "cell_type": "markdown",
   "metadata": {},
   "source": [
    "This example is from\n",
    "* [github.com/ExamRef70-483/Sample-Code](https://github.com/ExamRef70-483/Sample-Code)\n",
    "* [LISTING 2-62 Method reflection](https://github.com/ExamRef70-483/Sample-Code/blob/master/LISTING%202-62%E2%80%82Method%20reflection/LISTING%202-62%E2%80%82Method%20reflection/Program.cs)\n",
    "\n",
    "\n",
    "## Remember\n",
    "* Main() is not called automatically. Has to be called manual. Remember '**public**'\n",
    "* Console.ReadKey() should not be used.\n"
   ]
  },
  {
   "cell_type": "code",
   "execution_count": null,
   "metadata": {},
   "outputs": [],
   "source": [
    "using System;\n",
    "using System.Reflection;\n",
    "\n",
    "namespace LISTING_2_62_Method_reflection\n",
    "{\n",
    "    public class Calculator\n",
    "    {\n",
    "        public int AddInt(int v1, int v2)\n",
    "        {\n",
    "            return v1 + v2;\n",
    "        }\n",
    "    }\n",
    "\n",
    "    class Program\n",
    "    {\n",
    "        static public void Main(string[] args)\n",
    "        {\n",
    "            Console.WriteLine(\"Get the type information for the Calculator class\");\n",
    "            Type type = typeof(Calculator);\n",
    "\n",
    "            Console.WriteLine(\"Get the method info for the AddInt method\");\n",
    "            MethodInfo AddIntMethodInfo = type.GetMethod(\"AddInt\");\n",
    "\n",
    "            Console.WriteLine(\"Get the IL instructions for the AddInt method\");\n",
    "            MethodBody AddIntMethodBody = AddIntMethodInfo.GetMethodBody();\n",
    "\n",
    "            // Print the IL instructions.\n",
    "            foreach (byte b in AddIntMethodBody.GetILAsByteArray())\n",
    "            {\n",
    "                Console.Write(\" {0:X}\", b);\n",
    "            }\n",
    "            Console.WriteLine();\n",
    "\n",
    "            Console.WriteLine(\"Create Calculator instance\");\n",
    "            Calculator calc = new Calculator();\n",
    "\n",
    "            Console.WriteLine(\"Create parameter array for the method\");\n",
    "            object[] inputs = new object[] { 1, 2 };\n",
    "\n",
    "            Console.WriteLine(\"Call Invoke on the method info\");\n",
    "            Console.WriteLine(\"Cast the result to an integer\");\n",
    "            int result = (int) AddIntMethodInfo.Invoke(calc, inputs);\n",
    "            Console.WriteLine(\"Result of: {0}\", result);\n",
    "\n",
    "            Console.WriteLine(\"Call InvokeMember on the type\");\n",
    "            result = (int) type.InvokeMember(\"AddInt\",\n",
    "                        BindingFlags.InvokeMethod | BindingFlags.Instance | BindingFlags.Public,\n",
    "                        null,\n",
    "                        calc,\n",
    "                        inputs);\n",
    "            Console.WriteLine(\"Result of: {0}\", result);\n",
    "\n",
    "            //Console.ReadKey();\n",
    "        }\n",
    "    }\n",
    "}\n"
   ]
  },
  {
   "cell_type": "code",
   "execution_count": null,
   "metadata": {},
   "outputs": [],
   "source": [
    "LISTING_2_62_Method_reflection.Program.Main(new string[0]);"
   ]
  }
 ],
 "metadata": {
  "kernelspec": {
   "display_name": "C#",
   "language": "csharp",
   "name": "kernel-spec"
  },
  "language_info": {
   "file_extension": ".cs",
   "mimetype": "text/x-csharp",
   "name": "C#",
   "pygments_lexer": "c#",
   "version": "4.0.30319"
  }
 },
 "nbformat": 4,
 "nbformat_minor": 2
}

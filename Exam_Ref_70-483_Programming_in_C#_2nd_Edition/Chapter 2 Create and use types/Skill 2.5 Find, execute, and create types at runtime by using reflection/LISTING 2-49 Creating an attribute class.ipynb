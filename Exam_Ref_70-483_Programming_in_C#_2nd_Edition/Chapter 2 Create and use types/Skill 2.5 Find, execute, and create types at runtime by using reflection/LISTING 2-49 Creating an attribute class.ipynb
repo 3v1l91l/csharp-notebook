{
 "cells": [
  {
   "cell_type": "markdown",
   "metadata": {},
   "source": [
    "# Info"
   ]
  },
  {
   "cell_type": "markdown",
   "metadata": {},
   "source": [
    "This example is from\n",
    "* [github.com/ExamRef70-483/Sample-Code](https://github.com/ExamRef70-483/Sample-Code)\n",
    "* [LISTING 2-49 Creating an attribute class](https://github.com/ExamRef70-483/Sample-Code/blob/master/LISTING%202-49%E2%80%82Creating%20an%20attribute%20class/LISTING%202-49%E2%80%82Creating%20an%20attribute%20class/Program.cs)\n",
    "\n",
    "\n",
    "## Remember\n",
    "* Main() is not called automatically. Has to be called manual. Remember '**public**'\n",
    "* Console.ReadKey() should not be used.\n"
   ]
  },
  {
   "cell_type": "code",
   "execution_count": 1,
   "metadata": {},
   "outputs": [],
   "source": [
    "using System;\n",
    "\n",
    "namespace LISTING_2_49_Creating_an_attribute_class\n",
    "{\n",
    "    class ProgrammerAttribute : Attribute\n",
    "    {\n",
    "        private string programmerValue;\n",
    "\n",
    "        public ProgrammerAttribute(string programmer)\n",
    "        {\n",
    "            programmerValue = programmer;\n",
    "        }\n",
    "\n",
    "        public string Programmer\n",
    "        {\n",
    "            get\n",
    "            {\n",
    "                return programmerValue;\n",
    "            }\n",
    "          }\n",
    "    }\n",
    "\n",
    "    [ProgrammerAttribute(programmer:\"Fred\")]\n",
    "    class Person\n",
    "    {\n",
    "        // We can add attributes to any element\n",
    "        [ProgrammerAttribute(programmer: \"Fred\")]\n",
    "        public string Name { get; set; }\n",
    "    }\n",
    "\n",
    "    class Program\n",
    "    {\n",
    "        static public void Main(string[] args)\n",
    "        {\n",
    "        }\n",
    "    }\n",
    "}\n"
   ]
  },
  {
   "cell_type": "code",
   "execution_count": 2,
   "metadata": {},
   "outputs": [],
   "source": [
    "LISTING_2_49_Creating_an_attribute_class.Program.Main(new string[0]);"
   ]
  }
 ],
 "metadata": {
  "kernelspec": {
   "display_name": "C#",
   "language": "csharp",
   "name": "kernel-spec"
  },
  "language_info": {
   "file_extension": ".cs",
   "mimetype": "text/x-csharp",
   "name": "C#",
   "pygments_lexer": "c#",
   "version": "4.0.30319"
  }
 },
 "nbformat": 4,
 "nbformat_minor": 2
}

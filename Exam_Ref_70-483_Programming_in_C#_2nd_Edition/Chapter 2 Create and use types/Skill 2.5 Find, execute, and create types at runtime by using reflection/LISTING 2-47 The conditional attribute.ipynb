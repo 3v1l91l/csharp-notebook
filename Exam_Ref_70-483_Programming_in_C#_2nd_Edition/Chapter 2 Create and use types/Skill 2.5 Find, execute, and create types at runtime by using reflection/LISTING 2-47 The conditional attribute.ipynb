{
 "cells": [
  {
   "cell_type": "markdown",
   "metadata": {},
   "source": [
    "# Info"
   ]
  },
  {
   "cell_type": "markdown",
   "metadata": {},
   "source": [
    "This example is from\n",
    "* [github.com/ExamRef70-483/Sample-Code](https://github.com/ExamRef70-483/Sample-Code)\n",
    "* [LISTING 2-47 The conditional attribute](https://github.com/ExamRef70-483/Sample-Code/blob/master/LISTING%202-47%E2%80%82The%20conditional%20attribute/LISTING%202-47%E2%80%82The%20conditional%20attribute/Program.cs)\n",
    "\n",
    "\n",
    "## Remember\n",
    "* Main() is not called automatically. Has to be called manual. Remember '**public**'\n",
    "* Console.ReadKey() should not be used.\n"
   ]
  },
  {
   "cell_type": "code",
   "execution_count": 1,
   "metadata": {},
   "outputs": [],
   "source": [
    "//#define TERSE\n",
    "#define VERBOSE\n",
    "\n",
    "using System;\n",
    "using System.Diagnostics;\n",
    "\n",
    "namespace LISTING_2_47_The_conditional_attribute\n",
    "{\n",
    "    class Program\n",
    "    {\n",
    "        [Conditional(\"VERBOSE\"), Conditional(\"TERSE\")]\n",
    "        static void reportHeader()\n",
    "        {\n",
    "            Console.WriteLine(\"This is the header for the report\");\n",
    "        }\n",
    "\n",
    "        [Conditional(\"VERBOSE\")]\n",
    "        static void verboseReport()\n",
    "        {\n",
    "            Console.WriteLine(\"This is output from the verbose report.\");\n",
    "        }\n",
    "\n",
    "        [Conditional(\"TERSE\")]\n",
    "        static void terseReport()\n",
    "        {\n",
    "            Console.WriteLine(\"This is output from the terse report.\");\n",
    "        }\n",
    "\n",
    "        static public void Main(string[] args)\n",
    "        {\n",
    "            reportHeader();\n",
    "            terseReport();\n",
    "            verboseReport();\n",
    "            //Console.ReadKey();\n",
    "        }\n",
    "    }\n",
    "}\n"
   ]
  },
  {
   "cell_type": "code",
   "execution_count": 2,
   "metadata": {},
   "outputs": [
    {
     "data": {
      "text/html": [
       "This is the header for the report"
      ],
      "text/plain": [
       "This is the header for the report"
      ]
     },
     "metadata": {},
     "output_type": "display_data"
    },
    {
     "data": {
      "text/html": [
       "This is output from the verbose report."
      ],
      "text/plain": [
       "This is output from the verbose report."
      ]
     },
     "metadata": {},
     "output_type": "display_data"
    }
   ],
   "source": [
    "LISTING_2_47_The_conditional_attribute.Program.Main(new string[0]);"
   ]
  }
 ],
 "metadata": {
  "kernelspec": {
   "display_name": "C#",
   "language": "csharp",
   "name": "kernel-spec"
  },
  "language_info": {
   "file_extension": ".cs",
   "mimetype": "text/x-csharp",
   "name": "C#",
   "pygments_lexer": "c#",
   "version": "4.0.30319"
  }
 },
 "nbformat": 4,
 "nbformat_minor": 2
}

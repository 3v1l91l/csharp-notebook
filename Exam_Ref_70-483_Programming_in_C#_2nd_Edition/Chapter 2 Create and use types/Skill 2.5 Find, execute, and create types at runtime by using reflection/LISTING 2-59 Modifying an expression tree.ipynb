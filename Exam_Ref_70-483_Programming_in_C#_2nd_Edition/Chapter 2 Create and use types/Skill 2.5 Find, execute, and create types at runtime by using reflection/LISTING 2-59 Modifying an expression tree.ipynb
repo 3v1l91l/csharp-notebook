{
 "cells": [
  {
   "cell_type": "markdown",
   "metadata": {},
   "source": [
    "# Info"
   ]
  },
  {
   "cell_type": "markdown",
   "metadata": {},
   "source": [
    "This example is from\n",
    "* [github.com/ExamRef70-483/Sample-Code](https://github.com/ExamRef70-483/Sample-Code)\n",
    "* [LISTING 2-59 Modifying an expression tree](https://github.com/ExamRef70-483/Sample-Code/blob/master/LISTING%202-59%E2%80%82Modifying%20an%20expression%20tree/LISTING%202-59%E2%80%82Modifying%20an%20expression%20tree/Program.cs)\n",
    "\n",
    "\n",
    "## Remember\n",
    "* Main() is not called automatically. Has to be called manual. Remember '**public**'\n",
    "* Console.ReadKey() should not be used.\n"
   ]
  },
  {
   "cell_type": "code",
   "execution_count": null,
   "metadata": {},
   "outputs": [],
   "source": [
    "using System;\n",
    "using System.Collections.Generic;\n",
    "using System.Linq;\n",
    "using System.Text;\n",
    "using System.Threading.Tasks;\n",
    "using System.Linq.Expressions;\n",
    "\n",
    "namespace LISTING_2_59_Modifying_an_expression_tree\n",
    "{\n",
    "\n",
    "public class MultiplyToAdd : ExpressionVisitor\n",
    "{\n",
    "    public Expression Modify(Expression expression)\n",
    "    {\n",
    "        return Visit(expression);\n",
    "    }\n",
    "\n",
    "    protected override Expression VisitBinary(BinaryExpression b)\n",
    "    {\n",
    "        if (b.NodeType == ExpressionType.Multiply)\n",
    "        {\n",
    "            Expression left = this.Visit(b.Left);\n",
    "            Expression right = this.Visit(b.Right);\n",
    "\n",
    "            // Make this binary expression an Add rather than a multiply operation.\n",
    "            return Expression.Add(left, right);\n",
    "        }\n",
    "\n",
    "        return base.VisitBinary(b);\n",
    "    }\n",
    "}\n",
    "\n",
    "    class Program\n",
    "    {\n",
    "        static public void Main(string[] args)\n",
    "        {\n",
    "            // build the expression tree: Expression<Func<int,int>> square = num => num * num;\n",
    "\n",
    "            // The parameter for the expression is an integer\n",
    "            ParameterExpression numParam = Expression.Parameter(typeof(int), \"num\");\n",
    "\n",
    "            // The opertion to be performed is to square the parameter\n",
    "            BinaryExpression squareOperation = Expression.Multiply(numParam, numParam);\n",
    "\n",
    "            // This creates an expression tree that describes the square operation\n",
    "            Expression<Func<int, int>> square =\n",
    "                Expression.Lambda<Func<int, int>>(\n",
    "                    squareOperation,\n",
    "                    new ParameterExpression[] { numParam });\n",
    "\n",
    "            // Compile the tree to make an executable method and assign it to a delegate\n",
    "            Func<int, int> doSquare = square.Compile();\n",
    "\n",
    "            // Call the delegate\n",
    "            Console.WriteLine(\"Square of 4: {0}\", doSquare(4));\n",
    "\n",
    "            // Modify the expression to replace the multiply with an add\n",
    "\n",
    "            MultiplyToAdd m = new MultiplyToAdd();\n",
    "\n",
    "            Expression<Func<int, int>> addExpression = (Expression<Func<int, int>>)m.Modify(square);\n",
    "            Func<int, int> doAdd = addExpression.Compile();\n",
    "\n",
    "            Console.WriteLine(\"Double of 4: {0}\", doAdd(4));\n",
    "\n",
    "            //Console.ReadKey();\n",
    "        }\n",
    "    }\n",
    "}\n"
   ]
  },
  {
   "cell_type": "code",
   "execution_count": null,
   "metadata": {},
   "outputs": [],
   "source": [
    "LISTING_2_59_Modifying_an_expression_tree.Program.Main(new string[0]);"
   ]
  }
 ],
 "metadata": {
  "kernelspec": {
   "display_name": "C#",
   "language": "csharp",
   "name": "kernel-spec"
  },
  "language_info": {
   "file_extension": ".cs",
   "mimetype": "text/x-csharp",
   "name": "C#",
   "pygments_lexer": "c#",
   "version": "4.0.30319"
  }
 },
 "nbformat": 4,
 "nbformat_minor": 2
}

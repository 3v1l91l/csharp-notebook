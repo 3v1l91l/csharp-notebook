{
 "cells": [
  {
   "cell_type": "markdown",
   "metadata": {},
   "source": [
    "# Info"
   ]
  },
  {
   "cell_type": "markdown",
   "metadata": {},
   "source": [
    "This example is from\n",
    "* [github.com/ExamRef70-483/Sample-Code](https://github.com/ExamRef70-483/Sample-Code)\n",
    "* [LISTING 2-60 Assembly object](https://github.com/ExamRef70-483/Sample-Code/blob/master/LISTING%202-60%E2%80%82Assembly%20object/LISTING%202-60%E2%80%82Assembly%20object/Program.cs)\n",
    "\n",
    "\n",
    "## Remember\n",
    "* Main() is not called automatically. Has to be called manual. Remember '**public**'\n",
    "* Console.ReadKey() should not be used.\n"
   ]
  },
  {
   "cell_type": "code",
   "execution_count": 1,
   "metadata": {},
   "outputs": [],
   "source": [
    "using System;\n",
    "using System.Reflection;\n",
    "\n",
    "namespace LISTING_2_60_Assembly_object\n",
    "{\n",
    "    class Program\n",
    "    {\n",
    "        static public void Main(string[] args)\n",
    "        {\n",
    "            Assembly assembly = Assembly.GetExecutingAssembly();\n",
    "\n",
    "            Console.WriteLine(\"Full name: {0}\", assembly.FullName);\n",
    "            AssemblyName name = assembly.GetName();\n",
    "            Console.WriteLine(\"Major Version: {0}\", name.Version.Major);\n",
    "            Console.WriteLine(\"Minor Version: {0}\", name.Version.Minor);\n",
    "            Console.WriteLine(\"In global assembly cache: {0}\", assembly.GlobalAssemblyCache);\n",
    "            foreach (Module assemblyModule in assembly.Modules)\n",
    "            {\n",
    "                Console.WriteLine(\"  Module: {0}\", assemblyModule.Name);\n",
    "                foreach (Type moduleType in assemblyModule.GetTypes())\n",
    "                {\n",
    "                    Console.WriteLine(\"     Type: {0}\", moduleType.Name);\n",
    "                    foreach (MemberInfo member in moduleType.GetMembers())\n",
    "                    {\n",
    "                        Console.WriteLine(\"        Member: {0}\", member.Name);\n",
    "                    }\n",
    "                }\n",
    "            }\n",
    "\n",
    "            //Console.ReadKey();\n",
    "        }\n",
    "    }\n",
    "}\n"
   ]
  },
  {
   "cell_type": "code",
   "execution_count": 2,
   "metadata": {},
   "outputs": [
    {
     "data": {
      "text/html": [
       "Full name: eval-1, Version=0.0.0.0, Culture=neutral, PublicKeyToken=null"
      ],
      "text/plain": [
       "Full name: eval-1, Version=0.0.0.0, Culture=neutral, PublicKeyToken=null"
      ]
     },
     "metadata": {},
     "output_type": "display_data"
    },
    {
     "data": {
      "text/html": [
       "Major Version: 0"
      ],
      "text/plain": [
       "Major Version: 0"
      ]
     },
     "metadata": {},
     "output_type": "display_data"
    },
    {
     "data": {
      "text/html": [
       "Minor Version: 0"
      ],
      "text/plain": [
       "Minor Version: 0"
      ]
     },
     "metadata": {},
     "output_type": "display_data"
    },
    {
     "data": {
      "text/html": [
       "In global assembly cache: False"
      ],
      "text/plain": [
       "In global assembly cache: False"
      ]
     },
     "metadata": {},
     "output_type": "display_data"
    },
    {
     "data": {
      "text/html": [
       "  Module: eval-1"
      ],
      "text/plain": [
       "  Module: eval-1"
      ]
     },
     "metadata": {},
     "output_type": "display_data"
    },
    {
     "data": {
      "text/html": [
       "     Type: Program"
      ],
      "text/plain": [
       "     Type: Program"
      ]
     },
     "metadata": {},
     "output_type": "display_data"
    },
    {
     "data": {
      "text/html": [
       "        Member: Main"
      ],
      "text/plain": [
       "        Member: Main"
      ]
     },
     "metadata": {},
     "output_type": "display_data"
    },
    {
     "data": {
      "text/html": [
       "        Member: Equals"
      ],
      "text/plain": [
       "        Member: Equals"
      ]
     },
     "metadata": {},
     "output_type": "display_data"
    },
    {
     "data": {
      "text/html": [
       "        Member: GetHashCode"
      ],
      "text/plain": [
       "        Member: GetHashCode"
      ]
     },
     "metadata": {},
     "output_type": "display_data"
    },
    {
     "data": {
      "text/html": [
       "        Member: GetType"
      ],
      "text/plain": [
       "        Member: GetType"
      ]
     },
     "metadata": {},
     "output_type": "display_data"
    },
    {
     "data": {
      "text/html": [
       "        Member: ToString"
      ],
      "text/plain": [
       "        Member: ToString"
      ]
     },
     "metadata": {},
     "output_type": "display_data"
    },
    {
     "data": {
      "text/html": [
       "        Member: .ctor"
      ],
      "text/plain": [
       "        Member: .ctor"
      ]
     },
     "metadata": {},
     "output_type": "display_data"
    }
   ],
   "source": [
    "LISTING_2_60_Assembly_object.Program.Main(new string[0]);"
   ]
  }
 ],
 "metadata": {
  "kernelspec": {
   "display_name": "C#",
   "language": "csharp",
   "name": "kernel-spec"
  },
  "language_info": {
   "file_extension": ".cs",
   "mimetype": "text/x-csharp",
   "name": "C#",
   "pygments_lexer": "c#",
   "version": "4.0.30319"
  }
 },
 "nbformat": 4,
 "nbformat_minor": 2
}

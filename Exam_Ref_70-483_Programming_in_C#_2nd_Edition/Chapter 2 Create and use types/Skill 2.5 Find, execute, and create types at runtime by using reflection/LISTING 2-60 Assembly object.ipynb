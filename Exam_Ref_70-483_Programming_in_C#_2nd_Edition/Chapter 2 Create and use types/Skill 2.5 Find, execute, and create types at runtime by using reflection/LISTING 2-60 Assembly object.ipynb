{
 "cells": [
  {
   "cell_type": "markdown",
   "metadata": {},
   "source": [
    "# Info"
   ]
  },
  {
   "cell_type": "markdown",
   "metadata": {},
   "source": [
    "This example is from\n",
    "* [github.com/ExamRef70-483/Sample-Code](https://github.com/ExamRef70-483/Sample-Code)\n",
    "* [LISTING 2-60 Assembly object](https://github.com/ExamRef70-483/Sample-Code/blob/master/LISTING%202-60%E2%80%82Assembly%20object/LISTING%202-60%E2%80%82Assembly%20object/Program.cs)\n",
    "\n",
    "\n",
    "## Remember\n",
    "* Main() is not called automatically. Has to be called manual. Remember '**public**'\n",
    "* Console.ReadKey() should not be used.\n"
   ]
  },
  {
   "cell_type": "code",
   "execution_count": null,
   "metadata": {},
   "outputs": [],
   "source": [
    "using System;\n",
    "using System.Reflection;\n",
    "\n",
    "namespace LISTING_2_60_Assembly_object\n",
    "{\n",
    "    class Program\n",
    "    {\n",
    "        static public void Main(string[] args)\n",
    "        {\n",
    "            Assembly assembly = Assembly.GetExecutingAssembly();\n",
    "\n",
    "            Console.WriteLine(\"Full name: {0}\", assembly.FullName);\n",
    "            AssemblyName name = assembly.GetName();\n",
    "            Console.WriteLine(\"Major Version: {0}\", name.Version.Major);\n",
    "            Console.WriteLine(\"Minor Version: {0}\", name.Version.Minor);\n",
    "            Console.WriteLine(\"In global assembly cache: {0}\", assembly.GlobalAssemblyCache);\n",
    "            foreach (Module assemblyModule in assembly.Modules)\n",
    "            {\n",
    "                Console.WriteLine(\"  Module: {0}\", assemblyModule.Name);\n",
    "                foreach (Type moduleType in assemblyModule.GetTypes())\n",
    "                {\n",
    "                    Console.WriteLine(\"     Type: {0}\", moduleType.Name);\n",
    "                    foreach (MemberInfo member in moduleType.GetMembers())\n",
    "                    {\n",
    "                        Console.WriteLine(\"        Member: {0}\", member.Name);\n",
    "                    }\n",
    "                }\n",
    "            }\n",
    "\n",
    "            //Console.ReadKey();\n",
    "        }\n",
    "    }\n",
    "}\n"
   ]
  },
  {
   "cell_type": "code",
   "execution_count": null,
   "metadata": {},
   "outputs": [],
   "source": [
    "LISTING_2_60_Assembly_object.Program.Main(new string[0]);"
   ]
  }
 ],
 "metadata": {
  "kernelspec": {
   "display_name": "C#",
   "language": "csharp",
   "name": "kernel-spec"
  },
  "language_info": {
   "file_extension": ".cs",
   "mimetype": "text/x-csharp",
   "name": "C#",
   "pygments_lexer": "c#",
   "version": "4.0.30319"
  }
 },
 "nbformat": 4,
 "nbformat_minor": 2
}

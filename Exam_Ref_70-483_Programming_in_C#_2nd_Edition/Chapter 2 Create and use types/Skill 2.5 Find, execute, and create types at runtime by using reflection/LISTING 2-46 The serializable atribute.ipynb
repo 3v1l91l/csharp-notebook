{
 "cells": [
  {
   "cell_type": "markdown",
   "metadata": {},
   "source": [
    "# Info"
   ]
  },
  {
   "cell_type": "markdown",
   "metadata": {},
   "source": [
    "This example is from\n",
    "* [github.com/ExamRef70-483/Sample-Code](https://github.com/ExamRef70-483/Sample-Code)\n",
    "* [LISTING 2-46 The serializable atribute](https://github.com/ExamRef70-483/Sample-Code/blob/master/LISTING%202-46%E2%80%82The%20serializable%20atribute/LISTING%202-46%E2%80%82The%20serializable%20atribute/Program.cs)\n",
    "\n",
    "\n",
    "## Remember\n",
    "* Main() is not called automatically. Has to be called manual. Remember '**public**'\n",
    "* Console.ReadKey() should not be used.\n"
   ]
  },
  {
   "cell_type": "code",
   "execution_count": 1,
   "metadata": {},
   "outputs": [
    {
     "data": {
      "text/html": [
       "(12,21): warning CS0414: The private field `LISTING_2_46_The_serializable_atribute.Person.screenPosition&#39; is assigned but its value is never used"
      ],
      "text/plain": [
       "(12,21): warning CS0414: The private field `LISTING_2_46_The_serializable_atribute.Person.screenPosition' is assigned but its value is never used"
      ]
     },
     "metadata": {},
     "output_type": "display_data"
    },
    {
     "data": {
      "text/html": [
       "(12,21): warning CS0414: The private field `LISTING_2_46_The_serializable_atribute.Person.screenPosition&#39; is assigned but its value is never used"
      ],
      "text/plain": [
       "(12,21): warning CS0414: The private field `LISTING_2_46_The_serializable_atribute.Person.screenPosition' is assigned but its value is never used"
      ]
     },
     "metadata": {},
     "output_type": "display_data"
    }
   ],
   "source": [
    "using System;\n",
    "using System.Collections.Generic;\n",
    "using System.IO;\n",
    "using System.Linq;\n",
    "using System.Text;\n",
    "using System.Threading.Tasks;\n",
    "using System.Xml.Serialization;\n",
    "using System.Runtime.Serialization.Formatters.Binary;\n",
    "\n",
    "namespace LISTING_2_46_The_serializable_atribute\n",
    "{\n",
    "    [Serializable]\n",
    "    public class Person\n",
    "    {\n",
    "        public string Name;\n",
    "\n",
    "        public int Age;\n",
    "\n",
    "        [NonSerialized]\n",
    "        // No need to save this\n",
    "        private int screenPosition;\n",
    "\n",
    "        public Person(string name, int age)\n",
    "        {\n",
    "            Name = name;\n",
    "            Age = age;\n",
    "            screenPosition = 0;\n",
    "        }\n",
    "    }\n",
    "\n",
    "    class Program\n",
    "    {\n",
    "        static public void Main(string[] args)\n",
    "        {\n",
    "        }\n",
    "    }\n",
    "}\n"
   ]
  },
  {
   "cell_type": "code",
   "execution_count": 2,
   "metadata": {},
   "outputs": [],
   "source": [
    "LISTING_2_46_The_serializable_atribute.Program.Main(new string[0]);"
   ]
  }
 ],
 "metadata": {
  "kernelspec": {
   "display_name": "C#",
   "language": "csharp",
   "name": "kernel-spec"
  },
  "language_info": {
   "file_extension": ".cs",
   "mimetype": "text/x-csharp",
   "name": "C#",
   "pygments_lexer": "c#",
   "version": "4.0.30319"
  }
 },
 "nbformat": 4,
 "nbformat_minor": 2
}

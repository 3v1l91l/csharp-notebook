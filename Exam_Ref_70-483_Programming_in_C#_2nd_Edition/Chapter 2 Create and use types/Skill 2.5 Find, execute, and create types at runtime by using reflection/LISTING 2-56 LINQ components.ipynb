{
 "cells": [
  {
   "cell_type": "markdown",
   "metadata": {},
   "source": [
    "# Info"
   ]
  },
  {
   "cell_type": "markdown",
   "metadata": {},
   "source": [
    "This example is from\n",
    "* [github.com/ExamRef70-483/Sample-Code](https://github.com/ExamRef70-483/Sample-Code)\n",
    "* [LISTING 2-56 LINQ components](https://github.com/ExamRef70-483/Sample-Code/blob/master/LISTING%202-56%E2%80%82LINQ%20components/LISTING%202-56%E2%80%82LINQ%20components/Program.cs)\n",
    "\n",
    "\n",
    "## Remember\n",
    "* Main() is not called automatically. Has to be called manual. Remember '**public**'\n",
    "* Console.ReadKey() should not be used.\n"
   ]
  },
  {
   "cell_type": "code",
   "execution_count": 1,
   "metadata": {},
   "outputs": [],
   "source": [
    "using System;\n",
    "using System.Collections.Generic;\n",
    "using System.Linq;\n",
    "using System.Reflection;\n",
    "using System.Text;\n",
    "using System.Threading.Tasks;\n",
    "\n",
    "namespace LISTING_2_56_LINQ_components\n",
    "{\n",
    "    public interface IAccount\n",
    "    {\n",
    "        void PayInFunds(decimal amount);\n",
    "        bool WithdrawFunds(decimal amount);\n",
    "        decimal GetBalance();\n",
    "    }\n",
    "\n",
    "    public class BankAccount : IAccount\n",
    "    {\n",
    "        protected decimal balance = 0;\n",
    "\n",
    "        public virtual bool WithdrawFunds(decimal amount)\n",
    "        {\n",
    "            if (balance < amount)\n",
    "            {\n",
    "                return false;\n",
    "            }\n",
    "            balance = balance - amount;\n",
    "            return true;\n",
    "        }\n",
    "\n",
    "        void IAccount.PayInFunds(decimal amount)\n",
    "        {\n",
    "            balance = balance + amount;\n",
    "        }\n",
    "\n",
    "        decimal IAccount.GetBalance()\n",
    "        {\n",
    "            return balance;\n",
    "        }\n",
    "    }\n",
    "\n",
    "    public class BabyAccount : BankAccount, IAccount\n",
    "    {\n",
    "        public override bool WithdrawFunds(decimal amount)\n",
    "        {\n",
    "            if (amount > 10)\n",
    "            {\n",
    "                return false;\n",
    "            }\n",
    "\n",
    "            if (balance < amount)\n",
    "            {\n",
    "                return false;\n",
    "            }\n",
    "            balance = balance - amount;\n",
    "            return true;\n",
    "        }\n",
    "    }\n",
    "\n",
    "    class Program\n",
    "    {\n",
    "        static public void Main(string[] args)\n",
    "        {\n",
    "            Assembly thisAssembly = Assembly.GetExecutingAssembly();\n",
    "\n",
    "\n",
    "            var AccountTypes = from type in thisAssembly.GetTypes()\n",
    "                               where typeof(IAccount).IsAssignableFrom(type) && !type.IsInterface\n",
    "                               select type;\n",
    "\n",
    "            foreach (Type t in AccountTypes)\n",
    "                Console.WriteLine(t.Name);\n",
    "\n",
    "            //Console.ReadKey();\n",
    "        }\n",
    "    }\n",
    "}\n"
   ]
  },
  {
   "cell_type": "code",
   "execution_count": 2,
   "metadata": {},
   "outputs": [
    {
     "data": {
      "text/html": [
       "BankAccount"
      ],
      "text/plain": [
       "BankAccount"
      ]
     },
     "metadata": {},
     "output_type": "display_data"
    },
    {
     "data": {
      "text/html": [
       "BabyAccount"
      ],
      "text/plain": [
       "BabyAccount"
      ]
     },
     "metadata": {},
     "output_type": "display_data"
    }
   ],
   "source": [
    "LISTING_2_56_LINQ_components.Program.Main(new string[0]);"
   ]
  }
 ],
 "metadata": {
  "kernelspec": {
   "display_name": "C#",
   "language": "csharp",
   "name": "kernel-spec"
  },
  "language_info": {
   "file_extension": ".cs",
   "mimetype": "text/x-csharp",
   "name": "C#",
   "pygments_lexer": "c#",
   "version": "4.0.30319"
  }
 },
 "nbformat": 4,
 "nbformat_minor": 2
}

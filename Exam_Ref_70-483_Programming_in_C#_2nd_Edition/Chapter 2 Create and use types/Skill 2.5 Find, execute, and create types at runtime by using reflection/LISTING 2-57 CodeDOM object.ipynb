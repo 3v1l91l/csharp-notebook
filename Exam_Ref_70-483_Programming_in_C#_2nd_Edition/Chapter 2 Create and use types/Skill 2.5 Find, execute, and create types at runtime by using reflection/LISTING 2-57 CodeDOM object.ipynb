{
 "cells": [
  {
   "cell_type": "markdown",
   "metadata": {},
   "source": [
    "# Info"
   ]
  },
  {
   "cell_type": "markdown",
   "metadata": {},
   "source": [
    "This example is from\n",
    "* [github.com/ExamRef70-483/Sample-Code](https://github.com/ExamRef70-483/Sample-Code)\n",
    "* [LISTING 2-57 CodeDOM object](https://github.com/ExamRef70-483/Sample-Code/blob/master/LISTING%202-57%E2%80%82CodeDOM%20object/LISTING%202-57%E2%80%82CodeDOM%20object/Program.cs)\n",
    "\n",
    "\n",
    "## Remember\n",
    "* Main() is not called automatically. Has to be called manual. Remember '**public**'\n",
    "* Console.ReadKey() should not be used.\n"
   ]
  },
  {
   "cell_type": "code",
   "execution_count": 1,
   "metadata": {},
   "outputs": [],
   "source": [
    "using System;\n",
    "using System.CodeDom;\n",
    "using System.CodeDom.Compiler;\n",
    "using System.IO;\n",
    "\n",
    "namespace LISTING_2_57_CodeDOM_object\n",
    "{\n",
    "    class Program\n",
    "    {\n",
    "        static public void Main(string[] args)\n",
    "        {\n",
    "            CodeCompileUnit compileUnit = new CodeCompileUnit();\n",
    "\n",
    "            // Create a namespace to hold the types we are going to create\n",
    "            CodeNamespace personnelNameSpace = new CodeNamespace(\"Personnel\");\n",
    "\n",
    "            // Import the system namespace\n",
    "            personnelNameSpace.Imports.Add(new CodeNamespaceImport(\"System\"));\n",
    "\n",
    "            // Create a Person class\n",
    "            CodeTypeDeclaration personClass = new CodeTypeDeclaration(\"Person\");\n",
    "            personClass.IsClass = true;\n",
    "            personClass.TypeAttributes = System.Reflection.TypeAttributes.Public;\n",
    "\n",
    "            // Add the Person class to personnelNamespace\n",
    "            personnelNameSpace.Types.Add(personClass);\n",
    "\n",
    "            // Create a field to hold the name of a person\n",
    "            CodeMemberField nameField = new CodeMemberField(\"String\", \"name\");\n",
    "            nameField.Attributes = MemberAttributes.Private;\n",
    "\n",
    "            // Add the name field to the Person class\n",
    "            personClass.Members.Add(nameField);\n",
    "\n",
    "            // Add the namespace to the document\n",
    "            compileUnit.Namespaces.Add(personnelNameSpace);\n",
    "\n",
    "            // Now we need to send our document somewhere\n",
    "            // Create a provider to parse the document\n",
    "            CodeDomProvider provider = CodeDomProvider.CreateProvider(\"CSharp\");\n",
    "            // Give the provider somewhere to send the parsed output\n",
    "            StringWriter s = new StringWriter();\n",
    "            // Set some options for the parse - we can use the defaults\n",
    "            CodeGeneratorOptions options = new CodeGeneratorOptions();\n",
    "\n",
    "            // Generate the C# source from the CodeDOM\n",
    "            provider.GenerateCodeFromCompileUnit(compileUnit, s, options);\n",
    "            // Close the output stream\n",
    "            s.Close();\n",
    "\n",
    "            // Print the C# output\n",
    "            Console.WriteLine(s.ToString());\n",
    "\n",
    "            //Console.ReadKey();\n",
    "        }\n",
    "    }\n",
    "}\n"
   ]
  },
  {
   "cell_type": "code",
   "execution_count": 2,
   "metadata": {},
   "outputs": [],
   "source": [
    "document.Program.Main(new string[0]);"
   ]
  }
 ],
 "metadata": {
  "kernelspec": {
   "display_name": "C#",
   "language": "csharp",
   "name": "kernel-spec"
  },
  "language_info": {
   "file_extension": ".cs",
   "mimetype": "text/x-csharp",
   "name": "C#",
   "pygments_lexer": "c#",
   "version": "4.0.30319"
  }
 },
 "nbformat": 4,
 "nbformat_minor": 2
}

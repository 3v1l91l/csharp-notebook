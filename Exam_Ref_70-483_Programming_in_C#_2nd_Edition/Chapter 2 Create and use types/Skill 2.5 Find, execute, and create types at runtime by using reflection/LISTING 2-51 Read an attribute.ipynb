{
 "cells": [
  {
   "cell_type": "markdown",
   "metadata": {},
   "source": [
    "# Info"
   ]
  },
  {
   "cell_type": "markdown",
   "metadata": {},
   "source": [
    "This example is from\n",
    "* [github.com/ExamRef70-483/Sample-Code](https://github.com/ExamRef70-483/Sample-Code)\n",
    "* [LISTING 2-51 Read an attribute](https://github.com/ExamRef70-483/Sample-Code/blob/master/LISTING%202-51%E2%80%82Read%20an%20attribute/LISTING%202-51%E2%80%82Read%20an%20attribute/Program.cs)\n",
    "\n",
    "\n",
    "## Remember\n",
    "* Main() is not called automatically. Has to be called manual. Remember '**public**'\n",
    "* Console.ReadKey() should not be used.\n"
   ]
  },
  {
   "cell_type": "code",
   "execution_count": 1,
   "metadata": {},
   "outputs": [],
   "source": [
    "using System;\n",
    "\n",
    "namespace LISTING_2_51_Read_an_attribute\n",
    "{\n",
    "    [AttributeUsage(AttributeTargets.Class)]\n",
    "    class ProgrammerAttribute : Attribute\n",
    "    {\n",
    "        private string programmerValue;\n",
    "\n",
    "        public ProgrammerAttribute(string programmer)\n",
    "        {\n",
    "            programmerValue = programmer;\n",
    "        }\n",
    "\n",
    "        public string Programmer\n",
    "        {\n",
    "            get\n",
    "            {\n",
    "                return programmerValue;\n",
    "            }\n",
    "        }\n",
    "    }\n",
    "\n",
    "[ProgrammerAttribute(programmer: \"Fred\")]\n",
    "class Person\n",
    "{\n",
    "    // This would cause a compilation error as we\n",
    "    // are only allowed to apply this attribute to classes\n",
    "    // [ProgrammerAttribute(programmer: \"Fred\")]\n",
    "    public string Name { get; set; }\n",
    "}\n",
    "\n",
    "    class Program\n",
    "    {\n",
    "        static public void Main(string[] args)\n",
    "        {\n",
    "            Attribute a = Attribute.GetCustomAttribute(\n",
    "                typeof(Person), typeof(ProgrammerAttribute));\n",
    "\n",
    "            ProgrammerAttribute p = (ProgrammerAttribute)a;\n",
    "\n",
    "            Console.WriteLine(\"Programmer: {0}\", p.Programmer);\n",
    "\n",
    "            //Console.ReadKey();\n",
    "        }\n",
    "    }\n",
    "}\n"
   ]
  },
  {
   "cell_type": "code",
   "execution_count": 2,
   "metadata": {},
   "outputs": [
    {
     "data": {
      "text/html": [
       "Programmer: Fred"
      ],
      "text/plain": [
       "Programmer: Fred"
      ]
     },
     "metadata": {},
     "output_type": "display_data"
    }
   ],
   "source": [
    "LISTING_2_51_Read_an_attribute.Program.Main(new string[0]);"
   ]
  }
 ],
 "metadata": {
  "kernelspec": {
   "display_name": "C#",
   "language": "csharp",
   "name": "kernel-spec"
  },
  "language_info": {
   "file_extension": ".cs",
   "mimetype": "text/x-csharp",
   "name": "C#",
   "pygments_lexer": "c#",
   "version": "4.0.30319"
  }
 },
 "nbformat": 4,
 "nbformat_minor": 2
}

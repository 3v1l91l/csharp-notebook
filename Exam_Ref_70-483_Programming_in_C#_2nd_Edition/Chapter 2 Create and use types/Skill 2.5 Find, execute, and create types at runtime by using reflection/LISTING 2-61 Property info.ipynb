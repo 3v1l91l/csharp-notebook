{
 "cells": [
  {
   "cell_type": "markdown",
   "metadata": {},
   "source": [
    "# Info"
   ]
  },
  {
   "cell_type": "markdown",
   "metadata": {},
   "source": [
    "This example is from\n",
    "* [github.com/ExamRef70-483/Sample-Code](https://github.com/ExamRef70-483/Sample-Code)\n",
    "* [LISTING 2-61 Property info](https://github.com/ExamRef70-483/Sample-Code/blob/master/LISTING%202-61%E2%80%82Property%20info/LISTING%202-61%E2%80%82Property%20info/Program.cs)\n",
    "\n",
    "\n",
    "## Remember\n",
    "* Main() is not called automatically. Has to be called manual. Remember '**public**'\n",
    "* Console.ReadKey() should not be used.\n"
   ]
  },
  {
   "cell_type": "code",
   "execution_count": null,
   "metadata": {},
   "outputs": [],
   "source": [
    "using System;\n",
    "using System.Reflection;\n",
    "\n",
    "namespace LISTING_2_61_Property_info\n",
    "{\n",
    "    public class Person\n",
    "    {\n",
    "        public String Name { get; set; }\n",
    "\n",
    "        public String Age { get; }\n",
    "    }\n",
    "\n",
    "    class Program\n",
    "    {\n",
    "        static public void Main(string[] args)\n",
    "        {\n",
    "            Type type = typeof(Person);\n",
    "\n",
    "            foreach (PropertyInfo p in type.GetProperties())\n",
    "            {\n",
    "                Console.WriteLine(\"Property name: {0}\", p.Name);\n",
    "                if(p.CanRead)\n",
    "                {\n",
    "                    Console.WriteLine(\"Can read\");\n",
    "                    Console.WriteLine(\"Set method: {0}\", p.GetMethod);\n",
    "                }\n",
    "                if (p.CanWrite)\n",
    "                {\n",
    "                    Console.WriteLine(\"Can write\");\n",
    "                    Console.WriteLine(\"Set method: {0}\", p.SetMethod);\n",
    "                }\n",
    "            }\n",
    "\n",
    "            //Console.ReadKey();\n",
    "        }\n",
    "    }\n",
    "}\n"
   ]
  },
  {
   "cell_type": "code",
   "execution_count": null,
   "metadata": {},
   "outputs": [],
   "source": [
    "LISTING_2_61_Property_info.Program.Main(new string[0]);"
   ]
  }
 ],
 "metadata": {
  "kernelspec": {
   "display_name": "C#",
   "language": "csharp",
   "name": "kernel-spec"
  },
  "language_info": {
   "file_extension": ".cs",
   "mimetype": "text/x-csharp",
   "name": "C#",
   "pygments_lexer": "c#",
   "version": "4.0.30319"
  }
 },
 "nbformat": 4,
 "nbformat_minor": 2
}

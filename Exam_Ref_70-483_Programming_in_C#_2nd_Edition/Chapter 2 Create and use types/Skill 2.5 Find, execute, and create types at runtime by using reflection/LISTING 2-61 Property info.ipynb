{
 "cells": [
  {
   "cell_type": "markdown",
   "metadata": {},
   "source": [
    "# Info"
   ]
  },
  {
   "cell_type": "markdown",
   "metadata": {},
   "source": [
    "This example is from\n",
    "* [github.com/ExamRef70-483/Sample-Code](https://github.com/ExamRef70-483/Sample-Code)\n",
    "* [LISTING 2-61 Property info](https://github.com/ExamRef70-483/Sample-Code/blob/master/LISTING%202-61%E2%80%82Property%20info/LISTING%202-61%E2%80%82Property%20info/Program.cs)\n",
    "\n",
    "\n",
    "## Remember\n",
    "* Main() is not called automatically. Has to be called manual. Remember '**public**'\n",
    "* Console.ReadKey() should not be used.\n"
   ]
  },
  {
   "cell_type": "code",
   "execution_count": 1,
   "metadata": {},
   "outputs": [],
   "source": [
    "using System;\n",
    "using System.Reflection;\n",
    "\n",
    "namespace LISTING_2_61_Property_info\n",
    "{\n",
    "    public class Person\n",
    "    {\n",
    "        public String Name { get; set; }\n",
    "\n",
    "        public String Age { get; }\n",
    "    }\n",
    "\n",
    "    class Program\n",
    "    {\n",
    "        static public void Main(string[] args)\n",
    "        {\n",
    "            Type type = typeof(Person);\n",
    "\n",
    "            foreach (PropertyInfo p in type.GetProperties())\n",
    "            {\n",
    "                Console.WriteLine(\"Property name: {0}\", p.Name);\n",
    "                if(p.CanRead)\n",
    "                {\n",
    "                    Console.WriteLine(\"Can read\");\n",
    "                    Console.WriteLine(\"Set method: {0}\", p.GetMethod);\n",
    "                }\n",
    "                if (p.CanWrite)\n",
    "                {\n",
    "                    Console.WriteLine(\"Can write\");\n",
    "                    Console.WriteLine(\"Set method: {0}\", p.SetMethod);\n",
    "                }\n",
    "            }\n",
    "\n",
    "            //Console.ReadKey();\n",
    "        }\n",
    "    }\n",
    "}\n"
   ]
  },
  {
   "cell_type": "code",
   "execution_count": 2,
   "metadata": {},
   "outputs": [
    {
     "data": {
      "text/html": [
       "Property name: Name"
      ],
      "text/plain": [
       "Property name: Name"
      ]
     },
     "metadata": {},
     "output_type": "display_data"
    },
    {
     "data": {
      "text/html": [
       "Can read"
      ],
      "text/plain": [
       "Can read"
      ]
     },
     "metadata": {},
     "output_type": "display_data"
    },
    {
     "data": {
      "text/html": [
       "Set method: System.String get_Name()"
      ],
      "text/plain": [
       "Set method: System.String get_Name()"
      ]
     },
     "metadata": {},
     "output_type": "display_data"
    },
    {
     "data": {
      "text/html": [
       "Can write"
      ],
      "text/plain": [
       "Can write"
      ]
     },
     "metadata": {},
     "output_type": "display_data"
    },
    {
     "data": {
      "text/html": [
       "Set method: Void set_Name(System.String)"
      ],
      "text/plain": [
       "Set method: Void set_Name(System.String)"
      ]
     },
     "metadata": {},
     "output_type": "display_data"
    },
    {
     "data": {
      "text/html": [
       "Property name: Age"
      ],
      "text/plain": [
       "Property name: Age"
      ]
     },
     "metadata": {},
     "output_type": "display_data"
    },
    {
     "data": {
      "text/html": [
       "Can read"
      ],
      "text/plain": [
       "Can read"
      ]
     },
     "metadata": {},
     "output_type": "display_data"
    },
    {
     "data": {
      "text/html": [
       "Set method: System.String get_Age()"
      ],
      "text/plain": [
       "Set method: System.String get_Age()"
      ]
     },
     "metadata": {},
     "output_type": "display_data"
    }
   ],
   "source": [
    "LISTING_2_61_Property_info.Program.Main(new string[0]);"
   ]
  }
 ],
 "metadata": {
  "kernelspec": {
   "display_name": "C#",
   "language": "csharp",
   "name": "kernel-spec"
  },
  "language_info": {
   "file_extension": ".cs",
   "mimetype": "text/x-csharp",
   "name": "C#",
   "pygments_lexer": "c#",
   "version": "4.0.30319"
  }
 },
 "nbformat": 4,
 "nbformat_minor": 2
}

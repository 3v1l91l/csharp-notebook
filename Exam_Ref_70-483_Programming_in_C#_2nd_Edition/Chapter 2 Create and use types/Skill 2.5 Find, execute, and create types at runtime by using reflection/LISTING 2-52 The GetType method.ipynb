{
 "cells": [
  {
   "cell_type": "markdown",
   "metadata": {},
   "source": [
    "# Info"
   ]
  },
  {
   "cell_type": "markdown",
   "metadata": {},
   "source": [
    "This example is from\n",
    "* [github.com/ExamRef70-483/Sample-Code](https://github.com/ExamRef70-483/Sample-Code)\n",
    "* [LISTING 2-52 The GetType method](https://github.com/ExamRef70-483/Sample-Code/blob/master/LISTING%202-52%E2%80%82The%20GetType%20method/LISTING%202-52%E2%80%82The%20GetType%20method/Program.cs)\n",
    "\n",
    "\n",
    "## Remember\n",
    "* Main() is not called automatically. Has to be called manual. Remember '**public**'\n",
    "* Console.ReadKey() should not be used.\n"
   ]
  },
  {
   "cell_type": "code",
   "execution_count": null,
   "metadata": {},
   "outputs": [],
   "source": [
    "using System;\n",
    "using System.Collections.Generic;\n",
    "using System.Linq;\n",
    "using System.Text;\n",
    "using System.Threading.Tasks;\n",
    "\n",
    "namespace LISTING_2_52_The_GetType_method\n",
    "{\n",
    "    [AttributeUsage(AttributeTargets.Class)]\n",
    "    class ProgrammerAttribute : Attribute\n",
    "    {\n",
    "        private string programmerValue;\n",
    "\n",
    "        public ProgrammerAttribute(string programmer)\n",
    "        {\n",
    "            programmerValue = programmer;\n",
    "        }\n",
    "\n",
    "        public string Programmer\n",
    "        {\n",
    "            get\n",
    "            {\n",
    "                return programmerValue;\n",
    "            }\n",
    "        }\n",
    "    }\n",
    "\n",
    "    [ProgrammerAttribute(programmer: \"Fred\")]\n",
    "    class Person\n",
    "    {\n",
    "        // This would cause a compilation error as we\n",
    "        // are only allowed to apply this attribute to classes\n",
    "        // [ProgrammerAttribute(programmer: \"Fred\")]\n",
    "        public string Name { get; set; }\n",
    "    }\n",
    "\n",
    "    class Program\n",
    "    {\n",
    "        static public void Main(string[] args)\n",
    "        {\n",
    "            System.Type type;\n",
    "\n",
    "            Person p = new Person();\n",
    "            type = p.GetType();\n",
    "            Console.WriteLine(\"Person type: {0}\", type.ToString());\n",
    "\n",
    "            //Console.ReadKey();\n",
    "        }\n",
    "    }\n",
    "}\n"
   ]
  },
  {
   "cell_type": "code",
   "execution_count": null,
   "metadata": {},
   "outputs": [],
   "source": [
    "LISTING_2_52_The_GetType_method.Program.Main(new string[0]);"
   ]
  }
 ],
 "metadata": {
  "kernelspec": {
   "display_name": "C#",
   "language": "csharp",
   "name": "kernel-spec"
  },
  "language_info": {
   "file_extension": ".cs",
   "mimetype": "text/x-csharp",
   "name": "C#",
   "pygments_lexer": "c#",
   "version": "4.0.30319"
  }
 },
 "nbformat": 4,
 "nbformat_minor": 2
}

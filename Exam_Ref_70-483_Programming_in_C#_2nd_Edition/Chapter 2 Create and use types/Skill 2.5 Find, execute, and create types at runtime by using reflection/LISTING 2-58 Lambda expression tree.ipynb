{
 "cells": [
  {
   "cell_type": "markdown",
   "metadata": {},
   "source": [
    "# Info"
   ]
  },
  {
   "cell_type": "markdown",
   "metadata": {},
   "source": [
    "This example is from\n",
    "* [github.com/ExamRef70-483/Sample-Code](https://github.com/ExamRef70-483/Sample-Code)\n",
    "* [LISTING 2-58 Lambda expression tree](https://github.com/ExamRef70-483/Sample-Code/blob/master/LISTING%202-58%E2%80%82Lambda%20expression%20tree/LISTING%202-58%E2%80%82Lambda%20expression%20tree/Program.cs)\n",
    "\n",
    "\n",
    "## Remember\n",
    "* Main() is not called automatically. Has to be called manual. Remember '**public**'\n",
    "* Console.ReadKey() should not be used.\n"
   ]
  },
  {
   "cell_type": "code",
   "execution_count": null,
   "metadata": {},
   "outputs": [],
   "source": [
    "using System;\n",
    "using System.Linq.Expressions;\n",
    "\n",
    "namespace LISTING_2_58_Lambda_expression_tree\n",
    "{\n",
    "    class Program\n",
    "    {\n",
    "        static public void Main(string[] args)\n",
    "        {\n",
    "            // build the expression tree: Expression<Func<int,int>> square = num => num * num;\n",
    "\n",
    "            // The parameter for the expression is an integer\n",
    "            ParameterExpression numParam = Expression.Parameter(typeof(int), \"num\");\n",
    "\n",
    "            // The opertion to be performed is to square the parameter\n",
    "            BinaryExpression squareOperation = Expression.Multiply(numParam,numParam);\n",
    "\n",
    "            // This creates an expression tree that describes the square operation\n",
    "            Expression<Func<int, int>> square =\n",
    "                Expression.Lambda<Func<int, int>>(\n",
    "                    squareOperation,\n",
    "                    new ParameterExpression[] { numParam });\n",
    "\n",
    "            // Compile the tree to make an executable method and assign it to a delegate\n",
    "            Func<int, int> doSquare = square.Compile();\n",
    "\n",
    "            // Call the delegate\n",
    "            Console.WriteLine(\"Square of 2: {0}\", doSquare(2));\n",
    "\n",
    "            //Console.ReadKey();\n",
    "        }\n",
    "    }\n",
    "}\n"
   ]
  },
  {
   "cell_type": "code",
   "execution_count": null,
   "metadata": {},
   "outputs": [],
   "source": [
    "LISTING_2_58_Lambda_expression_tree.Program.Main(new string[0]);"
   ]
  }
 ],
 "metadata": {
  "kernelspec": {
   "display_name": "C#",
   "language": "csharp",
   "name": "kernel-spec"
  },
  "language_info": {
   "file_extension": ".cs",
   "mimetype": "text/x-csharp",
   "name": "C#",
   "pygments_lexer": "c#",
   "version": "4.0.30319"
  }
 },
 "nbformat": 4,
 "nbformat_minor": 2
}

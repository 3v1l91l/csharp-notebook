{
 "cells": [
  {
   "cell_type": "markdown",
   "metadata": {},
   "source": [
    "# Info"
   ]
  },
  {
   "cell_type": "markdown",
   "metadata": {},
   "source": [
    "This example is from\n",
    "* [github.com/ExamRef70-483/Sample-Code](https://github.com/ExamRef70-483/Sample-Code)\n",
    "* [LISTING 2-33 iPrintable interface](https://github.com/ExamRef70-483/Sample-Code/blob/master/LISTING%202-33%E2%80%82iPrintable%20interface/LISTING%202-33%E2%80%82iPrintable%20interface/Program.cs)\n",
    "\n",
    "\n",
    "## Remember\n",
    "* Main() is not called automatically. Has to be called manual. Remember '**public**'\n",
    "* Console.ReadKey() should not be used.\n"
   ]
  },
  {
   "cell_type": "code",
   "execution_count": null,
   "metadata": {},
   "outputs": [],
   "source": [
    "using System;\n",
    "\n",
    "namespace LISTING_2_33_iPrintable_interface\n",
    "{\n",
    "    interface IPrintable\n",
    "    {\n",
    "        string GetPrintableText(int pageWidth, int pageHeight);\n",
    "        string GetTitle();\n",
    "    }\n",
    "    class Report : IPrintable\n",
    "    {\n",
    "        public string GetPrintableText(int pageWidth, int pageHeight)\n",
    "        {\n",
    "            return \"Report text\";\n",
    "        }\n",
    "\n",
    "        public string GetTitle()\n",
    "        {\n",
    "            return \"Report title\";\n",
    "        }\n",
    "    }\n",
    "\n",
    "    class ConsolePrinter\n",
    "    {\n",
    "        public void PrintItem(IPrintable item)\n",
    "        {\n",
    "            Console.WriteLine(item.GetTitle());\n",
    "            Console.WriteLine(item.GetPrintableText(pageWidth: 80, pageHeight: 25));\n",
    "        }\n",
    "    }\n",
    "\n",
    "    class Program\n",
    "    {\n",
    "        static public void Main(string[] args)\n",
    "        {\n",
    "            Report myReport = new Report();\n",
    "            ConsolePrinter printer = new ConsolePrinter();\n",
    "            printer.PrintItem(myReport);\n",
    "\n",
    "            //Console.ReadKey();\n",
    "        }\n",
    "    }\n",
    "}\n"
   ]
  },
  {
   "cell_type": "code",
   "execution_count": null,
   "metadata": {},
   "outputs": [],
   "source": [
    "LISTING_2_33_iPrintable_interface.Program.Main(new string[0]);"
   ]
  }
 ],
 "metadata": {
  "kernelspec": {
   "display_name": "C#",
   "language": "csharp",
   "name": "kernel-spec"
  },
  "language_info": {
   "file_extension": ".cs",
   "mimetype": "text/x-csharp",
   "name": "C#",
   "pygments_lexer": "c#",
   "version": "4.0.30319"
  }
 },
 "nbformat": 4,
 "nbformat_minor": 2
}

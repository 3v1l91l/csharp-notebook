{
 "cells": [
  {
   "cell_type": "markdown",
   "metadata": {},
   "source": [
    "# Info"
   ]
  },
  {
   "cell_type": "markdown",
   "metadata": {},
   "source": [
    "This example is from\n",
    "* [github.com/ExamRef70-483/Sample-Code](https://github.com/ExamRef70-483/Sample-Code)\n",
    "* [LISTING 2-45 Using IDisposable](https://github.com/ExamRef70-483/Sample-Code/blob/master/LISTING%202-45%E2%80%82Using%20IDisposable/LISTING%202-45%E2%80%82Using%20IDisposable/Program.cs)\n",
    "\n",
    "\n",
    "## Remember\n",
    "* Main() is not called automatically. Has to be called manual. Remember '**public**'\n",
    "* Console.ReadKey() should not be used.\n"
   ]
  },
  {
   "cell_type": "code",
   "execution_count": null,
   "metadata": {},
   "outputs": [],
   "source": [
    "using System;\n",
    "\n",
    "namespace LISTING_2_45_Using_IDisposable\n",
    "{\n",
    "    class CrucialConnection : IDisposable\n",
    "    {\n",
    "        public void Dispose()\n",
    "        {\n",
    "            Console.WriteLine(\"Dispose called\");\n",
    "        }\n",
    "\n",
    "        public void ThrowException()\n",
    "        {\n",
    "            throw new Exception(\"Bang\");\n",
    "        }\n",
    "\n",
    "    }\n",
    "    class Program\n",
    "    {\n",
    "        static public void Main(string[] args)\n",
    "        {\n",
    "            using (CrucialConnection c = new CrucialConnection())\n",
    "            {\n",
    "                // do something with the crucial connection\n",
    "            }\n",
    "\n",
    "            //Console.ReadKey();\n",
    "        }\n",
    "    }\n",
    "}\n"
   ]
  },
  {
   "cell_type": "code",
   "execution_count": null,
   "metadata": {},
   "outputs": [],
   "source": [
    "LISTING_2_45_Using_IDisposable.Program.Main(new string[0]);"
   ]
  }
 ],
 "metadata": {
  "kernelspec": {
   "display_name": "C#",
   "language": "csharp",
   "name": "kernel-spec"
  },
  "language_info": {
   "file_extension": ".cs",
   "mimetype": "text/x-csharp",
   "name": "C#",
   "pygments_lexer": "c#",
   "version": "4.0.30319"
  }
 },
 "nbformat": 4,
 "nbformat_minor": 2
}

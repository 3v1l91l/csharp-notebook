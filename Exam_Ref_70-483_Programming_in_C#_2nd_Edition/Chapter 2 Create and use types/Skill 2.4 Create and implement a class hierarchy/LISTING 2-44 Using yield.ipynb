{
 "cells": [
  {
   "cell_type": "markdown",
   "metadata": {},
   "source": [
    "# Info"
   ]
  },
  {
   "cell_type": "markdown",
   "metadata": {},
   "source": [
    "This example is from\n",
    "* [github.com/ExamRef70-483/Sample-Code](https://github.com/ExamRef70-483/Sample-Code)\n",
    "* [LISTING 2-44 Using yield](https://github.com/ExamRef70-483/Sample-Code/blob/master/LISTING%202-44%E2%80%82Using%20yield/LISTING%202-44%E2%80%82Using%20yield/Program.cs)\n",
    "\n",
    "\n",
    "## Remember\n",
    "* Main() is not called automatically. Has to be called manual. Remember '**public**'\n",
    "* Console.ReadKey() should not be used.\n"
   ]
  },
  {
   "cell_type": "code",
   "execution_count": null,
   "metadata": {},
   "outputs": [],
   "source": [
    "using System;\n",
    "using System.Collections;\n",
    "using System.Collections.Generic;\n",
    "using System.Linq;\n",
    "using System.Text;\n",
    "using System.Threading.Tasks;\n",
    "\n",
    "namespace LISTING_2_44_Using_yield\n",
    "{\n",
    "    class EnumeratorThing : IEnumerable<int>\n",
    "    {\n",
    "        public IEnumerator<int> GetEnumerator()\n",
    "        {\n",
    "            for (int i = 1; i < 10; i++)\n",
    "                yield return i;\n",
    "        }\n",
    "\n",
    "        IEnumerator IEnumerable.GetEnumerator()\n",
    "        {\n",
    "            return GetEnumerator();\n",
    "        }\n",
    "\n",
    "        private int limit;\n",
    "\n",
    "        public EnumeratorThing(int limit)\n",
    "        {\n",
    "            this.limit = limit;\n",
    "        }\n",
    "    }\n",
    "\n",
    "    class Program\n",
    "    {\n",
    "        static public void Main(string[] args)\n",
    "        {\n",
    "            EnumeratorThing e = new EnumeratorThing(10);\n",
    "\n",
    "            foreach (int i in e)\n",
    "            {\n",
    "                Console.WriteLine(i);\n",
    "            }\n",
    "\n",
    "            //Console.ReadKey();\n",
    "        }\n",
    "    }\n",
    "}\n"
   ]
  },
  {
   "cell_type": "code",
   "execution_count": null,
   "metadata": {},
   "outputs": [],
   "source": [
    "LISTING_2_44_Using_yield.Program.Main(new string[0]);"
   ]
  }
 ],
 "metadata": {
  "kernelspec": {
   "display_name": "C#",
   "language": "csharp",
   "name": "kernel-spec"
  },
  "language_info": {
   "file_extension": ".cs",
   "mimetype": "text/x-csharp",
   "name": "C#",
   "pygments_lexer": "c#",
   "version": "4.0.30319"
  }
 },
 "nbformat": 4,
 "nbformat_minor": 2
}

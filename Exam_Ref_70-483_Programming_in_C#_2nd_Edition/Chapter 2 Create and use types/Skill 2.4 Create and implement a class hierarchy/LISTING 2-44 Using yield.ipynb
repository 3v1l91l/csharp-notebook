{
 "cells": [
  {
   "cell_type": "markdown",
   "metadata": {},
   "source": [
    "# Info"
   ]
  },
  {
   "cell_type": "markdown",
   "metadata": {},
   "source": [
    "This example is from\n",
    "* [github.com/ExamRef70-483/Sample-Code](https://github.com/ExamRef70-483/Sample-Code)\n",
    "* [LISTING 2-44 Using yield](https://github.com/ExamRef70-483/Sample-Code/blob/master/LISTING%202-44%E2%80%82Using%20yield/LISTING%202-44%E2%80%82Using%20yield/Program.cs)\n",
    "\n",
    "\n",
    "## Remember\n",
    "* Main() is not called automatically. Has to be called manual. Remember '**public**'\n",
    "* Console.ReadKey() should not be used.\n"
   ]
  },
  {
   "cell_type": "code",
   "execution_count": 1,
   "metadata": {},
   "outputs": [
    {
     "data": {
      "text/html": [
       "(16,21): warning CS0414: The private field `LISTING_2_44_Using_yield.EnumeratorThing.limit&#39; is assigned but its value is never used"
      ],
      "text/plain": [
       "(16,21): warning CS0414: The private field `LISTING_2_44_Using_yield.EnumeratorThing.limit' is assigned but its value is never used"
      ]
     },
     "metadata": {},
     "output_type": "display_data"
    },
    {
     "data": {
      "text/html": [
       "(16,21): warning CS0414: The private field `LISTING_2_44_Using_yield.EnumeratorThing.limit&#39; is assigned but its value is never used"
      ],
      "text/plain": [
       "(16,21): warning CS0414: The private field `LISTING_2_44_Using_yield.EnumeratorThing.limit' is assigned but its value is never used"
      ]
     },
     "metadata": {},
     "output_type": "display_data"
    }
   ],
   "source": [
    "using System;\n",
    "using System.Collections;\n",
    "using System.Collections.Generic;\n",
    "using System.Linq;\n",
    "using System.Text;\n",
    "using System.Threading.Tasks;\n",
    "\n",
    "namespace LISTING_2_44_Using_yield\n",
    "{\n",
    "    class EnumeratorThing : IEnumerable<int>\n",
    "    {\n",
    "        public IEnumerator<int> GetEnumerator()\n",
    "        {\n",
    "            for (int i = 1; i < 10; i++)\n",
    "                yield return i;\n",
    "        }\n",
    "\n",
    "        IEnumerator IEnumerable.GetEnumerator()\n",
    "        {\n",
    "            return GetEnumerator();\n",
    "        }\n",
    "\n",
    "        private int limit;\n",
    "\n",
    "        public EnumeratorThing(int limit)\n",
    "        {\n",
    "            this.limit = limit;\n",
    "        }\n",
    "    }\n",
    "\n",
    "    class Program\n",
    "    {\n",
    "        static public void Main(string[] args)\n",
    "        {\n",
    "            EnumeratorThing e = new EnumeratorThing(10);\n",
    "\n",
    "            foreach (int i in e)\n",
    "            {\n",
    "                Console.WriteLine(i);\n",
    "            }\n",
    "\n",
    "            //Console.ReadKey();\n",
    "        }\n",
    "    }\n",
    "}\n"
   ]
  },
  {
   "cell_type": "code",
   "execution_count": 2,
   "metadata": {},
   "outputs": [
    {
     "data": {
      "text/html": [
       "1"
      ],
      "text/plain": [
       "1"
      ]
     },
     "metadata": {},
     "output_type": "display_data"
    },
    {
     "data": {
      "text/html": [
       "2"
      ],
      "text/plain": [
       "2"
      ]
     },
     "metadata": {},
     "output_type": "display_data"
    },
    {
     "data": {
      "text/html": [
       "3"
      ],
      "text/plain": [
       "3"
      ]
     },
     "metadata": {},
     "output_type": "display_data"
    },
    {
     "data": {
      "text/html": [
       "4"
      ],
      "text/plain": [
       "4"
      ]
     },
     "metadata": {},
     "output_type": "display_data"
    },
    {
     "data": {
      "text/html": [
       "5"
      ],
      "text/plain": [
       "5"
      ]
     },
     "metadata": {},
     "output_type": "display_data"
    },
    {
     "data": {
      "text/html": [
       "6"
      ],
      "text/plain": [
       "6"
      ]
     },
     "metadata": {},
     "output_type": "display_data"
    },
    {
     "data": {
      "text/html": [
       "7"
      ],
      "text/plain": [
       "7"
      ]
     },
     "metadata": {},
     "output_type": "display_data"
    },
    {
     "data": {
      "text/html": [
       "8"
      ],
      "text/plain": [
       "8"
      ]
     },
     "metadata": {},
     "output_type": "display_data"
    },
    {
     "data": {
      "text/html": [
       "9"
      ],
      "text/plain": [
       "9"
      ]
     },
     "metadata": {},
     "output_type": "display_data"
    }
   ],
   "source": [
    "LISTING_2_44_Using_yield.Program.Main(new string[0]);"
   ]
  }
 ],
 "metadata": {
  "kernelspec": {
   "display_name": "C#",
   "language": "csharp",
   "name": "kernel-spec"
  },
  "language_info": {
   "file_extension": ".cs",
   "mimetype": "text/x-csharp",
   "name": "C#",
   "pygments_lexer": "c#",
   "version": "4.0.30319"
  }
 },
 "nbformat": 4,
 "nbformat_minor": 2
}

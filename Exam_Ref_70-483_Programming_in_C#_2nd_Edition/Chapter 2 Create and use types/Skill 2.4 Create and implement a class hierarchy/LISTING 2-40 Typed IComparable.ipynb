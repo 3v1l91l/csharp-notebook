{
 "cells": [
  {
   "cell_type": "markdown",
   "metadata": {},
   "source": [
    "# Info"
   ]
  },
  {
   "cell_type": "markdown",
   "metadata": {},
   "source": [
    "This example is from\n",
    "* [github.com/ExamRef70-483/Sample-Code](https://github.com/ExamRef70-483/Sample-Code)\n",
    "* [LISTING 2-40 Typed IComparable](https://github.com/ExamRef70-483/Sample-Code/blob/master/LISTING%202-40%E2%80%82Typed%20IComparable/LISTING%202-40%E2%80%82Typed%20IComparable/Program.cs)\n",
    "\n",
    "\n",
    "## Remember\n",
    "* Main() is not called automatically. Has to be called manual. Remember '**public**'\n",
    "* Console.ReadKey() should not be used.\n"
   ]
  },
  {
   "cell_type": "code",
   "execution_count": 1,
   "metadata": {},
   "outputs": [],
   "source": [
    "using System;\n",
    "using System.Collections.Generic;\n",
    "\n",
    "namespace LISTING_2_40_Typed_IComparable\n",
    "{\n",
    "    public interface IAccount : IComparable<IAccount>\n",
    "    {\n",
    "        void PayInFunds(decimal amount);\n",
    "        bool WithdrawFunds(decimal amount);\n",
    "        decimal GetBalance();\n",
    "    }\n",
    "\n",
    "    public class BankAccount : IAccount\n",
    "    {\n",
    "        private decimal balance;\n",
    "\n",
    "        public virtual bool WithdrawFunds(decimal amount)\n",
    "        {\n",
    "            if (balance < amount)\n",
    "            {\n",
    "                return false;\n",
    "            }\n",
    "            balance = balance - amount;\n",
    "            return true;\n",
    "        }\n",
    "\n",
    "        void IAccount.PayInFunds(decimal amount)\n",
    "        {\n",
    "            balance = balance + amount;\n",
    "        }\n",
    "\n",
    "        decimal IAccount.GetBalance()\n",
    "        {\n",
    "            return balance;\n",
    "        }\n",
    "\n",
    "        public int CompareTo(IAccount account)\n",
    "        {\n",
    "            // if we are being compared with a null object we are definitely after it\n",
    "            if (account == null) return 1;\n",
    "\n",
    "            // use the balance value as the basis of the comparison\n",
    "            return this.balance.CompareTo(account.GetBalance());\n",
    "        }\n",
    "\n",
    "        public BankAccount(decimal initialBalance)\n",
    "        {\n",
    "            balance = initialBalance;\n",
    "        }\n",
    "    }\n",
    "\n",
    "    class Program\n",
    "    {\n",
    "        static public void Main(string[] args)\n",
    "        {\n",
    "            // Create 20 accounts with random balances\n",
    "            List<IAccount> accounts = new List<IAccount>();\n",
    "            Random rand = new Random(1);\n",
    "            for (int i = 0; i < 20; i++)\n",
    "            {\n",
    "                IAccount account = new BankAccount(rand.Next(0, 10000));\n",
    "                accounts.Add(account);\n",
    "            }\n",
    "\n",
    "            // Sort the accounts\n",
    "            accounts.Sort();\n",
    "\n",
    "            // Display the sorted accounts\n",
    "            foreach (IAccount account in accounts)\n",
    "            {\n",
    "                Console.WriteLine(account.GetBalance());\n",
    "            }\n",
    "\n",
    "            //Console.ReadKey();\n",
    "        }\n",
    "    }\n",
    "}\n"
   ]
  },
  {
   "cell_type": "code",
   "execution_count": 2,
   "metadata": {},
   "outputs": [
    {
     "data": {
      "text/html": [
       "286"
      ],
      "text/plain": [
       "286"
      ]
     },
     "metadata": {},
     "output_type": "display_data"
    },
    {
     "data": {
      "text/html": [
       "1012"
      ],
      "text/plain": [
       "1012"
      ]
     },
     "metadata": {},
     "output_type": "display_data"
    },
    {
     "data": {
      "text/html": [
       "1107"
      ],
      "text/plain": [
       "1107"
      ]
     },
     "metadata": {},
     "output_type": "display_data"
    },
    {
     "data": {
      "text/html": [
       "2480"
      ],
      "text/plain": [
       "2480"
      ]
     },
     "metadata": {},
     "output_type": "display_data"
    },
    {
     "data": {
      "text/html": [
       "2486"
      ],
      "text/plain": [
       "2486"
      ]
     },
     "metadata": {},
     "output_type": "display_data"
    },
    {
     "data": {
      "text/html": [
       "2827"
      ],
      "text/plain": [
       "2827"
      ]
     },
     "metadata": {},
     "output_type": "display_data"
    },
    {
     "data": {
      "text/html": [
       "3201"
      ],
      "text/plain": [
       "3201"
      ]
     },
     "metadata": {},
     "output_type": "display_data"
    },
    {
     "data": {
      "text/html": [
       "3540"
      ],
      "text/plain": [
       "3540"
      ]
     },
     "metadata": {},
     "output_type": "display_data"
    },
    {
     "data": {
      "text/html": [
       "4327"
      ],
      "text/plain": [
       "4327"
      ]
     },
     "metadata": {},
     "output_type": "display_data"
    },
    {
     "data": {
      "text/html": [
       "4670"
      ],
      "text/plain": [
       "4670"
      ]
     },
     "metadata": {},
     "output_type": "display_data"
    },
    {
     "data": {
      "text/html": [
       "6153"
      ],
      "text/plain": [
       "6153"
      ]
     },
     "metadata": {},
     "output_type": "display_data"
    },
    {
     "data": {
      "text/html": [
       "6424"
      ],
      "text/plain": [
       "6424"
      ]
     },
     "metadata": {},
     "output_type": "display_data"
    },
    {
     "data": {
      "text/html": [
       "6548"
      ],
      "text/plain": [
       "6548"
      ]
     },
     "metadata": {},
     "output_type": "display_data"
    },
    {
     "data": {
      "text/html": [
       "6575"
      ],
      "text/plain": [
       "6575"
      ]
     },
     "metadata": {},
     "output_type": "display_data"
    },
    {
     "data": {
      "text/html": [
       "6821"
      ],
      "text/plain": [
       "6821"
      ]
     },
     "metadata": {},
     "output_type": "display_data"
    },
    {
     "data": {
      "text/html": [
       "7017"
      ],
      "text/plain": [
       "7017"
      ]
     },
     "metadata": {},
     "output_type": "display_data"
    },
    {
     "data": {
      "text/html": [
       "7042"
      ],
      "text/plain": [
       "7042"
      ]
     },
     "metadata": {},
     "output_type": "display_data"
    },
    {
     "data": {
      "text/html": [
       "7716"
      ],
      "text/plain": [
       "7716"
      ]
     },
     "metadata": {},
     "output_type": "display_data"
    },
    {
     "data": {
      "text/html": [
       "9438"
      ],
      "text/plain": [
       "9438"
      ]
     },
     "metadata": {},
     "output_type": "display_data"
    },
    {
     "data": {
      "text/html": [
       "9897"
      ],
      "text/plain": [
       "9897"
      ]
     },
     "metadata": {},
     "output_type": "display_data"
    }
   ],
   "source": [
    "LISTING_2_40_Typed_IComparable.Program.Main(new string[0]);"
   ]
  }
 ],
 "metadata": {
  "kernelspec": {
   "display_name": "C#",
   "language": "csharp",
   "name": "kernel-spec"
  },
  "language_info": {
   "file_extension": ".cs",
   "mimetype": "text/x-csharp",
   "name": "C#",
   "pygments_lexer": "c#",
   "version": "4.0.30319"
  }
 },
 "nbformat": 4,
 "nbformat_minor": 2
}

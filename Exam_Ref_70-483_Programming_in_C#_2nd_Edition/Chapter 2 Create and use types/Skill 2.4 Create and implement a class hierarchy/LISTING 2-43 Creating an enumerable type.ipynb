{
 "cells": [
  {
   "cell_type": "markdown",
   "metadata": {},
   "source": [
    "# Info"
   ]
  },
  {
   "cell_type": "markdown",
   "metadata": {},
   "source": [
    "This example is from\n",
    "* [github.com/ExamRef70-483/Sample-Code](https://github.com/ExamRef70-483/Sample-Code)\n",
    "* [LISTING 2-43 Creating an enumerable type](https://github.com/ExamRef70-483/Sample-Code/blob/master/LISTING%202-43%E2%80%82Creating%20an%20enumerable%20type/LISTING%202-43%E2%80%82Creating%20an%20enumerable%20type/Program.cs)\n",
    "\n",
    "\n",
    "## Remember\n",
    "* Main() is not called automatically. Has to be called manual. Remember '**public**'\n",
    "* Console.ReadKey() should not be used.\n"
   ]
  },
  {
   "cell_type": "code",
   "execution_count": 1,
   "metadata": {},
   "outputs": [],
   "source": [
    "using System;\n",
    "using System.Collections;\n",
    "using System.Collections.Generic;\n",
    "\n",
    "namespace LISTING_2_43_Creating_an_enumerable_type\n",
    "{\n",
    "\n",
    "    class EnumeratorThing : IEnumerator<int>, IEnumerable\n",
    "    {\n",
    "        int count;\n",
    "        int limit;\n",
    "\n",
    "        public int Current\n",
    "        {\n",
    "            get\n",
    "            {\n",
    "                return count;\n",
    "            }\n",
    "        }\n",
    "\n",
    "        object IEnumerator.Current\n",
    "        {\n",
    "            get\n",
    "            {\n",
    "                return count;\n",
    "            }\n",
    "        }\n",
    "\n",
    "        public void Dispose()\n",
    "        {\n",
    "        }\n",
    "\n",
    "        public bool MoveNext()\n",
    "        {\n",
    "            if (++count == limit)\n",
    "                return false;\n",
    "            else\n",
    "                return true;\n",
    "        }\n",
    "\n",
    "        public void Reset()\n",
    "        {\n",
    "            count = 0;\n",
    "        }\n",
    "\n",
    "        public IEnumerator GetEnumerator()\n",
    "        {\n",
    "            return this;\n",
    "        }\n",
    "\n",
    "        public EnumeratorThing(int limit)\n",
    "        {\n",
    "            count = 0;\n",
    "            this.limit = limit;\n",
    "        }\n",
    "    }\n",
    "\n",
    "    class Program\n",
    "    {\n",
    "        static public void Main(string[] args)\n",
    "        {\n",
    "            EnumeratorThing e = new EnumeratorThing(10);\n",
    "\n",
    "            foreach (int i in e)\n",
    "            {\n",
    "                Console.WriteLine(i);\n",
    "            }\n",
    "\n",
    "            //Console.ReadKey();\n",
    "        }\n",
    "    }\n",
    "}\n"
   ]
  },
  {
   "cell_type": "code",
   "execution_count": 2,
   "metadata": {},
   "outputs": [
    {
     "data": {
      "text/html": [
       "1"
      ],
      "text/plain": [
       "1"
      ]
     },
     "metadata": {},
     "output_type": "display_data"
    },
    {
     "data": {
      "text/html": [
       "2"
      ],
      "text/plain": [
       "2"
      ]
     },
     "metadata": {},
     "output_type": "display_data"
    },
    {
     "data": {
      "text/html": [
       "3"
      ],
      "text/plain": [
       "3"
      ]
     },
     "metadata": {},
     "output_type": "display_data"
    },
    {
     "data": {
      "text/html": [
       "4"
      ],
      "text/plain": [
       "4"
      ]
     },
     "metadata": {},
     "output_type": "display_data"
    },
    {
     "data": {
      "text/html": [
       "5"
      ],
      "text/plain": [
       "5"
      ]
     },
     "metadata": {},
     "output_type": "display_data"
    },
    {
     "data": {
      "text/html": [
       "6"
      ],
      "text/plain": [
       "6"
      ]
     },
     "metadata": {},
     "output_type": "display_data"
    },
    {
     "data": {
      "text/html": [
       "7"
      ],
      "text/plain": [
       "7"
      ]
     },
     "metadata": {},
     "output_type": "display_data"
    },
    {
     "data": {
      "text/html": [
       "8"
      ],
      "text/plain": [
       "8"
      ]
     },
     "metadata": {},
     "output_type": "display_data"
    },
    {
     "data": {
      "text/html": [
       "9"
      ],
      "text/plain": [
       "9"
      ]
     },
     "metadata": {},
     "output_type": "display_data"
    }
   ],
   "source": [
    "LISTING_2_43_Creating_an_enumerable_type.Program.Main(new string[0]);"
   ]
  }
 ],
 "metadata": {
  "kernelspec": {
   "display_name": "C#",
   "language": "csharp",
   "name": "kernel-spec"
  },
  "language_info": {
   "file_extension": ".cs",
   "mimetype": "text/x-csharp",
   "name": "C#",
   "pygments_lexer": "c#",
   "version": "4.0.30319"
  }
 },
 "nbformat": 4,
 "nbformat_minor": 2
}

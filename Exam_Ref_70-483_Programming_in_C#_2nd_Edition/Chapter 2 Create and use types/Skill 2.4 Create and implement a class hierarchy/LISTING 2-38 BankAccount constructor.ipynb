{
 "cells": [
  {
   "cell_type": "markdown",
   "metadata": {},
   "source": [
    "# Info"
   ]
  },
  {
   "cell_type": "markdown",
   "metadata": {},
   "source": [
    "This example is from\n",
    "* [github.com/ExamRef70-483/Sample-Code](https://github.com/ExamRef70-483/Sample-Code)\n",
    "* [LISTING 2-38 BankAccount constructor](https://github.com/ExamRef70-483/Sample-Code/blob/master/LISTING%202-38%E2%80%82BankAccount%20constructor/LISTING%202-38%E2%80%82BankAccount%20constructor/Program.cs)\n",
    "\n",
    "\n",
    "## Remember\n",
    "* Main() is not called automatically. Has to be called manual. Remember '**public**'\n",
    "* Console.ReadKey() should not be used.\n"
   ]
  },
  {
   "cell_type": "code",
   "execution_count": null,
   "metadata": {},
   "outputs": [],
   "source": [
    "using System;\n",
    "using System.Collections.Generic;\n",
    "using System.Linq;\n",
    "using System.Text;\n",
    "using System.Threading.Tasks;\n",
    "\n",
    "namespace LISTING_2_38_BankAccount_constructor\n",
    "{\n",
    "    public interface IAccount\n",
    "    {\n",
    "        void PayInFunds(decimal amount);\n",
    "        bool WithdrawFunds(decimal amount);\n",
    "        decimal GetBalance();\n",
    "    }\n",
    "\n",
    "    public class BankAccount : IAccount\n",
    "    {\n",
    "        private decimal balance;\n",
    "\n",
    "        public virtual bool WithdrawFunds(decimal amount)\n",
    "        {\n",
    "            if (balance < amount)\n",
    "            {\n",
    "                return false;\n",
    "            }\n",
    "            balance = balance - amount;\n",
    "            return true;\n",
    "        }\n",
    "\n",
    "        void IAccount.PayInFunds(decimal amount)\n",
    "        {\n",
    "            balance = balance + amount;\n",
    "        }\n",
    "\n",
    "        decimal IAccount.GetBalance()\n",
    "        {\n",
    "            return balance;\n",
    "        }\n",
    "\n",
    "        public BankAccount(decimal initialBalance)\n",
    "        {\n",
    "            balance = initialBalance;\n",
    "        }\n",
    "    }\n",
    "\n",
    "    public class BabyAccount : BankAccount, IAccount\n",
    "    {\n",
    "        public BabyAccount(int initialBalance) : base(initialBalance)\n",
    "        {\n",
    "        }\n",
    "\n",
    "        public override bool WithdrawFunds(decimal amount)\n",
    "        {\n",
    "            if (amount > 10)\n",
    "            {\n",
    "                return false;\n",
    "            }\n",
    "            else\n",
    "            {\n",
    "                return base.WithdrawFunds(amount);\n",
    "            }\n",
    "        }\n",
    "    }\n",
    "\n",
    "    class Program\n",
    "    {\n",
    "        static public void Main(string[] args)\n",
    "        {\n",
    "            IAccount a = new BankAccount(100);\n",
    "            IAccount b = new BabyAccount(100);\n",
    "\n",
    "            //Console.ReadKey();\n",
    "        }\n",
    "    }\n",
    "}\n"
   ]
  },
  {
   "cell_type": "code",
   "execution_count": null,
   "metadata": {},
   "outputs": [],
   "source": [
    "LISTING_2_38_BankAccount_constructor.Program.Main(new string[0]);"
   ]
  }
 ],
 "metadata": {
  "kernelspec": {
   "display_name": "C#",
   "language": "csharp",
   "name": "kernel-spec"
  },
  "language_info": {
   "file_extension": ".cs",
   "mimetype": "text/x-csharp",
   "name": "C#",
   "pygments_lexer": "c#",
   "version": "4.0.30319"
  }
 },
 "nbformat": 4,
 "nbformat_minor": 2
}

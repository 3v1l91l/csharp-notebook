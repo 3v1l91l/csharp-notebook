{
 "cells": [
  {
   "cell_type": "markdown",
   "metadata": {},
   "source": [
    "# Info"
   ]
  },
  {
   "cell_type": "markdown",
   "metadata": {},
   "source": [
    "This example is from\n",
    "* [github.com/ExamRef70-483/Sample-Code](https://github.com/ExamRef70-483/Sample-Code)\n",
    "* [LISTING 2-30 Protected access](https://github.com/ExamRef70-483/Sample-Code/blob/master/LISTING%202-30%E2%80%82Protected%20access/LISTING%202-30%E2%80%82Protected%20access/Program.cs)\n",
    "\n",
    "\n",
    "## Remember\n",
    "* Main() is not called automatically. Has to be called manual. Remember '**public**'\n",
    "* Console.ReadKey() should not be used.\n"
   ]
  },
  {
   "cell_type": "code",
   "execution_count": 1,
   "metadata": {},
   "outputs": [],
   "source": [
    "using System;\n",
    "\n",
    "namespace LISTING_2_30_Protected_access\n",
    "{\n",
    "    class BankAccount\n",
    "    {\n",
    "        protected decimal _accountBalance = 0;\n",
    "\n",
    "        public void PayInFunds(decimal amountToPayIn)\n",
    "        {\n",
    "            _accountBalance = _accountBalance + amountToPayIn;\n",
    "        }\n",
    "\n",
    "        public virtual bool WithdrawFunds(decimal amountToWithdraw)\n",
    "        {\n",
    "            if (amountToWithdraw > _accountBalance)\n",
    "                return false;\n",
    "\n",
    "            _accountBalance = _accountBalance - amountToWithdraw;\n",
    "            return true;\n",
    "        }\n",
    "\n",
    "        public decimal GetBalance()\n",
    "        {\n",
    "            return _accountBalance;\n",
    "        }\n",
    "    }\n",
    "\n",
    "    class OverdraftAccount : BankAccount\n",
    "    {\n",
    "        decimal overdraftLimit = 100;\n",
    "\n",
    "        public override bool WithdrawFunds(decimal amountToWithdraw)\n",
    "        {\n",
    "            if (amountToWithdraw > _accountBalance + overdraftLimit)\n",
    "                return false;\n",
    "\n",
    "            _accountBalance = _accountBalance - amountToWithdraw;\n",
    "            return true;\n",
    "        }\n",
    "    }\n",
    "\n",
    "    class Program\n",
    "    {\n",
    "        static public void Main(string[] args)\n",
    "        {\n",
    "            OverdraftAccount a = new OverdraftAccount();\n",
    "            a.PayInFunds(50);\n",
    "            Console.WriteLine(\"Pay in 50\");\n",
    "            if (a.WithdrawFunds(60))\n",
    "                Console.WriteLine(\"Withdrawn 60\");\n",
    "            Console.WriteLine(\"Account balance is: {0}\", a.GetBalance());\n",
    "            //Console.ReadKey();\n",
    "        }\n",
    "    }\n",
    "}\n"
   ]
  },
  {
   "cell_type": "code",
   "execution_count": 2,
   "metadata": {},
   "outputs": [
    {
     "data": {
      "text/html": [
       "Pay in 50"
      ],
      "text/plain": [
       "Pay in 50"
      ]
     },
     "metadata": {},
     "output_type": "display_data"
    },
    {
     "data": {
      "text/html": [
       "Withdrawn 60"
      ],
      "text/plain": [
       "Withdrawn 60"
      ]
     },
     "metadata": {},
     "output_type": "display_data"
    },
    {
     "data": {
      "text/html": [
       "Account balance is: -10"
      ],
      "text/plain": [
       "Account balance is: -10"
      ]
     },
     "metadata": {},
     "output_type": "display_data"
    }
   ],
   "source": [
    "LISTING_2_30_Protected_access.Program.Main(new string[0]);"
   ]
  }
 ],
 "metadata": {
  "kernelspec": {
   "display_name": "C#",
   "language": "csharp",
   "name": "kernel-spec"
  },
  "language_info": {
   "file_extension": ".cs",
   "mimetype": "text/x-csharp",
   "name": "C#",
   "pygments_lexer": "c#",
   "version": "4.0.30319"
  }
 },
 "nbformat": 4,
 "nbformat_minor": 2
}

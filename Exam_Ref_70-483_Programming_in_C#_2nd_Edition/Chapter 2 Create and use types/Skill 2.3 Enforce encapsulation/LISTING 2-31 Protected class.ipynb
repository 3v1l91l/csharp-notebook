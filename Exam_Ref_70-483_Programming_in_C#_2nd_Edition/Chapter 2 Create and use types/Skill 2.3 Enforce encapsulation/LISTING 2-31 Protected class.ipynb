{
 "cells": [
  {
   "cell_type": "markdown",
   "metadata": {},
   "source": [
    "# Info"
   ]
  },
  {
   "cell_type": "markdown",
   "metadata": {},
   "source": [
    "This example is from\n",
    "* [github.com/ExamRef70-483/Sample-Code](https://github.com/ExamRef70-483/Sample-Code)\n",
    "* [LISTING 2-31 Protected class](https://github.com/ExamRef70-483/Sample-Code/blob/master/LISTING%202-31%E2%80%82Protected%20class/LISTING%202-31%E2%80%82Protected%20class/Program.cs)\n",
    "\n",
    "\n",
    "## Remember\n",
    "* Main() is not called automatically. Has to be called manual. Remember '**public**'\n",
    "* Console.ReadKey() should not be used.\n"
   ]
  },
  {
   "cell_type": "code",
   "execution_count": 1,
   "metadata": {},
   "outputs": [
    {
     "data": {
      "text/html": [
       "(17,17): warning CS0414: The private field `LISTING_2_31_Protected_class.OverdraftAccount.overdraftLimit&#39; is assigned but its value is never used"
      ],
      "text/plain": [
       "(17,17): warning CS0414: The private field `LISTING_2_31_Protected_class.OverdraftAccount.overdraftLimit' is assigned but its value is never used"
      ]
     },
     "metadata": {},
     "output_type": "display_data"
    },
    {
     "data": {
      "text/html": [
       "(19,17): warning CS0169: The private field `LISTING_2_31_Protected_class.OverdraftAccount.GuarantorAddress&#39; is never used"
      ],
      "text/plain": [
       "(19,17): warning CS0169: The private field `LISTING_2_31_Protected_class.OverdraftAccount.GuarantorAddress' is never used"
      ]
     },
     "metadata": {},
     "output_type": "display_data"
    },
    {
     "data": {
      "text/html": [
       "(17,17): warning CS0414: The private field `LISTING_2_31_Protected_class.OverdraftAccount.overdraftLimit&#39; is assigned but its value is never used"
      ],
      "text/plain": [
       "(17,17): warning CS0414: The private field `LISTING_2_31_Protected_class.OverdraftAccount.overdraftLimit' is assigned but its value is never used"
      ]
     },
     "metadata": {},
     "output_type": "display_data"
    },
    {
     "data": {
      "text/html": [
       "(19,17): warning CS0169: The private field `LISTING_2_31_Protected_class.OverdraftAccount.GuarantorAddress&#39; is never used"
      ],
      "text/plain": [
       "(19,17): warning CS0169: The private field `LISTING_2_31_Protected_class.OverdraftAccount.GuarantorAddress' is never used"
      ]
     },
     "metadata": {},
     "output_type": "display_data"
    }
   ],
   "source": [
    "using System;\n",
    "using System.Collections.Generic;\n",
    "using System.Linq;\n",
    "using System.Text;\n",
    "using System.Threading.Tasks;\n",
    "\n",
    "namespace LISTING_2_31_Protected_class\n",
    "{\n",
    "    class BankAccount\n",
    "    {\n",
    "        protected class Address\n",
    "        {\n",
    "            public string FirstLine;\n",
    "            public string Postcode;\n",
    "        }\n",
    "\n",
    "        protected decimal accountBalance = 0;\n",
    "    }\n",
    "\n",
    "\n",
    "    class OverdraftAccount : BankAccount\n",
    "    {\n",
    "        decimal overdraftLimit = 100;\n",
    "\n",
    "        Address GuarantorAddress;\n",
    "\n",
    "    }\n",
    "\n",
    "    class Program\n",
    "    {\n",
    "        static public void Main(string[] args)\n",
    "        {\n",
    "        }\n",
    "    }\n",
    "}\n"
   ]
  },
  {
   "cell_type": "code",
   "execution_count": 2,
   "metadata": {},
   "outputs": [],
   "source": [
    "LISTING_2_31_Protected_class.Program.Main(new string[0]);"
   ]
  }
 ],
 "metadata": {
  "kernelspec": {
   "display_name": "C#",
   "language": "csharp",
   "name": "kernel-spec"
  },
  "language_info": {
   "file_extension": ".cs",
   "mimetype": "text/x-csharp",
   "name": "C#",
   "pygments_lexer": "c#",
   "version": "4.0.30319"
  }
 },
 "nbformat": 4,
 "nbformat_minor": 2
}

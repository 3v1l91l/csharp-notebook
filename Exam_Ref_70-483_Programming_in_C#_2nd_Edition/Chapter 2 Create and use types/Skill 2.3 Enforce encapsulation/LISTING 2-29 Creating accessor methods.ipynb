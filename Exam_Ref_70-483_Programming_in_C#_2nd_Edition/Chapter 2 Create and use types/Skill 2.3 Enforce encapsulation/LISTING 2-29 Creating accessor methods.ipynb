{
 "cells": [
  {
   "cell_type": "markdown",
   "metadata": {},
   "source": [
    "# Info"
   ]
  },
  {
   "cell_type": "markdown",
   "metadata": {},
   "source": [
    "This example is from\n",
    "* [github.com/ExamRef70-483/Sample-Code](https://github.com/ExamRef70-483/Sample-Code)\n",
    "* [LISTING 2-29 Creating accessor methods](https://github.com/ExamRef70-483/Sample-Code/blob/master/LISTING%202-29%E2%80%82Creating%20accessor%20methods/LISTING%202-29%E2%80%82Creating%20accessor%20methods/Program.cs)\n",
    "\n",
    "\n",
    "## Remember\n",
    "* Main() is not called automatically. Has to be called manual. Remember '**public**'\n",
    "* Console.ReadKey() should not be used.\n"
   ]
  },
  {
   "cell_type": "code",
   "execution_count": null,
   "metadata": {},
   "outputs": [],
   "source": [
    "using System;\n",
    "\n",
    "namespace LISTING_2_29_Creating_accessor_methods\n",
    "{\n",
    "\n",
    "    class BankAccount\n",
    "    {\n",
    "        private decimal _accountBalance = 0;\n",
    "\n",
    "        public void PayInFunds(decimal amountToPayIn)\n",
    "        {\n",
    "            _accountBalance = _accountBalance + amountToPayIn;\n",
    "        }\n",
    "\n",
    "        public bool WithdrawFunds(decimal amountToWithdraw)\n",
    "        {\n",
    "            if (amountToWithdraw > _accountBalance)\n",
    "                return false;\n",
    "\n",
    "            _accountBalance = _accountBalance - amountToWithdraw;\n",
    "            return true;\n",
    "        }\n",
    "\n",
    "        public decimal GetBalance()\n",
    "        {\n",
    "            return _accountBalance;\n",
    "        }\n",
    "    }\n",
    "\n",
    "    class Program\n",
    "    {\n",
    "        static public void Main(string[] args)\n",
    "        {\n",
    "            BankAccount a = new BankAccount();\n",
    "            Console.WriteLine(\"Pay in 50\");\n",
    "            a.PayInFunds(50);\n",
    "            if (a.WithdrawFunds(10))\n",
    "                Console.WriteLine(\"Withdrawn 10\");\n",
    "            Console.WriteLine(\"Account balance is: {0}\", a.GetBalance());\n",
    "            //Console.ReadKey();\n",
    "        }\n",
    "    }\n",
    "}\n"
   ]
  },
  {
   "cell_type": "code",
   "execution_count": null,
   "metadata": {},
   "outputs": [],
   "source": [
    "LISTING_2_29_Creating_accessor_methods.Program.Main(new string[0]);"
   ]
  }
 ],
 "metadata": {
  "kernelspec": {
   "display_name": "C#",
   "language": "csharp",
   "name": "kernel-spec"
  },
  "language_info": {
   "file_extension": ".cs",
   "mimetype": "text/x-csharp",
   "name": "C#",
   "pygments_lexer": "c#",
   "version": "4.0.30319"
  }
 },
 "nbformat": 4,
 "nbformat_minor": 2
}

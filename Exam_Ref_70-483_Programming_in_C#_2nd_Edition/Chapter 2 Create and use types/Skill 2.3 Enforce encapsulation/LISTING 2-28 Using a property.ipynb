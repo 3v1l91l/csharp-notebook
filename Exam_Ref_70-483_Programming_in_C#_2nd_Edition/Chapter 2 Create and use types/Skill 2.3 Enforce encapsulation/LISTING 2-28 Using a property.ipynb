{
 "cells": [
  {
   "cell_type": "markdown",
   "metadata": {},
   "source": [
    "# Info"
   ]
  },
  {
   "cell_type": "markdown",
   "metadata": {},
   "source": [
    "This example is from\n",
    "* [github.com/ExamRef70-483/Sample-Code](https://github.com/ExamRef70-483/Sample-Code)\n",
    "* [LISTING 2-28 Using a property](https://github.com/ExamRef70-483/Sample-Code/blob/master/LISTING%202-28%E2%80%82Using%20a%20property/LISTING%202-28%E2%80%82Using%20a%20property/Program.cs)\n",
    "\n",
    "\n",
    "## Remember\n",
    "* Main() is not called automatically. Has to be called manual. Remember '**public**'\n",
    "* Console.ReadKey() should not be used.\n"
   ]
  },
  {
   "cell_type": "code",
   "execution_count": null,
   "metadata": {},
   "outputs": [],
   "source": [
    "using System;\n",
    "\n",
    "namespace LISTING_2_28_Using_a_property\n",
    "{\n",
    "    class Customer\n",
    "    {\n",
    "        private string _nameValue;\n",
    "\n",
    "        public string Name\n",
    "        {\n",
    "            get\n",
    "            {\n",
    "                return _nameValue;\n",
    "            }\n",
    "            set\n",
    "            {\n",
    "                if (value == \"\")\n",
    "                    throw new Exception(\"Invalid customer name\");\n",
    "\n",
    "                _nameValue = value;\n",
    "            }\n",
    "        }\n",
    "    }\n",
    "\n",
    "    class Program\n",
    "    {\n",
    "        static public void Main(string[] args)\n",
    "        {\n",
    "            Customer c = new Customer();\n",
    "            c.Name = \"Rob\";\n",
    "            Console.WriteLine(\"Customer name: {0}\", c.Name);\n",
    "\n",
    "            //Console.ReadKey();\n",
    "            // this statement will throw an exception\n",
    "            c.Name = \"\";\n",
    "        }\n",
    "    }\n",
    "}\n"
   ]
  },
  {
   "cell_type": "code",
   "execution_count": null,
   "metadata": {},
   "outputs": [],
   "source": [
    "LISTING_2_28_Using_a_property.Program.Main(new string[0]);"
   ]
  }
 ],
 "metadata": {
  "kernelspec": {
   "display_name": "C#",
   "language": "csharp",
   "name": "kernel-spec"
  },
  "language_info": {
   "file_extension": ".cs",
   "mimetype": "text/x-csharp",
   "name": "C#",
   "pygments_lexer": "c#",
   "version": "4.0.30319"
  }
 },
 "nbformat": 4,
 "nbformat_minor": 2
}

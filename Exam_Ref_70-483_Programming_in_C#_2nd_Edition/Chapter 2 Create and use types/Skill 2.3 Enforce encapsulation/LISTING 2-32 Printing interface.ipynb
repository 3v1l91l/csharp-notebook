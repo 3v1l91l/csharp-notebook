{
 "cells": [
  {
   "cell_type": "markdown",
   "metadata": {},
   "source": [
    "# Info"
   ]
  },
  {
   "cell_type": "markdown",
   "metadata": {},
   "source": [
    "This example is from\n",
    "* [github.com/ExamRef70-483/Sample-Code](https://github.com/ExamRef70-483/Sample-Code)\n",
    "* [LISTING 2-32 Printing interface](https://github.com/ExamRef70-483/Sample-Code/blob/master/LISTING%202-32%E2%80%82Printing%20interface/LISTING%202-32%E2%80%82Printing%20interface/Program.cs)\n",
    "\n",
    "\n",
    "## Remember\n",
    "* Main() is not called automatically. Has to be called manual. Remember '**public**'\n",
    "* Console.ReadKey() should not be used.\n"
   ]
  },
  {
   "cell_type": "code",
   "execution_count": null,
   "metadata": {},
   "outputs": [],
   "source": [
    "using System;\n",
    "\n",
    "namespace LISTING_2_32_Printing_interface\n",
    "{\n",
    "\n",
    "    interface IPrintable\n",
    "    {\n",
    "        string GetPrintableText(int pageWidth, int pageHeight);\n",
    "        string GetTitle();\n",
    "    }\n",
    "\n",
    "    interface IDisplay\n",
    "    {\n",
    "        string GetTitle();\n",
    "    }\n",
    "\n",
    "    class Report : IPrintable, IDisplay\n",
    "    {\n",
    "        string IPrintable.GetPrintableText(int pageWidth, int pageHeight)\n",
    "        {\n",
    "            return \"Report text to be printed\";\n",
    "        }\n",
    "\n",
    "        string IPrintable.GetTitle()\n",
    "        {\n",
    "            return \"Report title to be printed\";\n",
    "        }\n",
    "\n",
    "        string IDisplay.GetTitle()\n",
    "        {\n",
    "            return \"Report title to be displayed\";\n",
    "        }\n",
    "    }\n",
    "\n",
    "    class ConsolePrinter\n",
    "    {\n",
    "        public void PrintItem(IPrintable item)\n",
    "        {\n",
    "            Console.WriteLine(item.GetTitle());\n",
    "            Console.WriteLine(item.GetPrintableText(pageWidth: 80, pageHeight: 25));\n",
    "        }\n",
    "    }\n",
    "\n",
    "    class Program\n",
    "    {\n",
    "        static public void Main(string[] args)\n",
    "        {\n",
    "            Report myReport = new Report();\n",
    "\n",
    "            IPrintable printItem = myReport;\n",
    "            Console.WriteLine(printItem.GetTitle());\n",
    "            Console.WriteLine(printItem.GetPrintableText(pageWidth:80, pageHeight:23));\n",
    "            //Console.ReadKey();\n",
    "        }\n",
    "    }\n",
    "}\n"
   ]
  },
  {
   "cell_type": "code",
   "execution_count": null,
   "metadata": {},
   "outputs": [],
   "source": [
    "LISTING_2_32_Printing_interface.Program.Main(new string[0]);"
   ]
  }
 ],
 "metadata": {
  "kernelspec": {
   "display_name": "C#",
   "language": "csharp",
   "name": "kernel-spec"
  },
  "language_info": {
   "file_extension": ".cs",
   "mimetype": "text/x-csharp",
   "name": "C#",
   "pygments_lexer": "c#",
   "version": "4.0.30319"
  }
 },
 "nbformat": 4,
 "nbformat_minor": 2
}

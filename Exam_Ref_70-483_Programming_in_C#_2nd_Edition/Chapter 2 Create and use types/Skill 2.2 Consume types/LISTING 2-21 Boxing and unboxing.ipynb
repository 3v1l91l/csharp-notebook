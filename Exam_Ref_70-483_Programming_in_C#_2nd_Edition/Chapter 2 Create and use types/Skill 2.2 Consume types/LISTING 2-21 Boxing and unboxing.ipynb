{
 "cells": [
  {
   "cell_type": "markdown",
   "metadata": {},
   "source": [
    "# Info"
   ]
  },
  {
   "cell_type": "markdown",
   "metadata": {},
   "source": [
    "This example is from\n",
    "* [github.com/ExamRef70-483/Sample-Code](https://github.com/ExamRef70-483/Sample-Code)\n",
    "* [LISTING 2-21 Boxing and unboxing](https://github.com/ExamRef70-483/Sample-Code/blob/master/LISTING%202-21%E2%80%82Boxing%20and%20unboxing/LISTING%202-21%E2%80%82Boxing%20and%20unboxing/Program.cs)\n",
    "\n",
    "\n",
    "## Remember\n",
    "* Main() is not called automatically. Has to be called manual. Remember '**public**'\n",
    "* Console.ReadKey() should not be used.\n"
   ]
  },
  {
   "cell_type": "code",
   "execution_count": null,
   "metadata": {},
   "outputs": [],
   "source": [
    "using System;\n",
    "\n",
    "namespace LISTING_2_21_Boxing_and_unboxing\n",
    "{\n",
    "    class Program\n",
    "    {\n",
    "        static public void Main(string[] args)\n",
    "        {\n",
    "            // the value 99 is boxed into an object\n",
    "            object o = 99;\n",
    "\n",
    "            // the boxed object is unboxed back into an int\n",
    "            int oVal = (int)o;\n",
    "\n",
    "            Console.WriteLine(oVal);\n",
    "\n",
    "            //Console.ReadKey();\n",
    "        }\n",
    "    }\n",
    "}\n"
   ]
  },
  {
   "cell_type": "code",
   "execution_count": null,
   "metadata": {},
   "outputs": [],
   "source": [
    "LISTING_2_21_Boxing_and_unboxing.Program.Main(new string[0]);"
   ]
  }
 ],
 "metadata": {
  "kernelspec": {
   "display_name": "C#",
   "language": "csharp",
   "name": "kernel-spec"
  },
  "language_info": {
   "file_extension": ".cs",
   "mimetype": "text/x-csharp",
   "name": "C#",
   "pygments_lexer": "c#",
   "version": "4.0.30319"
  }
 },
 "nbformat": 4,
 "nbformat_minor": 2
}

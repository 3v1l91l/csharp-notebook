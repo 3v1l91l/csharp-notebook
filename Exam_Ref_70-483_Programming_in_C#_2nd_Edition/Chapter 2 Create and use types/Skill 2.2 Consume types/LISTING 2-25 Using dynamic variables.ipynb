{
 "cells": [
  {
   "cell_type": "markdown",
   "metadata": {},
   "source": [
    "# Info"
   ]
  },
  {
   "cell_type": "markdown",
   "metadata": {},
   "source": [
    "This example is from\n",
    "* [github.com/ExamRef70-483/Sample-Code](https://github.com/ExamRef70-483/Sample-Code)\n",
    "* [LISTING 2-25 Using dynamic variables](https://github.com/ExamRef70-483/Sample-Code/blob/master/LISTING%202-25%E2%80%82Using%20dynamic%20variables/LISTING%202-25%E2%80%82Using%20dynamic%20variables/Program.cs)\n",
    "\n",
    "\n",
    "## Remember\n",
    "* Main() is not called automatically. Has to be called manual. Remember '**public**'\n",
    "* Console.ReadKey() should not be used.\n"
   ]
  },
  {
   "cell_type": "code",
   "execution_count": 1,
   "metadata": {},
   "outputs": [],
   "source": [
    "using System;\n",
    "using System.Collections.Generic;\n",
    "using System.Dynamic;\n",
    "\n",
    "namespace LISTING_2_25_Using_dynamic_variables\n",
    "{\n",
    "    class Program\n",
    "    {\n",
    "        static public void Main(string[] args)\n",
    "        {\n",
    "            dynamic d = 99;\n",
    "            d = d + 1;\n",
    "            Console.WriteLine(d);\n",
    "\n",
    "            d = \"Hello\";\n",
    "            d = d + \" Rob\";\n",
    "            Console.WriteLine(d);\n",
    "\n",
    "            dynamic person = new ExpandoObject();\n",
    "\n",
    "            person.Name = \"Rob Miles\";\n",
    "            person.Age = 21;\n",
    "\n",
    "            Console.WriteLine(\"Name: {0} Age: {1}\", person.Name, person.Age);\n",
    "\n",
    "            //Console.ReadKey();\n",
    "        }\n",
    "    }\n",
    "}\n"
   ]
  },
  {
   "cell_type": "code",
   "execution_count": 2,
   "metadata": {},
   "outputs": [
    {
     "data": {
      "text/html": [
       "100"
      ],
      "text/plain": [
       "100"
      ]
     },
     "metadata": {},
     "output_type": "display_data"
    },
    {
     "data": {
      "text/html": [
       "Hello Rob"
      ],
      "text/plain": [
       "Hello Rob"
      ]
     },
     "metadata": {},
     "output_type": "display_data"
    },
    {
     "data": {
      "text/html": [
       "Name: Rob Miles Age: 21"
      ],
      "text/plain": [
       "Name: Rob Miles Age: 21"
      ]
     },
     "metadata": {},
     "output_type": "display_data"
    }
   ],
   "source": [
    "LISTING_2_25_Using_dynamic_variables.Program.Main(new string[0]);"
   ]
  }
 ],
 "metadata": {
  "kernelspec": {
   "display_name": "C#",
   "language": "csharp",
   "name": "kernel-spec"
  },
  "language_info": {
   "file_extension": ".cs",
   "mimetype": "text/x-csharp",
   "name": "C#",
   "pygments_lexer": "c#",
   "version": "4.0.30319"
  }
 },
 "nbformat": 4,
 "nbformat_minor": 2
}

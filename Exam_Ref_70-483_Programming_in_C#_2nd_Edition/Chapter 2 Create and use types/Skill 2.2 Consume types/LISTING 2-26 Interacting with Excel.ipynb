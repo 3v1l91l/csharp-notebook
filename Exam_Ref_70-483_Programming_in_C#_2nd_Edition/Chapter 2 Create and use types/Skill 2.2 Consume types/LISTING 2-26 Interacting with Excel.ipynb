{
 "cells": [
  {
   "cell_type": "markdown",
   "metadata": {},
   "source": [
    "# Info"
   ]
  },
  {
   "cell_type": "markdown",
   "metadata": {},
   "source": [
    "This example is from\n",
    "* [github.com/ExamRef70-483/Sample-Code](https://github.com/ExamRef70-483/Sample-Code)\n",
    "* [LISTING 2-26 Interacting with Excel](https://github.com/ExamRef70-483/Sample-Code/blob/master/LISTING%202-26%E2%80%82Interacting%20with%20Excel/LISTING%202-26%E2%80%82Interacting%20with%20Excel/Program.cs)\n",
    "\n",
    "\n",
    "## Remember\n",
    "* Main() is not called automatically. Has to be called manual. Remember '**public**'\n",
    "* Console.ReadKey() should not be used.\n"
   ]
  },
  {
   "cell_type": "code",
   "execution_count": 1,
   "metadata": {},
   "outputs": [
    {
     "data": {
      "text/html": [
       "(8,42): error CS0234: The type or namespace name `Office&#39; does not exist in the namespace `Microsoft&#39;. Are you missing an assembly reference?"
      ],
      "text/plain": [
       "(8,42): error CS0234: The type or namespace name `Office' does not exist in the namespace `Microsoft'. Are you missing an assembly reference?"
      ]
     },
     "metadata": {},
     "output_type": "display_data"
    },
    {
     "data": {
      "text/html": [
       "(11,22): error CS0131: The left-hand side of an assignment must be a variable, a property or an indexer"
      ],
      "text/plain": [
       "(11,22): error CS0131: The left-hand side of an assignment must be a variable, a property or an indexer"
      ]
     },
     "metadata": {},
     "output_type": "display_data"
    },
    {
     "data": {
      "text/html": [
       "(18,23): error CS0234: The type or namespace name `Office&#39; does not exist in the namespace `Microsoft&#39;. Are you missing an assembly reference?"
      ],
      "text/plain": [
       "(18,23): error CS0234: The type or namespace name `Office' does not exist in the namespace `Microsoft'. Are you missing an assembly reference?"
      ]
     },
     "metadata": {},
     "output_type": "display_data"
    },
    {
     "data": {
      "text/html": [
       "(21,13): error CS0841: A local variable `workSheet&#39; cannot be used before it is declared"
      ],
      "text/plain": [
       "(21,13): error CS0841: A local variable `workSheet' cannot be used before it is declared"
      ]
     },
     "metadata": {},
     "output_type": "display_data"
    },
    {
     "data": {
      "text/html": [
       "(22,13): error CS0841: A local variable `workSheet&#39; cannot be used before it is declared"
      ],
      "text/plain": [
       "(22,13): error CS0841: A local variable `workSheet' cannot be used before it is declared"
      ]
     },
     "metadata": {},
     "output_type": "display_data"
    }
   ],
   "source": [
    "namespace LISTING_2_26_Interacting_with_Excel\n",
    "{\n",
    "    class Program\n",
    "    {\n",
    "        static public void Main(string[] args)\n",
    "        {\n",
    "            // Create the interop\n",
    "            var excelApp = new Microsoft.Office.Interop.Excel.Application();\n",
    "\n",
    "            // make the app visible\n",
    "            excelApp.Visible = true;\n",
    "\n",
    "            // Add a new workbook\n",
    "            excelApp.Workbooks.Add();\n",
    "\n",
    "            // Obtain the active sheet from the app\n",
    "            // There is no need to cast this dynamic type\n",
    "            Microsoft.Office.Interop.Excel.Worksheet workSheet = excelApp.ActiveSheet;\n",
    "\n",
    "            // Write into two cells\n",
    "            workSheet.Cells[1, \"A\"] = \"Hello\";\n",
    "            workSheet.Cells[1, \"B\"] = \"from C#\";\n",
    "        }\n",
    "    }\n",
    "}\n"
   ]
  },
  {
   "cell_type": "code",
   "execution_count": 2,
   "metadata": {},
   "outputs": [],
   "source": [
    "LISTING_2_26_Interacting_with_Excel.Program.Main(new string[0]);"
   ]
  }
 ],
 "metadata": {
  "kernelspec": {
   "display_name": "C#",
   "language": "csharp",
   "name": "kernel-spec"
  },
  "language_info": {
   "file_extension": ".cs",
   "mimetype": "text/x-csharp",
   "name": "C#",
   "pygments_lexer": "c#",
   "version": "4.0.30319"
  }
 },
 "nbformat": 4,
 "nbformat_minor": 2
}

{
 "cells": [
  {
   "cell_type": "markdown",
   "metadata": {},
   "source": [
    "# Info"
   ]
  },
  {
   "cell_type": "markdown",
   "metadata": {},
   "source": [
    "This example is from\n",
    "* [github.com/ExamRef70-483/Sample-Code](https://github.com/ExamRef70-483/Sample-Code)\n",
    "* [LISTING 2-26 Interacting with Excel](https://github.com/ExamRef70-483/Sample-Code/blob/master/LISTING%202-26%E2%80%82Interacting%20with%20Excel/LISTING%202-26%E2%80%82Interacting%20with%20Excel/Program.cs)\n",
    "\n",
    "\n",
    "## Remember\n",
    "* Main() is not called automatically. Has to be called manual. Remember '**public**'\n",
    "* Console.ReadKey() should not be used.\n"
   ]
  },
  {
   "cell_type": "code",
   "execution_count": null,
   "metadata": {},
   "outputs": [],
   "source": [
    "namespace LISTING_2_26_Interacting_with_Excel\n",
    "{\n",
    "    class Program\n",
    "    {\n",
    "        static public void Main(string[] args)\n",
    "        {\n",
    "            // Create the interop\n",
    "            var excelApp = new Microsoft.Office.Interop.Excel.Application();\n",
    "\n",
    "            // make the app visible\n",
    "            excelApp.Visible = true;\n",
    "\n",
    "            // Add a new workbook\n",
    "            excelApp.Workbooks.Add();\n",
    "\n",
    "            // Obtain the active sheet from the app\n",
    "            // There is no need to cast this dynamic type\n",
    "            Microsoft.Office.Interop.Excel.Worksheet workSheet = excelApp.ActiveSheet;\n",
    "\n",
    "            // Write into two cells\n",
    "            workSheet.Cells[1, \"A\"] = \"Hello\";\n",
    "            workSheet.Cells[1, \"B\"] = \"from C#\";\n",
    "        }\n",
    "    }\n",
    "}\n"
   ]
  },
  {
   "cell_type": "code",
   "execution_count": null,
   "metadata": {},
   "outputs": [],
   "source": [
    "LISTING_2_26_Interacting_with_Excel.Program.Main(new string[0]);"
   ]
  }
 ],
 "metadata": {
  "kernelspec": {
   "display_name": "C#",
   "language": "csharp",
   "name": "kernel-spec"
  },
  "language_info": {
   "file_extension": ".cs",
   "mimetype": "text/x-csharp",
   "name": "C#",
   "pygments_lexer": "c#",
   "version": "4.0.30319"
  }
 },
 "nbformat": 4,
 "nbformat_minor": 2
}

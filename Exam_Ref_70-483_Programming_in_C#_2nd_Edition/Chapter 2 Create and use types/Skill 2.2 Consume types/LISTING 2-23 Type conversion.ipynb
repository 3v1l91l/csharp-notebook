{
 "cells": [
  {
   "cell_type": "markdown",
   "metadata": {},
   "source": [
    "# Info"
   ]
  },
  {
   "cell_type": "markdown",
   "metadata": {},
   "source": [
    "This example is from\n",
    "* [github.com/ExamRef70-483/Sample-Code](https://github.com/ExamRef70-483/Sample-Code)\n",
    "* [LISTING 2-23 Type conversion](https://github.com/ExamRef70-483/Sample-Code/blob/master/LISTING%202-23%E2%80%82Type%20conversion/LISTING%202-23%E2%80%82Type%20conversion/Program.cs)\n",
    "\n",
    "\n",
    "## Remember\n",
    "* Main() is not called automatically. Has to be called manual. Remember '**public**'\n",
    "* Console.ReadKey() should not be used.\n"
   ]
  },
  {
   "cell_type": "code",
   "execution_count": 1,
   "metadata": {},
   "outputs": [],
   "source": [
    "using System;\n",
    "\n",
    "namespace LISTING_2_23_Type_conversion\n",
    "{\n",
    "    class Miles\n",
    "    {\n",
    "        public double Distance { get; }\n",
    "\n",
    "        // Conversion operator for implicit converstion to Kilometers\n",
    "        public static implicit operator Kilometers(Miles t)\n",
    "        {\n",
    "            Console.WriteLine(\"Implicit conversion from miles to kilometers\");\n",
    "            return new Kilometers( t.Distance * 1.6);\n",
    "        }\n",
    "\n",
    "        public static explicit operator int(Miles t)\n",
    "        {\n",
    "            Console.WriteLine(\"Explicit conversion from miles to int\");\n",
    "            return (int)(t.Distance + 0.5);\n",
    "        }\n",
    "\n",
    "        public Miles(double miles)\n",
    "        {\n",
    "            Distance = miles;\n",
    "        }\n",
    "    }\n",
    "\n",
    "    class Kilometers\n",
    "    {\n",
    "        public double Distance { get; }\n",
    "\n",
    "        public Kilometers(double kilometers)\n",
    "        {\n",
    "            Distance = kilometers;\n",
    "        }\n",
    "    }\n",
    "\n",
    "    class Program\n",
    "    {\n",
    "        static public void Main(string[] args)\n",
    "        {\n",
    "            Miles m = new Miles(100);\n",
    "\n",
    "            Kilometers k = m; // implicity convert miles to km\n",
    "            Console.WriteLine(\"Kilometers: {0}\", k.Distance);\n",
    "\n",
    "            int intMiles = (int)m;  // explicitly convert miles to int\n",
    "            Console.WriteLine(\"Int miles: {0}\", intMiles);\n",
    "            //Console.ReadKey();\n",
    "        }\n",
    "    }\n",
    "}\n"
   ]
  },
  {
   "cell_type": "code",
   "execution_count": 2,
   "metadata": {},
   "outputs": [
    {
     "data": {
      "text/html": [
       "Implicit conversion from miles to kilometers"
      ],
      "text/plain": [
       "Implicit conversion from miles to kilometers"
      ]
     },
     "metadata": {},
     "output_type": "display_data"
    },
    {
     "data": {
      "text/html": [
       "Kilometers: 160"
      ],
      "text/plain": [
       "Kilometers: 160"
      ]
     },
     "metadata": {},
     "output_type": "display_data"
    },
    {
     "data": {
      "text/html": [
       "Explicit conversion from miles to int"
      ],
      "text/plain": [
       "Explicit conversion from miles to int"
      ]
     },
     "metadata": {},
     "output_type": "display_data"
    },
    {
     "data": {
      "text/html": [
       "Int miles: 100"
      ],
      "text/plain": [
       "Int miles: 100"
      ]
     },
     "metadata": {},
     "output_type": "display_data"
    }
   ],
   "source": [
    "LISTING_2_23_Type_conversion.Program.Main(new string[0]);"
   ]
  }
 ],
 "metadata": {
  "kernelspec": {
   "display_name": "C#",
   "language": "csharp",
   "name": "kernel-spec"
  },
  "language_info": {
   "file_extension": ".cs",
   "mimetype": "text/x-csharp",
   "name": "C#",
   "pygments_lexer": "c#",
   "version": "4.0.30319"
  }
 },
 "nbformat": 4,
 "nbformat_minor": 2
}

{
 "cells": [
  {
   "cell_type": "markdown",
   "metadata": {},
   "source": [
    "# Info"
   ]
  },
  {
   "cell_type": "markdown",
   "metadata": {},
   "source": [
    "This example is from\n",
    "* [github.com/ExamRef70-483/Sample-Code](https://github.com/ExamRef70-483/Sample-Code)\n",
    "* [LISTING 3-29 Conditional compilation](https://github.com/ExamRef70-483/Sample-Code/blob/master/LISTING%203-29%E2%80%82Conditional%20compilation/LISTING%203-29%E2%80%82Conditional%20compilation/Program.cs)\n",
    "\n",
    "\n",
    "## Remember\n",
    "* Main() is not called automatically. Has to be called manual. Remember '**public**'\n",
    "* Console.ReadKey() should not be used.\n"
   ]
  },
  {
   "cell_type": "code",
   "execution_count": 1,
   "metadata": {},
   "outputs": [
    {
     "data": {
      "text/html": [
       "(2,0): error CS1024: Wrong preprocessor directive"
      ],
      "text/plain": [
       "(2,0): error CS1024: Wrong preprocessor directive"
      ]
     },
     "metadata": {},
     "output_type": "display_data"
    },
    {
     "data": {
      "text/html": [
       "(2,0): error CS1024: Wrong preprocessor directive"
      ],
      "text/plain": [
       "(2,0): error CS1024: Wrong preprocessor directive"
      ]
     },
     "metadata": {},
     "output_type": "display_data"
    },
    {
     "data": {
      "text/html": [
       "(2,0): error CS1024: Wrong preprocessor directive"
      ],
      "text/plain": [
       "(2,0): error CS1024: Wrong preprocessor directive"
      ]
     },
     "metadata": {},
     "output_type": "display_data"
    }
   ],
   "source": [
    "#\n",
    "#define DIAGNOSTICS\n",
    "\n",
    "using System;\n",
    "\n",
    "namespace LISTING_3_29_Conditional_compilation\n",
    "{\n",
    "    public class MusicTrack\n",
    "    {\n",
    "        public static bool DebugMode = false;\n",
    "\n",
    "        public string Artist { get; set; }\n",
    "        public string Title { get; set; }\n",
    "        public int Length { get; set; }\n",
    "\n",
    "        // ToString that overrides the behavior in the base class\n",
    "        public override string ToString()\n",
    "        {\n",
    "            return Artist + \" \" + Title + \" \" + Length.ToString() + \" seconds long\";\n",
    "        }\n",
    "\n",
    "        public MusicTrack(string artist, string title, int length)\n",
    "        {\n",
    "            Artist = artist;\n",
    "            Title = title;\n",
    "            Length = length;\n",
    "\n",
    "#if TERSE\n",
    "            Console.WriteLine(\"Hello\");\n",
    "#elif NORMAL\n",
    "            Console.WriteLine(\"Hello Rob\");\n",
    "#elif CHATTY\n",
    "            Console.WriteLine(\"Hello Rob. And how are you\");\n",
    "#endif\n",
    "\n",
    "\n",
    "#if DIAGNOSTICS && DEBUG\n",
    "            Console.WriteLine(\"Music track created: {0}\", this.ToString());\n",
    "#else\n",
    "\n",
    "#endif\n",
    "        }\n",
    "    }\n",
    "\n",
    "    class Program\n",
    "    {\n",
    "        static public void Main(string[] args)\n",
    "        {\n",
    "            MusicTrack.DebugMode = true;\n",
    "\n",
    "            MusicTrack m = new MusicTrack(artist: \"Rob Miles\", title: \"My Way\", length: 150);\n",
    "            //Console.ReadKey();\n",
    "        }\n",
    "    }\n",
    "}\n"
   ]
  },
  {
   "cell_type": "code",
   "execution_count": 2,
   "metadata": {},
   "outputs": [],
   "source": [
    "LISTING_3_29_Conditional_compilation.Program.Main(new string[0]);"
   ]
  }
 ],
 "metadata": {
  "kernelspec": {
   "display_name": "C#",
   "language": "csharp",
   "name": "kernel-spec"
  },
  "language_info": {
   "file_extension": ".cs",
   "mimetype": "text/x-csharp",
   "name": "C#",
   "pygments_lexer": "c#",
   "version": "4.0.30319"
  }
 },
 "nbformat": 4,
 "nbformat_minor": 2
}

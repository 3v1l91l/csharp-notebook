{
 "cells": [
  {
   "cell_type": "markdown",
   "metadata": {},
   "source": [
    "# Info"
   ]
  },
  {
   "cell_type": "markdown",
   "metadata": {},
   "source": [
    "This example is from\n",
    "* [github.com/ExamRef70-483/Sample-Code](https://github.com/ExamRef70-483/Sample-Code)\n",
    "* [LISTING 3-31 Line numbers](https://github.com/ExamRef70-483/Sample-Code/blob/master/LISTING%203-31%E2%80%82Line%20numbers/LISTING%203-31%E2%80%82Line%20numbers/Program.cs)\n",
    "\n",
    "\n",
    "## Remember\n",
    "* Main() is not called automatically. Has to be called manual. Remember '**public**'\n",
    "* Console.ReadKey() should not be used.\n"
   ]
  },
  {
   "cell_type": "code",
   "execution_count": null,
   "metadata": {},
   "outputs": [],
   "source": [
    "using System;\n",
    "\n",
    "namespace LISTING_3_31_Line_numbers\n",
    "{\n",
    "    class Program\n",
    "    {\n",
    "        static void Exploder()\n",
    "        {\n",
    "#line 1 \"kapow.ninja\"\n",
    "            throw new Exception(\"Bang\");\n",
    "#line default\n",
    "        }\n",
    "        static public void Main(string[] args)\n",
    "        {\n",
    "            try\n",
    "            {\n",
    "                Exploder();\n",
    "            }\n",
    "            catch (Exception e)\n",
    "            {\n",
    "                Console.WriteLine(e.StackTrace);\n",
    "            }\n",
    "            //Console.ReadKey();\n",
    "        }\n",
    "    }\n",
    "}\n"
   ]
  },
  {
   "cell_type": "code",
   "execution_count": null,
   "metadata": {},
   "outputs": [],
   "source": [
    "LISTING_3_31_Line_numbers.Program.Main(new string[0]);"
   ]
  }
 ],
 "metadata": {
  "kernelspec": {
   "display_name": "C#",
   "language": "csharp",
   "name": "kernel-spec"
  },
  "language_info": {
   "file_extension": ".cs",
   "mimetype": "text/x-csharp",
   "name": "C#",
   "pygments_lexer": "c#",
   "version": "4.0.30319"
  }
 },
 "nbformat": 4,
 "nbformat_minor": 2
}

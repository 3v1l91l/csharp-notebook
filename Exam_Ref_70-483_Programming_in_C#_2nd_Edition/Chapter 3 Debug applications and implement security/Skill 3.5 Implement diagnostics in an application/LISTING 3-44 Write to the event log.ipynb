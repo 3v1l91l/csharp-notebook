{
 "cells": [
  {
   "cell_type": "markdown",
   "metadata": {},
   "source": [
    "# Info"
   ]
  },
  {
   "cell_type": "markdown",
   "metadata": {},
   "source": [
    "This example is from\n",
    "* [github.com/ExamRef70-483/Sample-Code](https://github.com/ExamRef70-483/Sample-Code)\n",
    "* [LISTING 3-44 Write to the event log](https://github.com/ExamRef70-483/Sample-Code/blob/master/LISTING%203-44%20Write%20to%20the%20event%20log/LISTING%203-44%20Write%20to%20the%20event%20log/Program.cs)\n",
    "\n",
    "\n",
    "## Remember\n",
    "* Main() is not called automatically. Has to be called manual. Remember '**public**'\n",
    "* Console.ReadKey() should not be used.\n"
   ]
  },
  {
   "cell_type": "code",
   "execution_count": 1,
   "metadata": {},
   "outputs": [
    {
     "data": {
      "text/html": [
       "(9,14): error CS0234: The type or namespace name `Drawing&#39; does not exist in the namespace `System&#39;. Are you missing `System.Drawing&#39; assembly reference?"
      ],
      "text/plain": [
       "(9,14): error CS0234: The type or namespace name `Drawing' does not exist in the namespace `System'. Are you missing `System.Drawing' assembly reference?"
      ]
     },
     "metadata": {},
     "output_type": "display_data"
    },
    {
     "data": {
      "text/html": [
       "(32,36): error CS0584: Internal compiler error: The method or operation is not implemented."
      ],
      "text/plain": [
       "(32,36): error CS0584: Internal compiler error: The method or operation is not implemented."
      ]
     },
     "metadata": {},
     "output_type": "display_data"
    },
    {
     "data": {
      "text/html": [
       "(36,13): error CS0246: The type or namespace name `Bitmap&#39; could not be found. Are you missing an assembly reference?"
      ],
      "text/plain": [
       "(36,13): error CS0246: The type or namespace name `Bitmap' could not be found. Are you missing an assembly reference?"
      ]
     },
     "metadata": {},
     "output_type": "display_data"
    },
    {
     "data": {
      "text/html": [
       "(38,51): error CS0841: A local variable `bitmap&#39; cannot be used before it is declared"
      ],
      "text/plain": [
       "(38,51): error CS0841: A local variable `bitmap' cannot be used before it is declared"
      ]
     },
     "metadata": {},
     "output_type": "display_data"
    },
    {
     "data": {
      "text/html": [
       "(38,81): error CS0841: A local variable `bitmap&#39; cannot be used before it is declared"
      ],
      "text/plain": [
       "(38,81): error CS0841: A local variable `bitmap' cannot be used before it is declared"
      ]
     },
     "metadata": {},
     "output_type": "display_data"
    },
    {
     "data": {
      "text/html": [
       "(40,36): error CS0841: A local variable `bitmap&#39; cannot be used before it is declared"
      ],
      "text/plain": [
       "(40,36): error CS0841: A local variable `bitmap' cannot be used before it is declared"
      ]
     },
     "metadata": {},
     "output_type": "display_data"
    },
    {
     "data": {
      "text/html": [
       "(41,37): error CS0841: A local variable `bitmap&#39; cannot be used before it is declared"
      ],
      "text/plain": [
       "(41,37): error CS0841: A local variable `bitmap' cannot be used before it is declared"
      ]
     },
     "metadata": {},
     "output_type": "display_data"
    },
    {
     "data": {
      "text/html": [
       "(43,13): error CS0246: The type or namespace name `Bitmap&#39; could not be found. Are you missing an assembly reference?"
      ],
      "text/plain": [
       "(43,13): error CS0246: The type or namespace name `Bitmap' could not be found. Are you missing an assembly reference?"
      ]
     },
     "metadata": {},
     "output_type": "display_data"
    },
    {
     "data": {
      "text/html": [
       "(44,13): error CS0841: A local variable `resized&#39; cannot be used before it is declared"
      ],
      "text/plain": [
       "(44,13): error CS0841: A local variable `resized' cannot be used before it is declared"
      ]
     },
     "metadata": {},
     "output_type": "display_data"
    }
   ],
   "source": [
    "using System;\n",
    "using System.IO;\n",
    "using System.Threading.Tasks;\n",
    "using System.Drawing;\n",
    "using System.Diagnostics;\n",
    "\n",
    "namespace LISTING_3_44_Write_to_the_event_log\n",
    "{\n",
    "    class Program\n",
    "    {\n",
    "        static EventLog imageEventLog;\n",
    "\n",
    "        enum CreationResult\n",
    "        {\n",
    "            CreatedLog,\n",
    "            LoadedLog\n",
    "        };\n",
    "\n",
    "        static CreationResult SetupLog()\n",
    "        {\n",
    "            string categoryName = \"Image Processing\";\n",
    "\n",
    "            if (EventLog.SourceExists(categoryName))\n",
    "            {\n",
    "                imageEventLog = new EventLog();\n",
    "                imageEventLog.Source = categoryName;\n",
    "                return CreationResult.LoadedLog;\n",
    "            }\n",
    "\n",
    "            EventLog.CreateEventSource(source: categoryName,\n",
    "                logName: categoryName + \" log\");\n",
    "\n",
    "            return CreationResult.CreatedLog;\n",
    "        }\n",
    "\n",
    "        public static void MakeThumbnail(string sourceFile, string destDir, int width, int height)\n",
    "        {\n",
    "            String filename = Path.GetFileName(sourceFile);\n",
    "\n",
    "            String destPath = Path.Combine(destDir, filename);\n",
    "\n",
    "            Bitmap bitmap = new Bitmap(sourceFile);\n",
    "\n",
    "            float scale = Math.Min((float)width / bitmap.Width, (float)height / bitmap.Height);\n",
    "\n",
    "            int scaleWidth = (int)(bitmap.Width * scale);\n",
    "            int scaleHeight = (int)(bitmap.Height * scale);\n",
    "\n",
    "            Bitmap resized = new Bitmap(bitmap, new Size(scaleWidth, scaleHeight));\n",
    "            resized.Save(destPath);\n",
    "        }\n",
    "\n",
    "        public static void MakeThumbnailsSeq(string sourceDir, string destDir, int width = 320, int height = 240)\n",
    "        {\n",
    "            String[] files = Directory.GetFiles(sourceDir, \"*.jpg\");\n",
    "\n",
    "            Directory.CreateDirectory(destDir);\n",
    "\n",
    "            foreach (string filename in files)\n",
    "            {\n",
    "                MakeThumbnail(filename, destDir, width, height);\n",
    "            }\n",
    "        }\n",
    "\n",
    "        public static void MakeThumbnailsParallel(string sourceDir, string destDir, int width = 320, int height = 240)\n",
    "        {\n",
    "            String[] files = Directory.GetFiles(sourceDir, \"*.jpg\");\n",
    "\n",
    "            Directory.CreateDirectory(destDir);\n",
    "\n",
    "            Parallel.ForEach(files, (filename) =>\n",
    "            {\n",
    "                MakeThumbnail(filename, destDir, width, height);\n",
    "            });\n",
    "        }\n",
    "\n",
    "        static void sequentialTest()\n",
    "        {\n",
    "            // sourceDir is a directory of images\n",
    "            // destDir is to the destination directory which will be automatically\n",
    "            // created.\n",
    "\n",
    "            MakeThumbnailsSeq(sourceDir: @\"..\\..\\..\\..\\images\",\n",
    "                destDir: @\"..\\..\\..\\..\\images\\Serial\");\n",
    "        }\n",
    "\n",
    "        static void parallelTest()\n",
    "        {\n",
    "            MakeThumbnailsParallel(sourceDir: @\"..\\..\\..\\..\\images\",\n",
    "                destDir: @\"..\\..\\..\\..\\images\\Parallel\");\n",
    "        }\n",
    "\n",
    "        static public void Main(string[] args)\n",
    "        {\n",
    "            if (SetupLog() == CreationResult.CreatedLog)\n",
    "            {\n",
    "                Console.WriteLine(\"Log created\");\n",
    "                Console.WriteLine(\"Restart the program\");\n",
    "                //Console.ReadKey();\n",
    "                return;\n",
    "            }\n",
    "\n",
    "            Console.WriteLine(\"Processing started\");\n",
    "\n",
    "            imageEventLog.WriteEntry(\"Image processing started\");\n",
    "\n",
    "            sequentialTest();\n",
    "\n",
    "            parallelTest();\n",
    "            imageEventLog.WriteEntry(\"Image processing ended\");\n",
    "\n",
    "            Console.WriteLine(\"Processing complete. Press any key to exit.\");\n",
    "            //Console.ReadKey();\n",
    "        }\n",
    "    }\n",
    "}\n"
   ]
  },
  {
   "cell_type": "code",
   "execution_count": 2,
   "metadata": {},
   "outputs": [],
   "source": [
    "LISTING_3_44_Write_to_the_event_log.Program.Main(new string[0]);"
   ]
  }
 ],
 "metadata": {
  "kernelspec": {
   "display_name": "C#",
   "language": "csharp",
   "name": "kernel-spec"
  },
  "language_info": {
   "file_extension": ".cs",
   "mimetype": "text/x-csharp",
   "name": "C#",
   "pygments_lexer": "c#",
   "version": "4.0.30319"
  }
 },
 "nbformat": 4,
 "nbformat_minor": 2
}

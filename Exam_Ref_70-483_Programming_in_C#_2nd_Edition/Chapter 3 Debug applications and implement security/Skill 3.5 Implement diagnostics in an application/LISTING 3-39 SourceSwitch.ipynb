{
 "cells": [
  {
   "cell_type": "markdown",
   "metadata": {},
   "source": [
    "# Info"
   ]
  },
  {
   "cell_type": "markdown",
   "metadata": {},
   "source": [
    "This example is from\n",
    "* [github.com/ExamRef70-483/Sample-Code](https://github.com/ExamRef70-483/Sample-Code)\n",
    "* [LISTING 3-39 SourceSwitch](https://github.com/ExamRef70-483/Sample-Code/blob/master/LISTING%203-39%E2%80%82SourceSwitch/LISTING%203-39%E2%80%82SourceSwitch/Program.cs)\n",
    "\n",
    "\n",
    "## Remember\n",
    "* Main() is not called automatically. Has to be called manual. Remember '**public**'\n",
    "* Console.ReadKey() should not be used.\n"
   ]
  },
  {
   "cell_type": "code",
   "execution_count": 1,
   "metadata": {},
   "outputs": [],
   "source": [
    "using System.Diagnostics;\n",
    "\n",
    "namespace LISTING_3_39_SourceSwitch\n",
    "{\n",
    "    class Program\n",
    "    {\n",
    "        static public void Main(string[] args)\n",
    "        {\n",
    "            TraceSource trace = new TraceSource(\"Tracer\", SourceLevels.All);\n",
    "\n",
    "            SourceSwitch control = new SourceSwitch(\"control\", \"Controls the tracing\");\n",
    "            control.Level = SourceLevels.Information;\n",
    "            trace.Switch = control;\n",
    "\n",
    "            trace.TraceEvent(TraceEventType.Start, 10000);\n",
    "            trace.TraceEvent(TraceEventType.Warning, 10001);\n",
    "            trace.TraceEvent(TraceEventType.Verbose, 10002, \"At the end of the program\");\n",
    "            trace.TraceEvent(TraceEventType.Information, 10003, \"Some information\", new object[] { \"line1\", \"line2\" });\n",
    "            trace.Flush();\n",
    "            trace.Close();\n",
    "        }\n",
    "    }\n",
    "}\n"
   ]
  },
  {
   "cell_type": "code",
   "execution_count": 2,
   "metadata": {},
   "outputs": [],
   "source": [
    "LISTING_3_39_SourceSwitch.Program.Main(new string[0]);"
   ]
  }
 ],
 "metadata": {
  "kernelspec": {
   "display_name": "C#",
   "language": "csharp",
   "name": "kernel-spec"
  },
  "language_info": {
   "file_extension": ".cs",
   "mimetype": "text/x-csharp",
   "name": "C#",
   "pygments_lexer": "c#",
   "version": "4.0.30319"
  }
 },
 "nbformat": 4,
 "nbformat_minor": 2
}

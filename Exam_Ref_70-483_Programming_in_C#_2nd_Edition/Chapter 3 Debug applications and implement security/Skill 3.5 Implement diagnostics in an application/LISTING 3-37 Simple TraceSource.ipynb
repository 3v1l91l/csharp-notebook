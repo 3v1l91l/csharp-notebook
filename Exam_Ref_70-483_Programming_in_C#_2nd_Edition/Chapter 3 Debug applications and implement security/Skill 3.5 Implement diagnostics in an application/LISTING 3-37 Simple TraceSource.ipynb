{
 "cells": [
  {
   "cell_type": "markdown",
   "metadata": {},
   "source": [
    "# Info"
   ]
  },
  {
   "cell_type": "markdown",
   "metadata": {},
   "source": [
    "This example is from\n",
    "* [github.com/ExamRef70-483/Sample-Code](https://github.com/ExamRef70-483/Sample-Code)\n",
    "* [LISTING 3-37 Simple TraceSource](https://github.com/ExamRef70-483/Sample-Code/blob/master/LISTING%203-37%E2%80%82Simple%20TraceSource/LISTING%203-37%E2%80%82Simple%20TraceSource/Program.cs)\n",
    "\n",
    "\n",
    "## Remember\n",
    "* Main() is not called automatically. Has to be called manual. Remember '**public**'\n",
    "* Console.ReadKey() should not be used.\n"
   ]
  },
  {
   "cell_type": "code",
   "execution_count": null,
   "metadata": {},
   "outputs": [],
   "source": [
    "using System.Diagnostics;\n",
    "\n",
    "namespace LISTING_3_37_Simple_TraceSource\n",
    "{\n",
    "    class Program\n",
    "    {\n",
    "        static public void Main(string[] args)\n",
    "        {\n",
    "            TraceSource trace = new TraceSource(\"Tracer\",SourceLevels.All);\n",
    "            trace.TraceEvent(TraceEventType.Start, 10000);\n",
    "            trace.TraceEvent(TraceEventType.Warning, 10001);\n",
    "            trace.TraceEvent(TraceEventType.Verbose, 10002, \"At the end of the program\");\n",
    "            trace.TraceData(TraceEventType.Information, 1003, new object[] { \"Message 1\", \"Message 2\" });\n",
    "            trace.Flush();\n",
    "            trace.Close();\n",
    "        }\n",
    "    }\n",
    "}\n"
   ]
  },
  {
   "cell_type": "code",
   "execution_count": null,
   "metadata": {},
   "outputs": [],
   "source": [
    "LISTING_3_37_Simple_TraceSource.Program.Main(new string[0]);"
   ]
  }
 ],
 "metadata": {
  "kernelspec": {
   "display_name": "C#",
   "language": "csharp",
   "name": "kernel-spec"
  },
  "language_info": {
   "file_extension": ".cs",
   "mimetype": "text/x-csharp",
   "name": "C#",
   "pygments_lexer": "c#",
   "version": "4.0.30319"
  }
 },
 "nbformat": 4,
 "nbformat_minor": 2
}

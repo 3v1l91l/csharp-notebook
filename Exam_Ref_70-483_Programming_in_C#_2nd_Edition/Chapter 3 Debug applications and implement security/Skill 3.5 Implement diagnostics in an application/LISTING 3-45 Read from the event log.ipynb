{
 "cells": [
  {
   "cell_type": "markdown",
   "metadata": {},
   "source": [
    "# Info"
   ]
  },
  {
   "cell_type": "markdown",
   "metadata": {},
   "source": [
    "This example is from\n",
    "* [github.com/ExamRef70-483/Sample-Code](https://github.com/ExamRef70-483/Sample-Code)\n",
    "* [LISTING 3-45 Read from the event log](https://github.com/ExamRef70-483/Sample-Code/blob/master/LISTING%203-45%20Read%20from%20the%20event%20log/LISTING%203-45%20Read%20from%20the%20event%20log/Program.cs)\n",
    "\n",
    "\n",
    "## Remember\n",
    "* Main() is not called automatically. Has to be called manual. Remember '**public**'\n",
    "* Console.ReadKey() should not be used.\n"
   ]
  },
  {
   "cell_type": "code",
   "execution_count": null,
   "metadata": {},
   "outputs": [],
   "source": [
    "using System;\n",
    "using System.Diagnostics;\n",
    "\n",
    "namespace LISTING_3_45_Read_from_the_event_log\n",
    "{\n",
    "    class Program\n",
    "    {\n",
    "        static public void Main(string[] args)\n",
    "        {\n",
    "            string categoryName = \"Image Processing\";\n",
    "\n",
    "            if (!EventLog.SourceExists(categoryName))\n",
    "            {\n",
    "                Console.WriteLine(\"Event log not present\");\n",
    "            }\n",
    "            else\n",
    "            {\n",
    "                EventLog imageEventLog = new EventLog();\n",
    "                imageEventLog.Source = categoryName;\n",
    "                foreach(EventLogEntry entry in imageEventLog.Entries)\n",
    "                {\n",
    "                    Console.WriteLine(\"Source: {0} Type: {1} Time: {2} Message: {3}\",\n",
    "                        entry.Source, entry.EntryType, entry.TimeWritten, entry.Message);\n",
    "                }\n",
    "            }\n",
    "\n",
    "            Console.WriteLine(\"Press any key\");\n",
    "            //Console.ReadKey();\n",
    "        }\n",
    "    }\n",
    "}\n"
   ]
  },
  {
   "cell_type": "code",
   "execution_count": null,
   "metadata": {},
   "outputs": [],
   "source": [
    "LISTING_3_45_Read_from_the_event_log.Program.Main(new string[0]);"
   ]
  }
 ],
 "metadata": {
  "kernelspec": {
   "display_name": "C#",
   "language": "csharp",
   "name": "kernel-spec"
  },
  "language_info": {
   "file_extension": ".cs",
   "mimetype": "text/x-csharp",
   "name": "C#",
   "pygments_lexer": "c#",
   "version": "4.0.30319"
  }
 },
 "nbformat": 4,
 "nbformat_minor": 2
}

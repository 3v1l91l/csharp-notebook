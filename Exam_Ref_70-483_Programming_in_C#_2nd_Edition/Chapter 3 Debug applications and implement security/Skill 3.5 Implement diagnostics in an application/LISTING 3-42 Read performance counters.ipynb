{
 "cells": [
  {
   "cell_type": "markdown",
   "metadata": {},
   "source": [
    "# Info"
   ]
  },
  {
   "cell_type": "markdown",
   "metadata": {},
   "source": [
    "This example is from\n",
    "* [github.com/ExamRef70-483/Sample-Code](https://github.com/ExamRef70-483/Sample-Code)\n",
    "* [LISTING 3-42 Read performance counters](https://github.com/ExamRef70-483/Sample-Code/blob/master/LISTING%203-42%20Read%20performance%20counters/LISTING%203-42%20Read%20performance%20counters/Program.cs)\n",
    "\n",
    "\n",
    "## Remember\n",
    "* Main() is not called automatically. Has to be called manual. Remember '**public**'\n",
    "* Console.ReadKey() should not be used.\n"
   ]
  },
  {
   "cell_type": "code",
   "execution_count": null,
   "metadata": {},
   "outputs": [],
   "source": [
    "using System;\n",
    "using System.Diagnostics;\n",
    "using System.Threading;\n",
    "\n",
    "namespace LISTING_3_42_Read_performance_counters\n",
    "{\n",
    "    class Program\n",
    "    {\n",
    "        static public void Main(string[] args)\n",
    "        {\n",
    "            PerformanceCounter processor = new PerformanceCounter(\n",
    "                categoryName:\"Processor Information\",\n",
    "                counterName: \"% Processor Time\",\n",
    "                instanceName:\"_Total\");\n",
    "\n",
    "            Console.WriteLine(\"Press any key to stop\");\n",
    "\n",
    "            while (true)\n",
    "            {\n",
    "                Console.WriteLine(\"Processor time {0}\", processor.NextValue());\n",
    "                Thread.Sleep(500);\n",
    "                if (Console.KeyAvailable)\n",
    "                    break;\n",
    "            }\n",
    "        }\n",
    "    }\n",
    "}\n"
   ]
  },
  {
   "cell_type": "code",
   "execution_count": null,
   "metadata": {},
   "outputs": [],
   "source": [
    "LISTING_3_42_Read_performance_counters.Program.Main(new string[0]);"
   ]
  }
 ],
 "metadata": {
  "kernelspec": {
   "display_name": "C#",
   "language": "csharp",
   "name": "kernel-spec"
  },
  "language_info": {
   "file_extension": ".cs",
   "mimetype": "text/x-csharp",
   "name": "C#",
   "pygments_lexer": "c#",
   "version": "4.0.30319"
  }
 },
 "nbformat": 4,
 "nbformat_minor": 2
}

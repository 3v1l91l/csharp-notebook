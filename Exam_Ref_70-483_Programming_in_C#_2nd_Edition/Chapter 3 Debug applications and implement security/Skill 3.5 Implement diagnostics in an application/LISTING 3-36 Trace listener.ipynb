{
 "cells": [
  {
   "cell_type": "markdown",
   "metadata": {},
   "source": [
    "# Info"
   ]
  },
  {
   "cell_type": "markdown",
   "metadata": {},
   "source": [
    "This example is from\n",
    "* [github.com/ExamRef70-483/Sample-Code](https://github.com/ExamRef70-483/Sample-Code)\n",
    "* [LISTING 3-36 Trace listener](https://github.com/ExamRef70-483/Sample-Code/blob/master/LISTING%203-36%E2%80%82Trace%20listener/LISTING%203-36%E2%80%82Trace%20listener/Program.cs)\n",
    "\n",
    "\n",
    "## Remember\n",
    "* Main() is not called automatically. Has to be called manual. Remember '**public**'\n",
    "* Console.ReadKey() should not be used.\n"
   ]
  },
  {
   "cell_type": "code",
   "execution_count": null,
   "metadata": {},
   "outputs": [],
   "source": [
    "using System;\n",
    "using System.Diagnostics;\n",
    "\n",
    "namespace LISTING_3_36_Trace_listener\n",
    "{\n",
    "    class Program\n",
    "    {\n",
    "        static public void Main(string[] args)\n",
    "        {\n",
    "            TraceListener consoleListener = new ConsoleTraceListener();\n",
    "            Trace.Listeners.Add(consoleListener);\n",
    "            Trace.WriteLine(\"Starting the program\");\n",
    "            Trace.Indent();\n",
    "            Trace.WriteLine(\"Inside a function\");\n",
    "            Trace.Unindent();\n",
    "            Trace.WriteLine(\"Outside a function\");\n",
    "\n",
    "            Trace.TraceInformation(\"This is an information message\");\n",
    "            Trace.TraceWarning(\"This is a warning message\");\n",
    "            Trace.TraceError(\"This is an error message\");\n",
    "\n",
    "            //Console.ReadKey();\n",
    "        }\n",
    "    }\n",
    "}\n"
   ]
  },
  {
   "cell_type": "code",
   "execution_count": null,
   "metadata": {},
   "outputs": [],
   "source": [
    "LISTING_3_36_Trace_listener.Program.Main(new string[0]);"
   ]
  }
 ],
 "metadata": {
  "kernelspec": {
   "display_name": "C#",
   "language": "csharp",
   "name": "kernel-spec"
  },
  "language_info": {
   "file_extension": ".cs",
   "mimetype": "text/x-csharp",
   "name": "C#",
   "pygments_lexer": "c#",
   "version": "4.0.30319"
  }
 },
 "nbformat": 4,
 "nbformat_minor": 2
}

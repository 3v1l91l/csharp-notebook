{
 "cells": [
  {
   "cell_type": "markdown",
   "metadata": {},
   "source": [
    "# Info"
   ]
  },
  {
   "cell_type": "markdown",
   "metadata": {},
   "source": [
    "This example is from\n",
    "* [github.com/ExamRef70-483/Sample-Code](https://github.com/ExamRef70-483/Sample-Code)\n",
    "* [LISTING 3-46 Bind to the event log](https://github.com/ExamRef70-483/Sample-Code/blob/master/LISTING%203-46%20Bind%20to%20the%20event%20log/LISTING%203-46%20Bind%20to%20the%20event%20log/Program.cs)\n",
    "\n",
    "\n",
    "## Remember\n",
    "* Main() is not called automatically. Has to be called manual. Remember '**public**'\n",
    "* Console.ReadKey() should not be used.\n"
   ]
  },
  {
   "cell_type": "code",
   "execution_count": null,
   "metadata": {},
   "outputs": [],
   "source": [
    "using System;\n",
    "using System.Diagnostics;\n",
    "\n",
    "namespace LISTING_3_46_Bind_to_the_event_log\n",
    "{\n",
    "    class Program\n",
    "    {\n",
    "        static public void Main(string[] args)\n",
    "        {\n",
    "            string categoryName = \"Image Processing\";\n",
    "\n",
    "            EventLog imageEventLog = new EventLog();\n",
    "            imageEventLog.Source = categoryName;\n",
    "            imageEventLog.EntryWritten += ImageEventLog_EntryWritten;\n",
    "            imageEventLog.EnableRaisingEvents = true;\n",
    "\n",
    "            Console.WriteLine(\"Listening for log events\");\n",
    "            Console.WriteLine(\"Press any key to exit\");\n",
    "            //Console.ReadKey();\n",
    "        }\n",
    "\n",
    "        private static void ImageEventLog_EntryWritten(object sender, EntryWrittenEventArgs e)\n",
    "        {\n",
    "            Console.WriteLine(e.Entry.Message);\n",
    "        }\n",
    "    }\n",
    "}\n"
   ]
  },
  {
   "cell_type": "code",
   "execution_count": null,
   "metadata": {},
   "outputs": [],
   "source": [
    "LISTING_3_46_Bind_to_the_event_log.Program.Main(new string[0]);"
   ]
  }
 ],
 "metadata": {
  "kernelspec": {
   "display_name": "C#",
   "language": "csharp",
   "name": "kernel-spec"
  },
  "language_info": {
   "file_extension": ".cs",
   "mimetype": "text/x-csharp",
   "name": "C#",
   "pygments_lexer": "c#",
   "version": "4.0.30319"
  }
 },
 "nbformat": 4,
 "nbformat_minor": 2
}

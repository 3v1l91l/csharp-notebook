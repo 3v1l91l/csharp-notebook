{
 "cells": [
  {
   "cell_type": "markdown",
   "metadata": {},
   "source": [
    "# Info"
   ]
  },
  {
   "cell_type": "markdown",
   "metadata": {},
   "source": [
    "This example is from\n",
    "* [github.com/ExamRef70-483/Sample-Code](https://github.com/ExamRef70-483/Sample-Code)\n",
    "* [LISTING 3-43 Create performance counters](https://github.com/ExamRef70-483/Sample-Code/blob/master/LISTING%203-43%20Create%20performance%20counters/LISTING%203-43%20Create%20performance%20counters/Program.cs)\n",
    "\n",
    "\n",
    "## Remember\n",
    "* Main() is not called automatically. Has to be called manual. Remember '**public**'\n",
    "* Console.ReadKey() should not be used.\n"
   ]
  },
  {
   "cell_type": "code",
   "execution_count": 1,
   "metadata": {},
   "outputs": [
    {
     "data": {
      "text/html": [
       "(9,14): error CS0234: The type or namespace name `Drawing&#39; does not exist in the namespace `System&#39;. Are you missing `System.Drawing&#39; assembly reference?"
      ],
      "text/plain": [
       "(9,14): error CS0234: The type or namespace name `Drawing' does not exist in the namespace `System'. Are you missing `System.Drawing' assembly reference?"
      ]
     },
     "metadata": {},
     "output_type": "display_data"
    },
    {
     "data": {
      "text/html": [
       "(54,36): error CS0584: Internal compiler error: The method or operation is not implemented."
      ],
      "text/plain": [
       "(54,36): error CS0584: Internal compiler error: The method or operation is not implemented."
      ]
     },
     "metadata": {},
     "output_type": "display_data"
    },
    {
     "data": {
      "text/html": [
       "(58,13): error CS0246: The type or namespace name `Bitmap&#39; could not be found. Are you missing an assembly reference?"
      ],
      "text/plain": [
       "(58,13): error CS0246: The type or namespace name `Bitmap' could not be found. Are you missing an assembly reference?"
      ]
     },
     "metadata": {},
     "output_type": "display_data"
    },
    {
     "data": {
      "text/html": [
       "(60,51): error CS0841: A local variable `bitmap&#39; cannot be used before it is declared"
      ],
      "text/plain": [
       "(60,51): error CS0841: A local variable `bitmap' cannot be used before it is declared"
      ]
     },
     "metadata": {},
     "output_type": "display_data"
    },
    {
     "data": {
      "text/html": [
       "(60,81): error CS0841: A local variable `bitmap&#39; cannot be used before it is declared"
      ],
      "text/plain": [
       "(60,81): error CS0841: A local variable `bitmap' cannot be used before it is declared"
      ]
     },
     "metadata": {},
     "output_type": "display_data"
    },
    {
     "data": {
      "text/html": [
       "(62,36): error CS0841: A local variable `bitmap&#39; cannot be used before it is declared"
      ],
      "text/plain": [
       "(62,36): error CS0841: A local variable `bitmap' cannot be used before it is declared"
      ]
     },
     "metadata": {},
     "output_type": "display_data"
    },
    {
     "data": {
      "text/html": [
       "(63,37): error CS0841: A local variable `bitmap&#39; cannot be used before it is declared"
      ],
      "text/plain": [
       "(63,37): error CS0841: A local variable `bitmap' cannot be used before it is declared"
      ]
     },
     "metadata": {},
     "output_type": "display_data"
    },
    {
     "data": {
      "text/html": [
       "(65,13): error CS0246: The type or namespace name `Bitmap&#39; could not be found. Are you missing an assembly reference?"
      ],
      "text/plain": [
       "(65,13): error CS0246: The type or namespace name `Bitmap' could not be found. Are you missing an assembly reference?"
      ]
     },
     "metadata": {},
     "output_type": "display_data"
    },
    {
     "data": {
      "text/html": [
       "(66,13): error CS0841: A local variable `resized&#39; cannot be used before it is declared"
      ],
      "text/plain": [
       "(66,13): error CS0841: A local variable `resized' cannot be used before it is declared"
      ]
     },
     "metadata": {},
     "output_type": "display_data"
    }
   ],
   "source": [
    "using System;\n",
    "using System.IO;\n",
    "using System.Threading.Tasks;\n",
    "using System.Drawing;\n",
    "using System.Diagnostics;\n",
    "\n",
    "namespace LISTING_3_43_Create_performance_counters\n",
    "{\n",
    "    class Program\n",
    "    {\n",
    "        static PerformanceCounter TotalImageCounter;\n",
    "        static PerformanceCounter ImagesPerSecondCounter;\n",
    "\n",
    "        enum CreationResult\n",
    "        {\n",
    "            CreatedCounters,\n",
    "            LoadedCounters\n",
    "        };\n",
    "\n",
    "        static CreationResult SetupPerformanceCounters()\n",
    "        {\n",
    "            string categoryName = \"Image Processing\";\n",
    "\n",
    "            if (PerformanceCounterCategory.Exists(categoryName))\n",
    "            {\n",
    "                TotalImageCounter = new PerformanceCounter(categoryName:categoryName,\n",
    "                    counterName:\"# of images processed\",\n",
    "                    readOnly:false);\n",
    "                ImagesPerSecondCounter = new PerformanceCounter(categoryName:categoryName,\n",
    "                    counterName: \"# images processed per second\",\n",
    "                    readOnly:false);\n",
    "                return CreationResult.LoadedCounters;\n",
    "            }\n",
    "\n",
    "            CounterCreationData[] counters = new CounterCreationData[] {\n",
    "                new CounterCreationData(counterName:\"# of images processed\",\n",
    "                counterHelp:\"number of images resized\",\n",
    "                counterType:PerformanceCounterType.NumberOfItems64),\n",
    "                new CounterCreationData(counterName: \"# images processed per second\",\n",
    "                counterHelp:\"number of images processed per second\",\n",
    "                counterType:PerformanceCounterType.RateOfCountsPerSecond32)\n",
    "            };\n",
    "\n",
    "            CounterCreationDataCollection counterCollection = new CounterCreationDataCollection(counters);\n",
    "\n",
    "            PerformanceCounterCategory.Create(categoryName:categoryName,\n",
    "                categoryHelp:\"Image processing information\",\n",
    "                categoryType: PerformanceCounterCategoryType.SingleInstance,\n",
    "                counterData:counterCollection);\n",
    "\n",
    "            return CreationResult.CreatedCounters;\n",
    "        }\n",
    "\n",
    "        public static void MakeThumbnail(string sourceFile, string destDir, int width, int height)\n",
    "        {\n",
    "            TotalImageCounter.Increment();\n",
    "\n",
    "            ImagesPerSecondCounter.Increment();\n",
    "\n",
    "            String filename = Path.GetFileName(sourceFile);\n",
    "\n",
    "            String destPath = Path.Combine(destDir, filename);\n",
    "\n",
    "            Bitmap bitmap = new Bitmap(sourceFile);\n",
    "\n",
    "            float scale = Math.Min((float)width / bitmap.Width, (float)height / bitmap.Height);\n",
    "\n",
    "            int scaleWidth = (int)(bitmap.Width * scale);\n",
    "            int scaleHeight = (int)(bitmap.Height * scale);\n",
    "\n",
    "            Bitmap resized = new Bitmap(bitmap, new Size(scaleWidth, scaleHeight));\n",
    "            resized.Save(destPath);\n",
    "        }\n",
    "\n",
    "        public static void MakeThumbnailsSeq(string sourceDir, string destDir, int width = 320, int height = 240)\n",
    "        {\n",
    "            String[] files = Directory.GetFiles(sourceDir, \"*.jpg\");\n",
    "\n",
    "            Directory.CreateDirectory(destDir);\n",
    "\n",
    "            foreach (string filename in files)\n",
    "            {\n",
    "                MakeThumbnail(filename, destDir, width, height);\n",
    "            }\n",
    "        }\n",
    "\n",
    "        public static void MakeThumbnailsParallel(string sourceDir, string destDir, int width = 320, int height = 240)\n",
    "        {\n",
    "            String[] files = Directory.GetFiles(sourceDir, \"*.jpg\");\n",
    "\n",
    "            Directory.CreateDirectory(destDir);\n",
    "\n",
    "            Parallel.ForEach(files, (filename) =>\n",
    "            {\n",
    "                MakeThumbnail(filename, destDir, width, height);\n",
    "            });\n",
    "        }\n",
    "\n",
    "        static void sequentialTest()\n",
    "        {\n",
    "            // sourceDir is a directory of images\n",
    "            // destDir is to the destination directory which will be automatically\n",
    "            // created.\n",
    "\n",
    "            MakeThumbnailsSeq(sourceDir: @\"..\\..\\..\\..\\images\",\n",
    "                destDir: @\"..\\..\\..\\..\\images\\Serial\"); ;\n",
    "        }\n",
    "\n",
    "        static void parallelTest()\n",
    "        {\n",
    "            MakeThumbnailsParallel(sourceDir: @\"..\\..\\..\\..\\images\",\n",
    "                destDir: @\"..\\..\\..\\..\\images\\Parallel\");\n",
    "        }\n",
    "\n",
    "        static public void Main(string[] args)\n",
    "        {\n",
    "\n",
    "            if(SetupPerformanceCounters() == CreationResult.CreatedCounters)\n",
    "            {\n",
    "                Console.WriteLine(\"Performance counters created\");\n",
    "                Console.WriteLine(\"Restart the program\");\n",
    "                //Console.ReadKey();\n",
    "                return;\n",
    "            }\n",
    "\n",
    "            Console.WriteLine(\"Processing started\");\n",
    "\n",
    "            sequentialTest();\n",
    "\n",
    "            parallelTest();\n",
    "\n",
    "            Console.WriteLine(\"Processing complete. Press any key to exit.\");\n",
    "            //Console.ReadKey();\n",
    "        }\n",
    "    }\n",
    "}\n"
   ]
  },
  {
   "cell_type": "code",
   "execution_count": 2,
   "metadata": {},
   "outputs": [],
   "source": [
    "LISTING_3_43_Create_performance_counters.Program.Main(new string[0]);"
   ]
  }
 ],
 "metadata": {
  "kernelspec": {
   "display_name": "C#",
   "language": "csharp",
   "name": "kernel-spec"
  },
  "language_info": {
   "file_extension": ".cs",
   "mimetype": "text/x-csharp",
   "name": "C#",
   "pygments_lexer": "c#",
   "version": "4.0.30319"
  }
 },
 "nbformat": 4,
 "nbformat_minor": 2
}

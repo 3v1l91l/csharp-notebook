{
 "cells": [
  {
   "cell_type": "markdown",
   "metadata": {},
   "source": [
    "# Info"
   ]
  },
  {
   "cell_type": "markdown",
   "metadata": {},
   "source": [
    "This example is from\n",
    "* [github.com/ExamRef70-483/Sample-Code](https://github.com/ExamRef70-483/Sample-Code)\n",
    "* [LISTING 3-33 Debug code tracing](https://github.com/ExamRef70-483/Sample-Code/blob/master/LISTING%203-33%E2%80%82Debug%20code%20tracing/LISTING%203-33%E2%80%82Debug%20code%20tracing/Program.cs)\n",
    "\n",
    "\n",
    "## Remember\n",
    "* Main() is not called automatically. Has to be called manual. Remember '**public**'\n",
    "* Console.ReadKey() should not be used.\n"
   ]
  },
  {
   "cell_type": "code",
   "execution_count": null,
   "metadata": {},
   "outputs": [],
   "source": [
    "using System.Diagnostics;\n",
    "\n",
    "namespace LISTING_3_33_Debug_code_tracing\n",
    "{\n",
    "    class Program\n",
    "    {\n",
    "        static public void Main(string[] args)\n",
    "        {\n",
    "            Debug.WriteLine(\"Starting the program\");\n",
    "            Debug.Indent();\n",
    "            Debug.WriteLine(\"Inside a function\");\n",
    "            Debug.Unindent();\n",
    "            Debug.WriteLine(\"Outside a function\");\n",
    "\n",
    "            string customerName = \"Rob\";\n",
    "            Debug.WriteLineIf(string.IsNullOrEmpty(customerName), \"The name is empty\");\n",
    "        }\n",
    "    }\n",
    "}\n"
   ]
  },
  {
   "cell_type": "code",
   "execution_count": null,
   "metadata": {},
   "outputs": [],
   "source": [
    "LISTING_3_33_Debug_code_tracing.Program.Main(new string[0]);"
   ]
  }
 ],
 "metadata": {
  "kernelspec": {
   "display_name": "C#",
   "language": "csharp",
   "name": "kernel-spec"
  },
  "language_info": {
   "file_extension": ".cs",
   "mimetype": "text/x-csharp",
   "name": "C#",
   "pygments_lexer": "c#",
   "version": "4.0.30319"
  }
 },
 "nbformat": 4,
 "nbformat_minor": 2
}

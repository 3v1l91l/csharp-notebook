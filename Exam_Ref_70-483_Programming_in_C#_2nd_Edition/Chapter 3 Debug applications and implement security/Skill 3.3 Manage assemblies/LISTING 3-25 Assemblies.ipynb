{
 "cells": [
  {
   "cell_type": "markdown",
   "metadata": {},
   "source": [
    "# Info"
   ]
  },
  {
   "cell_type": "markdown",
   "metadata": {},
   "source": [
    "This example is from\n",
    "* [github.com/ExamRef70-483/Sample-Code](https://github.com/ExamRef70-483/Sample-Code)\n",
    "* [LISTING 3-25 Assemblies](https://github.com/ExamRef70-483/Sample-Code/blob/master/LISTING%203-25%20Assemblies/LISTING%203-25%20Assemblies/Program.cs)\n",
    "\n",
    "\n",
    "## Remember\n",
    "* Main() is not called automatically. Has to be called manual. Remember '**public**'\n",
    "* Console.ReadKey() should not be used.\n"
   ]
  },
  {
   "cell_type": "code",
   "execution_count": 1,
   "metadata": {},
   "outputs": [
    {
     "data": {
      "text/html": [
       "(9,7): error CS0246: The type or namespace name `MusicStorage&#39; could not be found. Are you missing an assembly reference?"
      ],
      "text/plain": [
       "(9,7): error CS0246: The type or namespace name `MusicStorage' could not be found. Are you missing an assembly reference?"
      ]
     },
     "metadata": {},
     "output_type": "display_data"
    },
    {
     "data": {
      "text/html": [
       "(7,13): error CS0246: The type or namespace name `MusicTrack&#39; could not be found. Are you missing an assembly reference?"
      ],
      "text/plain": [
       "(7,13): error CS0246: The type or namespace name `MusicTrack' could not be found. Are you missing an assembly reference?"
      ]
     },
     "metadata": {},
     "output_type": "display_data"
    },
    {
     "data": {
      "text/html": [
       "(8,31): error CS0841: A local variable `m&#39; cannot be used before it is declared"
      ],
      "text/plain": [
       "(8,31): error CS0841: A local variable `m' cannot be used before it is declared"
      ]
     },
     "metadata": {},
     "output_type": "display_data"
    }
   ],
   "source": [
    "using System;\n",
    "using MusicStorage;\n",
    "\n",
    "namespace LISTING_3_25_Assemblies\n",
    "{\n",
    "    class Program\n",
    "    {\n",
    "        static public void Main(string[] args)\n",
    "        {\n",
    "            MusicTrack m = new MusicTrack(artist: \"Rob Miles\", title: \"My Way\", length: 150);\n",
    "            Console.WriteLine(m);\n",
    "            //Console.ReadKey();\n",
    "        }\n",
    "    }\n",
    "}\n"
   ]
  },
  {
   "cell_type": "code",
   "execution_count": 2,
   "metadata": {},
   "outputs": [],
   "source": [
    "LISTING_3_25_Assemblies.Program.Main(new string[0]);"
   ]
  }
 ],
 "metadata": {
  "kernelspec": {
   "display_name": "C#",
   "language": "csharp",
   "name": "kernel-spec"
  },
  "language_info": {
   "file_extension": ".cs",
   "mimetype": "text/x-csharp",
   "name": "C#",
   "pygments_lexer": "c#",
   "version": "4.0.30319"
  }
 },
 "nbformat": 4,
 "nbformat_minor": 2
}

{
 "cells": [
  {
   "cell_type": "markdown",
   "metadata": {},
   "source": [
    "# Info"
   ]
  },
  {
   "cell_type": "markdown",
   "metadata": {},
   "source": [
    "This example is from\n",
    "* [github.com/ExamRef70-483/Sample-Code](https://github.com/ExamRef70-483/Sample-Code)\n",
    "* [LISTING 3-3 Validating JSON](https://github.com/ExamRef70-483/Sample-Code/blob/master/LISTING%203-3%E2%80%82Validating%20JSON/LISTING%203-3%E2%80%82Validating%20JSON/Program.cs)\n",
    "\n",
    "\n",
    "## Remember\n",
    "* Main() is not called automatically. Has to be called manual. Remember '**public**'\n",
    "* Console.ReadKey() should not be used.\n"
   ]
  },
  {
   "cell_type": "code",
   "execution_count": null,
   "metadata": {},
   "outputs": [],
   "source": [
    "using Newtonsoft.Json;\n",
    "using System;\n",
    "\n",
    "namespace LISTING_3_3_Validating_JSON\n",
    "{\n",
    "    class MusicTrack\n",
    "    {\n",
    "        public string Artist { get; set; }\n",
    "        public string Title { get; set; }\n",
    "        public int Length { get; set; }\n",
    "\n",
    "        // ToString that overrides the behavior in the base class\n",
    "        public override string ToString()\n",
    "        {\n",
    "            return Artist + \" \" + Title + \" \" + Length.ToString() + \" seconds long\";\n",
    "        }\n",
    "\n",
    "        public MusicTrack(string artist, string title, int length)\n",
    "        {\n",
    "            Artist = artist;\n",
    "            Title = title;\n",
    "            Length = length;\n",
    "        }\n",
    "    }\n",
    "\n",
    "    class Program\n",
    "    {\n",
    "        static public void Main(string[] args)\n",
    "        {\n",
    "            string invalidJson = \"{\\\"Artist\\\":\\\"Rob Miles\\\",\\\"Title\\\":\\\"My Way\\\",\\\"Length\\\":150\\\"}\";\n",
    "\n",
    "            try\n",
    "            {\n",
    "                MusicTrack trackRead = JsonConvert.DeserializeObject<MusicTrack>(invalidJson);\n",
    "                Console.Write(\"Read back: \");\n",
    "                Console.WriteLine(trackRead);\n",
    "            }\n",
    "            catch (JsonReaderException e)\n",
    "            {\n",
    "                Console.WriteLine(e.Message);\n",
    "            }\n",
    "            //Console.ReadKey();\n",
    "        }\n",
    "    }\n",
    "}\n"
   ]
  },
  {
   "cell_type": "code",
   "execution_count": null,
   "metadata": {},
   "outputs": [],
   "source": [
    "LISTING_3_3_Validating_JSON.Program.Main(new string[0]);"
   ]
  }
 ],
 "metadata": {
  "kernelspec": {
   "display_name": "C#",
   "language": "csharp",
   "name": "kernel-spec"
  },
  "language_info": {
   "file_extension": ".cs",
   "mimetype": "text/x-csharp",
   "name": "C#",
   "pygments_lexer": "c#",
   "version": "4.0.30319"
  }
 },
 "nbformat": 4,
 "nbformat_minor": 2
}

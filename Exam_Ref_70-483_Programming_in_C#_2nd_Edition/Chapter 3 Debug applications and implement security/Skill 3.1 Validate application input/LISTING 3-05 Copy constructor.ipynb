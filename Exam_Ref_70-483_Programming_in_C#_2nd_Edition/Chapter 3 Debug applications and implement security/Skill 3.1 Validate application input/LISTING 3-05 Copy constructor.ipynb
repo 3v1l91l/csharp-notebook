{
 "cells": [
  {
   "cell_type": "markdown",
   "metadata": {},
   "source": [
    "# Info"
   ]
  },
  {
   "cell_type": "markdown",
   "metadata": {},
   "source": [
    "This example is from\n",
    "* [github.com/ExamRef70-483/Sample-Code](https://github.com/ExamRef70-483/Sample-Code)\n",
    "* [LISTING 3-5 Copy constructor](https://github.com/ExamRef70-483/Sample-Code/blob/master/LISTING%203-5%20Copy%20constructor/LISTING%203-5%20Copy%20constructor/Program.cs)\n",
    "\n",
    "\n",
    "## Remember\n",
    "* Main() is not called automatically. Has to be called manual. Remember '**public**'\n",
    "* Console.ReadKey() should not be used.\n"
   ]
  },
  {
   "cell_type": "code",
   "execution_count": null,
   "metadata": {},
   "outputs": [],
   "source": [
    "using System;\n",
    "\n",
    "namespace LISTING_3_5_Copy_constructor\n",
    "{\n",
    "    class MusicTrack\n",
    "    {\n",
    "        public string Artist { get; set; }\n",
    "        public string Title { get; set; }\n",
    "        public int Length { get; set; }\n",
    "\n",
    "        public MusicTrack(MusicTrack source)\n",
    "        {\n",
    "            Artist = source.Artist;\n",
    "            Title = source.Title;\n",
    "            Length = source.Length;\n",
    "\n",
    "        }\n",
    "\n",
    "        public MusicTrack(string artist, string title, int length)\n",
    "        {\n",
    "            Artist = artist;\n",
    "            Title = title;\n",
    "            Length = length;\n",
    "        }\n",
    "    }\n",
    "\n",
    "    class Program\n",
    "    {\n",
    "        // Naughty PrintTrack method that changes the Artist property of the\n",
    "        // track being printed.\n",
    "        static void PrintTrack(MusicTrack track)\n",
    "        {\n",
    "            track.Artist = \"Fred Bloggs\";\n",
    "        }\n",
    "\n",
    "        static public void Main(string[] args)\n",
    "        {\n",
    "            // Create a new music track instance\n",
    "\n",
    "            MusicTrack track = new MusicTrack(artist: \"Rob Miles\", title: \"My Way\", length: 120);\n",
    "\n",
    "            // Use the copy constructor to send a copy of the track to be printed\n",
    "            // Changes made by the PrintTrack method will have no effect on the original\n",
    "            PrintTrack(new MusicTrack(track));\n",
    "\n",
    "            Console.WriteLine(track.Artist);\n",
    "            //Console.ReadKey();\n",
    "        }\n",
    "    }\n",
    "}\n"
   ]
  },
  {
   "cell_type": "code",
   "execution_count": null,
   "metadata": {},
   "outputs": [],
   "source": [
    "LISTING_3_5_Copy_constructor.Program.Main(new string[0]);"
   ]
  }
 ],
 "metadata": {
  "kernelspec": {
   "display_name": "C#",
   "language": "csharp",
   "name": "kernel-spec"
  },
  "language_info": {
   "file_extension": ".cs",
   "mimetype": "text/x-csharp",
   "name": "C#",
   "pygments_lexer": "c#",
   "version": "4.0.30319"
  }
 },
 "nbformat": 4,
 "nbformat_minor": 2
}

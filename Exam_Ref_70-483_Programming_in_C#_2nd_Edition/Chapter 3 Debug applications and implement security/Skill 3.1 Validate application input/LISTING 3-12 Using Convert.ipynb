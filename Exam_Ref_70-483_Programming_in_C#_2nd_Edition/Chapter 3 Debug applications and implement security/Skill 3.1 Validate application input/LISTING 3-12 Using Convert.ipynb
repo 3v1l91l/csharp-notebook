{
 "cells": [
  {
   "cell_type": "markdown",
   "metadata": {},
   "source": [
    "# Info"
   ]
  },
  {
   "cell_type": "markdown",
   "metadata": {},
   "source": [
    "This example is from\n",
    "* [github.com/ExamRef70-483/Sample-Code](https://github.com/ExamRef70-483/Sample-Code)\n",
    "* [LISTING 3-12 Using Convert](https://github.com/ExamRef70-483/Sample-Code/blob/master/LISTING%203-12%E2%80%82Using%20Convert/LISTING%203-12%E2%80%82Using%20Convert/Program.cs)\n",
    "\n",
    "\n",
    "## Remember\n",
    "* Main() is not called automatically. Has to be called manual. Remember '**public**'\n",
    "* Console.ReadKey() should not be used.\n"
   ]
  },
  {
   "cell_type": "code",
   "execution_count": 1,
   "metadata": {},
   "outputs": [
    {
     "data": {
      "text/html": [
       "(14,26): error CS0584: Internal compiler error: The method or operation is not implemented."
      ],
      "text/plain": [
       "(14,26): error CS0584: Internal compiler error: The method or operation is not implemented."
      ]
     },
     "metadata": {},
     "output_type": "display_data"
    }
   ],
   "source": [
    "using System;\n",
    "using System.Collections.Generic;\n",
    "using System.Linq;\n",
    "using System.Text;\n",
    "using System.Threading.Tasks;\n",
    "\n",
    "namespace LISTING_3_12_Using_Convert\n",
    "{\n",
    "    class Program\n",
    "    {\n",
    "        static public void Main(string[] args)\n",
    "        {\n",
    "            string stringValue = \"99\";\n",
    "\n",
    "            int intValue = Convert.ToInt32(stringValue);\n",
    "            Console.WriteLine(\"intValue: {0}\", intValue);\n",
    "\n",
    "\n",
    "           // intValue = int.Parse(null);\n",
    "            bool b = int.TryParse(null, out intValue);\n",
    "            intValue = Convert.ToInt32(\"boom\");\n",
    "\n",
    "            stringValue = \"True\";\n",
    "            bool boolValue = Convert.ToBoolean(null);\n",
    "            Console.WriteLine(\"boolValue: {0}\", boolValue);\n",
    "\n",
    "            //Console.ReadKey();\n",
    "\n",
    "        }\n",
    "    }\n",
    "}\n"
   ]
  },
  {
   "cell_type": "code",
   "execution_count": 2,
   "metadata": {},
   "outputs": [],
   "source": [
    "LISTING_3_12_Using_Convert.Program.Main(new string[0]);"
   ]
  }
 ],
 "metadata": {
  "kernelspec": {
   "display_name": "C#",
   "language": "csharp",
   "name": "kernel-spec"
  },
  "language_info": {
   "file_extension": ".cs",
   "mimetype": "text/x-csharp",
   "name": "C#",
   "pygments_lexer": "c#",
   "version": "4.0.30319"
  }
 },
 "nbformat": 4,
 "nbformat_minor": 2
}

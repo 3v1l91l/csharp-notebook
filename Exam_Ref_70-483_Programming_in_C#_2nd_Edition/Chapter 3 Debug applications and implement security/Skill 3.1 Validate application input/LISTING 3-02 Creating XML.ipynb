{
 "cells": [
  {
   "cell_type": "markdown",
   "metadata": {},
   "source": [
    "# Info"
   ]
  },
  {
   "cell_type": "markdown",
   "metadata": {},
   "source": [
    "This example is from\n",
    "* [github.com/ExamRef70-483/Sample-Code](https://github.com/ExamRef70-483/Sample-Code)\n",
    "* [LISTING 3-2 Creating XML](https://github.com/ExamRef70-483/Sample-Code/blob/master/LISTING%203-2%E2%80%82Creating%20XML/LISTING%203-2%E2%80%82Creating%20XML/Program.cs)\n",
    "\n",
    "\n",
    "## Remember\n",
    "* Main() is not called automatically. Has to be called manual. Remember '**public**'\n",
    "* Console.ReadKey() should not be used.\n"
   ]
  },
  {
   "cell_type": "code",
   "execution_count": null,
   "metadata": {},
   "outputs": [],
   "source": [
    "using System;\n",
    "using System.IO;\n",
    "using System.Xml.Serialization;\n",
    "\n",
    "namespace LISTING_3_2_Creating_XML\n",
    "{\n",
    "    public class MusicTrack\n",
    "    {\n",
    "        public string Artist { get; set; }\n",
    "        public string Title { get; set; }\n",
    "        public int Length { get; set; }\n",
    "\n",
    "        // ToString that overrides the behavior in the base class\n",
    "        public override string ToString()\n",
    "        {\n",
    "            return Artist + \" \" + Title + \" \" + Length.ToString() + \" seconds long\";\n",
    "        }\n",
    "\n",
    "        public MusicTrack(string artist, string title, int length)\n",
    "        {\n",
    "            Artist = artist;\n",
    "            Title = title;\n",
    "            Length = length;\n",
    "        }\n",
    "        public MusicTrack()\n",
    "        {\n",
    "        }\n",
    "    }\n",
    "\n",
    "    class Program\n",
    "    {\n",
    "        static public void Main(string[] args)\n",
    "        {\n",
    "            MusicTrack track = new MusicTrack(artist: \"Rob Miles\", title: \"My Way\", length: 150);\n",
    "            XmlSerializer musicTrackSerializer = new XmlSerializer(typeof(MusicTrack));\n",
    "\n",
    "            TextWriter serWriter = new StringWriter();\n",
    "            musicTrackSerializer.Serialize(textWriter:serWriter, o:track);\n",
    "            serWriter.Close();\n",
    "\n",
    "            string trackXML = serWriter.ToString();\n",
    "\n",
    "            Console.WriteLine(\"Track XML\");\n",
    "            Console.WriteLine(trackXML);\n",
    "\n",
    "            TextReader serReader = new StringReader(trackXML);\n",
    "\n",
    "            MusicTrack trackRead = musicTrackSerializer.Deserialize(serReader) as MusicTrack;\n",
    "\n",
    "            Console.Write(\"Read back: \");\n",
    "            Console.WriteLine(trackRead);\n",
    "\n",
    "            //Console.ReadKey();\n",
    "        }\n",
    "    }\n",
    "}\n"
   ]
  },
  {
   "cell_type": "code",
   "execution_count": null,
   "metadata": {},
   "outputs": [],
   "source": [
    "LISTING_3_2_Creating_XML.Program.Main(new string[0]);"
   ]
  }
 ],
 "metadata": {
  "kernelspec": {
   "display_name": "C#",
   "language": "csharp",
   "name": "kernel-spec"
  },
  "language_info": {
   "file_extension": ".cs",
   "mimetype": "text/x-csharp",
   "name": "C#",
   "pygments_lexer": "c#",
   "version": "4.0.30319"
  }
 },
 "nbformat": 4,
 "nbformat_minor": 2
}

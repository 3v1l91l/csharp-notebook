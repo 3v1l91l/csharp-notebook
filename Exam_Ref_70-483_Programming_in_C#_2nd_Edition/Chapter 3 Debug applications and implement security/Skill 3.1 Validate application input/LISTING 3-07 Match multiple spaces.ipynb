{
 "cells": [
  {
   "cell_type": "markdown",
   "metadata": {},
   "source": [
    "# Info"
   ]
  },
  {
   "cell_type": "markdown",
   "metadata": {},
   "source": [
    "This example is from\n",
    "* [github.com/ExamRef70-483/Sample-Code](https://github.com/ExamRef70-483/Sample-Code)\n",
    "* [LISTING 3-7 Match multiple spaces](https://github.com/ExamRef70-483/Sample-Code/blob/master/LISTING%203-7%E2%80%82Match%20multiple%20spaces/LISTING%203-7%E2%80%82Match%20multiple%20spaces/Program.cs)\n",
    "\n",
    "\n",
    "## Remember\n",
    "* Main() is not called automatically. Has to be called manual. Remember '**public**'\n",
    "* Console.ReadKey() should not be used.\n"
   ]
  },
  {
   "cell_type": "code",
   "execution_count": 1,
   "metadata": {},
   "outputs": [],
   "source": [
    "using System;\n",
    "using System.Collections.Generic;\n",
    "using System.Linq;\n",
    "using System.Text;\n",
    "using System.Text.RegularExpressions;\n",
    "using System.Threading.Tasks;\n",
    "\n",
    "namespace LISTING_3_7_Match_multiple_spaces\n",
    "{\n",
    "    class Program\n",
    "    {\n",
    "        static public void Main(string[] args)\n",
    "        {\n",
    "            string input = \"Rob    Mary David   Jenny  Chris   Imogen       Rodney\";\n",
    "\n",
    "            string regularExpressionToMatch = \" +\";\n",
    "            string patternToReplace = \",\";\n",
    "\n",
    "            string replaced = Regex.Replace(input, regularExpressionToMatch, patternToReplace);\n",
    "\n",
    "            Console.WriteLine(replaced);\n",
    "            //Console.ReadKey();\n",
    "        }\n",
    "    }\n",
    "}\n"
   ]
  },
  {
   "cell_type": "code",
   "execution_count": 2,
   "metadata": {},
   "outputs": [
    {
     "data": {
      "text/html": [
       "Rob,Mary,David,Jenny,Chris,Imogen,Rodney"
      ],
      "text/plain": [
       "Rob,Mary,David,Jenny,Chris,Imogen,Rodney"
      ]
     },
     "metadata": {},
     "output_type": "display_data"
    }
   ],
   "source": [
    "LISTING_3_7_Match_multiple_spaces.Program.Main(new string[0]);"
   ]
  }
 ],
 "metadata": {
  "kernelspec": {
   "display_name": "C#",
   "language": "csharp",
   "name": "kernel-spec"
  },
  "language_info": {
   "file_extension": ".cs",
   "mimetype": "text/x-csharp",
   "name": "C#",
   "pygments_lexer": "c#",
   "version": "4.0.30319"
  }
 },
 "nbformat": 4,
 "nbformat_minor": 2
}

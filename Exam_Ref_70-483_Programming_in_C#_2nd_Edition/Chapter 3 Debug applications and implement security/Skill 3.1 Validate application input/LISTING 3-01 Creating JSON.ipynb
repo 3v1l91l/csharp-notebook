{
 "cells": [
  {
   "cell_type": "markdown",
   "metadata": {},
   "source": [
    "# Info"
   ]
  },
  {
   "cell_type": "markdown",
   "metadata": {},
   "source": [
    "This example is from\n",
    "* [github.com/ExamRef70-483/Sample-Code](https://github.com/ExamRef70-483/Sample-Code)\n",
    "* [LISTING 3-1 Creating JSON](https://github.com/ExamRef70-483/Sample-Code/blob/master/LISTING%203-1%E2%80%82Creating%20JSON/LISTING%203-1%E2%80%82Creating%20JSON/Program.cs)\n",
    "\n",
    "\n",
    "## Remember\n",
    "* Main() is not called automatically. Has to be called manual. Remember '**public**'\n",
    "* Console.ReadKey() should not be used.\n"
   ]
  },
  {
   "cell_type": "code",
   "execution_count": 1,
   "metadata": {},
   "outputs": [
    {
     "data": {
      "text/html": [
       "(9,7): error CS0246: The type or namespace name `Newtonsoft&#39; could not be found. Are you missing an assembly reference?"
      ],
      "text/plain": [
       "(9,7): error CS0246: The type or namespace name `Newtonsoft' could not be found. Are you missing an assembly reference?"
      ]
     },
     "metadata": {},
     "output_type": "display_data"
    },
    {
     "data": {
      "text/html": [
       "(47,27): error CS0103: The name `JsonConvert&#39; does not exist in the current context"
      ],
      "text/plain": [
       "(47,27): error CS0103: The name `JsonConvert' does not exist in the current context"
      ]
     },
     "metadata": {},
     "output_type": "display_data"
    },
    {
     "data": {
      "text/html": [
       "(51,36): error CS0103: The name `JsonConvert&#39; does not exist in the current context"
      ],
      "text/plain": [
       "(51,36): error CS0103: The name `JsonConvert' does not exist in the current context"
      ]
     },
     "metadata": {},
     "output_type": "display_data"
    },
    {
     "data": {
      "text/html": [
       "(65,32): error CS0103: The name `JsonConvert&#39; does not exist in the current context"
      ],
      "text/plain": [
       "(65,32): error CS0103: The name `JsonConvert' does not exist in the current context"
      ]
     },
     "metadata": {},
     "output_type": "display_data"
    },
    {
     "data": {
      "text/html": [
       "(69,42): error CS0103: The name `JsonConvert&#39; does not exist in the current context"
      ],
      "text/plain": [
       "(69,42): error CS0103: The name `JsonConvert' does not exist in the current context"
      ]
     },
     "metadata": {},
     "output_type": "display_data"
    }
   ],
   "source": [
    "using Newtonsoft.Json;\n",
    "using System;\n",
    "using System.Collections.Generic;\n",
    "\n",
    "namespace LISTING_3_1_Creating_JSON\n",
    "{\n",
    "    class MusicTrack\n",
    "    {\n",
    "        public string Artist { get; set; }\n",
    "        public string Title { get; set; }\n",
    "        public int Length { get; set; }\n",
    "\n",
    "        // ToString that overrides the behavior in the base class\n",
    "        public override string ToString()\n",
    "        {\n",
    "            return Artist + \" \" + Title + \" \" + Length.ToString() + \" seconds long\";\n",
    "        }\n",
    "\n",
    "        public MusicTrack(string artist, string title, int length)\n",
    "        {\n",
    "            Artist = artist;\n",
    "            Title = title;\n",
    "            Length = length;\n",
    "        }\n",
    "    }\n",
    "\n",
    "\n",
    "    class ShortTrack\n",
    "    {\n",
    "        public string Artist { get; set; }\n",
    "        public string Title { get; set; }\n",
    "\n",
    "        // ToString that overrides the behavior in the base class\n",
    "        public override string ToString()\n",
    "        {\n",
    "            return Artist + \" \" + Title;\n",
    "        }\n",
    "\n",
    "        public ShortTrack(string artist, string title)\n",
    "        {\n",
    "            Artist = artist;\n",
    "            Title = title;\n",
    "        }\n",
    "    }\n",
    "\n",
    "    class Program\n",
    "    {\n",
    "        static public void Main(string[] args)\n",
    "        {\n",
    "            MusicTrack track = new MusicTrack(artist: \"Rob Miles\", title: \"My Way\", length: 150);\n",
    "            string json = JsonConvert.SerializeObject(track);\n",
    "            Console.Write(\"JSON: \");\n",
    "            Console.WriteLine(json);\n",
    "\n",
    "            MusicTrack trackRead = JsonConvert.DeserializeObject<MusicTrack>(json);\n",
    "            Console.Write(\"Read back: \");\n",
    "            Console.WriteLine(trackRead);\n",
    "\n",
    "            List<MusicTrack> album = new List<MusicTrack>();\n",
    "\n",
    "            string[] trackNames = new[] { \"My Way\", \"Your Way\", \"Their Way\", \"The Wrong Way\" };\n",
    "\n",
    "            foreach (string trackName in trackNames)\n",
    "            {\n",
    "                MusicTrack newTrack = new MusicTrack(artist: \"Rob Miles\", title: trackName, length: 150);\n",
    "                album.Add(newTrack);\n",
    "            }\n",
    "\n",
    "            string jsonArray = JsonConvert.SerializeObject(album);\n",
    "            Console.Write(\"JSON: \");\n",
    "            Console.WriteLine(jsonArray);\n",
    "\n",
    "            List<ShortTrack> albumRead = JsonConvert.DeserializeObject<List<ShortTrack>>(jsonArray);\n",
    "\n",
    "            Console.WriteLine(\"Read back: \");\n",
    "            foreach (ShortTrack readTrack in albumRead)\n",
    "            {\n",
    "                Console.WriteLine(readTrack);\n",
    "            }\n",
    "            //Console.ReadKey();\n",
    "        }\n",
    "    }\n",
    "}\n"
   ]
  },
  {
   "cell_type": "code",
   "execution_count": 2,
   "metadata": {},
   "outputs": [],
   "source": [
    "LISTING_3_1_Creating_JSON.Program.Main(new string[0]);"
   ]
  }
 ],
 "metadata": {
  "kernelspec": {
   "display_name": "C#",
   "language": "csharp",
   "name": "kernel-spec"
  },
  "language_info": {
   "file_extension": ".cs",
   "mimetype": "text/x-csharp",
   "name": "C#",
   "pygments_lexer": "c#",
   "version": "4.0.30319"
  }
 },
 "nbformat": 4,
 "nbformat_minor": 2
}

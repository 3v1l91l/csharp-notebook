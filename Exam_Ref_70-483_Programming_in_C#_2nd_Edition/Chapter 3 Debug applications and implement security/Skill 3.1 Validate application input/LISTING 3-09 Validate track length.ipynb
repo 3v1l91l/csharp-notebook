{
 "cells": [
  {
   "cell_type": "markdown",
   "metadata": {},
   "source": [
    "# Info"
   ]
  },
  {
   "cell_type": "markdown",
   "metadata": {},
   "source": [
    "This example is from\n",
    "* [github.com/ExamRef70-483/Sample-Code](https://github.com/ExamRef70-483/Sample-Code)\n",
    "* [LISTING 3-9 Validate track length](https://github.com/ExamRef70-483/Sample-Code/blob/master/LISTING%203-9%E2%80%82Validate%20track%20length/LISTING%203-9%E2%80%82Validate%20track%20length/Program.cs)\n",
    "\n",
    "\n",
    "## Remember\n",
    "* Main() is not called automatically. Has to be called manual. Remember '**public**'\n",
    "* Console.ReadKey() should not be used.\n"
   ]
  },
  {
   "cell_type": "code",
   "execution_count": null,
   "metadata": {},
   "outputs": [],
   "source": [
    "using System;\n",
    "using System.Collections.Generic;\n",
    "using System.Linq;\n",
    "using System.Text;\n",
    "using System.Text.RegularExpressions;\n",
    "using System.Threading.Tasks;\n",
    "\n",
    "namespace LISTING_3_9_Validate_track_length\n",
    "{\n",
    "    class Program\n",
    "    {\n",
    "        static public void Main(string[] args)\n",
    "        {\n",
    "            string input = \"Rob Miles:My Way:120\";\n",
    "\n",
    "            string regexToMatch = @\".+:.+:[0-9]+$\";\n",
    "\n",
    "            if (Regex.IsMatch(input, regexToMatch))\n",
    "            {\n",
    "                Console.WriteLine(\"Valid music track description\");\n",
    "            }\n",
    "            else\n",
    "            {\n",
    "                Console.WriteLine(\"Invalid music track\");\n",
    "            }\n",
    "            //Console.ReadKey();\n",
    "        }\n",
    "    }\n",
    "}\n"
   ]
  },
  {
   "cell_type": "code",
   "execution_count": null,
   "metadata": {},
   "outputs": [],
   "source": [
    "LISTING_3_9_Validate_track_length.Program.Main(new string[0]);"
   ]
  }
 ],
 "metadata": {
  "kernelspec": {
   "display_name": "C#",
   "language": "csharp",
   "name": "kernel-spec"
  },
  "language_info": {
   "file_extension": ".cs",
   "mimetype": "text/x-csharp",
   "name": "C#",
   "pygments_lexer": "c#",
   "version": "4.0.30319"
  }
 },
 "nbformat": 4,
 "nbformat_minor": 2
}

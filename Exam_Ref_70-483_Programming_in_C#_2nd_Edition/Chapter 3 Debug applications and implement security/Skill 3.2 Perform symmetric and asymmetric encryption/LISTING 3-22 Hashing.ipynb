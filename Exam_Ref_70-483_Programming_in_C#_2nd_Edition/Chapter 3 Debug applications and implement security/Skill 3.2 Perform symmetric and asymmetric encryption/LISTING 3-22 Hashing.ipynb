{
 "cells": [
  {
   "cell_type": "markdown",
   "metadata": {},
   "source": [
    "# Info"
   ]
  },
  {
   "cell_type": "markdown",
   "metadata": {},
   "source": [
    "This example is from\n",
    "* [github.com/ExamRef70-483/Sample-Code](https://github.com/ExamRef70-483/Sample-Code)\n",
    "* [LISTING 3-22 Hashing](https://github.com/ExamRef70-483/Sample-Code/blob/master/LISTING%203-22%E2%80%82Hashing/LISTING%203-22%E2%80%82Hashing/Program.cs)\n",
    "\n",
    "\n",
    "## Remember\n",
    "* Main() is not called automatically. Has to be called manual. Remember '**public**'\n",
    "* Console.ReadKey() should not be used.\n"
   ]
  },
  {
   "cell_type": "code",
   "execution_count": 1,
   "metadata": {},
   "outputs": [],
   "source": [
    "using System;\n",
    "\n",
    "namespace LISTING_3_22_Hashing\n",
    "{\n",
    "    class Program\n",
    "    {\n",
    "        static void showHash(object source)\n",
    "        {\n",
    "            Console.WriteLine(\"Hash for {0} is: {1:X}\", source, source.GetHashCode());\n",
    "        }\n",
    "\n",
    "        static public void Main(string[] args)\n",
    "        {\n",
    "            showHash(\"Hello world\");\n",
    "            showHash(\"world Hello\");\n",
    "            showHash(\"Hemmm world\");\n",
    "\n",
    "            //Console.ReadKey();\n",
    "        }\n",
    "    }\n",
    "}\n"
   ]
  },
  {
   "cell_type": "code",
   "execution_count": 2,
   "metadata": {},
   "outputs": [
    {
     "data": {
      "text/html": [
       "Hash for Hello world is: 4A8851A4"
      ],
      "text/plain": [
       "Hash for Hello world is: 4A8851A4"
      ]
     },
     "metadata": {},
     "output_type": "display_data"
    },
    {
     "data": {
      "text/html": [
       "Hash for world Hello is: 88DA1B69"
      ],
      "text/plain": [
       "Hash for world Hello is: 88DA1B69"
      ]
     },
     "metadata": {},
     "output_type": "display_data"
    },
    {
     "data": {
      "text/html": [
       "Hash for Hemmm world is: D06BB304"
      ],
      "text/plain": [
       "Hash for Hemmm world is: D06BB304"
      ]
     },
     "metadata": {},
     "output_type": "display_data"
    }
   ],
   "source": [
    "LISTING_3_22_Hashing.Program.Main(new string[0]);"
   ]
  }
 ],
 "metadata": {
  "kernelspec": {
   "display_name": "C#",
   "language": "csharp",
   "name": "kernel-spec"
  },
  "language_info": {
   "file_extension": ".cs",
   "mimetype": "text/x-csharp",
   "name": "C#",
   "pygments_lexer": "c#",
   "version": "4.0.30319"
  }
 },
 "nbformat": 4,
 "nbformat_minor": 2
}

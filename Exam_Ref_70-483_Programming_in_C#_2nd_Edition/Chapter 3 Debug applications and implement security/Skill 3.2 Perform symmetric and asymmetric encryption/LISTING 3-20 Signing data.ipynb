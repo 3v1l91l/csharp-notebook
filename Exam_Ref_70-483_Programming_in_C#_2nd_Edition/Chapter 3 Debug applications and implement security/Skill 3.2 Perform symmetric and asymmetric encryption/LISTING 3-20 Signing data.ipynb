{
 "cells": [
  {
   "cell_type": "markdown",
   "metadata": {},
   "source": [
    "# Info"
   ]
  },
  {
   "cell_type": "markdown",
   "metadata": {},
   "source": [
    "This example is from\n",
    "* [github.com/ExamRef70-483/Sample-Code](https://github.com/ExamRef70-483/Sample-Code)\n",
    "* [LISTING 3-20 Signing data](https://github.com/ExamRef70-483/Sample-Code/blob/master/LISTING%203-20%E2%80%82Signing%20data/LISTING%203-20%E2%80%82Signing%20data/Program.cs)\n",
    "\n",
    "\n",
    "## Remember\n",
    "* Main() is not called automatically. Has to be called manual. Remember '**public**'\n",
    "* Console.ReadKey() should not be used.\n"
   ]
  },
  {
   "cell_type": "code",
   "execution_count": null,
   "metadata": {},
   "outputs": [],
   "source": [
    "using System;\n",
    "using System.Security.Cryptography.X509Certificates;\n",
    "using System.Security.Cryptography;\n",
    "using System.Text;\n",
    "\n",
    "namespace LISTING_3_20_Signing_data\n",
    "{\n",
    "    class Program\n",
    "    {\n",
    "        static void dumpBytes(string title, byte[] bytes)\n",
    "        {\n",
    "            Console.Write(title);\n",
    "            foreach (byte b in bytes)\n",
    "            {\n",
    "                Console.Write(\"{0:X} \", b);\n",
    "            }\n",
    "            Console.WriteLine();\n",
    "        }\n",
    "\n",
    "        static public void Main(string[] args)\n",
    "        {\n",
    "            // This will convert our input string into bytes and back\n",
    "            ASCIIEncoding converter = new ASCIIEncoding();\n",
    "\n",
    "            // Get a crypto provider out of the certificate store\n",
    "\n",
    "            X509Store store = new X509Store(\"demoCertStore\", StoreLocation.CurrentUser);\n",
    "\n",
    "            store.Open(OpenFlags.ReadOnly);\n",
    "\n",
    "            X509Certificate2 certificate = store.Certificates[0];\n",
    "\n",
    "            RSACryptoServiceProvider encryptProvider = certificate.PrivateKey as RSACryptoServiceProvider;\n",
    "\n",
    "            string  messageToSign = \"This is the message I want to sign\";\n",
    "            Console.WriteLine(\"Message: {0}\", messageToSign);\n",
    "\n",
    "            byte[] messageToSignBytes = converter.GetBytes(messageToSign);\n",
    "            dumpBytes(\"Message to sign in bytes: \", messageToSignBytes);\n",
    "\n",
    "            // need to calculate a hash for this message - this will go into the\n",
    "            // signature and be used to verify the message\n",
    "            // Create an implementation of the hashing agorithm we are going to use\n",
    "            HashAlgorithm hasher = new SHA1Managed();\n",
    "            // Use the hasher to hash the message\n",
    "                byte[] hash = hasher.ComputeHash(messageToSignBytes);\n",
    "                dumpBytes(\"Hash for message: \", hash);\n",
    "\n",
    "            // Now sign the hash to create a signature\n",
    "            byte[] signature = encryptProvider.SignHash(hash,CryptoConfig.MapNameToOID(\"SHA1\"));\n",
    "            dumpBytes(\"Signature: \", messageToSignBytes);\n",
    "\n",
    "            // We can send the signature along with the message to authenticate it\n",
    "            // Create a decryptor that uses the public key\n",
    "            RSACryptoServiceProvider decryptProvider = certificate.PublicKey.Key as RSACryptoServiceProvider;\n",
    "\n",
    "            // Now use the signature to perform a successful validation of the message\n",
    "            bool validSignature = decryptProvider.VerifyHash(hash, CryptoConfig.MapNameToOID(\"SHA1\"), signature);\n",
    "            Console.WriteLine(\"Correct signature validated OK: {0}\", validSignature);\n",
    "\n",
    "            // Change one byte of the signature\n",
    "            signature[0] = 99;\n",
    "            // Now try the using the incorrect signature to validate the message\n",
    "            bool invalidSignature = decryptProvider.VerifyHash(hash, CryptoConfig.MapNameToOID(\"SHA1\"), signature);\n",
    "            Console.WriteLine(\"Incorrect signature validated OK: {0}\", invalidSignature);\n",
    "\n",
    "            //Console.ReadKey();\n",
    "        }\n",
    "    }\n",
    "}\n"
   ]
  },
  {
   "cell_type": "code",
   "execution_count": null,
   "metadata": {},
   "outputs": [],
   "source": [
    "LISTING_3_20_Signing_data.Program.Main(new string[0]);"
   ]
  }
 ],
 "metadata": {
  "kernelspec": {
   "display_name": "C#",
   "language": "csharp",
   "name": "kernel-spec"
  },
  "language_info": {
   "file_extension": ".cs",
   "mimetype": "text/x-csharp",
   "name": "C#",
   "pygments_lexer": "c#",
   "version": "4.0.30319"
  }
 },
 "nbformat": 4,
 "nbformat_minor": 2
}

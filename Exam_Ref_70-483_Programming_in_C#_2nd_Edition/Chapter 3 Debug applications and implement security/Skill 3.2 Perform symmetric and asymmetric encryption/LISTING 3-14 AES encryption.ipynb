{
 "cells": [
  {
   "cell_type": "markdown",
   "metadata": {},
   "source": [
    "# Info"
   ]
  },
  {
   "cell_type": "markdown",
   "metadata": {},
   "source": [
    "This example is from\n",
    "* [github.com/ExamRef70-483/Sample-Code](https://github.com/ExamRef70-483/Sample-Code)\n",
    "* [LISTING 3-14 AES encryption](https://github.com/ExamRef70-483/Sample-Code/blob/master/LISTING%203-14%E2%80%82AES%20encryption/LISTING%203-14%E2%80%82AES%20encryption/Program.cs)\n",
    "\n",
    "\n",
    "## Remember\n",
    "* Main() is not called automatically. Has to be called manual. Remember '**public**'\n",
    "* Console.ReadKey() should not be used.\n"
   ]
  },
  {
   "cell_type": "code",
   "execution_count": null,
   "metadata": {},
   "outputs": [],
   "source": [
    "using System;\n",
    "using System.IO;\n",
    "using System.Security.Cryptography;\n",
    "\n",
    "namespace LISTING_3_14_AES_encryption\n",
    "{\n",
    "    class Program\n",
    "    {\n",
    "        static void DumpBytes(string title, byte [] bytes)\n",
    "        {\n",
    "            Console.Write(title);\n",
    "            foreach (byte b in bytes)\n",
    "            {\n",
    "                Console.Write(\"{0:X} \", b);\n",
    "            }\n",
    "            Console.WriteLine();\n",
    "        }\n",
    "\n",
    "        static public void Main(string[] args)\n",
    "        {\n",
    "            string plainText = \"This is my super secret data\";\n",
    "\n",
    "            // byte array to hold the encrypted message\n",
    "            byte[] cypherText;\n",
    "\n",
    "            // byte array to hold the key that was used for encryption\n",
    "            byte[] key;\n",
    "\n",
    "            // byte array to hold the initialization vector that was used for encryption\n",
    "            byte[] initializationVector;\n",
    "\n",
    "            // Create an Aes instance\n",
    "            // This creates a random key and initialization vector\n",
    "\n",
    "            using (Aes aes = Aes.Create())\n",
    "            {\n",
    "                // copy the key and the initialization vector\n",
    "                key = aes.Key;\n",
    "                initializationVector = aes.IV;\n",
    "\n",
    "                // create an encryptor to encrypt some data\n",
    "                ICryptoTransform encryptor = aes.CreateEncryptor();\n",
    "\n",
    "                // Create a new memory stream to receive the\n",
    "                // encrypted data.\n",
    "\n",
    "                using (MemoryStream encryptMemoryStream = new MemoryStream())\n",
    "                {\n",
    "                    // create a CryptoStream, tell it the stream to write to\n",
    "                    // and the encryptor to use. Also set the mode\n",
    "                    using (CryptoStream encryptCryptoStream = new CryptoStream(encryptMemoryStream,\n",
    "                        encryptor, CryptoStreamMode.Write))\n",
    "                    {\n",
    "                        // make a stream writer from the cryptostream\n",
    "                        using (StreamWriter swEncrypt = new StreamWriter(encryptCryptoStream))\n",
    "                        {\n",
    "                            //Write the secret message to the stream.\n",
    "                            swEncrypt.Write(plainText);\n",
    "                        }\n",
    "                        // get the encrypted message from the stream\n",
    "                        cypherText = encryptMemoryStream.ToArray();\n",
    "                    }\n",
    "                }\n",
    "            }\n",
    "\n",
    "            // Dump out our data\n",
    "            Console.WriteLine(\"String to encrypt: {0}\", plainText);\n",
    "            DumpBytes(\"Key: \", key);\n",
    "            DumpBytes(\"Initialization Vector: \", initializationVector);\n",
    "            DumpBytes(\"Encrypted: \", cypherText);\n",
    "\n",
    "            //Console.ReadKey();\n",
    "        }\n",
    "    }\n",
    "}\n"
   ]
  },
  {
   "cell_type": "code",
   "execution_count": null,
   "metadata": {},
   "outputs": [],
   "source": [
    "LISTING_3_14_AES_encryption.Program.Main(new string[0]);"
   ]
  }
 ],
 "metadata": {
  "kernelspec": {
   "display_name": "C#",
   "language": "csharp",
   "name": "kernel-spec"
  },
  "language_info": {
   "file_extension": ".cs",
   "mimetype": "text/x-csharp",
   "name": "C#",
   "pygments_lexer": "c#",
   "version": "4.0.30319"
  }
 },
 "nbformat": 4,
 "nbformat_minor": 2
}

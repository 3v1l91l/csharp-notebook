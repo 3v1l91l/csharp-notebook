{
 "cells": [
  {
   "cell_type": "markdown",
   "metadata": {},
   "source": [
    "# Info"
   ]
  },
  {
   "cell_type": "markdown",
   "metadata": {},
   "source": [
    "This example is from\n",
    "* [github.com/ExamRef70-483/Sample-Code](https://github.com/ExamRef70-483/Sample-Code)\n",
    "* [LISTING 3-14 AES encryption](https://github.com/ExamRef70-483/Sample-Code/blob/master/LISTING%203-14%E2%80%82AES%20encryption/LISTING%203-14%E2%80%82AES%20encryption/Program.cs)\n",
    "\n",
    "\n",
    "## Remember\n",
    "* Main() is not called automatically. Has to be called manual. Remember '**public**'\n",
    "* Console.ReadKey() should not be used.\n"
   ]
  },
  {
   "cell_type": "code",
   "execution_count": 1,
   "metadata": {},
   "outputs": [],
   "source": [
    "using System;\n",
    "using System.IO;\n",
    "using System.Security.Cryptography;\n",
    "\n",
    "namespace LISTING_3_14_AES_encryption\n",
    "{\n",
    "    class Program\n",
    "    {\n",
    "        static void DumpBytes(string title, byte [] bytes)\n",
    "        {\n",
    "            Console.Write(title);\n",
    "            foreach (byte b in bytes)\n",
    "            {\n",
    "                Console.Write(\"{0:X} \", b);\n",
    "            }\n",
    "            Console.WriteLine();\n",
    "        }\n",
    "\n",
    "        static public void Main(string[] args)\n",
    "        {\n",
    "            string plainText = \"This is my super secret data\";\n",
    "\n",
    "            // byte array to hold the encrypted message\n",
    "            byte[] cypherText;\n",
    "\n",
    "            // byte array to hold the key that was used for encryption\n",
    "            byte[] key;\n",
    "\n",
    "            // byte array to hold the initialization vector that was used for encryption\n",
    "            byte[] initializationVector;\n",
    "\n",
    "            // Create an Aes instance\n",
    "            // This creates a random key and initialization vector\n",
    "\n",
    "            using (Aes aes = Aes.Create())\n",
    "            {\n",
    "                // copy the key and the initialization vector\n",
    "                key = aes.Key;\n",
    "                initializationVector = aes.IV;\n",
    "\n",
    "                // create an encryptor to encrypt some data\n",
    "                ICryptoTransform encryptor = aes.CreateEncryptor();\n",
    "\n",
    "                // Create a new memory stream to receive the\n",
    "                // encrypted data.\n",
    "\n",
    "                using (MemoryStream encryptMemoryStream = new MemoryStream())\n",
    "                {\n",
    "                    // create a CryptoStream, tell it the stream to write to\n",
    "                    // and the encryptor to use. Also set the mode\n",
    "                    using (CryptoStream encryptCryptoStream = new CryptoStream(encryptMemoryStream,\n",
    "                        encryptor, CryptoStreamMode.Write))\n",
    "                    {\n",
    "                        // make a stream writer from the cryptostream\n",
    "                        using (StreamWriter swEncrypt = new StreamWriter(encryptCryptoStream))\n",
    "                        {\n",
    "                            //Write the secret message to the stream.\n",
    "                            swEncrypt.Write(plainText);\n",
    "                        }\n",
    "                        // get the encrypted message from the stream\n",
    "                        cypherText = encryptMemoryStream.ToArray();\n",
    "                    }\n",
    "                }\n",
    "            }\n",
    "\n",
    "            // Dump out our data\n",
    "            Console.WriteLine(\"String to encrypt: {0}\", plainText);\n",
    "            DumpBytes(\"Key: \", key);\n",
    "            DumpBytes(\"Initialization Vector: \", initializationVector);\n",
    "            DumpBytes(\"Encrypted: \", cypherText);\n",
    "\n",
    "            //Console.ReadKey();\n",
    "        }\n",
    "    }\n",
    "}\n"
   ]
  },
  {
   "cell_type": "code",
   "execution_count": 2,
   "metadata": {},
   "outputs": [
    {
     "data": {
      "text/html": [
       "String to encrypt: This is my super secret data"
      ],
      "text/plain": [
       "String to encrypt: This is my super secret data"
      ]
     },
     "metadata": {},
     "output_type": "display_data"
    },
    {
     "data": {
      "text/html": [
       "Key: "
      ],
      "text/plain": [
       "Key: "
      ]
     },
     "metadata": {},
     "output_type": "display_data"
    },
    {
     "data": {
      "text/html": [
       "7 "
      ],
      "text/plain": [
       "7 "
      ]
     },
     "metadata": {},
     "output_type": "display_data"
    },
    {
     "data": {
      "text/html": [
       "EF "
      ],
      "text/plain": [
       "EF "
      ]
     },
     "metadata": {},
     "output_type": "display_data"
    },
    {
     "data": {
      "text/html": [
       "C6 "
      ],
      "text/plain": [
       "C6 "
      ]
     },
     "metadata": {},
     "output_type": "display_data"
    },
    {
     "data": {
      "text/html": [
       "CA "
      ],
      "text/plain": [
       "CA "
      ]
     },
     "metadata": {},
     "output_type": "display_data"
    },
    {
     "data": {
      "text/html": [
       "7E "
      ],
      "text/plain": [
       "7E "
      ]
     },
     "metadata": {},
     "output_type": "display_data"
    },
    {
     "data": {
      "text/html": [
       "62 "
      ],
      "text/plain": [
       "62 "
      ]
     },
     "metadata": {},
     "output_type": "display_data"
    },
    {
     "data": {
      "text/html": [
       "C8 "
      ],
      "text/plain": [
       "C8 "
      ]
     },
     "metadata": {},
     "output_type": "display_data"
    },
    {
     "data": {
      "text/html": [
       "44 "
      ],
      "text/plain": [
       "44 "
      ]
     },
     "metadata": {},
     "output_type": "display_data"
    },
    {
     "data": {
      "text/html": [
       "E6 "
      ],
      "text/plain": [
       "E6 "
      ]
     },
     "metadata": {},
     "output_type": "display_data"
    },
    {
     "data": {
      "text/html": [
       "26 "
      ],
      "text/plain": [
       "26 "
      ]
     },
     "metadata": {},
     "output_type": "display_data"
    },
    {
     "data": {
      "text/html": [
       "DB "
      ],
      "text/plain": [
       "DB "
      ]
     },
     "metadata": {},
     "output_type": "display_data"
    },
    {
     "data": {
      "text/html": [
       "3E "
      ],
      "text/plain": [
       "3E "
      ]
     },
     "metadata": {},
     "output_type": "display_data"
    },
    {
     "data": {
      "text/html": [
       "58 "
      ],
      "text/plain": [
       "58 "
      ]
     },
     "metadata": {},
     "output_type": "display_data"
    },
    {
     "data": {
      "text/html": [
       "4C "
      ],
      "text/plain": [
       "4C "
      ]
     },
     "metadata": {},
     "output_type": "display_data"
    },
    {
     "data": {
      "text/html": [
       "BF "
      ],
      "text/plain": [
       "BF "
      ]
     },
     "metadata": {},
     "output_type": "display_data"
    },
    {
     "data": {
      "text/html": [
       "13 "
      ],
      "text/plain": [
       "13 "
      ]
     },
     "metadata": {},
     "output_type": "display_data"
    },
    {
     "data": {
      "text/html": [
       "33 "
      ],
      "text/plain": [
       "33 "
      ]
     },
     "metadata": {},
     "output_type": "display_data"
    },
    {
     "data": {
      "text/html": [
       "12 "
      ],
      "text/plain": [
       "12 "
      ]
     },
     "metadata": {},
     "output_type": "display_data"
    },
    {
     "data": {
      "text/html": [
       "E5 "
      ],
      "text/plain": [
       "E5 "
      ]
     },
     "metadata": {},
     "output_type": "display_data"
    },
    {
     "data": {
      "text/html": [
       "5F "
      ],
      "text/plain": [
       "5F "
      ]
     },
     "metadata": {},
     "output_type": "display_data"
    },
    {
     "data": {
      "text/html": [
       "DD "
      ],
      "text/plain": [
       "DD "
      ]
     },
     "metadata": {},
     "output_type": "display_data"
    },
    {
     "data": {
      "text/html": [
       "E3 "
      ],
      "text/plain": [
       "E3 "
      ]
     },
     "metadata": {},
     "output_type": "display_data"
    },
    {
     "data": {
      "text/html": [
       "60 "
      ],
      "text/plain": [
       "60 "
      ]
     },
     "metadata": {},
     "output_type": "display_data"
    },
    {
     "data": {
      "text/html": [
       "28 "
      ],
      "text/plain": [
       "28 "
      ]
     },
     "metadata": {},
     "output_type": "display_data"
    },
    {
     "data": {
      "text/html": [
       "17 "
      ],
      "text/plain": [
       "17 "
      ]
     },
     "metadata": {},
     "output_type": "display_data"
    },
    {
     "data": {
      "text/html": [
       "9A "
      ],
      "text/plain": [
       "9A "
      ]
     },
     "metadata": {},
     "output_type": "display_data"
    },
    {
     "data": {
      "text/html": [
       "BC "
      ],
      "text/plain": [
       "BC "
      ]
     },
     "metadata": {},
     "output_type": "display_data"
    },
    {
     "data": {
      "text/html": [
       "7 "
      ],
      "text/plain": [
       "7 "
      ]
     },
     "metadata": {},
     "output_type": "display_data"
    },
    {
     "data": {
      "text/html": [
       "A6 "
      ],
      "text/plain": [
       "A6 "
      ]
     },
     "metadata": {},
     "output_type": "display_data"
    },
    {
     "data": {
      "text/html": [
       "F4 "
      ],
      "text/plain": [
       "F4 "
      ]
     },
     "metadata": {},
     "output_type": "display_data"
    },
    {
     "data": {
      "text/html": [
       "AE "
      ],
      "text/plain": [
       "AE "
      ]
     },
     "metadata": {},
     "output_type": "display_data"
    },
    {
     "data": {
      "text/html": [
       "8B "
      ],
      "text/plain": [
       "8B "
      ]
     },
     "metadata": {},
     "output_type": "display_data"
    },
    {
     "data": {
      "text/html": [
       "Initialization Vector: "
      ],
      "text/plain": [
       "Initialization Vector: "
      ]
     },
     "metadata": {},
     "output_type": "display_data"
    },
    {
     "data": {
      "text/html": [
       "3D "
      ],
      "text/plain": [
       "3D "
      ]
     },
     "metadata": {},
     "output_type": "display_data"
    },
    {
     "data": {
      "text/html": [
       "D1 "
      ],
      "text/plain": [
       "D1 "
      ]
     },
     "metadata": {},
     "output_type": "display_data"
    },
    {
     "data": {
      "text/html": [
       "93 "
      ],
      "text/plain": [
       "93 "
      ]
     },
     "metadata": {},
     "output_type": "display_data"
    },
    {
     "data": {
      "text/html": [
       "84 "
      ],
      "text/plain": [
       "84 "
      ]
     },
     "metadata": {},
     "output_type": "display_data"
    },
    {
     "data": {
      "text/html": [
       "AA "
      ],
      "text/plain": [
       "AA "
      ]
     },
     "metadata": {},
     "output_type": "display_data"
    },
    {
     "data": {
      "text/html": [
       "72 "
      ],
      "text/plain": [
       "72 "
      ]
     },
     "metadata": {},
     "output_type": "display_data"
    },
    {
     "data": {
      "text/html": [
       "20 "
      ],
      "text/plain": [
       "20 "
      ]
     },
     "metadata": {},
     "output_type": "display_data"
    },
    {
     "data": {
      "text/html": [
       "75 "
      ],
      "text/plain": [
       "75 "
      ]
     },
     "metadata": {},
     "output_type": "display_data"
    },
    {
     "data": {
      "text/html": [
       "F "
      ],
      "text/plain": [
       "F "
      ]
     },
     "metadata": {},
     "output_type": "display_data"
    },
    {
     "data": {
      "text/html": [
       "B5 "
      ],
      "text/plain": [
       "B5 "
      ]
     },
     "metadata": {},
     "output_type": "display_data"
    },
    {
     "data": {
      "text/html": [
       "19 "
      ],
      "text/plain": [
       "19 "
      ]
     },
     "metadata": {},
     "output_type": "display_data"
    },
    {
     "data": {
      "text/html": [
       "76 "
      ],
      "text/plain": [
       "76 "
      ]
     },
     "metadata": {},
     "output_type": "display_data"
    },
    {
     "data": {
      "text/html": [
       "B8 "
      ],
      "text/plain": [
       "B8 "
      ]
     },
     "metadata": {},
     "output_type": "display_data"
    },
    {
     "data": {
      "text/html": [
       "C1 "
      ],
      "text/plain": [
       "C1 "
      ]
     },
     "metadata": {},
     "output_type": "display_data"
    },
    {
     "data": {
      "text/html": [
       "50 "
      ],
      "text/plain": [
       "50 "
      ]
     },
     "metadata": {},
     "output_type": "display_data"
    },
    {
     "data": {
      "text/html": [
       "8E "
      ],
      "text/plain": [
       "8E "
      ]
     },
     "metadata": {},
     "output_type": "display_data"
    },
    {
     "data": {
      "text/html": [
       "Encrypted: "
      ],
      "text/plain": [
       "Encrypted: "
      ]
     },
     "metadata": {},
     "output_type": "display_data"
    },
    {
     "data": {
      "text/html": [
       "D4 "
      ],
      "text/plain": [
       "D4 "
      ]
     },
     "metadata": {},
     "output_type": "display_data"
    },
    {
     "data": {
      "text/html": [
       "78 "
      ],
      "text/plain": [
       "78 "
      ]
     },
     "metadata": {},
     "output_type": "display_data"
    },
    {
     "data": {
      "text/html": [
       "3A "
      ],
      "text/plain": [
       "3A "
      ]
     },
     "metadata": {},
     "output_type": "display_data"
    },
    {
     "data": {
      "text/html": [
       "84 "
      ],
      "text/plain": [
       "84 "
      ]
     },
     "metadata": {},
     "output_type": "display_data"
    },
    {
     "data": {
      "text/html": [
       "C "
      ],
      "text/plain": [
       "C "
      ]
     },
     "metadata": {},
     "output_type": "display_data"
    },
    {
     "data": {
      "text/html": [
       "B3 "
      ],
      "text/plain": [
       "B3 "
      ]
     },
     "metadata": {},
     "output_type": "display_data"
    },
    {
     "data": {
      "text/html": [
       "1E "
      ],
      "text/plain": [
       "1E "
      ]
     },
     "metadata": {},
     "output_type": "display_data"
    },
    {
     "data": {
      "text/html": [
       "44 "
      ],
      "text/plain": [
       "44 "
      ]
     },
     "metadata": {},
     "output_type": "display_data"
    },
    {
     "data": {
      "text/html": [
       "62 "
      ],
      "text/plain": [
       "62 "
      ]
     },
     "metadata": {},
     "output_type": "display_data"
    },
    {
     "data": {
      "text/html": [
       "78 "
      ],
      "text/plain": [
       "78 "
      ]
     },
     "metadata": {},
     "output_type": "display_data"
    },
    {
     "data": {
      "text/html": [
       "94 "
      ],
      "text/plain": [
       "94 "
      ]
     },
     "metadata": {},
     "output_type": "display_data"
    },
    {
     "data": {
      "text/html": [
       "7C "
      ],
      "text/plain": [
       "7C "
      ]
     },
     "metadata": {},
     "output_type": "display_data"
    },
    {
     "data": {
      "text/html": [
       "CF "
      ],
      "text/plain": [
       "CF "
      ]
     },
     "metadata": {},
     "output_type": "display_data"
    },
    {
     "data": {
      "text/html": [
       "E6 "
      ],
      "text/plain": [
       "E6 "
      ]
     },
     "metadata": {},
     "output_type": "display_data"
    },
    {
     "data": {
      "text/html": [
       "F5 "
      ],
      "text/plain": [
       "F5 "
      ]
     },
     "metadata": {},
     "output_type": "display_data"
    },
    {
     "data": {
      "text/html": [
       "C "
      ],
      "text/plain": [
       "C "
      ]
     },
     "metadata": {},
     "output_type": "display_data"
    },
    {
     "data": {
      "text/html": [
       "C5 "
      ],
      "text/plain": [
       "C5 "
      ]
     },
     "metadata": {},
     "output_type": "display_data"
    },
    {
     "data": {
      "text/html": [
       "FB "
      ],
      "text/plain": [
       "FB "
      ]
     },
     "metadata": {},
     "output_type": "display_data"
    },
    {
     "data": {
      "text/html": [
       "14 "
      ],
      "text/plain": [
       "14 "
      ]
     },
     "metadata": {},
     "output_type": "display_data"
    },
    {
     "data": {
      "text/html": [
       "DD "
      ],
      "text/plain": [
       "DD "
      ]
     },
     "metadata": {},
     "output_type": "display_data"
    },
    {
     "data": {
      "text/html": [
       "AB "
      ],
      "text/plain": [
       "AB "
      ]
     },
     "metadata": {},
     "output_type": "display_data"
    },
    {
     "data": {
      "text/html": [
       "D6 "
      ],
      "text/plain": [
       "D6 "
      ]
     },
     "metadata": {},
     "output_type": "display_data"
    },
    {
     "data": {
      "text/html": [
       "B8 "
      ],
      "text/plain": [
       "B8 "
      ]
     },
     "metadata": {},
     "output_type": "display_data"
    },
    {
     "data": {
      "text/html": [
       "D0 "
      ],
      "text/plain": [
       "D0 "
      ]
     },
     "metadata": {},
     "output_type": "display_data"
    },
    {
     "data": {
      "text/html": [
       "4D "
      ],
      "text/plain": [
       "4D "
      ]
     },
     "metadata": {},
     "output_type": "display_data"
    },
    {
     "data": {
      "text/html": [
       "C1 "
      ],
      "text/plain": [
       "C1 "
      ]
     },
     "metadata": {},
     "output_type": "display_data"
    },
    {
     "data": {
      "text/html": [
       "D2 "
      ],
      "text/plain": [
       "D2 "
      ]
     },
     "metadata": {},
     "output_type": "display_data"
    },
    {
     "data": {
      "text/html": [
       "5C "
      ],
      "text/plain": [
       "5C "
      ]
     },
     "metadata": {},
     "output_type": "display_data"
    },
    {
     "data": {
      "text/html": [
       "C0 "
      ],
      "text/plain": [
       "C0 "
      ]
     },
     "metadata": {},
     "output_type": "display_data"
    },
    {
     "data": {
      "text/html": [
       "43 "
      ],
      "text/plain": [
       "43 "
      ]
     },
     "metadata": {},
     "output_type": "display_data"
    },
    {
     "data": {
      "text/html": [
       "99 "
      ],
      "text/plain": [
       "99 "
      ]
     },
     "metadata": {},
     "output_type": "display_data"
    },
    {
     "data": {
      "text/html": [
       "38 "
      ],
      "text/plain": [
       "38 "
      ]
     },
     "metadata": {},
     "output_type": "display_data"
    }
   ],
   "source": [
    "LISTING_3_14_AES_encryption.Program.Main(new string[0]);"
   ]
  }
 ],
 "metadata": {
  "kernelspec": {
   "display_name": "C#",
   "language": "csharp",
   "name": "kernel-spec"
  },
  "language_info": {
   "file_extension": ".cs",
   "mimetype": "text/x-csharp",
   "name": "C#",
   "pygments_lexer": "c#",
   "version": "4.0.30319"
  }
 },
 "nbformat": 4,
 "nbformat_minor": 2
}

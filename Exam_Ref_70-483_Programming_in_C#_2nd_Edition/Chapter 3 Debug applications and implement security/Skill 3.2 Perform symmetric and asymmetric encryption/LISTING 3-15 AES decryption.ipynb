{
 "cells": [
  {
   "cell_type": "markdown",
   "metadata": {},
   "source": [
    "# Info"
   ]
  },
  {
   "cell_type": "markdown",
   "metadata": {},
   "source": [
    "This example is from\n",
    "* [github.com/ExamRef70-483/Sample-Code](https://github.com/ExamRef70-483/Sample-Code)\n",
    "* [LISTING 3-15 AES decryption](https://github.com/ExamRef70-483/Sample-Code/blob/master/LISTING%203-15%E2%80%82AES%20decryption/LISTING%203-15%E2%80%82AES%20decryption/Program.cs)\n",
    "\n",
    "\n",
    "## Remember\n",
    "* Main() is not called automatically. Has to be called manual. Remember '**public**'\n",
    "* Console.ReadKey() should not be used.\n"
   ]
  },
  {
   "cell_type": "code",
   "execution_count": 1,
   "metadata": {},
   "outputs": [],
   "source": [
    "using System;\n",
    "using System.IO;\n",
    "using System.Security.Cryptography;\n",
    "\n",
    "namespace LISTING_3_15_AES_decryption\n",
    "{\n",
    "    class Program\n",
    "    {\n",
    "        static void dumpBytes(string title, byte[] bytes)\n",
    "        {\n",
    "            Console.Write(title);\n",
    "            foreach (byte b in bytes)\n",
    "            {\n",
    "                Console.Write(\"{0:X} \", b);\n",
    "            }\n",
    "            Console.WriteLine();\n",
    "        }\n",
    "\n",
    "        static public void Main(string[] args)\n",
    "        {\n",
    "            string plainText = \"This is my super secret data\";\n",
    "\n",
    "            // byte array to hold the encrypted message\n",
    "            byte[] cipherText;\n",
    "\n",
    "            // byte array to hold the key that was used for encryption\n",
    "            byte[] key;\n",
    "\n",
    "            // byte array to hold the initialization vector that was used for encryption\n",
    "            byte[] initializationVector;\n",
    "\n",
    "            // Create an Aes instance\n",
    "            // This creates a random key and initialization vector\n",
    "\n",
    "            using (Aes aes = Aes.Create())\n",
    "            {\n",
    "                // copy the key and the initialization vector\n",
    "                key = aes.Key;\n",
    "                initializationVector = aes.IV;\n",
    "\n",
    "                // create an encryptor to encrypt some data\n",
    "                ICryptoTransform encryptor = aes.CreateEncryptor();\n",
    "\n",
    "                // Create a new memory stream to receive the\n",
    "                // encrypted data.\n",
    "\n",
    "                using (MemoryStream encryptMemoryStream = new MemoryStream())\n",
    "                {\n",
    "                    // create a CryptoStream, tell it the stream to write to\n",
    "                    // and the encryptor to use. Also set the mode\n",
    "                    using (CryptoStream encryptCryptoStream = new CryptoStream(encryptMemoryStream,\n",
    "                        encryptor, CryptoStreamMode.Write))\n",
    "                    {\n",
    "                        // make a stream writer from the cryptostream\n",
    "                        using (StreamWriter swEncrypt = new StreamWriter(encryptCryptoStream))\n",
    "                        {\n",
    "                            //Write the secret message to the stream.\n",
    "                            swEncrypt.Write(plainText);\n",
    "                        }\n",
    "                        // get the encrypted message from the stream\n",
    "                        cipherText = encryptMemoryStream.ToArray();\n",
    "                    }\n",
    "                }\n",
    "\n",
    "\n",
    "            }\n",
    "\n",
    "            // Dump out our data\n",
    "            Console.WriteLine(\"String to encrypt: {0}\", plainText);\n",
    "            dumpBytes(\"Key: \", key);\n",
    "            dumpBytes(\"Initialization Vector: \", initializationVector);\n",
    "            dumpBytes(\"Encrypted: \", cipherText);\n",
    "\n",
    "            // Now do the decryption\n",
    "            string decryptedText;\n",
    "\n",
    "            using (Aes aes = Aes.Create())\n",
    "            {\n",
    "                // Configure the aes instances with the key and\n",
    "                // initialization vector to use for the decryption\n",
    "                aes.Key = key;\n",
    "                aes.IV = initializationVector;\n",
    "\n",
    "                // Create a decryptor from aes\n",
    "                ICryptoTransform decryptor = aes.CreateDecryptor();\n",
    "\n",
    "                using (MemoryStream decryptStream = new MemoryStream(cipherText))\n",
    "                {\n",
    "                    using (CryptoStream decryptCryptoStream =\n",
    "                        new CryptoStream(decryptStream, decryptor, CryptoStreamMode.Read))\n",
    "                    {\n",
    "                        using (StreamReader srDecrypt = new StreamReader(decryptCryptoStream))\n",
    "                        {\n",
    "                            // Read the decrypted bytes from the decrypting stream\n",
    "                            // and place them in a string.\n",
    "                            decryptedText = srDecrypt.ReadToEnd();\n",
    "                        }\n",
    "                    }\n",
    "                }\n",
    "            }\n",
    "\n",
    "            Console.WriteLine(\"Decrypted string: {0}\", decryptedText);\n",
    "\n",
    "            //Console.ReadKey();\n",
    "        }\n",
    "    }\n",
    "}\n"
   ]
  },
  {
   "cell_type": "code",
   "execution_count": 2,
   "metadata": {},
   "outputs": [
    {
     "data": {
      "text/html": [
       "String to encrypt: This is my super secret data"
      ],
      "text/plain": [
       "String to encrypt: This is my super secret data"
      ]
     },
     "metadata": {},
     "output_type": "display_data"
    },
    {
     "data": {
      "text/html": [
       "Key: "
      ],
      "text/plain": [
       "Key: "
      ]
     },
     "metadata": {},
     "output_type": "display_data"
    },
    {
     "data": {
      "text/html": [
       "AA "
      ],
      "text/plain": [
       "AA "
      ]
     },
     "metadata": {},
     "output_type": "display_data"
    },
    {
     "data": {
      "text/html": [
       "CD "
      ],
      "text/plain": [
       "CD "
      ]
     },
     "metadata": {},
     "output_type": "display_data"
    },
    {
     "data": {
      "text/html": [
       "EC "
      ],
      "text/plain": [
       "EC "
      ]
     },
     "metadata": {},
     "output_type": "display_data"
    },
    {
     "data": {
      "text/html": [
       "8C "
      ],
      "text/plain": [
       "8C "
      ]
     },
     "metadata": {},
     "output_type": "display_data"
    },
    {
     "data": {
      "text/html": [
       "2C "
      ],
      "text/plain": [
       "2C "
      ]
     },
     "metadata": {},
     "output_type": "display_data"
    },
    {
     "data": {
      "text/html": [
       "60 "
      ],
      "text/plain": [
       "60 "
      ]
     },
     "metadata": {},
     "output_type": "display_data"
    },
    {
     "data": {
      "text/html": [
       "AB "
      ],
      "text/plain": [
       "AB "
      ]
     },
     "metadata": {},
     "output_type": "display_data"
    },
    {
     "data": {
      "text/html": [
       "97 "
      ],
      "text/plain": [
       "97 "
      ]
     },
     "metadata": {},
     "output_type": "display_data"
    },
    {
     "data": {
      "text/html": [
       "82 "
      ],
      "text/plain": [
       "82 "
      ]
     },
     "metadata": {},
     "output_type": "display_data"
    },
    {
     "data": {
      "text/html": [
       "49 "
      ],
      "text/plain": [
       "49 "
      ]
     },
     "metadata": {},
     "output_type": "display_data"
    },
    {
     "data": {
      "text/html": [
       "BF "
      ],
      "text/plain": [
       "BF "
      ]
     },
     "metadata": {},
     "output_type": "display_data"
    },
    {
     "data": {
      "text/html": [
       "CE "
      ],
      "text/plain": [
       "CE "
      ]
     },
     "metadata": {},
     "output_type": "display_data"
    },
    {
     "data": {
      "text/html": [
       "C0 "
      ],
      "text/plain": [
       "C0 "
      ]
     },
     "metadata": {},
     "output_type": "display_data"
    },
    {
     "data": {
      "text/html": [
       "2E "
      ],
      "text/plain": [
       "2E "
      ]
     },
     "metadata": {},
     "output_type": "display_data"
    },
    {
     "data": {
      "text/html": [
       "87 "
      ],
      "text/plain": [
       "87 "
      ]
     },
     "metadata": {},
     "output_type": "display_data"
    },
    {
     "data": {
      "text/html": [
       "87 "
      ],
      "text/plain": [
       "87 "
      ]
     },
     "metadata": {},
     "output_type": "display_data"
    },
    {
     "data": {
      "text/html": [
       "24 "
      ],
      "text/plain": [
       "24 "
      ]
     },
     "metadata": {},
     "output_type": "display_data"
    },
    {
     "data": {
      "text/html": [
       "3D "
      ],
      "text/plain": [
       "3D "
      ]
     },
     "metadata": {},
     "output_type": "display_data"
    },
    {
     "data": {
      "text/html": [
       "29 "
      ],
      "text/plain": [
       "29 "
      ]
     },
     "metadata": {},
     "output_type": "display_data"
    },
    {
     "data": {
      "text/html": [
       "82 "
      ],
      "text/plain": [
       "82 "
      ]
     },
     "metadata": {},
     "output_type": "display_data"
    },
    {
     "data": {
      "text/html": [
       "22 "
      ],
      "text/plain": [
       "22 "
      ]
     },
     "metadata": {},
     "output_type": "display_data"
    },
    {
     "data": {
      "text/html": [
       "A9 "
      ],
      "text/plain": [
       "A9 "
      ]
     },
     "metadata": {},
     "output_type": "display_data"
    },
    {
     "data": {
      "text/html": [
       "18 "
      ],
      "text/plain": [
       "18 "
      ]
     },
     "metadata": {},
     "output_type": "display_data"
    },
    {
     "data": {
      "text/html": [
       "78 "
      ],
      "text/plain": [
       "78 "
      ]
     },
     "metadata": {},
     "output_type": "display_data"
    },
    {
     "data": {
      "text/html": [
       "7C "
      ],
      "text/plain": [
       "7C "
      ]
     },
     "metadata": {},
     "output_type": "display_data"
    },
    {
     "data": {
      "text/html": [
       "18 "
      ],
      "text/plain": [
       "18 "
      ]
     },
     "metadata": {},
     "output_type": "display_data"
    },
    {
     "data": {
      "text/html": [
       "FA "
      ],
      "text/plain": [
       "FA "
      ]
     },
     "metadata": {},
     "output_type": "display_data"
    },
    {
     "data": {
      "text/html": [
       "66 "
      ],
      "text/plain": [
       "66 "
      ]
     },
     "metadata": {},
     "output_type": "display_data"
    },
    {
     "data": {
      "text/html": [
       "DF "
      ],
      "text/plain": [
       "DF "
      ]
     },
     "metadata": {},
     "output_type": "display_data"
    },
    {
     "data": {
      "text/html": [
       "59 "
      ],
      "text/plain": [
       "59 "
      ]
     },
     "metadata": {},
     "output_type": "display_data"
    },
    {
     "data": {
      "text/html": [
       "E0 "
      ],
      "text/plain": [
       "E0 "
      ]
     },
     "metadata": {},
     "output_type": "display_data"
    },
    {
     "data": {
      "text/html": [
       "5B "
      ],
      "text/plain": [
       "5B "
      ]
     },
     "metadata": {},
     "output_type": "display_data"
    },
    {
     "data": {
      "text/html": [
       "Initialization Vector: "
      ],
      "text/plain": [
       "Initialization Vector: "
      ]
     },
     "metadata": {},
     "output_type": "display_data"
    },
    {
     "data": {
      "text/html": [
       "4F "
      ],
      "text/plain": [
       "4F "
      ]
     },
     "metadata": {},
     "output_type": "display_data"
    },
    {
     "data": {
      "text/html": [
       "AA "
      ],
      "text/plain": [
       "AA "
      ]
     },
     "metadata": {},
     "output_type": "display_data"
    },
    {
     "data": {
      "text/html": [
       "FA "
      ],
      "text/plain": [
       "FA "
      ]
     },
     "metadata": {},
     "output_type": "display_data"
    },
    {
     "data": {
      "text/html": [
       "ED "
      ],
      "text/plain": [
       "ED "
      ]
     },
     "metadata": {},
     "output_type": "display_data"
    },
    {
     "data": {
      "text/html": [
       "2D "
      ],
      "text/plain": [
       "2D "
      ]
     },
     "metadata": {},
     "output_type": "display_data"
    },
    {
     "data": {
      "text/html": [
       "E0 "
      ],
      "text/plain": [
       "E0 "
      ]
     },
     "metadata": {},
     "output_type": "display_data"
    },
    {
     "data": {
      "text/html": [
       "3A "
      ],
      "text/plain": [
       "3A "
      ]
     },
     "metadata": {},
     "output_type": "display_data"
    },
    {
     "data": {
      "text/html": [
       "E8 "
      ],
      "text/plain": [
       "E8 "
      ]
     },
     "metadata": {},
     "output_type": "display_data"
    },
    {
     "data": {
      "text/html": [
       "60 "
      ],
      "text/plain": [
       "60 "
      ]
     },
     "metadata": {},
     "output_type": "display_data"
    },
    {
     "data": {
      "text/html": [
       "63 "
      ],
      "text/plain": [
       "63 "
      ]
     },
     "metadata": {},
     "output_type": "display_data"
    },
    {
     "data": {
      "text/html": [
       "40 "
      ],
      "text/plain": [
       "40 "
      ]
     },
     "metadata": {},
     "output_type": "display_data"
    },
    {
     "data": {
      "text/html": [
       "F0 "
      ],
      "text/plain": [
       "F0 "
      ]
     },
     "metadata": {},
     "output_type": "display_data"
    },
    {
     "data": {
      "text/html": [
       "BC "
      ],
      "text/plain": [
       "BC "
      ]
     },
     "metadata": {},
     "output_type": "display_data"
    },
    {
     "data": {
      "text/html": [
       "4D "
      ],
      "text/plain": [
       "4D "
      ]
     },
     "metadata": {},
     "output_type": "display_data"
    },
    {
     "data": {
      "text/html": [
       "6B "
      ],
      "text/plain": [
       "6B "
      ]
     },
     "metadata": {},
     "output_type": "display_data"
    },
    {
     "data": {
      "text/html": [
       "92 "
      ],
      "text/plain": [
       "92 "
      ]
     },
     "metadata": {},
     "output_type": "display_data"
    },
    {
     "data": {
      "text/html": [
       "Encrypted: "
      ],
      "text/plain": [
       "Encrypted: "
      ]
     },
     "metadata": {},
     "output_type": "display_data"
    },
    {
     "data": {
      "text/html": [
       "5D "
      ],
      "text/plain": [
       "5D "
      ]
     },
     "metadata": {},
     "output_type": "display_data"
    },
    {
     "data": {
      "text/html": [
       "EF "
      ],
      "text/plain": [
       "EF "
      ]
     },
     "metadata": {},
     "output_type": "display_data"
    },
    {
     "data": {
      "text/html": [
       "4D "
      ],
      "text/plain": [
       "4D "
      ]
     },
     "metadata": {},
     "output_type": "display_data"
    },
    {
     "data": {
      "text/html": [
       "25 "
      ],
      "text/plain": [
       "25 "
      ]
     },
     "metadata": {},
     "output_type": "display_data"
    },
    {
     "data": {
      "text/html": [
       "E5 "
      ],
      "text/plain": [
       "E5 "
      ]
     },
     "metadata": {},
     "output_type": "display_data"
    },
    {
     "data": {
      "text/html": [
       "FA "
      ],
      "text/plain": [
       "FA "
      ]
     },
     "metadata": {},
     "output_type": "display_data"
    },
    {
     "data": {
      "text/html": [
       "75 "
      ],
      "text/plain": [
       "75 "
      ]
     },
     "metadata": {},
     "output_type": "display_data"
    },
    {
     "data": {
      "text/html": [
       "E "
      ],
      "text/plain": [
       "E "
      ]
     },
     "metadata": {},
     "output_type": "display_data"
    },
    {
     "data": {
      "text/html": [
       "56 "
      ],
      "text/plain": [
       "56 "
      ]
     },
     "metadata": {},
     "output_type": "display_data"
    },
    {
     "data": {
      "text/html": [
       "B "
      ],
      "text/plain": [
       "B "
      ]
     },
     "metadata": {},
     "output_type": "display_data"
    },
    {
     "data": {
      "text/html": [
       "5A "
      ],
      "text/plain": [
       "5A "
      ]
     },
     "metadata": {},
     "output_type": "display_data"
    },
    {
     "data": {
      "text/html": [
       "38 "
      ],
      "text/plain": [
       "38 "
      ]
     },
     "metadata": {},
     "output_type": "display_data"
    },
    {
     "data": {
      "text/html": [
       "87 "
      ],
      "text/plain": [
       "87 "
      ]
     },
     "metadata": {},
     "output_type": "display_data"
    },
    {
     "data": {
      "text/html": [
       "84 "
      ],
      "text/plain": [
       "84 "
      ]
     },
     "metadata": {},
     "output_type": "display_data"
    },
    {
     "data": {
      "text/html": [
       "92 "
      ],
      "text/plain": [
       "92 "
      ]
     },
     "metadata": {},
     "output_type": "display_data"
    },
    {
     "data": {
      "text/html": [
       "87 "
      ],
      "text/plain": [
       "87 "
      ]
     },
     "metadata": {},
     "output_type": "display_data"
    },
    {
     "data": {
      "text/html": [
       "EE "
      ],
      "text/plain": [
       "EE "
      ]
     },
     "metadata": {},
     "output_type": "display_data"
    },
    {
     "data": {
      "text/html": [
       "E9 "
      ],
      "text/plain": [
       "E9 "
      ]
     },
     "metadata": {},
     "output_type": "display_data"
    },
    {
     "data": {
      "text/html": [
       "64 "
      ],
      "text/plain": [
       "64 "
      ]
     },
     "metadata": {},
     "output_type": "display_data"
    },
    {
     "data": {
      "text/html": [
       "F6 "
      ],
      "text/plain": [
       "F6 "
      ]
     },
     "metadata": {},
     "output_type": "display_data"
    },
    {
     "data": {
      "text/html": [
       "F9 "
      ],
      "text/plain": [
       "F9 "
      ]
     },
     "metadata": {},
     "output_type": "display_data"
    },
    {
     "data": {
      "text/html": [
       "44 "
      ],
      "text/plain": [
       "44 "
      ]
     },
     "metadata": {},
     "output_type": "display_data"
    },
    {
     "data": {
      "text/html": [
       "E5 "
      ],
      "text/plain": [
       "E5 "
      ]
     },
     "metadata": {},
     "output_type": "display_data"
    },
    {
     "data": {
      "text/html": [
       "21 "
      ],
      "text/plain": [
       "21 "
      ]
     },
     "metadata": {},
     "output_type": "display_data"
    },
    {
     "data": {
      "text/html": [
       "4F "
      ],
      "text/plain": [
       "4F "
      ]
     },
     "metadata": {},
     "output_type": "display_data"
    },
    {
     "data": {
      "text/html": [
       "93 "
      ],
      "text/plain": [
       "93 "
      ]
     },
     "metadata": {},
     "output_type": "display_data"
    },
    {
     "data": {
      "text/html": [
       "3B "
      ],
      "text/plain": [
       "3B "
      ]
     },
     "metadata": {},
     "output_type": "display_data"
    },
    {
     "data": {
      "text/html": [
       "EB "
      ],
      "text/plain": [
       "EB "
      ]
     },
     "metadata": {},
     "output_type": "display_data"
    },
    {
     "data": {
      "text/html": [
       "51 "
      ],
      "text/plain": [
       "51 "
      ]
     },
     "metadata": {},
     "output_type": "display_data"
    },
    {
     "data": {
      "text/html": [
       "EB "
      ],
      "text/plain": [
       "EB "
      ]
     },
     "metadata": {},
     "output_type": "display_data"
    },
    {
     "data": {
      "text/html": [
       "BF "
      ],
      "text/plain": [
       "BF "
      ]
     },
     "metadata": {},
     "output_type": "display_data"
    },
    {
     "data": {
      "text/html": [
       "93 "
      ],
      "text/plain": [
       "93 "
      ]
     },
     "metadata": {},
     "output_type": "display_data"
    },
    {
     "data": {
      "text/html": [
       "Decrypted string: This is my super secret data"
      ],
      "text/plain": [
       "Decrypted string: This is my super secret data"
      ]
     },
     "metadata": {},
     "output_type": "display_data"
    }
   ],
   "source": [
    "LISTING_3_15_AES_decryption.Program.Main(new string[0]);"
   ]
  }
 ],
 "metadata": {
  "kernelspec": {
   "display_name": "C#",
   "language": "csharp",
   "name": "kernel-spec"
  },
  "language_info": {
   "file_extension": ".cs",
   "mimetype": "text/x-csharp",
   "name": "C#",
   "pygments_lexer": "c#",
   "version": "4.0.30319"
  }
 },
 "nbformat": 4,
 "nbformat_minor": 2
}

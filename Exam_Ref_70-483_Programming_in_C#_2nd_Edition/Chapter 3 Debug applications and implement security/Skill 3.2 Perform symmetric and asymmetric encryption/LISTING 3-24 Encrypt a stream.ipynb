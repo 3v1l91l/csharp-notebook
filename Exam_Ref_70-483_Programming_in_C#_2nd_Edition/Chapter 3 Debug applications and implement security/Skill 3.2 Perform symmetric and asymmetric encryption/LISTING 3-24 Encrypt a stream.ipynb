{
 "cells": [
  {
   "cell_type": "markdown",
   "metadata": {},
   "source": [
    "# Info"
   ]
  },
  {
   "cell_type": "markdown",
   "metadata": {},
   "source": [
    "This example is from\n",
    "* [github.com/ExamRef70-483/Sample-Code](https://github.com/ExamRef70-483/Sample-Code)\n",
    "* [LISTING 3-24 Encrypt a stream](https://github.com/ExamRef70-483/Sample-Code/blob/master/LISTING%203-24%E2%80%82Encrypt%20a%20stream/LISTING%203-24%E2%80%82Encrypt%20a%20stream/Program.cs)\n",
    "\n",
    "\n",
    "## Remember\n",
    "* Main() is not called automatically. Has to be called manual. Remember '**public**'\n",
    "* Console.ReadKey() should not be used.\n"
   ]
  },
  {
   "cell_type": "code",
   "execution_count": 1,
   "metadata": {},
   "outputs": [],
   "source": [
    "using System;\n",
    "using System.IO;\n",
    "using System.Security.Cryptography;\n",
    "\n",
    "namespace LISTING_3_24_Encrypt_a_stream\n",
    "{\n",
    "    class Program\n",
    "    {\n",
    "        static void dumpBytes(string title, byte[] bytes)\n",
    "        {\n",
    "            Console.Write(title);\n",
    "            foreach (byte b in bytes)\n",
    "            {\n",
    "                Console.Write(\"{0:X} \", b);\n",
    "            }\n",
    "            Console.WriteLine();\n",
    "        }\n",
    "\n",
    "        static public void Main(string[] args)\n",
    "        {\n",
    "            string plainText = \"This is my super super secret data\";\n",
    "\n",
    "            // byte array to hold the encrypted message\n",
    "            byte[] encryptedText;\n",
    "\n",
    "            // byte arrays to hold the key that was used for encryption\n",
    "            byte[] key1;\n",
    "            byte[] key2;\n",
    "\n",
    "            // byte array to hold the initialization vector that was used for encryption\n",
    "            byte[] initializationVector1;\n",
    "            byte[] initializationVector2;\n",
    "\n",
    "            using (Aes aes1 = Aes.Create())\n",
    "            {\n",
    "                // copy the key and the initialization vector\n",
    "                key1 = aes1.Key;\n",
    "                initializationVector1 = aes1.IV;\n",
    "\n",
    "                // create an encryptor to encrypt some data\n",
    "                ICryptoTransform encryptor1 = aes1.CreateEncryptor();\n",
    "\n",
    "                // Create a new memory stream to receive the\n",
    "                // encrypted data.\n",
    "\n",
    "                using (MemoryStream encryptMemoryStream = new MemoryStream())\n",
    "                {\n",
    "                    // create a CryptoStream, tell it the stream to write to\n",
    "                    // and the encryptor to use. Also set the mode\n",
    "                    using (CryptoStream cryptoStream1 = new CryptoStream(encryptMemoryStream,\n",
    "                        encryptor1, CryptoStreamMode.Write))\n",
    "                    {\n",
    "                        // Add another layer of encryption\n",
    "                        using (Aes aes2 = Aes.Create())\n",
    "                        {\n",
    "                            // copy the key and the initialization vector\n",
    "                            key2 = aes2.Key;\n",
    "                            initializationVector2 = aes2.IV;\n",
    "\n",
    "                            ICryptoTransform encryptor2 = aes2.CreateEncryptor();\n",
    "\n",
    "                            using (CryptoStream cryptoStream2 = new CryptoStream(cryptoStream1, encryptor2, CryptoStreamMode.Write))\n",
    "                            {\n",
    "                                using (StreamWriter swEncrypt = new StreamWriter(cryptoStream2))\n",
    "                                {\n",
    "                                    //Write the secret message to the stream.\n",
    "                                    swEncrypt.Write(plainText);\n",
    "                                }\n",
    "                                // get the encrypted message from the stream\n",
    "                                encryptedText = encryptMemoryStream.ToArray();\n",
    "                            }\n",
    "                        }\n",
    "                    }\n",
    "                }\n",
    "            }\n",
    "\n",
    "            // Dump out our data\n",
    "            Console.WriteLine(\"String to encrypt: {0}\", plainText);\n",
    "            dumpBytes(\"Key1: \", key1);\n",
    "            dumpBytes(\"Initialization Vector1: \", initializationVector1);\n",
    "            dumpBytes(\"Key2: \", key2);\n",
    "            dumpBytes(\"Initialization Vector2: \", initializationVector2);\n",
    "            dumpBytes(\"Encrypted: \", encryptedText);\n",
    "\n",
    "            // Now do the decryption\n",
    "            string decryptedText;\n",
    "\n",
    "            using (Aes aesd1 = Aes.Create())\n",
    "            {\n",
    "                // Configure the aes instances with the key and\n",
    "                // initialization vector to use for the decryption\n",
    "                aesd1.Key = key1;\n",
    "                aesd1.IV = initializationVector1;\n",
    "\n",
    "                // Create a decryptor from aes1\n",
    "                ICryptoTransform decryptor1 = aesd1.CreateDecryptor();\n",
    "\n",
    "                using (MemoryStream decryptStream = new MemoryStream(encryptedText))\n",
    "                {\n",
    "                    using (CryptoStream decryptCryptoStream1 =\n",
    "                        new CryptoStream(decryptStream, decryptor1, CryptoStreamMode.Read))\n",
    "                    {\n",
    "                        using (Aes aesd2 = Aes.Create())\n",
    "                        {\n",
    "                            // Configure the aes instances with the key and\n",
    "                            // initialization vector to use for the decryption\n",
    "                            aesd2.Key = key2;\n",
    "                            aesd2.IV = initializationVector2;\n",
    "\n",
    "                            // Create a decryptor from aes2\n",
    "                            ICryptoTransform decryptor2 = aesd2.CreateDecryptor();\n",
    "\n",
    "                            using (CryptoStream decryptCryptoStream2 =\n",
    "                                new CryptoStream(decryptCryptoStream1, decryptor2, CryptoStreamMode.Read))\n",
    "                            {\n",
    "                                using (StreamReader srDecrypt = new StreamReader(decryptCryptoStream2))\n",
    "                                {\n",
    "                                    decryptedText = srDecrypt.ReadToEnd();\n",
    "                                }\n",
    "                            }\n",
    "                        }\n",
    "                    }\n",
    "                }\n",
    "\n",
    "                Console.WriteLine(\"Decrypted string: {0}\", decryptedText);\n",
    "\n",
    "                //Console.ReadKey();\n",
    "            }\n",
    "        }\n",
    "    }\n",
    "}\n"
   ]
  },
  {
   "cell_type": "code",
   "execution_count": 2,
   "metadata": {},
   "outputs": [
    {
     "data": {
      "text/html": [
       "String to encrypt: This is my super super secret data"
      ],
      "text/plain": [
       "String to encrypt: This is my super super secret data"
      ]
     },
     "metadata": {},
     "output_type": "display_data"
    },
    {
     "data": {
      "text/html": [
       "Key1: "
      ],
      "text/plain": [
       "Key1: "
      ]
     },
     "metadata": {},
     "output_type": "display_data"
    },
    {
     "data": {
      "text/html": [
       "13 "
      ],
      "text/plain": [
       "13 "
      ]
     },
     "metadata": {},
     "output_type": "display_data"
    },
    {
     "data": {
      "text/html": [
       "4F "
      ],
      "text/plain": [
       "4F "
      ]
     },
     "metadata": {},
     "output_type": "display_data"
    },
    {
     "data": {
      "text/html": [
       "EE "
      ],
      "text/plain": [
       "EE "
      ]
     },
     "metadata": {},
     "output_type": "display_data"
    },
    {
     "data": {
      "text/html": [
       "66 "
      ],
      "text/plain": [
       "66 "
      ]
     },
     "metadata": {},
     "output_type": "display_data"
    },
    {
     "data": {
      "text/html": [
       "36 "
      ],
      "text/plain": [
       "36 "
      ]
     },
     "metadata": {},
     "output_type": "display_data"
    },
    {
     "data": {
      "text/html": [
       "3C "
      ],
      "text/plain": [
       "3C "
      ]
     },
     "metadata": {},
     "output_type": "display_data"
    },
    {
     "data": {
      "text/html": [
       "44 "
      ],
      "text/plain": [
       "44 "
      ]
     },
     "metadata": {},
     "output_type": "display_data"
    },
    {
     "data": {
      "text/html": [
       "89 "
      ],
      "text/plain": [
       "89 "
      ]
     },
     "metadata": {},
     "output_type": "display_data"
    },
    {
     "data": {
      "text/html": [
       "9 "
      ],
      "text/plain": [
       "9 "
      ]
     },
     "metadata": {},
     "output_type": "display_data"
    },
    {
     "data": {
      "text/html": [
       "30 "
      ],
      "text/plain": [
       "30 "
      ]
     },
     "metadata": {},
     "output_type": "display_data"
    },
    {
     "data": {
      "text/html": [
       "3B "
      ],
      "text/plain": [
       "3B "
      ]
     },
     "metadata": {},
     "output_type": "display_data"
    },
    {
     "data": {
      "text/html": [
       "EA "
      ],
      "text/plain": [
       "EA "
      ]
     },
     "metadata": {},
     "output_type": "display_data"
    },
    {
     "data": {
      "text/html": [
       "40 "
      ],
      "text/plain": [
       "40 "
      ]
     },
     "metadata": {},
     "output_type": "display_data"
    },
    {
     "data": {
      "text/html": [
       "85 "
      ],
      "text/plain": [
       "85 "
      ]
     },
     "metadata": {},
     "output_type": "display_data"
    },
    {
     "data": {
      "text/html": [
       "DE "
      ],
      "text/plain": [
       "DE "
      ]
     },
     "metadata": {},
     "output_type": "display_data"
    },
    {
     "data": {
      "text/html": [
       "F5 "
      ],
      "text/plain": [
       "F5 "
      ]
     },
     "metadata": {},
     "output_type": "display_data"
    },
    {
     "data": {
      "text/html": [
       "F1 "
      ],
      "text/plain": [
       "F1 "
      ]
     },
     "metadata": {},
     "output_type": "display_data"
    },
    {
     "data": {
      "text/html": [
       "3A "
      ],
      "text/plain": [
       "3A "
      ]
     },
     "metadata": {},
     "output_type": "display_data"
    },
    {
     "data": {
      "text/html": [
       "30 "
      ],
      "text/plain": [
       "30 "
      ]
     },
     "metadata": {},
     "output_type": "display_data"
    },
    {
     "data": {
      "text/html": [
       "49 "
      ],
      "text/plain": [
       "49 "
      ]
     },
     "metadata": {},
     "output_type": "display_data"
    },
    {
     "data": {
      "text/html": [
       "45 "
      ],
      "text/plain": [
       "45 "
      ]
     },
     "metadata": {},
     "output_type": "display_data"
    },
    {
     "data": {
      "text/html": [
       "F5 "
      ],
      "text/plain": [
       "F5 "
      ]
     },
     "metadata": {},
     "output_type": "display_data"
    },
    {
     "data": {
      "text/html": [
       "34 "
      ],
      "text/plain": [
       "34 "
      ]
     },
     "metadata": {},
     "output_type": "display_data"
    },
    {
     "data": {
      "text/html": [
       "DE "
      ],
      "text/plain": [
       "DE "
      ]
     },
     "metadata": {},
     "output_type": "display_data"
    },
    {
     "data": {
      "text/html": [
       "5F "
      ],
      "text/plain": [
       "5F "
      ]
     },
     "metadata": {},
     "output_type": "display_data"
    },
    {
     "data": {
      "text/html": [
       "6F "
      ],
      "text/plain": [
       "6F "
      ]
     },
     "metadata": {},
     "output_type": "display_data"
    },
    {
     "data": {
      "text/html": [
       "26 "
      ],
      "text/plain": [
       "26 "
      ]
     },
     "metadata": {},
     "output_type": "display_data"
    },
    {
     "data": {
      "text/html": [
       "DB "
      ],
      "text/plain": [
       "DB "
      ]
     },
     "metadata": {},
     "output_type": "display_data"
    },
    {
     "data": {
      "text/html": [
       "B2 "
      ],
      "text/plain": [
       "B2 "
      ]
     },
     "metadata": {},
     "output_type": "display_data"
    },
    {
     "data": {
      "text/html": [
       "68 "
      ],
      "text/plain": [
       "68 "
      ]
     },
     "metadata": {},
     "output_type": "display_data"
    },
    {
     "data": {
      "text/html": [
       "5E "
      ],
      "text/plain": [
       "5E "
      ]
     },
     "metadata": {},
     "output_type": "display_data"
    },
    {
     "data": {
      "text/html": [
       "67 "
      ],
      "text/plain": [
       "67 "
      ]
     },
     "metadata": {},
     "output_type": "display_data"
    },
    {
     "data": {
      "text/html": [
       "Initialization Vector1: "
      ],
      "text/plain": [
       "Initialization Vector1: "
      ]
     },
     "metadata": {},
     "output_type": "display_data"
    },
    {
     "data": {
      "text/html": [
       "9 "
      ],
      "text/plain": [
       "9 "
      ]
     },
     "metadata": {},
     "output_type": "display_data"
    },
    {
     "data": {
      "text/html": [
       "A "
      ],
      "text/plain": [
       "A "
      ]
     },
     "metadata": {},
     "output_type": "display_data"
    },
    {
     "data": {
      "text/html": [
       "3C "
      ],
      "text/plain": [
       "3C "
      ]
     },
     "metadata": {},
     "output_type": "display_data"
    },
    {
     "data": {
      "text/html": [
       "94 "
      ],
      "text/plain": [
       "94 "
      ]
     },
     "metadata": {},
     "output_type": "display_data"
    },
    {
     "data": {
      "text/html": [
       "E0 "
      ],
      "text/plain": [
       "E0 "
      ]
     },
     "metadata": {},
     "output_type": "display_data"
    },
    {
     "data": {
      "text/html": [
       "B7 "
      ],
      "text/plain": [
       "B7 "
      ]
     },
     "metadata": {},
     "output_type": "display_data"
    },
    {
     "data": {
      "text/html": [
       "9 "
      ],
      "text/plain": [
       "9 "
      ]
     },
     "metadata": {},
     "output_type": "display_data"
    },
    {
     "data": {
      "text/html": [
       "6 "
      ],
      "text/plain": [
       "6 "
      ]
     },
     "metadata": {},
     "output_type": "display_data"
    },
    {
     "data": {
      "text/html": [
       "50 "
      ],
      "text/plain": [
       "50 "
      ]
     },
     "metadata": {},
     "output_type": "display_data"
    },
    {
     "data": {
      "text/html": [
       "8A "
      ],
      "text/plain": [
       "8A "
      ]
     },
     "metadata": {},
     "output_type": "display_data"
    },
    {
     "data": {
      "text/html": [
       "6B "
      ],
      "text/plain": [
       "6B "
      ]
     },
     "metadata": {},
     "output_type": "display_data"
    },
    {
     "data": {
      "text/html": [
       "4 "
      ],
      "text/plain": [
       "4 "
      ]
     },
     "metadata": {},
     "output_type": "display_data"
    },
    {
     "data": {
      "text/html": [
       "A8 "
      ],
      "text/plain": [
       "A8 "
      ]
     },
     "metadata": {},
     "output_type": "display_data"
    },
    {
     "data": {
      "text/html": [
       "2F "
      ],
      "text/plain": [
       "2F "
      ]
     },
     "metadata": {},
     "output_type": "display_data"
    },
    {
     "data": {
      "text/html": [
       "20 "
      ],
      "text/plain": [
       "20 "
      ]
     },
     "metadata": {},
     "output_type": "display_data"
    },
    {
     "data": {
      "text/html": [
       "11 "
      ],
      "text/plain": [
       "11 "
      ]
     },
     "metadata": {},
     "output_type": "display_data"
    },
    {
     "data": {
      "text/html": [
       "Key2: "
      ],
      "text/plain": [
       "Key2: "
      ]
     },
     "metadata": {},
     "output_type": "display_data"
    },
    {
     "data": {
      "text/html": [
       "5C "
      ],
      "text/plain": [
       "5C "
      ]
     },
     "metadata": {},
     "output_type": "display_data"
    },
    {
     "data": {
      "text/html": [
       "8F "
      ],
      "text/plain": [
       "8F "
      ]
     },
     "metadata": {},
     "output_type": "display_data"
    },
    {
     "data": {
      "text/html": [
       "95 "
      ],
      "text/plain": [
       "95 "
      ]
     },
     "metadata": {},
     "output_type": "display_data"
    },
    {
     "data": {
      "text/html": [
       "51 "
      ],
      "text/plain": [
       "51 "
      ]
     },
     "metadata": {},
     "output_type": "display_data"
    },
    {
     "data": {
      "text/html": [
       "B4 "
      ],
      "text/plain": [
       "B4 "
      ]
     },
     "metadata": {},
     "output_type": "display_data"
    },
    {
     "data": {
      "text/html": [
       "18 "
      ],
      "text/plain": [
       "18 "
      ]
     },
     "metadata": {},
     "output_type": "display_data"
    },
    {
     "data": {
      "text/html": [
       "1B "
      ],
      "text/plain": [
       "1B "
      ]
     },
     "metadata": {},
     "output_type": "display_data"
    },
    {
     "data": {
      "text/html": [
       "DE "
      ],
      "text/plain": [
       "DE "
      ]
     },
     "metadata": {},
     "output_type": "display_data"
    },
    {
     "data": {
      "text/html": [
       "4E "
      ],
      "text/plain": [
       "4E "
      ]
     },
     "metadata": {},
     "output_type": "display_data"
    },
    {
     "data": {
      "text/html": [
       "F4 "
      ],
      "text/plain": [
       "F4 "
      ]
     },
     "metadata": {},
     "output_type": "display_data"
    },
    {
     "data": {
      "text/html": [
       "7A "
      ],
      "text/plain": [
       "7A "
      ]
     },
     "metadata": {},
     "output_type": "display_data"
    },
    {
     "data": {
      "text/html": [
       "18 "
      ],
      "text/plain": [
       "18 "
      ]
     },
     "metadata": {},
     "output_type": "display_data"
    },
    {
     "data": {
      "text/html": [
       "EC "
      ],
      "text/plain": [
       "EC "
      ]
     },
     "metadata": {},
     "output_type": "display_data"
    },
    {
     "data": {
      "text/html": [
       "95 "
      ],
      "text/plain": [
       "95 "
      ]
     },
     "metadata": {},
     "output_type": "display_data"
    },
    {
     "data": {
      "text/html": [
       "C "
      ],
      "text/plain": [
       "C "
      ]
     },
     "metadata": {},
     "output_type": "display_data"
    },
    {
     "data": {
      "text/html": [
       "C1 "
      ],
      "text/plain": [
       "C1 "
      ]
     },
     "metadata": {},
     "output_type": "display_data"
    },
    {
     "data": {
      "text/html": [
       "26 "
      ],
      "text/plain": [
       "26 "
      ]
     },
     "metadata": {},
     "output_type": "display_data"
    },
    {
     "data": {
      "text/html": [
       "7A "
      ],
      "text/plain": [
       "7A "
      ]
     },
     "metadata": {},
     "output_type": "display_data"
    },
    {
     "data": {
      "text/html": [
       "75 "
      ],
      "text/plain": [
       "75 "
      ]
     },
     "metadata": {},
     "output_type": "display_data"
    },
    {
     "data": {
      "text/html": [
       "DD "
      ],
      "text/plain": [
       "DD "
      ]
     },
     "metadata": {},
     "output_type": "display_data"
    },
    {
     "data": {
      "text/html": [
       "8A "
      ],
      "text/plain": [
       "8A "
      ]
     },
     "metadata": {},
     "output_type": "display_data"
    },
    {
     "data": {
      "text/html": [
       "4D "
      ],
      "text/plain": [
       "4D "
      ]
     },
     "metadata": {},
     "output_type": "display_data"
    },
    {
     "data": {
      "text/html": [
       "96 "
      ],
      "text/plain": [
       "96 "
      ]
     },
     "metadata": {},
     "output_type": "display_data"
    },
    {
     "data": {
      "text/html": [
       "A3 "
      ],
      "text/plain": [
       "A3 "
      ]
     },
     "metadata": {},
     "output_type": "display_data"
    },
    {
     "data": {
      "text/html": [
       "ED "
      ],
      "text/plain": [
       "ED "
      ]
     },
     "metadata": {},
     "output_type": "display_data"
    },
    {
     "data": {
      "text/html": [
       "4 "
      ],
      "text/plain": [
       "4 "
      ]
     },
     "metadata": {},
     "output_type": "display_data"
    },
    {
     "data": {
      "text/html": [
       "FE "
      ],
      "text/plain": [
       "FE "
      ]
     },
     "metadata": {},
     "output_type": "display_data"
    },
    {
     "data": {
      "text/html": [
       "6D "
      ],
      "text/plain": [
       "6D "
      ]
     },
     "metadata": {},
     "output_type": "display_data"
    },
    {
     "data": {
      "text/html": [
       "3D "
      ],
      "text/plain": [
       "3D "
      ]
     },
     "metadata": {},
     "output_type": "display_data"
    },
    {
     "data": {
      "text/html": [
       "B7 "
      ],
      "text/plain": [
       "B7 "
      ]
     },
     "metadata": {},
     "output_type": "display_data"
    },
    {
     "data": {
      "text/html": [
       "69 "
      ],
      "text/plain": [
       "69 "
      ]
     },
     "metadata": {},
     "output_type": "display_data"
    },
    {
     "data": {
      "text/html": [
       "A7 "
      ],
      "text/plain": [
       "A7 "
      ]
     },
     "metadata": {},
     "output_type": "display_data"
    },
    {
     "data": {
      "text/html": [
       "Initialization Vector2: "
      ],
      "text/plain": [
       "Initialization Vector2: "
      ]
     },
     "metadata": {},
     "output_type": "display_data"
    },
    {
     "data": {
      "text/html": [
       "62 "
      ],
      "text/plain": [
       "62 "
      ]
     },
     "metadata": {},
     "output_type": "display_data"
    },
    {
     "data": {
      "text/html": [
       "90 "
      ],
      "text/plain": [
       "90 "
      ]
     },
     "metadata": {},
     "output_type": "display_data"
    },
    {
     "data": {
      "text/html": [
       "86 "
      ],
      "text/plain": [
       "86 "
      ]
     },
     "metadata": {},
     "output_type": "display_data"
    },
    {
     "data": {
      "text/html": [
       "C3 "
      ],
      "text/plain": [
       "C3 "
      ]
     },
     "metadata": {},
     "output_type": "display_data"
    },
    {
     "data": {
      "text/html": [
       "8A "
      ],
      "text/plain": [
       "8A "
      ]
     },
     "metadata": {},
     "output_type": "display_data"
    },
    {
     "data": {
      "text/html": [
       "33 "
      ],
      "text/plain": [
       "33 "
      ]
     },
     "metadata": {},
     "output_type": "display_data"
    },
    {
     "data": {
      "text/html": [
       "3D "
      ],
      "text/plain": [
       "3D "
      ]
     },
     "metadata": {},
     "output_type": "display_data"
    },
    {
     "data": {
      "text/html": [
       "4C "
      ],
      "text/plain": [
       "4C "
      ]
     },
     "metadata": {},
     "output_type": "display_data"
    },
    {
     "data": {
      "text/html": [
       "76 "
      ],
      "text/plain": [
       "76 "
      ]
     },
     "metadata": {},
     "output_type": "display_data"
    },
    {
     "data": {
      "text/html": [
       "3F "
      ],
      "text/plain": [
       "3F "
      ]
     },
     "metadata": {},
     "output_type": "display_data"
    },
    {
     "data": {
      "text/html": [
       "B2 "
      ],
      "text/plain": [
       "B2 "
      ]
     },
     "metadata": {},
     "output_type": "display_data"
    },
    {
     "data": {
      "text/html": [
       "DC "
      ],
      "text/plain": [
       "DC "
      ]
     },
     "metadata": {},
     "output_type": "display_data"
    },
    {
     "data": {
      "text/html": [
       "AD "
      ],
      "text/plain": [
       "AD "
      ]
     },
     "metadata": {},
     "output_type": "display_data"
    },
    {
     "data": {
      "text/html": [
       "B8 "
      ],
      "text/plain": [
       "B8 "
      ]
     },
     "metadata": {},
     "output_type": "display_data"
    },
    {
     "data": {
      "text/html": [
       "FB "
      ],
      "text/plain": [
       "FB "
      ]
     },
     "metadata": {},
     "output_type": "display_data"
    },
    {
     "data": {
      "text/html": [
       "53 "
      ],
      "text/plain": [
       "53 "
      ]
     },
     "metadata": {},
     "output_type": "display_data"
    },
    {
     "data": {
      "text/html": [
       "Encrypted: "
      ],
      "text/plain": [
       "Encrypted: "
      ]
     },
     "metadata": {},
     "output_type": "display_data"
    },
    {
     "data": {
      "text/html": [
       "F8 "
      ],
      "text/plain": [
       "F8 "
      ]
     },
     "metadata": {},
     "output_type": "display_data"
    },
    {
     "data": {
      "text/html": [
       "2C "
      ],
      "text/plain": [
       "2C "
      ]
     },
     "metadata": {},
     "output_type": "display_data"
    },
    {
     "data": {
      "text/html": [
       "72 "
      ],
      "text/plain": [
       "72 "
      ]
     },
     "metadata": {},
     "output_type": "display_data"
    },
    {
     "data": {
      "text/html": [
       "7A "
      ],
      "text/plain": [
       "7A "
      ]
     },
     "metadata": {},
     "output_type": "display_data"
    },
    {
     "data": {
      "text/html": [
       "66 "
      ],
      "text/plain": [
       "66 "
      ]
     },
     "metadata": {},
     "output_type": "display_data"
    },
    {
     "data": {
      "text/html": [
       "5A "
      ],
      "text/plain": [
       "5A "
      ]
     },
     "metadata": {},
     "output_type": "display_data"
    },
    {
     "data": {
      "text/html": [
       "E7 "
      ],
      "text/plain": [
       "E7 "
      ]
     },
     "metadata": {},
     "output_type": "display_data"
    },
    {
     "data": {
      "text/html": [
       "5 "
      ],
      "text/plain": [
       "5 "
      ]
     },
     "metadata": {},
     "output_type": "display_data"
    },
    {
     "data": {
      "text/html": [
       "99 "
      ],
      "text/plain": [
       "99 "
      ]
     },
     "metadata": {},
     "output_type": "display_data"
    },
    {
     "data": {
      "text/html": [
       "2B "
      ],
      "text/plain": [
       "2B "
      ]
     },
     "metadata": {},
     "output_type": "display_data"
    },
    {
     "data": {
      "text/html": [
       "36 "
      ],
      "text/plain": [
       "36 "
      ]
     },
     "metadata": {},
     "output_type": "display_data"
    },
    {
     "data": {
      "text/html": [
       "37 "
      ],
      "text/plain": [
       "37 "
      ]
     },
     "metadata": {},
     "output_type": "display_data"
    },
    {
     "data": {
      "text/html": [
       "9E "
      ],
      "text/plain": [
       "9E "
      ]
     },
     "metadata": {},
     "output_type": "display_data"
    },
    {
     "data": {
      "text/html": [
       "15 "
      ],
      "text/plain": [
       "15 "
      ]
     },
     "metadata": {},
     "output_type": "display_data"
    },
    {
     "data": {
      "text/html": [
       "CD "
      ],
      "text/plain": [
       "CD "
      ]
     },
     "metadata": {},
     "output_type": "display_data"
    },
    {
     "data": {
      "text/html": [
       "AD "
      ],
      "text/plain": [
       "AD "
      ]
     },
     "metadata": {},
     "output_type": "display_data"
    },
    {
     "data": {
      "text/html": [
       "9F "
      ],
      "text/plain": [
       "9F "
      ]
     },
     "metadata": {},
     "output_type": "display_data"
    },
    {
     "data": {
      "text/html": [
       "15 "
      ],
      "text/plain": [
       "15 "
      ]
     },
     "metadata": {},
     "output_type": "display_data"
    },
    {
     "data": {
      "text/html": [
       "4A "
      ],
      "text/plain": [
       "4A "
      ]
     },
     "metadata": {},
     "output_type": "display_data"
    },
    {
     "data": {
      "text/html": [
       "B3 "
      ],
      "text/plain": [
       "B3 "
      ]
     },
     "metadata": {},
     "output_type": "display_data"
    },
    {
     "data": {
      "text/html": [
       "BF "
      ],
      "text/plain": [
       "BF "
      ]
     },
     "metadata": {},
     "output_type": "display_data"
    },
    {
     "data": {
      "text/html": [
       "57 "
      ],
      "text/plain": [
       "57 "
      ]
     },
     "metadata": {},
     "output_type": "display_data"
    },
    {
     "data": {
      "text/html": [
       "CB "
      ],
      "text/plain": [
       "CB "
      ]
     },
     "metadata": {},
     "output_type": "display_data"
    },
    {
     "data": {
      "text/html": [
       "8B "
      ],
      "text/plain": [
       "8B "
      ]
     },
     "metadata": {},
     "output_type": "display_data"
    },
    {
     "data": {
      "text/html": [
       "47 "
      ],
      "text/plain": [
       "47 "
      ]
     },
     "metadata": {},
     "output_type": "display_data"
    },
    {
     "data": {
      "text/html": [
       "8E "
      ],
      "text/plain": [
       "8E "
      ]
     },
     "metadata": {},
     "output_type": "display_data"
    },
    {
     "data": {
      "text/html": [
       "FF "
      ],
      "text/plain": [
       "FF "
      ]
     },
     "metadata": {},
     "output_type": "display_data"
    },
    {
     "data": {
      "text/html": [
       "2A "
      ],
      "text/plain": [
       "2A "
      ]
     },
     "metadata": {},
     "output_type": "display_data"
    },
    {
     "data": {
      "text/html": [
       "2A "
      ],
      "text/plain": [
       "2A "
      ]
     },
     "metadata": {},
     "output_type": "display_data"
    },
    {
     "data": {
      "text/html": [
       "42 "
      ],
      "text/plain": [
       "42 "
      ]
     },
     "metadata": {},
     "output_type": "display_data"
    },
    {
     "data": {
      "text/html": [
       "90 "
      ],
      "text/plain": [
       "90 "
      ]
     },
     "metadata": {},
     "output_type": "display_data"
    },
    {
     "data": {
      "text/html": [
       "84 "
      ],
      "text/plain": [
       "84 "
      ]
     },
     "metadata": {},
     "output_type": "display_data"
    },
    {
     "data": {
      "text/html": [
       "80 "
      ],
      "text/plain": [
       "80 "
      ]
     },
     "metadata": {},
     "output_type": "display_data"
    },
    {
     "data": {
      "text/html": [
       "1F "
      ],
      "text/plain": [
       "1F "
      ]
     },
     "metadata": {},
     "output_type": "display_data"
    },
    {
     "data": {
      "text/html": [
       "E0 "
      ],
      "text/plain": [
       "E0 "
      ]
     },
     "metadata": {},
     "output_type": "display_data"
    },
    {
     "data": {
      "text/html": [
       "72 "
      ],
      "text/plain": [
       "72 "
      ]
     },
     "metadata": {},
     "output_type": "display_data"
    },
    {
     "data": {
      "text/html": [
       "E5 "
      ],
      "text/plain": [
       "E5 "
      ]
     },
     "metadata": {},
     "output_type": "display_data"
    },
    {
     "data": {
      "text/html": [
       "EB "
      ],
      "text/plain": [
       "EB "
      ]
     },
     "metadata": {},
     "output_type": "display_data"
    },
    {
     "data": {
      "text/html": [
       "F8 "
      ],
      "text/plain": [
       "F8 "
      ]
     },
     "metadata": {},
     "output_type": "display_data"
    },
    {
     "data": {
      "text/html": [
       "95 "
      ],
      "text/plain": [
       "95 "
      ]
     },
     "metadata": {},
     "output_type": "display_data"
    },
    {
     "data": {
      "text/html": [
       "DF "
      ],
      "text/plain": [
       "DF "
      ]
     },
     "metadata": {},
     "output_type": "display_data"
    },
    {
     "data": {
      "text/html": [
       "6D "
      ],
      "text/plain": [
       "6D "
      ]
     },
     "metadata": {},
     "output_type": "display_data"
    },
    {
     "data": {
      "text/html": [
       "FE "
      ],
      "text/plain": [
       "FE "
      ]
     },
     "metadata": {},
     "output_type": "display_data"
    },
    {
     "data": {
      "text/html": [
       "BC "
      ],
      "text/plain": [
       "BC "
      ]
     },
     "metadata": {},
     "output_type": "display_data"
    },
    {
     "data": {
      "text/html": [
       "A6 "
      ],
      "text/plain": [
       "A6 "
      ]
     },
     "metadata": {},
     "output_type": "display_data"
    },
    {
     "data": {
      "text/html": [
       "52 "
      ],
      "text/plain": [
       "52 "
      ]
     },
     "metadata": {},
     "output_type": "display_data"
    },
    {
     "data": {
      "text/html": [
       "2A "
      ],
      "text/plain": [
       "2A "
      ]
     },
     "metadata": {},
     "output_type": "display_data"
    },
    {
     "data": {
      "text/html": [
       "7D "
      ],
      "text/plain": [
       "7D "
      ]
     },
     "metadata": {},
     "output_type": "display_data"
    },
    {
     "data": {
      "text/html": [
       "63 "
      ],
      "text/plain": [
       "63 "
      ]
     },
     "metadata": {},
     "output_type": "display_data"
    },
    {
     "data": {
      "text/html": [
       "3B "
      ],
      "text/plain": [
       "3B "
      ]
     },
     "metadata": {},
     "output_type": "display_data"
    },
    {
     "data": {
      "text/html": [
       "64 "
      ],
      "text/plain": [
       "64 "
      ]
     },
     "metadata": {},
     "output_type": "display_data"
    },
    {
     "data": {
      "text/html": [
       "3 "
      ],
      "text/plain": [
       "3 "
      ]
     },
     "metadata": {},
     "output_type": "display_data"
    },
    {
     "data": {
      "text/html": [
       "29 "
      ],
      "text/plain": [
       "29 "
      ]
     },
     "metadata": {},
     "output_type": "display_data"
    },
    {
     "data": {
      "text/html": [
       "7A "
      ],
      "text/plain": [
       "7A "
      ]
     },
     "metadata": {},
     "output_type": "display_data"
    },
    {
     "data": {
      "text/html": [
       "8B "
      ],
      "text/plain": [
       "8B "
      ]
     },
     "metadata": {},
     "output_type": "display_data"
    },
    {
     "data": {
      "text/html": [
       "EA "
      ],
      "text/plain": [
       "EA "
      ]
     },
     "metadata": {},
     "output_type": "display_data"
    },
    {
     "data": {
      "text/html": [
       "25 "
      ],
      "text/plain": [
       "25 "
      ]
     },
     "metadata": {},
     "output_type": "display_data"
    },
    {
     "data": {
      "text/html": [
       "78 "
      ],
      "text/plain": [
       "78 "
      ]
     },
     "metadata": {},
     "output_type": "display_data"
    },
    {
     "data": {
      "text/html": [
       "53 "
      ],
      "text/plain": [
       "53 "
      ]
     },
     "metadata": {},
     "output_type": "display_data"
    },
    {
     "data": {
      "text/html": [
       "42 "
      ],
      "text/plain": [
       "42 "
      ]
     },
     "metadata": {},
     "output_type": "display_data"
    },
    {
     "data": {
      "text/html": [
       "D4 "
      ],
      "text/plain": [
       "D4 "
      ]
     },
     "metadata": {},
     "output_type": "display_data"
    },
    {
     "data": {
      "text/html": [
       "75 "
      ],
      "text/plain": [
       "75 "
      ]
     },
     "metadata": {},
     "output_type": "display_data"
    },
    {
     "data": {
      "text/html": [
       "B0 "
      ],
      "text/plain": [
       "B0 "
      ]
     },
     "metadata": {},
     "output_type": "display_data"
    },
    {
     "data": {
      "text/html": [
       "D4 "
      ],
      "text/plain": [
       "D4 "
      ]
     },
     "metadata": {},
     "output_type": "display_data"
    },
    {
     "data": {
      "text/html": [
       "Decrypted string: This is my super super secret data"
      ],
      "text/plain": [
       "Decrypted string: This is my super super secret data"
      ]
     },
     "metadata": {},
     "output_type": "display_data"
    }
   ],
   "source": [
    "LISTING_3_24_Encrypt_a_stream.Program.Main(new string[0]);"
   ]
  }
 ],
 "metadata": {
  "kernelspec": {
   "display_name": "C#",
   "language": "csharp",
   "name": "kernel-spec"
  },
  "language_info": {
   "file_extension": ".cs",
   "mimetype": "text/x-csharp",
   "name": "C#",
   "pygments_lexer": "c#",
   "version": "4.0.30319"
  }
 },
 "nbformat": 4,
 "nbformat_minor": 2
}

{
 "cells": [
  {
   "cell_type": "markdown",
   "metadata": {},
   "source": [
    "# Info"
   ]
  },
  {
   "cell_type": "markdown",
   "metadata": {},
   "source": [
    "This example is from\n",
    "* [github.com/ExamRef70-483/Sample-Code](https://github.com/ExamRef70-483/Sample-Code)\n",
    "* [LISTING 3-19 Machine level keys](https://github.com/ExamRef70-483/Sample-Code/blob/master/LISTING%203-19%E2%80%82Machine%20level%20keys/LISTING%203-19%E2%80%82Machine%20level%20keys/Program.cs)\n",
    "\n",
    "\n",
    "## Remember\n",
    "* Main() is not called automatically. Has to be called manual. Remember '**public**'\n",
    "* Console.ReadKey() should not be used.\n"
   ]
  },
  {
   "cell_type": "code",
   "execution_count": null,
   "metadata": {},
   "outputs": [],
   "source": [
    "using System;\n",
    "using System.Security.Cryptography;\n",
    "\n",
    "namespace LISTING_3_19_Machine_level_keys\n",
    "{\n",
    "    class Program\n",
    "    {\n",
    "        static public void Main(string[] args)\n",
    "        {\n",
    "            CspParameters cspParams = new CspParameters();\n",
    "            cspParams.KeyContainerName = \"Machine Level Key\";\n",
    "\n",
    "            // Specify that the key is to be stored in the machine level key store\n",
    "            cspParams.Flags = CspProviderFlags.UseMachineKeyStore;\n",
    "\n",
    "            // Create a crypto service provider\n",
    "            RSACryptoServiceProvider rsa = new RSACryptoServiceProvider(cspParams);\n",
    "\n",
    "            Console.WriteLine(rsa.ToXmlString(includePrivateParameters: false));\n",
    "\n",
    "            // Make sure that it is persisting keys\n",
    "            rsa.PersistKeyInCsp = true;\n",
    "\n",
    "            // Clear the provider to make sure it saves the key\n",
    "            rsa.Clear();\n",
    "\n",
    "            //Console.ReadKey();\n",
    "        }\n",
    "    }\n",
    "}\n"
   ]
  },
  {
   "cell_type": "code",
   "execution_count": null,
   "metadata": {},
   "outputs": [],
   "source": [
    "LISTING_3_19_Machine_level_keys.Program.Main(new string[0]);"
   ]
  }
 ],
 "metadata": {
  "kernelspec": {
   "display_name": "C#",
   "language": "csharp",
   "name": "kernel-spec"
  },
  "language_info": {
   "file_extension": ".cs",
   "mimetype": "text/x-csharp",
   "name": "C#",
   "pygments_lexer": "c#",
   "version": "4.0.30319"
  }
 },
 "nbformat": 4,
 "nbformat_minor": 2
}

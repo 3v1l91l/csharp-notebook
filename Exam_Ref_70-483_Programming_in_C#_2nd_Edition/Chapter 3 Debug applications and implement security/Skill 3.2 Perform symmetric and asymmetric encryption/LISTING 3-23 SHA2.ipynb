{
 "cells": [
  {
   "cell_type": "markdown",
   "metadata": {},
   "source": [
    "# Info"
   ]
  },
  {
   "cell_type": "markdown",
   "metadata": {},
   "source": [
    "This example is from\n",
    "* [github.com/ExamRef70-483/Sample-Code](https://github.com/ExamRef70-483/Sample-Code)\n",
    "* [LISTING 3-23 SHA2](https://github.com/ExamRef70-483/Sample-Code/blob/master/LISTING%203-23%E2%80%82SHA2/LISTING%203-23%E2%80%82SHA2/Program.cs)\n",
    "\n",
    "\n",
    "## Remember\n",
    "* Main() is not called automatically. Has to be called manual. Remember '**public**'\n",
    "* Console.ReadKey() should not be used.\n"
   ]
  },
  {
   "cell_type": "code",
   "execution_count": 1,
   "metadata": {},
   "outputs": [],
   "source": [
    "using System;\n",
    "using System.Security.Cryptography;\n",
    "using System.Text;\n",
    "\n",
    "namespace LISTING_3_23_SHA2\n",
    "{\n",
    "    class Program\n",
    "    {\n",
    "        static byte[] calculateHash(string source)\n",
    "        {\n",
    "            // This will convert our input string into bytes and back\n",
    "            ASCIIEncoding converter = new ASCIIEncoding();\n",
    "\n",
    "            byte[] sourceBytes = converter.GetBytes(source);\n",
    "\n",
    "            HashAlgorithm hasher = SHA256.Create();\n",
    "\n",
    "            byte[] hash = hasher.ComputeHash(sourceBytes);\n",
    "\n",
    "            return hash;\n",
    "        }\n",
    "\n",
    "        static void showHash(string source)\n",
    "        {\n",
    "            Console.Write(\"Hash for {0} is: \", source);\n",
    "\n",
    "            byte[] hash = calculateHash(source);\n",
    "\n",
    "            foreach (byte b in hash)\n",
    "            {\n",
    "                Console.Write(\"{0:X} \", b);\n",
    "            }\n",
    "\n",
    "            Console.WriteLine();\n",
    "        }\n",
    "\n",
    "        static public void Main(string[] args)\n",
    "        {\n",
    "            showHash(\"Hello world\");\n",
    "            showHash(\"world Hello\");\n",
    "            showHash(\"Hemmm world\");\n",
    "\n",
    "            //Console.ReadKey();\n",
    "        }\n",
    "    }\n",
    "}\n"
   ]
  },
  {
   "cell_type": "code",
   "execution_count": 2,
   "metadata": {},
   "outputs": [
    {
     "data": {
      "text/html": [
       "Hash for Hello world is: "
      ],
      "text/plain": [
       "Hash for Hello world is: "
      ]
     },
     "metadata": {},
     "output_type": "display_data"
    },
    {
     "data": {
      "text/html": [
       "64 "
      ],
      "text/plain": [
       "64 "
      ]
     },
     "metadata": {},
     "output_type": "display_data"
    },
    {
     "data": {
      "text/html": [
       "EC "
      ],
      "text/plain": [
       "EC "
      ]
     },
     "metadata": {},
     "output_type": "display_data"
    },
    {
     "data": {
      "text/html": [
       "88 "
      ],
      "text/plain": [
       "88 "
      ]
     },
     "metadata": {},
     "output_type": "display_data"
    },
    {
     "data": {
      "text/html": [
       "CA "
      ],
      "text/plain": [
       "CA "
      ]
     },
     "metadata": {},
     "output_type": "display_data"
    },
    {
     "data": {
      "text/html": [
       "0 "
      ],
      "text/plain": [
       "0 "
      ]
     },
     "metadata": {},
     "output_type": "display_data"
    },
    {
     "data": {
      "text/html": [
       "B2 "
      ],
      "text/plain": [
       "B2 "
      ]
     },
     "metadata": {},
     "output_type": "display_data"
    },
    {
     "data": {
      "text/html": [
       "68 "
      ],
      "text/plain": [
       "68 "
      ]
     },
     "metadata": {},
     "output_type": "display_data"
    },
    {
     "data": {
      "text/html": [
       "E5 "
      ],
      "text/plain": [
       "E5 "
      ]
     },
     "metadata": {},
     "output_type": "display_data"
    },
    {
     "data": {
      "text/html": [
       "BA "
      ],
      "text/plain": [
       "BA "
      ]
     },
     "metadata": {},
     "output_type": "display_data"
    },
    {
     "data": {
      "text/html": [
       "1A "
      ],
      "text/plain": [
       "1A "
      ]
     },
     "metadata": {},
     "output_type": "display_data"
    },
    {
     "data": {
      "text/html": [
       "35 "
      ],
      "text/plain": [
       "35 "
      ]
     },
     "metadata": {},
     "output_type": "display_data"
    },
    {
     "data": {
      "text/html": [
       "67 "
      ],
      "text/plain": [
       "67 "
      ]
     },
     "metadata": {},
     "output_type": "display_data"
    },
    {
     "data": {
      "text/html": [
       "8A "
      ],
      "text/plain": [
       "8A "
      ]
     },
     "metadata": {},
     "output_type": "display_data"
    },
    {
     "data": {
      "text/html": [
       "1B "
      ],
      "text/plain": [
       "1B "
      ]
     },
     "metadata": {},
     "output_type": "display_data"
    },
    {
     "data": {
      "text/html": [
       "53 "
      ],
      "text/plain": [
       "53 "
      ]
     },
     "metadata": {},
     "output_type": "display_data"
    },
    {
     "data": {
      "text/html": [
       "16 "
      ],
      "text/plain": [
       "16 "
      ]
     },
     "metadata": {},
     "output_type": "display_data"
    },
    {
     "data": {
      "text/html": [
       "D2 "
      ],
      "text/plain": [
       "D2 "
      ]
     },
     "metadata": {},
     "output_type": "display_data"
    },
    {
     "data": {
      "text/html": [
       "12 "
      ],
      "text/plain": [
       "12 "
      ]
     },
     "metadata": {},
     "output_type": "display_data"
    },
    {
     "data": {
      "text/html": [
       "F4 "
      ],
      "text/plain": [
       "F4 "
      ]
     },
     "metadata": {},
     "output_type": "display_data"
    },
    {
     "data": {
      "text/html": [
       "F3 "
      ],
      "text/plain": [
       "F3 "
      ]
     },
     "metadata": {},
     "output_type": "display_data"
    },
    {
     "data": {
      "text/html": [
       "66 "
      ],
      "text/plain": [
       "66 "
      ]
     },
     "metadata": {},
     "output_type": "display_data"
    },
    {
     "data": {
      "text/html": [
       "B2 "
      ],
      "text/plain": [
       "B2 "
      ]
     },
     "metadata": {},
     "output_type": "display_data"
    },
    {
     "data": {
      "text/html": [
       "47 "
      ],
      "text/plain": [
       "47 "
      ]
     },
     "metadata": {},
     "output_type": "display_data"
    },
    {
     "data": {
      "text/html": [
       "72 "
      ],
      "text/plain": [
       "72 "
      ]
     },
     "metadata": {},
     "output_type": "display_data"
    },
    {
     "data": {
      "text/html": [
       "32 "
      ],
      "text/plain": [
       "32 "
      ]
     },
     "metadata": {},
     "output_type": "display_data"
    },
    {
     "data": {
      "text/html": [
       "53 "
      ],
      "text/plain": [
       "53 "
      ]
     },
     "metadata": {},
     "output_type": "display_data"
    },
    {
     "data": {
      "text/html": [
       "4A "
      ],
      "text/plain": [
       "4A "
      ]
     },
     "metadata": {},
     "output_type": "display_data"
    },
    {
     "data": {
      "text/html": [
       "8A "
      ],
      "text/plain": [
       "8A "
      ]
     },
     "metadata": {},
     "output_type": "display_data"
    },
    {
     "data": {
      "text/html": [
       "EC "
      ],
      "text/plain": [
       "EC "
      ]
     },
     "metadata": {},
     "output_type": "display_data"
    },
    {
     "data": {
      "text/html": [
       "A3 "
      ],
      "text/plain": [
       "A3 "
      ]
     },
     "metadata": {},
     "output_type": "display_data"
    },
    {
     "data": {
      "text/html": [
       "7F "
      ],
      "text/plain": [
       "7F "
      ]
     },
     "metadata": {},
     "output_type": "display_data"
    },
    {
     "data": {
      "text/html": [
       "3C "
      ],
      "text/plain": [
       "3C "
      ]
     },
     "metadata": {},
     "output_type": "display_data"
    },
    {
     "data": {
      "text/html": [
       "Hash for world Hello is: "
      ],
      "text/plain": [
       "Hash for world Hello is: "
      ]
     },
     "metadata": {},
     "output_type": "display_data"
    },
    {
     "data": {
      "text/html": [
       "E9 "
      ],
      "text/plain": [
       "E9 "
      ]
     },
     "metadata": {},
     "output_type": "display_data"
    },
    {
     "data": {
      "text/html": [
       "70 "
      ],
      "text/plain": [
       "70 "
      ]
     },
     "metadata": {},
     "output_type": "display_data"
    },
    {
     "data": {
      "text/html": [
       "A "
      ],
      "text/plain": [
       "A "
      ]
     },
     "metadata": {},
     "output_type": "display_data"
    },
    {
     "data": {
      "text/html": [
       "EE "
      ],
      "text/plain": [
       "EE "
      ]
     },
     "metadata": {},
     "output_type": "display_data"
    },
    {
     "data": {
      "text/html": [
       "E8 "
      ],
      "text/plain": [
       "E8 "
      ]
     },
     "metadata": {},
     "output_type": "display_data"
    },
    {
     "data": {
      "text/html": [
       "36 "
      ],
      "text/plain": [
       "36 "
      ]
     },
     "metadata": {},
     "output_type": "display_data"
    },
    {
     "data": {
      "text/html": [
       "FD "
      ],
      "text/plain": [
       "FD "
      ]
     },
     "metadata": {},
     "output_type": "display_data"
    },
    {
     "data": {
      "text/html": [
       "A3 "
      ],
      "text/plain": [
       "A3 "
      ]
     },
     "metadata": {},
     "output_type": "display_data"
    },
    {
     "data": {
      "text/html": [
       "6 "
      ],
      "text/plain": [
       "6 "
      ]
     },
     "metadata": {},
     "output_type": "display_data"
    },
    {
     "data": {
      "text/html": [
       "9D "
      ],
      "text/plain": [
       "9D "
      ]
     },
     "metadata": {},
     "output_type": "display_data"
    },
    {
     "data": {
      "text/html": [
       "A4 "
      ],
      "text/plain": [
       "A4 "
      ]
     },
     "metadata": {},
     "output_type": "display_data"
    },
    {
     "data": {
      "text/html": [
       "D1 "
      ],
      "text/plain": [
       "D1 "
      ]
     },
     "metadata": {},
     "output_type": "display_data"
    },
    {
     "data": {
      "text/html": [
       "E1 "
      ],
      "text/plain": [
       "E1 "
      ]
     },
     "metadata": {},
     "output_type": "display_data"
    },
    {
     "data": {
      "text/html": [
       "6D "
      ],
      "text/plain": [
       "6D "
      ]
     },
     "metadata": {},
     "output_type": "display_data"
    },
    {
     "data": {
      "text/html": [
       "1B "
      ],
      "text/plain": [
       "1B "
      ]
     },
     "metadata": {},
     "output_type": "display_data"
    },
    {
     "data": {
      "text/html": [
       "4C "
      ],
      "text/plain": [
       "4C "
      ]
     },
     "metadata": {},
     "output_type": "display_data"
    },
    {
     "data": {
      "text/html": [
       "3C "
      ],
      "text/plain": [
       "3C "
      ]
     },
     "metadata": {},
     "output_type": "display_data"
    },
    {
     "data": {
      "text/html": [
       "60 "
      ],
      "text/plain": [
       "60 "
      ]
     },
     "metadata": {},
     "output_type": "display_data"
    },
    {
     "data": {
      "text/html": [
       "D0 "
      ],
      "text/plain": [
       "D0 "
      ]
     },
     "metadata": {},
     "output_type": "display_data"
    },
    {
     "data": {
      "text/html": [
       "55 "
      ],
      "text/plain": [
       "55 "
      ]
     },
     "metadata": {},
     "output_type": "display_data"
    },
    {
     "data": {
      "text/html": [
       "C4 "
      ],
      "text/plain": [
       "C4 "
      ]
     },
     "metadata": {},
     "output_type": "display_data"
    },
    {
     "data": {
      "text/html": [
       "A2 "
      ],
      "text/plain": [
       "A2 "
      ]
     },
     "metadata": {},
     "output_type": "display_data"
    },
    {
     "data": {
      "text/html": [
       "E6 "
      ],
      "text/plain": [
       "E6 "
      ]
     },
     "metadata": {},
     "output_type": "display_data"
    },
    {
     "data": {
      "text/html": [
       "8D "
      ],
      "text/plain": [
       "8D "
      ]
     },
     "metadata": {},
     "output_type": "display_data"
    },
    {
     "data": {
      "text/html": [
       "DF "
      ],
      "text/plain": [
       "DF "
      ]
     },
     "metadata": {},
     "output_type": "display_data"
    },
    {
     "data": {
      "text/html": [
       "6A "
      ],
      "text/plain": [
       "6A "
      ]
     },
     "metadata": {},
     "output_type": "display_data"
    },
    {
     "data": {
      "text/html": [
       "C9 "
      ],
      "text/plain": [
       "C9 "
      ]
     },
     "metadata": {},
     "output_type": "display_data"
    },
    {
     "data": {
      "text/html": [
       "A9 "
      ],
      "text/plain": [
       "A9 "
      ]
     },
     "metadata": {},
     "output_type": "display_data"
    },
    {
     "data": {
      "text/html": [
       "D0 "
      ],
      "text/plain": [
       "D0 "
      ]
     },
     "metadata": {},
     "output_type": "display_data"
    },
    {
     "data": {
      "text/html": [
       "D6 "
      ],
      "text/plain": [
       "D6 "
      ]
     },
     "metadata": {},
     "output_type": "display_data"
    },
    {
     "data": {
      "text/html": [
       "71 "
      ],
      "text/plain": [
       "71 "
      ]
     },
     "metadata": {},
     "output_type": "display_data"
    },
    {
     "data": {
      "text/html": [
       "B2 "
      ],
      "text/plain": [
       "B2 "
      ]
     },
     "metadata": {},
     "output_type": "display_data"
    },
    {
     "data": {
      "text/html": [
       "Hash for Hemmm world is: "
      ],
      "text/plain": [
       "Hash for Hemmm world is: "
      ]
     },
     "metadata": {},
     "output_type": "display_data"
    },
    {
     "data": {
      "text/html": [
       "A1 "
      ],
      "text/plain": [
       "A1 "
      ]
     },
     "metadata": {},
     "output_type": "display_data"
    },
    {
     "data": {
      "text/html": [
       "FB "
      ],
      "text/plain": [
       "FB "
      ]
     },
     "metadata": {},
     "output_type": "display_data"
    },
    {
     "data": {
      "text/html": [
       "33 "
      ],
      "text/plain": [
       "33 "
      ]
     },
     "metadata": {},
     "output_type": "display_data"
    },
    {
     "data": {
      "text/html": [
       "49 "
      ],
      "text/plain": [
       "49 "
      ]
     },
     "metadata": {},
     "output_type": "display_data"
    },
    {
     "data": {
      "text/html": [
       "44 "
      ],
      "text/plain": [
       "44 "
      ]
     },
     "metadata": {},
     "output_type": "display_data"
    },
    {
     "data": {
      "text/html": [
       "B "
      ],
      "text/plain": [
       "B "
      ]
     },
     "metadata": {},
     "output_type": "display_data"
    },
    {
     "data": {
      "text/html": [
       "34 "
      ],
      "text/plain": [
       "34 "
      ]
     },
     "metadata": {},
     "output_type": "display_data"
    },
    {
     "data": {
      "text/html": [
       "28 "
      ],
      "text/plain": [
       "28 "
      ]
     },
     "metadata": {},
     "output_type": "display_data"
    },
    {
     "data": {
      "text/html": [
       "A4 "
      ],
      "text/plain": [
       "A4 "
      ]
     },
     "metadata": {},
     "output_type": "display_data"
    },
    {
     "data": {
      "text/html": [
       "44 "
      ],
      "text/plain": [
       "44 "
      ]
     },
     "metadata": {},
     "output_type": "display_data"
    },
    {
     "data": {
      "text/html": [
       "32 "
      ],
      "text/plain": [
       "32 "
      ]
     },
     "metadata": {},
     "output_type": "display_data"
    },
    {
     "data": {
      "text/html": [
       "72 "
      ],
      "text/plain": [
       "72 "
      ]
     },
     "metadata": {},
     "output_type": "display_data"
    },
    {
     "data": {
      "text/html": [
       "A5 "
      ],
      "text/plain": [
       "A5 "
      ]
     },
     "metadata": {},
     "output_type": "display_data"
    },
    {
     "data": {
      "text/html": [
       "2B "
      ],
      "text/plain": [
       "2B "
      ]
     },
     "metadata": {},
     "output_type": "display_data"
    },
    {
     "data": {
      "text/html": [
       "8D "
      ],
      "text/plain": [
       "8D "
      ]
     },
     "metadata": {},
     "output_type": "display_data"
    },
    {
     "data": {
      "text/html": [
       "87 "
      ],
      "text/plain": [
       "87 "
      ]
     },
     "metadata": {},
     "output_type": "display_data"
    },
    {
     "data": {
      "text/html": [
       "63 "
      ],
      "text/plain": [
       "63 "
      ]
     },
     "metadata": {},
     "output_type": "display_data"
    },
    {
     "data": {
      "text/html": [
       "54 "
      ],
      "text/plain": [
       "54 "
      ]
     },
     "metadata": {},
     "output_type": "display_data"
    },
    {
     "data": {
      "text/html": [
       "10 "
      ],
      "text/plain": [
       "10 "
      ]
     },
     "metadata": {},
     "output_type": "display_data"
    },
    {
     "data": {
      "text/html": [
       "92 "
      ],
      "text/plain": [
       "92 "
      ]
     },
     "metadata": {},
     "output_type": "display_data"
    },
    {
     "data": {
      "text/html": [
       "DE "
      ],
      "text/plain": [
       "DE "
      ]
     },
     "metadata": {},
     "output_type": "display_data"
    },
    {
     "data": {
      "text/html": [
       "D6 "
      ],
      "text/plain": [
       "D6 "
      ]
     },
     "metadata": {},
     "output_type": "display_data"
    },
    {
     "data": {
      "text/html": [
       "EA "
      ],
      "text/plain": [
       "EA "
      ]
     },
     "metadata": {},
     "output_type": "display_data"
    },
    {
     "data": {
      "text/html": [
       "28 "
      ],
      "text/plain": [
       "28 "
      ]
     },
     "metadata": {},
     "output_type": "display_data"
    },
    {
     "data": {
      "text/html": [
       "4C "
      ],
      "text/plain": [
       "4C "
      ]
     },
     "metadata": {},
     "output_type": "display_data"
    },
    {
     "data": {
      "text/html": [
       "A9 "
      ],
      "text/plain": [
       "A9 "
      ]
     },
     "metadata": {},
     "output_type": "display_data"
    },
    {
     "data": {
      "text/html": [
       "78 "
      ],
      "text/plain": [
       "78 "
      ]
     },
     "metadata": {},
     "output_type": "display_data"
    },
    {
     "data": {
      "text/html": [
       "48 "
      ],
      "text/plain": [
       "48 "
      ]
     },
     "metadata": {},
     "output_type": "display_data"
    },
    {
     "data": {
      "text/html": [
       "4E "
      ],
      "text/plain": [
       "4E "
      ]
     },
     "metadata": {},
     "output_type": "display_data"
    },
    {
     "data": {
      "text/html": [
       "5E "
      ],
      "text/plain": [
       "5E "
      ]
     },
     "metadata": {},
     "output_type": "display_data"
    },
    {
     "data": {
      "text/html": [
       "D9 "
      ],
      "text/plain": [
       "D9 "
      ]
     },
     "metadata": {},
     "output_type": "display_data"
    },
    {
     "data": {
      "text/html": [
       "86 "
      ],
      "text/plain": [
       "86 "
      ]
     },
     "metadata": {},
     "output_type": "display_data"
    }
   ],
   "source": [
    "LISTING_3_23_SHA2.Program.Main(new string[0]);"
   ]
  }
 ],
 "metadata": {
  "kernelspec": {
   "display_name": "C#",
   "language": "csharp",
   "name": "kernel-spec"
  },
  "language_info": {
   "file_extension": ".cs",
   "mimetype": "text/x-csharp",
   "name": "C#",
   "pygments_lexer": "c#",
   "version": "4.0.30319"
  }
 },
 "nbformat": 4,
 "nbformat_minor": 2
}

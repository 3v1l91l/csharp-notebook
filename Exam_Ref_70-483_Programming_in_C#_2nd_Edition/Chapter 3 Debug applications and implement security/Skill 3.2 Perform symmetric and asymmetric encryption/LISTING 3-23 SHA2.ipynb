{
 "cells": [
  {
   "cell_type": "markdown",
   "metadata": {},
   "source": [
    "# Info"
   ]
  },
  {
   "cell_type": "markdown",
   "metadata": {},
   "source": [
    "This example is from\n",
    "* [github.com/ExamRef70-483/Sample-Code](https://github.com/ExamRef70-483/Sample-Code)\n",
    "* [LISTING 3-23 SHA2](https://github.com/ExamRef70-483/Sample-Code/blob/master/LISTING%203-23%E2%80%82SHA2/LISTING%203-23%E2%80%82SHA2/Program.cs)\n",
    "\n",
    "\n",
    "## Remember\n",
    "* Main() is not called automatically. Has to be called manual. Remember '**public**'\n",
    "* Console.ReadKey() should not be used.\n"
   ]
  },
  {
   "cell_type": "code",
   "execution_count": null,
   "metadata": {},
   "outputs": [],
   "source": [
    "using System;\n",
    "using System.Security.Cryptography;\n",
    "using System.Text;\n",
    "\n",
    "namespace LISTING_3_23_SHA2\n",
    "{\n",
    "    class Program\n",
    "    {\n",
    "        static byte[] calculateHash(string source)\n",
    "        {\n",
    "            // This will convert our input string into bytes and back\n",
    "            ASCIIEncoding converter = new ASCIIEncoding();\n",
    "\n",
    "            byte[] sourceBytes = converter.GetBytes(source);\n",
    "\n",
    "            HashAlgorithm hasher = SHA256.Create();\n",
    "\n",
    "            byte[] hash = hasher.ComputeHash(sourceBytes);\n",
    "\n",
    "            return hash;\n",
    "        }\n",
    "\n",
    "        static void showHash(string source)\n",
    "        {\n",
    "            Console.Write(\"Hash for {0} is: \", source);\n",
    "\n",
    "            byte[] hash = calculateHash(source);\n",
    "\n",
    "            foreach (byte b in hash)\n",
    "            {\n",
    "                Console.Write(\"{0:X} \", b);\n",
    "            }\n",
    "\n",
    "            Console.WriteLine();\n",
    "        }\n",
    "\n",
    "        static public void Main(string[] args)\n",
    "        {\n",
    "            showHash(\"Hello world\");\n",
    "            showHash(\"world Hello\");\n",
    "            showHash(\"Hemmm world\");\n",
    "\n",
    "            //Console.ReadKey();\n",
    "        }\n",
    "    }\n",
    "}\n"
   ]
  },
  {
   "cell_type": "code",
   "execution_count": null,
   "metadata": {},
   "outputs": [],
   "source": [
    "LISTING_3_23_SHA2.Program.Main(new string[0]);"
   ]
  }
 ],
 "metadata": {
  "kernelspec": {
   "display_name": "C#",
   "language": "csharp",
   "name": "kernel-spec"
  },
  "language_info": {
   "file_extension": ".cs",
   "mimetype": "text/x-csharp",
   "name": "C#",
   "pygments_lexer": "c#",
   "version": "4.0.30319"
  }
 },
 "nbformat": 4,
 "nbformat_minor": 2
}

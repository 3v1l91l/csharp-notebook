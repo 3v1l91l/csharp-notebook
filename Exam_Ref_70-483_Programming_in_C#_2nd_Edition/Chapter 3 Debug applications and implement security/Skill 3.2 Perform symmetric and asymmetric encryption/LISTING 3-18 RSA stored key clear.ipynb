{
 "cells": [
  {
   "cell_type": "markdown",
   "metadata": {},
   "source": [
    "# Info"
   ]
  },
  {
   "cell_type": "markdown",
   "metadata": {},
   "source": [
    "This example is from\n",
    "* [github.com/ExamRef70-483/Sample-Code](https://github.com/ExamRef70-483/Sample-Code)\n",
    "* [LISTING 3-18 RSA stored key clear](https://github.com/ExamRef70-483/Sample-Code/blob/master/LISTING%203-18%E2%80%82RSA%20stored%20key%20clear/LISTING%203-18%E2%80%82RSA%20stored%20key%20clear/Program.cs)\n",
    "\n",
    "\n",
    "## Remember\n",
    "* Main() is not called automatically. Has to be called manual. Remember '**public**'\n",
    "* Console.ReadKey() should not be used.\n"
   ]
  },
  {
   "cell_type": "code",
   "execution_count": 1,
   "metadata": {},
   "outputs": [],
   "source": [
    "using System;\n",
    "using System.Security.Cryptography;\n",
    "\n",
    "namespace LISTING_3_18_RSA_stored_key_clear\n",
    "{\n",
    "    class Program\n",
    "    {\n",
    "        static public void Main(string[] args)\n",
    "        {\n",
    "            string containerName = \"KeyStore\";\n",
    "\n",
    "            CspParameters csp = new CspParameters();\n",
    "            csp.KeyContainerName = containerName;\n",
    "            // Create a new RSA to encrypt the data\n",
    "            RSACryptoServiceProvider rsaStore = new RSACryptoServiceProvider(csp);\n",
    "            Console.WriteLine(\"Stored keys: {0}\", rsaStore.ToXmlString(includePrivateParameters: false));\n",
    "\n",
    "            rsaStore.PersistKeyInCsp = false;\n",
    "            rsaStore.Clear();\n",
    "\n",
    "            RSACryptoServiceProvider rsaLoad = new RSACryptoServiceProvider(csp);\n",
    "            Console.WriteLine(\"Loaded keys: {0}\", rsaLoad.ToXmlString(includePrivateParameters: false));\n",
    "            //Console.ReadKey();\n",
    "        }\n",
    "    }\n",
    "}\n"
   ]
  },
  {
   "cell_type": "code",
   "execution_count": 2,
   "metadata": {},
   "outputs": [
    {
     "data": {
      "text/html": [
       "Stored keys: &lt;RSAKeyValue&gt;&lt;Modulus&gt;sIXXeNzls3a8xqxIZr1zHBJ8HDFUUvDQbyfycid0fbhUF/CkmDGgiOrtEpz8quQW47ifHwE279ANNWx7qlWiu+woXxvRX3oxTdKxEhHjRqq1BntMlaIMJiMhAfElPVK2uYeAiWahIm/yUhViJq61MCvd06ymVnEz9+Y6hgH1eNc=&lt;/Modulus&gt;&lt;Exponent&gt;AQAB&lt;/Exponent&gt;&lt;/RSAKeyValue&gt;"
      ],
      "text/plain": [
       "Stored keys: <RSAKeyValue><Modulus>sIXXeNzls3a8xqxIZr1zHBJ8HDFUUvDQbyfycid0fbhUF/CkmDGgiOrtEpz8quQW47ifHwE279ANNWx7qlWiu+woXxvRX3oxTdKxEhHjRqq1BntMlaIMJiMhAfElPVK2uYeAiWahIm/yUhViJq61MCvd06ymVnEz9+Y6hgH1eNc=</Modulus><Exponent>AQAB</Exponent></RSAKeyValue>"
      ]
     },
     "metadata": {},
     "output_type": "display_data"
    },
    {
     "data": {
      "text/html": [
       "Loaded keys: &lt;RSAKeyValue&gt;&lt;Modulus&gt;jIkwSjGyJoH0rdTRtlEFe3dw2/yDQXM2UmI/H7/OmJUtvDZ6TNjSoXl7Giip1Fk6sWdVK5SPR2yDfNRTQ6VV5n23VLL2/bjG64uUK8RoXVaVDSXY9cDZbFYpipxxX3/tihZuV/TFzFslvsc3xu13+Xq5FArYwaUAf2LabPq9UoU=&lt;/Modulus&gt;&lt;Exponent&gt;AQAB&lt;/Exponent&gt;&lt;/RSAKeyValue&gt;"
      ],
      "text/plain": [
       "Loaded keys: <RSAKeyValue><Modulus>jIkwSjGyJoH0rdTRtlEFe3dw2/yDQXM2UmI/H7/OmJUtvDZ6TNjSoXl7Giip1Fk6sWdVK5SPR2yDfNRTQ6VV5n23VLL2/bjG64uUK8RoXVaVDSXY9cDZbFYpipxxX3/tihZuV/TFzFslvsc3xu13+Xq5FArYwaUAf2LabPq9UoU=</Modulus><Exponent>AQAB</Exponent></RSAKeyValue>"
      ]
     },
     "metadata": {},
     "output_type": "display_data"
    }
   ],
   "source": [
    "LISTING_3_18_RSA_stored_key_clear.Program.Main(new string[0]);"
   ]
  }
 ],
 "metadata": {
  "kernelspec": {
   "display_name": "C#",
   "language": "csharp",
   "name": "kernel-spec"
  },
  "language_info": {
   "file_extension": ".cs",
   "mimetype": "text/x-csharp",
   "name": "C#",
   "pygments_lexer": "c#",
   "version": "4.0.30319"
  }
 },
 "nbformat": 4,
 "nbformat_minor": 2
}

{
 "cells": [
  {
   "cell_type": "markdown",
   "metadata": {},
   "source": [
    "# Info"
   ]
  },
  {
   "cell_type": "markdown",
   "metadata": {},
   "source": [
    "This example is from\n",
    "* [github.com/ExamRef70-483/Sample-Code](https://github.com/ExamRef70-483/Sample-Code)\n",
    "* [LISTING 3-16 RSA encryption](https://github.com/ExamRef70-483/Sample-Code/blob/master/LISTING%203-16%E2%80%82RSA%20encryption/LISTING%203-16%E2%80%82RSA%20encryption/Program.cs)\n",
    "\n",
    "\n",
    "## Remember\n",
    "* Main() is not called automatically. Has to be called manual. Remember '**public**'\n",
    "* Console.ReadKey() should not be used.\n"
   ]
  },
  {
   "cell_type": "code",
   "execution_count": null,
   "metadata": {},
   "outputs": [],
   "source": [
    "using System;\n",
    "using System.Security.Cryptography;\n",
    "using System.Text;\n",
    "\n",
    "namespace LISTING_3_16_RSA_encryption\n",
    "{\n",
    "    class Program\n",
    "    {\n",
    "        static void dumpBytes(string title, byte[] bytes)\n",
    "        {\n",
    "            Console.Write(title);\n",
    "            foreach (byte b in bytes)\n",
    "            {\n",
    "                Console.Write(\"{0:X} \", b);\n",
    "            }\n",
    "            Console.WriteLine();\n",
    "        }\n",
    "\n",
    "        static public void Main(string[] args)\n",
    "        {\n",
    "            string plainText = \"This is my super secret data\";\n",
    "            Console.WriteLine(\"Plain text: {0}\", plainText);\n",
    "\n",
    "            // RSA works on byte arrays, not strings of text\n",
    "            // This will convert our input string into bytes and back\n",
    "            ASCIIEncoding converter = new ASCIIEncoding();\n",
    "\n",
    "            // Convert the plain text into a byte array\n",
    "            byte[] plainBytes = converter.GetBytes(plainText);\n",
    "\n",
    "            dumpBytes(\"Plain bytes: \", plainBytes);\n",
    "\n",
    "            byte[] encryptedBytes;\n",
    "            byte[] decryptedBytes;\n",
    "\n",
    "            // Create a new RSA to encrypt the data\n",
    "            RSACryptoServiceProvider rsaEncrypt = new RSACryptoServiceProvider();\n",
    "\n",
    "            // get the keys out of the encryptor\n",
    "            string publicKey = rsaEncrypt.ToXmlString(includePrivateParameters: false);\n",
    "            Console.WriteLine(\"Public key: {0}\", publicKey);\n",
    "            string privateKey = rsaEncrypt.ToXmlString(includePrivateParameters: true);\n",
    "            Console.WriteLine(\"Private key: {0}\", privateKey);\n",
    "\n",
    "            // Now tell the encyryptor to use the public key to encrypt the data\n",
    "            rsaEncrypt.FromXmlString(privateKey);\n",
    "\n",
    "            // Use the encryptor to encrypt the data. The fOAEP parameter\n",
    "            // specfies how the output is \"padded\" with extra bytes\n",
    "            // For maximum compatibility with receiving systems, set this as\n",
    "            // false\n",
    "            encryptedBytes = rsaEncrypt.Encrypt(plainBytes, fOAEP:false);\n",
    "\n",
    "            dumpBytes(\"Encrypted bytes: \", encryptedBytes);\n",
    "\n",
    "            // Now do the decode - use the private key for this\n",
    "            // We have sent someone our public key and they\n",
    "            // have used this to encrypt data that they are sending to us\n",
    "\n",
    "            // Create a new RSA to decrypt the data\n",
    "            RSACryptoServiceProvider rsaDecrypt = new RSACryptoServiceProvider();\n",
    "\n",
    "            // Configure the decryptor from the XML in the private key\n",
    "            rsaDecrypt.FromXmlString(privateKey);\n",
    "\n",
    "            decryptedBytes = rsaDecrypt.Decrypt(encryptedBytes, fOAEP: false);\n",
    "\n",
    "            dumpBytes(\"Decrypted bytes: \", decryptedBytes);\n",
    "            Console.WriteLine(\"Decrypted string: {0}\", converter.GetString(decryptedBytes));\n",
    "\n",
    "            //Console.ReadKey();\n",
    "        }\n",
    "    }\n",
    "}\n"
   ]
  },
  {
   "cell_type": "code",
   "execution_count": null,
   "metadata": {},
   "outputs": [],
   "source": [
    "LISTING_3_16_RSA_encryption.Program.Main(new string[0]);"
   ]
  }
 ],
 "metadata": {
  "kernelspec": {
   "display_name": "C#",
   "language": "csharp",
   "name": "kernel-spec"
  },
  "language_info": {
   "file_extension": ".cs",
   "mimetype": "text/x-csharp",
   "name": "C#",
   "pygments_lexer": "c#",
   "version": "4.0.30319"
  }
 },
 "nbformat": 4,
 "nbformat_minor": 2
}

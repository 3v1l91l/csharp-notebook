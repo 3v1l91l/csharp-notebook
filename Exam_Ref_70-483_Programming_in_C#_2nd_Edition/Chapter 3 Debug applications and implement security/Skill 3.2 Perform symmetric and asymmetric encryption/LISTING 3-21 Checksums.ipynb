{
 "cells": [
  {
   "cell_type": "markdown",
   "metadata": {},
   "source": [
    "# Info"
   ]
  },
  {
   "cell_type": "markdown",
   "metadata": {},
   "source": [
    "This example is from\n",
    "* [github.com/ExamRef70-483/Sample-Code](https://github.com/ExamRef70-483/Sample-Code)\n",
    "* [LISTING 3-21 Checksums](https://github.com/ExamRef70-483/Sample-Code/blob/master/LISTING%203-21%E2%80%82Checksums/LISTING%203-21%E2%80%82Checksums/Program.cs)\n",
    "\n",
    "\n",
    "## Remember\n",
    "* Main() is not called automatically. Has to be called manual. Remember '**public**'\n",
    "* Console.ReadKey() should not be used.\n"
   ]
  },
  {
   "cell_type": "code",
   "execution_count": 1,
   "metadata": {},
   "outputs": [],
   "source": [
    "using System;\n",
    "\n",
    "namespace LISTING_3_21_Checksums\n",
    "{\n",
    "    class Program\n",
    "    {\n",
    "        static int calculateChecksum(string source)\n",
    "        {\n",
    "            int total = 0;\n",
    "            foreach (char ch in source)\n",
    "                total = total + (int)ch;\n",
    "            return total;\n",
    "        }\n",
    "\n",
    "        static void showChecksum(string source)\n",
    "        {\n",
    "            Console.WriteLine(\"Checksum for {0} is {1}\",\n",
    "                source, calculateChecksum(source));\n",
    "        }\n",
    "\n",
    "        static public void Main(string[] args)\n",
    "        {\n",
    "            showChecksum(\"Hello world\");\n",
    "            showChecksum(\"world Hello\");\n",
    "            showChecksum(\"Hemmm world\");\n",
    "\n",
    "            //Console.ReadKey();\n",
    "        }\n",
    "    }\n",
    "}\n"
   ]
  },
  {
   "cell_type": "code",
   "execution_count": 2,
   "metadata": {},
   "outputs": [
    {
     "data": {
      "text/html": [
       "Checksum for Hello world is 1084"
      ],
      "text/plain": [
       "Checksum for Hello world is 1084"
      ]
     },
     "metadata": {},
     "output_type": "display_data"
    },
    {
     "data": {
      "text/html": [
       "Checksum for world Hello is 1084"
      ],
      "text/plain": [
       "Checksum for world Hello is 1084"
      ]
     },
     "metadata": {},
     "output_type": "display_data"
    },
    {
     "data": {
      "text/html": [
       "Checksum for Hemmm world is 1084"
      ],
      "text/plain": [
       "Checksum for Hemmm world is 1084"
      ]
     },
     "metadata": {},
     "output_type": "display_data"
    }
   ],
   "source": [
    "LISTING_3_21_Checksums.Program.Main(new string[0]);"
   ]
  }
 ],
 "metadata": {
  "kernelspec": {
   "display_name": "C#",
   "language": "csharp",
   "name": "kernel-spec"
  },
  "language_info": {
   "file_extension": ".cs",
   "mimetype": "text/x-csharp",
   "name": "C#",
   "pygments_lexer": "c#",
   "version": "4.0.30319"
  }
 },
 "nbformat": 4,
 "nbformat_minor": 2
}

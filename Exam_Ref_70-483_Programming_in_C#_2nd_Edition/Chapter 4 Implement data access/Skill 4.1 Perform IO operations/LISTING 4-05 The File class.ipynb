{
 "cells": [
  {
   "cell_type": "markdown",
   "metadata": {},
   "source": [
    "# Info"
   ]
  },
  {
   "cell_type": "markdown",
   "metadata": {},
   "source": [
    "This example is from\n",
    "* [github.com/ExamRef70-483/Sample-Code](https://github.com/ExamRef70-483/Sample-Code)\n",
    "* [LISTING 4-5 The File class](https://github.com/ExamRef70-483/Sample-Code/blob/master/LISTING%204-5%E2%80%82The%20File%20class/LISTING%204-5%E2%80%82The%20File%20class/Program.cs)\n",
    "\n",
    "\n",
    "## Remember\n",
    "* Main() is not called automatically. Has to be called manual. Remember '**public**'\n",
    "* Console.ReadKey() should not be used.\n"
   ]
  },
  {
   "cell_type": "code",
   "execution_count": 1,
   "metadata": {},
   "outputs": [],
   "source": [
    "using System;\n",
    "using System.IO;\n",
    "\n",
    "namespace LISTING_4_5_The_File_class\n",
    "{\n",
    "    class Program\n",
    "    {\n",
    "        static public void Main(string[] args)\n",
    "        {\n",
    "            File.WriteAllText(path: \"TextFile.txt\", contents: \"This text goes in the file\");\n",
    "\n",
    "            File.AppendAllText(path: \"TextFile.txt\", contents: \" - This goes on the end\");\n",
    "\n",
    "            if (File.Exists(\"TextFile.txt\"))\n",
    "                Console.WriteLine(\"Text File exists\");\n",
    "\n",
    "            string contents = File.ReadAllText(path: \"TextFile.txt\");\n",
    "            Console.WriteLine(\"File contents: {0}\", contents);\n",
    "\n",
    "            if (File.Exists(\"CopyTextFile.txt\"))\n",
    "                File.Delete(\"CopyTextFile.txt\");\n",
    "\n",
    "            File.Copy(sourceFileName: \"TextFile.txt\", destFileName: \"CopyTextFile.txt\");\n",
    "\n",
    "            using (TextReader reader = File.OpenText(path: \"CopyTextFile.txt\"))\n",
    "            {\n",
    "                string text = reader.ReadToEnd();\n",
    "                Console.WriteLine(\"Copied text: {0}\", text);\n",
    "            }\n",
    "\n",
    "            //Console.ReadKey();\n",
    "        }\n",
    "    }\n",
    "}\n"
   ]
  },
  {
   "cell_type": "code",
   "execution_count": 2,
   "metadata": {},
   "outputs": [
    {
     "data": {
      "text/html": [
       "Text File exists"
      ],
      "text/plain": [
       "Text File exists"
      ]
     },
     "metadata": {},
     "output_type": "display_data"
    },
    {
     "data": {
      "text/html": [
       "File contents: This text goes in the file - This goes on the end"
      ],
      "text/plain": [
       "File contents: This text goes in the file - This goes on the end"
      ]
     },
     "metadata": {},
     "output_type": "display_data"
    },
    {
     "data": {
      "text/html": [
       "Copied text: This text goes in the file - This goes on the end"
      ],
      "text/plain": [
       "Copied text: This text goes in the file - This goes on the end"
      ]
     },
     "metadata": {},
     "output_type": "display_data"
    }
   ],
   "source": [
    "LISTING_4_5_The_File_class.Program.Main(new string[0]);"
   ]
  }
 ],
 "metadata": {
  "kernelspec": {
   "display_name": "C#",
   "language": "csharp",
   "name": "kernel-spec"
  },
  "language_info": {
   "file_extension": ".cs",
   "mimetype": "text/x-csharp",
   "name": "C#",
   "pygments_lexer": "c#",
   "version": "4.0.30319"
  }
 },
 "nbformat": 4,
 "nbformat_minor": 2
}

{
 "cells": [
  {
   "cell_type": "markdown",
   "metadata": {},
   "source": [
    "# Info"
   ]
  },
  {
   "cell_type": "markdown",
   "metadata": {},
   "source": [
    "This example is from\n",
    "* [github.com/ExamRef70-483/Sample-Code](https://github.com/ExamRef70-483/Sample-Code)\n",
    "* [LISTING 4-1 Using a FileStream](https://github.com/ExamRef70-483/Sample-Code/blob/master/LISTING%204-1%E2%80%82Using%20a%20FileStream/LISTING%204-1%E2%80%82Using%20a%20FileStream/Program.cs)\n",
    "\n",
    "\n",
    "## Remember\n",
    "* Main() is not called automatically. Has to be called manual. Remember '**public**'\n",
    "* Console.ReadKey() should not be used.\n"
   ]
  },
  {
   "cell_type": "code",
   "execution_count": 1,
   "metadata": {},
   "outputs": [
    {
     "data": {
      "text/html": [
       "(19,47): error CS0584: Internal compiler error: The method or operation is not implemented."
      ],
      "text/plain": [
       "(19,47): error CS0584: Internal compiler error: The method or operation is not implemented."
      ]
     },
     "metadata": {},
     "output_type": "display_data"
    }
   ],
   "source": [
    "using System;\n",
    "using System.IO;\n",
    "using System.Text;\n",
    "\n",
    "namespace LISTING_4_1_Using_a_FileStream\n",
    "{\n",
    "    class Program\n",
    "    {\n",
    "        static public void Main(string[] args)\n",
    "        {\n",
    "            // Writing to a file\n",
    "            FileStream outputStream = new FileStream(\"OutputText.txt\", FileMode.OpenOrCreate, FileAccess.Write);\n",
    "            string outputMessageString = \"Hello world\";\n",
    "            byte[] outputMessageBytes = Encoding.UTF8.GetBytes(outputMessageString);\n",
    "            outputStream.Write(outputMessageBytes, 0, outputMessageBytes.Length);\n",
    "            outputStream.Close();\n",
    "\n",
    "            FileStream inputStream = new FileStream(\"OutputText.txt\", FileMode.Open, FileAccess.Read);\n",
    "            long fileLength = inputStream.Length;\n",
    "            byte[] readBytes = new byte[fileLength];\n",
    "            inputStream.Read(readBytes, 0, (int)fileLength);\n",
    "            inputStream.Close();\n",
    "            string readString = Encoding.UTF8.GetString(readBytes);\n",
    "            Console.WriteLine(\"Read message: {0}\", readString);\n",
    "            //Console.ReadKey();\n",
    "        }\n",
    "    }\n",
    "}\n"
   ]
  },
  {
   "cell_type": "code",
   "execution_count": 2,
   "metadata": {},
   "outputs": [],
   "source": [
    "LISTING_4_1_Using_a_FileStream.Program.Main(new string[0]);"
   ]
  }
 ],
 "metadata": {
  "kernelspec": {
   "display_name": "C#",
   "language": "csharp",
   "name": "kernel-spec"
  },
  "language_info": {
   "file_extension": ".cs",
   "mimetype": "text/x-csharp",
   "name": "C#",
   "pygments_lexer": "c#",
   "version": "4.0.30319"
  }
 },
 "nbformat": 4,
 "nbformat_minor": 2
}

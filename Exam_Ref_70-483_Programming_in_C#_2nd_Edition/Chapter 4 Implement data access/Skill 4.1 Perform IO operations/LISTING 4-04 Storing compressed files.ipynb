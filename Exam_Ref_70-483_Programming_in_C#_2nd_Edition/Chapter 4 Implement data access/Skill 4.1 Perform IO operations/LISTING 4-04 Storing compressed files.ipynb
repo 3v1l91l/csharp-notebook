{
 "cells": [
  {
   "cell_type": "markdown",
   "metadata": {},
   "source": [
    "# Info"
   ]
  },
  {
   "cell_type": "markdown",
   "metadata": {},
   "source": [
    "This example is from\n",
    "* [github.com/ExamRef70-483/Sample-Code](https://github.com/ExamRef70-483/Sample-Code)\n",
    "* [LISTING 4-4 Storing compressed files](https://github.com/ExamRef70-483/Sample-Code/blob/master/LISTING%204-4%E2%80%82Storing%20compressed%20files/LISTING%204-4%E2%80%82Storing%20compressed%20files/Program.cs)\n",
    "\n",
    "\n",
    "## Remember\n",
    "* Main() is not called automatically. Has to be called manual. Remember '**public**'\n",
    "* Console.ReadKey() should not be used.\n"
   ]
  },
  {
   "cell_type": "code",
   "execution_count": 1,
   "metadata": {},
   "outputs": [],
   "source": [
    "using System;\n",
    "using System.IO;\n",
    "using System.IO.Compression;\n",
    "\n",
    "namespace LISTING_4_4_Storing_compressed_files\n",
    "{\n",
    "    class Program\n",
    "    {\n",
    "        static public void Main(string[] args)\n",
    "        {\n",
    "            using (FileStream writeFile = new FileStream(\"CompText.zip\", FileMode.OpenOrCreate, FileAccess.Write))\n",
    "            {\n",
    "                using (GZipStream writeFileZip = new GZipStream(writeFile, CompressionMode.Compress))\n",
    "                {\n",
    "                    using (StreamWriter writeFileText = new StreamWriter(writeFileZip))\n",
    "                    {\n",
    "                        writeFileText.Write(\"Hello world\");\n",
    "                    }\n",
    "                }\n",
    "            }\n",
    "\n",
    "            using (FileStream readFile = new FileStream(\"CompText.zip\", FileMode.Open, FileAccess.Read))\n",
    "            {\n",
    "                using (GZipStream readFileZip = new GZipStream(readFile, CompressionMode.Decompress))\n",
    "                {\n",
    "                    using (StreamReader readFileText = new StreamReader(readFileZip))\n",
    "                    {\n",
    "                        string message = readFileText.ReadToEnd();\n",
    "                        Console.WriteLine(\"Read text: {0}\", message);\n",
    "                    }\n",
    "                }\n",
    "            }\n",
    "\n",
    "            //Console.ReadKey();\n",
    "        }\n",
    "    }\n",
    "}\n"
   ]
  },
  {
   "cell_type": "code",
   "execution_count": 2,
   "metadata": {},
   "outputs": [
    {
     "data": {
      "text/html": [
       "Read text: Hello world"
      ],
      "text/plain": [
       "Read text: Hello world"
      ]
     },
     "metadata": {},
     "output_type": "display_data"
    }
   ],
   "source": [
    "LISTING_4_4_Storing_compressed_files.Program.Main(new string[0]);"
   ]
  }
 ],
 "metadata": {
  "kernelspec": {
   "display_name": "C#",
   "language": "csharp",
   "name": "kernel-spec"
  },
  "language_info": {
   "file_extension": ".cs",
   "mimetype": "text/x-csharp",
   "name": "C#",
   "pygments_lexer": "c#",
   "version": "4.0.30319"
  }
 },
 "nbformat": 4,
 "nbformat_minor": 2
}

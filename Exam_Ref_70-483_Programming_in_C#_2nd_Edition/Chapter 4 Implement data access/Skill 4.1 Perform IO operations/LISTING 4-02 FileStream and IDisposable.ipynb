{
 "cells": [
  {
   "cell_type": "markdown",
   "metadata": {},
   "source": [
    "# Info"
   ]
  },
  {
   "cell_type": "markdown",
   "metadata": {},
   "source": [
    "This example is from\n",
    "* [github.com/ExamRef70-483/Sample-Code](https://github.com/ExamRef70-483/Sample-Code)\n",
    "* [LISTING 4-2 FileStream and IDisposable](https://github.com/ExamRef70-483/Sample-Code/blob/master/LISTING%204-2%E2%80%82FileStream%20and%20IDisposable/LISTING%204-2%E2%80%82FileStream%20and%20IDisposable/Program.cs)\n",
    "\n",
    "\n",
    "## Remember\n",
    "* Main() is not called automatically. Has to be called manual. Remember '**public**'\n",
    "* Console.ReadKey() should not be used.\n"
   ]
  },
  {
   "cell_type": "code",
   "execution_count": 1,
   "metadata": {},
   "outputs": [],
   "source": [
    "using System;\n",
    "using System.IO;\n",
    "using System.Text;\n",
    "\n",
    "namespace LISTING_4_2_FileStream_and_IDisposable\n",
    "{\n",
    "    class Program\n",
    "    {\n",
    "        static public void Main(string[] args)\n",
    "        {\n",
    "            using (FileStream outputStream = new FileStream(\"OutputText.txt\", FileMode.OpenOrCreate, FileAccess.Write))\n",
    "            {\n",
    "                string outputMessageString = \"Hello world\";\n",
    "                byte[] outputMessageBytes = Encoding.UTF8.GetBytes(outputMessageString);\n",
    "                outputStream.Write(outputMessageBytes, 0, outputMessageBytes.Length);\n",
    "            }\n",
    "        }\n",
    "    }\n",
    "}\n"
   ]
  },
  {
   "cell_type": "code",
   "execution_count": 2,
   "metadata": {},
   "outputs": [],
   "source": [
    "LISTING_4_2_FileStream_and_IDisposable.Program.Main(new string[0]);"
   ]
  }
 ],
 "metadata": {
  "kernelspec": {
   "display_name": "C#",
   "language": "csharp",
   "name": "kernel-spec"
  },
  "language_info": {
   "file_extension": ".cs",
   "mimetype": "text/x-csharp",
   "name": "C#",
   "pygments_lexer": "c#",
   "version": "4.0.30319"
  }
 },
 "nbformat": 4,
 "nbformat_minor": 2
}

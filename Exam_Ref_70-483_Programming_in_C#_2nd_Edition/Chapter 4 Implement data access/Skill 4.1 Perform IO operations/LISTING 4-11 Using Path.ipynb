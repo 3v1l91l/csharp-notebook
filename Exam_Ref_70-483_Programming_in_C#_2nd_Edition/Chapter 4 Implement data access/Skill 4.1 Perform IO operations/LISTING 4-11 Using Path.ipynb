{
 "cells": [
  {
   "cell_type": "markdown",
   "metadata": {},
   "source": [
    "# Info"
   ]
  },
  {
   "cell_type": "markdown",
   "metadata": {},
   "source": [
    "This example is from\n",
    "* [github.com/ExamRef70-483/Sample-Code](https://github.com/ExamRef70-483/Sample-Code)\n",
    "* [LISTING 4-11 Using Path](https://github.com/ExamRef70-483/Sample-Code/blob/master/LISTING%204-11%20Using%20Path/LISTING%204-11%20Using%20Path/Program.cs)\n",
    "\n",
    "\n",
    "## Remember\n",
    "* Main() is not called automatically. Has to be called manual. Remember '**public**'\n",
    "* Console.ReadKey() should not be used.\n"
   ]
  },
  {
   "cell_type": "code",
   "execution_count": 1,
   "metadata": {},
   "outputs": [
    {
     "data": {
      "text/html": [
       "(11,36): error CS0584: Internal compiler error: The method or operation is not implemented."
      ],
      "text/plain": [
       "(11,36): error CS0584: Internal compiler error: The method or operation is not implemented."
      ]
     },
     "metadata": {},
     "output_type": "display_data"
    }
   ],
   "source": [
    "using System;\n",
    "using System.IO;\n",
    "\n",
    "namespace LISTING_4_11_Using_Path\n",
    "{\n",
    "    class Program\n",
    "    {\n",
    "        static public void Main(string[] args)\n",
    "        {\n",
    "\n",
    "            string fullName = @\"c:\\users\\rob\\Documents\\test.txt\";\n",
    "\n",
    "            string dirName = Path.GetDirectoryName(fullName);\n",
    "            string fileName = Path.GetFileName(fullName);\n",
    "            string fileExtension = Path.GetExtension(fullName);\n",
    "            string lisName = Path.ChangeExtension(fullName, \".lis\");\n",
    "            string newTest = Path.Combine(dirName, \"newtest.txt\");\n",
    "\n",
    "            Console.WriteLine(\"Full name: {0}\", fullName);\n",
    "            Console.WriteLine(\"File directory: {0}\", dirName);\n",
    "            Console.WriteLine(\"File name: {0}\", fileName);\n",
    "            Console.WriteLine(\"File extension: {0}\", fileExtension);\n",
    "            Console.WriteLine(\"File with lis extension: {0}\", lisName);\n",
    "            Console.WriteLine(\"New test: {0}\", newTest);\n",
    "\n",
    "            //Console.ReadKey();\n",
    "\n",
    "        }\n",
    "    }\n",
    "}\n"
   ]
  },
  {
   "cell_type": "code",
   "execution_count": 2,
   "metadata": {},
   "outputs": [],
   "source": [
    "LISTING_4_11_Using_Path.Program.Main(new string[0]);"
   ]
  }
 ],
 "metadata": {
  "kernelspec": {
   "display_name": "C#",
   "language": "csharp",
   "name": "kernel-spec"
  },
  "language_info": {
   "file_extension": ".cs",
   "mimetype": "text/x-csharp",
   "name": "C#",
   "pygments_lexer": "c#",
   "version": "4.0.30319"
  }
 },
 "nbformat": 4,
 "nbformat_minor": 2
}

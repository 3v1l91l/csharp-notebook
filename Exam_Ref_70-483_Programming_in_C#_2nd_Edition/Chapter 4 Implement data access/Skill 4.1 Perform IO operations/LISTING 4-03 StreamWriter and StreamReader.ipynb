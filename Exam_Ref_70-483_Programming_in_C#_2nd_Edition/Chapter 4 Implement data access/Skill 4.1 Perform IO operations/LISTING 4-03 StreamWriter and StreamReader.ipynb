{
 "cells": [
  {
   "cell_type": "markdown",
   "metadata": {},
   "source": [
    "# Info"
   ]
  },
  {
   "cell_type": "markdown",
   "metadata": {},
   "source": [
    "This example is from\n",
    "* [github.com/ExamRef70-483/Sample-Code](https://github.com/ExamRef70-483/Sample-Code)\n",
    "* [LISTING 4-3 StreamWriter and StreamReader](https://github.com/ExamRef70-483/Sample-Code/blob/master/LISTING%204-3%E2%80%82StreamWriter%20and%20StreamReader/LISTING%204-3%E2%80%82StreamWriter%20and%20StreamReader/Program.cs)\n",
    "\n",
    "\n",
    "## Remember\n",
    "* Main() is not called automatically. Has to be called manual. Remember '**public**'\n",
    "* Console.ReadKey() should not be used.\n"
   ]
  },
  {
   "cell_type": "code",
   "execution_count": 1,
   "metadata": {},
   "outputs": [],
   "source": [
    "using System;\n",
    "using System.IO;\n",
    "\n",
    "namespace LISTING_4_3_StreamWriter_and_StreamReader\n",
    "{\n",
    "    class Program\n",
    "    {\n",
    "        static public void Main(string[] args)\n",
    "        {\n",
    "            using (StreamWriter writeStream = new StreamWriter(\"OutputText.txt\"))\n",
    "            {\n",
    "                writeStream.Write(\"Hello world\");\n",
    "            }\n",
    "\n",
    "            using (StreamReader readStream = new StreamReader(\"OutputText.txt\"))\n",
    "            {\n",
    "                string readSTring = readStream.ReadToEnd();\n",
    "                Console.WriteLine(\"Text read: {0}\", readSTring);\n",
    "            }\n",
    "\n",
    "            //Console.ReadKey();\n",
    "        }\n",
    "    }\n",
    "}\n"
   ]
  },
  {
   "cell_type": "code",
   "execution_count": 2,
   "metadata": {},
   "outputs": [
    {
     "data": {
      "text/html": [
       "Text read: Hello world"
      ],
      "text/plain": [
       "Text read: Hello world"
      ]
     },
     "metadata": {},
     "output_type": "display_data"
    }
   ],
   "source": [
    "LISTING_4_3_StreamWriter_and_StreamReader.Program.Main(new string[0]);"
   ]
  }
 ],
 "metadata": {
  "kernelspec": {
   "display_name": "C#",
   "language": "csharp",
   "name": "kernel-spec"
  },
  "language_info": {
   "file_extension": ".cs",
   "mimetype": "text/x-csharp",
   "name": "C#",
   "pygments_lexer": "c#",
   "version": "4.0.30319"
  }
 },
 "nbformat": 4,
 "nbformat_minor": 2
}

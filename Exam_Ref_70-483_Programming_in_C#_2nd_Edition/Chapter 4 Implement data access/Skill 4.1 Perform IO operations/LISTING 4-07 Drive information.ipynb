{
 "cells": [
  {
   "cell_type": "markdown",
   "metadata": {},
   "source": [
    "# Info"
   ]
  },
  {
   "cell_type": "markdown",
   "metadata": {},
   "source": [
    "This example is from\n",
    "* [github.com/ExamRef70-483/Sample-Code](https://github.com/ExamRef70-483/Sample-Code)\n",
    "* [LISTING 4-7 Drive information](https://github.com/ExamRef70-483/Sample-Code/blob/master/LISTING%204-7%E2%80%82Drive%20information/LISTING%204-7%E2%80%82Drive%20information/Program.cs)\n",
    "\n",
    "\n",
    "## Remember\n",
    "* Main() is not called automatically. Has to be called manual. Remember '**public**'\n",
    "* Console.ReadKey() should not be used.\n"
   ]
  },
  {
   "cell_type": "code",
   "execution_count": null,
   "metadata": {},
   "outputs": [],
   "source": [
    "using System;\n",
    "using System.IO;\n",
    "\n",
    "namespace LISTING_4_7_Drive_information\n",
    "{\n",
    "    class Program\n",
    "    {\n",
    "        static public void Main(string[] args)\n",
    "        {\n",
    "            DriveInfo[] drives = DriveInfo.GetDrives();\n",
    "            foreach (DriveInfo drive in drives)\n",
    "            {\n",
    "                Console.Write(\"Name:{0} \", drive.Name);\n",
    "                if (drive.IsReady)\n",
    "                {\n",
    "                    Console.Write(\"  Type:{0}\", drive.DriveType);\n",
    "                    Console.Write(\"  Format:{0}\", drive.DriveFormat);\n",
    "                    Console.Write(\"  Free space:{0}\", drive.TotalFreeSpace);\n",
    "                }\n",
    "                else\n",
    "                {\n",
    "                    Console.Write(\"  Drive not ready\");\n",
    "                }\n",
    "                Console.WriteLine();\n",
    "            }\n",
    "            //Console.ReadKey();\n",
    "        }\n",
    "    }\n",
    "}\n"
   ]
  },
  {
   "cell_type": "code",
   "execution_count": null,
   "metadata": {},
   "outputs": [],
   "source": [
    "LISTING_4_7_Drive_information.Program.Main(new string[0]);"
   ]
  }
 ],
 "metadata": {
  "kernelspec": {
   "display_name": "C#",
   "language": "csharp",
   "name": "kernel-spec"
  },
  "language_info": {
   "file_extension": ".cs",
   "mimetype": "text/x-csharp",
   "name": "C#",
   "pygments_lexer": "c#",
   "version": "4.0.30319"
  }
 },
 "nbformat": 4,
 "nbformat_minor": 2
}

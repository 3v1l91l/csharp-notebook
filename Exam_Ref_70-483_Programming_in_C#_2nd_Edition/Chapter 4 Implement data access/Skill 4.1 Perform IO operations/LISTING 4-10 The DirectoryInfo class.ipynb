{
 "cells": [
  {
   "cell_type": "markdown",
   "metadata": {},
   "source": [
    "# Info"
   ]
  },
  {
   "cell_type": "markdown",
   "metadata": {},
   "source": [
    "This example is from\n",
    "* [github.com/ExamRef70-483/Sample-Code](https://github.com/ExamRef70-483/Sample-Code)\n",
    "* [LISTING 4-10 The DirectoryInfo class](https://github.com/ExamRef70-483/Sample-Code/blob/master/LISTING%204-10%E2%80%82The%20DirectoryInfo%20class/LISTING%204-10%E2%80%82The%20DirectoryInfo%20class/Program.cs)\n",
    "\n",
    "\n",
    "## Remember\n",
    "* Main() is not called automatically. Has to be called manual. Remember '**public**'\n",
    "* Console.ReadKey() should not be used.\n"
   ]
  },
  {
   "cell_type": "code",
   "execution_count": null,
   "metadata": {},
   "outputs": [],
   "source": [
    "using System;\n",
    "using System.IO;\n",
    "\n",
    "\n",
    "namespace LISTING_4_10_The_DirectoryInfo_class\n",
    "{\n",
    "    class Program\n",
    "    {\n",
    "        static public void Main(string[] args)\n",
    "        {\n",
    "            DirectoryInfo localDir = new DirectoryInfo(\"TestDir\");\n",
    "\n",
    "            localDir.Create();\n",
    "\n",
    "            if (localDir.Exists)\n",
    "                Console.WriteLine(\"Directory created successfully\");\n",
    "\n",
    "            localDir.Delete();\n",
    "\n",
    "            Console.WriteLine(\"Directory deleted successfully\");\n",
    "\n",
    "            //Console.ReadKey();\n",
    "        }\n",
    "    }\n",
    "}\n"
   ]
  },
  {
   "cell_type": "code",
   "execution_count": null,
   "metadata": {},
   "outputs": [],
   "source": [
    "LISTING_4_10_The_DirectoryInfo_class.Program.Main(new string[0]);"
   ]
  }
 ],
 "metadata": {
  "kernelspec": {
   "display_name": "C#",
   "language": "csharp",
   "name": "kernel-spec"
  },
  "language_info": {
   "file_extension": ".cs",
   "mimetype": "text/x-csharp",
   "name": "C#",
   "pygments_lexer": "c#",
   "version": "4.0.30319"
  }
 },
 "nbformat": 4,
 "nbformat_minor": 2
}

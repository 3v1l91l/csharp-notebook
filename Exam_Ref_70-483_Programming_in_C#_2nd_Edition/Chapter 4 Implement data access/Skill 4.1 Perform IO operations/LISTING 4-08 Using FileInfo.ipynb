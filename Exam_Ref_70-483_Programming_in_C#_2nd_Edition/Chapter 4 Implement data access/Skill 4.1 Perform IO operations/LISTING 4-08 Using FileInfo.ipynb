{
 "cells": [
  {
   "cell_type": "markdown",
   "metadata": {},
   "source": [
    "# Info"
   ]
  },
  {
   "cell_type": "markdown",
   "metadata": {},
   "source": [
    "This example is from\n",
    "* [github.com/ExamRef70-483/Sample-Code](https://github.com/ExamRef70-483/Sample-Code)\n",
    "* [LISTING 4-8 Using FileInfo](https://github.com/ExamRef70-483/Sample-Code/blob/master/LISTING%204-8%E2%80%82Using%20FileInfo/LISTING%204-8%E2%80%82Using%20FileInfo/Program.cs)\n",
    "\n",
    "\n",
    "## Remember\n",
    "* Main() is not called automatically. Has to be called manual. Remember '**public**'\n",
    "* Console.ReadKey() should not be used.\n"
   ]
  },
  {
   "cell_type": "code",
   "execution_count": 1,
   "metadata": {},
   "outputs": [],
   "source": [
    "using System;\n",
    "using System.Collections.Generic;\n",
    "using System.IO;\n",
    "using System.Linq;\n",
    "using System.Text;\n",
    "using System.Threading.Tasks;\n",
    "\n",
    "namespace LISTING_4_8_Using_FileInfo\n",
    "{\n",
    "    class Program\n",
    "    {\n",
    "        static public void Main(string[] args)\n",
    "        {\n",
    "            string filePath = \"TextFile.txt\";\n",
    "\n",
    "            File.WriteAllText(path: filePath, contents: \"This text goes in the file\");\n",
    "            FileInfo info = new FileInfo(filePath);\n",
    "            Console.WriteLine(\"Name: {0}\", info.Name);\n",
    "            Console.WriteLine(\"Full Path: {0}\", info.FullName);\n",
    "            Console.WriteLine(\"Last Access: {0}\", info.LastAccessTime);\n",
    "            Console.WriteLine(\"Length: {0}\", info.Length);\n",
    "            Console.WriteLine(\"Attributes: {0}\", info.Attributes);\n",
    "\n",
    "            Console.WriteLine(\"Make the file read only\");\n",
    "            info.Attributes |= FileAttributes.ReadOnly;\n",
    "            Console.WriteLine(\"Attributes: {0}\", info.Attributes);\n",
    "\n",
    "            Console.WriteLine(\"Remove the read only attribute\");\n",
    "            info.Attributes &= ~FileAttributes.ReadOnly;\n",
    "            Console.WriteLine(\"Attributes: {0}\", info.Attributes);\n",
    "\n",
    "            Console.WriteLine(\"Make the file archive\");\n",
    "            info.Attributes |= FileAttributes.Archive;\n",
    "            Console.WriteLine(\"Attributes: {0}\", info.Attributes);\n",
    "\n",
    "            Console.WriteLine(\"Remove the archive  attribute\");\n",
    "            info.Attributes &= ~FileAttributes.Archive;\n",
    "            Console.WriteLine(\"Attributes: {0}\", info.Attributes);\n",
    "\n",
    "            Console.WriteLine(\"Make the file hidden\");\n",
    "            info.Attributes |= FileAttributes.Hidden;\n",
    "            Console.WriteLine(\"Attributes: {0}\", info.Attributes);\n",
    "\n",
    "            Console.WriteLine(\"Remove the hidden  attribute\");\n",
    "            info.Attributes &= ~FileAttributes.Hidden;\n",
    "            Console.WriteLine(\"Attributes: {0}\", info.Attributes);\n",
    "\n",
    "            //Console.ReadKey();\n",
    "        }\n",
    "    }\n",
    "}\n"
   ]
  },
  {
   "cell_type": "code",
   "execution_count": 2,
   "metadata": {},
   "outputs": [
    {
     "data": {
      "text/html": [
       "Name: TextFile.txt"
      ],
      "text/plain": [
       "Name: TextFile.txt"
      ]
     },
     "metadata": {},
     "output_type": "display_data"
    },
    {
     "data": {
      "text/html": [
       "Full Path: /home/jovyan/work/dev/TextFile.txt"
      ],
      "text/plain": [
       "Full Path: /home/jovyan/work/dev/TextFile.txt"
      ]
     },
     "metadata": {},
     "output_type": "display_data"
    },
    {
     "data": {
      "text/html": [
       "Last Access: 12/28/2018 1:37:45 PM"
      ],
      "text/plain": [
       "Last Access: 12/28/2018 1:37:45 PM"
      ]
     },
     "metadata": {},
     "output_type": "display_data"
    },
    {
     "data": {
      "text/html": [
       "Length: 26"
      ],
      "text/plain": [
       "Length: 26"
      ]
     },
     "metadata": {},
     "output_type": "display_data"
    },
    {
     "data": {
      "text/html": [
       "Attributes: Normal"
      ],
      "text/plain": [
       "Attributes: Normal"
      ]
     },
     "metadata": {},
     "output_type": "display_data"
    },
    {
     "data": {
      "text/html": [
       "Make the file read only"
      ],
      "text/plain": [
       "Make the file read only"
      ]
     },
     "metadata": {},
     "output_type": "display_data"
    },
    {
     "data": {
      "text/html": [
       "Attributes: Normal"
      ],
      "text/plain": [
       "Attributes: Normal"
      ]
     },
     "metadata": {},
     "output_type": "display_data"
    },
    {
     "data": {
      "text/html": [
       "Remove the read only attribute"
      ],
      "text/plain": [
       "Remove the read only attribute"
      ]
     },
     "metadata": {},
     "output_type": "display_data"
    },
    {
     "data": {
      "text/html": [
       "Attributes: Normal"
      ],
      "text/plain": [
       "Attributes: Normal"
      ]
     },
     "metadata": {},
     "output_type": "display_data"
    },
    {
     "data": {
      "text/html": [
       "Make the file archive"
      ],
      "text/plain": [
       "Make the file archive"
      ]
     },
     "metadata": {},
     "output_type": "display_data"
    },
    {
     "data": {
      "text/html": [
       "Attributes: Normal"
      ],
      "text/plain": [
       "Attributes: Normal"
      ]
     },
     "metadata": {},
     "output_type": "display_data"
    },
    {
     "data": {
      "text/html": [
       "Remove the archive  attribute"
      ],
      "text/plain": [
       "Remove the archive  attribute"
      ]
     },
     "metadata": {},
     "output_type": "display_data"
    },
    {
     "data": {
      "text/html": [
       "Attributes: Normal"
      ],
      "text/plain": [
       "Attributes: Normal"
      ]
     },
     "metadata": {},
     "output_type": "display_data"
    },
    {
     "data": {
      "text/html": [
       "Make the file hidden"
      ],
      "text/plain": [
       "Make the file hidden"
      ]
     },
     "metadata": {},
     "output_type": "display_data"
    },
    {
     "data": {
      "text/html": [
       "Attributes: Normal"
      ],
      "text/plain": [
       "Attributes: Normal"
      ]
     },
     "metadata": {},
     "output_type": "display_data"
    },
    {
     "data": {
      "text/html": [
       "Remove the hidden  attribute"
      ],
      "text/plain": [
       "Remove the hidden  attribute"
      ]
     },
     "metadata": {},
     "output_type": "display_data"
    },
    {
     "data": {
      "text/html": [
       "Attributes: Normal"
      ],
      "text/plain": [
       "Attributes: Normal"
      ]
     },
     "metadata": {},
     "output_type": "display_data"
    }
   ],
   "source": [
    "LISTING_4_8_Using_FileInfo.Program.Main(new string[0]);"
   ]
  }
 ],
 "metadata": {
  "kernelspec": {
   "display_name": "C#",
   "language": "csharp",
   "name": "kernel-spec"
  },
  "language_info": {
   "file_extension": ".cs",
   "mimetype": "text/x-csharp",
   "name": "C#",
   "pygments_lexer": "c#",
   "version": "4.0.30319"
  }
 },
 "nbformat": 4,
 "nbformat_minor": 2
}

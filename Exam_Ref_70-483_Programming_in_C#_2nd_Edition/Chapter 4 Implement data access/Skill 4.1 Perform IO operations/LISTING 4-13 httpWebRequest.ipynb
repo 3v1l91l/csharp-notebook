{
 "cells": [
  {
   "cell_type": "markdown",
   "metadata": {},
   "source": [
    "# Info"
   ]
  },
  {
   "cell_type": "markdown",
   "metadata": {},
   "source": [
    "This example is from\n",
    "* [github.com/ExamRef70-483/Sample-Code](https://github.com/ExamRef70-483/Sample-Code)\n",
    "* [LISTING 4-13 httpWebRequest](https://github.com/ExamRef70-483/Sample-Code/blob/master/LISTING%204-13%E2%80%82httpWebRequest/LISTING%204-13%E2%80%82httpWebRequest/Program.cs)\n",
    "\n",
    "\n",
    "## Remember\n",
    "* Main() is not called automatically. Has to be called manual. Remember '**public**'\n",
    "* Console.ReadKey() should not be used.\n"
   ]
  },
  {
   "cell_type": "code",
   "execution_count": 1,
   "metadata": {},
   "outputs": [],
   "source": [
    "using System;\n",
    "using System.IO;\n",
    "using System.Net;\n",
    "\n",
    "namespace LISTING_4_13_httpWebRequest\n",
    "{\n",
    "    class Program\n",
    "    {\n",
    "        static public void Main(string[] args)\n",
    "        {\n",
    "            WebRequest webRequest = WebRequest.Create(\"http://www.microsoft.com\");\n",
    "            WebResponse webResponse = webRequest.GetResponse();\n",
    "\n",
    "            using (StreamReader responseReader = new StreamReader(webResponse.GetResponseStream()))\n",
    "            {\n",
    "                string siteText = responseReader.ReadToEnd();\n",
    "                Console.WriteLine(siteText);\n",
    "            }\n",
    "\n",
    "            //Console.ReadKey();\n",
    "        }\n",
    "    }\n",
    "}\n"
   ]
  },
  {
   "cell_type": "code",
   "execution_count": 2,
   "metadata": {},
   "outputs": [
    {
     "data": {
      "text/html": [
       "&lt;html&gt;&lt;head&gt;&lt;title&gt;Microsoft Corporation&lt;/title&gt;&lt;meta http-equiv=&quot;X-UA-Compatible&quot; content=&quot;IE=EmulateIE7&quot;&gt;&lt;/meta&gt;&lt;meta http-equiv=&quot;Content-Type&quot; content=&quot;text/html; charset=utf-8&quot;&gt;&lt;/meta&gt;&lt;meta name=&quot;SearchTitle&quot; content=&quot;Microsoft.com&quot; scheme=&quot;&quot;&gt;&lt;/meta&gt;&lt;meta name=&quot;Description&quot; content=&quot;Get product information, support, and news from Microsoft.&quot; scheme=&quot;&quot;&gt;&lt;/meta&gt;&lt;meta name=&quot;Title&quot; content=&quot;Microsoft.com Home Page&quot; scheme=&quot;&quot;&gt;&lt;/meta&gt;&lt;meta name=&quot;Keywords&quot; content=&quot;Microsoft, product, support, help, training, Office, Windows, software, download, trial, preview, demo,  business, security, update, free, computer, PC, server, search, download, install, news&quot; scheme=&quot;&quot;&gt;&lt;/meta&gt;&lt;meta name=&quot;SearchDescription&quot; content=&quot;Microsoft.com Homepage&quot; scheme=&quot;&quot;&gt;&lt;/meta&gt;&lt;/head&gt;&lt;body&gt;&lt;p&gt;Your current User-Agent string appears to be from an automated process, if this is incorrect, please click this link:&lt;a href=&quot;http://www.microsoft.com/en/us/default.aspx?redir=true&quot;&gt;United States English Microsoft Homepage&lt;/a&gt;&lt;/p&gt;&lt;/body&gt;&lt;/html&gt;\r\n"
      ],
      "text/plain": [
       "<html><head><title>Microsoft Corporation</title><meta http-equiv=\"X-UA-Compatible\" content=\"IE=EmulateIE7\"></meta><meta http-equiv=\"Content-Type\" content=\"text/html; charset=utf-8\"></meta><meta name=\"SearchTitle\" content=\"Microsoft.com\" scheme=\"\"></meta><meta name=\"Description\" content=\"Get product information, support, and news from Microsoft.\" scheme=\"\"></meta><meta name=\"Title\" content=\"Microsoft.com Home Page\" scheme=\"\"></meta><meta name=\"Keywords\" content=\"Microsoft, product, support, help, training, Office, Windows, software, download, trial, preview, demo,  business, security, update, free, computer, PC, server, search, download, install, news\" scheme=\"\"></meta><meta name=\"SearchDescription\" content=\"Microsoft.com Homepage\" scheme=\"\"></meta></head><body><p>Your current User-Agent string appears to be from an automated process, if this is incorrect, please click this link:<a href=\"http://www.microsoft.com/en/us/default.aspx?redir=true\">United States English Microsoft Homepage</a></p></body></html>\r\n"
      ]
     },
     "metadata": {},
     "output_type": "display_data"
    }
   ],
   "source": [
    "LISTING_4_13_httpWebRequest.Program.Main(new string[0]);"
   ]
  }
 ],
 "metadata": {
  "kernelspec": {
   "display_name": "C#",
   "language": "csharp",
   "name": "kernel-spec"
  },
  "language_info": {
   "file_extension": ".cs",
   "mimetype": "text/x-csharp",
   "name": "C#",
   "pygments_lexer": "c#",
   "version": "4.0.30319"
  }
 },
 "nbformat": 4,
 "nbformat_minor": 2
}

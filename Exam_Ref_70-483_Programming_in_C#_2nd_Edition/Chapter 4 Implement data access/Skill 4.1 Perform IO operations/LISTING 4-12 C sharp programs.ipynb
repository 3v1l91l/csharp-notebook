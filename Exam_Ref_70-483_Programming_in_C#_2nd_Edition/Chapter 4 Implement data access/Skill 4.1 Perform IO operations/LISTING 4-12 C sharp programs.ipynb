{
 "cells": [
  {
   "cell_type": "markdown",
   "metadata": {},
   "source": [
    "# Info"
   ]
  },
  {
   "cell_type": "markdown",
   "metadata": {},
   "source": [
    "This example is from\n",
    "* [github.com/ExamRef70-483/Sample-Code](https://github.com/ExamRef70-483/Sample-Code)\n",
    "* [LISTING 4-12 C sharp programs](https://github.com/ExamRef70-483/Sample-Code/blob/master/LISTING%204-12%E2%80%82C%20sharp%20programs/LISTING%204-12%E2%80%82C%20sharp%20programs/Program.cs)\n",
    "\n",
    "\n",
    "## Remember\n",
    "* Main() is not called automatically. Has to be called manual. Remember '**public**'\n",
    "* Console.ReadKey() should not be used.\n"
   ]
  },
  {
   "cell_type": "code",
   "execution_count": null,
   "metadata": {},
   "outputs": [],
   "source": [
    "using System;\n",
    "using System.IO;\n",
    "\n",
    "namespace LISTING_4_12_C_sharp_programs\n",
    "{\n",
    "    class Program\n",
    "    {\n",
    "        static void FindFiles(DirectoryInfo dir, string searchPattern)\n",
    "        {\n",
    "            foreach (DirectoryInfo directory in dir.GetDirectories())\n",
    "            {\n",
    "                FindFiles(directory, searchPattern);\n",
    "            }\n",
    "\n",
    "            FileInfo[] matchingFiles = dir.GetFiles(searchPattern);\n",
    "            foreach (FileInfo fileInfo in matchingFiles)\n",
    "            {\n",
    "                Console.WriteLine(fileInfo.FullName);\n",
    "            }\n",
    "        }\n",
    "        static public void Main(string[] args)\n",
    "        {\n",
    "            DirectoryInfo startDir = new DirectoryInfo(@\"..\\..\\..\\..\");\n",
    "            string searchString = \"*.cs\";\n",
    "\n",
    "            FindFiles(startDir, searchString);\n",
    "\n",
    "            //Console.ReadKey();\n",
    "        }\n",
    "    }\n",
    "}\n"
   ]
  },
  {
   "cell_type": "code",
   "execution_count": null,
   "metadata": {},
   "outputs": [],
   "source": [
    "LISTING_4_12_C_sharp_programs.Program.Main(new string[0]);"
   ]
  }
 ],
 "metadata": {
  "kernelspec": {
   "display_name": "C#",
   "language": "csharp",
   "name": "kernel-spec"
  },
  "language_info": {
   "file_extension": ".cs",
   "mimetype": "text/x-csharp",
   "name": "C#",
   "pygments_lexer": "c#",
   "version": "4.0.30319"
  }
 },
 "nbformat": 4,
 "nbformat_minor": 2
}

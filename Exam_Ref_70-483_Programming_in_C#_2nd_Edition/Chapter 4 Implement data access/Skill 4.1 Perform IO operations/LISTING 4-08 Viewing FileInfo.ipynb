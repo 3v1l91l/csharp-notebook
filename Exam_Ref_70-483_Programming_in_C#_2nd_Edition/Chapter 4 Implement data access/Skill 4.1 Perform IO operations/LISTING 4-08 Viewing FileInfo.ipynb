{
 "cells": [
  {
   "cell_type": "markdown",
   "metadata": {},
   "source": [
    "# Info"
   ]
  },
  {
   "cell_type": "markdown",
   "metadata": {},
   "source": [
    "This example is from\n",
    "* [github.com/ExamRef70-483/Sample-Code](https://github.com/ExamRef70-483/Sample-Code)\n",
    "* [LISTING 4-8 Viewing FileInfo](https://github.com/ExamRef70-483/Sample-Code/blob/master/LISTING%204-8%E2%80%82Viewing%20FileInfo/LISTING%204-8%E2%80%82Viewing%20FileInfo/Program.cs)\n",
    "\n",
    "\n",
    "## Remember\n",
    "* Main() is not called automatically. Has to be called manual. Remember '**public**'\n",
    "* Console.ReadKey() should not be used.\n"
   ]
  },
  {
   "cell_type": "code",
   "execution_count": 1,
   "metadata": {},
   "outputs": [],
   "source": [
    "using System;\n",
    "using System.IO;\n",
    "\n",
    "namespace LISTING_4_8_Viewing_FileInfo\n",
    "{\n",
    "    class Program\n",
    "    {\n",
    "        static public void Main(string[] args)\n",
    "        {\n",
    "            string filePath = \"TextFile.txt\";\n",
    "            FileInfo info = new FileInfo(filePath);\n",
    "            info.IsReadOnly = false;\n",
    "\n",
    "            File.WriteAllText(path: filePath, contents: \"This text goes in the file\");\n",
    "            Console.WriteLine(\"Name: {0}\", info.Name);\n",
    "            Console.WriteLine(\"Full Path: {0}\", info.FullName);\n",
    "            Console.WriteLine(\"Last Access: {0}\", info.LastAccessTime);\n",
    "            Console.WriteLine(\"Length: {0}\", info.Length);\n",
    "            Console.WriteLine(\"Attributes: {0}\", info.Attributes);\n",
    "            Console.WriteLine(\"Make the file read only\");\n",
    "            //info.IsReadOnly = true;\n",
    "            info.Attributes |= FileAttributes.ReadOnly;\n",
    "            Console.WriteLine(\"Attributes: {0}\", info.Attributes);\n",
    "\n",
    "            //Console.ReadKey();\n",
    "        }\n",
    "    }\n",
    "}\n"
   ]
  },
  {
   "cell_type": "code",
   "execution_count": 2,
   "metadata": {},
   "outputs": [
    {
     "data": {
      "text/html": [
       "Name: TextFile.txt"
      ],
      "text/plain": [
       "Name: TextFile.txt"
      ]
     },
     "metadata": {},
     "output_type": "display_data"
    },
    {
     "data": {
      "text/html": [
       "Full Path: /home/jovyan/work/dev/TextFile.txt"
      ],
      "text/plain": [
       "Full Path: /home/jovyan/work/dev/TextFile.txt"
      ]
     },
     "metadata": {},
     "output_type": "display_data"
    },
    {
     "data": {
      "text/html": [
       "Last Access: 12/28/2018 1:37:45 PM"
      ],
      "text/plain": [
       "Last Access: 12/28/2018 1:37:45 PM"
      ]
     },
     "metadata": {},
     "output_type": "display_data"
    },
    {
     "data": {
      "text/html": [
       "Length: 26"
      ],
      "text/plain": [
       "Length: 26"
      ]
     },
     "metadata": {},
     "output_type": "display_data"
    },
    {
     "data": {
      "text/html": [
       "Attributes: Normal"
      ],
      "text/plain": [
       "Attributes: Normal"
      ]
     },
     "metadata": {},
     "output_type": "display_data"
    },
    {
     "data": {
      "text/html": [
       "Make the file read only"
      ],
      "text/plain": [
       "Make the file read only"
      ]
     },
     "metadata": {},
     "output_type": "display_data"
    },
    {
     "data": {
      "text/html": [
       "Attributes: Normal"
      ],
      "text/plain": [
       "Attributes: Normal"
      ]
     },
     "metadata": {},
     "output_type": "display_data"
    }
   ],
   "source": [
    "LISTING_4_8_Viewing_FileInfo.Program.Main(new string[0]);"
   ]
  }
 ],
 "metadata": {
  "kernelspec": {
   "display_name": "C#",
   "language": "csharp",
   "name": "kernel-spec"
  },
  "language_info": {
   "file_extension": ".cs",
   "mimetype": "text/x-csharp",
   "name": "C#",
   "pygments_lexer": "c#",
   "version": "4.0.30319"
  }
 },
 "nbformat": 4,
 "nbformat_minor": 2
}

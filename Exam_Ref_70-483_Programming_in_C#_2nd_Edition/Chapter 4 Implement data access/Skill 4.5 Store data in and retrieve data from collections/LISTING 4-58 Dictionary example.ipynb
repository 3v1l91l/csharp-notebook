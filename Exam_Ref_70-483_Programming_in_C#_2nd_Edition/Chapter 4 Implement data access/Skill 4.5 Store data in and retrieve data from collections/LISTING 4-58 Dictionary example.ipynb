{
 "cells": [
  {
   "cell_type": "markdown",
   "metadata": {},
   "source": [
    "# Info"
   ]
  },
  {
   "cell_type": "markdown",
   "metadata": {},
   "source": [
    "This example is from\n",
    "* [github.com/ExamRef70-483/Sample-Code](https://github.com/ExamRef70-483/Sample-Code)\n",
    "* [LISTING 4-58 Dictionary example](https://github.com/ExamRef70-483/Sample-Code/blob/master/LISTING%204-58%20Dictionary%20example/LISTING%204-58%20Dictionary%20example/Program.cs)\n",
    "\n",
    "\n",
    "## Remember\n",
    "* Main() is not called automatically. Has to be called manual. Remember '**public**'\n",
    "* Console.ReadKey() should not be used.\n"
   ]
  },
  {
   "cell_type": "code",
   "execution_count": 1,
   "metadata": {},
   "outputs": [],
   "source": [
    "using System;\n",
    "using System.Collections.Generic;\n",
    "\n",
    "namespace LISTING_4_58_Dictionary_example\n",
    "{\n",
    "    class Program\n",
    "    {\n",
    "        class BankAccount\n",
    "        {\n",
    "            public int AccountNo { get; set; }\n",
    "            public string Name { get; set; }\n",
    "            public decimal Balance { get; set; }\n",
    "\n",
    "            public override string ToString()\n",
    "            {\n",
    "                return string.Format(\"No:{0} Name:{1} Balance:{2}\",\n",
    "                    AccountNo, Name, Balance);\n",
    "            }\n",
    "        }\n",
    "\n",
    "        static public void Main(string[] args)\n",
    "        {\n",
    "            BankAccount a1 = new BankAccount { AccountNo = 1, Name = \"Rob Miles\" };\n",
    "            BankAccount a2 = new BankAccount { AccountNo = 2, Name = \"Immy Brown\" };\n",
    "\n",
    "            Dictionary<int, BankAccount> bank = new Dictionary<int, BankAccount>();\n",
    "\n",
    "            bank.Add(a1.AccountNo, a1);\n",
    "            bank.Add(a2.AccountNo, a2);\n",
    "\n",
    "            Console.WriteLine(bank[1]);\n",
    "\n",
    "            if (bank.ContainsKey(2))\n",
    "                Console.WriteLine(\"Account located\");\n",
    "\n",
    "            //Console.ReadKey();\n",
    "        }\n",
    "    }\n",
    "}\n"
   ]
  },
  {
   "cell_type": "code",
   "execution_count": 2,
   "metadata": {},
   "outputs": [
    {
     "data": {
      "text/html": [
       "No:1 Name:Rob Miles Balance:0"
      ],
      "text/plain": [
       "No:1 Name:Rob Miles Balance:0"
      ]
     },
     "metadata": {},
     "output_type": "display_data"
    },
    {
     "data": {
      "text/html": [
       "Account located"
      ],
      "text/plain": [
       "Account located"
      ]
     },
     "metadata": {},
     "output_type": "display_data"
    }
   ],
   "source": [
    "LISTING_4_58_Dictionary_example.Program.Main(new string[0]);"
   ]
  }
 ],
 "metadata": {
  "kernelspec": {
   "display_name": "C#",
   "language": "csharp",
   "name": "kernel-spec"
  },
  "language_info": {
   "file_extension": ".cs",
   "mimetype": "text/x-csharp",
   "name": "C#",
   "pygments_lexer": "c#",
   "version": "4.0.30319"
  }
 },
 "nbformat": 4,
 "nbformat_minor": 2
}

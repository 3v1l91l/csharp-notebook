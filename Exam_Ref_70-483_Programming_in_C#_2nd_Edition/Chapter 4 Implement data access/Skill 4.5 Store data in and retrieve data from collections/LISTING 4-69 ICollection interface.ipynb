{
 "cells": [
  {
   "cell_type": "markdown",
   "metadata": {},
   "source": [
    "# Info"
   ]
  },
  {
   "cell_type": "markdown",
   "metadata": {},
   "source": [
    "This example is from\n",
    "* [github.com/ExamRef70-483/Sample-Code](https://github.com/ExamRef70-483/Sample-Code)\n",
    "* [LISTING 4-69 ICollection interface](https://github.com/ExamRef70-483/Sample-Code/blob/master/LISTING%204-69%20ICollection%20interface/LISTING%204-69%20ICollection%20interface/Program.cs)\n",
    "\n",
    "\n",
    "## Remember\n",
    "* Main() is not called automatically. Has to be called manual. Remember '**public**'\n",
    "* Console.ReadKey() should not be used.\n"
   ]
  },
  {
   "cell_type": "code",
   "execution_count": 1,
   "metadata": {},
   "outputs": [],
   "source": [
    "using System;\n",
    "using System.Collections;\n",
    "\n",
    "namespace LISTING_4_69_ICollection_interface\n",
    "{\n",
    "    class CompassCollection : ICollection\n",
    "    {\n",
    "        // Array containing values in this collection\n",
    "        string[] compassPoints = { \"North\", \"South\", \"East\", \"West\" };\n",
    "\n",
    "        // Count property to return the length of the collection\n",
    "        public int Count\n",
    "        {\n",
    "            get { return compassPoints.Length; }\n",
    "        }\n",
    "\n",
    "        // Returns an object that can be used to syncrhonise\n",
    "        // access to this object\n",
    "        public object SyncRoot\n",
    "        {\n",
    "            get { return this; }\n",
    "        }\n",
    "\n",
    "        // Returns true if the collection is thread safe\n",
    "        // This collection is not\n",
    "        public bool IsSynchronized\n",
    "        {\n",
    "            get { return false; }\n",
    "        }\n",
    "\n",
    "        // Provide a copyto behavior\n",
    "        public void CopyTo(Array array, int index)\n",
    "        {\n",
    "            foreach (string point in compassPoints)\n",
    "            {\n",
    "                array.SetValue(point, index);\n",
    "                index = index + 1;\n",
    "            }\n",
    "        }\n",
    "\n",
    "        // Required for IEnumerate\n",
    "        // Returns the enumerator from the embedded array\n",
    "        public IEnumerator GetEnumerator()\n",
    "        {\n",
    "            return compassPoints.GetEnumerator();\n",
    "        }\n",
    "    }\n",
    "\n",
    "    class Program\n",
    "    {\n",
    "        static public void Main(string[] args)\n",
    "        {\n",
    "            CompassCollection compass = new CompassCollection();\n",
    "\n",
    "\n",
    "            foreach (string point in compass)\n",
    "                Console.WriteLine(point);\n",
    "\n",
    "            //Console.ReadKey();\n",
    "        }\n",
    "    }\n",
    "}\n"
   ]
  },
  {
   "cell_type": "code",
   "execution_count": 2,
   "metadata": {},
   "outputs": [
    {
     "data": {
      "text/html": [
       "North"
      ],
      "text/plain": [
       "North"
      ]
     },
     "metadata": {},
     "output_type": "display_data"
    },
    {
     "data": {
      "text/html": [
       "South"
      ],
      "text/plain": [
       "South"
      ]
     },
     "metadata": {},
     "output_type": "display_data"
    },
    {
     "data": {
      "text/html": [
       "East"
      ],
      "text/plain": [
       "East"
      ]
     },
     "metadata": {},
     "output_type": "display_data"
    },
    {
     "data": {
      "text/html": [
       "West"
      ],
      "text/plain": [
       "West"
      ]
     },
     "metadata": {},
     "output_type": "display_data"
    }
   ],
   "source": [
    "LISTING_4_69_ICollection_interface.Program.Main(new string[0]);"
   ]
  }
 ],
 "metadata": {
  "kernelspec": {
   "display_name": "C#",
   "language": "csharp",
   "name": "kernel-spec"
  },
  "language_info": {
   "file_extension": ".cs",
   "mimetype": "text/x-csharp",
   "name": "C#",
   "pygments_lexer": "c#",
   "version": "4.0.30319"
  }
 },
 "nbformat": 4,
 "nbformat_minor": 2
}

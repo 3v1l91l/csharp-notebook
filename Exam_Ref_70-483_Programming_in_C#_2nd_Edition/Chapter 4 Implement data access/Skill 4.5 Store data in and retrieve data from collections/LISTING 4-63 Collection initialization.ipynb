{
 "cells": [
  {
   "cell_type": "markdown",
   "metadata": {},
   "source": [
    "# Info"
   ]
  },
  {
   "cell_type": "markdown",
   "metadata": {},
   "source": [
    "This example is from\n",
    "* [github.com/ExamRef70-483/Sample-Code](https://github.com/ExamRef70-483/Sample-Code)\n",
    "* [LISTING 4-63 Collection initialization](https://github.com/ExamRef70-483/Sample-Code/blob/master/LISTING%204-63%20Collection%20initialization/LISTING%204-63%20Collection%20initialization/Program.cs)\n",
    "\n",
    "\n",
    "## Remember\n",
    "* Main() is not called automatically. Has to be called manual. Remember '**public**'\n",
    "* Console.ReadKey() should not be used.\n"
   ]
  },
  {
   "cell_type": "code",
   "execution_count": 1,
   "metadata": {},
   "outputs": [
    {
     "data": {
      "text/html": [
       "(7,19): warning CS0219: The variable `arrayInit&#39; is assigned but its value is never used"
      ],
      "text/plain": [
       "(7,19): warning CS0219: The variable `arrayInit' is assigned but its value is never used"
      ]
     },
     "metadata": {},
     "output_type": "display_data"
    },
    {
     "data": {
      "text/html": [
       "(9,23): warning CS0219: The variable `arrayListInit&#39; is assigned but its value is never used"
      ],
      "text/plain": [
       "(9,23): warning CS0219: The variable `arrayListInit' is assigned but its value is never used"
      ]
     },
     "metadata": {},
     "output_type": "display_data"
    },
    {
     "data": {
      "text/html": [
       "(11,23): warning CS0219: The variable `listInit&#39; is assigned but its value is never used"
      ],
      "text/plain": [
       "(11,23): warning CS0219: The variable `listInit' is assigned but its value is never used"
      ]
     },
     "metadata": {},
     "output_type": "display_data"
    },
    {
     "data": {
      "text/html": [
       "(13,37): warning CS0219: The variable `dictionaryInit&#39; is assigned but its value is never used"
      ],
      "text/plain": [
       "(13,37): warning CS0219: The variable `dictionaryInit' is assigned but its value is never used"
      ]
     },
     "metadata": {},
     "output_type": "display_data"
    },
    {
     "data": {
      "text/html": [
       "(17,29): warning CS0219: The variable `setInit&#39; is assigned but its value is never used"
      ],
      "text/plain": [
       "(17,29): warning CS0219: The variable `setInit' is assigned but its value is never used"
      ]
     },
     "metadata": {},
     "output_type": "display_data"
    },
    {
     "data": {
      "text/html": [
       "(19,27): warning CS0219: The variable `queueInit&#39; is assigned but its value is never used"
      ],
      "text/plain": [
       "(19,27): warning CS0219: The variable `queueInit' is assigned but its value is never used"
      ]
     },
     "metadata": {},
     "output_type": "display_data"
    },
    {
     "data": {
      "text/html": [
       "(21,28): warning CS0219: The variable `stackInit&#39; is assigned but its value is never used"
      ],
      "text/plain": [
       "(21,28): warning CS0219: The variable `stackInit' is assigned but its value is never used"
      ]
     },
     "metadata": {},
     "output_type": "display_data"
    }
   ],
   "source": [
    "using System.Collections;\n",
    "using System.Collections.Generic;\n",
    "\n",
    "namespace LISTING_4_63_Collection_initialization\n",
    "{\n",
    "    class Program\n",
    "    {\n",
    "        static public void Main(string[] args)\n",
    "        {\n",
    "            int[] arrayInit = { 1, 2, 3, 4 };\n",
    "\n",
    "            ArrayList arrayListInit = new ArrayList { 1, \"Rob Miles\", new ArrayList() };\n",
    "\n",
    "            List<int> listInit = new List<int>{ 1, 2, 3, 4 };\n",
    "\n",
    "            Dictionary<int, string> dictionaryInit = new Dictionary<int, string> {\n",
    "                    {1, \"Rob\" },\n",
    "                    {2, \"Immy\" } };\n",
    "\n",
    "            HashSet<string> setInit = new HashSet<string> { \"Electronic\", \"Disco\", \"Fast\" };\n",
    "\n",
    "            Queue<string> queueInit = new Queue<string>( new string [] {\"Rob\", \"Immy\" });\n",
    "\n",
    "            Stack <string> stackInit = new Stack<string>(new string[] { \"Rob\", \"Immy\" });\n",
    "        }\n",
    "    }\n",
    "}\n"
   ]
  },
  {
   "cell_type": "code",
   "execution_count": 2,
   "metadata": {},
   "outputs": [],
   "source": [
    "LISTING_4_63_Collection_initialization.Program.Main(new string[0]);"
   ]
  }
 ],
 "metadata": {
  "kernelspec": {
   "display_name": "C#",
   "language": "csharp",
   "name": "kernel-spec"
  },
  "language_info": {
   "file_extension": ".cs",
   "mimetype": "text/x-csharp",
   "name": "C#",
   "pygments_lexer": "c#",
   "version": "4.0.30319"
  }
 },
 "nbformat": 4,
 "nbformat_minor": 2
}

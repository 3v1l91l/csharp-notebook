{
 "cells": [
  {
   "cell_type": "markdown",
   "metadata": {},
   "source": [
    "# Info"
   ]
  },
  {
   "cell_type": "markdown",
   "metadata": {},
   "source": [
    "This example is from\n",
    "* [github.com/ExamRef70-483/Sample-Code](https://github.com/ExamRef70-483/Sample-Code)\n",
    "* [LISTING 4-63 Collection initialization](https://github.com/ExamRef70-483/Sample-Code/blob/master/LISTING%204-63%20Collection%20initialization/LISTING%204-63%20Collection%20initialization/Program.cs)\n",
    "\n",
    "\n",
    "## Remember\n",
    "* Main() is not called automatically. Has to be called manual. Remember '**public**'\n",
    "* Console.ReadKey() should not be used.\n"
   ]
  },
  {
   "cell_type": "code",
   "execution_count": null,
   "metadata": {},
   "outputs": [],
   "source": [
    "using System.Collections;\n",
    "using System.Collections.Generic;\n",
    "\n",
    "namespace LISTING_4_63_Collection_initialization\n",
    "{\n",
    "    class Program\n",
    "    {\n",
    "        static public void Main(string[] args)\n",
    "        {\n",
    "            int[] arrayInit = { 1, 2, 3, 4 };\n",
    "\n",
    "            ArrayList arrayListInit = new ArrayList { 1, \"Rob Miles\", new ArrayList() };\n",
    "\n",
    "            List<int> listInit = new List<int>{ 1, 2, 3, 4 };\n",
    "\n",
    "            Dictionary<int, string> dictionaryInit = new Dictionary<int, string> {\n",
    "                    {1, \"Rob\" },\n",
    "                    {2, \"Immy\" } };\n",
    "\n",
    "            HashSet<string> setInit = new HashSet<string> { \"Electronic\", \"Disco\", \"Fast\" };\n",
    "\n",
    "            Queue<string> queueInit = new Queue<string>( new string [] {\"Rob\", \"Immy\" });\n",
    "\n",
    "            Stack <string> stackInit = new Stack<string>(new string[] { \"Rob\", \"Immy\" });\n",
    "        }\n",
    "    }\n",
    "}\n"
   ]
  },
  {
   "cell_type": "code",
   "execution_count": null,
   "metadata": {},
   "outputs": [],
   "source": [
    "LISTING_4_63_Collection_initialization.Program.Main(new string[0]);"
   ]
  }
 ],
 "metadata": {
  "kernelspec": {
   "display_name": "C#",
   "language": "csharp",
   "name": "kernel-spec"
  },
  "language_info": {
   "file_extension": ".cs",
   "mimetype": "text/x-csharp",
   "name": "C#",
   "pygments_lexer": "c#",
   "version": "4.0.30319"
  }
 },
 "nbformat": 4,
 "nbformat_minor": 2
}

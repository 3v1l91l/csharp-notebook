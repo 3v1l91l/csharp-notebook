{
 "cells": [
  {
   "cell_type": "markdown",
   "metadata": {},
   "source": [
    "# Info"
   ]
  },
  {
   "cell_type": "markdown",
   "metadata": {},
   "source": [
    "This example is from\n",
    "* [github.com/ExamRef70-483/Sample-Code](https://github.com/ExamRef70-483/Sample-Code)\n",
    "* [LISTING 4-56 ArrayList example](https://github.com/ExamRef70-483/Sample-Code/blob/master/LISTING%204-56%20ArrayList%20example/LISTING%204-56%20ArrayList%20example/Program.cs)\n",
    "\n",
    "\n",
    "## Remember\n",
    "* Main() is not called automatically. Has to be called manual. Remember '**public**'\n",
    "* Console.ReadKey() should not be used.\n"
   ]
  },
  {
   "cell_type": "code",
   "execution_count": null,
   "metadata": {},
   "outputs": [],
   "source": [
    "using System;\n",
    "using System.Collections;\n",
    "using System.Collections.Generic;\n",
    "using System.Linq;\n",
    "using System.Text;\n",
    "using System.Threading.Tasks;\n",
    "\n",
    "namespace LISTING_4_56_ArrayList_example\n",
    "{\n",
    "    class Program\n",
    "    {\n",
    "        static public void Main(string[] args)\n",
    "        {\n",
    "            ArrayList arrayList = new ArrayList();\n",
    "            arrayList.Add(1);\n",
    "            arrayList.Add(2);\n",
    "            arrayList.Add(3);\n",
    "\n",
    "            for (int i = 0; i < arrayList.Count; i++)\n",
    "                Console.WriteLine(arrayList[i]);\n",
    "\n",
    "\n",
    "            ArrayList messyList = new ArrayList();\n",
    "            messyList.Add(1); // add an integer to the list\n",
    "            messyList.Add(\"Rob Miles\"); // add a string to the list\n",
    "            messyList.Add(new ArrayList());  //add an ArrayList to the list\n",
    "\n",
    "            int messyInt = (int)messyList[0];\n",
    "\n",
    "            //Console.ReadKey();\n",
    "\n",
    "        }\n",
    "    }\n",
    "}\n"
   ]
  },
  {
   "cell_type": "code",
   "execution_count": null,
   "metadata": {},
   "outputs": [],
   "source": [
    "LISTING_4_56_ArrayList_example.Program.Main(new string[0]);"
   ]
  }
 ],
 "metadata": {
  "kernelspec": {
   "display_name": "C#",
   "language": "csharp",
   "name": "kernel-spec"
  },
  "language_info": {
   "file_extension": ".cs",
   "mimetype": "text/x-csharp",
   "name": "C#",
   "pygments_lexer": "c#",
   "version": "4.0.30319"
  }
 },
 "nbformat": 4,
 "nbformat_minor": 2
}

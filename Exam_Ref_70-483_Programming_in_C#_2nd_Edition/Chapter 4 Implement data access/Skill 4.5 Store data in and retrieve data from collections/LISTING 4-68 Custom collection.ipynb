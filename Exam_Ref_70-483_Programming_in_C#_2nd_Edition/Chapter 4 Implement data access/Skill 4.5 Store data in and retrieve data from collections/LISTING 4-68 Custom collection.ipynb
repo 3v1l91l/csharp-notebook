{
 "cells": [
  {
   "cell_type": "markdown",
   "metadata": {},
   "source": [
    "# Info"
   ]
  },
  {
   "cell_type": "markdown",
   "metadata": {},
   "source": [
    "This example is from\n",
    "* [github.com/ExamRef70-483/Sample-Code](https://github.com/ExamRef70-483/Sample-Code)\n",
    "* [LISTING 4-68 Custom collection](https://github.com/ExamRef70-483/Sample-Code/blob/master/LISTING%204-68%20Custom%20collection/LISTING%204-68%20Custom%20collection/Program.cs)\n",
    "\n",
    "\n",
    "## Remember\n",
    "* Main() is not called automatically. Has to be called manual. Remember '**public**'\n",
    "* Console.ReadKey() should not be used.\n"
   ]
  },
  {
   "cell_type": "code",
   "execution_count": 1,
   "metadata": {},
   "outputs": [],
   "source": [
    "using System;\n",
    "using System.Collections.Generic;\n",
    "using System.Linq;\n",
    "using System.Text;\n",
    "using System.Threading.Tasks;\n",
    "\n",
    "namespace LISTING_4_68_Custom_collection\n",
    "{\n",
    "\n",
    "    class MusicTrack\n",
    "    {\n",
    "        public string Artist { get; set; }\n",
    "        public string Title { get; set; }\n",
    "        public int Length { get; set; }\n",
    "        public string test { get; set; }\n",
    "    }\n",
    "\n",
    "class TrackStore : List<MusicTrack>\n",
    "{\n",
    "    public int RemoveArtist(string removeName)\n",
    "    {\n",
    "        List<MusicTrack> removeList = new List<MusicTrack>();\n",
    "        foreach (MusicTrack track in this)\n",
    "            if (track.Artist == removeName)\n",
    "                removeList.Add(track);\n",
    "\n",
    "        foreach (MusicTrack track in removeList)\n",
    "            this.Remove(track);\n",
    "\n",
    "        return removeList.Count;\n",
    "    }\n",
    "\n",
    "        public override string ToString()\n",
    "        {\n",
    "            StringBuilder output = new StringBuilder();\n",
    "            foreach (MusicTrack track in this)\n",
    "                output.AppendFormat(\"Title:{0} Artist:{1} Length:{2}\\n\",\n",
    "                    track.Title, track.Artist, track.Length);\n",
    "\n",
    "                return output.ToString();\n",
    "        }\n",
    "\n",
    "        public static TrackStore GetTestTrackStore()\n",
    "        {\n",
    "            TrackStore result = new TrackStore();\n",
    "\n",
    "            string[] artistNames = new string[] { \"Rob Miles\", \"Fred Bloggs\", \"The Bloggs Singers\", \"Immy Brown\" };\n",
    "            string[] titleNames = new string[] { \"My Way\", \"Your Way\", \"His Way\", \"Her Way\", \"Milky Way\" };\n",
    "\n",
    "            Random rand = new Random(1);\n",
    "\n",
    "            foreach (string artistName in artistNames)\n",
    "            {\n",
    "                foreach (string titleName in titleNames)\n",
    "                {\n",
    "                    MusicTrack newTrack = new MusicTrack\n",
    "                    {\n",
    "                        Artist = artistName,\n",
    "                        Title = titleName,\n",
    "                        Length = rand.Next(20, 600)\n",
    "                    };\n",
    "                    result.Add(newTrack);\n",
    "                }\n",
    "            }\n",
    "            return result;\n",
    "        }\n",
    "    }\n",
    "\n",
    "    class Program\n",
    "    {\n",
    "        static public void Main(string[] args)\n",
    "        {\n",
    "            TrackStore tracks = TrackStore.GetTestTrackStore();\n",
    "            tracks.RemoveArtist(\"Fred Bloggs\");\n",
    "            Console.WriteLine(tracks);\n",
    "            //Console.ReadKey();\n",
    "        }\n",
    "    }\n",
    "}\n"
   ]
  },
  {
   "cell_type": "code",
   "execution_count": 2,
   "metadata": {},
   "outputs": [
    {
     "data": {
      "text/html": [
       "Title:My Way Artist:Rob Miles Length:164\n",
       "Title:Your Way Artist:Rob Miles Length:84\n",
       "Title:His Way Artist:Rob Miles Length:290\n",
       "Title:Her Way Artist:Rob Miles Length:467\n",
       "Title:Milky Way Artist:Rob Miles Length:401\n",
       "Title:My Way Artist:The Bloggs Singers Length:36\n",
       "Title:Your Way Artist:The Bloggs Singers Length:163\n",
       "Title:His Way Artist:The Bloggs Singers Length:205\n",
       "Title:Her Way Artist:The Bloggs Singers Length:594\n",
       "Title:Milky Way Artist:The Bloggs Singers Length:415\n",
       "Title:My Way Artist:Immy Brown Length:399\n",
       "Title:Your Way Artist:Immy Brown Length:183\n",
       "Title:His Way Artist:Immy Brown Length:376\n",
       "Title:Her Way Artist:Immy Brown Length:428\n",
       "Title:Milky Way Artist:Immy Brown Length:427\n"
      ],
      "text/plain": [
       "Title:My Way Artist:Rob Miles Length:164\n",
       "Title:Your Way Artist:Rob Miles Length:84\n",
       "Title:His Way Artist:Rob Miles Length:290\n",
       "Title:Her Way Artist:Rob Miles Length:467\n",
       "Title:Milky Way Artist:Rob Miles Length:401\n",
       "Title:My Way Artist:The Bloggs Singers Length:36\n",
       "Title:Your Way Artist:The Bloggs Singers Length:163\n",
       "Title:His Way Artist:The Bloggs Singers Length:205\n",
       "Title:Her Way Artist:The Bloggs Singers Length:594\n",
       "Title:Milky Way Artist:The Bloggs Singers Length:415\n",
       "Title:My Way Artist:Immy Brown Length:399\n",
       "Title:Your Way Artist:Immy Brown Length:183\n",
       "Title:His Way Artist:Immy Brown Length:376\n",
       "Title:Her Way Artist:Immy Brown Length:428\n",
       "Title:Milky Way Artist:Immy Brown Length:427\n"
      ]
     },
     "metadata": {},
     "output_type": "display_data"
    }
   ],
   "source": [
    "LISTING_4_68_Custom_collection.Program.Main(new string[0]);"
   ]
  }
 ],
 "metadata": {
  "kernelspec": {
   "display_name": "C#",
   "language": "csharp",
   "name": "kernel-spec"
  },
  "language_info": {
   "file_extension": ".cs",
   "mimetype": "text/x-csharp",
   "name": "C#",
   "pygments_lexer": "c#",
   "version": "4.0.30319"
  }
 },
 "nbformat": 4,
 "nbformat_minor": 2
}

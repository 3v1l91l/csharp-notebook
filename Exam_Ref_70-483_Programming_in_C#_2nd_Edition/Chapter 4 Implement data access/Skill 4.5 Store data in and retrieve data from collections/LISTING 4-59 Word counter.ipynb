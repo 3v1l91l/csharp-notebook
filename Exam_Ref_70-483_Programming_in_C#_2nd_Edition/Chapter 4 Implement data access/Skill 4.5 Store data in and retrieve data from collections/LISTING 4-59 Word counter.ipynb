{
 "cells": [
  {
   "cell_type": "markdown",
   "metadata": {},
   "source": [
    "# Info"
   ]
  },
  {
   "cell_type": "markdown",
   "metadata": {},
   "source": [
    "This example is from\n",
    "* [github.com/ExamRef70-483/Sample-Code](https://github.com/ExamRef70-483/Sample-Code)\n",
    "* [LISTING 4-59 Word counter](https://github.com/ExamRef70-483/Sample-Code/blob/master/LISTING%204-59%20Word%20counter/LISTING%204-59%20Word%20counter/Program.cs)\n",
    "\n",
    "\n",
    "## Remember\n",
    "* Main() is not called automatically. Has to be called manual. Remember '**public**'\n",
    "* Console.ReadKey() should not be used.\n"
   ]
  },
  {
   "cell_type": "code",
   "execution_count": null,
   "metadata": {},
   "outputs": [],
   "source": [
    "using System;\n",
    "using System.Collections.Generic;\n",
    "using System.IO;\n",
    "using System.Linq;\n",
    "\n",
    "namespace LISTING_4_59_Word_counter\n",
    "{\n",
    "    class Program\n",
    "    {\n",
    "        static public void Main(string[] args)\n",
    "        {\n",
    "            Dictionary<string, int> counters = new Dictionary<string, int>();\n",
    "\n",
    "            string text = File.ReadAllText(\"input.txt\");\n",
    "\n",
    "            string[] words = text.Split(new char[] { ' ', '.', ',' },\n",
    "                StringSplitOptions.RemoveEmptyEntries);\n",
    "\n",
    "            foreach (string word in words)\n",
    "            {\n",
    "                string lowWord = word.ToLower();\n",
    "                if (counters.ContainsKey(lowWord))\n",
    "                        counters[lowWord]++;\n",
    "                    else\n",
    "                        counters.Add(lowWord, 1);\n",
    "            }\n",
    "\n",
    "            var items = from pair in counters\n",
    "                        orderby pair.Value descending\n",
    "                        select pair;\n",
    "\n",
    "            foreach (var pair in items)\n",
    "            {\n",
    "                Console.WriteLine(\"{0}: {1}\", pair.Key, pair.Value);\n",
    "            }\n",
    "\n",
    "            //Console.ReadKey();\n",
    "        }\n",
    "    }\n",
    "}\n"
   ]
  },
  {
   "cell_type": "code",
   "execution_count": null,
   "metadata": {},
   "outputs": [],
   "source": [
    "LISTING_4_59_Word_counter.Program.Main(new string[0]);"
   ]
  }
 ],
 "metadata": {
  "kernelspec": {
   "display_name": "C#",
   "language": "csharp",
   "name": "kernel-spec"
  },
  "language_info": {
   "file_extension": ".cs",
   "mimetype": "text/x-csharp",
   "name": "C#",
   "pygments_lexer": "c#",
   "version": "4.0.30319"
  }
 },
 "nbformat": 4,
 "nbformat_minor": 2
}

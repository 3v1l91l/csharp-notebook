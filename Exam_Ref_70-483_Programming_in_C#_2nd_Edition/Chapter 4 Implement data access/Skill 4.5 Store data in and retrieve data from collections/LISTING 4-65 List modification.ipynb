{
 "cells": [
  {
   "cell_type": "markdown",
   "metadata": {},
   "source": [
    "# Info"
   ]
  },
  {
   "cell_type": "markdown",
   "metadata": {},
   "source": [
    "This example is from\n",
    "* [github.com/ExamRef70-483/Sample-Code](https://github.com/ExamRef70-483/Sample-Code)\n",
    "* [LISTING 4-65 List modification](https://github.com/ExamRef70-483/Sample-Code/blob/master/LISTING%204-65%20List%20modification/LISTING%204-65%20List%20modification/Program.cs)\n",
    "\n",
    "\n",
    "## Remember\n",
    "* Main() is not called automatically. Has to be called manual. Remember '**public**'\n",
    "* Console.ReadKey() should not be used.\n"
   ]
  },
  {
   "cell_type": "code",
   "execution_count": null,
   "metadata": {},
   "outputs": [],
   "source": [
    "using System.Collections.Generic;\n",
    "\n",
    "namespace LISTING_4_65_List_modification\n",
    "{\n",
    "    class Program\n",
    "    {\n",
    "        static public void Main(string[] args)\n",
    "        {\n",
    "            List<string> list = new List<string>();\n",
    "            list.Add(\"add to end of list\");      // add to the end of the list\n",
    "            list.Insert(0, \"insert at start\");   // insert an item at the start\n",
    "            list.Insert(1, \"insert new item 1\"); // insert at position\n",
    "            list.InsertRange(2, new string[] { \"Rob\", \"Immy\" }); // insert a range\n",
    "            list.Remove(\"Rob\");                  // remove first occurrance of \"Rob\"\n",
    "            list.RemoveAt(0);                    // remove element at the start\n",
    "            list.RemoveRange(1, 2);              // remove two elements\n",
    "            list.Clear();                        // clear entire list        }\n",
    "        }\n",
    "    }\n",
    "}\n"
   ]
  },
  {
   "cell_type": "code",
   "execution_count": null,
   "metadata": {},
   "outputs": [],
   "source": [
    "LISTING_4_65_List_modification.Program.Main(new string[0]);"
   ]
  }
 ],
 "metadata": {
  "kernelspec": {
   "display_name": "C#",
   "language": "csharp",
   "name": "kernel-spec"
  },
  "language_info": {
   "file_extension": ".cs",
   "mimetype": "text/x-csharp",
   "name": "C#",
   "pygments_lexer": "c#",
   "version": "4.0.30319"
  }
 },
 "nbformat": 4,
 "nbformat_minor": 2
}

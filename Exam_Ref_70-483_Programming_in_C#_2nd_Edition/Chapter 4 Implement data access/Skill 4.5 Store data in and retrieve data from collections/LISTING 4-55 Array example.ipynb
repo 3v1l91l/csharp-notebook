{
 "cells": [
  {
   "cell_type": "markdown",
   "metadata": {},
   "source": [
    "# Info"
   ]
  },
  {
   "cell_type": "markdown",
   "metadata": {},
   "source": [
    "This example is from\n",
    "* [github.com/ExamRef70-483/Sample-Code](https://github.com/ExamRef70-483/Sample-Code)\n",
    "* [LISTING 4-55 Array example](https://github.com/ExamRef70-483/Sample-Code/blob/master/LISTING%204-55%20Array%20example/LISTING%204-55%20Array%20example/Program.cs)\n",
    "\n",
    "\n",
    "## Remember\n",
    "* Main() is not called automatically. Has to be called manual. Remember '**public**'\n",
    "* Console.ReadKey() should not be used.\n"
   ]
  },
  {
   "cell_type": "code",
   "execution_count": null,
   "metadata": {},
   "outputs": [],
   "source": [
    "using System;\n",
    "\n",
    "namespace LISTING_4_55_Array_example\n",
    "{\n",
    "    class Program\n",
    "    {\n",
    "        static public void Main(string[] args)\n",
    "        {\n",
    "                // Array of integers\n",
    "                int[] intArray = new int[5];\n",
    "\n",
    "                intArray[0] = 99; // put 99 in the first element\n",
    "                intArray[4] = 100; // put 100 in the last element\n",
    "\n",
    "                // Use an index to work through the array\n",
    "                for (int i = 0; i < intArray.Length; i++)\n",
    "                    Console.WriteLine(intArray[i]);\n",
    "\n",
    "                // Initilaise a new array\n",
    "                intArray = new int[] { 1, 2, 3, 4 };\n",
    "\n",
    "                // Use a foreach to work through the array\n",
    "                foreach (int intValue in intArray)\n",
    "                    Console.WriteLine(intValue);\n",
    "\n",
    "            string[,] compass = new string[3, 3]\n",
    "            {\n",
    "                { \"NW\",\"N\",\"NE\" },\n",
    "                {\"W\", \"C\", \"E\" },\n",
    "                { \"SW\", \"S\", \"SE\" }\n",
    "            };\n",
    "\n",
    "            Console.WriteLine(compass[0, 0]);  // prints NW\n",
    "            Console.WriteLine(compass[2, 2]);  // prints SE\n",
    "\n",
    "            //Console.ReadKey();\n",
    "        }\n",
    "    }\n",
    "}\n"
   ]
  },
  {
   "cell_type": "code",
   "execution_count": null,
   "metadata": {},
   "outputs": [],
   "source": [
    "LISTING_4_55_Array_example.Program.Main(new string[0]);"
   ]
  }
 ],
 "metadata": {
  "kernelspec": {
   "display_name": "C#",
   "language": "csharp",
   "name": "kernel-spec"
  },
  "language_info": {
   "file_extension": ".cs",
   "mimetype": "text/x-csharp",
   "name": "C#",
   "pygments_lexer": "c#",
   "version": "4.0.30319"
  }
 },
 "nbformat": 4,
 "nbformat_minor": 2
}

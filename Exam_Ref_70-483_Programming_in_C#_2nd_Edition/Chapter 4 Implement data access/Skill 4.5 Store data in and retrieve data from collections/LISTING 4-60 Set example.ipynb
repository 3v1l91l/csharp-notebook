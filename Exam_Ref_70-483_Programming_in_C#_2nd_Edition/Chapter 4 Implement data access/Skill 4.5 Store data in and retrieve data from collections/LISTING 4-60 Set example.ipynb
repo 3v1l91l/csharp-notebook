{
 "cells": [
  {
   "cell_type": "markdown",
   "metadata": {},
   "source": [
    "# Info"
   ]
  },
  {
   "cell_type": "markdown",
   "metadata": {},
   "source": [
    "This example is from\n",
    "* [github.com/ExamRef70-483/Sample-Code](https://github.com/ExamRef70-483/Sample-Code)\n",
    "* [LISTING 4-60 Set example](https://github.com/ExamRef70-483/Sample-Code/blob/master/LISTING%204-60%20Set%20example/LISTING%204-60%20Set%20example/Program.cs)\n",
    "\n",
    "\n",
    "## Remember\n",
    "* Main() is not called automatically. Has to be called manual. Remember '**public**'\n",
    "* Console.ReadKey() should not be used.\n"
   ]
  },
  {
   "cell_type": "code",
   "execution_count": 1,
   "metadata": {},
   "outputs": [],
   "source": [
    "using System;\n",
    "using System.Collections.Generic;\n",
    "\n",
    "namespace LISTING_4_60_Set_example\n",
    "{\n",
    "    class Program\n",
    "    {\n",
    "        static public void Main(string[] args)\n",
    "        {\n",
    "            HashSet<string> t1Styles = new HashSet<string>();\n",
    "            t1Styles.Add(\"Electronic\");\n",
    "            t1Styles.Add(\"Disco\");\n",
    "            t1Styles.Add(\"Fast\" );\n",
    "\n",
    "            HashSet<string> t2Styles = new HashSet<string>();\n",
    "            t2Styles.Add(\"Orchestral\");\n",
    "            t2Styles.Add(\"Classical\");\n",
    "            t2Styles.Add(\"Fast\");\n",
    "\n",
    "            HashSet<string> search = new HashSet<string>();\n",
    "            search.Add(\"Fast\");\n",
    "            search.Add(\"Disco\");\n",
    "\n",
    "            if (search.IsSubsetOf(t1Styles))\n",
    "                Console.WriteLine(\"All search styles present in T1\");\n",
    "\n",
    "            if (search.IsSubsetOf(t2Styles))\n",
    "                Console.WriteLine(\"All search styles present in T2\");\n",
    "\n",
    "            //Console.ReadKey();\n",
    "        }\n",
    "    }\n",
    "}\n"
   ]
  },
  {
   "cell_type": "code",
   "execution_count": 2,
   "metadata": {},
   "outputs": [
    {
     "data": {
      "text/html": [
       "All search styles present in T1"
      ],
      "text/plain": [
       "All search styles present in T1"
      ]
     },
     "metadata": {},
     "output_type": "display_data"
    }
   ],
   "source": [
    "LISTING_4_60_Set_example.Program.Main(new string[0]);"
   ]
  }
 ],
 "metadata": {
  "kernelspec": {
   "display_name": "C#",
   "language": "csharp",
   "name": "kernel-spec"
  },
  "language_info": {
   "file_extension": ".cs",
   "mimetype": "text/x-csharp",
   "name": "C#",
   "pygments_lexer": "c#",
   "version": "4.0.30319"
  }
 },
 "nbformat": 4,
 "nbformat_minor": 2
}

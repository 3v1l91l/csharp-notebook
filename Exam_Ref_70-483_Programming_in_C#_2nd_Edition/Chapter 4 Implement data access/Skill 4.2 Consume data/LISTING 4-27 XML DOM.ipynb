{
 "cells": [
  {
   "cell_type": "markdown",
   "metadata": {},
   "source": [
    "# Info"
   ]
  },
  {
   "cell_type": "markdown",
   "metadata": {},
   "source": [
    "This example is from\n",
    "* [github.com/ExamRef70-483/Sample-Code](https://github.com/ExamRef70-483/Sample-Code)\n",
    "* [LISTING 4-27 XML DOM](https://github.com/ExamRef70-483/Sample-Code/blob/master/LISTING%204-27%E2%80%82XML%20DOM/LISTING%204-27%E2%80%82XML%20DOM/Program.cs)\n",
    "\n",
    "\n",
    "## Remember\n",
    "* Main() is not called automatically. Has to be called manual. Remember '**public**'\n",
    "* Console.ReadKey() should not be used.\n"
   ]
  },
  {
   "cell_type": "code",
   "execution_count": null,
   "metadata": {},
   "outputs": [],
   "source": [
    "using System;\n",
    "using System.Xml;\n",
    "\n",
    "namespace LISTING_4_27_XML_DOM\n",
    "{\n",
    "    class Program\n",
    "    {\n",
    "        static public void Main(string[] args)\n",
    "        {\n",
    "            string XMLDocument = \"<?xml version=\\\"1.0\\\" encoding=\\\"utf-16\\\"?>\" +\n",
    "                \"<MusicTrack xmlns:xsi=\\\"http://www.w3.org/2001/XMLSchema-instance\\\" \" +\n",
    "                \"xmlns:xsd=\\\"http://www.w3.org/2001/XMLSchema\\\">  \" +\n",
    "                \"<Artist>Rob Miles</Artist>  \" +\n",
    "                \"<Title>My Way</Title>  \" +\n",
    "                \"<Length>150</Length>\" +\n",
    "                \"</MusicTrack>\";\n",
    "\n",
    "            XmlDocument doc = new XmlDocument();\n",
    "            doc.LoadXml(XMLDocument);\n",
    "\n",
    "            System.Xml.XmlElement rootElement = doc.DocumentElement;\n",
    "            // make sure it is the right element\n",
    "            if (rootElement.Name != \"MusicTrack\")\n",
    "            {\n",
    "                Console.WriteLine(\"Not a music track\");\n",
    "            }\n",
    "            else\n",
    "            {\n",
    "                string artist = rootElement[\"Artist\"].FirstChild.Value;\n",
    "                Console.WriteLine(\"\", artist);\n",
    "                string title = rootElement[\"Title\"].FirstChild.Value;\n",
    "                Console.WriteLine(\"Artist:{0} Title:{1}\", artist, title);\n",
    "            }\n",
    "\n",
    "            //Console.ReadKey();\n",
    "        }\n",
    "    }\n",
    "}\n"
   ]
  },
  {
   "cell_type": "code",
   "execution_count": null,
   "metadata": {},
   "outputs": [],
   "source": [
    "LISTING_4_27_XML_DOM.Program.Main(new string[0]);"
   ]
  }
 ],
 "metadata": {
  "kernelspec": {
   "display_name": "C#",
   "language": "csharp",
   "name": "kernel-spec"
  },
  "language_info": {
   "file_extension": ".cs",
   "mimetype": "text/x-csharp",
   "name": "C#",
   "pygments_lexer": "c#",
   "version": "4.0.30319"
  }
 },
 "nbformat": 4,
 "nbformat_minor": 2
}

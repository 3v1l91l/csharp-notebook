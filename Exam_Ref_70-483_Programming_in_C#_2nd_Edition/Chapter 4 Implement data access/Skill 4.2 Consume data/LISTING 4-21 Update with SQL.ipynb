{
 "cells": [
  {
   "cell_type": "markdown",
   "metadata": {},
   "source": [
    "# Info"
   ]
  },
  {
   "cell_type": "markdown",
   "metadata": {},
   "source": [
    "This example is from\n",
    "* [github.com/ExamRef70-483/Sample-Code](https://github.com/ExamRef70-483/Sample-Code)\n",
    "* [LISTING 4-21 Update with SQL](https://github.com/ExamRef70-483/Sample-Code/blob/master/LISTING%204-21%E2%80%82Update%20with%20SQL/LISTING%204-21%E2%80%82Update%20with%20SQL/Program.cs)\n",
    "\n",
    "\n",
    "## Remember\n",
    "* Main() is not called automatically. Has to be called manual. Remember '**public**'\n",
    "* Console.ReadKey() should not be used.\n"
   ]
  },
  {
   "cell_type": "code",
   "execution_count": null,
   "metadata": {},
   "outputs": [],
   "source": [
    "using System;\n",
    "using System.Data.SqlClient;\n",
    "\n",
    "\n",
    "namespace LISTING_4_21_Update_with_SQL\n",
    "{\n",
    "    class Program\n",
    "    {\n",
    "        static void dumpDatabase(SqlConnection connection)\n",
    "        {\n",
    "            SqlCommand command = new SqlCommand(\"SELECT * FROM MusicTrack\", connection);\n",
    "\n",
    "            SqlDataReader reader = command.ExecuteReader();\n",
    "\n",
    "            while (reader.Read())\n",
    "            {\n",
    "                string id = reader[\"ID\"].ToString();\n",
    "                string artist = reader[\"Artist\"].ToString();\n",
    "                string title = reader[\"Title\"].ToString();\n",
    "\n",
    "                Console.WriteLine(\"ID: {0} Artist: {1} Title: {2}\", id, artist, title);\n",
    "            }\n",
    "        }\n",
    "\n",
    "        static public void Main(string[] args)\n",
    "        {\n",
    "            // You will need to edit this string to match your database file\n",
    "            string connectionString = \"Server=(localdb)\\\\mssqllocaldb;\" +\n",
    "                \"Database=MusicTracksContext-e0f0cd0d-38fe-44a4-add2-359310ff8b5d;\" +\n",
    "                \"Trusted_Connection=True;MultipleActiveResultSets=true\";\n",
    "\n",
    "            using (SqlConnection connection = new SqlConnection(connectionString))\n",
    "            {\n",
    "                connection.Open();\n",
    "\n",
    "                dumpDatabase(connection);\n",
    "\n",
    "                SqlCommand command = new SqlCommand(\"UPDATE MusicTrack SET Artist='Robert Miles' WHERE ID='1'\", connection);\n",
    "\n",
    "                int result = command.ExecuteNonQuery();\n",
    "\n",
    "                Console.WriteLine(\"Number of entries updated: {0}\", result);\n",
    "\n",
    "                dumpDatabase(connection);\n",
    "            }\n",
    "\n",
    "            //Console.ReadKey();\n",
    "        }\n",
    "    }\n",
    "}\n"
   ]
  },
  {
   "cell_type": "code",
   "execution_count": null,
   "metadata": {},
   "outputs": [],
   "source": [
    "LISTING_4_21_Update_with_SQL.Program.Main(new string[0]);"
   ]
  }
 ],
 "metadata": {
  "kernelspec": {
   "display_name": "C#",
   "language": "csharp",
   "name": "kernel-spec"
  },
  "language_info": {
   "file_extension": ".cs",
   "mimetype": "text/x-csharp",
   "name": "C#",
   "pygments_lexer": "c#",
   "version": "4.0.30319"
  }
 },
 "nbformat": 4,
 "nbformat_minor": 2
}

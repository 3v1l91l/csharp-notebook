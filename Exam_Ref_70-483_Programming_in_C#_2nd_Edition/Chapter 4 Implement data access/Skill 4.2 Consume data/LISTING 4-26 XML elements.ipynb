{
 "cells": [
  {
   "cell_type": "markdown",
   "metadata": {},
   "source": [
    "# Info"
   ]
  },
  {
   "cell_type": "markdown",
   "metadata": {},
   "source": [
    "This example is from\n",
    "* [github.com/ExamRef70-483/Sample-Code](https://github.com/ExamRef70-483/Sample-Code)\n",
    "* [LISTING 4-26 XML elements](https://github.com/ExamRef70-483/Sample-Code/blob/master/LISTING%204-26%E2%80%82XML%20elements/LISTING%204-26%E2%80%82XML%20elements/Program.cs)\n",
    "\n",
    "\n",
    "## Remember\n",
    "* Main() is not called automatically. Has to be called manual. Remember '**public**'\n",
    "* Console.ReadKey() should not be used.\n"
   ]
  },
  {
   "cell_type": "code",
   "execution_count": null,
   "metadata": {},
   "outputs": [],
   "source": [
    "using System;\n",
    "using System.IO;\n",
    "using System.Xml;\n",
    "\n",
    "namespace LISTING_4_26_XML_elements\n",
    "{\n",
    "    class Program\n",
    "    {\n",
    "        static public void Main(string[] args)\n",
    "        {\n",
    "            string XMLDocument = \"<?xml version=\\\"1.0\\\" encoding=\\\"utf-16\\\"?>\" +\n",
    "                \"<MusicTrack xmlns:xsi=\\\"http://www.w3.org/2001/XMLSchema-instance\\\" \" +\n",
    "                \"xmlns:xsd=\\\"http://www.w3.org/2001/XMLSchema\\\">  \" +\n",
    "                \"<Artist>Rob Miles</Artist>  \" +\n",
    "                \"<Title>My Way</Title>  \" +\n",
    "                \"<Length>150</Length>\" +\n",
    "                \"</MusicTrack>\";\n",
    "\n",
    "            using (StringReader stringReader = new StringReader(XMLDocument))\n",
    "            {\n",
    "                XmlTextReader reader = new XmlTextReader(stringReader);\n",
    "\n",
    "                while (reader.Read())\n",
    "                {\n",
    "                    string description = string.Format(\"Type:{0} Name:{1} Value:{2}\",\n",
    "                        reader.NodeType.ToString(),\n",
    "                        reader.Name,\n",
    "                        reader.Value);\n",
    "                    Console.WriteLine(description);\n",
    "                }\n",
    "            }\n",
    "\n",
    "            //Console.ReadKey();\n",
    "        }\n",
    "    }\n",
    "}\n"
   ]
  },
  {
   "cell_type": "code",
   "execution_count": null,
   "metadata": {},
   "outputs": [],
   "source": [
    "LISTING_4_26_XML_elements.Program.Main(new string[0]);"
   ]
  }
 ],
 "metadata": {
  "kernelspec": {
   "display_name": "C#",
   "language": "csharp",
   "name": "kernel-spec"
  },
  "language_info": {
   "file_extension": ".cs",
   "mimetype": "text/x-csharp",
   "name": "C#",
   "pygments_lexer": "c#",
   "version": "4.0.30319"
  }
 },
 "nbformat": 4,
 "nbformat_minor": 2
}

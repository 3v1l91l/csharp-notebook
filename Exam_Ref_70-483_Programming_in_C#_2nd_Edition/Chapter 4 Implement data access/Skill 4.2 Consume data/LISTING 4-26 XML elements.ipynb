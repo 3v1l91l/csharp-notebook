{
 "cells": [
  {
   "cell_type": "markdown",
   "metadata": {},
   "source": [
    "# Info"
   ]
  },
  {
   "cell_type": "markdown",
   "metadata": {},
   "source": [
    "This example is from\n",
    "* [github.com/ExamRef70-483/Sample-Code](https://github.com/ExamRef70-483/Sample-Code)\n",
    "* [LISTING 4-26 XML elements](https://github.com/ExamRef70-483/Sample-Code/blob/master/LISTING%204-26%E2%80%82XML%20elements/LISTING%204-26%E2%80%82XML%20elements/Program.cs)\n",
    "\n",
    "\n",
    "## Remember\n",
    "* Main() is not called automatically. Has to be called manual. Remember '**public**'\n",
    "* Console.ReadKey() should not be used.\n"
   ]
  },
  {
   "cell_type": "code",
   "execution_count": 1,
   "metadata": {},
   "outputs": [],
   "source": [
    "using System;\n",
    "using System.IO;\n",
    "using System.Xml;\n",
    "\n",
    "namespace LISTING_4_26_XML_elements\n",
    "{\n",
    "    class Program\n",
    "    {\n",
    "        static public void Main(string[] args)\n",
    "        {\n",
    "            string XMLDocument = \"<?xml version=\\\"1.0\\\" encoding=\\\"utf-16\\\"?>\" +\n",
    "                \"<MusicTrack xmlns:xsi=\\\"http://www.w3.org/2001/XMLSchema-instance\\\" \" +\n",
    "                \"xmlns:xsd=\\\"http://www.w3.org/2001/XMLSchema\\\">  \" +\n",
    "                \"<Artist>Rob Miles</Artist>  \" +\n",
    "                \"<Title>My Way</Title>  \" +\n",
    "                \"<Length>150</Length>\" +\n",
    "                \"</MusicTrack>\";\n",
    "\n",
    "            using (StringReader stringReader = new StringReader(XMLDocument))\n",
    "            {\n",
    "                XmlTextReader reader = new XmlTextReader(stringReader);\n",
    "\n",
    "                while (reader.Read())\n",
    "                {\n",
    "                    string description = string.Format(\"Type:{0} Name:{1} Value:{2}\",\n",
    "                        reader.NodeType.ToString(),\n",
    "                        reader.Name,\n",
    "                        reader.Value);\n",
    "                    Console.WriteLine(description);\n",
    "                }\n",
    "            }\n",
    "\n",
    "            //Console.ReadKey();\n",
    "        }\n",
    "    }\n",
    "}\n"
   ]
  },
  {
   "cell_type": "code",
   "execution_count": 2,
   "metadata": {},
   "outputs": [
    {
     "data": {
      "text/html": [
       "Type:XmlDeclaration Name:xml Value:version=&quot;1.0&quot; encoding=&quot;utf-16&quot;"
      ],
      "text/plain": [
       "Type:XmlDeclaration Name:xml Value:version=\"1.0\" encoding=\"utf-16\""
      ]
     },
     "metadata": {},
     "output_type": "display_data"
    },
    {
     "data": {
      "text/html": [
       "Type:Element Name:MusicTrack Value:"
      ],
      "text/plain": [
       "Type:Element Name:MusicTrack Value:"
      ]
     },
     "metadata": {},
     "output_type": "display_data"
    },
    {
     "data": {
      "text/html": [
       "Type:Whitespace Name: Value:  "
      ],
      "text/plain": [
       "Type:Whitespace Name: Value:  "
      ]
     },
     "metadata": {},
     "output_type": "display_data"
    },
    {
     "data": {
      "text/html": [
       "Type:Element Name:Artist Value:"
      ],
      "text/plain": [
       "Type:Element Name:Artist Value:"
      ]
     },
     "metadata": {},
     "output_type": "display_data"
    },
    {
     "data": {
      "text/html": [
       "Type:Text Name: Value:Rob Miles"
      ],
      "text/plain": [
       "Type:Text Name: Value:Rob Miles"
      ]
     },
     "metadata": {},
     "output_type": "display_data"
    },
    {
     "data": {
      "text/html": [
       "Type:EndElement Name:Artist Value:"
      ],
      "text/plain": [
       "Type:EndElement Name:Artist Value:"
      ]
     },
     "metadata": {},
     "output_type": "display_data"
    },
    {
     "data": {
      "text/html": [
       "Type:Whitespace Name: Value:  "
      ],
      "text/plain": [
       "Type:Whitespace Name: Value:  "
      ]
     },
     "metadata": {},
     "output_type": "display_data"
    },
    {
     "data": {
      "text/html": [
       "Type:Element Name:Title Value:"
      ],
      "text/plain": [
       "Type:Element Name:Title Value:"
      ]
     },
     "metadata": {},
     "output_type": "display_data"
    },
    {
     "data": {
      "text/html": [
       "Type:Text Name: Value:My Way"
      ],
      "text/plain": [
       "Type:Text Name: Value:My Way"
      ]
     },
     "metadata": {},
     "output_type": "display_data"
    },
    {
     "data": {
      "text/html": [
       "Type:EndElement Name:Title Value:"
      ],
      "text/plain": [
       "Type:EndElement Name:Title Value:"
      ]
     },
     "metadata": {},
     "output_type": "display_data"
    },
    {
     "data": {
      "text/html": [
       "Type:Whitespace Name: Value:  "
      ],
      "text/plain": [
       "Type:Whitespace Name: Value:  "
      ]
     },
     "metadata": {},
     "output_type": "display_data"
    },
    {
     "data": {
      "text/html": [
       "Type:Element Name:Length Value:"
      ],
      "text/plain": [
       "Type:Element Name:Length Value:"
      ]
     },
     "metadata": {},
     "output_type": "display_data"
    },
    {
     "data": {
      "text/html": [
       "Type:Text Name: Value:150"
      ],
      "text/plain": [
       "Type:Text Name: Value:150"
      ]
     },
     "metadata": {},
     "output_type": "display_data"
    },
    {
     "data": {
      "text/html": [
       "Type:EndElement Name:Length Value:"
      ],
      "text/plain": [
       "Type:EndElement Name:Length Value:"
      ]
     },
     "metadata": {},
     "output_type": "display_data"
    },
    {
     "data": {
      "text/html": [
       "Type:EndElement Name:MusicTrack Value:"
      ],
      "text/plain": [
       "Type:EndElement Name:MusicTrack Value:"
      ]
     },
     "metadata": {},
     "output_type": "display_data"
    }
   ],
   "source": [
    "LISTING_4_26_XML_elements.Program.Main(new string[0]);"
   ]
  }
 ],
 "metadata": {
  "kernelspec": {
   "display_name": "C#",
   "language": "csharp",
   "name": "kernel-spec"
  },
  "language_info": {
   "file_extension": ".cs",
   "mimetype": "text/x-csharp",
   "name": "C#",
   "pygments_lexer": "c#",
   "version": "4.0.30319"
  }
 },
 "nbformat": 4,
 "nbformat_minor": 2
}

{
 "cells": [
  {
   "cell_type": "markdown",
   "metadata": {},
   "source": [
    "# Info"
   ]
  },
  {
   "cell_type": "markdown",
   "metadata": {},
   "source": [
    "This example is from\n",
    "* [github.com/ExamRef70-483/Sample-Code](https://github.com/ExamRef70-483/Sample-Code)\n",
    "* [LISTING 4-40 Complex query](https://github.com/ExamRef70-483/Sample-Code/blob/master/LISTING%204-40%20Complex%20query/LISTING%204-40%20Complex%20query/Program.cs)\n",
    "\n",
    "\n",
    "## Remember\n",
    "* Main() is not called automatically. Has to be called manual. Remember '**public**'\n",
    "* Console.ReadKey() should not be used.\n"
   ]
  },
  {
   "cell_type": "code",
   "execution_count": null,
   "metadata": {},
   "outputs": [],
   "source": [
    "using System;\n",
    "using System.Collections.Generic;\n",
    "using System.Linq;\n",
    "\n",
    "namespace LISTING_4_40_Complex_query\n",
    "{\n",
    "    class Artist\n",
    "    {\n",
    "        public int ID { get; set; }\n",
    "        public string Name { get; set; }\n",
    "    }\n",
    "\n",
    "    class MusicTrack\n",
    "    {\n",
    "        public int ID { get; set; }\n",
    "        public int ArtistID { get; set; }\n",
    "        public string Title { get; set; }\n",
    "        public int Length { get; set; }\n",
    "    }\n",
    "\n",
    "    class Program\n",
    "    {\n",
    "        static public void Main(string[] args)\n",
    "        {\n",
    "            string[] artistNames = new string[] { \"Rob Miles\", \"Fred Bloggs\", \"The Bloggs Singers\", \"Immy Brown\" };\n",
    "            string[] titleNames = new string[] { \"My Way\", \"Your Way\", \"His Way\", \"Her Way\", \"Milky Way\" };\n",
    "\n",
    "            List<Artist> Artists = new List<Artist>();\n",
    "            List<MusicTrack> MusicTracks = new List<MusicTrack>();\n",
    "\n",
    "            Random rand = new Random(1);\n",
    "            int IDcount = 0;\n",
    "\n",
    "            foreach (string artistName in artistNames)\n",
    "            {\n",
    "                Artist newArtist = new Artist { ID = IDcount++, Name = artistName };\n",
    "                Artists.Add(newArtist);\n",
    "                foreach (string titleName in titleNames)\n",
    "                {\n",
    "                    MusicTrack newTrack = new MusicTrack\n",
    "                    {\n",
    "                        ID = IDcount++,\n",
    "                        ArtistID = newArtist.ID,\n",
    "                        Title = titleName,\n",
    "                        Length = rand.Next(20, 600)\n",
    "                    };\n",
    "                    MusicTracks.Add(newTrack);\n",
    "                }\n",
    "            }\n",
    "\n",
    "            var artistSummary = from artist in Artists\n",
    "                                orderby artist.Name\n",
    "                                join track in MusicTracks on artist.ID equals track.ArtistID\n",
    "                                group track by artist.Name into artistTrackSummary\n",
    "                                select\n",
    "                                new\n",
    "                                {\n",
    "                                    ArtistName = artistTrackSummary.Key,\n",
    "                                    Length = artistTrackSummary.Sum(x => x.Length)\n",
    "                                };\n",
    "\n",
    "            foreach (var summary in artistSummary)\n",
    "            {\n",
    "                Console.WriteLine(\"Name:{0}  Total length:{1}\",\n",
    "                    summary.ArtistName, summary.Length);\n",
    "            }\n",
    "            //Console.ReadKey();\n",
    "        }\n",
    "    }\n",
    "}\n"
   ]
  },
  {
   "cell_type": "code",
   "execution_count": null,
   "metadata": {},
   "outputs": [],
   "source": [
    "LISTING_4_40_Complex_query.Program.Main(new string[0]);"
   ]
  }
 ],
 "metadata": {
  "kernelspec": {
   "display_name": "C#",
   "language": "csharp",
   "name": "kernel-spec"
  },
  "language_info": {
   "file_extension": ".cs",
   "mimetype": "text/x-csharp",
   "name": "C#",
   "pygments_lexer": "c#",
   "version": "4.0.30319"
  }
 },
 "nbformat": 4,
 "nbformat_minor": 2
}

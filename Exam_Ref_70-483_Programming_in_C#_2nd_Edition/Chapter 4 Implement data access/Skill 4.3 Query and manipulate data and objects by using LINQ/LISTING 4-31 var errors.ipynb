{
 "cells": [
  {
   "cell_type": "markdown",
   "metadata": {},
   "source": [
    "# Info"
   ]
  },
  {
   "cell_type": "markdown",
   "metadata": {},
   "source": [
    "This example is from\n",
    "* [github.com/ExamRef70-483/Sample-Code](https://github.com/ExamRef70-483/Sample-Code)\n",
    "* [LISTING 4-31 var errors](https://github.com/ExamRef70-483/Sample-Code/blob/master/LISTING%204-31%20var%20errors/LISTING%204-31%20var%20errors/Program.cs)\n",
    "\n",
    "\n",
    "## Remember\n",
    "* Main() is not called automatically. Has to be called manual. Remember '**public**'\n",
    "* Console.ReadKey() should not be used.\n"
   ]
  },
  {
   "cell_type": "code",
   "execution_count": 1,
   "metadata": {},
   "outputs": [
    {
     "data": {
      "text/html": [
       "(9,25): error CS0019: Operator `-&#39; cannot be applied to operands of type `int&#39; and `string&#39;"
      ],
      "text/plain": [
       "(9,25): error CS0019: Operator `-' cannot be applied to operands of type `int' and `string'"
      ]
     },
     "metadata": {},
     "output_type": "display_data"
    },
    {
     "data": {
      "text/html": [
       "(13,26): error CS0019: Operator `-&#39; cannot be applied to operands of type `int&#39; and `string&#39;"
      ],
      "text/plain": [
       "(13,26): error CS0019: Operator `-' cannot be applied to operands of type `int' and `string'"
      ]
     },
     "metadata": {},
     "output_type": "display_data"
    }
   ],
   "source": [
    "namespace LISTING_4_31_var_errors\n",
    "{\n",
    "    class Program\n",
    "    {\n",
    "        static public void Main(string[] args)\n",
    "        {\n",
    "            string name = \"Rob Miles\";\n",
    "            int age = 21;\n",
    "            int silly = age - name;\n",
    "\n",
    "            var namev = \"Rob Miles\";\n",
    "            var agev = 21;\n",
    "            var sillyv = agev - namev;\n",
    "        }\n",
    "    }\n",
    "}\n"
   ]
  },
  {
   "cell_type": "code",
   "execution_count": 2,
   "metadata": {},
   "outputs": [],
   "source": [
    "LISTING_4_31_var_errors.Program.Main(new string[0]);"
   ]
  }
 ],
 "metadata": {
  "kernelspec": {
   "display_name": "C#",
   "language": "csharp",
   "name": "kernel-spec"
  },
  "language_info": {
   "file_extension": ".cs",
   "mimetype": "text/x-csharp",
   "name": "C#",
   "pygments_lexer": "c#",
   "version": "4.0.30319"
  }
 },
 "nbformat": 4,
 "nbformat_minor": 2
}

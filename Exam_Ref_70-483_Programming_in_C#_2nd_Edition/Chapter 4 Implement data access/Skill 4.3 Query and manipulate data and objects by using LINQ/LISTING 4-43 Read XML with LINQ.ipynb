{
 "cells": [
  {
   "cell_type": "markdown",
   "metadata": {},
   "source": [
    "# Info"
   ]
  },
  {
   "cell_type": "markdown",
   "metadata": {},
   "source": [
    "This example is from\n",
    "* [github.com/ExamRef70-483/Sample-Code](https://github.com/ExamRef70-483/Sample-Code)\n",
    "* [LISTING 4-43 Read XML with LINQ](https://github.com/ExamRef70-483/Sample-Code/blob/master/LISTING%204-43%20Read%20XML%20with%20LINQ/LISTING%204-43%20Read%20XML%20with%20LINQ/Program.cs)\n",
    "\n",
    "\n",
    "## Remember\n",
    "* Main() is not called automatically. Has to be called manual. Remember '**public**'\n",
    "* Console.ReadKey() should not be used.\n"
   ]
  },
  {
   "cell_type": "code",
   "execution_count": null,
   "metadata": {},
   "outputs": [],
   "source": [
    "using System;\n",
    "using System.Collections.Generic;\n",
    "using System.Linq;\n",
    "using System.Xml.Linq;\n",
    "\n",
    "namespace LISTING_4_43_Read_XML_with_LINQ\n",
    "{\n",
    "    class Program\n",
    "    {\n",
    "        static public void Main(string[] args)\n",
    "        {\n",
    "            string XMLText =\n",
    "                \"<MusicTracks>\" +\n",
    "                    \"<MusicTrack>\" +\n",
    "                        \"<Artist>Rob Miles</Artist>  \" +\n",
    "                        \"<Title>My Way</Title>  \" +\n",
    "                        \"<Length>150</Length>\" +\n",
    "                    \"</MusicTrack>\" +\n",
    "\n",
    "                    \"<MusicTrack>\" +\n",
    "                        \"<Artist>Immy Brown</Artist>  \" +\n",
    "                        \"<Title>Her Way</Title>  \" +\n",
    "                        \"<Length>200</Length>\" +\n",
    "                    \"</MusicTrack>\" +\n",
    "                \"</MusicTracks>\";\n",
    "\n",
    "            XDocument musicTracksDocument = XDocument.Parse(XMLText);\n",
    "\n",
    "            IEnumerable<XElement> selectedTracks = from track in musicTracksDocument.Descendants(\"MusicTrack\")\n",
    "                                                   select track;\n",
    "\n",
    "            foreach (XElement item in selectedTracks)\n",
    "            {\n",
    "                Console.WriteLine(\"Artist:{0} Title:{1}\",\n",
    "                    item.Element(\"Artist\").FirstNode,\n",
    "                    item.Element(\"Title\").FirstNode);\n",
    "            }\n",
    "\n",
    "            //Console.ReadKey();\n",
    "        }\n",
    "    }\n",
    "}\n"
   ]
  },
  {
   "cell_type": "code",
   "execution_count": null,
   "metadata": {},
   "outputs": [],
   "source": [
    "LISTING_4_43_Read_XML_with_LINQ.Program.Main(new string[0]);"
   ]
  }
 ],
 "metadata": {
  "kernelspec": {
   "display_name": "C#",
   "language": "csharp",
   "name": "kernel-spec"
  },
  "language_info": {
   "file_extension": ".cs",
   "mimetype": "text/x-csharp",
   "name": "C#",
   "pygments_lexer": "c#",
   "version": "4.0.30319"
  }
 },
 "nbformat": 4,
 "nbformat_minor": 2
}

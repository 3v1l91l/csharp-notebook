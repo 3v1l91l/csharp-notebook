{
 "cells": [
  {
   "cell_type": "markdown",
   "metadata": {},
   "source": [
    "# Info"
   ]
  },
  {
   "cell_type": "markdown",
   "metadata": {},
   "source": [
    "This example is from\n",
    "* [github.com/ExamRef70-483/Sample-Code](https://github.com/ExamRef70-483/Sample-Code)\n",
    "* [LISTING 4-37 LINQ take and skip](https://github.com/ExamRef70-483/Sample-Code/blob/master/LISTING%204-37%20LINQ%20take%20and%20skip/LISTING%204-37%20LINQ%20take%20and%20skip/Program.cs)\n",
    "\n",
    "\n",
    "## Remember\n",
    "* Main() is not called automatically. Has to be called manual. Remember '**public**'\n",
    "* Console.ReadKey() should not be used.\n"
   ]
  },
  {
   "cell_type": "code",
   "execution_count": 1,
   "metadata": {},
   "outputs": [],
   "source": [
    "using System;\n",
    "using System.Collections.Generic;\n",
    "using System.Linq;\n",
    "\n",
    "namespace LISTING_4_37_LINQ_take_and_skip\n",
    "{\n",
    "    class Artist\n",
    "    {\n",
    "        public int ID { get; set; }\n",
    "        public string Name { get; set; }\n",
    "    }\n",
    "\n",
    "    class MusicTrack\n",
    "    {\n",
    "        public int ID { get; set; }\n",
    "        public int ArtistID { get; set; }\n",
    "        public string Title { get; set; }\n",
    "        public int Length { get; set; }\n",
    "    }\n",
    "\n",
    "    class Program\n",
    "    {\n",
    "        static public void Main(string[] args)\n",
    "        {\n",
    "            string[] artistNames = new string[] { \"Rob Miles\", \"Fred Bloggs\", \"The Bloggs Singers\", \"Immy Brown\" };\n",
    "            string[] titleNames = new string[] { \"My Way\", \"Your Way\", \"His Way\", \"Her Way\", \"Milky Way\" };\n",
    "\n",
    "            List<Artist> artists = new List<Artist>();\n",
    "            List<MusicTrack> musicTracks = new List<MusicTrack>();\n",
    "\n",
    "            Random rand = new Random(1);\n",
    "            int IDcount = 0;\n",
    "\n",
    "            foreach (string artistName in artistNames)\n",
    "            {\n",
    "                Artist newArtist = new Artist { ID = IDcount++, Name = artistName };\n",
    "                artists.Add(newArtist);\n",
    "                foreach (string titleName in titleNames)\n",
    "                {\n",
    "                    MusicTrack newTrack = new MusicTrack\n",
    "                    {\n",
    "                        ID = IDcount++,\n",
    "                        ArtistID = newArtist.ID,\n",
    "                        Title = titleName,\n",
    "                        Length = rand.Next(20, 600)\n",
    "                    };\n",
    "                    musicTracks.Add(newTrack);\n",
    "                }\n",
    "            }\n",
    "\n",
    "            int pageNo = 0;\n",
    "            int pageSize = 10;\n",
    "\n",
    "            while(true)\n",
    "            {\n",
    "                // Get the track information\n",
    "                var trackList = from musicTrack in musicTracks.Skip(pageNo*pageSize).Take(pageSize)\n",
    "                                join artist in artists on musicTrack.ArtistID equals artist.ID\n",
    "                                select new\n",
    "                                {\n",
    "                                    ArtistName = artist.Name,\n",
    "                                    musicTrack.Title\n",
    "                                };\n",
    "\n",
    "                // Quit if we reached the end of the data\n",
    "                if (trackList.Count() == 0)\n",
    "                    break;\n",
    "\n",
    "                // Display the query result\n",
    "                foreach (var item in trackList)\n",
    "                {\n",
    "                    Console.WriteLine(\"Artist:{0} Title:{1}\",\n",
    "                       item.ArtistName, item.Title);\n",
    "                }\n",
    "\n",
    "                Console.Write(\"Press any key to continue\");\n",
    "                //Console.ReadKey();\n",
    "\n",
    "                // move on to the next page\n",
    "                pageNo++;\n",
    "            }\n",
    "\n",
    "            Console.Write(\"Press any key to exit\");\n",
    "            //Console.ReadKey();\n",
    "        }\n",
    "    }\n",
    "}\n"
   ]
  },
  {
   "cell_type": "code",
   "execution_count": 2,
   "metadata": {},
   "outputs": [
    {
     "data": {
      "text/html": [
       "Artist:Rob Miles Title:My Way"
      ],
      "text/plain": [
       "Artist:Rob Miles Title:My Way"
      ]
     },
     "metadata": {},
     "output_type": "display_data"
    },
    {
     "data": {
      "text/html": [
       "Artist:Rob Miles Title:Your Way"
      ],
      "text/plain": [
       "Artist:Rob Miles Title:Your Way"
      ]
     },
     "metadata": {},
     "output_type": "display_data"
    },
    {
     "data": {
      "text/html": [
       "Artist:Rob Miles Title:His Way"
      ],
      "text/plain": [
       "Artist:Rob Miles Title:His Way"
      ]
     },
     "metadata": {},
     "output_type": "display_data"
    },
    {
     "data": {
      "text/html": [
       "Artist:Rob Miles Title:Her Way"
      ],
      "text/plain": [
       "Artist:Rob Miles Title:Her Way"
      ]
     },
     "metadata": {},
     "output_type": "display_data"
    },
    {
     "data": {
      "text/html": [
       "Artist:Rob Miles Title:Milky Way"
      ],
      "text/plain": [
       "Artist:Rob Miles Title:Milky Way"
      ]
     },
     "metadata": {},
     "output_type": "display_data"
    },
    {
     "data": {
      "text/html": [
       "Artist:Fred Bloggs Title:My Way"
      ],
      "text/plain": [
       "Artist:Fred Bloggs Title:My Way"
      ]
     },
     "metadata": {},
     "output_type": "display_data"
    },
    {
     "data": {
      "text/html": [
       "Artist:Fred Bloggs Title:Your Way"
      ],
      "text/plain": [
       "Artist:Fred Bloggs Title:Your Way"
      ]
     },
     "metadata": {},
     "output_type": "display_data"
    },
    {
     "data": {
      "text/html": [
       "Artist:Fred Bloggs Title:His Way"
      ],
      "text/plain": [
       "Artist:Fred Bloggs Title:His Way"
      ]
     },
     "metadata": {},
     "output_type": "display_data"
    },
    {
     "data": {
      "text/html": [
       "Artist:Fred Bloggs Title:Her Way"
      ],
      "text/plain": [
       "Artist:Fred Bloggs Title:Her Way"
      ]
     },
     "metadata": {},
     "output_type": "display_data"
    },
    {
     "data": {
      "text/html": [
       "Artist:Fred Bloggs Title:Milky Way"
      ],
      "text/plain": [
       "Artist:Fred Bloggs Title:Milky Way"
      ]
     },
     "metadata": {},
     "output_type": "display_data"
    },
    {
     "data": {
      "text/html": [
       "Press any key to continue"
      ],
      "text/plain": [
       "Press any key to continue"
      ]
     },
     "metadata": {},
     "output_type": "display_data"
    },
    {
     "data": {
      "text/html": [
       "Artist:The Bloggs Singers Title:My Way"
      ],
      "text/plain": [
       "Artist:The Bloggs Singers Title:My Way"
      ]
     },
     "metadata": {},
     "output_type": "display_data"
    },
    {
     "data": {
      "text/html": [
       "Artist:The Bloggs Singers Title:Your Way"
      ],
      "text/plain": [
       "Artist:The Bloggs Singers Title:Your Way"
      ]
     },
     "metadata": {},
     "output_type": "display_data"
    },
    {
     "data": {
      "text/html": [
       "Artist:The Bloggs Singers Title:His Way"
      ],
      "text/plain": [
       "Artist:The Bloggs Singers Title:His Way"
      ]
     },
     "metadata": {},
     "output_type": "display_data"
    },
    {
     "data": {
      "text/html": [
       "Artist:The Bloggs Singers Title:Her Way"
      ],
      "text/plain": [
       "Artist:The Bloggs Singers Title:Her Way"
      ]
     },
     "metadata": {},
     "output_type": "display_data"
    },
    {
     "data": {
      "text/html": [
       "Artist:The Bloggs Singers Title:Milky Way"
      ],
      "text/plain": [
       "Artist:The Bloggs Singers Title:Milky Way"
      ]
     },
     "metadata": {},
     "output_type": "display_data"
    },
    {
     "data": {
      "text/html": [
       "Artist:Immy Brown Title:My Way"
      ],
      "text/plain": [
       "Artist:Immy Brown Title:My Way"
      ]
     },
     "metadata": {},
     "output_type": "display_data"
    },
    {
     "data": {
      "text/html": [
       "Artist:Immy Brown Title:Your Way"
      ],
      "text/plain": [
       "Artist:Immy Brown Title:Your Way"
      ]
     },
     "metadata": {},
     "output_type": "display_data"
    },
    {
     "data": {
      "text/html": [
       "Artist:Immy Brown Title:His Way"
      ],
      "text/plain": [
       "Artist:Immy Brown Title:His Way"
      ]
     },
     "metadata": {},
     "output_type": "display_data"
    },
    {
     "data": {
      "text/html": [
       "Artist:Immy Brown Title:Her Way"
      ],
      "text/plain": [
       "Artist:Immy Brown Title:Her Way"
      ]
     },
     "metadata": {},
     "output_type": "display_data"
    },
    {
     "data": {
      "text/html": [
       "Artist:Immy Brown Title:Milky Way"
      ],
      "text/plain": [
       "Artist:Immy Brown Title:Milky Way"
      ]
     },
     "metadata": {},
     "output_type": "display_data"
    },
    {
     "data": {
      "text/html": [
       "Press any key to continue"
      ],
      "text/plain": [
       "Press any key to continue"
      ]
     },
     "metadata": {},
     "output_type": "display_data"
    },
    {
     "data": {
      "text/html": [
       "Press any key to exit"
      ],
      "text/plain": [
       "Press any key to exit"
      ]
     },
     "metadata": {},
     "output_type": "display_data"
    }
   ],
   "source": [
    "LISTING_4_37_LINQ_take_and_skip.Program.Main(new string[0]);"
   ]
  }
 ],
 "metadata": {
  "kernelspec": {
   "display_name": "C#",
   "language": "csharp",
   "name": "kernel-spec"
  },
  "language_info": {
   "file_extension": ".cs",
   "mimetype": "text/x-csharp",
   "name": "C#",
   "pygments_lexer": "c#",
   "version": "4.0.30319"
  }
 },
 "nbformat": 4,
 "nbformat_minor": 2
}

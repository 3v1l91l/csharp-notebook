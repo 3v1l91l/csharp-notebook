{
 "cells": [
  {
   "cell_type": "markdown",
   "metadata": {},
   "source": [
    "# Info"
   ]
  },
  {
   "cell_type": "markdown",
   "metadata": {},
   "source": [
    "This example is from\n",
    "* [github.com/ExamRef70-483/Sample-Code](https://github.com/ExamRef70-483/Sample-Code)\n",
    "* [LISTING 4-29 Musictrack classes](https://github.com/ExamRef70-483/Sample-Code/blob/master/LISTING%204-29%20Musictrack%20classes/LISTING%204-29%20Musictrack%20classes/Program.cs)\n",
    "\n",
    "\n",
    "## Remember\n",
    "* Main() is not called automatically. Has to be called manual. Remember '**public**'\n",
    "* Console.ReadKey() should not be used.\n"
   ]
  },
  {
   "cell_type": "code",
   "execution_count": 1,
   "metadata": {},
   "outputs": [],
   "source": [
    "using System;\n",
    "using System.Collections.Generic;\n",
    "\n",
    "namespace LISTING_4_29_Musictrack_classes\n",
    "{\n",
    "    class Artist\n",
    "    {\n",
    "        public string Name { get; set; }\n",
    "    }\n",
    "\n",
    "    class MusicTrack\n",
    "    {\n",
    "        public Artist Artist { get; set; }\n",
    "        public string Title { get; set; }\n",
    "        public int Length { get; set; }\n",
    "    }\n",
    "\n",
    "    class Program\n",
    "    {\n",
    "        static public void Main(string[] args)\n",
    "        {\n",
    "            string[] artistNames = new string[] { \"Rob Miles\", \"Fred Bloggs\", \"The Bloggs Singers\", \"Immy Brown\" };\n",
    "            string[] titleNames = new string[] { \"My Way\", \"Your Way\", \"His Way\", \"Her Way\", \"Milky Way\" };\n",
    "\n",
    "            List<Artist> artists = new List<Artist>();\n",
    "            List<MusicTrack> musicTracks = new List<MusicTrack>();\n",
    "\n",
    "            Random rand = new Random(1);\n",
    "\n",
    "            foreach (string artistName in artistNames)\n",
    "            {\n",
    "                Artist newArtist = new Artist { Name = artistName };\n",
    "                artists.Add(newArtist);\n",
    "                foreach (string titleName in titleNames)\n",
    "                {\n",
    "                    MusicTrack newTrack = new MusicTrack\n",
    "                    {\n",
    "                        Artist = newArtist,\n",
    "                        Title = titleName,\n",
    "                        Length = rand.Next(20, 600)\n",
    "                    };\n",
    "                    musicTracks.Add(newTrack);\n",
    "                }\n",
    "            }\n",
    "\n",
    "            foreach (MusicTrack track in musicTracks)\n",
    "            {\n",
    "                Console.WriteLine(\"Artist:{0} Title:{1} Length:{2}\",\n",
    "                    track.Artist.Name, track.Title, track.Length);\n",
    "            }\n",
    "\n",
    "            //Console.ReadKey();\n",
    "        }\n",
    "    }\n",
    "}\n"
   ]
  },
  {
   "cell_type": "code",
   "execution_count": 2,
   "metadata": {},
   "outputs": [
    {
     "data": {
      "text/html": [
       "Artist:Rob Miles Title:My Way Length:164"
      ],
      "text/plain": [
       "Artist:Rob Miles Title:My Way Length:164"
      ]
     },
     "metadata": {},
     "output_type": "display_data"
    },
    {
     "data": {
      "text/html": [
       "Artist:Rob Miles Title:Your Way Length:84"
      ],
      "text/plain": [
       "Artist:Rob Miles Title:Your Way Length:84"
      ]
     },
     "metadata": {},
     "output_type": "display_data"
    },
    {
     "data": {
      "text/html": [
       "Artist:Rob Miles Title:His Way Length:290"
      ],
      "text/plain": [
       "Artist:Rob Miles Title:His Way Length:290"
      ]
     },
     "metadata": {},
     "output_type": "display_data"
    },
    {
     "data": {
      "text/html": [
       "Artist:Rob Miles Title:Her Way Length:467"
      ],
      "text/plain": [
       "Artist:Rob Miles Title:Her Way Length:467"
      ]
     },
     "metadata": {},
     "output_type": "display_data"
    },
    {
     "data": {
      "text/html": [
       "Artist:Rob Miles Title:Milky Way Length:401"
      ],
      "text/plain": [
       "Artist:Rob Miles Title:Milky Way Length:401"
      ]
     },
     "metadata": {},
     "output_type": "display_data"
    },
    {
     "data": {
      "text/html": [
       "Artist:Fred Bloggs Title:My Way Length:271"
      ],
      "text/plain": [
       "Artist:Fred Bloggs Title:My Way Length:271"
      ]
     },
     "metadata": {},
     "output_type": "display_data"
    },
    {
     "data": {
      "text/html": [
       "Artist:Fred Bloggs Title:Your Way Length:225"
      ],
      "text/plain": [
       "Artist:Fred Bloggs Title:Your Way Length:225"
      ]
     },
     "metadata": {},
     "output_type": "display_data"
    },
    {
     "data": {
      "text/html": [
       "Artist:Fred Bloggs Title:His Way Length:567"
      ],
      "text/plain": [
       "Artist:Fred Bloggs Title:His Way Length:567"
      ]
     },
     "metadata": {},
     "output_type": "display_data"
    },
    {
     "data": {
      "text/html": [
       "Artist:Fred Bloggs Title:Her Way Length:78"
      ],
      "text/plain": [
       "Artist:Fred Bloggs Title:Her Way Length:78"
      ]
     },
     "metadata": {},
     "output_type": "display_data"
    },
    {
     "data": {
      "text/html": [
       "Artist:Fred Bloggs Title:Milky Way Length:392"
      ],
      "text/plain": [
       "Artist:Fred Bloggs Title:Milky Way Length:392"
      ]
     },
     "metadata": {},
     "output_type": "display_data"
    },
    {
     "data": {
      "text/html": [
       "Artist:The Bloggs Singers Title:My Way Length:36"
      ],
      "text/plain": [
       "Artist:The Bloggs Singers Title:My Way Length:36"
      ]
     },
     "metadata": {},
     "output_type": "display_data"
    },
    {
     "data": {
      "text/html": [
       "Artist:The Bloggs Singers Title:Your Way Length:163"
      ],
      "text/plain": [
       "Artist:The Bloggs Singers Title:Your Way Length:163"
      ]
     },
     "metadata": {},
     "output_type": "display_data"
    },
    {
     "data": {
      "text/html": [
       "Artist:The Bloggs Singers Title:His Way Length:205"
      ],
      "text/plain": [
       "Artist:The Bloggs Singers Title:His Way Length:205"
      ]
     },
     "metadata": {},
     "output_type": "display_data"
    },
    {
     "data": {
      "text/html": [
       "Artist:The Bloggs Singers Title:Her Way Length:594"
      ],
      "text/plain": [
       "Artist:The Bloggs Singers Title:Her Way Length:594"
      ]
     },
     "metadata": {},
     "output_type": "display_data"
    },
    {
     "data": {
      "text/html": [
       "Artist:The Bloggs Singers Title:Milky Way Length:415"
      ],
      "text/plain": [
       "Artist:The Bloggs Singers Title:Milky Way Length:415"
      ]
     },
     "metadata": {},
     "output_type": "display_data"
    },
    {
     "data": {
      "text/html": [
       "Artist:Immy Brown Title:My Way Length:399"
      ],
      "text/plain": [
       "Artist:Immy Brown Title:My Way Length:399"
      ]
     },
     "metadata": {},
     "output_type": "display_data"
    },
    {
     "data": {
      "text/html": [
       "Artist:Immy Brown Title:Your Way Length:183"
      ],
      "text/plain": [
       "Artist:Immy Brown Title:Your Way Length:183"
      ]
     },
     "metadata": {},
     "output_type": "display_data"
    },
    {
     "data": {
      "text/html": [
       "Artist:Immy Brown Title:His Way Length:376"
      ],
      "text/plain": [
       "Artist:Immy Brown Title:His Way Length:376"
      ]
     },
     "metadata": {},
     "output_type": "display_data"
    },
    {
     "data": {
      "text/html": [
       "Artist:Immy Brown Title:Her Way Length:428"
      ],
      "text/plain": [
       "Artist:Immy Brown Title:Her Way Length:428"
      ]
     },
     "metadata": {},
     "output_type": "display_data"
    },
    {
     "data": {
      "text/html": [
       "Artist:Immy Brown Title:Milky Way Length:427"
      ],
      "text/plain": [
       "Artist:Immy Brown Title:Milky Way Length:427"
      ]
     },
     "metadata": {},
     "output_type": "display_data"
    }
   ],
   "source": [
    "LISTING_4_29_Musictrack_classes.Program.Main(new string[0]);"
   ]
  }
 ],
 "metadata": {
  "kernelspec": {
   "display_name": "C#",
   "language": "csharp",
   "name": "kernel-spec"
  },
  "language_info": {
   "file_extension": ".cs",
   "mimetype": "text/x-csharp",
   "name": "C#",
   "pygments_lexer": "c#",
   "version": "4.0.30319"
  }
 },
 "nbformat": 4,
 "nbformat_minor": 2
}

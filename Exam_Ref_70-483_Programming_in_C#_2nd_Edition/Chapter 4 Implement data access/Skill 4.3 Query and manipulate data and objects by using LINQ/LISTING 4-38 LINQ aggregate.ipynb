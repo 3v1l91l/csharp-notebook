{
 "cells": [
  {
   "cell_type": "markdown",
   "metadata": {},
   "source": [
    "# Info"
   ]
  },
  {
   "cell_type": "markdown",
   "metadata": {},
   "source": [
    "This example is from\n",
    "* [github.com/ExamRef70-483/Sample-Code](https://github.com/ExamRef70-483/Sample-Code)\n",
    "* [LISTING 4-38 LINQ aggregate](https://github.com/ExamRef70-483/Sample-Code/blob/master/LISTING%204-38%20LINQ%20aggregate/LISTING%204-38%20LINQ%20aggregate/Program.cs)\n",
    "\n",
    "\n",
    "## Remember\n",
    "* Main() is not called automatically. Has to be called manual. Remember '**public**'\n",
    "* Console.ReadKey() should not be used.\n"
   ]
  },
  {
   "cell_type": "code",
   "execution_count": 1,
   "metadata": {},
   "outputs": [],
   "source": [
    "using System;\n",
    "using System.Collections.Generic;\n",
    "using System.Linq;\n",
    "\n",
    "namespace LISTING_4_38_LINQ_aggregate\n",
    "{\n",
    "    class Artist\n",
    "    {\n",
    "        public int ID { get; set; }\n",
    "        public string Name { get; set; }\n",
    "    }\n",
    "\n",
    "    class MusicTrack\n",
    "    {\n",
    "        public int ID { get; set; }\n",
    "        public int ArtistID { get; set; }\n",
    "        public string Title { get; set; }\n",
    "        public int Length { get; set; }\n",
    "    }\n",
    "\n",
    "    class Program\n",
    "    {\n",
    "        static public void Main(string[] args)\n",
    "        {\n",
    "            string[] artistNames = new string[] { \"Rob Miles\", \"Fred Bloggs\", \"The Bloggs Singers\", \"Immy Brown\" };\n",
    "            string[] titleNames = new string[] { \"My Way\", \"Your Way\", \"His Way\", \"Her Way\", \"Milky Way\" };\n",
    "\n",
    "            List<Artist> artists = new List<Artist>();\n",
    "            List<MusicTrack> musicTracks = new List<MusicTrack>();\n",
    "\n",
    "            Random rand = new Random(1);\n",
    "            int IDcount = 0;\n",
    "\n",
    "            foreach (string artistName in artistNames)\n",
    "            {\n",
    "                Artist newArtist = new Artist { ID = IDcount++, Name = artistName };\n",
    "                artists.Add(newArtist);\n",
    "                foreach (string titleName in titleNames)\n",
    "                {\n",
    "                    MusicTrack newTrack = new MusicTrack\n",
    "                    {\n",
    "                        ID = IDcount++,\n",
    "                        ArtistID = newArtist.ID,\n",
    "                        Title = titleName,\n",
    "                        Length = rand.Next(20, 600)\n",
    "                    };\n",
    "                    musicTracks.Add(newTrack);\n",
    "                }\n",
    "            }\n",
    "\n",
    "            var artistSummary = from track in musicTracks\n",
    "                                    join artist in artists on track.ArtistID equals artist.ID\n",
    "                                    group track by artist.Name\n",
    "                                    into artistTrackSummary\n",
    "                                    select new\n",
    "                                    {\n",
    "                                        ID = artistTrackSummary.Key,\n",
    "                                        Length = artistTrackSummary.Sum(x => x.Length)\n",
    "                                    };\n",
    "\n",
    "            foreach (var summary in artistSummary)\n",
    "            {\n",
    "                Console.WriteLine(\"Name:{0}  Total length:{1}\",\n",
    "                    summary.ID, summary.Length);\n",
    "            }\n",
    "            //Console.ReadKey();\n",
    "        }\n",
    "    }\n",
    "}\n"
   ]
  },
  {
   "cell_type": "code",
   "execution_count": 2,
   "metadata": {},
   "outputs": [
    {
     "data": {
      "text/html": [
       "Name:Rob Miles  Total length:1406"
      ],
      "text/plain": [
       "Name:Rob Miles  Total length:1406"
      ]
     },
     "metadata": {},
     "output_type": "display_data"
    },
    {
     "data": {
      "text/html": [
       "Name:Fred Bloggs  Total length:1533"
      ],
      "text/plain": [
       "Name:Fred Bloggs  Total length:1533"
      ]
     },
     "metadata": {},
     "output_type": "display_data"
    },
    {
     "data": {
      "text/html": [
       "Name:The Bloggs Singers  Total length:1413"
      ],
      "text/plain": [
       "Name:The Bloggs Singers  Total length:1413"
      ]
     },
     "metadata": {},
     "output_type": "display_data"
    },
    {
     "data": {
      "text/html": [
       "Name:Immy Brown  Total length:1813"
      ],
      "text/plain": [
       "Name:Immy Brown  Total length:1813"
      ]
     },
     "metadata": {},
     "output_type": "display_data"
    }
   ],
   "source": [
    "LISTING_4_38_LINQ_aggregate.Program.Main(new string[0]);"
   ]
  }
 ],
 "metadata": {
  "kernelspec": {
   "display_name": "C#",
   "language": "csharp",
   "name": "kernel-spec"
  },
  "language_info": {
   "file_extension": ".cs",
   "mimetype": "text/x-csharp",
   "name": "C#",
   "pygments_lexer": "c#",
   "version": "4.0.30319"
  }
 },
 "nbformat": 4,
 "nbformat_minor": 2
}

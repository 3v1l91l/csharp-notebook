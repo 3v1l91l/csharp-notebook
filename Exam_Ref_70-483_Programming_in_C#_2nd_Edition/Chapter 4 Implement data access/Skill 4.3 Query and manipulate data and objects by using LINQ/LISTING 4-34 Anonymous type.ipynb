{
 "cells": [
  {
   "cell_type": "markdown",
   "metadata": {},
   "source": [
    "# Info"
   ]
  },
  {
   "cell_type": "markdown",
   "metadata": {},
   "source": [
    "This example is from\n",
    "* [github.com/ExamRef70-483/Sample-Code](https://github.com/ExamRef70-483/Sample-Code)\n",
    "* [LISTING 4-34 Anonymous type](https://github.com/ExamRef70-483/Sample-Code/blob/master/LISTING%204-34%20Anonymous%20type/LISTING%204-34%20Anonymous%20type/Program.cs)\n",
    "\n",
    "\n",
    "## Remember\n",
    "* Main() is not called automatically. Has to be called manual. Remember '**public**'\n",
    "* Console.ReadKey() should not be used.\n"
   ]
  },
  {
   "cell_type": "code",
   "execution_count": null,
   "metadata": {},
   "outputs": [],
   "source": [
    "using System;\n",
    "using System.Collections.Generic;\n",
    "using System.Linq;\n",
    "\n",
    "namespace LISTING_4_34_Anonymous_type\n",
    "{\n",
    "    class Artist\n",
    "    {\n",
    "        public string Name { get; set; }\n",
    "    }\n",
    "\n",
    "    class MusicTrack\n",
    "    {\n",
    "        public Artist Artist { get; set; }\n",
    "        public string Title { get; set; }\n",
    "        public int Length { get; set; }\n",
    "        public string test { get; set; }\n",
    "    }\n",
    "\n",
    "    class Program\n",
    "    {\n",
    "        static public void Main(string[] args)\n",
    "        {\n",
    "            string[] artistNames = new string[] { \"Rob Miles\", \"Fred Bloggs\", \"The Bloggs Singers\", \"Immy Brown\" };\n",
    "            string[] titleNames = new string[] { \"My Way\", \"Your Way\", \"His Way\", \"Her Way\", \"Milky Way\" };\n",
    "\n",
    "            List<Artist> artists = new List<Artist>();\n",
    "            List<MusicTrack> musicTracks = new List<MusicTrack>();\n",
    "\n",
    "            Random rand = new Random(1);\n",
    "\n",
    "            foreach (string artistName in artistNames)\n",
    "            {\n",
    "                Artist newArtist = new Artist { Name = artistName };\n",
    "                artists.Add(newArtist);\n",
    "                foreach (string titleName in titleNames)\n",
    "                {\n",
    "                    MusicTrack newTrack = new MusicTrack\n",
    "                    {\n",
    "                        Artist = newArtist,\n",
    "                        Title = titleName,\n",
    "                        Length = rand.Next(20, 600)\n",
    "                    };\n",
    "                    musicTracks.Add(newTrack);\n",
    "                }\n",
    "            }\n",
    "\n",
    "            var selectedTracks = from track in musicTracks\n",
    "                                 where track.Artist.Name == \"Rob Miles\"\n",
    "                                 select new\n",
    "                                 {\n",
    "                                     ArtistName = track.Artist.Name,\n",
    "                                     track.Title\n",
    "                                 };\n",
    "\n",
    "            foreach (var item in selectedTracks)\n",
    "            {\n",
    "                Console.WriteLine(\"Artist:{0} Title:{1}\", item.ArtistName, item.Title);\n",
    "            }\n",
    "\n",
    "            //Console.ReadKey();\n",
    "        }\n",
    "    }\n",
    "}\n"
   ]
  },
  {
   "cell_type": "code",
   "execution_count": null,
   "metadata": {},
   "outputs": [],
   "source": [
    "LISTING_4_34_Anonymous_type.Program.Main(new string[0]);"
   ]
  }
 ],
 "metadata": {
  "kernelspec": {
   "display_name": "C#",
   "language": "csharp",
   "name": "kernel-spec"
  },
  "language_info": {
   "file_extension": ".cs",
   "mimetype": "text/x-csharp",
   "name": "C#",
   "pygments_lexer": "c#",
   "version": "4.0.30319"
  }
 },
 "nbformat": 4,
 "nbformat_minor": 2
}

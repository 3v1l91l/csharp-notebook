{
 "cells": [
  {
   "cell_type": "code",
   "execution_count": 1,
   "metadata": {},
   "outputs": [],
   "source": [
    "using System;\n",
    "using System.Threading;\n",
    "using System.Threading.Tasks;\n",
    "\n",
    "namespace Listing_1._1Parallel_Invoke\n",
    "{\n",
    "    class Program\n",
    "    {\n",
    "        static void Task1()\n",
    "        {\n",
    "            Console.WriteLine(\"Task 1 starting\");\n",
    "            Thread.Sleep(2000);\n",
    "            Console.WriteLine(\"Task 1 ending\");\n",
    "        }\n",
    "\n",
    "        static void Task2()\n",
    "        {\n",
    "            Console.WriteLine(\"Task 2 starting\");\n",
    "            Thread.Sleep(1000);\n",
    "            Console.WriteLine(\"Task 2 ending\");\n",
    "        }\n",
    "\n",
    "        static void Main(string[] args)\n",
    "        {\n",
    "            Parallel.Invoke(() => Task1(), () => Task2());\n",
    "            Console.WriteLine(\"Finished processing. Press a key to end.\");\n",
    "            Console.ReadKey();\n",
    "        }\n",
    "    }\n",
    "}"
   ]
  },
  {
   "cell_type": "code",
   "execution_count": null,
   "metadata": {},
   "outputs": [],
   "source": []
  }
 ],
 "metadata": {
  "kernelspec": {
   "display_name": "C#",
   "language": "csharp",
   "name": "kernel-spec"
  },
  "language_info": {
   "file_extension": ".cs",
   "mimetype": "text/x-csharp",
   "name": "C#",
   "pygments_lexer": "c#",
   "version": "4.0.30319"
  }
 },
 "nbformat": 4,
 "nbformat_minor": 2
}

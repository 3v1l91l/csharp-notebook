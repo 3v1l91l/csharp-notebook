{
 "cells": [
  {
   "cell_type": "markdown",
   "metadata": {},
   "source": [
    "Written by Troels Schwarz-Linnet, December 2018 <br>\n",
    "To convert C# code from: https://github.com/ExamRef70-483/Sample-Code.git to Jupyter Notebooks"
   ]
  },
  {
   "cell_type": "code",
   "execution_count": 1,
   "metadata": {},
   "outputs": [],
   "source": [
    "import glob\n",
    "import os\n",
    "import nbformat as nbf\n",
    "from nbconvert.preprocessors import ExecutePreprocessor\n",
    "ep = ExecutePreprocessor(timeout=600, kernel_name='kernel-spec')"
   ]
  },
  {
   "cell_type": "code",
   "execution_count": null,
   "metadata": {},
   "outputs": [],
   "source": [
    "files = glob.glob('../Exam_Ref_70-483_Programming_in_C#_2nd_Edition/*/*/*.ipynb', recursive=True)\n",
    "for f in files:\n",
    "    chapter_nr = f.split('/')[2].split(\" \")[1]\n",
    "    chapter = f.split('/')[2].split(chapter_nr)[1][1:]\n",
    "    skill_nr = f.split('/')[3].split(\" \")[1]\n",
    "    skill = f.split('/')[3].split(skill_nr)[1][1:]\n",
    "    title_nr = f.split('/')[4].split(\" \")[1]\n",
    "    title = f.split('/')[4].split(title_nr)[1][1:].replace(\".ipynb\",\"\")\n",
    "    if chapter_nr in [\"1\", \"2\"]:\n",
    "        print(\"C:%s, S:%s, T:%s %s\"%(chapter_nr, skill_nr, title_nr, title))\n",
    "        nb = nbf.read(f, as_version=4)\n",
    "        outconv = ep.preprocess(nb, {'metadata': {}})\n",
    "        nbf.write(nb, f)"
   ]
  },
  {
   "cell_type": "code",
   "execution_count": null,
   "metadata": {},
   "outputs": [],
   "source": []
  }
 ],
 "metadata": {
  "kernelspec": {
   "display_name": "Python 3",
   "language": "python",
   "name": "python3"
  },
  "language_info": {
   "codemirror_mode": {
    "name": "ipython",
    "version": 3
   },
   "file_extension": ".py",
   "mimetype": "text/x-python",
   "name": "python",
   "nbconvert_exporter": "python",
   "pygments_lexer": "ipython3",
   "version": "3.7.1"
  }
 },
 "nbformat": 4,
 "nbformat_minor": 2
}

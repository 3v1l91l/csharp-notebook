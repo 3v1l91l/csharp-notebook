{
 "cells": [
  {
   "cell_type": "code",
   "execution_count": 2,
   "metadata": {},
   "outputs": [],
   "source": [
    "! pandoc -s --from=docx --to=gfm --wrap=preserve Fundamentals-of-Computer-Programming-with-CSharp-Nakov-eBook-v2013.docx --output=introprogramming.md"
   ]
  },
  {
   "cell_type": "code",
   "execution_count": 4,
   "metadata": {},
   "outputs": [
    {
     "name": "stdout",
     "output_type": "stream",
     "text": [
      "pandoc 2.5\r\n",
      "Compiled with pandoc-types 1.17.5.4, texmath 0.11.1.2, skylighting 0.7.4\r\n",
      "Default user data directory: /home/jovyan/.pandoc\r\n",
      "Copyright (C) 2006-2018 John MacFarlane\r\n",
      "Web:  http://pandoc.org\r\n",
      "This is free software; see the source for copying conditions.\r\n",
      "There is no warranty, not even for merchantability or fitness\r\n",
      "for a particular purpose.\r\n"
     ]
    }
   ],
   "source": [
    "! pandoc -v"
   ]
  },
  {
   "cell_type": "code",
   "execution_count": null,
   "metadata": {},
   "outputs": [],
   "source": []
  }
 ],
 "metadata": {
  "kernelspec": {
   "display_name": "Python 3",
   "language": "python",
   "name": "python3"
  },
  "language_info": {
   "codemirror_mode": {
    "name": "ipython",
    "version": 3
   },
   "file_extension": ".py",
   "mimetype": "text/x-python",
   "name": "python",
   "nbconvert_exporter": "python",
   "pygments_lexer": "ipython3",
   "version": "3.7.1"
  }
 },
 "nbformat": 4,
 "nbformat_minor": 2
}

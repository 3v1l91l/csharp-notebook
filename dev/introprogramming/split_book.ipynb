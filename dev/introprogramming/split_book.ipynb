{
 "cells": [
  {
   "cell_type": "code",
   "execution_count": 1,
   "metadata": {},
   "outputs": [],
   "source": [
    "with open(\"introprogramming.md\", \"r\") as f: lines = f.readlines()"
   ]
  },
  {
   "cell_type": "code",
   "execution_count": 6,
   "metadata": {},
   "outputs": [],
   "source": [
    "chapter = \"# Start\"\n",
    "chapters = [chapter]\n",
    "book = {}\n",
    "for l in lines:\n",
    "    l = l.rstrip()\n",
    "    if l[:2] == \"# \":\n",
    "        chapter = l\n",
    "        chapters.append(chapter)\n",
    "    if chapter not in book:\n",
    "        book[chapter] = []\n",
    "    book[chapter].append(l)"
   ]
  },
  {
   "cell_type": "code",
   "execution_count": 7,
   "metadata": {},
   "outputs": [
    {
     "name": "stdout",
     "output_type": "stream",
     "text": [
      "# Start\n",
      "# Contents\n",
      "# Detailed Table of Contents\n",
      "# Preface\n",
      "# Chapter 1. Introduction\n",
      "# Chapter 2. Primitive\n",
      "# Chapter 3. Operators\n",
      "# Chapter 4. Console\n",
      "# Chapter 5. Conditional Statements\n",
      "# Chapter 6. Loops\n",
      "# Chapter 7. Arrays\n",
      "# Chapter 8. Numeral Systems\n",
      "# Chapter 9. Methods\n",
      "# Chapter 10. Recursion\n",
      "# Chapter 11. Creating\n",
      "# Chapter 12. Exception Handling\n",
      "# Chapter 13. Strings\n",
      "# Chapter 14. Defining Classes\n",
      "# Chapter 15. Text Files\n",
      "# Chapter 16. Linear\n",
      "# Chapter 17. Trees\n",
      "# Chapter 18. Dictionaries, Hash-Tables and Sets\n",
      "# Chapter 19. Data Structures and Algorithm Complexity\n",
      "# Chapter 20. Object-Oriented Programming Principles\n",
      "# Chapter 21. High-Quality Programming Code\n",
      "# Chapter 22. Lambda Expressions and LINQ\n",
      "# Chapter 23. Methodology\n",
      "# Chapter 24. Sample Programming Exam –\n",
      "# Chapter 25. Sample Programming Exam –\n",
      "# Chapter 26. Sample Programming Exam –\n",
      "# Conclusion\n"
     ]
    }
   ],
   "source": [
    "for chapter in chapters:\n",
    "    print(chapter)"
   ]
  },
  {
   "cell_type": "code",
   "execution_count": 8,
   "metadata": {},
   "outputs": [
    {
     "name": "stdout",
     "output_type": "stream",
     "text": [
      "dict_keys(['# Start', '# Contents', '# Detailed Table of Contents', '# Preface', '# Chapter 1. Introduction', '# Chapter 2. Primitive', '# Chapter 3. Operators', '# Chapter 4. Console', '# Chapter 5. Conditional Statements', '# Chapter 6. Loops', '# Chapter 7. Arrays', '# Chapter 8. Numeral Systems', '# Chapter 9. Methods', '# Chapter 10. Recursion', '# Chapter 11. Creating', '# Chapter 12. Exception Handling', '# Chapter 13. Strings', '# Chapter 14. Defining Classes', '# Chapter 15. Text Files', '# Chapter 16. Linear', '# Chapter 17. Trees', '# Chapter 18. Dictionaries, Hash-Tables and Sets', '# Chapter 19. Data Structures and Algorithm Complexity', '# Chapter 20. Object-Oriented Programming Principles', '# Chapter 21. High-Quality Programming Code', '# Chapter 22. Lambda Expressions and LINQ', '# Chapter 23. Methodology', '# Chapter 24. Sample Programming Exam –', '# Chapter 25. Sample Programming Exam –', '# Chapter 26. Sample Programming Exam –', '# Conclusion'])\n"
     ]
    }
   ],
   "source": [
    "print(book.keys())"
   ]
  },
  {
   "cell_type": "code",
   "execution_count": 18,
   "metadata": {},
   "outputs": [
    {
     "name": "stdout",
     "output_type": "stream",
     "text": [
      "00_Start.md\n",
      "01_Contents.md\n",
      "02_Detailed_Table_of_Contents.md\n",
      "03_Preface.md\n",
      "04_Chapter_1_Introduction.md\n",
      "05_Chapter_2_Primitive.md\n",
      "06_Chapter_3_Operators.md\n",
      "07_Chapter_4_Console.md\n",
      "08_Chapter_5_Conditional_Statements.md\n",
      "09_Chapter_6_Loops.md\n",
      "10_Chapter_7_Arrays.md\n",
      "11_Chapter_8_Numeral_Systems.md\n",
      "12_Chapter_9_Methods.md\n",
      "13_Chapter_10_Recursion.md\n",
      "14_Chapter_11_Creating.md\n",
      "15_Chapter_12_Exception_Handling.md\n",
      "16_Chapter_13_Strings.md\n",
      "17_Chapter_14_Defining_Classes.md\n",
      "18_Chapter_15_Text_Files.md\n",
      "19_Chapter_16_Linear.md\n",
      "20_Chapter_17_Trees.md\n",
      "21_Chapter_18_Dictionaries,_Hash-Tables_and_Sets.md\n",
      "22_Chapter_19_Data_Structures_and_Algorithm_Complexity.md\n",
      "23_Chapter_20_Object-Oriented_Programming_Principles.md\n",
      "24_Chapter_21_High-Quality_Programming_Code.md\n",
      "25_Chapter_22_Lambda_Expressions_and_LINQ.md\n",
      "26_Chapter_23_Methodology.md\n",
      "27_Chapter_24_Sample_Programming_Exam_–.md\n",
      "28_Chapter_25_Sample_Programming_Exam_–.md\n",
      "29_Chapter_26_Sample_Programming_Exam_–.md\n",
      "30_Conclusion.md\n"
     ]
    }
   ],
   "source": [
    "for i, chapter in enumerate(chapters):\n",
    "    nr = \"%02d \"%i\n",
    "    fname = chapter.replace(\"# \", nr).replace(\".\",\"\").replace(\" \",\"_\")+\".md\"\n",
    "    f = open(fname, \"w\")\n",
    "    chapter_text = book[chapter]\n",
    "    for l in chapter_text:\n",
    "        f.write(l + \"\\n\")\n",
    "    print(fname)\n",
    "    f.close()"
   ]
  },
  {
   "cell_type": "code",
   "execution_count": null,
   "metadata": {},
   "outputs": [],
   "source": []
  }
 ],
 "metadata": {
  "kernelspec": {
   "display_name": "Python 3",
   "language": "python",
   "name": "python3"
  },
  "language_info": {
   "codemirror_mode": {
    "name": "ipython",
    "version": 3
   },
   "file_extension": ".py",
   "mimetype": "text/x-python",
   "name": "python",
   "nbconvert_exporter": "python",
   "pygments_lexer": "ipython3",
   "version": "3.7.1"
  }
 },
 "nbformat": 4,
 "nbformat_minor": 2
}
